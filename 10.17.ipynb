{
 "cells": [
  {
   "cell_type": "markdown",
   "id": "c66cf3ff-4cda-4a4a-82d8-c38cb26d6603",
   "metadata": {},
   "source": [
    "- 숫자형\n",
    "- 문자형\n",
    "- bool(true/false)"
   ]
  },
  {
   "cell_type": "code",
   "execution_count": 29,
   "id": "a03031da-740d-4b60-9a63-4424b8df692e",
   "metadata": {},
   "outputs": [],
   "source": [
    "# 숫자형"
   ]
  },
  {
   "cell_type": "code",
   "execution_count": 30,
   "id": "a19d2b6e-1d7a-4605-98ae-efa43f9c3d50",
   "metadata": {},
   "outputs": [],
   "source": [
    "num1 = 123 #int"
   ]
  },
  {
   "cell_type": "code",
   "execution_count": 31,
   "id": "f667dbdc-aca6-425f-8afd-834824b82c9c",
   "metadata": {},
   "outputs": [],
   "source": [
    "num2 = 1.1 #float"
   ]
  },
  {
   "cell_type": "code",
   "execution_count": 32,
   "id": "470a6667-578f-4c66-92dc-c23bf3e2c323",
   "metadata": {},
   "outputs": [
    {
     "data": {
      "text/plain": [
       "float"
      ]
     },
     "execution_count": 32,
     "metadata": {},
     "output_type": "execute_result"
    }
   ],
   "source": [
    "type(num2)"
   ]
  },
  {
   "cell_type": "code",
   "execution_count": 33,
   "id": "82c2cbd4-cae9-4320-8340-149307b2a52f",
   "metadata": {},
   "outputs": [
    {
     "data": {
      "text/plain": [
       "int"
      ]
     },
     "execution_count": 33,
     "metadata": {},
     "output_type": "execute_result"
    }
   ],
   "source": [
    "type(num1)"
   ]
  },
  {
   "cell_type": "code",
   "execution_count": 34,
   "id": "2e57bd70-f543-4eb0-a26b-cbdfd799172e",
   "metadata": {},
   "outputs": [
    {
     "data": {
      "text/plain": [
       "300"
      ]
     },
     "execution_count": 34,
     "metadata": {},
     "output_type": "execute_result"
    }
   ],
   "source": [
    "100+200"
   ]
  },
  {
   "cell_type": "code",
   "execution_count": 35,
   "id": "e7fd20b7-883f-4aec-a44e-6ae687c0202f",
   "metadata": {},
   "outputs": [
    {
     "data": {
      "text/plain": [
       "80"
      ]
     },
     "execution_count": 35,
     "metadata": {},
     "output_type": "execute_result"
    }
   ],
   "source": [
    "200-120"
   ]
  },
  {
   "cell_type": "code",
   "execution_count": 36,
   "id": "e5b8709b-887e-4fd6-8d18-7034c7d21f23",
   "metadata": {},
   "outputs": [
    {
     "data": {
      "text/plain": [
       "200"
      ]
     },
     "execution_count": 36,
     "metadata": {},
     "output_type": "execute_result"
    }
   ],
   "source": [
    "10*20"
   ]
  },
  {
   "cell_type": "code",
   "execution_count": 37,
   "id": "aab23ef8-7612-4949-a3ba-549e7ffc85da",
   "metadata": {},
   "outputs": [
    {
     "data": {
      "text/plain": [
       "50.0"
      ]
     },
     "execution_count": 37,
     "metadata": {},
     "output_type": "execute_result"
    }
   ],
   "source": [
    "100/2"
   ]
  },
  {
   "cell_type": "code",
   "execution_count": 38,
   "id": "d3e4647b-3477-4b2e-822d-8e6bc4b6bbb9",
   "metadata": {},
   "outputs": [
    {
     "data": {
      "text/plain": [
       "1"
      ]
     },
     "execution_count": 38,
     "metadata": {},
     "output_type": "execute_result"
    }
   ],
   "source": [
    "#나머지\n",
    "79%2"
   ]
  },
  {
   "cell_type": "code",
   "execution_count": 39,
   "id": "cf2e758e-42d1-45e3-8622-a6943a8573cb",
   "metadata": {},
   "outputs": [
    {
     "ename": "NameError",
     "evalue": "name '몫' is not defined",
     "output_type": "error",
     "traceback": [
      "\u001b[1;31m---------------------------------------------------------------------------\u001b[0m",
      "\u001b[1;31mNameError\u001b[0m                                 Traceback (most recent call last)",
      "Cell \u001b[1;32mIn[39], line 1\u001b[0m\n\u001b[1;32m----> 1\u001b[0m 몫\n\u001b[0;32m      2\u001b[0m \u001b[39m100\u001b[39m\u001b[39m/\u001b[39m\u001b[39m/\u001b[39m\u001b[39m2\u001b[39m\n",
      "\u001b[1;31mNameError\u001b[0m: name '몫' is not defined"
     ]
    }
   ],
   "source": [
    "몫\n",
    "100//2"
   ]
  },
  {
   "cell_type": "code",
   "execution_count": null,
   "id": "8645d919-522b-49da-b4b7-4b7e4cee826c",
   "metadata": {},
   "outputs": [
    {
     "data": {
      "text/plain": [
       "8"
      ]
     },
     "execution_count": 18,
     "metadata": {},
     "output_type": "execute_result"
    }
   ],
   "source": [
    "2**3"
   ]
  },
  {
   "cell_type": "code",
   "execution_count": null,
   "id": "64175f35-d8b8-4ecc-815f-f653fa406b57",
   "metadata": {},
   "outputs": [
    {
     "ename": "ZeroDivisionError",
     "evalue": "division by zero",
     "output_type": "error",
     "traceback": [
      "\u001b[1;31m---------------------------------------------------------------------------\u001b[0m",
      "\u001b[1;31mZeroDivisionError\u001b[0m                         Traceback (most recent call last)",
      "Input \u001b[1;32mIn [19]\u001b[0m, in \u001b[0;36m<cell line: 1>\u001b[1;34m()\u001b[0m\n\u001b[1;32m----> 1\u001b[0m \u001b[38;5;241;43m5\u001b[39;49m\u001b[38;5;241;43m/\u001b[39;49m\u001b[38;5;241;43m0\u001b[39;49m\n",
      "\u001b[1;31mZeroDivisionError\u001b[0m: division by zero"
     ]
    }
   ],
   "source": [
    "5/0"
   ]
  },
  {
   "cell_type": "code",
   "execution_count": null,
   "id": "705f8a92-b943-4dce-8077-0149af2cd718",
   "metadata": {},
   "outputs": [
    {
     "data": {
      "text/plain": [
       "27"
      ]
     },
     "execution_count": 20,
     "metadata": {},
     "output_type": "execute_result"
    }
   ],
   "source": [
    "3**3"
   ]
  },
  {
   "cell_type": "code",
   "execution_count": null,
   "id": "572bf742-328f-4e64-8bee-64e9e2ad3185",
   "metadata": {},
   "outputs": [
    {
     "data": {
      "text/plain": [
       "(57, 84, 93, 67)"
      ]
     },
     "execution_count": 21,
     "metadata": {},
     "output_type": "execute_result"
    }
   ],
   "source": [
    "57,84,93,67"
   ]
  },
  {
   "cell_type": "code",
   "execution_count": null,
   "id": "22c96202-cae9-431b-b128-46a2b7602f40",
   "metadata": {},
   "outputs": [
    {
     "data": {
      "text/plain": [
       "71.8"
      ]
     },
     "execution_count": 28,
     "metadata": {},
     "output_type": "execute_result"
    }
   ],
   "source": [
    "(57+84+93+58+67)/5"
   ]
  },
  {
   "cell_type": "code",
   "execution_count": null,
   "id": "f5dcf7b8-ea9a-4eb3-b61c-7f6c828c1e79",
   "metadata": {},
   "outputs": [
    {
     "data": {
      "text/plain": [
       "181092942889747057356671886482"
      ]
     },
     "execution_count": 31,
     "metadata": {},
     "output_type": "execute_result"
    }
   ],
   "source": [
    "(2**100//7)"
   ]
  },
  {
   "cell_type": "code",
   "execution_count": null,
   "id": "8757c19d-e07a-4633-bd3f-2b9a8f140f24",
   "metadata": {},
   "outputs": [
    {
     "data": {
      "text/plain": [
       "2"
      ]
     },
     "execution_count": 34,
     "metadata": {},
     "output_type": "execute_result"
    }
   ],
   "source": [
    "(2**100%7)"
   ]
  },
  {
   "cell_type": "code",
   "execution_count": null,
   "id": "5910d6bd-5452-4832-ad7d-76e12492bc96",
   "metadata": {},
   "outputs": [
    {
     "data": {
      "text/plain": [
       "1441"
      ]
     },
     "execution_count": 45,
     "metadata": {},
     "output_type": "execute_result"
    }
   ],
   "source": [
    "(5188531//3600)"
   ]
  },
  {
   "cell_type": "code",
   "execution_count": null,
   "id": "a348f60f-bcf7-4092-bfe9-7d6a9de6d840",
   "metadata": {},
   "outputs": [
    {
     "ename": "NameError",
     "evalue": "name '문자열' is not defined",
     "output_type": "error",
     "traceback": [
      "\u001b[1;31m---------------------------------------------------------------------------\u001b[0m",
      "\u001b[1;31mNameError\u001b[0m                                 Traceback (most recent call last)",
      "Cell \u001b[1;32mIn[1], line 1\u001b[0m\n\u001b[1;32m----> 1\u001b[0m 문자열\n",
      "\u001b[1;31mNameError\u001b[0m: name '문자열' is not defined"
     ]
    }
   ],
   "source": [
    "문자열"
   ]
  },
  {
   "cell_type": "code",
   "execution_count": null,
   "id": "f4e3fa98-5ed7-406c-a4b6-7ea1dc1984e2",
   "metadata": {},
   "outputs": [
    {
     "data": {
      "text/plain": [
       "'문자열'"
      ]
     },
     "execution_count": 2,
     "metadata": {},
     "output_type": "execute_result"
    }
   ],
   "source": [
    "\"문자열\""
   ]
  },
  {
   "cell_type": "code",
   "execution_count": null,
   "id": "3237e742-ba78-4f66-a973-e2710d883c34",
   "metadata": {},
   "outputs": [
    {
     "name": "stdout",
     "output_type": "stream",
     "text": [
      "I\\M SANGHYUN\n",
      "i\\m Sanghyeon\n"
     ]
    }
   ],
   "source": [
    "print('I\\M SANGHYUN')\n",
    "print('i\\\\m Sanghyeon')"
   ]
  },
  {
   "cell_type": "code",
   "execution_count": null,
   "id": "283f74ea-51a3-4b1f-bab3-f3e429caf28a",
   "metadata": {},
   "outputs": [
    {
     "name": "stdout",
     "output_type": "stream",
     "text": [
      "hello \n",
      "world\n",
      "hellow \n",
      " world\n"
     ]
    }
   ],
   "source": [
    "print('hello \\nworld')\n",
    "print('hellow \\n world')"
   ]
  },
  {
   "cell_type": "code",
   "execution_count": null,
   "id": "889ad9b1-f442-497a-af3b-464f5d6b6075",
   "metadata": {},
   "outputs": [
    {
     "name": "stdout",
     "output_type": "stream",
     "text": [
      "hello world\n",
      "hello python\n",
      "hello world\n",
      "    hello python\n"
     ]
    }
   ],
   "source": [
    "print('''hello world\n",
    "hello python''')\n",
    "print('''hello world\n",
    "    hello python''')"
   ]
  },
  {
   "cell_type": "code",
   "execution_count": null,
   "id": "e89db4e3-f86a-4aab-8a96-d566cb1c20ea",
   "metadata": {},
   "outputs": [],
   "source": [
    "a= 'hello'\n",
    "b=' python!'"
   ]
  },
  {
   "cell_type": "code",
   "execution_count": null,
   "id": "e1fd5429-b938-4e42-bf05-6aa045381897",
   "metadata": {},
   "outputs": [
    {
     "data": {
      "text/plain": [
       "'hello python!'"
      ]
     },
     "execution_count": 16,
     "metadata": {},
     "output_type": "execute_result"
    }
   ],
   "source": [
    "a+b"
   ]
  },
  {
   "cell_type": "code",
   "execution_count": null,
   "id": "340cb122-f580-4fab-bca6-73d98109fa4a",
   "metadata": {},
   "outputs": [
    {
     "name": "stdout",
     "output_type": "stream",
     "text": [
      "hello python!hello python!hello python!\n"
     ]
    }
   ],
   "source": [
    "print('hello python!'*3)"
   ]
  },
  {
   "cell_type": "code",
   "execution_count": null,
   "id": "1f9ec8e1-e9a4-4a3a-a3d8-3cba043838d3",
   "metadata": {},
   "outputs": [],
   "source": [
    "c=1"
   ]
  },
  {
   "cell_type": "code",
   "execution_count": null,
   "id": "957ef297-839b-4724-91c0-36c60f1e1ec9",
   "metadata": {},
   "outputs": [
    {
     "data": {
      "text/plain": [
       "'hello python!1'"
      ]
     },
     "execution_count": 19,
     "metadata": {},
     "output_type": "execute_result"
    }
   ],
   "source": [
    "a+b+str(c)"
   ]
  },
  {
   "cell_type": "code",
   "execution_count": null,
   "id": "e8cb73d0-a187-46e5-9a69-27e932d37dcc",
   "metadata": {},
   "outputs": [
    {
     "name": "stdout",
     "output_type": "stream",
     "text": [
      "hello python! 1\n"
     ]
    }
   ],
   "source": [
    "print(a+b,c)"
   ]
  },
  {
   "cell_type": "code",
   "execution_count": null,
   "id": "363acce4-3ba3-4a12-8c26-7a0a5b2883b1",
   "metadata": {},
   "outputs": [],
   "source": [
    "###문자열 인덱싱(앞에서는 0부터 뒤에서는 -1부터)과 슬라이싱"
   ]
  },
  {
   "cell_type": "code",
   "execution_count": null,
   "id": "f8afe344-5729-4289-aae6-32a06a86512c",
   "metadata": {},
   "outputs": [],
   "source": [
    "t=('hello Sesac!')"
   ]
  },
  {
   "cell_type": "code",
   "execution_count": null,
   "id": "9b86478f-a49a-4b3a-b4bd-297a979e1c2e",
   "metadata": {},
   "outputs": [
    {
     "data": {
      "text/plain": [
       "'h'"
      ]
     },
     "execution_count": 77,
     "metadata": {},
     "output_type": "execute_result"
    }
   ],
   "source": [
    "t[0]"
   ]
  },
  {
   "cell_type": "code",
   "execution_count": null,
   "id": "b58729ea-17f4-4b17-9567-73c98c811e6e",
   "metadata": {},
   "outputs": [
    {
     "data": {
      "text/plain": [
       "12"
      ]
     },
     "execution_count": 78,
     "metadata": {},
     "output_type": "execute_result"
    }
   ],
   "source": [
    "len(t)"
   ]
  },
  {
   "cell_type": "code",
   "execution_count": null,
   "id": "92340c1b-0ca3-437b-9254-297694d78b24",
   "metadata": {},
   "outputs": [
    {
     "data": {
      "text/plain": [
       "'!'"
      ]
     },
     "execution_count": 79,
     "metadata": {},
     "output_type": "execute_result"
    }
   ],
   "source": [
    "t[11]"
   ]
  },
  {
   "cell_type": "code",
   "execution_count": null,
   "id": "b4c48959-9895-41fc-9eda-1ae0359c7e92",
   "metadata": {},
   "outputs": [
    {
     "data": {
      "text/plain": [
       "'!'"
      ]
     },
     "execution_count": 80,
     "metadata": {},
     "output_type": "execute_result"
    }
   ],
   "source": [
    "t[-1]"
   ]
  },
  {
   "cell_type": "code",
   "execution_count": null,
   "id": "549421ee-d92e-4bfc-a63d-070ef0302a21",
   "metadata": {},
   "outputs": [
    {
     "data": {
      "text/plain": [
       "'Sesac'"
      ]
     },
     "execution_count": 83,
     "metadata": {},
     "output_type": "execute_result"
    }
   ],
   "source": [
    "t[6:11]"
   ]
  },
  {
   "cell_type": "code",
   "execution_count": null,
   "id": "9913afe8-7189-4057-b661-61b24734d863",
   "metadata": {},
   "outputs": [
    {
     "data": {
      "text/plain": [
       "'Sesac!'"
      ]
     },
     "execution_count": 84,
     "metadata": {},
     "output_type": "execute_result"
    }
   ],
   "source": [
    "t[6:]"
   ]
  },
  {
   "cell_type": "code",
   "execution_count": null,
   "id": "86ae40db-3fcb-4320-95d1-95728ef09861",
   "metadata": {},
   "outputs": [
    {
     "data": {
      "text/plain": [
       "'hello'"
      ]
     },
     "execution_count": 85,
     "metadata": {},
     "output_type": "execute_result"
    }
   ],
   "source": [
    "t[:5]"
   ]
  },
  {
   "cell_type": "code",
   "execution_count": null,
   "id": "b45f4c6e-7f26-4f6f-b392-bd8111df8a5a",
   "metadata": {},
   "outputs": [
    {
     "data": {
      "text/plain": [
       "'hello Sesac!'"
      ]
     },
     "execution_count": 86,
     "metadata": {},
     "output_type": "execute_result"
    }
   ],
   "source": [
    "t[:]"
   ]
  },
  {
   "cell_type": "code",
   "execution_count": null,
   "id": "58c247ad-6da8-4002-8923-64aea09c568a",
   "metadata": {},
   "outputs": [
    {
     "data": {
      "text/plain": [
       "' Sesac'"
      ]
     },
     "execution_count": 87,
     "metadata": {},
     "output_type": "execute_result"
    }
   ],
   "source": [
    "t[5:-1]"
   ]
  },
  {
   "cell_type": "code",
   "execution_count": null,
   "id": "11e82490-d28e-4e12-b313-ee780921e4b6",
   "metadata": {},
   "outputs": [
    {
     "data": {
      "text/plain": [
       "'Sesac'"
      ]
     },
     "execution_count": 88,
     "metadata": {},
     "output_type": "execute_result"
    }
   ],
   "source": [
    "t[-6:-1]"
   ]
  },
  {
   "cell_type": "markdown",
   "id": "7279c3eb-ec7b-4636-a459-bd1302a15e92",
   "metadata": {},
   "source": [
    "##문자열 관련 함수"
   ]
  },
  {
   "cell_type": "code",
   "execution_count": null,
   "id": "c07f3901-39c4-4f51-a53a-85de5752a634",
   "metadata": {},
   "outputs": [],
   "source": [
    "##count\n",
    "#갯수 세기"
   ]
  },
  {
   "cell_type": "code",
   "execution_count": 41,
   "id": "8156ae09-3c47-433e-991f-bb1171996240",
   "metadata": {},
   "outputs": [],
   "source": [
    "name='kimleechoileelee'"
   ]
  },
  {
   "cell_type": "code",
   "execution_count": 42,
   "id": "e99b4477-a012-4593-ac1a-1f68e18329ce",
   "metadata": {},
   "outputs": [
    {
     "data": {
      "text/plain": [
       "3"
      ]
     },
     "execution_count": 42,
     "metadata": {},
     "output_type": "execute_result"
    }
   ],
   "source": [
    "name.count('lee')"
   ]
  },
  {
   "cell_type": "code",
   "execution_count": 43,
   "id": "3cf75497-1d0b-40f6-8e5d-ee4becf10937",
   "metadata": {},
   "outputs": [
    {
     "data": {
      "text/plain": [
       "6"
      ]
     },
     "execution_count": 43,
     "metadata": {},
     "output_type": "execute_result"
    }
   ],
   "source": [
    "name.count('e')"
   ]
  },
  {
   "cell_type": "code",
   "execution_count": 44,
   "id": "b2741907-46d5-4493-8310-e39121a2684a",
   "metadata": {},
   "outputs": [
    {
     "data": {
      "text/plain": [
       "6"
      ]
     },
     "execution_count": 44,
     "metadata": {},
     "output_type": "execute_result"
    }
   ],
   "source": [
    "name.find('choi')"
   ]
  },
  {
   "cell_type": "code",
   "execution_count": 45,
   "id": "307e9d85-fa22-4e4e-91fe-555f28bbbe6a",
   "metadata": {},
   "outputs": [
    {
     "data": {
      "text/plain": [
       "-1"
      ]
     },
     "execution_count": 45,
     "metadata": {},
     "output_type": "execute_result"
    }
   ],
   "source": [
    "#없을 시에는 -1이 나온다.\n",
    "name.find('kang')"
   ]
  },
  {
   "cell_type": "code",
   "execution_count": 46,
   "id": "848cebf2-4bc6-4308-a972-5b57ba74c25d",
   "metadata": {},
   "outputs": [
    {
     "ename": "ValueError",
     "evalue": "substring not found",
     "output_type": "error",
     "traceback": [
      "\u001b[1;31m---------------------------------------------------------------------------\u001b[0m",
      "\u001b[1;31mValueError\u001b[0m                                Traceback (most recent call last)",
      "Cell \u001b[1;32mIn[46], line 1\u001b[0m\n\u001b[1;32m----> 1\u001b[0m name\u001b[39m.\u001b[39;49mindex(\u001b[39m'\u001b[39;49m\u001b[39mkwon\u001b[39;49m\u001b[39m'\u001b[39;49m)\n",
      "\u001b[1;31mValueError\u001b[0m: substring not found"
     ]
    }
   ],
   "source": [
    "#없을 시에는 에러가 난다(substring not found)\n",
    "name.index('kwon')"
   ]
  },
  {
   "cell_type": "markdown",
   "id": "d309e953-afcd-44cb-895e-ce123a486a1a",
   "metadata": {},
   "source": [
    "join\n"
   ]
  },
  {
   "cell_type": "code",
   "execution_count": 109,
   "id": "251ad018-056d-4b22-9e88-8d9f481316c2",
   "metadata": {},
   "outputs": [
    {
     "data": {
      "text/plain": [
       "'1-2-3-4-5'"
      ]
     },
     "execution_count": 109,
     "metadata": {},
     "output_type": "execute_result"
    }
   ],
   "source": [
    "'-'.join('12345')"
   ]
  },
  {
   "cell_type": "code",
   "execution_count": 112,
   "id": "30e84b19-f481-406c-b43c-ad6d88ae889b",
   "metadata": {},
   "outputs": [
    {
     "data": {
      "text/plain": [
       "'a#b#c#d#e#f'"
      ]
     },
     "execution_count": 112,
     "metadata": {},
     "output_type": "execute_result"
    }
   ],
   "source": [
    "'#'.join('abcdef')"
   ]
  },
  {
   "cell_type": "markdown",
   "id": "ba64c755-a968-4089-8e4b-0f6ea9c8c13a",
   "metadata": {},
   "source": [
    "대소문자 upper lower"
   ]
  },
  {
   "cell_type": "code",
   "execution_count": 113,
   "id": "2befd51d-170f-4796-829b-295926c1802f",
   "metadata": {},
   "outputs": [],
   "source": [
    "msg='This is my Phone'"
   ]
  },
  {
   "cell_type": "code",
   "execution_count": 114,
   "id": "b620d74c-1a34-44f5-b85a-c8aaa5e1c694",
   "metadata": {},
   "outputs": [
    {
     "data": {
      "text/plain": [
       "'this is my phone'"
      ]
     },
     "execution_count": 114,
     "metadata": {},
     "output_type": "execute_result"
    }
   ],
   "source": [
    "msg.lower()"
   ]
  },
  {
   "cell_type": "code",
   "execution_count": 115,
   "id": "10fc3c39-25e6-456a-9a58-ef11d63f72e6",
   "metadata": {},
   "outputs": [
    {
     "data": {
      "text/plain": [
       "11"
      ]
     },
     "execution_count": 115,
     "metadata": {},
     "output_type": "execute_result"
    }
   ],
   "source": [
    "msg.lower().find('phone')"
   ]
  },
  {
   "cell_type": "code",
   "execution_count": 116,
   "id": "c9fcc058-9eec-405e-a339-e6576ec3f0fb",
   "metadata": {},
   "outputs": [
    {
     "data": {
      "text/plain": [
       "'THIS IS MY PHONE'"
      ]
     },
     "execution_count": 116,
     "metadata": {},
     "output_type": "execute_result"
    }
   ],
   "source": [
    "msg.upper()"
   ]
  },
  {
   "cell_type": "markdown",
   "id": "c7c55273-134d-4a5f-b94b-edba9d631b3c",
   "metadata": {},
   "source": [
    "* 스트립\n",
    "* strip\n",
    "* lstrip\n",
    "* rstrip"
   ]
  },
  {
   "cell_type": "code",
   "execution_count": 121,
   "id": "c25e95a9-4f7f-4491-a8ba-e930abe7a71e",
   "metadata": {},
   "outputs": [],
   "source": [
    "msg= '         This is my Phone          '"
   ]
  },
  {
   "cell_type": "code",
   "execution_count": 122,
   "id": "4591b2bb-872c-459f-a3dd-d5fefb341d77",
   "metadata": {},
   "outputs": [
    {
     "data": {
      "text/plain": [
       "'This is my Phone'"
      ]
     },
     "execution_count": 122,
     "metadata": {},
     "output_type": "execute_result"
    }
   ],
   "source": [
    "msg.strip()"
   ]
  },
  {
   "cell_type": "code",
   "execution_count": 123,
   "id": "1afdc740-21bb-4270-9613-f626d6e7eaeb",
   "metadata": {},
   "outputs": [
    {
     "data": {
      "text/plain": [
       "'This is my Phone          '"
      ]
     },
     "execution_count": 123,
     "metadata": {},
     "output_type": "execute_result"
    }
   ],
   "source": [
    "msg.lstrip()"
   ]
  },
  {
   "cell_type": "code",
   "execution_count": 124,
   "id": "1a6d72b2-5bbc-4827-bb86-72b0f9ca3b58",
   "metadata": {},
   "outputs": [
    {
     "data": {
      "text/plain": [
       "'         This is my Phone'"
      ]
     },
     "execution_count": 124,
     "metadata": {},
     "output_type": "execute_result"
    }
   ],
   "source": [
    "msg.rstrip()"
   ]
  },
  {
   "cell_type": "code",
   "execution_count": 182,
   "id": "af02e041-f464-4a89-86ec-ef978e8d8973",
   "metadata": {},
   "outputs": [],
   "source": [
    "msg=msg.strip()"
   ]
  },
  {
   "cell_type": "code",
   "execution_count": 126,
   "id": "15b488f5-3a6e-4d1a-b19a-5dd2d3aa0a3b",
   "metadata": {},
   "outputs": [],
   "source": [
    "#replace"
   ]
  },
  {
   "cell_type": "code",
   "execution_count": 127,
   "id": "8f7078ac-0ccc-4dbe-8c58-7dc433310c2a",
   "metadata": {},
   "outputs": [
    {
     "data": {
      "text/plain": [
       "'This is my Phone'"
      ]
     },
     "execution_count": 127,
     "metadata": {},
     "output_type": "execute_result"
    }
   ],
   "source": [
    "msg"
   ]
  },
  {
   "cell_type": "code",
   "execution_count": 128,
   "id": "16ca437d-f8b0-4858-8c0b-5a44033de9c5",
   "metadata": {},
   "outputs": [
    {
     "data": {
      "text/plain": [
       "'This is your Phone'"
      ]
     },
     "execution_count": 128,
     "metadata": {},
     "output_type": "execute_result"
    }
   ],
   "source": [
    "msg.replace('my','your')"
   ]
  },
  {
   "cell_type": "code",
   "execution_count": 129,
   "id": "d2c0e324-e769-43bf-9033-2010f926811c",
   "metadata": {},
   "outputs": [
    {
     "data": {
      "text/plain": [
       "'ThisismyPhone'"
      ]
     },
     "execution_count": 129,
     "metadata": {},
     "output_type": "execute_result"
    }
   ],
   "source": [
    "msg.replace(' ','')"
   ]
  },
  {
   "cell_type": "code",
   "execution_count": 130,
   "id": "fc26dd7b-1c3d-448b-9367-689791b0e704",
   "metadata": {},
   "outputs": [
    {
     "data": {
      "text/plain": [
       "'This is my Phone'"
      ]
     },
     "execution_count": 130,
     "metadata": {},
     "output_type": "execute_result"
    }
   ],
   "source": [
    "msg"
   ]
  },
  {
   "cell_type": "code",
   "execution_count": 138,
   "id": "5bae8dd5-1061-477b-8751-98e9b9f0bb14",
   "metadata": {},
   "outputs": [],
   "source": [
    "#스플릿"
   ]
  },
  {
   "cell_type": "code",
   "execution_count": 135,
   "id": "8ff71648-34b7-416e-9a96-c2c41d62ff49",
   "metadata": {},
   "outputs": [
    {
     "data": {
      "text/plain": [
       "['This', 'is', 'my', 'Phone']"
      ]
     },
     "execution_count": 135,
     "metadata": {},
     "output_type": "execute_result"
    }
   ],
   "source": [
    "msg.split(' ')"
   ]
  },
  {
   "cell_type": "code",
   "execution_count": 136,
   "id": "57b539c1-9d45-4786-bd16-83d681892f26",
   "metadata": {},
   "outputs": [
    {
     "data": {
      "text/plain": [
       "['010', '1234', '5678']"
      ]
     },
     "execution_count": 136,
     "metadata": {},
     "output_type": "execute_result"
    }
   ],
   "source": [
    "'010-1234-5678'.split('-')"
   ]
  },
  {
   "cell_type": "code",
   "execution_count": null,
   "id": "f348eba8-4bc4-4332-8c44-d948505ca2e2",
   "metadata": {},
   "outputs": [],
   "source": []
  },
  {
   "cell_type": "code",
   "execution_count": 137,
   "id": "f001b3ee-0807-432d-98a2-d8f475383b8c",
   "metadata": {},
   "outputs": [
    {
     "data": {
      "text/plain": [
       "'5678'"
      ]
     },
     "execution_count": 137,
     "metadata": {},
     "output_type": "execute_result"
    }
   ],
   "source": [
    "'010-1234-5678'.split('-')[2]"
   ]
  },
  {
   "cell_type": "code",
   "execution_count": null,
   "id": "8998d48a-0022-411d-b1bb-ea7eaeda789c",
   "metadata": {},
   "outputs": [],
   "source": [
    "###퀴즈"
   ]
  },
  {
   "cell_type": "code",
   "execution_count": null,
   "id": "2108a0da-dd56-4685-97d2-0032151b2148",
   "metadata": {},
   "outputs": [],
   "source": [
    "900101-1234567인 주민등록번호에서 성별을 나나태는 숫자만 인덱싱하시오.\n",
    "900101-1234567인 주민등록번호에서 사람의 나이를 구하세요\n",
    "900101-1234567인 주민등록번호에서 (-)뒤의 숫자전체를 슬라이싱하세요."
   ]
  },
  {
   "cell_type": "code",
   "execution_count": 152,
   "id": "d250e8ec-8973-4131-8579-752b9333476b",
   "metadata": {},
   "outputs": [],
   "source": [
    "jumin='950101-1234567'"
   ]
  },
  {
   "cell_type": "code",
   "execution_count": 148,
   "id": "0c5375e2-c620-4026-9c43-12a3fe089c5a",
   "metadata": {},
   "outputs": [
    {
     "data": {
      "text/plain": [
       "'1'"
      ]
     },
     "execution_count": 148,
     "metadata": {},
     "output_type": "execute_result"
    }
   ],
   "source": [
    "jumin[7]"
   ]
  },
  {
   "cell_type": "code",
   "execution_count": 154,
   "id": "dc83a3a5-d327-4042-b274-201e81408b9a",
   "metadata": {},
   "outputs": [
    {
     "data": {
      "text/plain": [
       "'1'"
      ]
     },
     "execution_count": 154,
     "metadata": {},
     "output_type": "execute_result"
    }
   ],
   "source": [
    "jumin[jumin.find('-')+1]"
   ]
  },
  {
   "cell_type": "code",
   "execution_count": 153,
   "id": "d57b0bec-650b-465a-8707-9ef7b52abddd",
   "metadata": {},
   "outputs": [
    {
     "data": {
      "text/plain": [
       "27"
      ]
     },
     "execution_count": 153,
     "metadata": {},
     "output_type": "execute_result"
    }
   ],
   "source": [
    "122-int(jumin[0:2])"
   ]
  },
  {
   "cell_type": "code",
   "execution_count": 155,
   "id": "349191ea-284d-4d9b-bcf7-bba71ae5425c",
   "metadata": {},
   "outputs": [
    {
     "data": {
      "text/plain": [
       "28"
      ]
     },
     "execution_count": 155,
     "metadata": {},
     "output_type": "execute_result"
    }
   ],
   "source": [
    "2022-int('19'+jumin[:2])+1"
   ]
  },
  {
   "cell_type": "code",
   "execution_count": 147,
   "id": "c04cbe76-927f-455e-8ede-4ea0e0abc03a",
   "metadata": {},
   "outputs": [
    {
     "data": {
      "text/plain": [
       "'1234567'"
      ]
     },
     "execution_count": 147,
     "metadata": {},
     "output_type": "execute_result"
    }
   ],
   "source": [
    "jumin[7:]"
   ]
  },
  {
   "cell_type": "code",
   "execution_count": 159,
   "id": "5fb64ce1-6c23-4792-a7ce-0fe64e4d59f2",
   "metadata": {},
   "outputs": [
    {
     "data": {
      "text/plain": [
       "'1234567'"
      ]
     },
     "execution_count": 159,
     "metadata": {},
     "output_type": "execute_result"
    }
   ],
   "source": [
    "jumin[jumin.find('-')+1:]"
   ]
  },
  {
   "cell_type": "code",
   "execution_count": 161,
   "id": "a919328e-0e9d-4dd1-b871-67c1c514463d",
   "metadata": {},
   "outputs": [
    {
     "data": {
      "text/plain": [
       "['950101', '1234567']"
      ]
     },
     "execution_count": 161,
     "metadata": {},
     "output_type": "execute_result"
    }
   ],
   "source": [
    "jumin.split('-')"
   ]
  },
  {
   "cell_type": "code",
   "execution_count": 162,
   "id": "8480da21-0e15-4b13-b66d-6d36cd9b504e",
   "metadata": {},
   "outputs": [
    {
     "data": {
      "text/plain": [
       "'1234567'"
      ]
     },
     "execution_count": 162,
     "metadata": {},
     "output_type": "execute_result"
    }
   ],
   "source": [
    "jumin.split('-')[1]"
   ]
  },
  {
   "cell_type": "code",
   "execution_count": 163,
   "id": "ae6ce98f-8c2a-4263-99a0-0fe638618727",
   "metadata": {},
   "outputs": [],
   "source": [
    "sex=jumin[jumin.find('-')+1]"
   ]
  },
  {
   "cell_type": "code",
   "execution_count": 164,
   "id": "91aa9e7c-15d0-4c60-ba62-8e0e5c8fe4a2",
   "metadata": {},
   "outputs": [],
   "source": [
    "year=2022"
   ]
  },
  {
   "cell_type": "code",
   "execution_count": 180,
   "id": "997cc312-1c1e-425a-b4cf-3a3a2b225d7b",
   "metadata": {},
   "outputs": [
    {
     "ename": "SyntaxError",
     "evalue": "invalid syntax (3630014933.py, line 1)",
     "output_type": "error",
     "traceback": [
      "\u001b[1;36m  Input \u001b[1;32mIn [180]\u001b[1;36m\u001b[0m\n\u001b[1;33m    if sex == '1' or =='2':\u001b[0m\n\u001b[1;37m                     ^\u001b[0m\n\u001b[1;31mSyntaxError\u001b[0m\u001b[1;31m:\u001b[0m invalid syntax\n"
     ]
    }
   ],
   "source": [
    "if sex == '1' or =='2':\n",
    "    print(year- int('19'+jumin(:2)+1)\n",
    "else: \n",
    "    print(year- int('19'+jumin(:2)+1)"
   ]
  },
  {
   "cell_type": "code",
   "execution_count": 168,
   "id": "55768b97-4bf1-4cf3-b110-acd3a5b6b775",
   "metadata": {},
   "outputs": [
    {
     "data": {
      "text/plain": [
       "True"
      ]
     },
     "execution_count": 168,
     "metadata": {},
     "output_type": "execute_result"
    }
   ],
   "source": [
    "bool('abc')"
   ]
  },
  {
   "cell_type": "code",
   "execution_count": 169,
   "id": "b2a7219d-06fd-4454-8e63-1e628f2f0fe9",
   "metadata": {},
   "outputs": [
    {
     "data": {
      "text/plain": [
       "False"
      ]
     },
     "execution_count": 169,
     "metadata": {},
     "output_type": "execute_result"
    }
   ],
   "source": [
    "bool(0)"
   ]
  },
  {
   "cell_type": "code",
   "execution_count": 177,
   "id": "03e50c19-c29c-45b4-af2e-ba53f3411644",
   "metadata": {},
   "outputs": [],
   "source": [
    "a='abc'"
   ]
  },
  {
   "cell_type": "code",
   "execution_count": 181,
   "id": "06398876-da42-40df-b83a-626b348c0745",
   "metadata": {},
   "outputs": [
    {
     "name": "stdout",
     "output_type": "stream",
     "text": [
      "abc\n"
     ]
    }
   ],
   "source": [
    "if a:\n",
    "    print(a)\n",
    "else:\n",
    "    print('fail')"
   ]
  },
  {
   "cell_type": "code",
   "execution_count": null,
   "id": "82d387ac-7f93-4043-b456-f71f50642374",
   "metadata": {},
   "outputs": [],
   "source": []
  }
 ],
 "metadata": {
  "kernelspec": {
   "display_name": "Python 3",
   "language": "python",
   "name": "python3"
  },
  "language_info": {
   "codemirror_mode": {
    "name": "ipython",
    "version": 3
   },
   "file_extension": ".py",
   "mimetype": "text/x-python",
   "name": "python",
   "nbconvert_exporter": "python",
   "pygments_lexer": "ipython3",
   "version": "3.10.10"
  },
  "vscode": {
   "interpreter": {
    "hash": "d1a1120d6b703f94660d8a0a86efaeba37d220648474f25f942e1d3645fcdcb7"
   }
  }
 },
 "nbformat": 4,
 "nbformat_minor": 5
}
