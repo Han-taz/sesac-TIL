{
 "cells": [
  {
   "cell_type": "markdown",
   "id": "1ad169fe-eb84-4a41-8c78-28bd5a585f67",
   "metadata": {},
   "source": [
    "### 데이터 불러오기"
   ]
  },
  {
   "cell_type": "code",
   "execution_count": 1,
   "id": "8ac2f1cf-211d-417c-a46e-ba81a7c077ed",
   "metadata": {
    "tags": []
   },
   "outputs": [],
   "source": [
    "import pandas as pd\n",
    "import numpy as np"
   ]
  },
  {
   "cell_type": "code",
   "execution_count": 2,
   "id": "2e720604-6ac9-4fba-8737-d1eae131f66d",
   "metadata": {},
   "outputs": [],
   "source": [
    "sales=pd.read_csv('sales.csv')"
   ]
  },
  {
   "cell_type": "markdown",
   "id": "a43ee5e5-a1fd-49e0-a508-96d535983565",
   "metadata": {},
   "source": [
    "## 데이터 전처리\n"
   ]
  },
  {
   "cell_type": "markdown",
   "id": "a535fae3-2fb2-4721-bba6-ead41e286afe",
   "metadata": {},
   "source": [
    "## 이상치 삭제하기(item_price, item_cnt_day가 0보다 같거나 작은거 삭제)  \n",
    "## 년,월,일 data를 분리하기 (년/월/일)  \n",
    "## 수입(income),연일(y_m),월일(m_d) 데이터 만들기  "
   ]
  },
  {
   "cell_type": "code",
   "execution_count": 3,
   "id": "0f1fa155-fdf7-431c-aa68-ab2b951f6f2b",
   "metadata": {},
   "outputs": [
    {
     "data": {
      "text/plain": [
       "Index(['date', 'shop_id', 'item_id', 'item_price', 'item_cnt_day'], dtype='object')"
      ]
     },
     "execution_count": 3,
     "metadata": {},
     "output_type": "execute_result"
    }
   ],
   "source": [
    "sales.columns"
   ]
  },
  {
   "cell_type": "code",
   "execution_count": 4,
   "id": "dabeff0e-39eb-4f13-a555-c4fd61cbb86f",
   "metadata": {},
   "outputs": [
    {
     "data": {
      "text/html": [
       "<div>\n",
       "<style scoped>\n",
       "    .dataframe tbody tr th:only-of-type {\n",
       "        vertical-align: middle;\n",
       "    }\n",
       "\n",
       "    .dataframe tbody tr th {\n",
       "        vertical-align: top;\n",
       "    }\n",
       "\n",
       "    .dataframe thead th {\n",
       "        text-align: right;\n",
       "    }\n",
       "</style>\n",
       "<table border=\"1\" class=\"dataframe\">\n",
       "  <thead>\n",
       "    <tr style=\"text-align: right;\">\n",
       "      <th></th>\n",
       "      <th>date</th>\n",
       "      <th>shop_id</th>\n",
       "      <th>item_id</th>\n",
       "      <th>item_price</th>\n",
       "      <th>item_cnt_day</th>\n",
       "    </tr>\n",
       "  </thead>\n",
       "  <tbody>\n",
       "    <tr>\n",
       "      <th>484683</th>\n",
       "      <td>15.05.2013</td>\n",
       "      <td>32</td>\n",
       "      <td>2973</td>\n",
       "      <td>-1.0</td>\n",
       "      <td>1.0</td>\n",
       "    </tr>\n",
       "  </tbody>\n",
       "</table>\n",
       "</div>"
      ],
      "text/plain": [
       "              date  shop_id  item_id  item_price  item_cnt_day\n",
       "484683  15.05.2013       32     2973        -1.0           1.0"
      ]
     },
     "execution_count": 4,
     "metadata": {},
     "output_type": "execute_result"
    }
   ],
   "source": [
    "sales[sales['item_price'] <= 0]"
   ]
  },
  {
   "cell_type": "code",
   "execution_count": 5,
   "id": "ab30b8cb-ce44-4efd-8b53-825e0572938d",
   "metadata": {},
   "outputs": [
    {
     "data": {
      "text/html": [
       "<div>\n",
       "<style scoped>\n",
       "    .dataframe tbody tr th:only-of-type {\n",
       "        vertical-align: middle;\n",
       "    }\n",
       "\n",
       "    .dataframe tbody tr th {\n",
       "        vertical-align: top;\n",
       "    }\n",
       "\n",
       "    .dataframe thead th {\n",
       "        text-align: right;\n",
       "    }\n",
       "</style>\n",
       "<table border=\"1\" class=\"dataframe\">\n",
       "  <thead>\n",
       "    <tr style=\"text-align: right;\">\n",
       "      <th></th>\n",
       "      <th>date</th>\n",
       "      <th>shop_id</th>\n",
       "      <th>item_id</th>\n",
       "      <th>item_price</th>\n",
       "      <th>item_cnt_day</th>\n",
       "    </tr>\n",
       "  </thead>\n",
       "  <tbody>\n",
       "    <tr>\n",
       "      <th>2</th>\n",
       "      <td>05.01.2013</td>\n",
       "      <td>25</td>\n",
       "      <td>2552</td>\n",
       "      <td>899.0</td>\n",
       "      <td>-1.0</td>\n",
       "    </tr>\n",
       "    <tr>\n",
       "      <th>148</th>\n",
       "      <td>23.01.2013</td>\n",
       "      <td>25</td>\n",
       "      <td>2321</td>\n",
       "      <td>999.0</td>\n",
       "      <td>-1.0</td>\n",
       "    </tr>\n",
       "    <tr>\n",
       "      <th>175</th>\n",
       "      <td>07.01.2013</td>\n",
       "      <td>25</td>\n",
       "      <td>2199</td>\n",
       "      <td>1449.0</td>\n",
       "      <td>-1.0</td>\n",
       "    </tr>\n",
       "    <tr>\n",
       "      <th>807</th>\n",
       "      <td>02.01.2013</td>\n",
       "      <td>25</td>\n",
       "      <td>2330</td>\n",
       "      <td>599.0</td>\n",
       "      <td>-1.0</td>\n",
       "    </tr>\n",
       "    <tr>\n",
       "      <th>1041</th>\n",
       "      <td>13.01.2013</td>\n",
       "      <td>25</td>\n",
       "      <td>5034</td>\n",
       "      <td>1989.0</td>\n",
       "      <td>-1.0</td>\n",
       "    </tr>\n",
       "    <tr>\n",
       "      <th>...</th>\n",
       "      <td>...</td>\n",
       "      <td>...</td>\n",
       "      <td>...</td>\n",
       "      <td>...</td>\n",
       "      <td>...</td>\n",
       "    </tr>\n",
       "    <tr>\n",
       "      <th>2934243</th>\n",
       "      <td>26.10.2015</td>\n",
       "      <td>25</td>\n",
       "      <td>3917</td>\n",
       "      <td>449.0</td>\n",
       "      <td>-1.0</td>\n",
       "    </tr>\n",
       "    <tr>\n",
       "      <th>2934462</th>\n",
       "      <td>18.10.2015</td>\n",
       "      <td>25</td>\n",
       "      <td>4896</td>\n",
       "      <td>6398.0</td>\n",
       "      <td>-1.0</td>\n",
       "    </tr>\n",
       "    <tr>\n",
       "      <th>2935263</th>\n",
       "      <td>05.10.2015</td>\n",
       "      <td>25</td>\n",
       "      <td>10039</td>\n",
       "      <td>249.0</td>\n",
       "      <td>-1.0</td>\n",
       "    </tr>\n",
       "    <tr>\n",
       "      <th>2935643</th>\n",
       "      <td>16.10.2015</td>\n",
       "      <td>25</td>\n",
       "      <td>7893</td>\n",
       "      <td>2990.0</td>\n",
       "      <td>-1.0</td>\n",
       "    </tr>\n",
       "    <tr>\n",
       "      <th>2935779</th>\n",
       "      <td>07.10.2015</td>\n",
       "      <td>25</td>\n",
       "      <td>7087</td>\n",
       "      <td>999.0</td>\n",
       "      <td>-1.0</td>\n",
       "    </tr>\n",
       "  </tbody>\n",
       "</table>\n",
       "<p>7356 rows × 5 columns</p>\n",
       "</div>"
      ],
      "text/plain": [
       "               date  shop_id  item_id  item_price  item_cnt_day\n",
       "2        05.01.2013       25     2552       899.0          -1.0\n",
       "148      23.01.2013       25     2321       999.0          -1.0\n",
       "175      07.01.2013       25     2199      1449.0          -1.0\n",
       "807      02.01.2013       25     2330       599.0          -1.0\n",
       "1041     13.01.2013       25     5034      1989.0          -1.0\n",
       "...             ...      ...      ...         ...           ...\n",
       "2934243  26.10.2015       25     3917       449.0          -1.0\n",
       "2934462  18.10.2015       25     4896      6398.0          -1.0\n",
       "2935263  05.10.2015       25    10039       249.0          -1.0\n",
       "2935643  16.10.2015       25     7893      2990.0          -1.0\n",
       "2935779  07.10.2015       25     7087       999.0          -1.0\n",
       "\n",
       "[7356 rows x 5 columns]"
      ]
     },
     "execution_count": 5,
     "metadata": {},
     "output_type": "execute_result"
    }
   ],
   "source": [
    "sales[sales['item_cnt_day'] <= 0]"
   ]
  },
  {
   "cell_type": "code",
   "execution_count": 38,
   "id": "9f7a970f-6b3b-4153-92a7-62a368b05df1",
   "metadata": {},
   "outputs": [],
   "source": [
    "sales=sales.drop(sales[sales['item_cnt_day'] <= 0].index)"
   ]
  },
  {
   "cell_type": "code",
   "execution_count": 7,
   "id": "efefb99d-626c-4e28-83c0-ff2e9f3f51d3",
   "metadata": {},
   "outputs": [],
   "source": [
    "sales=sales.drop(sales[sales['item_price'] <= 0].index)"
   ]
  },
  {
   "cell_type": "code",
   "execution_count": 8,
   "id": "96aed2d6-9798-4cdf-a554-731049914d60",
   "metadata": {
    "tags": []
   },
   "outputs": [],
   "source": [
    "#sales['date2']=pd.to_datetime(sales['date'])"
   ]
  },
  {
   "cell_type": "code",
   "execution_count": 9,
   "id": "6dae9be7-5da4-4ee6-850b-ea82459ca33e",
   "metadata": {},
   "outputs": [],
   "source": [
    "#워닝 안뜨게 하기\n",
    "#pd.to_datetime(sales['date'],format='%d,%m,%y')"
   ]
  },
  {
   "cell_type": "code",
   "execution_count": null,
   "id": "9087b81b-ec63-49a8-9205-aeb9b15c8aa6",
   "metadata": {
    "collapsed": true,
    "jupyter": {
     "outputs_hidden": true
    },
    "tags": []
   },
   "outputs": [],
   "source": []
  },
  {
   "cell_type": "code",
   "execution_count": 10,
   "id": "4fb09567-fcb6-458d-9a24-9eef8ce6decc",
   "metadata": {},
   "outputs": [
    {
     "data": {
      "text/plain": [
       "(2928492, 5)"
      ]
     },
     "execution_count": 10,
     "metadata": {},
     "output_type": "execute_result"
    }
   ],
   "source": [
    "sales.shape"
   ]
  },
  {
   "cell_type": "code",
   "execution_count": 11,
   "id": "a691769f-6dfc-4da0-9708-833895889812",
   "metadata": {
    "tags": []
   },
   "outputs": [],
   "source": [
    "sales[['day','month','year']]=sales['date'].str.split('.',expand=True)\n",
    "sales['y_m']=sales['year']+ '.' +sales['month']\n",
    "sales['m_d']=sales['month']+ '.' +sales['day']"
   ]
  },
  {
   "cell_type": "code",
   "execution_count": 12,
   "id": "57c8b84e-92d9-4420-80ea-75903c35e63d",
   "metadata": {
    "tags": []
   },
   "outputs": [],
   "source": [
    "#sales['year']=sales['date2'].dt.year"
   ]
  },
  {
   "cell_type": "code",
   "execution_count": 13,
   "id": "451b0f50-c160-4239-acb6-04327c6fedc0",
   "metadata": {},
   "outputs": [],
   "source": [
    "#sales['month']=sales['date2'].dt.month"
   ]
  },
  {
   "cell_type": "code",
   "execution_count": 14,
   "id": "11302d26-5d99-4f15-8418-19b9173c2480",
   "metadata": {},
   "outputs": [],
   "source": [
    "#sales['day']=sales['date2'].dt.day"
   ]
  },
  {
   "cell_type": "code",
   "execution_count": 15,
   "id": "63c143b6-6768-4e01-834b-ec7f9d465c52",
   "metadata": {},
   "outputs": [],
   "source": [
    "#sales['y_m']=sales['year'].astype(str)+ '.' +sales['month'].astype(str).str.zfill(2)"
   ]
  },
  {
   "cell_type": "code",
   "execution_count": 16,
   "id": "8d4df1fd-2265-4858-9cd3-78598baf3f2e",
   "metadata": {
    "tags": []
   },
   "outputs": [
    {
     "data": {
      "text/html": [
       "<div>\n",
       "<style scoped>\n",
       "    .dataframe tbody tr th:only-of-type {\n",
       "        vertical-align: middle;\n",
       "    }\n",
       "\n",
       "    .dataframe tbody tr th {\n",
       "        vertical-align: top;\n",
       "    }\n",
       "\n",
       "    .dataframe thead th {\n",
       "        text-align: right;\n",
       "    }\n",
       "</style>\n",
       "<table border=\"1\" class=\"dataframe\">\n",
       "  <thead>\n",
       "    <tr style=\"text-align: right;\">\n",
       "      <th></th>\n",
       "      <th>date</th>\n",
       "      <th>shop_id</th>\n",
       "      <th>item_id</th>\n",
       "      <th>item_price</th>\n",
       "      <th>item_cnt_day</th>\n",
       "      <th>day</th>\n",
       "      <th>month</th>\n",
       "      <th>year</th>\n",
       "      <th>y_m</th>\n",
       "      <th>m_d</th>\n",
       "    </tr>\n",
       "  </thead>\n",
       "  <tbody>\n",
       "    <tr>\n",
       "      <th>0</th>\n",
       "      <td>02.01.2013</td>\n",
       "      <td>59</td>\n",
       "      <td>22154</td>\n",
       "      <td>999.00</td>\n",
       "      <td>1.0</td>\n",
       "      <td>02</td>\n",
       "      <td>01</td>\n",
       "      <td>2013</td>\n",
       "      <td>2013.01</td>\n",
       "      <td>01.02</td>\n",
       "    </tr>\n",
       "    <tr>\n",
       "      <th>1</th>\n",
       "      <td>03.01.2013</td>\n",
       "      <td>25</td>\n",
       "      <td>2552</td>\n",
       "      <td>899.00</td>\n",
       "      <td>1.0</td>\n",
       "      <td>03</td>\n",
       "      <td>01</td>\n",
       "      <td>2013</td>\n",
       "      <td>2013.01</td>\n",
       "      <td>01.03</td>\n",
       "    </tr>\n",
       "    <tr>\n",
       "      <th>3</th>\n",
       "      <td>06.01.2013</td>\n",
       "      <td>25</td>\n",
       "      <td>2554</td>\n",
       "      <td>1709.05</td>\n",
       "      <td>1.0</td>\n",
       "      <td>06</td>\n",
       "      <td>01</td>\n",
       "      <td>2013</td>\n",
       "      <td>2013.01</td>\n",
       "      <td>01.06</td>\n",
       "    </tr>\n",
       "    <tr>\n",
       "      <th>4</th>\n",
       "      <td>15.01.2013</td>\n",
       "      <td>25</td>\n",
       "      <td>2555</td>\n",
       "      <td>1099.00</td>\n",
       "      <td>1.0</td>\n",
       "      <td>15</td>\n",
       "      <td>01</td>\n",
       "      <td>2013</td>\n",
       "      <td>2013.01</td>\n",
       "      <td>01.15</td>\n",
       "    </tr>\n",
       "    <tr>\n",
       "      <th>5</th>\n",
       "      <td>10.01.2013</td>\n",
       "      <td>25</td>\n",
       "      <td>2564</td>\n",
       "      <td>349.00</td>\n",
       "      <td>1.0</td>\n",
       "      <td>10</td>\n",
       "      <td>01</td>\n",
       "      <td>2013</td>\n",
       "      <td>2013.01</td>\n",
       "      <td>01.10</td>\n",
       "    </tr>\n",
       "    <tr>\n",
       "      <th>...</th>\n",
       "      <td>...</td>\n",
       "      <td>...</td>\n",
       "      <td>...</td>\n",
       "      <td>...</td>\n",
       "      <td>...</td>\n",
       "      <td>...</td>\n",
       "      <td>...</td>\n",
       "      <td>...</td>\n",
       "      <td>...</td>\n",
       "      <td>...</td>\n",
       "    </tr>\n",
       "    <tr>\n",
       "      <th>2935844</th>\n",
       "      <td>10.10.2015</td>\n",
       "      <td>25</td>\n",
       "      <td>7409</td>\n",
       "      <td>299.00</td>\n",
       "      <td>1.0</td>\n",
       "      <td>10</td>\n",
       "      <td>10</td>\n",
       "      <td>2015</td>\n",
       "      <td>2015.10</td>\n",
       "      <td>10.10</td>\n",
       "    </tr>\n",
       "    <tr>\n",
       "      <th>2935845</th>\n",
       "      <td>09.10.2015</td>\n",
       "      <td>25</td>\n",
       "      <td>7460</td>\n",
       "      <td>299.00</td>\n",
       "      <td>1.0</td>\n",
       "      <td>09</td>\n",
       "      <td>10</td>\n",
       "      <td>2015</td>\n",
       "      <td>2015.10</td>\n",
       "      <td>10.09</td>\n",
       "    </tr>\n",
       "    <tr>\n",
       "      <th>2935846</th>\n",
       "      <td>14.10.2015</td>\n",
       "      <td>25</td>\n",
       "      <td>7459</td>\n",
       "      <td>349.00</td>\n",
       "      <td>1.0</td>\n",
       "      <td>14</td>\n",
       "      <td>10</td>\n",
       "      <td>2015</td>\n",
       "      <td>2015.10</td>\n",
       "      <td>10.14</td>\n",
       "    </tr>\n",
       "    <tr>\n",
       "      <th>2935847</th>\n",
       "      <td>22.10.2015</td>\n",
       "      <td>25</td>\n",
       "      <td>7440</td>\n",
       "      <td>299.00</td>\n",
       "      <td>1.0</td>\n",
       "      <td>22</td>\n",
       "      <td>10</td>\n",
       "      <td>2015</td>\n",
       "      <td>2015.10</td>\n",
       "      <td>10.22</td>\n",
       "    </tr>\n",
       "    <tr>\n",
       "      <th>2935848</th>\n",
       "      <td>03.10.2015</td>\n",
       "      <td>25</td>\n",
       "      <td>7460</td>\n",
       "      <td>299.00</td>\n",
       "      <td>1.0</td>\n",
       "      <td>03</td>\n",
       "      <td>10</td>\n",
       "      <td>2015</td>\n",
       "      <td>2015.10</td>\n",
       "      <td>10.03</td>\n",
       "    </tr>\n",
       "  </tbody>\n",
       "</table>\n",
       "<p>2928492 rows × 10 columns</p>\n",
       "</div>"
      ],
      "text/plain": [
       "               date  shop_id  item_id  item_price  item_cnt_day day month  \\\n",
       "0        02.01.2013       59    22154      999.00           1.0  02    01   \n",
       "1        03.01.2013       25     2552      899.00           1.0  03    01   \n",
       "3        06.01.2013       25     2554     1709.05           1.0  06    01   \n",
       "4        15.01.2013       25     2555     1099.00           1.0  15    01   \n",
       "5        10.01.2013       25     2564      349.00           1.0  10    01   \n",
       "...             ...      ...      ...         ...           ...  ..   ...   \n",
       "2935844  10.10.2015       25     7409      299.00           1.0  10    10   \n",
       "2935845  09.10.2015       25     7460      299.00           1.0  09    10   \n",
       "2935846  14.10.2015       25     7459      349.00           1.0  14    10   \n",
       "2935847  22.10.2015       25     7440      299.00           1.0  22    10   \n",
       "2935848  03.10.2015       25     7460      299.00           1.0  03    10   \n",
       "\n",
       "         year      y_m    m_d  \n",
       "0        2013  2013.01  01.02  \n",
       "1        2013  2013.01  01.03  \n",
       "3        2013  2013.01  01.06  \n",
       "4        2013  2013.01  01.15  \n",
       "5        2013  2013.01  01.10  \n",
       "...       ...      ...    ...  \n",
       "2935844  2015  2015.10  10.10  \n",
       "2935845  2015  2015.10  10.09  \n",
       "2935846  2015  2015.10  10.14  \n",
       "2935847  2015  2015.10  10.22  \n",
       "2935848  2015  2015.10  10.03  \n",
       "\n",
       "[2928492 rows x 10 columns]"
      ]
     },
     "execution_count": 16,
     "metadata": {},
     "output_type": "execute_result"
    }
   ],
   "source": [
    "sales"
   ]
  },
  {
   "cell_type": "code",
   "execution_count": 1,
   "id": "8cc5c004-3b57-4500-b1ce-0467b9e65402",
   "metadata": {},
   "outputs": [
    {
     "ename": "NameError",
     "evalue": "name 'sales' is not defined",
     "output_type": "error",
     "traceback": [
      "\u001b[1;31m---------------------------------------------------------------------------\u001b[0m",
      "\u001b[1;31mNameError\u001b[0m                                 Traceback (most recent call last)",
      "Input \u001b[1;32mIn [1]\u001b[0m, in \u001b[0;36m<cell line: 1>\u001b[1;34m()\u001b[0m\n\u001b[1;32m----> 1\u001b[0m sales[\u001b[38;5;124m'\u001b[39m\u001b[38;5;124mm_d\u001b[39m\u001b[38;5;124m'\u001b[39m]\u001b[38;5;241m=\u001b[39m\u001b[43msales\u001b[49m[\u001b[38;5;124m'\u001b[39m\u001b[38;5;124mmonth\u001b[39m\u001b[38;5;124m'\u001b[39m]\u001b[38;5;241m.\u001b[39mastype(\u001b[38;5;28mstr\u001b[39m)\u001b[38;5;241m.\u001b[39mstr\u001b[38;5;241m.\u001b[39mzfill(\u001b[38;5;241m2\u001b[39m)\u001b[38;5;241m+\u001b[39m \u001b[38;5;124m'\u001b[39m\u001b[38;5;124m.\u001b[39m\u001b[38;5;124m'\u001b[39m \u001b[38;5;241m+\u001b[39msales[\u001b[38;5;124m'\u001b[39m\u001b[38;5;124mday\u001b[39m\u001b[38;5;124m'\u001b[39m]\u001b[38;5;241m.\u001b[39mastype(\u001b[38;5;28mstr\u001b[39m)\u001b[38;5;241m.\u001b[39mstr\u001b[38;5;241m.\u001b[39mzfill(\u001b[38;5;241m2\u001b[39m)\n",
      "\u001b[1;31mNameError\u001b[0m: name 'sales' is not defined"
     ]
    }
   ],
   "source": [
    "sales['m_d']=sales['month'].astype(str).str.zfill(2)+ '.' +sales['day'].astype(str).str.zfill(2)"
   ]
  },
  {
   "cell_type": "code",
   "execution_count": 18,
   "id": "902006b2-d326-4ab3-b228-644bf30e7bbf",
   "metadata": {
    "tags": []
   },
   "outputs": [
    {
     "data": {
      "text/html": [
       "<div>\n",
       "<style scoped>\n",
       "    .dataframe tbody tr th:only-of-type {\n",
       "        vertical-align: middle;\n",
       "    }\n",
       "\n",
       "    .dataframe tbody tr th {\n",
       "        vertical-align: top;\n",
       "    }\n",
       "\n",
       "    .dataframe thead th {\n",
       "        text-align: right;\n",
       "    }\n",
       "</style>\n",
       "<table border=\"1\" class=\"dataframe\">\n",
       "  <thead>\n",
       "    <tr style=\"text-align: right;\">\n",
       "      <th></th>\n",
       "      <th>date</th>\n",
       "      <th>shop_id</th>\n",
       "      <th>item_id</th>\n",
       "      <th>item_price</th>\n",
       "      <th>item_cnt_day</th>\n",
       "      <th>day</th>\n",
       "      <th>month</th>\n",
       "      <th>year</th>\n",
       "      <th>y_m</th>\n",
       "      <th>m_d</th>\n",
       "    </tr>\n",
       "  </thead>\n",
       "  <tbody>\n",
       "    <tr>\n",
       "      <th>0</th>\n",
       "      <td>02.01.2013</td>\n",
       "      <td>59</td>\n",
       "      <td>22154</td>\n",
       "      <td>999.00</td>\n",
       "      <td>1.0</td>\n",
       "      <td>02</td>\n",
       "      <td>01</td>\n",
       "      <td>2013</td>\n",
       "      <td>2013.01</td>\n",
       "      <td>01.02</td>\n",
       "    </tr>\n",
       "    <tr>\n",
       "      <th>1</th>\n",
       "      <td>03.01.2013</td>\n",
       "      <td>25</td>\n",
       "      <td>2552</td>\n",
       "      <td>899.00</td>\n",
       "      <td>1.0</td>\n",
       "      <td>03</td>\n",
       "      <td>01</td>\n",
       "      <td>2013</td>\n",
       "      <td>2013.01</td>\n",
       "      <td>01.03</td>\n",
       "    </tr>\n",
       "    <tr>\n",
       "      <th>3</th>\n",
       "      <td>06.01.2013</td>\n",
       "      <td>25</td>\n",
       "      <td>2554</td>\n",
       "      <td>1709.05</td>\n",
       "      <td>1.0</td>\n",
       "      <td>06</td>\n",
       "      <td>01</td>\n",
       "      <td>2013</td>\n",
       "      <td>2013.01</td>\n",
       "      <td>01.06</td>\n",
       "    </tr>\n",
       "    <tr>\n",
       "      <th>4</th>\n",
       "      <td>15.01.2013</td>\n",
       "      <td>25</td>\n",
       "      <td>2555</td>\n",
       "      <td>1099.00</td>\n",
       "      <td>1.0</td>\n",
       "      <td>15</td>\n",
       "      <td>01</td>\n",
       "      <td>2013</td>\n",
       "      <td>2013.01</td>\n",
       "      <td>01.15</td>\n",
       "    </tr>\n",
       "    <tr>\n",
       "      <th>5</th>\n",
       "      <td>10.01.2013</td>\n",
       "      <td>25</td>\n",
       "      <td>2564</td>\n",
       "      <td>349.00</td>\n",
       "      <td>1.0</td>\n",
       "      <td>10</td>\n",
       "      <td>01</td>\n",
       "      <td>2013</td>\n",
       "      <td>2013.01</td>\n",
       "      <td>01.10</td>\n",
       "    </tr>\n",
       "    <tr>\n",
       "      <th>...</th>\n",
       "      <td>...</td>\n",
       "      <td>...</td>\n",
       "      <td>...</td>\n",
       "      <td>...</td>\n",
       "      <td>...</td>\n",
       "      <td>...</td>\n",
       "      <td>...</td>\n",
       "      <td>...</td>\n",
       "      <td>...</td>\n",
       "      <td>...</td>\n",
       "    </tr>\n",
       "    <tr>\n",
       "      <th>2935844</th>\n",
       "      <td>10.10.2015</td>\n",
       "      <td>25</td>\n",
       "      <td>7409</td>\n",
       "      <td>299.00</td>\n",
       "      <td>1.0</td>\n",
       "      <td>10</td>\n",
       "      <td>10</td>\n",
       "      <td>2015</td>\n",
       "      <td>2015.10</td>\n",
       "      <td>10.10</td>\n",
       "    </tr>\n",
       "    <tr>\n",
       "      <th>2935845</th>\n",
       "      <td>09.10.2015</td>\n",
       "      <td>25</td>\n",
       "      <td>7460</td>\n",
       "      <td>299.00</td>\n",
       "      <td>1.0</td>\n",
       "      <td>09</td>\n",
       "      <td>10</td>\n",
       "      <td>2015</td>\n",
       "      <td>2015.10</td>\n",
       "      <td>10.09</td>\n",
       "    </tr>\n",
       "    <tr>\n",
       "      <th>2935846</th>\n",
       "      <td>14.10.2015</td>\n",
       "      <td>25</td>\n",
       "      <td>7459</td>\n",
       "      <td>349.00</td>\n",
       "      <td>1.0</td>\n",
       "      <td>14</td>\n",
       "      <td>10</td>\n",
       "      <td>2015</td>\n",
       "      <td>2015.10</td>\n",
       "      <td>10.14</td>\n",
       "    </tr>\n",
       "    <tr>\n",
       "      <th>2935847</th>\n",
       "      <td>22.10.2015</td>\n",
       "      <td>25</td>\n",
       "      <td>7440</td>\n",
       "      <td>299.00</td>\n",
       "      <td>1.0</td>\n",
       "      <td>22</td>\n",
       "      <td>10</td>\n",
       "      <td>2015</td>\n",
       "      <td>2015.10</td>\n",
       "      <td>10.22</td>\n",
       "    </tr>\n",
       "    <tr>\n",
       "      <th>2935848</th>\n",
       "      <td>03.10.2015</td>\n",
       "      <td>25</td>\n",
       "      <td>7460</td>\n",
       "      <td>299.00</td>\n",
       "      <td>1.0</td>\n",
       "      <td>03</td>\n",
       "      <td>10</td>\n",
       "      <td>2015</td>\n",
       "      <td>2015.10</td>\n",
       "      <td>10.03</td>\n",
       "    </tr>\n",
       "  </tbody>\n",
       "</table>\n",
       "<p>2928492 rows × 10 columns</p>\n",
       "</div>"
      ],
      "text/plain": [
       "               date  shop_id  item_id  item_price  item_cnt_day day month  \\\n",
       "0        02.01.2013       59    22154      999.00           1.0  02    01   \n",
       "1        03.01.2013       25     2552      899.00           1.0  03    01   \n",
       "3        06.01.2013       25     2554     1709.05           1.0  06    01   \n",
       "4        15.01.2013       25     2555     1099.00           1.0  15    01   \n",
       "5        10.01.2013       25     2564      349.00           1.0  10    01   \n",
       "...             ...      ...      ...         ...           ...  ..   ...   \n",
       "2935844  10.10.2015       25     7409      299.00           1.0  10    10   \n",
       "2935845  09.10.2015       25     7460      299.00           1.0  09    10   \n",
       "2935846  14.10.2015       25     7459      349.00           1.0  14    10   \n",
       "2935847  22.10.2015       25     7440      299.00           1.0  22    10   \n",
       "2935848  03.10.2015       25     7460      299.00           1.0  03    10   \n",
       "\n",
       "         year      y_m    m_d  \n",
       "0        2013  2013.01  01.02  \n",
       "1        2013  2013.01  01.03  \n",
       "3        2013  2013.01  01.06  \n",
       "4        2013  2013.01  01.15  \n",
       "5        2013  2013.01  01.10  \n",
       "...       ...      ...    ...  \n",
       "2935844  2015  2015.10  10.10  \n",
       "2935845  2015  2015.10  10.09  \n",
       "2935846  2015  2015.10  10.14  \n",
       "2935847  2015  2015.10  10.22  \n",
       "2935848  2015  2015.10  10.03  \n",
       "\n",
       "[2928492 rows x 10 columns]"
      ]
     },
     "execution_count": 18,
     "metadata": {},
     "output_type": "execute_result"
    }
   ],
   "source": [
    "sales"
   ]
  },
  {
   "cell_type": "code",
   "execution_count": 19,
   "id": "fad5f49b-c794-441f-b0a3-589016c8462f",
   "metadata": {},
   "outputs": [],
   "source": [
    "sales['income']=sales['item_cnt_day']*sales['item_price']"
   ]
  },
  {
   "cell_type": "code",
   "execution_count": 20,
   "id": "8827bf38-7434-49c9-8991-1ce19c171992",
   "metadata": {},
   "outputs": [],
   "source": [
    "### 년월 만들기\n",
    "sales[['day','month','year']]=sales['date'].str.split('.',expand=True)\n",
    "sales['y_m']=sales['year']+ '.' +sales['month']\n",
    "sales['m_d']=sales['month']+ '.' +sales['day']"
   ]
  },
  {
   "cell_type": "code",
   "execution_count": 21,
   "id": "edf585f8-e0b2-4845-93f5-f10a9cffe854",
   "metadata": {},
   "outputs": [
    {
     "data": {
      "text/plain": [
       "2013    1264490\n",
       "2014    1053211\n",
       "2015     610791\n",
       "Name: year, dtype: int64"
      ]
     },
     "execution_count": 21,
     "metadata": {},
     "output_type": "execute_result"
    }
   ],
   "source": [
    "sales['year'].value_counts()"
   ]
  },
  {
   "cell_type": "code",
   "execution_count": 22,
   "id": "82603267-2aef-44ae-a179-569b8e07ee49",
   "metadata": {},
   "outputs": [
    {
     "data": {
      "text/plain": [
       "2013.12    142921\n",
       "2014.12    130489\n",
       "2013.03    121053\n",
       "2013.01    115338\n",
       "2013.02    108326\n",
       "2013.08    104495\n",
       "2013.07    100350\n",
       "2013.06    100202\n",
       "2014.01     99009\n",
       "2013.11     96503\n",
       "2013.09     95918\n",
       "2013.10     93938\n",
       "2013.04     93865\n",
       "2014.03     92530\n",
       "2013.05     91581\n",
       "2014.02     89550\n",
       "2015.01     88199\n",
       "2014.08     86427\n",
       "2014.11     86225\n",
       "2014.06     82215\n",
       "2014.10     79169\n",
       "2014.07     78554\n",
       "2014.05     78382\n",
       "2014.04     77718\n",
       "2014.09     72943\n",
       "2015.02     71595\n",
       "2015.03     69766\n",
       "2015.08     56913\n",
       "2015.04     56157\n",
       "2015.07     55420\n",
       "2015.06     54497\n",
       "2015.05     54415\n",
       "2015.10     53386\n",
       "2015.09     50443\n",
       "Name: y_m, dtype: int64"
      ]
     },
     "execution_count": 22,
     "metadata": {},
     "output_type": "execute_result"
    }
   ],
   "source": [
    "sales['y_m'].value_counts()"
   ]
  },
  {
   "cell_type": "code",
   "execution_count": 23,
   "id": "f0144ec0-5852-4c01-ab3f-b536b65d6cf9",
   "metadata": {},
   "outputs": [
    {
     "data": {
      "text/plain": [
       "01.02    18584\n",
       "12.30    18412\n",
       "02.22    17695\n",
       "01.03    17059\n",
       "02.23    16775\n",
       "         ...  \n",
       "11.26     4406\n",
       "11.27     4332\n",
       "11.11     4239\n",
       "12.02     4211\n",
       "11.12     4019\n",
       "Name: m_d, Length: 365, dtype: int64"
      ]
     },
     "execution_count": 23,
     "metadata": {},
     "output_type": "execute_result"
    }
   ],
   "source": [
    "sales['m_d'].value_counts()"
   ]
  },
  {
   "cell_type": "code",
   "execution_count": 24,
   "id": "53ac59d9-d87e-4e73-a213-116b3ac4f9d1",
   "metadata": {},
   "outputs": [
    {
     "data": {
      "text/plain": [
       "02    103081\n",
       "07    102064\n",
       "23    101117\n",
       "22    101105\n",
       "08    100718\n",
       "21    100004\n",
       "28     99576\n",
       "27     98743\n",
       "03     98725\n",
       "06     97808\n",
       "30     97209\n",
       "20     96777\n",
       "26     95907\n",
       "05     95158\n",
       "19     94716\n",
       "04     94192\n",
       "01     94182\n",
       "25     93228\n",
       "24     93113\n",
       "16     92631\n",
       "15     92399\n",
       "17     92205\n",
       "12     92099\n",
       "14     91841\n",
       "09     91775\n",
       "13     90780\n",
       "29     90709\n",
       "18     90389\n",
       "10     89838\n",
       "11     88964\n",
       "31     67439\n",
       "Name: day, dtype: int64"
      ]
     },
     "execution_count": 24,
     "metadata": {},
     "output_type": "execute_result"
    }
   ],
   "source": [
    "### 30일까지 있는 달이 있기 때문에 31일이 가장 적다\n",
    "sales['day'].value_counts()"
   ]
  },
  {
   "cell_type": "code",
   "execution_count": 25,
   "id": "03ae76a0-6c52-4c01-bf3d-2e89a7a85455",
   "metadata": {},
   "outputs": [
    {
     "data": {
      "text/plain": [
       "array(['2013.01', '2013.02', '2013.03', '2013.04', '2013.05', '2013.06',\n",
       "       '2013.07', '2013.08', '2013.09', '2013.10', '2013.11', '2013.12',\n",
       "       '2014.01', '2014.02', '2014.03', '2014.04', '2014.05', '2014.06',\n",
       "       '2014.07', '2014.08', '2014.09', '2014.10', '2014.11', '2014.12',\n",
       "       '2015.01', '2015.02', '2015.03', '2015.04', '2015.05', '2015.06',\n",
       "       '2015.07', '2015.08', '2015.09', '2015.10'], dtype=object)"
      ]
     },
     "execution_count": 25,
     "metadata": {},
     "output_type": "execute_result"
    }
   ],
   "source": [
    "sales['y_m'].sort_values().unique()"
   ]
  },
  {
   "cell_type": "code",
   "execution_count": 26,
   "id": "eee17a0f-7077-4213-a35c-0c484752e113",
   "metadata": {
    "tags": []
   },
   "outputs": [
    {
     "name": "stdout",
     "output_type": "stream",
     "text": [
      "0 2013.01\n",
      "1 2013.02\n",
      "2 2013.03\n",
      "3 2013.04\n",
      "4 2013.05\n",
      "5 2013.06\n",
      "6 2013.07\n",
      "7 2013.08\n",
      "8 2013.09\n",
      "9 2013.10\n",
      "10 2013.11\n",
      "11 2013.12\n",
      "12 2014.01\n",
      "13 2014.02\n",
      "14 2014.03\n",
      "15 2014.04\n",
      "16 2014.05\n",
      "17 2014.06\n",
      "18 2014.07\n",
      "19 2014.08\n",
      "20 2014.09\n",
      "21 2014.10\n",
      "22 2014.11\n",
      "23 2014.12\n",
      "24 2015.01\n",
      "25 2015.02\n",
      "26 2015.03\n",
      "27 2015.04\n",
      "28 2015.05\n",
      "29 2015.06\n",
      "30 2015.07\n",
      "31 2015.08\n",
      "32 2015.09\n",
      "33 2015.10\n"
     ]
    }
   ],
   "source": [
    "sales_mapping={}\n",
    "for i,j in enumerate(sales['y_m'].sort_values().unique()):\n",
    "    sales_mapping[j]=i+1\n",
    "    print(i,j)"
   ]
  },
  {
   "cell_type": "code",
   "execution_count": 27,
   "id": "615e47f4-d053-4017-94d2-5c6796f230c6",
   "metadata": {},
   "outputs": [],
   "source": [
    "y_m_mapping={j:i+1 for i,j in enumerate(sales['y_m'].sort_values().unique())}##comprehesion"
   ]
  },
  {
   "cell_type": "code",
   "execution_count": 28,
   "id": "4513a24a-1dc7-4e04-988b-9e674dc9f740",
   "metadata": {
    "tags": []
   },
   "outputs": [
    {
     "data": {
      "text/plain": [
       "{'2013.01': 1,\n",
       " '2013.02': 2,\n",
       " '2013.03': 3,\n",
       " '2013.04': 4,\n",
       " '2013.05': 5,\n",
       " '2013.06': 6,\n",
       " '2013.07': 7,\n",
       " '2013.08': 8,\n",
       " '2013.09': 9,\n",
       " '2013.10': 10,\n",
       " '2013.11': 11,\n",
       " '2013.12': 12,\n",
       " '2014.01': 13,\n",
       " '2014.02': 14,\n",
       " '2014.03': 15,\n",
       " '2014.04': 16,\n",
       " '2014.05': 17,\n",
       " '2014.06': 18,\n",
       " '2014.07': 19,\n",
       " '2014.08': 20,\n",
       " '2014.09': 21,\n",
       " '2014.10': 22,\n",
       " '2014.11': 23,\n",
       " '2014.12': 24,\n",
       " '2015.01': 25,\n",
       " '2015.02': 26,\n",
       " '2015.03': 27,\n",
       " '2015.04': 28,\n",
       " '2015.05': 29,\n",
       " '2015.06': 30,\n",
       " '2015.07': 31,\n",
       " '2015.08': 32,\n",
       " '2015.09': 33,\n",
       " '2015.10': 34}"
      ]
     },
     "execution_count": 28,
     "metadata": {},
     "output_type": "execute_result"
    }
   ],
   "source": [
    "y_m_mapping"
   ]
  },
  {
   "cell_type": "code",
   "execution_count": 29,
   "id": "67bb24e4-cca0-4a05-890e-dff40f923881",
   "metadata": {},
   "outputs": [],
   "source": [
    "sales['y_m2']=sales['y_m'].map(y_m_mapping)"
   ]
  },
  {
   "cell_type": "code",
   "execution_count": 30,
   "id": "0e4bd6bc-1ccd-44f2-aa5b-6a9399200d87",
   "metadata": {
    "tags": []
   },
   "outputs": [
    {
     "data": {
      "text/plain": [
       "array(['01.01', '01.02', '01.03', '01.04', '01.05', '01.06', '01.07',\n",
       "       '01.08', '01.09', '01.10', '01.11', '01.12', '01.13', '01.14',\n",
       "       '01.15', '01.16', '01.17', '01.18', '01.19', '01.20', '01.21',\n",
       "       '01.22', '01.23', '01.24', '01.25', '01.26', '01.27', '01.28',\n",
       "       '01.29', '01.30', '01.31', '02.01', '02.02', '02.03', '02.04',\n",
       "       '02.05', '02.06', '02.07', '02.08', '02.09', '02.10', '02.11',\n",
       "       '02.12', '02.13', '02.14', '02.15', '02.16', '02.17', '02.18',\n",
       "       '02.19', '02.20', '02.21', '02.22', '02.23', '02.24', '02.25',\n",
       "       '02.26', '02.27', '02.28', '03.01', '03.02', '03.03', '03.04',\n",
       "       '03.05', '03.06', '03.07', '03.08', '03.09', '03.10', '03.11',\n",
       "       '03.12', '03.13', '03.14', '03.15', '03.16', '03.17', '03.18',\n",
       "       '03.19', '03.20', '03.21', '03.22', '03.23', '03.24', '03.25',\n",
       "       '03.26', '03.27', '03.28', '03.29', '03.30', '03.31', '04.01',\n",
       "       '04.02', '04.03', '04.04', '04.05', '04.06', '04.07', '04.08',\n",
       "       '04.09', '04.10', '04.11', '04.12', '04.13', '04.14', '04.15',\n",
       "       '04.16', '04.17', '04.18', '04.19', '04.20', '04.21', '04.22',\n",
       "       '04.23', '04.24', '04.25', '04.26', '04.27', '04.28', '04.29',\n",
       "       '04.30', '05.01', '05.02', '05.03', '05.04', '05.05', '05.06',\n",
       "       '05.07', '05.08', '05.09', '05.10', '05.11', '05.12', '05.13',\n",
       "       '05.14', '05.15', '05.16', '05.17', '05.18', '05.19', '05.20',\n",
       "       '05.21', '05.22', '05.23', '05.24', '05.25', '05.26', '05.27',\n",
       "       '05.28', '05.29', '05.30', '05.31', '06.01', '06.02', '06.03',\n",
       "       '06.04', '06.05', '06.06', '06.07', '06.08', '06.09', '06.10',\n",
       "       '06.11', '06.12', '06.13', '06.14', '06.15', '06.16', '06.17',\n",
       "       '06.18', '06.19', '06.20', '06.21', '06.22', '06.23', '06.24',\n",
       "       '06.25', '06.26', '06.27', '06.28', '06.29', '06.30', '07.01',\n",
       "       '07.02', '07.03', '07.04', '07.05', '07.06', '07.07', '07.08',\n",
       "       '07.09', '07.10', '07.11', '07.12', '07.13', '07.14', '07.15',\n",
       "       '07.16', '07.17', '07.18', '07.19', '07.20', '07.21', '07.22',\n",
       "       '07.23', '07.24', '07.25', '07.26', '07.27', '07.28', '07.29',\n",
       "       '07.30', '07.31', '08.01', '08.02', '08.03', '08.04', '08.05',\n",
       "       '08.06', '08.07', '08.08', '08.09', '08.10', '08.11', '08.12',\n",
       "       '08.13', '08.14', '08.15', '08.16', '08.17', '08.18', '08.19',\n",
       "       '08.20', '08.21', '08.22', '08.23', '08.24', '08.25', '08.26',\n",
       "       '08.27', '08.28', '08.29', '08.30', '08.31', '09.01', '09.02',\n",
       "       '09.03', '09.04', '09.05', '09.06', '09.07', '09.08', '09.09',\n",
       "       '09.10', '09.11', '09.12', '09.13', '09.14', '09.15', '09.16',\n",
       "       '09.17', '09.18', '09.19', '09.20', '09.21', '09.22', '09.23',\n",
       "       '09.24', '09.25', '09.26', '09.27', '09.28', '09.29', '09.30',\n",
       "       '10.01', '10.02', '10.03', '10.04', '10.05', '10.06', '10.07',\n",
       "       '10.08', '10.09', '10.10', '10.11', '10.12', '10.13', '10.14',\n",
       "       '10.15', '10.16', '10.17', '10.18', '10.19', '10.20', '10.21',\n",
       "       '10.22', '10.23', '10.24', '10.25', '10.26', '10.27', '10.28',\n",
       "       '10.29', '10.30', '10.31', '11.01', '11.02', '11.03', '11.04',\n",
       "       '11.05', '11.06', '11.07', '11.08', '11.09', '11.10', '11.11',\n",
       "       '11.12', '11.13', '11.14', '11.15', '11.16', '11.17', '11.18',\n",
       "       '11.19', '11.20', '11.21', '11.22', '11.23', '11.24', '11.25',\n",
       "       '11.26', '11.27', '11.28', '11.29', '11.30', '12.01', '12.02',\n",
       "       '12.03', '12.04', '12.05', '12.06', '12.07', '12.08', '12.09',\n",
       "       '12.10', '12.11', '12.12', '12.13', '12.14', '12.15', '12.16',\n",
       "       '12.17', '12.18', '12.19', '12.20', '12.21', '12.22', '12.23',\n",
       "       '12.24', '12.25', '12.26', '12.27', '12.28', '12.29', '12.30',\n",
       "       '12.31'], dtype=object)"
      ]
     },
     "execution_count": 30,
     "metadata": {},
     "output_type": "execute_result"
    }
   ],
   "source": [
    "sales['m_d'].sort_values().unique()"
   ]
  },
  {
   "cell_type": "code",
   "execution_count": 31,
   "id": "17203aef-53de-40e5-99a4-a166627064ae",
   "metadata": {
    "tags": []
   },
   "outputs": [],
   "source": [
    "m_d_mapping={j:i+1 for i,j in enumerate(sales['m_d'].sort_values().unique())}"
   ]
  },
  {
   "cell_type": "code",
   "execution_count": 32,
   "id": "d2dc9a6d-fc08-4bde-84c2-8aee0dcceacf",
   "metadata": {},
   "outputs": [],
   "source": [
    "sales['m_d2']=sales['m_d'].map(m_d_mapping)"
   ]
  },
  {
   "cell_type": "code",
   "execution_count": 33,
   "id": "d7d7e045-0a07-4a34-8c27-ce798c6ab13f",
   "metadata": {},
   "outputs": [],
   "source": [
    "sales.drop(columns=['y_m','m_d'],inplace=True)"
   ]
  },
  {
   "cell_type": "code",
   "execution_count": 34,
   "id": "4cacfe1e-6134-48ed-89b7-0ec6c9b64729",
   "metadata": {},
   "outputs": [],
   "source": [
    "sales.rename({'y_m2':'y_m','m_d2':'m_d'},axis=1,inplace=True)"
   ]
  },
  {
   "cell_type": "code",
   "execution_count": 35,
   "id": "4f575a7b-bf09-4cbc-83e4-e387fbae313c",
   "metadata": {
    "tags": []
   },
   "outputs": [
    {
     "data": {
      "text/html": [
       "<div>\n",
       "<style scoped>\n",
       "    .dataframe tbody tr th:only-of-type {\n",
       "        vertical-align: middle;\n",
       "    }\n",
       "\n",
       "    .dataframe tbody tr th {\n",
       "        vertical-align: top;\n",
       "    }\n",
       "\n",
       "    .dataframe thead th {\n",
       "        text-align: right;\n",
       "    }\n",
       "</style>\n",
       "<table border=\"1\" class=\"dataframe\">\n",
       "  <thead>\n",
       "    <tr style=\"text-align: right;\">\n",
       "      <th></th>\n",
       "      <th>date</th>\n",
       "      <th>shop_id</th>\n",
       "      <th>item_id</th>\n",
       "      <th>item_price</th>\n",
       "      <th>item_cnt_day</th>\n",
       "      <th>day</th>\n",
       "      <th>month</th>\n",
       "      <th>year</th>\n",
       "      <th>income</th>\n",
       "      <th>y_m</th>\n",
       "      <th>m_d</th>\n",
       "    </tr>\n",
       "  </thead>\n",
       "  <tbody>\n",
       "    <tr>\n",
       "      <th>0</th>\n",
       "      <td>02.01.2013</td>\n",
       "      <td>59</td>\n",
       "      <td>22154</td>\n",
       "      <td>999.00</td>\n",
       "      <td>1.0</td>\n",
       "      <td>02</td>\n",
       "      <td>01</td>\n",
       "      <td>2013</td>\n",
       "      <td>999.00</td>\n",
       "      <td>1</td>\n",
       "      <td>2</td>\n",
       "    </tr>\n",
       "    <tr>\n",
       "      <th>1</th>\n",
       "      <td>03.01.2013</td>\n",
       "      <td>25</td>\n",
       "      <td>2552</td>\n",
       "      <td>899.00</td>\n",
       "      <td>1.0</td>\n",
       "      <td>03</td>\n",
       "      <td>01</td>\n",
       "      <td>2013</td>\n",
       "      <td>899.00</td>\n",
       "      <td>1</td>\n",
       "      <td>3</td>\n",
       "    </tr>\n",
       "    <tr>\n",
       "      <th>3</th>\n",
       "      <td>06.01.2013</td>\n",
       "      <td>25</td>\n",
       "      <td>2554</td>\n",
       "      <td>1709.05</td>\n",
       "      <td>1.0</td>\n",
       "      <td>06</td>\n",
       "      <td>01</td>\n",
       "      <td>2013</td>\n",
       "      <td>1709.05</td>\n",
       "      <td>1</td>\n",
       "      <td>6</td>\n",
       "    </tr>\n",
       "    <tr>\n",
       "      <th>4</th>\n",
       "      <td>15.01.2013</td>\n",
       "      <td>25</td>\n",
       "      <td>2555</td>\n",
       "      <td>1099.00</td>\n",
       "      <td>1.0</td>\n",
       "      <td>15</td>\n",
       "      <td>01</td>\n",
       "      <td>2013</td>\n",
       "      <td>1099.00</td>\n",
       "      <td>1</td>\n",
       "      <td>15</td>\n",
       "    </tr>\n",
       "    <tr>\n",
       "      <th>5</th>\n",
       "      <td>10.01.2013</td>\n",
       "      <td>25</td>\n",
       "      <td>2564</td>\n",
       "      <td>349.00</td>\n",
       "      <td>1.0</td>\n",
       "      <td>10</td>\n",
       "      <td>01</td>\n",
       "      <td>2013</td>\n",
       "      <td>349.00</td>\n",
       "      <td>1</td>\n",
       "      <td>10</td>\n",
       "    </tr>\n",
       "    <tr>\n",
       "      <th>...</th>\n",
       "      <td>...</td>\n",
       "      <td>...</td>\n",
       "      <td>...</td>\n",
       "      <td>...</td>\n",
       "      <td>...</td>\n",
       "      <td>...</td>\n",
       "      <td>...</td>\n",
       "      <td>...</td>\n",
       "      <td>...</td>\n",
       "      <td>...</td>\n",
       "      <td>...</td>\n",
       "    </tr>\n",
       "    <tr>\n",
       "      <th>2935844</th>\n",
       "      <td>10.10.2015</td>\n",
       "      <td>25</td>\n",
       "      <td>7409</td>\n",
       "      <td>299.00</td>\n",
       "      <td>1.0</td>\n",
       "      <td>10</td>\n",
       "      <td>10</td>\n",
       "      <td>2015</td>\n",
       "      <td>299.00</td>\n",
       "      <td>34</td>\n",
       "      <td>283</td>\n",
       "    </tr>\n",
       "    <tr>\n",
       "      <th>2935845</th>\n",
       "      <td>09.10.2015</td>\n",
       "      <td>25</td>\n",
       "      <td>7460</td>\n",
       "      <td>299.00</td>\n",
       "      <td>1.0</td>\n",
       "      <td>09</td>\n",
       "      <td>10</td>\n",
       "      <td>2015</td>\n",
       "      <td>299.00</td>\n",
       "      <td>34</td>\n",
       "      <td>282</td>\n",
       "    </tr>\n",
       "    <tr>\n",
       "      <th>2935846</th>\n",
       "      <td>14.10.2015</td>\n",
       "      <td>25</td>\n",
       "      <td>7459</td>\n",
       "      <td>349.00</td>\n",
       "      <td>1.0</td>\n",
       "      <td>14</td>\n",
       "      <td>10</td>\n",
       "      <td>2015</td>\n",
       "      <td>349.00</td>\n",
       "      <td>34</td>\n",
       "      <td>287</td>\n",
       "    </tr>\n",
       "    <tr>\n",
       "      <th>2935847</th>\n",
       "      <td>22.10.2015</td>\n",
       "      <td>25</td>\n",
       "      <td>7440</td>\n",
       "      <td>299.00</td>\n",
       "      <td>1.0</td>\n",
       "      <td>22</td>\n",
       "      <td>10</td>\n",
       "      <td>2015</td>\n",
       "      <td>299.00</td>\n",
       "      <td>34</td>\n",
       "      <td>295</td>\n",
       "    </tr>\n",
       "    <tr>\n",
       "      <th>2935848</th>\n",
       "      <td>03.10.2015</td>\n",
       "      <td>25</td>\n",
       "      <td>7460</td>\n",
       "      <td>299.00</td>\n",
       "      <td>1.0</td>\n",
       "      <td>03</td>\n",
       "      <td>10</td>\n",
       "      <td>2015</td>\n",
       "      <td>299.00</td>\n",
       "      <td>34</td>\n",
       "      <td>276</td>\n",
       "    </tr>\n",
       "  </tbody>\n",
       "</table>\n",
       "<p>2928492 rows × 11 columns</p>\n",
       "</div>"
      ],
      "text/plain": [
       "               date  shop_id  item_id  item_price  item_cnt_day day month  \\\n",
       "0        02.01.2013       59    22154      999.00           1.0  02    01   \n",
       "1        03.01.2013       25     2552      899.00           1.0  03    01   \n",
       "3        06.01.2013       25     2554     1709.05           1.0  06    01   \n",
       "4        15.01.2013       25     2555     1099.00           1.0  15    01   \n",
       "5        10.01.2013       25     2564      349.00           1.0  10    01   \n",
       "...             ...      ...      ...         ...           ...  ..   ...   \n",
       "2935844  10.10.2015       25     7409      299.00           1.0  10    10   \n",
       "2935845  09.10.2015       25     7460      299.00           1.0  09    10   \n",
       "2935846  14.10.2015       25     7459      349.00           1.0  14    10   \n",
       "2935847  22.10.2015       25     7440      299.00           1.0  22    10   \n",
       "2935848  03.10.2015       25     7460      299.00           1.0  03    10   \n",
       "\n",
       "         year   income  y_m  m_d  \n",
       "0        2013   999.00    1    2  \n",
       "1        2013   899.00    1    3  \n",
       "3        2013  1709.05    1    6  \n",
       "4        2013  1099.00    1   15  \n",
       "5        2013   349.00    1   10  \n",
       "...       ...      ...  ...  ...  \n",
       "2935844  2015   299.00   34  283  \n",
       "2935845  2015   299.00   34  282  \n",
       "2935846  2015   349.00   34  287  \n",
       "2935847  2015   299.00   34  295  \n",
       "2935848  2015   299.00   34  276  \n",
       "\n",
       "[2928492 rows x 11 columns]"
      ]
     },
     "execution_count": 35,
     "metadata": {},
     "output_type": "execute_result"
    }
   ],
   "source": [
    "sales"
   ]
  },
  {
   "cell_type": "code",
   "execution_count": 36,
   "id": "21f72ac1-c2aa-4971-8b57-86a764429886",
   "metadata": {},
   "outputs": [],
   "source": [
    "sales.to_csv('sales_pre.csv',index=False)"
   ]
  },
  {
   "cell_type": "code",
   "execution_count": null,
   "id": "34f5feef-c7fa-4534-b602-ca048537c6fe",
   "metadata": {},
   "outputs": [],
   "source": []
  },
  {
   "cell_type": "code",
   "execution_count": null,
   "id": "2ab841de-5050-4236-a07d-6d7eec1b2a33",
   "metadata": {},
   "outputs": [],
   "source": []
  },
  {
   "cell_type": "code",
   "execution_count": null,
   "id": "d15254f9-c314-48e7-8f77-ae164d7a9b33",
   "metadata": {},
   "outputs": [],
   "source": []
  }
 ],
 "metadata": {
  "kernelspec": {
   "display_name": "Python 3 (ipykernel)",
   "language": "python",
   "name": "python3"
  },
  "language_info": {
   "codemirror_mode": {
    "name": "ipython",
    "version": 3
   },
   "file_extension": ".py",
   "mimetype": "text/x-python",
   "name": "python",
   "nbconvert_exporter": "python",
   "pygments_lexer": "ipython3",
   "version": "3.9.12"
  }
 },
 "nbformat": 4,
 "nbformat_minor": 5
}
