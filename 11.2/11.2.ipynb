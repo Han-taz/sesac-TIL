{
 "cells": [
  {
   "cell_type": "markdown",
   "id": "9eb7c6bd-3100-4291-99f1-a4297c88c4b0",
   "metadata": {},
   "source": [
    "###   교보문고 크롤링\n"
   ]
  },
  {
   "cell_type": "code",
   "execution_count": 3,
   "id": "f7b83021-b4d4-4a61-aa14-57118eca565b",
   "metadata": {},
   "outputs": [],
   "source": [
    "import requests"
   ]
  },
  {
   "cell_type": "code",
   "execution_count": 4,
   "id": "25433105-9d55-4b3a-88f2-674faef31ecb",
   "metadata": {},
   "outputs": [],
   "source": [
    "req=requests.get('https://product.kyobobook.co.kr/api/gw/pub/pdt/best-seller/online?page=1&per=20&period=001&dsplDvsnCode=000&dsplTrgtDvsnCode=001').json()"
   ]
  },
  {
   "cell_type": "code",
   "execution_count": 5,
   "id": "6b01e7d9-a478-4676-96cf-eae0d63e9627",
   "metadata": {
    "tags": []
   },
   "outputs": [
    {
     "data": {
      "text/plain": [
       "{'prstRnkn': 2,\n",
       " 'imgPath': '',\n",
       " 'recdCode': '',\n",
       " 'saleCmdtid': 'S000061694154',\n",
       " 'saleCmdtGrpDvsnCode': 'SGK',\n",
       " 'cmdtName': '아버지의 해방일지',\n",
       " 'chrcName': '정지아',\n",
       " 'pbcmName': '창비',\n",
       " 'ppbkRlseDate': '',\n",
       " 'rlseDate': '20220902',\n",
       " 'inbukCntt': '김유정문학상 심훈문학대상 이효석문학상 등을 수상하며 문학성을 두루 입증받은 ‘리얼리스트’ 정지아가 무려 32년 만에 장편소설을 발표했다. 써내는 작품마다 삶의 현존을 정확하게 묘사하며 독자와 평단의 찬사를 받아온 작가는 이번에 역사의 상흔과 가족의 사랑을 엮어낸 대작을 선보임으로써 선 굵은 서사에 목마른 독자들에게 한모금 청량음료 같은 해갈을 선사한다. 탁월한 언어적 세공으로 “한국소설의 새로운 화법을 제시”(문학평론가 정홍수)하기를 거듭해온 정지아는 한 시대를 풍미한 『빨치산의 딸』(1990) 이래로 다시 초심으로 돌아가 아버지 이야기를 다룬다. \\n\\n소설은 ‘전직 빨치산’ 아버지의 죽음 이후 3일간의 시간만을 현재적 배경으로 다루지만, 장례식장에서 얽히고설킨 이야기를 따라가다보면 해방 이후 70년 현대사의 질곡이 생생하게 드러난다. 이러한 웅장한 스케일과 함께 손을 놓을 수 없는 몰입감을 동시에 안겨주는 것은 정지아만이 가능한 서사적 역량이다. 그러나 이 소설의 진정한 묘미는 어쩌면 ‘가벼움’에 있다. “아버지가 죽었다. (…) 이런 젠장”으로 시작하는 첫 챕터에서 독자들은 감을 잡겠지만 이 책은 진중한 주제의식에도 불구하고 ‘각 잡고’ 진지한 소설이 아니다. 남도의 구수한 입말로 풀어낸 일화들은 저마다 서글프지만 피식피식 웃기고, “울분이 솟다 말고 ‘긍게 사람이제’ 한마디로 가슴이 따뜻”(추천사, 김미월)해진다.',\n",
       " 'price': 15000.0,\n",
       " 'sapr': 13500.0,\n",
       " 'dscnRate': 10,\n",
       " 'upntAcmlAmnt': 750,\n",
       " 'buyRevwNumc': 158,\n",
       " 'buyRevwRvgr': 9.76,\n",
       " 'revwEmtnKywrName': '고마워요',\n",
       " 'frmrRnkn': 2,\n",
       " 'preview': False,\n",
       " 'likeWhether': False,\n",
       " 'saleCmdtDvsnCode': 'KOR',\n",
       " 'saleCmdtPrceCurnUntCode': '011',\n",
       " 'saleCmdtClstCode': '010101',\n",
       " 'saleCmdtClstName': '한국소설일반',\n",
       " 'saleCdtnCode': '001',\n",
       " 'cmdtCdtnCode': '001',\n",
       " 'cmdtCode': '9788936438838',\n",
       " 'saleLmttAge': 0,\n",
       " 'ymw': '20221103',\n",
       " 'total': 0,\n",
       " 'rowNum': 2,\n",
       " 'productInfo': {'saleCmdtid': None,\n",
       "  'like': True,\n",
       "  'basket': True,\n",
       "  'buy': True,\n",
       "  'direct': False,\n",
       "  'viewDetails': False,\n",
       "  'sticky': None,\n",
       "  'reStockOnOff': True,\n",
       "  'releaseOnOff': True,\n",
       "  'shippingCode': '002',\n",
       "  'shippingText': '<strong class=blue>11월 5일 출고예정</strong>',\n",
       "  'shippingKind': None,\n",
       "  'todayBook': True,\n",
       "  'todayBookLabel': '2022년 09월 16일 오늘의 책',\n",
       "  'mdChoice': True,\n",
       "  'specialOrder': False,\n",
       "  'onlyKyobo': False,\n",
       "  'limitSale': False,\n",
       "  'gifts': True,\n",
       "  'event': False,\n",
       "  'incomeDeduction': True,\n",
       "  'fixPrice': False,\n",
       "  'bind': False,\n",
       "  'cutPrice': False}}"
      ]
     },
     "execution_count": 5,
     "metadata": {},
     "output_type": "execute_result"
    }
   ],
   "source": [
    "req['data']['bestSeller'][1]"
   ]
  },
  {
   "cell_type": "code",
   "execution_count": 6,
   "id": "d76f1115-ace7-4dd4-bc09-a8e32d5dc00b",
   "metadata": {},
   "outputs": [
    {
     "name": "stdout",
     "output_type": "stream",
     "text": [
      "미래의창\n",
      "창비\n",
      "문학동네\n",
      "사회평론아카데미\n",
      "나무옆의자\n",
      "웅진지식하우스\n",
      "나무옆의자\n",
      "21세기북스\n",
      "유노북스\n",
      "미디어숲\n",
      "북로망스\n",
      "미디어숲\n",
      "리드리드출판\n",
      "매경출판\n",
      "난다\n",
      "포레스트북스\n",
      "웅진지식하우스\n",
      "린체인저스\n",
      "현대지성\n",
      "윌북\n"
     ]
    }
   ],
   "source": [
    "for bs in req['data']['bestSeller']:\n",
    "    print(bs['pbcmName'])"
   ]
  },
  {
   "cell_type": "code",
   "execution_count": 7,
   "id": "4753c0d1-7b3a-4bba-ac21-a59ab5902c1f",
   "metadata": {
    "tags": []
   },
   "outputs": [
    {
     "name": "stdout",
     "output_type": "stream",
     "text": [
      "미래의창\n",
      "창비\n",
      "문학동네\n",
      "사회평론아카데미\n",
      "나무옆의자\n",
      "웅진지식하우스\n",
      "나무옆의자\n",
      "21세기북스\n",
      "유노북스\n",
      "미디어숲\n",
      "북로망스\n",
      "미디어숲\n",
      "리드리드출판\n",
      "매경출판\n",
      "난다\n",
      "포레스트북스\n",
      "웅진지식하우스\n",
      "린체인저스\n",
      "현대지성\n",
      "윌북\n"
     ]
    }
   ],
   "source": [
    "for bs in req['data']['bestSeller']:\n",
    "    print(bs['pbcmName'])"
   ]
  },
  {
   "cell_type": "code",
   "execution_count": 8,
   "id": "021948a5-7f2b-4662-ad05-7cd1fedc7237",
   "metadata": {},
   "outputs": [],
   "source": [
    "headers:'User-Agent: Mozilla/5.0 (Windows NT 10.0; Win64; x64) AppleWebKit/537.36 (KHTML, like Gecko) Chrome/106.0.0.0 Safari/537.36'"
   ]
  },
  {
   "cell_type": "code",
   "execution_count": 9,
   "id": "f9cf1f93-b150-4cdd-b7b1-d80a830576d8",
   "metadata": {},
   "outputs": [
    {
     "ename": "NameError",
     "evalue": "name 'headers' is not defined",
     "output_type": "error",
     "traceback": [
      "\u001b[1;31m---------------------------------------------------------------------------\u001b[0m",
      "\u001b[1;31mNameError\u001b[0m                                 Traceback (most recent call last)",
      "Input \u001b[1;32mIn [9]\u001b[0m, in \u001b[0;36m<cell line: 1>\u001b[1;34m()\u001b[0m\n\u001b[1;32m----> 1\u001b[0m requests\u001b[38;5;241m.\u001b[39mget(\u001b[38;5;124m'\u001b[39m\u001b[38;5;124m#productItem13463144 > div > div.prod_info > p > a\u001b[39m\u001b[38;5;124m'\u001b[39m,headers\u001b[38;5;241m=\u001b[39m\u001b[43mheaders\u001b[49m)\n",
      "\u001b[1;31mNameError\u001b[0m: name 'headers' is not defined"
     ]
    }
   ],
   "source": [
    "requests.get('#productItem13463144 > div > div.prod_info > p > a',headers=headers)"
   ]
  },
  {
   "cell_type": "code",
   "execution_count": null,
   "id": "39052878-52b1-4c66-8862-7070d9a92b67",
   "metadata": {},
   "outputs": [],
   "source": []
  },
  {
   "cell_type": "code",
   "execution_count": null,
   "id": "60fff7f8-8b36-4e4e-85e0-51e72ccd510e",
   "metadata": {},
   "outputs": [],
   "source": []
  }
 ],
 "metadata": {
  "kernelspec": {
   "display_name": "Python 3 (ipykernel)",
   "language": "python",
   "name": "python3"
  },
  "language_info": {
   "codemirror_mode": {
    "name": "ipython",
    "version": 3
   },
   "file_extension": ".py",
   "mimetype": "text/x-python",
   "name": "python",
   "nbconvert_exporter": "python",
   "pygments_lexer": "ipython3",
   "version": "3.9.12"
  }
 },
 "nbformat": 4,
 "nbformat_minor": 5
}
