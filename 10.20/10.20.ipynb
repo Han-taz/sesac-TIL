{
 "cells": [
  {
   "cell_type": "code",
   "execution_count": 15,
   "id": "cced167c-ea04-45ef-adc6-4337249aa318",
   "metadata": {},
   "outputs": [],
   "source": [
    "def calc(oper,*args):\n",
    "    i=None\n",
    "    \n",
    "    \n",
    "    if oper=='+':\n",
    "        i = 0\n",
    "        for a in args:\n",
    "        \n",
    "            i+=a\n",
    "    elif oper=='*':\n",
    "        i=1\n",
    "        for a in args:\n",
    "            i*=a\n",
    "    return i\n",
    "        "
   ]
  },
  {
   "cell_type": "code",
   "execution_count": 20,
   "id": "2c31b6e8-da82-4361-b894-cdf361fc9011",
   "metadata": {},
   "outputs": [
    {
     "data": {
      "text/plain": [
       "8"
      ]
     },
     "execution_count": 20,
     "metadata": {},
     "output_type": "execute_result"
    }
   ],
   "source": [
    "calc('+',1,3,4)"
   ]
  },
  {
   "cell_type": "code",
   "execution_count": 21,
   "id": "ed0a4e86-5142-495e-a549-ea0d8ebd6db8",
   "metadata": {},
   "outputs": [
    {
     "data": {
      "text/plain": [
       "6"
      ]
     },
     "execution_count": 21,
     "metadata": {},
     "output_type": "execute_result"
    }
   ],
   "source": [
    "calc('*',2,3)"
   ]
  },
  {
   "cell_type": "code",
   "execution_count": 25,
   "id": "e2bff1e2-1177-4846-b6ec-81e99726bb06",
   "metadata": {},
   "outputs": [],
   "source": [
    "a=1\n",
    "def test(a):\n",
    "    scope_var=a+1\n",
    "    print(scope_var)#함수 안에서만 사용가능"
   ]
  },
  {
   "cell_type": "code",
   "execution_count": 26,
   "id": "1db00ca1-67be-4d03-abc7-a5e68a49c3a4",
   "metadata": {},
   "outputs": [
    {
     "name": "stdout",
     "output_type": "stream",
     "text": [
      "2\n"
     ]
    }
   ],
   "source": [
    "test(a)"
   ]
  },
  {
   "cell_type": "code",
   "execution_count": 27,
   "id": "a6b422b8-0e24-4b6b-93b6-918b66b54c93",
   "metadata": {},
   "outputs": [
    {
     "ename": "NameError",
     "evalue": "name 'scorpe_var' is not defined",
     "output_type": "error",
     "traceback": [
      "\u001b[1;31m---------------------------------------------------------------------------\u001b[0m",
      "\u001b[1;31mNameError\u001b[0m                                 Traceback (most recent call last)",
      "Input \u001b[1;32mIn [27]\u001b[0m, in \u001b[0;36m<cell line: 1>\u001b[1;34m()\u001b[0m\n\u001b[1;32m----> 1\u001b[0m \u001b[43mscorpe_var\u001b[49m\n",
      "\u001b[1;31mNameError\u001b[0m: name 'scorpe_var' is not defined"
     ]
    }
   ],
   "source": [
    "scorpe_var"
   ]
  },
  {
   "cell_type": "code",
   "execution_count": 1,
   "id": "940d3539-db6d-4fcb-a823-7a99ca4a0beb",
   "metadata": {},
   "outputs": [],
   "source": [
    "a=1\n",
    "def test2(a):\n",
    "    scope_var = a + 1\n",
    "    print(scope_var)"
   ]
  },
  {
   "cell_type": "code",
   "execution_count": 2,
   "id": "77e3d636-2f1b-4f95-9355-86600d5157df",
   "metadata": {},
   "outputs": [
    {
     "name": "stdout",
     "output_type": "stream",
     "text": [
      "2\n"
     ]
    }
   ],
   "source": [
    "test2(1)"
   ]
  },
  {
   "cell_type": "code",
   "execution_count": 30,
   "id": "583fe852-4c5b-4d61-95c3-24ca460cd35a",
   "metadata": {},
   "outputs": [
    {
     "data": {
      "text/plain": [
       "1"
      ]
     },
     "execution_count": 30,
     "metadata": {},
     "output_type": "execute_result"
    }
   ],
   "source": [
    "a"
   ]
  },
  {
   "cell_type": "code",
   "execution_count": 1,
   "id": "c0933c3b-82d6-4458-bbcd-898c701ffef2",
   "metadata": {},
   "outputs": [],
   "source": [
    "#특별한 경우 쓰지 않는 것 추천 global a 값 지우면 다른 곳에도 영향 줌\n",
    "def test3():\n",
    "    global t\n",
    "    t+=1\n",
    "    return t"
   ]
  },
  {
   "cell_type": "code",
   "execution_count": 2,
   "id": "fe0906bc-1e6a-4644-9a8c-b080c7464a09",
   "metadata": {},
   "outputs": [],
   "source": [
    "t=3"
   ]
  },
  {
   "cell_type": "code",
   "execution_count": 3,
   "id": "dee6f3f9-62f1-46c8-8777-08487e0aefb1",
   "metadata": {},
   "outputs": [
    {
     "data": {
      "text/plain": [
       "4"
      ]
     },
     "execution_count": 3,
     "metadata": {},
     "output_type": "execute_result"
    }
   ],
   "source": [
    "test3()"
   ]
  },
  {
   "cell_type": "code",
   "execution_count": 8,
   "id": "561396da-eca4-4687-82e8-4cc7aa7fa110",
   "metadata": {},
   "outputs": [],
   "source": [
    "def test3(t):\n",
    "    t+=1\n",
    "    print(t)"
   ]
  },
  {
   "cell_type": "code",
   "execution_count": 10,
   "id": "47d749d0-e60b-4b11-b9a8-9a2f8246240e",
   "metadata": {},
   "outputs": [
    {
     "name": "stdout",
     "output_type": "stream",
     "text": [
      "7\n"
     ]
    }
   ],
   "source": [
    "test3(6)"
   ]
  },
  {
   "cell_type": "code",
   "execution_count": 48,
   "id": "146f9112-ad36-499d-8fdb-88cbfc08ec1d",
   "metadata": {},
   "outputs": [],
   "source": [
    "def print_kwargs(**kwarags):\n",
    "    print(kwarags)"
   ]
  },
  {
   "cell_type": "code",
   "execution_count": 19,
   "id": "6d165bde",
   "metadata": {},
   "outputs": [],
   "source": [
    "def kwargs(**name):\n",
    "    for i,j in name.items():\n",
    "        print(i,j)"
   ]
  },
  {
   "cell_type": "code",
   "execution_count": 50,
   "id": "d6b8104b-dc9a-4335-8aa6-0ed0ce8c1449",
   "metadata": {},
   "outputs": [
    {
     "name": "stdout",
     "output_type": "stream",
     "text": [
      "{'a': 1, 'b': 2}\n"
     ]
    }
   ],
   "source": [
    "print_kwargs(a=1,b=2)"
   ]
  },
  {
   "cell_type": "code",
   "execution_count": 13,
   "id": "ac076307-6482-4cb1-8862-9eb5c0a3df0f",
   "metadata": {},
   "outputs": [],
   "source": [
    "#e다시\n",
    "def print_kwargs(**kwarags):\n",
    "    print(kwargs)\n",
    "    for key,value in kwargs.items():\n",
    "        print(key,value)\n",
    "        "
   ]
  },
  {
   "cell_type": "code",
   "execution_count": 64,
   "id": "37e65b32-8a3a-4c07-8437-3e4c446bcaab",
   "metadata": {},
   "outputs": [],
   "source": [
    "def test(a,b,c,):\n",
    "    return a+b, a+c# 리턴은 옆으로만 가능return \n",
    "                                       #return 은 불가능"
   ]
  },
  {
   "cell_type": "code",
   "execution_count": 60,
   "id": "f65a0266-27e8-4dc2-a7c5-006c85daff5a",
   "metadata": {},
   "outputs": [
    {
     "data": {
      "text/plain": [
       "(3, 4)"
      ]
     },
     "execution_count": 60,
     "metadata": {},
     "output_type": "execute_result"
    }
   ],
   "source": [
    "test(1,2,3)"
   ]
  },
  {
   "cell_type": "code",
   "execution_count": 61,
   "id": "01660acd-dcc2-44ba-a2eb-e6f35edc3f3d",
   "metadata": {},
   "outputs": [],
   "source": [
    "#\n",
    "ret1,ret2= test(1,2,3)"
   ]
  },
  {
   "cell_type": "code",
   "execution_count": 62,
   "id": "ebe827e9-47c1-470c-b20d-74374d7fa39b",
   "metadata": {},
   "outputs": [
    {
     "data": {
      "text/plain": [
       "3"
      ]
     },
     "execution_count": 62,
     "metadata": {},
     "output_type": "execute_result"
    }
   ],
   "source": [
    "ret1"
   ]
  },
  {
   "cell_type": "code",
   "execution_count": 63,
   "id": "71e0e4a0-8111-4776-bac5-d79e80c9103d",
   "metadata": {},
   "outputs": [
    {
     "data": {
      "text/plain": [
       "4"
      ]
     },
     "execution_count": 63,
     "metadata": {},
     "output_type": "execute_result"
    }
   ],
   "source": [
    "ret2"
   ]
  },
  {
   "cell_type": "code",
   "execution_count": 65,
   "id": "b20cff1f-6c36-44f4-accb-462868c412b6",
   "metadata": {},
   "outputs": [],
   "source": [
    "##파일 입,출력"
   ]
  },
  {
   "cell_type": "markdown",
   "id": "52e41328-786b-4814-b046-a5a7971faac0",
   "metadata": {},
   "source": [
    "### open(filename.mode)  \n",
    "- r(read):읽기  \n",
    "- a(append):추가하기  \n",
    "- w(write):쓰기  "
   ]
  },
  {
   "cell_type": "code",
   "execution_count": 28,
   "id": "4d0b506e-4604-435e-bd50-da90a766f730",
   "metadata": {},
   "outputs": [],
   "source": [
    "f= open('sample.txt','r',encoding='utf-8')#euc-kr도 가능할 수도 영어와 숫자는 인코딩 안 해도 됨'\n",
    "                                         #한글은 필수로 encoding='utf-8'을 달아주어야 한다."
   ]
  },
  {
   "cell_type": "code",
   "execution_count": 29,
   "id": "ec1bbb51-4ae3-426a-8254-1060a8c0e125",
   "metadata": {},
   "outputs": [
    {
     "data": {
      "text/plain": [
       "'1st\\n'"
      ]
     },
     "execution_count": 29,
     "metadata": {},
     "output_type": "execute_result"
    }
   ],
   "source": [
    "f.readline()"
   ]
  },
  {
   "cell_type": "code",
   "execution_count": 30,
   "id": "586593e8-e3ae-4bd6-8780-900225461e90",
   "metadata": {},
   "outputs": [],
   "source": [
    "line= f.readline()"
   ]
  },
  {
   "cell_type": "code",
   "execution_count": 31,
   "id": "500221c8-fe03-4421-bf1a-947846c9c329",
   "metadata": {},
   "outputs": [
    {
     "name": "stdout",
     "output_type": "stream",
     "text": [
      "1st\n",
      "2nd\n",
      "3rd\n",
      "4th"
     ]
    }
   ],
   "source": [
    "f= open('sample.txt','r',encoding='utf-8')\n",
    "while True :\n",
    "    line= f.readline() #readline\n",
    "    if line:\n",
    "        print(line,end='')\n",
    "    else:\n",
    "        break\n",
    "f.close()#항상 파일 열기가 끝났으면 닫아야한다."
   ]
  },
  {
   "cell_type": "code",
   "execution_count": 35,
   "id": "7f0c441d-c134-436b-9dc6-cb60d44363da",
   "metadata": {},
   "outputs": [
    {
     "name": "stdout",
     "output_type": "stream",
     "text": [
      "['1st\\n', '2nd\\n', '3rd\\n', '4th']"
     ]
    }
   ],
   "source": [
    "f= open('sample.txt','r',encoding='utf-8')\n",
    "while True :\n",
    "    line= f.readlines() #readlines\n",
    "    if line:\n",
    "        print(line,end='')\n",
    "    else:\n",
    "        break\n",
    "f.close()#항상 파일 열기가 끝났으면 닫아야한다."
   ]
  },
  {
   "cell_type": "code",
   "execution_count": 36,
   "id": "14e484cd-7a57-47ca-9e1f-edda0f583811",
   "metadata": {},
   "outputs": [
    {
     "name": "stdout",
     "output_type": "stream",
     "text": [
      "\n"
     ]
    }
   ],
   "source": [
    "f2=open('sample.txt','r',encoding='utf-8')\n",
    "f2.read()\n",
    "data=f2.read()\n",
    "print(data)\n",
    "f2.close()"
   ]
  },
  {
   "cell_type": "code",
   "execution_count": 38,
   "id": "276918af-31aa-43b2-aa92-e4e7fa52d07b",
   "metadata": {},
   "outputs": [],
   "source": [
    "f3=open('sample3.txt','w',encoding='utf-8')\n",
    "for i in range(1,6):\n",
    "    data = str(i)+ '번째 줄입니다.\\n'\n",
    "    f3.write(data)\n",
    "f3.close()\n"
   ]
  },
  {
   "cell_type": "code",
   "execution_count": 26,
   "id": "fb6e9440-26a8-4290-a245-f2d782d79f88",
   "metadata": {},
   "outputs": [],
   "source": [
    "f4=open('sample3.txt','r',encoding='utf-8')#인코딩 디코딩"
   ]
  },
  {
   "cell_type": "code",
   "execution_count": 27,
   "id": "fd238a32-f0c1-4a9d-8240-bd86fdd8d53c",
   "metadata": {},
   "outputs": [
    {
     "data": {
      "text/plain": [
       "'1번째 줄입니다.\\n2번째 줄입니다.\\n3번째 줄입니다.\\n4번째 줄입니다.\\n5번째 줄입니다.\\n'"
      ]
     },
     "execution_count": 27,
     "metadata": {},
     "output_type": "execute_result"
    }
   ],
   "source": [
    "f4.read()\n"
   ]
  },
  {
   "cell_type": "code",
   "execution_count": 18,
   "id": "5f1e73fd-9425-4f4d-9c02-1d1ce135d63f",
   "metadata": {},
   "outputs": [],
   "source": [
    "f5=open('sample3.txt','a',encoding='utf-8')#인코딩 디코딩"
   ]
  },
  {
   "cell_type": "code",
   "execution_count": 24,
   "id": "814e9538-ddd5-4a23-9bec-1823caff028a",
   "metadata": {},
   "outputs": [
    {
     "name": "stdout",
     "output_type": "stream",
     "text": [
      "6번째 줄입니다.\n",
      "\n",
      "7번째 줄입니다.\n",
      "\n",
      "8번째 줄입니다.\n",
      "\n",
      "9번째 줄입니다.\n",
      "\n",
      "10번째 줄입니다.\n",
      "\n"
     ]
    }
   ],
   "source": [
    "for i in range(6,11):\n",
    "    data = str(i)+ '번째 줄입니다.\\n'\n",
    "    print(data)\n",
    "    f5.write(data)\n",
    "f5.close()"
   ]
  },
  {
   "cell_type": "code",
   "execution_count": 15,
   "id": "93dabea7-1ea7-48f8-b8ce-9d10f6aedbbc",
   "metadata": {},
   "outputs": [
    {
     "data": {
      "text/plain": [
       "''"
      ]
     },
     "execution_count": 15,
     "metadata": {},
     "output_type": "execute_result"
    }
   ],
   "source": [
    "f4.read()"
   ]
  },
  {
   "cell_type": "markdown",
   "id": "b2cfab2e-ce41-48a8-a725-a4f2087baf4f",
   "metadata": {},
   "source": [
    "### QUIZ  \n",
    "1. 1~100을 파일에 작성하세요  \n",
    "2. 100~1을 파일에 작성하세요  \n",
    "3. 파일을 출력하세요"
   ]
  },
  {
   "cell_type": "code",
   "execution_count": 41,
   "id": "48303cb6-712f-4383-be61-6aa5ecb6c510",
   "metadata": {},
   "outputs": [],
   "source": [
    "txt = open('quize.txt','w',encoding='utf-8')\n",
    "for i in range(1,101):\n",
    "    txt.write(str(i)+'\\n')\n",
    "txt.close()"
   ]
  },
  {
   "cell_type": "code",
   "execution_count": 45,
   "id": "f7116e25",
   "metadata": {},
   "outputs": [],
   "source": [
    "txt = open('quiz.txt','w',encoding='utf-8')\n",
    "for i in range(100,0,-1):\n",
    "    txt.write(str(i)+'\\n')\n",
    "txt.close()"
   ]
  },
  {
   "cell_type": "markdown",
   "id": "5a9df7ab-45aa-4e48-90b3-4ea49e93b537",
   "metadata": {},
   "source": [
    "### 모듈\n"
   ]
  },
  {
   "cell_type": "code",
   "execution_count": 46,
   "id": "36a8f9e2-5de8-4510-abdd-94faf0ba7c67",
   "metadata": {},
   "outputs": [
    {
     "ename": "ModuleNotFoundError",
     "evalue": "No module named 'mod1'",
     "output_type": "error",
     "traceback": [
      "\u001b[1;31m---------------------------------------------------------------------------\u001b[0m",
      "\u001b[1;31mModuleNotFoundError\u001b[0m                       Traceback (most recent call last)",
      "Cell \u001b[1;32mIn[46], line 1\u001b[0m\n\u001b[1;32m----> 1\u001b[0m \u001b[39mimport\u001b[39;00m \u001b[39mmod1\u001b[39;00m\n",
      "\u001b[1;31mModuleNotFoundError\u001b[0m: No module named 'mod1'"
     ]
    }
   ],
   "source": [
    "#같은 경로 안에 mod1.py 파일이 있어야 한다.\n",
    "import mod1"
   ]
  },
  {
   "cell_type": "code",
   "execution_count": 29,
   "id": "1ac48495-f9dd-4272-9908-1019662f80a8",
   "metadata": {},
   "outputs": [
    {
     "data": {
      "text/plain": [
       "3"
      ]
     },
     "execution_count": 29,
     "metadata": {},
     "output_type": "execute_result"
    }
   ],
   "source": [
    "mod1.add(1,2)"
   ]
  },
  {
   "cell_type": "code",
   "execution_count": 30,
   "id": "ddb2753b-a134-40f9-a464-84d755838f53",
   "metadata": {},
   "outputs": [
    {
     "data": {
      "text/plain": [
       "1"
      ]
     },
     "execution_count": 30,
     "metadata": {},
     "output_type": "execute_result"
    }
   ],
   "source": [
    "mod1.sub(2,1)"
   ]
  },
  {
   "cell_type": "code",
   "execution_count": 31,
   "id": "0605daef-9618-4db8-bd77-f7abad4dd2e4",
   "metadata": {},
   "outputs": [],
   "source": [
    "import mod1 as m"
   ]
  },
  {
   "cell_type": "code",
   "execution_count": 32,
   "id": "1d73de37-619e-4f13-adb2-4b4cfd5a675c",
   "metadata": {},
   "outputs": [
    {
     "data": {
      "text/plain": [
       "3"
      ]
     },
     "execution_count": 32,
     "metadata": {},
     "output_type": "execute_result"
    }
   ],
   "source": [
    "m.add(1,2)"
   ]
  },
  {
   "cell_type": "code",
   "execution_count": 35,
   "id": "908592ad-0e37-4ca9-94f3-298d943af4c0",
   "metadata": {},
   "outputs": [],
   "source": [
    "from mod1 import add,sub"
   ]
  },
  {
   "cell_type": "code",
   "execution_count": 34,
   "id": "698bb854-52ba-4001-8662-cab2b125e0a7",
   "metadata": {},
   "outputs": [
    {
     "data": {
      "text/plain": [
       "3"
      ]
     },
     "execution_count": 34,
     "metadata": {},
     "output_type": "execute_result"
    }
   ],
   "source": [
    "add(1,2)"
   ]
  },
  {
   "cell_type": "code",
   "execution_count": 36,
   "id": "a0ccd370-a31f-4e0f-911e-a2db84dc4a0e",
   "metadata": {},
   "outputs": [
    {
     "data": {
      "text/plain": [
       "1"
      ]
     },
     "execution_count": 36,
     "metadata": {},
     "output_type": "execute_result"
    }
   ],
   "source": [
    "sub(2,1)"
   ]
  },
  {
   "cell_type": "code",
   "execution_count": 3,
   "id": "8293c141-27ac-49c4-86ae-3df8a1017c5b",
   "metadata": {},
   "outputs": [],
   "source": [
    "from mod1 import *"
   ]
  },
  {
   "cell_type": "code",
   "execution_count": 10,
   "id": "da6f7636-0ce4-4409-94f6-6d053cb79208",
   "metadata": {},
   "outputs": [],
   "source": [
    "import sesac.ai.func as s"
   ]
  },
  {
   "cell_type": "code",
   "execution_count": 9,
   "id": "25297fe6-35db-4e2c-bae5-5f2e6233fb01",
   "metadata": {},
   "outputs": [
    {
     "name": "stdout",
     "output_type": "stream",
     "text": [
      "테스트입니다.\n"
     ]
    }
   ],
   "source": [
    "sesac.ai.func.test()"
   ]
  },
  {
   "cell_type": "code",
   "execution_count": 11,
   "id": "ad3a3d98-9d30-4c11-9e3b-22ed9d4141d3",
   "metadata": {},
   "outputs": [
    {
     "name": "stdout",
     "output_type": "stream",
     "text": [
      "테스트입니다.\n"
     ]
    }
   ],
   "source": [
    "s.test()"
   ]
  },
  {
   "cell_type": "code",
   "execution_count": 15,
   "id": "faab14e0-dd82-4589-b8a3-35bd3c0353f1",
   "metadata": {},
   "outputs": [],
   "source": [
    "from sesac.ai.func import test"
   ]
  },
  {
   "cell_type": "code",
   "execution_count": 17,
   "id": "40f02782-b355-46ac-bf46-bfa0823f93f5",
   "metadata": {},
   "outputs": [
    {
     "name": "stdout",
     "output_type": "stream",
     "text": [
      "테스트입니다.\n"
     ]
    }
   ],
   "source": [
    "test()"
   ]
  },
  {
   "cell_type": "code",
   "execution_count": 13,
   "id": "fd415843-bf09-434c-8f0c-725840e58576",
   "metadata": {},
   "outputs": [],
   "source": [
    "import random"
   ]
  },
  {
   "cell_type": "markdown",
   "id": "6fab60b9-3b5e-42b5-b00c-6a57c01293a4",
   "metadata": {},
   "source": [
    "## 베스킨라빈스 31\n",
    "(규칙)\n",
    "1. 1부터 1~3까지 숫자를 연속적으로 말해야 함 \n",
    "2. 31을 말하는 사람이 짐\n",
    "3. 랜덤으로 선공화 후공을 정해야 됨  \n",
    "(선공)\n",
    "사용자로부터 숫자를 입력받는거 3개  \n",
    "컴퓨터도 3개  \n",
    " while문을 사용 ->break  \n",
    " input()"
   ]
  },
  {
   "cell_type": "code",
   "execution_count": 47,
   "id": "d4500fc7-a0fc-49b0-866e-610596da2c42",
   "metadata": {},
   "outputs": [],
   "source": [
    "import random"
   ]
  },
  {
   "cell_type": "code",
   "execution_count": null,
   "id": "5e342c25-742c-4a58-b265-310739af5977",
   "metadata": {},
   "outputs": [],
   "source": [
    "num_list=[1,32]\n",
    "user=0\n",
    "com=0"
   ]
  },
  {
   "cell_type": "code",
   "execution_count": 48,
   "id": "34b020b4-be27-4892-b76f-2655577e9d5d",
   "metadata": {},
   "outputs": [],
   "source": [
    "random.randint(0,1)\n",
    "rd=random.randint(0,1)\n",
    "user=1\n",
    "num=0\n",
    "if rd==0:\n",
    "    print('선공입니다')\n",
    "    a=int(input('1~3 숫자를 입력하세요'))\n",
    "    if 0<a<=3:\n",
    "        for i in range(a):\n",
    "            if num >=31:\n",
    "                gm_f=1\n",
    "                break\n",
    "            num+=1\n",
    "            print('user의 수',num)\n",
    "            \n",
    " \n"
   ]
  },
  {
   "cell_type": "code",
   "execution_count": 1,
   "id": "695a82d0-a460-4f42-9259-5125e514c42e",
   "metadata": {},
   "outputs": [],
   "source": [
    "import random"
   ]
  },
  {
   "cell_type": "code",
   "execution_count": null,
   "id": "92d2f842-7a31-4ac5-93f5-aae69de0a383",
   "metadata": {},
   "outputs": [],
   "source": [
    "L1=['선공','후공']\n",
    "random.randint(0,1)\n",
    "rd=L1[random.randint(0,1)]\n",
    "print(rd)\n",
    "num=0\n",
    "\n",
    "if rd=='선공':\n",
    "    arg = 0\n",
    "else:\n",
    "    arg = 1\n",
    "while num < 31:\n",
    "    if arg == 0:\n",
    "        print('-' * 5,'User의 차례' , '-' * 5)\n",
    "        text=int(input('숫자를 입력하세요'))\n",
    "        if 0 <a <= 3:\n",
    "            for _ in range(a):\n",
    "                if num >= 31:\n",
    "                    gm_fin = 1\n",
    "                    break\n",
    "                num += 1\n",
    "                print('User의 수:',num)\n",
    "                gm_fin = 1\n",
    "            arg = 1 \n",
    "        else:\n",
    "            arg=0\n",
    "            print('error')\n",
    "    elif arg==1:\n",
    "        print('-' * 5,'Com의 차례' , '-' * 5)\n",
    "        come_set = rd.randint(1,3)\n",
    "        for _in range(come_set):\n",
    "            if num>=31:\n",
    "                gm_fin = 0\n",
    "                break\n",
    "            num+=1\n",
    "            print('com의 수:',num)\n",
    "            gm_fin=0\n",
    "        arg=0\n",
    "    else:\n",
    "        if gm_fin==1:\n",
    "            print('com win')\n",
    "        elif gm_fin==0:\n",
    "            print('user win')\n",
    "                    \n"
   ]
  },
  {
   "cell_type": "code",
   "execution_count": 50,
   "id": "f86c4663-9253-4f6b-97d1-ba690e9cd801",
   "metadata": {},
   "outputs": [
    {
     "name": "stdout",
     "output_type": "stream",
     "text": [
      "선공\n",
      "------User의 차례------\n",
      "user의 수: 1\n",
      "user의 수: 2\n",
      "------컴퓨터의 차례------\n",
      "computer의 수: 3\n",
      "computer의 수: 4\n",
      "computer의 수: 5\n",
      "------User의 차례------\n",
      "user의 수: 6\n",
      "user의 수: 7\n",
      "user의 수: 8\n",
      "------컴퓨터의 차례------\n",
      "computer의 수: 9\n",
      "------User의 차례------\n",
      "잘못 입력하셨습니다. 다시 입력하세요\n",
      "------User의 차례------\n",
      "잘못 입력하셨습니다. 다시 입력하세요\n",
      "------User의 차례------\n",
      "user의 수: 10\n",
      "user의 수: 11\n",
      "user의 수: 12\n",
      "------컴퓨터의 차례------\n",
      "computer의 수: 13\n",
      "computer의 수: 14\n",
      "------User의 차례------\n",
      "user의 수: 15\n",
      "user의 수: 16\n",
      "user의 수: 17\n",
      "------컴퓨터의 차례------\n",
      "computer의 수: 18\n",
      "------User의 차례------\n",
      "user의 수: 19\n",
      "user의 수: 20\n",
      "user의 수: 21\n",
      "------컴퓨터의 차례------\n",
      "computer의 수: 22\n",
      "computer의 수: 23\n",
      "------User의 차례------\n",
      "user의 수: 24\n",
      "user의 수: 25\n",
      "user의 수: 26\n",
      "------컴퓨터의 차례------\n",
      "computer의 수: 27\n",
      "computer의 수: 28\n",
      "------User의 차례------\n",
      "user의 수: 29\n",
      "user의 수: 30\n",
      "------컴퓨터의 차례------\n",
      "computer의 수: 31\n",
      "user 승리\n"
     ]
    }
   ],
   "source": [
    "L1 = ['선공', '후공']\n",
    "game_set = L1[random.randint(0,1)]    #선 후공 정하기\n",
    "print(game_set)\n",
    "num = 0\n",
    "if game_set == '선공' :\n",
    "    arg = 0\n",
    "else:\n",
    "    arg = 1\n",
    "while num <31:\n",
    "    if arg == 0: # 유저 키\n",
    "        print('-'*6+'User의 차례'+'-'*6)\n",
    "        a= int(input('숫자를 입력하세요'))\n",
    "        if 0 < a <= 3:\n",
    "            for _ in range(a):                            # 변수 없을 땐 '_'\n",
    "                if num >=31:  #반복문 중간에 끝날 경우\n",
    "                    game_finish=1\n",
    "                    break\n",
    "                num+=1\n",
    "                print('user의 수:', num)\n",
    "                game_finish=1\n",
    "            arg =1    # 컴퓨터로 전환\n",
    "        else:         # 잘 못 입력 경우\n",
    "            arg=0\n",
    "            print('잘못 입력하셨습니다. 다시 입력하세요')\n",
    "    elif arg == 1:\n",
    "            print('-'*6+'컴퓨터의 차례'+'-'*6)\n",
    "            com_set=random.randint(1,3)\n",
    "            for _ in range(com_set):\n",
    "                if num >=31:\n",
    "                    game_finish=0\n",
    "                    break\n",
    "                num+=1\n",
    "                print('computer의 수:',num)\n",
    "                game_finish=0\n",
    "            arg =0\n",
    "else:                    #승리 조건\n",
    "    if game_finish == 1:\n",
    "        print('computer 승리')\n",
    "    elif game_finish == 0:\n",
    "        print('user 승리')"
   ]
  },
  {
   "cell_type": "code",
   "execution_count": null,
   "id": "e4978e9b-91c3-498e-987d-ef43bab34244",
   "metadata": {},
   "outputs": [],
   "source": []
  }
 ],
 "metadata": {
  "kernelspec": {
   "display_name": "Python 3 (ipykernel)",
   "language": "python",
   "name": "python3"
  },
  "language_info": {
   "codemirror_mode": {
    "name": "ipython",
    "version": 3
   },
   "file_extension": ".py",
   "mimetype": "text/x-python",
   "name": "python",
   "nbconvert_exporter": "python",
   "pygments_lexer": "ipython3",
   "version": "3.10.10"
  }
 },
 "nbformat": 4,
 "nbformat_minor": 5
}
