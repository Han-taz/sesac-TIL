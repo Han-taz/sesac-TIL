{
 "cells": [
  {
   "cell_type": "code",
   "execution_count": 76,
   "id": "58c91e91-5256-43d6-856a-8a143bd8a189",
   "metadata": {},
   "outputs": [],
   "source": [
    "#list"
   ]
  },
  {
   "cell_type": "code",
   "execution_count": 77,
   "id": "16d3c2e9-db96-4de4-bd43-b71e3f1ba585",
   "metadata": {},
   "outputs": [],
   "source": [
    "a=1\n",
    "b='abc'\n"
   ]
  },
  {
   "cell_type": "code",
   "execution_count": 78,
   "id": "27bf96ea-a6c8-446a-8abc-a53a3c9ec57c",
   "metadata": {},
   "outputs": [],
   "source": [
    "a=[1,2,3,4]"
   ]
  },
  {
   "cell_type": "code",
   "execution_count": 79,
   "id": "613b4b58-1c71-4e35-b69b-be5628b2a571",
   "metadata": {},
   "outputs": [
    {
     "data": {
      "text/plain": [
       "[1, 2, 3, 4]"
      ]
     },
     "execution_count": 79,
     "metadata": {},
     "output_type": "execute_result"
    }
   ],
   "source": [
    "a"
   ]
  },
  {
   "cell_type": "code",
   "execution_count": 80,
   "id": "2a55a7a1-2cec-41f5-b244-9addc0dcf6d3",
   "metadata": {},
   "outputs": [
    {
     "data": {
      "text/plain": [
       "list"
      ]
     },
     "execution_count": 80,
     "metadata": {},
     "output_type": "execute_result"
    }
   ],
   "source": [
    "type(a)"
   ]
  },
  {
   "cell_type": "code",
   "execution_count": 2,
   "id": "148fcf30-ac56-4747-9ffb-a30a46870e8f",
   "metadata": {},
   "outputs": [],
   "source": [
    "b=[1,'a',True]"
   ]
  },
  {
   "cell_type": "code",
   "execution_count": 3,
   "id": "1b4c37fb-5fd6-4f68-aa29-bb36e75af77c",
   "metadata": {},
   "outputs": [
    {
     "data": {
      "text/plain": [
       "True"
      ]
     },
     "execution_count": 3,
     "metadata": {},
     "output_type": "execute_result"
    }
   ],
   "source": [
    "b[-1]"
   ]
  },
  {
   "cell_type": "code",
   "execution_count": 83,
   "id": "2e51a5d7-8c31-41dd-afc2-ccff5d56acaa",
   "metadata": {},
   "outputs": [],
   "source": [
    "l3=list()"
   ]
  },
  {
   "cell_type": "code",
   "execution_count": 84,
   "id": "46bc7521-1816-498f-bc7f-9ab3152160a2",
   "metadata": {},
   "outputs": [
    {
     "data": {
      "text/plain": [
       "[]"
      ]
     },
     "execution_count": 84,
     "metadata": {},
     "output_type": "execute_result"
    }
   ],
   "source": [
    "l3"
   ]
  },
  {
   "cell_type": "code",
   "execution_count": 85,
   "id": "8e85211b-78df-4c24-b081-5a26343b30ba",
   "metadata": {},
   "outputs": [],
   "source": [
    "l3=[]"
   ]
  },
  {
   "cell_type": "code",
   "execution_count": 86,
   "id": "c764c1c6-df11-4ab5-a28b-21b2d7396e9f",
   "metadata": {},
   "outputs": [
    {
     "data": {
      "text/plain": [
       "[]"
      ]
     },
     "execution_count": 86,
     "metadata": {},
     "output_type": "execute_result"
    }
   ],
   "source": [
    "l3"
   ]
  },
  {
   "cell_type": "markdown",
   "id": "e9b810d2-531a-48bf-98f1-4d0760746e52",
   "metadata": {},
   "source": [
    "list index"
   ]
  },
  {
   "cell_type": "code",
   "execution_count": 4,
   "id": "89b3ae74-dba1-4351-acf2-ffe6062e83c3",
   "metadata": {},
   "outputs": [],
   "source": [
    "num=[1,2,3,4,5]"
   ]
  },
  {
   "cell_type": "code",
   "execution_count": 88,
   "id": "0701d064-0333-4034-a98d-fa71e41bf978",
   "metadata": {},
   "outputs": [
    {
     "data": {
      "text/plain": [
       "3"
      ]
     },
     "execution_count": 88,
     "metadata": {},
     "output_type": "execute_result"
    }
   ],
   "source": [
    "num[2]"
   ]
  },
  {
   "cell_type": "code",
   "execution_count": 89,
   "id": "ae49ed1b-624d-43bb-91e6-765877ba64eb",
   "metadata": {},
   "outputs": [
    {
     "data": {
      "text/plain": [
       "5"
      ]
     },
     "execution_count": 89,
     "metadata": {},
     "output_type": "execute_result"
    }
   ],
   "source": [
    "num[-1]"
   ]
  },
  {
   "cell_type": "markdown",
   "id": "897f7981-b369-4cb8-8bd4-9f355f7717e1",
   "metadata": {},
   "source": [
    "슬라이싱"
   ]
  },
  {
   "cell_type": "markdown",
   "id": "8110f584",
   "metadata": {},
   "source": [
    "2. find( ), index( ) 차이점\n",
    "2-1) find( )\n",
    "\n",
    "찾는 문자가 없는 경우에 -1을 출력한다.\n",
    "\n",
    "문자열을 찾을 수 있는 변수는 문자열만 사용이 가능하다.  리스트, 튜플, 딕셔너리 자료형에서는 find 함수를 사용할 수 없다. 만일 사용하게 되면 AttributeError 에러가 발생한다.\n",
    "\n",
    " \n",
    "\n",
    "2-2) index( )\n",
    "\n",
    "찾는 문자가 없는 경우에 ValueError 에러가 발생한다.\n",
    "\n",
    "문자열, 리스트, 튜플 자료형에서 사용 가능하고 딕셔너리 자료형에는 사용할 수 없어 AttributeError 에러가 발생한다."
   ]
  },
  {
   "cell_type": "code",
   "execution_count": 5,
   "id": "818bb94f-250f-4be4-bc88-43ec5d86baff",
   "metadata": {},
   "outputs": [
    {
     "ename": "AttributeError",
     "evalue": "'list' object has no attribute 'find'",
     "output_type": "error",
     "traceback": [
      "\u001b[1;31m---------------------------------------------------------------------------\u001b[0m",
      "\u001b[1;31mAttributeError\u001b[0m                            Traceback (most recent call last)",
      "Cell \u001b[1;32mIn[5], line 1\u001b[0m\n\u001b[1;32m----> 1\u001b[0m num\u001b[39m.\u001b[39;49mfind(\u001b[39m1\u001b[39m)\n",
      "\u001b[1;31mAttributeError\u001b[0m: 'list' object has no attribute 'find'"
     ]
    }
   ],
   "source": [
    "# list는 find사용 불가\n",
    "num.find(1)"
   ]
  },
  {
   "cell_type": "code",
   "execution_count": 91,
   "id": "082f22da-c6e0-4b46-8a90-bf8b0d823096",
   "metadata": {},
   "outputs": [
    {
     "data": {
      "text/plain": [
       "[1, 2, 3]"
      ]
     },
     "execution_count": 91,
     "metadata": {},
     "output_type": "execute_result"
    }
   ],
   "source": [
    "num[0:3]"
   ]
  },
  {
   "cell_type": "code",
   "execution_count": 92,
   "id": "5fc7438e-fd15-47f1-8699-9866da3349a9",
   "metadata": {},
   "outputs": [
    {
     "data": {
      "text/plain": [
       "5"
      ]
     },
     "execution_count": 92,
     "metadata": {},
     "output_type": "execute_result"
    }
   ],
   "source": [
    "num[-1]"
   ]
  },
  {
   "cell_type": "code",
   "execution_count": 93,
   "id": "c9049c8d-b6b8-4452-9c41-767365e5e45f",
   "metadata": {},
   "outputs": [
    {
     "data": {
      "text/plain": [
       "[1, 2, 3, 4]"
      ]
     },
     "execution_count": 93,
     "metadata": {},
     "output_type": "execute_result"
    }
   ],
   "source": [
    "num[:-1]"
   ]
  },
  {
   "cell_type": "code",
   "execution_count": 94,
   "id": "01381466-6411-48b1-885b-19db741cb0ed",
   "metadata": {},
   "outputs": [
    {
     "data": {
      "text/plain": [
       "[1, 2, 3, 4, 5]"
      ]
     },
     "execution_count": 94,
     "metadata": {},
     "output_type": "execute_result"
    }
   ],
   "source": [
    "num[:5]"
   ]
  },
  {
   "cell_type": "code",
   "execution_count": 95,
   "id": "d8f30179-95cd-4e3e-b058-6c5cb2d002f7",
   "metadata": {},
   "outputs": [
    {
     "data": {
      "text/plain": [
       "[1, 3, 5]"
      ]
     },
     "execution_count": 95,
     "metadata": {},
     "output_type": "execute_result"
    }
   ],
   "source": [
    "#스탭[0:5:2] 2번째만 나온다\n",
    "num[:5:2]"
   ]
  },
  {
   "cell_type": "code",
   "execution_count": 96,
   "id": "378d52b1-7709-4b74-9c3f-01397c628029",
   "metadata": {},
   "outputs": [
    {
     "data": {
      "text/plain": [
       "[5, 4, 3, 2, 1]"
      ]
     },
     "execution_count": 96,
     "metadata": {},
     "output_type": "execute_result"
    }
   ],
   "source": [
    "#역순으로 \n",
    "num[::-1]"
   ]
  },
  {
   "cell_type": "code",
   "execution_count": 97,
   "id": "147d4701-25c5-4153-869c-1d5fef21e00f",
   "metadata": {},
   "outputs": [
    {
     "data": {
      "text/plain": [
       "3"
      ]
     },
     "execution_count": 97,
     "metadata": {},
     "output_type": "execute_result"
    }
   ],
   "source": [
    "num[0]+num[1]"
   ]
  },
  {
   "cell_type": "code",
   "execution_count": 98,
   "id": "a40985f6-28bb-43aa-a332-9275b16e1f8a",
   "metadata": {},
   "outputs": [],
   "source": [
    "l1=[1,2,3]\n",
    "l2=[4,5,6]"
   ]
  },
  {
   "cell_type": "code",
   "execution_count": 99,
   "id": "7f525155-911b-4487-bb2b-5cf38dbef583",
   "metadata": {},
   "outputs": [
    {
     "data": {
      "text/plain": [
       "[1, 2, 3, 4, 5, 6]"
      ]
     },
     "execution_count": 99,
     "metadata": {},
     "output_type": "execute_result"
    }
   ],
   "source": [
    "l1+l2"
   ]
  },
  {
   "cell_type": "code",
   "execution_count": 100,
   "id": "e12bd2ba-6a1f-40fb-8add-9f1577220042",
   "metadata": {},
   "outputs": [],
   "source": [
    "#이중 리스트"
   ]
  },
  {
   "cell_type": "code",
   "execution_count": 101,
   "id": "c0bff018-50b3-4696-ad4c-cfc441c2ff12",
   "metadata": {},
   "outputs": [],
   "source": [
    "mat2=[[1,2,3,4],[5,6,7,8],[9,10,11,12]]"
   ]
  },
  {
   "cell_type": "code",
   "execution_count": 102,
   "id": "dcab9bbe-7719-4309-a5a0-73243dddfc86",
   "metadata": {},
   "outputs": [
    {
     "data": {
      "text/plain": [
       "[[1, 2, 3, 4], [5, 6, 7, 8], [9, 10, 11, 12]]"
      ]
     },
     "execution_count": 102,
     "metadata": {},
     "output_type": "execute_result"
    }
   ],
   "source": [
    "mat2"
   ]
  },
  {
   "cell_type": "code",
   "execution_count": 103,
   "id": "37195c2f-5ccd-4214-9371-fbc9e69ceec5",
   "metadata": {},
   "outputs": [
    {
     "data": {
      "text/plain": [
       "[1, 2, 3, 4]"
      ]
     },
     "execution_count": 103,
     "metadata": {},
     "output_type": "execute_result"
    }
   ],
   "source": [
    "mat2[0]"
   ]
  },
  {
   "cell_type": "code",
   "execution_count": 104,
   "id": "f3505538-be18-4d85-88b1-437d346cddba",
   "metadata": {},
   "outputs": [
    {
     "data": {
      "text/plain": [
       "1"
      ]
     },
     "execution_count": 104,
     "metadata": {},
     "output_type": "execute_result"
    }
   ],
   "source": [
    "mat2[0][0]"
   ]
  },
  {
   "cell_type": "code",
   "execution_count": 105,
   "id": "ce874726-f5e3-4ab2-9e8c-0182ebb6e155",
   "metadata": {},
   "outputs": [
    {
     "data": {
      "text/plain": [
       "[[5, 6, 7, 8], [9, 10, 11, 12]]"
      ]
     },
     "execution_count": 105,
     "metadata": {},
     "output_type": "execute_result"
    }
   ],
   "source": [
    "mat2[1:]"
   ]
  },
  {
   "cell_type": "code",
   "execution_count": 106,
   "id": "d2ac24a1-3f5d-45fc-95d2-4aa66e44f4ea",
   "metadata": {},
   "outputs": [
    {
     "data": {
      "text/plain": [
       "[[9, 10, 11, 12]]"
      ]
     },
     "execution_count": 106,
     "metadata": {},
     "output_type": "execute_result"
    }
   ],
   "source": [
    "mat2[1:][1:3]#잘 안됨 알아만 둘 것!"
   ]
  },
  {
   "cell_type": "code",
   "execution_count": 107,
   "id": "923330b0-982e-4be5-9355-a6487e6875e8",
   "metadata": {},
   "outputs": [],
   "source": [
    "##리스트 연산"
   ]
  },
  {
   "cell_type": "code",
   "execution_count": 108,
   "id": "b9b3c3a2-eba6-439e-8881-1dcb85860178",
   "metadata": {},
   "outputs": [],
   "source": [
    "l1=[1,2,3,4]\n",
    "l2=[5,6,7,8]"
   ]
  },
  {
   "cell_type": "code",
   "execution_count": 109,
   "id": "cca27f86-53f3-4a95-849b-ef5b3123c4ed",
   "metadata": {},
   "outputs": [
    {
     "data": {
      "text/plain": [
       "[1, 2, 3, 4, 5, 6, 7, 8]"
      ]
     },
     "execution_count": 109,
     "metadata": {},
     "output_type": "execute_result"
    }
   ],
   "source": [
    "l1+l2"
   ]
  },
  {
   "cell_type": "code",
   "execution_count": 110,
   "id": "3effe729-a61c-4722-a551-58c91efb059c",
   "metadata": {},
   "outputs": [
    {
     "data": {
      "text/plain": [
       "[1, 2, 3, 4, 1, 2, 3, 4, 1, 2, 3, 4]"
      ]
     },
     "execution_count": 110,
     "metadata": {},
     "output_type": "execute_result"
    }
   ],
   "source": [
    "l1*3"
   ]
  },
  {
   "cell_type": "code",
   "execution_count": 111,
   "id": "2c51959c-98c0-43ca-9f69-9540c832801e",
   "metadata": {},
   "outputs": [
    {
     "data": {
      "text/plain": [
       "[5, 6, 7, 8, 5, 6, 7, 8, 5, 6, 7, 8]"
      ]
     },
     "execution_count": 111,
     "metadata": {},
     "output_type": "execute_result"
    }
   ],
   "source": [
    "l2*3"
   ]
  },
  {
   "cell_type": "code",
   "execution_count": 112,
   "id": "9eb09902-f797-472a-a52c-6fa838f1b1e7",
   "metadata": {},
   "outputs": [],
   "source": [
    "l1[0]=100"
   ]
  },
  {
   "cell_type": "code",
   "execution_count": 113,
   "id": "08c2f954-9043-40da-b793-01c0e76097b4",
   "metadata": {},
   "outputs": [
    {
     "data": {
      "text/plain": [
       "[100, 2, 3, 4]"
      ]
     },
     "execution_count": 113,
     "metadata": {},
     "output_type": "execute_result"
    }
   ],
   "source": [
    "l1"
   ]
  },
  {
   "cell_type": "code",
   "execution_count": 114,
   "id": "af7269c3-ee19-4341-b93c-28f78b249d49",
   "metadata": {},
   "outputs": [],
   "source": [
    "l1[1:3]=[101,102]"
   ]
  },
  {
   "cell_type": "code",
   "execution_count": 115,
   "id": "e0f91a0e-685e-408c-8fcd-967c5deea010",
   "metadata": {},
   "outputs": [
    {
     "data": {
      "text/plain": [
       "[100, 101, 102, 4]"
      ]
     },
     "execution_count": 115,
     "metadata": {},
     "output_type": "execute_result"
    }
   ],
   "source": [
    "l1"
   ]
  },
  {
   "cell_type": "code",
   "execution_count": 116,
   "id": "f3628d83-371b-4443-bcd8-3ce8e92a2932",
   "metadata": {},
   "outputs": [],
   "source": [
    "del l1[-1]"
   ]
  },
  {
   "cell_type": "code",
   "execution_count": 117,
   "id": "95df01b8-8204-40b4-b73a-3fbc7935c546",
   "metadata": {},
   "outputs": [
    {
     "data": {
      "text/plain": [
       "[100, 101, 102]"
      ]
     },
     "execution_count": 117,
     "metadata": {},
     "output_type": "execute_result"
    }
   ],
   "source": [
    "l1"
   ]
  },
  {
   "cell_type": "markdown",
   "id": "8e4d8471-4447-442c-9136-11d775815047",
   "metadata": {},
   "source": [
    "리스트 함수"
   ]
  },
  {
   "cell_type": "code",
   "execution_count": 118,
   "id": "69b59a5e-02c6-412e-9ac7-4482577ef737",
   "metadata": {},
   "outputs": [],
   "source": [
    "l=[]"
   ]
  },
  {
   "cell_type": "code",
   "execution_count": 119,
   "id": "a851b507-926b-487d-b411-3477d670b3e4",
   "metadata": {},
   "outputs": [],
   "source": [
    "l.append(1)"
   ]
  },
  {
   "cell_type": "code",
   "execution_count": 120,
   "id": "8f85f192-37f8-4cd2-bca2-6c74ef86e3ee",
   "metadata": {},
   "outputs": [
    {
     "data": {
      "text/plain": [
       "[1]"
      ]
     },
     "execution_count": 120,
     "metadata": {},
     "output_type": "execute_result"
    }
   ],
   "source": [
    "l"
   ]
  },
  {
   "cell_type": "code",
   "execution_count": 121,
   "id": "3e508769-c22f-4c02-ad6a-f1a82b1f3005",
   "metadata": {},
   "outputs": [],
   "source": [
    "l.append(2)#순서대로 들어간다"
   ]
  },
  {
   "cell_type": "code",
   "execution_count": 122,
   "id": "fd3ffd8d-f7e2-493a-831b-31751e489bff",
   "metadata": {},
   "outputs": [
    {
     "data": {
      "text/plain": [
       "[1, 2]"
      ]
     },
     "execution_count": 122,
     "metadata": {},
     "output_type": "execute_result"
    }
   ],
   "source": [
    "l"
   ]
  },
  {
   "cell_type": "code",
   "execution_count": 123,
   "id": "63e5520c-73dd-4dba-9839-ecf0e1be43b0",
   "metadata": {},
   "outputs": [],
   "source": [
    "#insert(자리,넣을 수)\n",
    "l.insert(0,3)"
   ]
  },
  {
   "cell_type": "code",
   "execution_count": 124,
   "id": "1981880f-11b7-449e-ad59-a2e35471e5ff",
   "metadata": {},
   "outputs": [
    {
     "data": {
      "text/plain": [
       "[3, 1, 2]"
      ]
     },
     "execution_count": 124,
     "metadata": {},
     "output_type": "execute_result"
    }
   ],
   "source": [
    "l"
   ]
  },
  {
   "cell_type": "code",
   "execution_count": 125,
   "id": "104d61b0-3c5a-4ee6-84cb-484d936360b6",
   "metadata": {},
   "outputs": [],
   "source": [
    "l.insert(1,4)"
   ]
  },
  {
   "cell_type": "code",
   "execution_count": 126,
   "id": "84ae76e4-f4e6-4866-b1ba-2f3e126aedbb",
   "metadata": {},
   "outputs": [
    {
     "data": {
      "text/plain": [
       "[3, 4, 1, 2]"
      ]
     },
     "execution_count": 126,
     "metadata": {},
     "output_type": "execute_result"
    }
   ],
   "source": [
    "l"
   ]
  },
  {
   "cell_type": "code",
   "execution_count": 127,
   "id": "d52ff5ab-4bdc-4eda-8cf4-a188b74fd027",
   "metadata": {},
   "outputs": [],
   "source": [
    "l.remove(2)"
   ]
  },
  {
   "cell_type": "code",
   "execution_count": 128,
   "id": "70c8e4ec-aa90-4aec-a638-4c49dfe70553",
   "metadata": {},
   "outputs": [
    {
     "data": {
      "text/plain": [
       "[3, 4, 1]"
      ]
     },
     "execution_count": 128,
     "metadata": {},
     "output_type": "execute_result"
    }
   ],
   "source": [
    "l"
   ]
  },
  {
   "cell_type": "code",
   "execution_count": 129,
   "id": "2f47fd16-b902-4794-958c-38d7933233b9",
   "metadata": {},
   "outputs": [],
   "source": [
    "l.sort()"
   ]
  },
  {
   "cell_type": "code",
   "execution_count": 130,
   "id": "17d34ac3-24fe-448e-8aea-b0ad41f508fe",
   "metadata": {},
   "outputs": [
    {
     "data": {
      "text/plain": [
       "[1, 3, 4]"
      ]
     },
     "execution_count": 130,
     "metadata": {},
     "output_type": "execute_result"
    }
   ],
   "source": [
    "l"
   ]
  },
  {
   "cell_type": "code",
   "execution_count": 131,
   "id": "4bdc2ba6-22b9-4174-8e28-13f4db4452e7",
   "metadata": {},
   "outputs": [],
   "source": [
    "l1:[1,2,3,\"abc\"]"
   ]
  },
  {
   "cell_type": "code",
   "execution_count": 132,
   "id": "4eb49ad1-7904-4f03-9be0-15441b5d759b",
   "metadata": {},
   "outputs": [],
   "source": [
    "l1.append('0')"
   ]
  },
  {
   "cell_type": "code",
   "execution_count": 133,
   "id": "9f563049-88be-45f9-8e1e-86f50e3962d6",
   "metadata": {},
   "outputs": [
    {
     "ename": "TypeError",
     "evalue": "'<' not supported between instances of 'str' and 'int'",
     "output_type": "error",
     "traceback": [
      "\u001b[1;31m---------------------------------------------------------------------------\u001b[0m",
      "\u001b[1;31mTypeError\u001b[0m                                 Traceback (most recent call last)",
      "Input \u001b[1;32mIn [133]\u001b[0m, in \u001b[0;36m<cell line: 1>\u001b[1;34m()\u001b[0m\n\u001b[1;32m----> 1\u001b[0m \u001b[43ml1\u001b[49m\u001b[38;5;241;43m.\u001b[39;49m\u001b[43msort\u001b[49m\u001b[43m(\u001b[49m\u001b[43m)\u001b[49m\n",
      "\u001b[1;31mTypeError\u001b[0m: '<' not supported between instances of 'str' and 'int'"
     ]
    }
   ],
   "source": [
    "l1.sort()"
   ]
  },
  {
   "cell_type": "code",
   "execution_count": 9,
   "id": "dcf50e5e-a56d-404c-bc03-c818aa7c9614",
   "metadata": {},
   "outputs": [],
   "source": [
    "ll=[1,2,3,4,5]"
   ]
  },
  {
   "cell_type": "code",
   "execution_count": 10,
   "id": "aa6e9be7-26de-47b8-a1ef-50e8797c1e22",
   "metadata": {},
   "outputs": [],
   "source": [
    "#pop 뒤에 것이 출력되고 리스트에서 삭제한다"
   ]
  },
  {
   "cell_type": "code",
   "execution_count": 11,
   "id": "9ab23a34-8d2d-4af7-8c47-cafcb94b90f7",
   "metadata": {},
   "outputs": [
    {
     "data": {
      "text/plain": [
       "5"
      ]
     },
     "execution_count": 11,
     "metadata": {},
     "output_type": "execute_result"
    }
   ],
   "source": [
    "ll.pop()"
   ]
  },
  {
   "cell_type": "code",
   "execution_count": 13,
   "id": "8880301a-afc6-45a0-8139-5fd063dd51de",
   "metadata": {
    "tags": []
   },
   "outputs": [
    {
     "data": {
      "text/plain": [
       "[1, 2, 3, 4]"
      ]
     },
     "execution_count": 13,
     "metadata": {},
     "output_type": "execute_result"
    }
   ],
   "source": [
    "ll"
   ]
  },
  {
   "cell_type": "markdown",
   "id": "9cbe2f43-e1c0-49e8-8957-a76d9054b22f",
   "metadata": {},
   "source": [
    "\n",
    "## Quiz\n",
    "1. list1 = [13, 53, 24, 35, 38]을 큰 수부터 작은 수대로 정렬하시오.\n",
    "2. list2 = [\"Hello\", \"My\", \"Friends\"] 를 \"Hello My Friends\"라는 문자열로 출력하세요\n",
    "3. \"DP, 오징어게임, 슬기로운 의사생활\" 을 netflix_list 라는 변수에 리스트로 만들어보세요.\n",
    "4. netflix_list 의 맨 뒤에 \"호텔 델루나\"를 추가해보세요.\n",
    "5. \"갯마을 차차차\"를 netflix_list 맨 앞에 추가해보세요.\n",
    "6. \"DP\"를 삭제하고 그 위치에 \"검은태양\"을 추가해보세요.\n",
    "7. list3 = [294, 185, 1384, 1282, 375, 283]의 최대, 최소, 합, 평균을 구하시오.\n",
    "8. str1 = \"naver,sk,google,kakao\"에서 각각의 회사명을 company_list에 넣고 오름차순으로 정렬하세요\n",
    "\n"
   ]
  },
  {
   "cell_type": "code",
   "execution_count": 138,
   "id": "2589d1d7-23c2-4a69-8365-457765a6bb33",
   "metadata": {},
   "outputs": [],
   "source": [
    "list1=[13,53,24,36,38]"
   ]
  },
  {
   "cell_type": "code",
   "execution_count": 139,
   "id": "25fb87c2-012e-4171-8939-03848af0e1c4",
   "metadata": {},
   "outputs": [],
   "source": [
    "list1.sort(reverse=True)"
   ]
  },
  {
   "cell_type": "code",
   "execution_count": 140,
   "id": "3d3f5307-0930-49b1-b92e-13f92829684e",
   "metadata": {},
   "outputs": [
    {
     "data": {
      "text/plain": [
       "[53, 38, 36, 24, 13]"
      ]
     },
     "execution_count": 140,
     "metadata": {},
     "output_type": "execute_result"
    }
   ],
   "source": [
    "list1"
   ]
  },
  {
   "cell_type": "code",
   "execution_count": 14,
   "id": "b6b94138-c0d5-4e44-a92e-dd712fa2dc66",
   "metadata": {},
   "outputs": [],
   "source": [
    "list2=[\"Hello \", \"My \", \"Friends\"]"
   ]
  },
  {
   "cell_type": "code",
   "execution_count": 142,
   "id": "ce8997b1-f83e-4e65-8abf-252d53959008",
   "metadata": {},
   "outputs": [
    {
     "data": {
      "text/plain": [
       "'Hello My Friends'"
      ]
     },
     "execution_count": 142,
     "metadata": {},
     "output_type": "execute_result"
    }
   ],
   "source": [
    "\"\".join(list2)"
   ]
  },
  {
   "cell_type": "code",
   "execution_count": 143,
   "id": "4861573d-c584-4329-a2d8-2993ab26937d",
   "metadata": {},
   "outputs": [],
   "source": [
    "netflix_list=[\"DP\",\"오징어게임\",\"슬기로운 의사생활\"]"
   ]
  },
  {
   "cell_type": "code",
   "execution_count": 144,
   "id": "c3e48299-edba-4929-89d6-4273164e5089",
   "metadata": {},
   "outputs": [],
   "source": [
    "netflix_list.append(\"호텔 델루나\")"
   ]
  },
  {
   "cell_type": "code",
   "execution_count": 145,
   "id": "79fddab1-ea41-4488-99a5-03d68b737211",
   "metadata": {},
   "outputs": [
    {
     "data": {
      "text/plain": [
       "['DP', '오징어게임', '슬기로운 의사생활', '호텔 델루나']"
      ]
     },
     "execution_count": 145,
     "metadata": {},
     "output_type": "execute_result"
    }
   ],
   "source": [
    "netflix_list"
   ]
  },
  {
   "cell_type": "code",
   "execution_count": 146,
   "id": "833c9a3f-0098-42ab-a593-d893814bc092",
   "metadata": {},
   "outputs": [],
   "source": [
    "netflix_list.insert(0,\"갯마을 차차차\")"
   ]
  },
  {
   "cell_type": "code",
   "execution_count": 147,
   "id": "9ddb7b30-d0cd-4b0f-b959-cecf707e9050",
   "metadata": {},
   "outputs": [
    {
     "data": {
      "text/plain": [
       "['갯마을 차차차', 'DP', '오징어게임', '슬기로운 의사생활', '호텔 델루나']"
      ]
     },
     "execution_count": 147,
     "metadata": {},
     "output_type": "execute_result"
    }
   ],
   "source": [
    "netflix_list"
   ]
  },
  {
   "cell_type": "code",
   "execution_count": 148,
   "id": "d5783b94-5b6f-4de0-8e47-91e61d0cb6a8",
   "metadata": {},
   "outputs": [],
   "source": [
    "netflix_list.remove(\"DP\")"
   ]
  },
  {
   "cell_type": "code",
   "execution_count": 149,
   "id": "d7eee5a9-b3c8-4e56-9d83-f02e1ee52f7c",
   "metadata": {},
   "outputs": [
    {
     "data": {
      "text/plain": [
       "['갯마을 차차차', '오징어게임', '슬기로운 의사생활', '호텔 델루나']"
      ]
     },
     "execution_count": 149,
     "metadata": {},
     "output_type": "execute_result"
    }
   ],
   "source": [
    "netflix_list"
   ]
  },
  {
   "cell_type": "code",
   "execution_count": 150,
   "id": "6a17ceac-6c5a-49f5-9da7-745cbddf6b72",
   "metadata": {},
   "outputs": [],
   "source": [
    "netflix_list=[\"DP\",\"오징어게임\",\"슬기로운 의사생활\"]"
   ]
  },
  {
   "cell_type": "code",
   "execution_count": 151,
   "id": "5739a4b6-a68b-4b05-9fe8-c639d67c1b41",
   "metadata": {},
   "outputs": [],
   "source": [
    "dp_index=netflix_list.index('DP')"
   ]
  },
  {
   "cell_type": "code",
   "execution_count": 152,
   "id": "4427fc6d-fa64-4ad1-8893-78c9c1e7573c",
   "metadata": {},
   "outputs": [],
   "source": [
    "netflix_list.remove('DP')"
   ]
  },
  {
   "cell_type": "code",
   "execution_count": 153,
   "id": "d1b42e8d-783f-45c3-b3d0-73ad8ab206e6",
   "metadata": {},
   "outputs": [],
   "source": [
    "netflix_list.insert(dp_index,\"검은 태양\")"
   ]
  },
  {
   "cell_type": "code",
   "execution_count": 154,
   "id": "fcf0f524-60f5-45aa-92a9-a6b69339afad",
   "metadata": {},
   "outputs": [],
   "source": [
    "list3=[294,185,1384,1282,375,283]"
   ]
  },
  {
   "cell_type": "code",
   "execution_count": 155,
   "id": "43d8ba82-7950-4360-b1e4-b57ba10fc927",
   "metadata": {},
   "outputs": [],
   "source": [
    "average=sum(list3)/len(list3)"
   ]
  },
  {
   "cell_type": "code",
   "execution_count": 156,
   "id": "ffbd1fc1-14f4-4b6f-9192-0b35e01203fa",
   "metadata": {},
   "outputs": [
    {
     "name": "stdout",
     "output_type": "stream",
     "text": [
      "633.8333333333334\n"
     ]
    }
   ],
   "source": [
    "print(average)"
   ]
  },
  {
   "cell_type": "code",
   "execution_count": 157,
   "id": "0319078a-fb4b-485a-bbca-ec57ea1fb99e",
   "metadata": {},
   "outputs": [
    {
     "name": "stdout",
     "output_type": "stream",
     "text": [
      "185\n"
     ]
    }
   ],
   "source": [
    "result=min(list3)\n",
    "print(result)"
   ]
  },
  {
   "cell_type": "code",
   "execution_count": 158,
   "id": "9949ca05-c6f2-4081-95da-aa2630c8ad78",
   "metadata": {},
   "outputs": [
    {
     "name": "stdout",
     "output_type": "stream",
     "text": [
      "1384\n"
     ]
    }
   ],
   "source": [
    "result=max(list3)\n",
    "print(result)"
   ]
  },
  {
   "cell_type": "code",
   "execution_count": 20,
   "id": "3e4679e7-67a4-4fac-9677-e1896359975a",
   "metadata": {},
   "outputs": [],
   "source": [
    "str1='naver,SK,google,kakao'"
   ]
  },
  {
   "cell_type": "code",
   "execution_count": 21,
   "id": "676d4b0b-0898-4083-826a-c8f33e18f911",
   "metadata": {},
   "outputs": [
    {
     "data": {
      "text/plain": [
       "'naver,SK,google,kakao'"
      ]
     },
     "execution_count": 21,
     "metadata": {},
     "output_type": "execute_result"
    }
   ],
   "source": [
    "str1"
   ]
  },
  {
   "cell_type": "code",
   "execution_count": 22,
   "id": "6cad84c7-ae94-4a9a-8a8a-9b77c2cb80d9",
   "metadata": {},
   "outputs": [],
   "source": [
    "company_list=str1.split(',')"
   ]
  },
  {
   "cell_type": "code",
   "execution_count": 23,
   "id": "15878840-dc3a-4a0f-8f07-a8ed24ec4066",
   "metadata": {},
   "outputs": [
    {
     "data": {
      "text/plain": [
       "['naver', 'SK', 'google', 'kakao']"
      ]
     },
     "execution_count": 23,
     "metadata": {},
     "output_type": "execute_result"
    }
   ],
   "source": [
    "company_list"
   ]
  },
  {
   "cell_type": "code",
   "execution_count": 28,
   "id": "1c2c0793-a2d9-40e4-bfb2-7fc369af2480",
   "metadata": {},
   "outputs": [
    {
     "data": {
      "text/plain": [
       "['SK', 'google', 'kakao', 'naver']"
      ]
     },
     "execution_count": 28,
     "metadata": {},
     "output_type": "execute_result"
    }
   ],
   "source": [
    "company_list.sort()\n",
    "company_list"
   ]
  },
  {
   "cell_type": "code",
   "execution_count": 165,
   "id": "14eaf8d3-3ca5-4011-8104-690d97801c09",
   "metadata": {},
   "outputs": [
    {
     "data": {
      "text/plain": [
       "['검은 태양', '오징어게임', '슬기로운 의사생활']"
      ]
     },
     "execution_count": 165,
     "metadata": {},
     "output_type": "execute_result"
    }
   ],
   "source": [
    "netflix_list"
   ]
  },
  {
   "cell_type": "markdown",
   "id": "5712f481-f3ec-4b0b-b0c2-31bf9b901078",
   "metadata": {},
   "source": [
    "1. 튜플 t1=tuple()"
   ]
  },
  {
   "cell_type": "code",
   "execution_count": 166,
   "id": "48cefd19-1e64-4b8f-9b8e-cb7a03b5b142",
   "metadata": {},
   "outputs": [],
   "source": [
    "t1=tuple()"
   ]
  },
  {
   "cell_type": "code",
   "execution_count": 167,
   "id": "cad47542-052c-4ada-9e59-800ec187192f",
   "metadata": {},
   "outputs": [
    {
     "data": {
      "text/plain": [
       "tuple"
      ]
     },
     "execution_count": 167,
     "metadata": {},
     "output_type": "execute_result"
    }
   ],
   "source": [
    "type(t1)"
   ]
  },
  {
   "cell_type": "code",
   "execution_count": 168,
   "id": "f3b34b05-6572-457b-bcaf-33fafaf837a0",
   "metadata": {},
   "outputs": [],
   "source": [
    "tuple1=(1,2,3,4,5)"
   ]
  },
  {
   "cell_type": "code",
   "execution_count": 169,
   "id": "b1124315-5e7a-4843-be1f-6445374a6a00",
   "metadata": {},
   "outputs": [
    {
     "ename": "NameError",
     "evalue": "name 'remove' is not defined",
     "output_type": "error",
     "traceback": [
      "\u001b[1;31m---------------------------------------------------------------------------\u001b[0m",
      "\u001b[1;31mNameError\u001b[0m                                 Traceback (most recent call last)",
      "Input \u001b[1;32mIn [169]\u001b[0m, in \u001b[0;36m<cell line: 1>\u001b[1;34m()\u001b[0m\n\u001b[1;32m----> 1\u001b[0m tuple1\u001b[38;5;241m=\u001b[39m\u001b[43mremove\u001b[49m(\u001b[38;5;241m1\u001b[39m)\n",
      "\u001b[1;31mNameError\u001b[0m: name 'remove' is not defined"
     ]
    }
   ],
   "source": [
    "tuple1=remove(1)"
   ]
  },
  {
   "cell_type": "code",
   "execution_count": 172,
   "id": "5bd93846-a118-4574-bda6-705d219d840d",
   "metadata": {},
   "outputs": [
    {
     "ename": "SyntaxError",
     "evalue": "cannot assign to function call (3435251414.py, line 1)",
     "output_type": "error",
     "traceback": [
      "\u001b[1;36m  Input \u001b[1;32mIn [172]\u001b[1;36m\u001b[0m\n\u001b[1;33m    tuple1(0)=100\u001b[0m\n\u001b[1;37m    ^\u001b[0m\n\u001b[1;31mSyntaxError\u001b[0m\u001b[1;31m:\u001b[0m cannot assign to function call\n"
     ]
    }
   ],
   "source": [
    "tuple1(0)=100"
   ]
  },
  {
   "cell_type": "code",
   "execution_count": 179,
   "id": "0392a9e9-e80c-4b1e-a4ee-5ef36f867ab8",
   "metadata": {},
   "outputs": [],
   "source": [
    "tuple2=(6,7,8,9,10)"
   ]
  },
  {
   "cell_type": "code",
   "execution_count": 180,
   "id": "96ad883b-c01c-41b5-b916-2a163e3df62b",
   "metadata": {},
   "outputs": [
    {
     "data": {
      "text/plain": [
       "(1, 2, 3, 4, 5, 6, 7, 8, 9, 10)"
      ]
     },
     "execution_count": 180,
     "metadata": {},
     "output_type": "execute_result"
    }
   ],
   "source": [
    "tuple1+tuple2"
   ]
  },
  {
   "cell_type": "code",
   "execution_count": null,
   "id": "c1624869-c387-4d16-9fa5-3d2f6eba3fca",
   "metadata": {},
   "outputs": [],
   "source": []
  },
  {
   "cell_type": "code",
   "execution_count": null,
   "id": "4b43d1e7-7462-48ae-ac7f-42b8dd5c65b4",
   "metadata": {},
   "outputs": [],
   "source": []
  },
  {
   "cell_type": "code",
   "execution_count": 29,
   "id": "3efbcb92-7aef-40eb-85e8-0b66fd7fe3a0",
   "metadata": {},
   "outputs": [
    {
     "data": {
      "text/plain": [
       "type"
      ]
     },
     "execution_count": 29,
     "metadata": {},
     "output_type": "execute_result"
    }
   ],
   "source": [
    "dict1=dict()\n",
    "type(dict)"
   ]
  },
  {
   "cell_type": "code",
   "execution_count": 182,
   "id": "f13d00ef-193e-4915-a3d3-cf56fa36053c",
   "metadata": {},
   "outputs": [],
   "source": [
    "people={'name':'sanghyun',\n",
    "        'age':8,\n",
    "        'weight':3,\n",
    "       'score':['a','b','c']}"
   ]
  },
  {
   "cell_type": "code",
   "execution_count": 183,
   "id": "b9585719-13d1-427d-8f9f-37ef12f61603",
   "metadata": {},
   "outputs": [
    {
     "data": {
      "text/plain": [
       "8"
      ]
     },
     "execution_count": 183,
     "metadata": {},
     "output_type": "execute_result"
    }
   ],
   "source": [
    "people[\"age\"]"
   ]
  },
  {
   "cell_type": "code",
   "execution_count": 184,
   "id": "fb1e7cbf-9890-4525-b7b9-7cc53d25992b",
   "metadata": {},
   "outputs": [],
   "source": [
    "del people['weight']"
   ]
  },
  {
   "cell_type": "code",
   "execution_count": 185,
   "id": "31474c03-f13b-4c85-ab17-04943dcfc3e3",
   "metadata": {},
   "outputs": [
    {
     "data": {
      "text/plain": [
       "{'name': 'sanghyun', 'age': 8, 'score': ['a', 'b', 'c']}"
      ]
     },
     "execution_count": 185,
     "metadata": {},
     "output_type": "execute_result"
    }
   ],
   "source": [
    "people"
   ]
  },
  {
   "cell_type": "code",
   "execution_count": 186,
   "id": "09c43da6-e227-4851-ac1a-f68a59080d28",
   "metadata": {},
   "outputs": [],
   "source": [
    "people['score'].append(\"b\")"
   ]
  },
  {
   "cell_type": "code",
   "execution_count": 187,
   "id": "c5620fdb-1257-4c89-ba72-ac70e34be3bd",
   "metadata": {},
   "outputs": [
    {
     "data": {
      "text/plain": [
       "{'name': 'sanghyun', 'age': 8, 'score': ['a', 'b', 'c', 'b']}"
      ]
     },
     "execution_count": 187,
     "metadata": {},
     "output_type": "execute_result"
    }
   ],
   "source": [
    "people"
   ]
  },
  {
   "cell_type": "code",
   "execution_count": 188,
   "id": "d9ebbe24-675f-48f9-a706-45d7375a44ce",
   "metadata": {},
   "outputs": [],
   "source": [
    "dict2={'name':'SH',\n",
    "       'name':'sang'}"
   ]
  },
  {
   "cell_type": "code",
   "execution_count": 189,
   "id": "192615d9-ce0a-44ca-9926-dfda4ec23f98",
   "metadata": {},
   "outputs": [
    {
     "data": {
      "text/plain": [
       "{'name': 'sang'}"
      ]
     },
     "execution_count": 189,
     "metadata": {},
     "output_type": "execute_result"
    }
   ],
   "source": [
    "dict2"
   ]
  },
  {
   "cell_type": "code",
   "execution_count": 190,
   "id": "2bbec7cc-f3b4-4056-b724-605afa8b714d",
   "metadata": {},
   "outputs": [],
   "source": [
    "dict2={1:'name',\n",
    "       'name':'SH'}"
   ]
  },
  {
   "cell_type": "code",
   "execution_count": 191,
   "id": "da5abf60-cd14-447d-8341-7158c2ab5df2",
   "metadata": {},
   "outputs": [
    {
     "data": {
      "text/plain": [
       "{1: 'name', 'name': 'SH'}"
      ]
     },
     "execution_count": 191,
     "metadata": {},
     "output_type": "execute_result"
    }
   ],
   "source": [
    "dict2"
   ]
  },
  {
   "cell_type": "code",
   "execution_count": 335,
   "id": "411a0fb4-ad29-4c40-b0a7-8c66dd831ef4",
   "metadata": {},
   "outputs": [],
   "source": [
    "peo={'name':'test',\n",
    "     'age':28,\n",
    "     'score':['A','B','C'],\n",
    "     'height':'170cm'}"
   ]
  },
  {
   "cell_type": "code",
   "execution_count": 336,
   "id": "75fb2f98-27b7-4b52-a4e7-40b44251cf69",
   "metadata": {},
   "outputs": [
    {
     "data": {
      "text/plain": [
       "{'name': 'test', 'age': 28, 'score': ['A', 'B', 'C'], 'height': '170cm'}"
      ]
     },
     "execution_count": 336,
     "metadata": {},
     "output_type": "execute_result"
    }
   ],
   "source": [
    "peo"
   ]
  },
  {
   "cell_type": "code",
   "execution_count": 337,
   "id": "61c40f0b-c45e-4aa5-9594-d99f5ee29baf",
   "metadata": {},
   "outputs": [
    {
     "data": {
      "text/plain": [
       "dict_keys(['name', 'age', 'score', 'height'])"
      ]
     },
     "execution_count": 337,
     "metadata": {},
     "output_type": "execute_result"
    }
   ],
   "source": [
    "peo.keys()"
   ]
  },
  {
   "cell_type": "code",
   "execution_count": 338,
   "id": "bb924412-c81c-438d-b063-a6e10f57a1fa",
   "metadata": {},
   "outputs": [
    {
     "data": {
      "text/plain": [
       "dict"
      ]
     },
     "execution_count": 338,
     "metadata": {},
     "output_type": "execute_result"
    }
   ],
   "source": [
    "type(peo)"
   ]
  },
  {
   "cell_type": "code",
   "execution_count": 339,
   "id": "69411514-8148-4ad6-a996-cb9d54415faf",
   "metadata": {},
   "outputs": [
    {
     "data": {
      "text/plain": [
       "'name'"
      ]
     },
     "execution_count": 339,
     "metadata": {},
     "output_type": "execute_result"
    }
   ],
   "source": [
    "list(peo.keys())[0]"
   ]
  },
  {
   "cell_type": "code",
   "execution_count": 340,
   "id": "e7c4085f-fa4c-4a09-ad40-2806f860155c",
   "metadata": {},
   "outputs": [
    {
     "data": {
      "text/plain": [
       "dict_values(['test', 28, ['A', 'B', 'C'], '170cm'])"
      ]
     },
     "execution_count": 340,
     "metadata": {},
     "output_type": "execute_result"
    }
   ],
   "source": [
    "peo.values()"
   ]
  },
  {
   "cell_type": "code",
   "execution_count": 341,
   "id": "bbf70e21-b6c8-4c45-bd1d-7b407527fe78",
   "metadata": {},
   "outputs": [
    {
     "data": {
      "text/plain": [
       "28"
      ]
     },
     "execution_count": 341,
     "metadata": {},
     "output_type": "execute_result"
    }
   ],
   "source": [
    "list(peo.values())[1]"
   ]
  },
  {
   "cell_type": "code",
   "execution_count": 342,
   "id": "179a27ab-9f3e-45f2-815f-cd58c5bc227f",
   "metadata": {},
   "outputs": [
    {
     "data": {
      "text/plain": [
       "['A', 'B', 'C']"
      ]
     },
     "execution_count": 342,
     "metadata": {},
     "output_type": "execute_result"
    }
   ],
   "source": [
    "list(peo.values())[2]"
   ]
  },
  {
   "cell_type": "code",
   "execution_count": 343,
   "id": "9bd61503-c47a-4f0a-9f26-3acba35befd2",
   "metadata": {},
   "outputs": [
    {
     "data": {
      "text/plain": [
       "'height'"
      ]
     },
     "execution_count": 343,
     "metadata": {},
     "output_type": "execute_result"
    }
   ],
   "source": [
    "list(peo.keys())[3]"
   ]
  },
  {
   "cell_type": "code",
   "execution_count": 344,
   "id": "ff427e84-0d81-4932-9be2-ba390b480d88",
   "metadata": {},
   "outputs": [
    {
     "data": {
      "text/plain": [
       "dict_items([('name', 'test'), ('age', 28), ('score', ['A', 'B', 'C']), ('height', '170cm')])"
      ]
     },
     "execution_count": 344,
     "metadata": {},
     "output_type": "execute_result"
    }
   ],
   "source": [
    "peo.items()"
   ]
  },
  {
   "cell_type": "code",
   "execution_count": 345,
   "id": "a9cba0bb-3914-42eb-914b-c4941a9fdb54",
   "metadata": {},
   "outputs": [
    {
     "data": {
      "text/plain": [
       "list"
      ]
     },
     "execution_count": 345,
     "metadata": {},
     "output_type": "execute_result"
    }
   ],
   "source": [
    "type(list(peo.items()))"
   ]
  },
  {
   "cell_type": "code",
   "execution_count": 346,
   "id": "05ba3371-0584-4647-843f-5175ec8eeb14",
   "metadata": {},
   "outputs": [
    {
     "data": {
      "text/plain": [
       "('score', ['A', 'B', 'C'])"
      ]
     },
     "execution_count": 346,
     "metadata": {},
     "output_type": "execute_result"
    }
   ],
   "source": [
    "list(peo.items())[2]"
   ]
  },
  {
   "cell_type": "code",
   "execution_count": 347,
   "id": "b2c25ff0-0f7c-46ad-bfe1-98ec8ed6f405",
   "metadata": {},
   "outputs": [
    {
     "data": {
      "text/plain": [
       "'test'"
      ]
     },
     "execution_count": 347,
     "metadata": {},
     "output_type": "execute_result"
    }
   ],
   "source": [
    "peo['name']"
   ]
  },
  {
   "cell_type": "code",
   "execution_count": 348,
   "id": "63ae7b48-1361-4acf-b7ac-af0debd87416",
   "metadata": {},
   "outputs": [
    {
     "data": {
      "text/plain": [
       "'test'"
      ]
     },
     "execution_count": 348,
     "metadata": {},
     "output_type": "execute_result"
    }
   ],
   "source": [
    "peo.get('name')"
   ]
  },
  {
   "cell_type": "code",
   "execution_count": 349,
   "id": "45ea51f9-0e0c-4d85-a70c-cfafc81ced41",
   "metadata": {},
   "outputs": [
    {
     "data": {
      "text/plain": [
       "True"
      ]
     },
     "execution_count": 349,
     "metadata": {},
     "output_type": "execute_result"
    }
   ],
   "source": [
    "'name' in peo"
   ]
  },
  {
   "cell_type": "code",
   "execution_count": 350,
   "id": "11f0c80a-1c7c-4e2f-9099-5df3aca3ac08",
   "metadata": {},
   "outputs": [
    {
     "data": {
      "text/plain": [
       "False"
      ]
     },
     "execution_count": 350,
     "metadata": {},
     "output_type": "execute_result"
    }
   ],
   "source": [
    "28 in peo"
   ]
  },
  {
   "cell_type": "code",
   "execution_count": 414,
   "id": "ccec0a89-8253-4871-82b3-9999e60868f9",
   "metadata": {},
   "outputs": [
    {
     "data": {
      "text/plain": [
       "True"
      ]
     },
     "execution_count": 414,
     "metadata": {},
     "output_type": "execute_result"
    }
   ],
   "source": [
    "'score' in peo"
   ]
  },
  {
   "cell_type": "markdown",
   "id": "b65031b9-f6b0-46da-835f-8d5a20917e18",
   "metadata": {},
   "source": [
    "### QUIZ\n",
    "1. 자신의 이름, 나이 ,성볋이 포함된, my_dict를 생성해보세요.\n",
    "2. my_dict에 사는 곳을 추가해보세요.\n",
    "3. my_dict에 키를 리스트로 출력해보세요.\n"
   ]
  },
  {
   "cell_type": "code",
   "execution_count": 352,
   "id": "f7f34841-7b47-43d9-9c72-65d1e17d3bac",
   "metadata": {},
   "outputs": [],
   "source": [
    "my_dict={'name':'Sanghyum',\n",
    "         'age':28,\n",
    "         'sex':'male'}"
   ]
  },
  {
   "cell_type": "code",
   "execution_count": 353,
   "id": "f63f0bd0-d3fe-42d9-a6b7-91603c6ca611",
   "metadata": {},
   "outputs": [
    {
     "data": {
      "text/plain": [
       "{'name': 'Sanghyum', 'age': 28, 'sex': 'male'}"
      ]
     },
     "execution_count": 353,
     "metadata": {},
     "output_type": "execute_result"
    }
   ],
   "source": [
    "my_dict"
   ]
  },
  {
   "cell_type": "code",
   "execution_count": 354,
   "id": "a54f25cc-de74-4957-b1b4-18d78bdc3bf6",
   "metadata": {},
   "outputs": [],
   "source": [
    "my_dict['live']='YS'"
   ]
  },
  {
   "cell_type": "code",
   "execution_count": 355,
   "id": "22518764-bde1-4952-a7cf-323f692b0dca",
   "metadata": {},
   "outputs": [
    {
     "data": {
      "text/plain": [
       "{'name': 'Sanghyum', 'age': 28, 'sex': 'male', 'live': 'YS'}"
      ]
     },
     "execution_count": 355,
     "metadata": {},
     "output_type": "execute_result"
    }
   ],
   "source": [
    "my_dict"
   ]
  },
  {
   "cell_type": "code",
   "execution_count": 356,
   "id": "b7b8f5ac-0c8f-428a-8274-cb31f5654421",
   "metadata": {},
   "outputs": [
    {
     "data": {
      "text/plain": [
       "['name', 'age', 'sex', 'live']"
      ]
     },
     "execution_count": 356,
     "metadata": {},
     "output_type": "execute_result"
    }
   ],
   "source": [
    "list(my_dict.keys())"
   ]
  },
  {
   "cell_type": "code",
   "execution_count": 357,
   "id": "bd20ca09-4dd9-4a93-85f8-2d8cbd3c4eda",
   "metadata": {},
   "outputs": [
    {
     "data": {
      "text/plain": [
       "['Sanghyum', 28, 'male', 'YS']"
      ]
     },
     "execution_count": 357,
     "metadata": {},
     "output_type": "execute_result"
    }
   ],
   "source": [
    "list(my_dict.values())"
   ]
  },
  {
   "cell_type": "code",
   "execution_count": 358,
   "id": "65b8aa61-e427-46de-8ff1-303948401b11",
   "metadata": {},
   "outputs": [],
   "source": [
    "my_dict[1]='abc'"
   ]
  },
  {
   "cell_type": "code",
   "execution_count": 359,
   "id": "8d2e168d-cece-4ca2-a766-817018faf5a8",
   "metadata": {},
   "outputs": [
    {
     "data": {
      "text/plain": [
       "{'name': 'Sanghyum', 'age': 28, 'sex': 'male', 'live': 'YS', 1: 'abc'}"
      ]
     },
     "execution_count": 359,
     "metadata": {},
     "output_type": "execute_result"
    }
   ],
   "source": [
    "my_dict"
   ]
  },
  {
   "cell_type": "markdown",
   "id": "5fbe5ffa-9e83-4968-a310-e7138a7ec3e6",
   "metadata": {},
   "source": [
    "* set"
   ]
  },
  {
   "cell_type": "code",
   "execution_count": 360,
   "id": "3c1e6fb6-49ff-490a-ac49-8636d4a59609",
   "metadata": {},
   "outputs": [
    {
     "data": {
      "text/plain": [
       "set"
      ]
     },
     "execution_count": 360,
     "metadata": {},
     "output_type": "execute_result"
    }
   ],
   "source": [
    "s1=set([1,2,3])\n",
    "type(s1)"
   ]
  },
  {
   "cell_type": "code",
   "execution_count": 361,
   "id": "10353d11-2cbd-45ee-854e-4a0d14800a49",
   "metadata": {},
   "outputs": [
    {
     "data": {
      "text/plain": [
       "{1, 2, 3, 4, 5, 6}"
      ]
     },
     "execution_count": 361,
     "metadata": {},
     "output_type": "execute_result"
    }
   ],
   "source": [
    "s1=set([1,2,3,4,5,5,6,4,2,1])\n",
    "s1"
   ]
  },
  {
   "cell_type": "code",
   "execution_count": 362,
   "id": "ad310139-e271-49ec-8e2f-c28103c6753c",
   "metadata": {},
   "outputs": [
    {
     "data": {
      "text/plain": [
       "{'A', 'B', 'C', 'D', 'E', 'F', 'G'}"
      ]
     },
     "execution_count": 362,
     "metadata": {},
     "output_type": "execute_result"
    }
   ],
   "source": [
    "set('ABCDEFGE')"
   ]
  },
  {
   "cell_type": "code",
   "execution_count": 363,
   "id": "dda84e61-06a0-49b8-ba88-efd65ebe97fa",
   "metadata": {},
   "outputs": [
    {
     "data": {
      "text/plain": [
       "['C', 'F', 'G', 'A', 'D', 'E', 'B']"
      ]
     },
     "execution_count": 363,
     "metadata": {},
     "output_type": "execute_result"
    }
   ],
   "source": [
    "list(set('ABCDEFGE'))"
   ]
  },
  {
   "cell_type": "code",
   "execution_count": 364,
   "id": "0639c38a-396a-43ad-8f27-722310082883",
   "metadata": {},
   "outputs": [],
   "source": [
    "s2=set([1,2,3])\n",
    "s3=set([3,4,5,])"
   ]
  },
  {
   "cell_type": "code",
   "execution_count": 365,
   "id": "d3e942ca-8cd7-408c-839e-d74495cf862c",
   "metadata": {},
   "outputs": [
    {
     "data": {
      "text/plain": [
       "{3}"
      ]
     },
     "execution_count": 365,
     "metadata": {},
     "output_type": "execute_result"
    }
   ],
   "source": [
    "s2&s3"
   ]
  },
  {
   "cell_type": "code",
   "execution_count": 366,
   "id": "ed2260e8-d5f4-42d8-ac8f-1eef9ce3e530",
   "metadata": {},
   "outputs": [
    {
     "data": {
      "text/plain": [
       "{3}"
      ]
     },
     "execution_count": 366,
     "metadata": {},
     "output_type": "execute_result"
    }
   ],
   "source": [
    "s2.intersection(s3)"
   ]
  },
  {
   "cell_type": "code",
   "execution_count": 367,
   "id": "9a959c94-601f-4bdc-9927-59279dd3df2e",
   "metadata": {},
   "outputs": [
    {
     "data": {
      "text/plain": [
       "{1, 2, 3, 4, 5}"
      ]
     },
     "execution_count": 367,
     "metadata": {},
     "output_type": "execute_result"
    }
   ],
   "source": [
    "s2 | s3"
   ]
  },
  {
   "cell_type": "code",
   "execution_count": 368,
   "id": "a9172d68-6658-4b99-8204-3c15ac2a0d93",
   "metadata": {},
   "outputs": [
    {
     "data": {
      "text/plain": [
       "{1, 2, 3, 4, 5}"
      ]
     },
     "execution_count": 368,
     "metadata": {},
     "output_type": "execute_result"
    }
   ],
   "source": [
    "s2.union(s3)"
   ]
  },
  {
   "cell_type": "code",
   "execution_count": 369,
   "id": "c64abc2a-bb05-42ad-969c-dd48e2a0be2b",
   "metadata": {},
   "outputs": [
    {
     "data": {
      "text/plain": [
       "{1, 2}"
      ]
     },
     "execution_count": 369,
     "metadata": {},
     "output_type": "execute_result"
    }
   ],
   "source": [
    "s2 - s3"
   ]
  },
  {
   "cell_type": "code",
   "execution_count": 370,
   "id": "178f6ea0-864e-4b90-97ab-c93f55d24ef6",
   "metadata": {},
   "outputs": [
    {
     "data": {
      "text/plain": [
       "{1, 2}"
      ]
     },
     "execution_count": 370,
     "metadata": {},
     "output_type": "execute_result"
    }
   ],
   "source": [
    "s2.difference(s3)"
   ]
  },
  {
   "cell_type": "code",
   "execution_count": 371,
   "id": "4d78fa43-679a-44c7-a774-c0b26e2e73b7",
   "metadata": {},
   "outputs": [],
   "source": [
    "s2.add(10)"
   ]
  },
  {
   "cell_type": "code",
   "execution_count": 372,
   "id": "92af0184-d735-4f7f-b99c-8e07066295cf",
   "metadata": {},
   "outputs": [
    {
     "data": {
      "text/plain": [
       "{1, 2, 3, 10}"
      ]
     },
     "execution_count": 372,
     "metadata": {},
     "output_type": "execute_result"
    }
   ],
   "source": [
    "s2"
   ]
  },
  {
   "cell_type": "code",
   "execution_count": 373,
   "id": "f1fa5766-feee-4603-9a4e-b44b66f831a1",
   "metadata": {},
   "outputs": [],
   "source": [
    "s2.add(1)\n",
    "###중복된 값은 적용x"
   ]
  },
  {
   "cell_type": "code",
   "execution_count": 374,
   "id": "247b0edd-0bfa-4666-8b47-7b9af759be30",
   "metadata": {},
   "outputs": [
    {
     "data": {
      "text/plain": [
       "{1, 2, 3, 10}"
      ]
     },
     "execution_count": 374,
     "metadata": {},
     "output_type": "execute_result"
    }
   ],
   "source": [
    "s2"
   ]
  },
  {
   "cell_type": "code",
   "execution_count": 375,
   "id": "72045438-2da9-4af6-8f52-7d1800d0c631",
   "metadata": {},
   "outputs": [],
   "source": [
    "s2.update([11,12])"
   ]
  },
  {
   "cell_type": "code",
   "execution_count": 376,
   "id": "9a5883e0-adf1-4658-a7db-866a902244d6",
   "metadata": {},
   "outputs": [
    {
     "data": {
      "text/plain": [
       "{1, 2, 3, 10, 11, 12}"
      ]
     },
     "execution_count": 376,
     "metadata": {},
     "output_type": "execute_result"
    }
   ],
   "source": [
    "s2"
   ]
  },
  {
   "cell_type": "code",
   "execution_count": 377,
   "id": "c5b5f216-da38-4c37-92f8-469cf05abfdb",
   "metadata": {},
   "outputs": [],
   "source": [
    "s2.remove(2)"
   ]
  },
  {
   "cell_type": "code",
   "execution_count": 378,
   "id": "87f79780-4006-4787-9566-da42aef73a19",
   "metadata": {},
   "outputs": [
    {
     "data": {
      "text/plain": [
       "{1, 3, 10, 11, 12}"
      ]
     },
     "execution_count": 378,
     "metadata": {},
     "output_type": "execute_result"
    }
   ],
   "source": [
    "s2"
   ]
  },
  {
   "cell_type": "code",
   "execution_count": 379,
   "id": "4225a174-c318-4709-a2e8-b9aaebd2d38f",
   "metadata": {},
   "outputs": [],
   "source": [
    "s3=[1,2,1,4,5,1,3,5,7,8,1]"
   ]
  },
  {
   "cell_type": "code",
   "execution_count": 380,
   "id": "2b6fe2e3-345c-4ee5-84be-d2dfc46219ba",
   "metadata": {},
   "outputs": [
    {
     "data": {
      "text/plain": [
       "{1, 2, 3, 4, 5, 7, 8}"
      ]
     },
     "execution_count": 380,
     "metadata": {},
     "output_type": "execute_result"
    }
   ],
   "source": [
    "set(s3)"
   ]
  },
  {
   "cell_type": "code",
   "execution_count": 381,
   "id": "5dee28eb-c5c2-48af-89a0-f38819395fcd",
   "metadata": {},
   "outputs": [
    {
     "data": {
      "text/plain": [
       "7"
      ]
     },
     "execution_count": 381,
     "metadata": {},
     "output_type": "execute_result"
    }
   ],
   "source": [
    "len(list(set(s3)))"
   ]
  },
  {
   "cell_type": "code",
   "execution_count": 382,
   "id": "a157ff7f-b6af-4af3-ab6e-54482b04fa64",
   "metadata": {},
   "outputs": [
    {
     "data": {
      "text/plain": [
       "[1, 2, 3, 4, 5, 7, 8]"
      ]
     },
     "execution_count": 382,
     "metadata": {},
     "output_type": "execute_result"
    }
   ],
   "source": [
    "list(set(s3))"
   ]
  },
  {
   "cell_type": "code",
   "execution_count": 383,
   "id": "1e376232-2db0-4d14-bfeb-eea95e648fdf",
   "metadata": {},
   "outputs": [
    {
     "data": {
      "text/plain": [
       "7"
      ]
     },
     "execution_count": 383,
     "metadata": {},
     "output_type": "execute_result"
    }
   ],
   "source": [
    "len(list(set(s3)))"
   ]
  },
  {
   "cell_type": "code",
   "execution_count": 384,
   "id": "e2d659d3-c045-4f3f-85e8-1267cb2fc31e",
   "metadata": {},
   "outputs": [],
   "source": [
    "list_2=[1,2,3,4,5,6,7,8,9,9,8,7,6,5,4,3,2,1]"
   ]
  },
  {
   "cell_type": "code",
   "execution_count": 385,
   "id": "ff715b6d-ec6c-40b7-8ee2-b106c3f0778b",
   "metadata": {},
   "outputs": [
    {
     "data": {
      "text/plain": [
       "{1, 2, 3, 4, 5, 6, 7, 8, 9}"
      ]
     },
     "execution_count": 385,
     "metadata": {},
     "output_type": "execute_result"
    }
   ],
   "source": [
    "set(list_2)"
   ]
  },
  {
   "cell_type": "code",
   "execution_count": 386,
   "id": "f5fa7502-d525-442d-a73c-eb1fdac71bde",
   "metadata": {},
   "outputs": [],
   "source": [
    "set_list=set(list_2)"
   ]
  },
  {
   "cell_type": "code",
   "execution_count": 387,
   "id": "17830b79-fd60-4475-b135-999f1c958ce9",
   "metadata": {},
   "outputs": [
    {
     "data": {
      "text/plain": [
       "{1, 2, 3, 4, 5, 6, 7, 8, 9}"
      ]
     },
     "execution_count": 387,
     "metadata": {},
     "output_type": "execute_result"
    }
   ],
   "source": [
    "set_list"
   ]
  },
  {
   "cell_type": "code",
   "execution_count": 388,
   "id": "68e3b367-c712-4e6f-856a-d832363c1478",
   "metadata": {},
   "outputs": [
    {
     "data": {
      "text/plain": [
       "[1, 2, 3, 4, 5, 6, 7, 8, 9]"
      ]
     },
     "execution_count": 388,
     "metadata": {},
     "output_type": "execute_result"
    }
   ],
   "source": [
    "list(set_list)"
   ]
  },
  {
   "cell_type": "markdown",
   "id": "14982233-2e59-4a3b-9ede-c84f5a9e6942",
   "metadata": {},
   "source": [
    "## 네이밍 규칙"
   ]
  },
  {
   "cell_type": "markdown",
   "id": "4a85b471-1208-44b9-98dc-62b601723cfe",
   "metadata": {},
   "source": [
    "camel case, snake case"
   ]
  },
  {
   "cell_type": "code",
   "execution_count": 389,
   "id": "f47bb6ba-aa3d-4b25-af65-0f0dd638ed79",
   "metadata": {},
   "outputs": [],
   "source": [
    "trainInput='train'"
   ]
  },
  {
   "cell_type": "code",
   "execution_count": 390,
   "id": "9f5f157a-67f8-4b7c-86d3-034367c27b3d",
   "metadata": {},
   "outputs": [],
   "source": [
    "my_phonenumber='010-1111-1111'"
   ]
  },
  {
   "cell_type": "markdown",
   "id": "de2e82b4-32f4-49cc-99de-02a32feed8cb",
   "metadata": {},
   "source": [
    "연습문제"
   ]
  },
  {
   "cell_type": "code",
   "execution_count": 391,
   "id": "8f9b1ded-a12b-4e06-989a-4baec73f7f04",
   "metadata": {},
   "outputs": [],
   "source": [
    "a=80\n",
    "b=75\n",
    "c=55"
   ]
  },
  {
   "cell_type": "code",
   "execution_count": 392,
   "id": "0b1e3fb3-3f0a-4acb-8fbb-8e81cfabdfe6",
   "metadata": {},
   "outputs": [
    {
     "data": {
      "text/plain": [
       "70.0"
      ]
     },
     "execution_count": 392,
     "metadata": {},
     "output_type": "execute_result"
    }
   ],
   "source": [
    "(a+b+c)/3"
   ]
  },
  {
   "cell_type": "code",
   "execution_count": 393,
   "id": "8c38b696-c346-4153-8aee-12f04c11ceb0",
   "metadata": {},
   "outputs": [],
   "source": [
    "ymd='881120-1068234'"
   ]
  },
  {
   "cell_type": "code",
   "execution_count": 394,
   "id": "6e821be3-77e4-49f2-a910-54996eea63d3",
   "metadata": {},
   "outputs": [
    {
     "data": {
      "text/plain": [
       "['881120', '1068234']"
      ]
     },
     "execution_count": 394,
     "metadata": {},
     "output_type": "execute_result"
    }
   ],
   "source": [
    "ymd.split('-')"
   ]
  },
  {
   "cell_type": "code",
   "execution_count": 395,
   "id": "cf57dc68-2bf5-4d55-b77c-21ef9bc49012",
   "metadata": {},
   "outputs": [
    {
     "data": {
      "text/plain": [
       "'1'"
      ]
     },
     "execution_count": 395,
     "metadata": {},
     "output_type": "execute_result"
    }
   ],
   "source": [
    "ymd.split('-')[1][0]"
   ]
  },
  {
   "cell_type": "code",
   "execution_count": 396,
   "id": "66ca5b27-248d-4504-b631-195b55026a15",
   "metadata": {},
   "outputs": [],
   "source": [
    "a='a:b:c:d'"
   ]
  },
  {
   "cell_type": "code",
   "execution_count": 397,
   "id": "bf60abb5-e407-43e7-9475-f783d7a74ec3",
   "metadata": {},
   "outputs": [
    {
     "data": {
      "text/plain": [
       "'a#b#c#d'"
      ]
     },
     "execution_count": 397,
     "metadata": {},
     "output_type": "execute_result"
    }
   ],
   "source": [
    "a.replace(':','#')"
   ]
  },
  {
   "cell_type": "code",
   "execution_count": 398,
   "id": "3658c1bd-8abf-45b7-8493-39ce1173e7bc",
   "metadata": {},
   "outputs": [],
   "source": [
    "list_ee=[1,3,5,4,2]"
   ]
  },
  {
   "cell_type": "code",
   "execution_count": 399,
   "id": "f17f732c-d284-40d9-b620-1e63c7879f01",
   "metadata": {},
   "outputs": [],
   "source": [
    "list_ee.sort(reverse=True)"
   ]
  },
  {
   "cell_type": "code",
   "execution_count": 400,
   "id": "02986466-8f95-44fb-92b4-e189d770fb11",
   "metadata": {},
   "outputs": [
    {
     "data": {
      "text/plain": [
       "[5, 4, 3, 2, 1]"
      ]
     },
     "execution_count": 400,
     "metadata": {},
     "output_type": "execute_result"
    }
   ],
   "source": [
    "list_ee"
   ]
  },
  {
   "cell_type": "code",
   "execution_count": 401,
   "id": "c47560ea-0d02-411e-83b3-63002d7baee1",
   "metadata": {},
   "outputs": [],
   "source": [
    "t123=(1,2,3)"
   ]
  },
  {
   "cell_type": "code",
   "execution_count": 402,
   "id": "aa098d8a-faf2-4021-bd70-e79e4d859576",
   "metadata": {},
   "outputs": [
    {
     "data": {
      "text/plain": [
       "tuple"
      ]
     },
     "execution_count": 402,
     "metadata": {},
     "output_type": "execute_result"
    }
   ],
   "source": [
    "type(t123)"
   ]
  },
  {
   "cell_type": "code",
   "execution_count": 403,
   "id": "f25e7dc3-c3ab-4ddf-820f-b872d13c1c6a",
   "metadata": {},
   "outputs": [
    {
     "data": {
      "text/plain": [
       "(1, 2, 3, 4)"
      ]
     },
     "execution_count": 403,
     "metadata": {},
     "output_type": "execute_result"
    }
   ],
   "source": [
    "t123+(4,)"
   ]
  },
  {
   "cell_type": "code",
   "execution_count": 404,
   "id": "54a290b9-2990-4ad8-b51b-f86285d6cdab",
   "metadata": {},
   "outputs": [],
   "source": [
    "a={'A': 90, 'B':80, 'C':70}"
   ]
  },
  {
   "cell_type": "code",
   "execution_count": 405,
   "id": "593ea927-eeed-40e4-8096-f6f6e2471140",
   "metadata": {},
   "outputs": [
    {
     "data": {
      "text/plain": [
       "80"
      ]
     },
     "execution_count": 405,
     "metadata": {},
     "output_type": "execute_result"
    }
   ],
   "source": [
    "a.pop('B')"
   ]
  },
  {
   "cell_type": "code",
   "execution_count": 406,
   "id": "14a876d2-0805-4943-8b79-c6e3bf541247",
   "metadata": {},
   "outputs": [
    {
     "data": {
      "text/plain": [
       "{'A': 90, 'C': 70}"
      ]
     },
     "execution_count": 406,
     "metadata": {},
     "output_type": "execute_result"
    }
   ],
   "source": [
    "a"
   ]
  },
  {
   "cell_type": "code",
   "execution_count": null,
   "id": "d6686e9a-591a-49b1-9b1c-29c48e1fceba",
   "metadata": {},
   "outputs": [],
   "source": []
  }
 ],
 "metadata": {
  "kernelspec": {
   "display_name": "Python 3",
   "language": "python",
   "name": "python3"
  },
  "language_info": {
   "codemirror_mode": {
    "name": "ipython",
    "version": 3
   },
   "file_extension": ".py",
   "mimetype": "text/x-python",
   "name": "python",
   "nbconvert_exporter": "python",
   "pygments_lexer": "ipython3",
   "version": "3.10.10"
  },
  "vscode": {
   "interpreter": {
    "hash": "d1a1120d6b703f94660d8a0a86efaeba37d220648474f25f942e1d3645fcdcb7"
   }
  }
 },
 "nbformat": 4,
 "nbformat_minor": 5
}
