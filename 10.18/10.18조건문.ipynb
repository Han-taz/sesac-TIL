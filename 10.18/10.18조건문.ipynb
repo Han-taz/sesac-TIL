{
 "cells": [
  {
   "cell_type": "code",
   "execution_count": 1,
   "id": "62b55a07-c4d5-40ef-973b-3f45fd22472c",
   "metadata": {},
   "outputs": [],
   "source": [
    "l1=[1,2,3,4,5,6,7,8]"
   ]
  },
  {
   "cell_type": "code",
   "execution_count": 2,
   "id": "018e647d-5934-4a44-8d51-c92d8a824971",
   "metadata": {},
   "outputs": [
    {
     "data": {
      "text/plain": [
       "[2, 3, 4]"
      ]
     },
     "execution_count": 2,
     "metadata": {},
     "output_type": "execute_result"
    }
   ],
   "source": [
    "l1[1:4]"
   ]
  },
  {
   "cell_type": "code",
   "execution_count": 3,
   "id": "0248ecb5-ad3a-4c21-8fed-e995d1ed1d23",
   "metadata": {},
   "outputs": [
    {
     "data": {
      "text/plain": [
       "8"
      ]
     },
     "execution_count": 3,
     "metadata": {},
     "output_type": "execute_result"
    }
   ],
   "source": [
    "l1[-1]"
   ]
  },
  {
   "cell_type": "code",
   "execution_count": 4,
   "id": "6ad69a27-1e3e-4969-b73c-3c6eeb264cd4",
   "metadata": {},
   "outputs": [
    {
     "data": {
      "text/plain": [
       "[5, 6, 7]"
      ]
     },
     "execution_count": 4,
     "metadata": {},
     "output_type": "execute_result"
    }
   ],
   "source": [
    "l1[-4:-1]"
   ]
  },
  {
   "cell_type": "code",
   "execution_count": 5,
   "id": "a00e6d61-3716-451e-82d6-672540a6f1d1",
   "metadata": {},
   "outputs": [
    {
     "data": {
      "text/plain": [
       "[3, 4, 5, 6, 7, 8]"
      ]
     },
     "execution_count": 5,
     "metadata": {},
     "output_type": "execute_result"
    }
   ],
   "source": [
    "l1[-6:]"
   ]
  },
  {
   "cell_type": "code",
   "execution_count": 6,
   "id": "91e6039c-5916-4e35-b2e5-9488f6288a7f",
   "metadata": {},
   "outputs": [],
   "source": [
    "a=\"a:b:c:d\""
   ]
  },
  {
   "cell_type": "code",
   "execution_count": 7,
   "id": "07c49b03-841b-4766-abcc-f1258ff935ff",
   "metadata": {},
   "outputs": [
    {
     "data": {
      "text/plain": [
       "'a#b#c#d'"
      ]
     },
     "execution_count": 7,
     "metadata": {},
     "output_type": "execute_result"
    }
   ],
   "source": [
    "a.replace(\":\",\"#\")"
   ]
  },
  {
   "cell_type": "code",
   "execution_count": 8,
   "id": "1c77bb40-792d-49c5-b59a-5cf1d33fb02f",
   "metadata": {},
   "outputs": [
    {
     "data": {
      "text/plain": [
       "8"
      ]
     },
     "execution_count": 8,
     "metadata": {},
     "output_type": "execute_result"
    }
   ],
   "source": [
    "len(l1)"
   ]
  },
  {
   "cell_type": "code",
   "execution_count": 9,
   "id": "7f38c56f-95b0-4579-a67e-251c6a90e9de",
   "metadata": {},
   "outputs": [],
   "source": [
    "del[l1]"
   ]
  },
  {
   "cell_type": "markdown",
   "id": "687f2582-1db6-4c72-b637-01cdc349549c",
   "metadata": {},
   "source": [
    "### IF문\n",
    "- IF는 만약에~ 라면 뜻\n",
    "- IF 뒤에 나오는 값이 참(True)일 경우, ~를 싷앵해라\n",
    "- IF조건문: 어떤행위\n",
    "- IF조건문 뒤에 나오는 행위는 tab 또는 space 4번으로 들여쓰기(indent)"
   ]
  },
  {
   "cell_type": "code",
   "execution_count": 10,
   "id": "c53fa811-6ddf-40bb-8811-81e98328765c",
   "metadata": {},
   "outputs": [
    {
     "name": "stdout",
     "output_type": "stream",
     "text": [
      "참\n"
     ]
    }
   ],
   "source": [
    "if 1>0 :\n",
    "    print('참')"
   ]
  },
  {
   "cell_type": "code",
   "execution_count": 11,
   "id": "e3ad16a7-ff83-4bb1-810d-e36b12be44a8",
   "metadata": {},
   "outputs": [
    {
     "name": "stdout",
     "output_type": "stream",
     "text": [
      "참\n"
     ]
    }
   ],
   "source": [
    "if True :\n",
    "    print('참')"
   ]
  },
  {
   "cell_type": "code",
   "execution_count": 12,
   "id": "1ce7b069-3c94-4555-9c38-ae1f7049522f",
   "metadata": {},
   "outputs": [],
   "source": [
    "if False :\n",
    "    print('거짓')"
   ]
  },
  {
   "cell_type": "code",
   "execution_count": 13,
   "id": "8349e103-3e95-427f-a25d-aaa5dc615da8",
   "metadata": {},
   "outputs": [
    {
     "name": "stdout",
     "output_type": "stream",
     "text": [
      "참\n"
     ]
    }
   ],
   "source": [
    "if 1:\n",
    "    print('참')"
   ]
  },
  {
   "cell_type": "code",
   "execution_count": 14,
   "id": "d830851b-2967-4767-9b35-45bf6812c885",
   "metadata": {},
   "outputs": [],
   "source": [
    "if 0:\n",
    "    print('거짓')"
   ]
  },
  {
   "cell_type": "code",
   "execution_count": 15,
   "id": "8bba7f73-0aee-4124-803b-c46f5c3753ff",
   "metadata": {},
   "outputs": [
    {
     "name": "stdout",
     "output_type": "stream",
     "text": [
      "끝\n"
     ]
    }
   ],
   "source": [
    "if 0:\n",
    "    print('거짓')\n",
    "print('끝')"
   ]
  },
  {
   "cell_type": "code",
   "execution_count": 16,
   "id": "e7da9fc3-e2c5-4be0-adf3-3c1e62adaf85",
   "metadata": {},
   "outputs": [
    {
     "name": "stdout",
     "output_type": "stream",
     "text": [
      "참\n"
     ]
    }
   ],
   "source": [
    "if 'A':\n",
    "    print('참')"
   ]
  },
  {
   "cell_type": "code",
   "execution_count": 17,
   "id": "9b79a934-ef7d-47dc-a31b-4b1946a1de6b",
   "metadata": {},
   "outputs": [],
   "source": [
    "if '':\n",
    "    print('거짓')"
   ]
  },
  {
   "cell_type": "markdown",
   "id": "332a4583-7a7b-400a-974f-2b916d5d9852",
   "metadata": {},
   "source": [
    "### 비교연산자\n",
    "- a<b(a가 b보다 작다)\n",
    "- a>b(a가 b보다 크다)\n",
    "- a==b(a와 b가 같다)\n",
    "- a!=b(a와 b는 다르다)\n",
    "- a<=b(a는 b보다 작거나 같다)\n",
    "- a>=b(a는 b보다 크거나 같다)"
   ]
  },
  {
   "cell_type": "code",
   "execution_count": 18,
   "id": "f53e3bc1-e8a3-4107-b3d4-15ed2808ff9d",
   "metadata": {},
   "outputs": [
    {
     "data": {
      "text/plain": [
       "True"
      ]
     },
     "execution_count": 18,
     "metadata": {},
     "output_type": "execute_result"
    }
   ],
   "source": [
    "'a'<'b'"
   ]
  },
  {
   "cell_type": "code",
   "execution_count": 19,
   "id": "9d1ce091-a2c3-4dd3-a130-5c9de5741fd8",
   "metadata": {},
   "outputs": [
    {
     "data": {
      "text/plain": [
       "True"
      ]
     },
     "execution_count": 19,
     "metadata": {},
     "output_type": "execute_result"
    }
   ],
   "source": [
    "'apple'<'banana'"
   ]
  },
  {
   "cell_type": "code",
   "execution_count": 20,
   "id": "6000f728-39e0-4e19-ad99-a7e8751a4395",
   "metadata": {},
   "outputs": [
    {
     "data": {
      "text/plain": [
       "49"
      ]
     },
     "execution_count": 20,
     "metadata": {},
     "output_type": "execute_result"
    }
   ],
   "source": [
    "ord('1')#ascii코드 변환 함수"
   ]
  },
  {
   "cell_type": "markdown",
   "id": "106238f2-4f0e-4282-8538-1e9bca74482b",
   "metadata": {},
   "source": [
    "### and,or,not\n",
    "- and(둘 다 T일때만 T)\n",
    "- or(하나라도 T면 T)\n",
    "- not(반대 T->F, F->t)"
   ]
  },
  {
   "cell_type": "code",
   "execution_count": 21,
   "id": "9ae4439b-576c-43d5-8e90-a0ca4f906ae3",
   "metadata": {},
   "outputs": [
    {
     "data": {
      "text/plain": [
       "True"
      ]
     },
     "execution_count": 21,
     "metadata": {},
     "output_type": "execute_result"
    }
   ],
   "source": [
    "(3>1) and (4>2)"
   ]
  },
  {
   "cell_type": "code",
   "execution_count": 22,
   "id": "7c362474-7e4d-4d1e-80c6-beeb85e71151",
   "metadata": {},
   "outputs": [
    {
     "data": {
      "text/plain": [
       "False"
      ]
     },
     "execution_count": 22,
     "metadata": {},
     "output_type": "execute_result"
    }
   ],
   "source": [
    "(3>1) and (4<2)"
   ]
  },
  {
   "cell_type": "code",
   "execution_count": 23,
   "id": "72e42db2-ddf6-4558-938c-794162716553",
   "metadata": {},
   "outputs": [
    {
     "data": {
      "text/plain": [
       "True"
      ]
     },
     "execution_count": 23,
     "metadata": {},
     "output_type": "execute_result"
    }
   ],
   "source": [
    "(3>1) or (4>2)"
   ]
  },
  {
   "cell_type": "code",
   "execution_count": 24,
   "id": "29a621f8-c80e-4956-94e5-fa45a93870ec",
   "metadata": {},
   "outputs": [
    {
     "data": {
      "text/plain": [
       "False"
      ]
     },
     "execution_count": 24,
     "metadata": {},
     "output_type": "execute_result"
    }
   ],
   "source": [
    "(3>1) and (4<2)"
   ]
  },
  {
   "cell_type": "code",
   "execution_count": 25,
   "id": "215db3d7-0621-44e1-b8d5-0fcf255887c9",
   "metadata": {},
   "outputs": [
    {
     "data": {
      "text/plain": [
       "True"
      ]
     },
     "execution_count": 25,
     "metadata": {},
     "output_type": "execute_result"
    }
   ],
   "source": [
    "not 0"
   ]
  },
  {
   "cell_type": "code",
   "execution_count": 26,
   "id": "773b5cc2-3cd6-484b-ae11-0323b11c3ab3",
   "metadata": {},
   "outputs": [
    {
     "data": {
      "text/plain": [
       "False"
      ]
     },
     "execution_count": 26,
     "metadata": {},
     "output_type": "execute_result"
    }
   ],
   "source": [
    "not 'A'"
   ]
  },
  {
   "cell_type": "code",
   "execution_count": 27,
   "id": "1ee32032-fe7f-4141-b584-d9597a3b9a1a",
   "metadata": {},
   "outputs": [
    {
     "data": {
      "text/plain": [
       "True"
      ]
     },
     "execution_count": 27,
     "metadata": {},
     "output_type": "execute_result"
    }
   ],
   "source": [
    "not ''"
   ]
  },
  {
   "cell_type": "markdown",
   "id": "70ef800d-22e8-4cb8-8483-3dfd01d09a11",
   "metadata": {},
   "source": [
    "### in, not in\n",
    "- in: 문자열이나 리스트에서 해당 요소가 포함되어 있는지 검사\n",
    "- not in: 문자열이나 리스트에서 해당 요소가 포함되어 있지 않은지 검사"
   ]
  },
  {
   "cell_type": "code",
   "execution_count": 28,
   "id": "924cb3ba-48ac-487b-ab4d-c852b3d9a444",
   "metadata": {},
   "outputs": [],
   "source": [
    "l=[1,2,3]"
   ]
  },
  {
   "cell_type": "code",
   "execution_count": 29,
   "id": "e409ba10-2595-475b-a378-96a6a68dea8f",
   "metadata": {},
   "outputs": [
    {
     "data": {
      "text/plain": [
       "True"
      ]
     },
     "execution_count": 29,
     "metadata": {},
     "output_type": "execute_result"
    }
   ],
   "source": [
    "3 in l"
   ]
  },
  {
   "cell_type": "code",
   "execution_count": 30,
   "id": "6e647092-99c6-499e-9ed8-8634433f7ce0",
   "metadata": {},
   "outputs": [
    {
     "data": {
      "text/plain": [
       "False"
      ]
     },
     "execution_count": 30,
     "metadata": {},
     "output_type": "execute_result"
    }
   ],
   "source": [
    "4 in l"
   ]
  },
  {
   "cell_type": "code",
   "execution_count": 31,
   "id": "bd9021bd-9468-4117-afd9-c701e492efac",
   "metadata": {},
   "outputs": [
    {
     "data": {
      "text/plain": [
       "True"
      ]
     },
     "execution_count": 31,
     "metadata": {},
     "output_type": "execute_result"
    }
   ],
   "source": [
    "'a' in 'apple'"
   ]
  },
  {
   "cell_type": "code",
   "execution_count": 32,
   "id": "8eec8659-9048-4093-9618-9e03b461c7df",
   "metadata": {},
   "outputs": [
    {
     "data": {
      "text/plain": [
       "False"
      ]
     },
     "execution_count": 32,
     "metadata": {},
     "output_type": "execute_result"
    }
   ],
   "source": [
    "'z' in 'apple'"
   ]
  },
  {
   "cell_type": "code",
   "execution_count": 33,
   "id": "9e42143e-f6c3-48fb-b897-4819da8bce95",
   "metadata": {},
   "outputs": [
    {
     "data": {
      "text/plain": [
       "False"
      ]
     },
     "execution_count": 33,
     "metadata": {},
     "output_type": "execute_result"
    }
   ],
   "source": [
    "'a' in ['apple','banana']"
   ]
  },
  {
   "cell_type": "code",
   "execution_count": 34,
   "id": "9ef900cc-74b4-4b0e-bc47-deeedb1cadab",
   "metadata": {},
   "outputs": [
    {
     "data": {
      "text/plain": [
       "False"
      ]
     },
     "execution_count": 34,
     "metadata": {},
     "output_type": "execute_result"
    }
   ],
   "source": [
    "'a' not in 'apple'"
   ]
  },
  {
   "cell_type": "markdown",
   "id": "b2a4f07f-5598-4bcf-86d7-62a2633a5da2",
   "metadata": {},
   "source": [
    "### else, elif"
   ]
  },
  {
   "cell_type": "markdown",
   "id": "2f0b99e3-0080-421a-8c8b-445cedad6b24",
   "metadata": {},
   "source": [
    "if:\n",
    "elif:\n",
    "else:\n"
   ]
  },
  {
   "cell_type": "code",
   "execution_count": 35,
   "id": "aa3723f7-bf0d-4676-a8cf-2e2abadd9aa9",
   "metadata": {},
   "outputs": [
    {
     "name": "stdout",
     "output_type": "stream",
     "text": [
      "a는 5보다 작습니다.\n"
     ]
    }
   ],
   "source": [
    "a=1\n",
    "if a<5:\n",
    "    print('a는 5보다 작습니다.')"
   ]
  },
  {
   "cell_type": "code",
   "execution_count": 36,
   "id": "68446646-382f-4699-8ea1-1da789991945",
   "metadata": {},
   "outputs": [
    {
     "name": "stdout",
     "output_type": "stream",
     "text": [
      "a는 10보다 작습니다.\n"
     ]
    }
   ],
   "source": [
    "a=6\n",
    "if a<5:\n",
    "    print('a는 5보다 작습니다.')\n",
    "elif a<10:\n",
    "    print('a는 10보다 작습니다.')"
   ]
  },
  {
   "cell_type": "code",
   "execution_count": 37,
   "id": "f6b8c199-a414-48fd-9aef-1ded80f63e5a",
   "metadata": {},
   "outputs": [
    {
     "name": "stdout",
     "output_type": "stream",
     "text": [
      "b는 5보다 작습니다.\n"
     ]
    }
   ],
   "source": [
    "b=6\n",
    "if b<7:\n",
    "    print('b는 5보다 작습니다.')\n",
    "elif b<10:\n",
    "    print('b는 10보다 작습니다.')"
   ]
  },
  {
   "cell_type": "code",
   "execution_count": 38,
   "id": "91d23417-51de-4a7e-981c-57823cb2d17c",
   "metadata": {},
   "outputs": [
    {
     "name": "stdout",
     "output_type": "stream",
     "text": [
      "a는 5보다 작습니다.\n",
      "a는 10보다 작습니다.\n"
     ]
    }
   ],
   "source": [
    "a = 1\n",
    "if a<5 :\n",
    "    print('a는 5보다 작습니다.')\n",
    "if a<10 :\n",
    "    print('a는 10보다 작습니다.')"
   ]
  },
  {
   "cell_type": "code",
   "execution_count": 39,
   "id": "d8ee3bdb-a1c1-4385-98d0-d7373befd944",
   "metadata": {},
   "outputs": [
    {
     "name": "stdout",
     "output_type": "stream",
     "text": [
      "a는 10보다 큽니다.\n"
     ]
    }
   ],
   "source": [
    "a=15\n",
    "if a<5:\n",
    "    print('a는 5보다 작습니다.')\n",
    "elif a<10:\n",
    "    print('a는 10보다 작습니다.')\n",
    "else :\n",
    "    print('a는 10보다 큽니다.')"
   ]
  },
  {
   "cell_type": "code",
   "execution_count": 40,
   "id": "ecac3577-d5b1-479e-9cd0-c4caa4608e3a",
   "metadata": {},
   "outputs": [
    {
     "name": "stdout",
     "output_type": "stream",
     "text": [
      "aaa\n"
     ]
    }
   ],
   "source": [
    "a=1\n",
    "if 0<a<5:\n",
    "    print('aaa')"
   ]
  },
  {
   "cell_type": "markdown",
   "id": "a5521897-74de-4cd4-8ef7-70144a22b1d6",
   "metadata": {},
   "source": [
    "### QUIZ\n",
    "- 주어진 숫자가 홀수인지 짝수인지 구하시오"
   ]
  },
  {
   "cell_type": "code",
   "execution_count": 41,
   "id": "3f2eabed-6edb-4115-9dd6-411fb8f54ada",
   "metadata": {},
   "outputs": [],
   "source": [
    "num=11"
   ]
  },
  {
   "cell_type": "code",
   "execution_count": 42,
   "id": "8afda5c4-9918-4872-93ee-74e699019817",
   "metadata": {},
   "outputs": [
    {
     "name": "stdout",
     "output_type": "stream",
     "text": [
      "홀수\n"
     ]
    }
   ],
   "source": [
    "if num%2==1:\n",
    "    print('홀수')\n",
    "elif num%2==0:\n",
    "    print('짝수')"
   ]
  },
  {
   "cell_type": "code",
   "execution_count": 43,
   "id": "f579fa0a-7059-472f-9c87-a4ee419771e5",
   "metadata": {},
   "outputs": [
    {
     "data": {
      "text/plain": [
       "True"
      ]
     },
     "execution_count": 43,
     "metadata": {},
     "output_type": "execute_result"
    }
   ],
   "source": [
    "#isinstance(확인하고자 하는 데이터 값, 확인하고자 하는 데이터 타입)\n",
    "isinstance(0,int)"
   ]
  },
  {
   "cell_type": "code",
   "execution_count": 44,
   "id": "1441bc23-3dd7-4069-adb0-5ed328500f05",
   "metadata": {},
   "outputs": [
    {
     "data": {
      "text/plain": [
       "True"
      ]
     },
     "execution_count": 44,
     "metadata": {},
     "output_type": "execute_result"
    }
   ],
   "source": [
    "isinstance('0',str)"
   ]
  },
  {
   "cell_type": "code",
   "execution_count": 45,
   "id": "1520ce2e-f0ad-428c-8dbf-5e1dcf8248ab",
   "metadata": {},
   "outputs": [
    {
     "name": "stdout",
     "output_type": "stream",
     "text": [
      "num은 문자열입니다.!\n"
     ]
    }
   ],
   "source": [
    "num='가'\n",
    "if isinstance(num,int) :\n",
    "    if num==0 :\n",
    "        print('num은 0입니다.')\n",
    "    elif num%2==1:\n",
    "        print('홀수')\n",
    "    else:\n",
    "        print('짝수')\n",
    "else :\n",
    "    print('num은 문자열입니다.!')"
   ]
  },
  {
   "cell_type": "code",
   "execution_count": 46,
   "id": "ff7afd89-5d62-4ed2-94be-7276640adb5a",
   "metadata": {},
   "outputs": [
    {
     "name": "stdout",
     "output_type": "stream",
     "text": [
      "홀수에용\n"
     ]
    }
   ],
   "source": [
    "num=1\n",
    "if isinstance(num,int) :\n",
    "    if num==0 :\n",
    "        print('num은 0입니다.')\n",
    "    elif num%2==1:\n",
    "        print('홀수에용')\n",
    "    else:\n",
    "        print('짝수에용')\n",
    "else :\n",
    "    print('num은 문자열입니다.!')"
   ]
  },
  {
   "cell_type": "markdown",
   "id": "db6cba22-5258-439d-be5c-da84f957ea23",
   "metadata": {
    "tags": []
   },
   "source": [
    "### 사용자 입력값 받기"
   ]
  },
  {
   "cell_type": "code",
   "execution_count": 47,
   "id": "62784318-87fc-4fa2-b86e-d383d2fc7768",
   "metadata": {},
   "outputs": [
    {
     "name": "stdout",
     "output_type": "stream",
     "text": [
      " ㄴ\n"
     ]
    }
   ],
   "source": [
    "text=input()"
   ]
  },
  {
   "cell_type": "code",
   "execution_count": 48,
   "id": "f3e9e785-98ce-40d6-a0ff-8b082e08a575",
   "metadata": {},
   "outputs": [
    {
     "name": "stdout",
     "output_type": "stream",
     "text": [
      "나이를 입력하세요 12\n"
     ]
    }
   ],
   "source": [
    "user_age = input('나이를 입력하세요')"
   ]
  },
  {
   "cell_type": "code",
   "execution_count": 49,
   "id": "19dd766b-aae0-46cf-bc86-d885c2b0f112",
   "metadata": {},
   "outputs": [
    {
     "name": "stdout",
     "output_type": "stream",
     "text": [
      "12\n"
     ]
    }
   ],
   "source": [
    "try:\n",
    "    print(int(user_age))\n",
    "except:\n",
    "    print('숫자를 입력하세요')"
   ]
  },
  {
   "cell_type": "markdown",
   "id": "20c30b36-f162-4724-8867-eae58e07d538",
   "metadata": {},
   "source": [
    "##  QUIZ\n",
    "1. 사용자의 나이를 입력 받으세요.\n",
    "1) 20세 이상이면 \"성인\",아니면 \"미성년자\"라고 출력되는 코드를 작성하세요.\n",
    "2) \"20대 미만, 20대, 30대, 40대 이상\"을 출력하는 코드를 작성하세요\n",
    "2. 사용자의 이름을 입력받으세요.\n",
    "1) 사용자의 성을 출력해주는 코드를 작성하세요\n",
    "2) 사용자의 성이 popular_last_name = ['김','이','박]에 포함되는지 출력해주는 코드를 작성하세요\n",
    "3) 사용자의 이름이 user_info=('홍길동':24, '유재석':26,'김종국':27)에 해당하는 이름이면 나이를 출력해주는 코드를 작성하세요\n",
    "3. 사용자로부터 세 개의 숫자를 입력받아 가장 큰 수를 출력하세요.(입력형식: 1,2,3)\n",
    "4. 사용자로부터 주민등록번호를 입력받아, 뒷자리의 숫자가 1또는 3이면 \"남자\", 2또는 4면 \"여자\", 이외에는 \"오류\"라고 출력하세요.(입력 형식: 900000-1000000)"
   ]
  },
  {
   "cell_type": "code",
   "execution_count": 1,
   "id": "b826d81a",
   "metadata": {},
   "outputs": [
    {
     "name": "stdout",
     "output_type": "stream",
     "text": [
      "안흔함\n"
     ]
    }
   ],
   "source": [
    "name= input('이름을 입력하세요')\n",
    "pop_name = ['김','이','박']\n",
    "if name[0] in pop_name:\n",
    "    print('흔함')\n",
    "else:\n",
    "    print('안흔함')"
   ]
  },
  {
   "cell_type": "code",
   "execution_count": 8,
   "id": "8f5262e8-5260-45c0-92fc-91abb081fe6f",
   "metadata": {},
   "outputs": [
    {
     "name": "stdout",
     "output_type": "stream",
     "text": [
      "26\n"
     ]
    }
   ],
   "source": [
    "user_name = input('이름을 입력하세요: ')\n",
    "user_info = {'홍길동': 24, '유재석': 26, '김종국': 27}\n",
    "\n",
    "if user_name in user_info:\n",
    "    print(user_info[user_name])\n",
    "else:\n",
    "    print('back')"
   ]
  },
  {
   "cell_type": "code",
   "execution_count": 106,
   "id": "d701933a-66e8-401b-8e41-e27f89e50705",
   "metadata": {},
   "outputs": [
    {
     "name": "stdout",
     "output_type": "stream",
     "text": [
      "성인\n",
      "30대\n"
     ]
    }
   ],
   "source": [
    "if age>=20 :\n",
    "    print('성인')\n",
    "    if 20<=age<30:\n",
    "        print('20대')\n",
    "    elif 30<=age<40:\n",
    "        print('30대')\n",
    "    else :\n",
    "        print('40대')\n",
    "else:\n",
    "    print('미성년자')\n",
    "    print('20대 미만')\n"
   ]
  },
  {
   "cell_type": "code",
   "execution_count": 108,
   "id": "3902cf53-6589-44b7-bde4-0afea4c62221",
   "metadata": {},
   "outputs": [
    {
     "name": "stdout",
     "output_type": "stream",
     "text": [
      "30대\n"
     ]
    }
   ],
   "source": [
    "if age<20:\n",
    "    print('20대 미만')\n",
    "elif 20<age<30:\n",
    "    print('20대')\n",
    "elif 30<age<40:\n",
    "    print('30대')\n",
    "else:\n",
    "    print('40대 이상')"
   ]
  },
  {
   "cell_type": "code",
   "execution_count": 53,
   "id": "1203c3fd-e4c8-4b46-98e0-c173e6c74417",
   "metadata": {},
   "outputs": [
    {
     "name": "stdout",
     "output_type": "stream",
     "text": [
      "이름을 입력하세요 고상현\n"
     ]
    }
   ],
   "source": [
    "user_name=input('이름을 입력하세요')"
   ]
  },
  {
   "cell_type": "code",
   "execution_count": 82,
   "id": "33b60642-4b30-4ce9-bb9e-64c037778567",
   "metadata": {},
   "outputs": [
    {
     "data": {
      "text/plain": [
       "'고'"
      ]
     },
     "execution_count": 82,
     "metadata": {},
     "output_type": "execute_result"
    }
   ],
   "source": [
    "user_name[0]"
   ]
  },
  {
   "cell_type": "code",
   "execution_count": 55,
   "id": "b6e6aaf5-e7b9-4d11-ac5b-8327902eff85",
   "metadata": {},
   "outputs": [],
   "source": [
    "popular_last_name="
   ]
  },
  {
   "cell_type": "code",
   "execution_count": 101,
   "id": "ff612c78-492e-4482-9e07-a11f9154c4f7",
   "metadata": {},
   "outputs": [
    {
     "ename": "TypeError",
     "evalue": "'in <string>' requires string as left operand, not list",
     "output_type": "error",
     "traceback": [
      "\u001b[1;31m---------------------------------------------------------------------------\u001b[0m",
      "\u001b[1;31mTypeError\u001b[0m                                 Traceback (most recent call last)",
      "Input \u001b[1;32mIn [101]\u001b[0m, in \u001b[0;36m<cell line: 1>\u001b[1;34m()\u001b[0m\n\u001b[0;32m      1\u001b[0m \u001b[38;5;28;01mif\u001b[39;00m popular_last_name\u001b[38;5;241m==\u001b[39m[\u001b[38;5;124m'\u001b[39m\u001b[38;5;124m김\u001b[39m\u001b[38;5;124m'\u001b[39m,\u001b[38;5;124m'\u001b[39m\u001b[38;5;124m이\u001b[39m\u001b[38;5;124m'\u001b[39m,\u001b[38;5;124m'\u001b[39m\u001b[38;5;124m박\u001b[39m\u001b[38;5;124m'\u001b[39m]:\n\u001b[0;32m      2\u001b[0m     \u001b[38;5;28mprint\u001b[39m(\u001b[38;5;124m'\u001b[39m\u001b[38;5;124m김,이,박\u001b[39m\u001b[38;5;124m'\u001b[39m)\n\u001b[1;32m----> 3\u001b[0m \u001b[38;5;28;01melif\u001b[39;00m\u001b[43m[\u001b[49m\u001b[38;5;124;43m'\u001b[39;49m\u001b[38;5;124;43m김\u001b[39;49m\u001b[38;5;124;43m'\u001b[39;49m\u001b[43m,\u001b[49m\u001b[38;5;124;43m'\u001b[39;49m\u001b[38;5;124;43m이\u001b[39;49m\u001b[38;5;124;43m'\u001b[39;49m\u001b[43m,\u001b[49m\u001b[38;5;124;43m'\u001b[39;49m\u001b[38;5;124;43m박\u001b[39;49m\u001b[38;5;124;43m'\u001b[39;49m\u001b[43m]\u001b[49m\u001b[43m \u001b[49m\u001b[38;5;129;43;01mnot\u001b[39;49;00m\u001b[43m \u001b[49m\u001b[38;5;129;43;01min\u001b[39;49;00m\u001b[43m \u001b[49m\u001b[43mpopular_last_name\u001b[49m :\n\u001b[0;32m      4\u001b[0m     \u001b[38;5;28mprint\u001b[39m(\u001b[38;5;124m'\u001b[39m\u001b[38;5;124m그 외\u001b[39m\u001b[38;5;124m'\u001b[39m)\n",
      "\u001b[1;31mTypeError\u001b[0m: 'in <string>' requires string as left operand, not list"
     ]
    }
   ],
   "source": [
    "if popular_last_name==['김','이','박']:\n",
    "    print('김,이,박')\n",
    "elif['김','이','박'] not in popular_last_name :\n",
    "    print('그 외')"
   ]
  },
  {
   "cell_type": "code",
   "execution_count": 93,
   "id": "498ad633-2880-4e97-bc38-7a957dd769df",
   "metadata": {},
   "outputs": [
    {
     "name": "stdout",
     "output_type": "stream",
     "text": [
      "주민등록번호를 입력하세요 900000-400000\n"
     ]
    }
   ],
   "source": [
    "jumin=input('주민등록번호를 입력하세요')"
   ]
  },
  {
   "cell_type": "code",
   "execution_count": 94,
   "id": "0b5ed16a-0292-4f55-a898-a4574d9762ca",
   "metadata": {},
   "outputs": [
    {
     "data": {
      "text/plain": [
       "['900000', '400000']"
      ]
     },
     "execution_count": 94,
     "metadata": {},
     "output_type": "execute_result"
    }
   ],
   "source": [
    "jumin.split('-')"
   ]
  },
  {
   "cell_type": "code",
   "execution_count": 95,
   "id": "1b836d00-797d-4507-90b0-2a077e0e367a",
   "metadata": {},
   "outputs": [],
   "source": [
    "back=jumin[jumin.find('-')+1]"
   ]
  },
  {
   "cell_type": "code",
   "execution_count": 96,
   "id": "0c900768-6497-4866-a07d-419fb0787cfb",
   "metadata": {},
   "outputs": [
    {
     "name": "stdout",
     "output_type": "stream",
     "text": [
      "여성\n"
     ]
    }
   ],
   "source": [
    "if back=='1' or back=='3' :\n",
    "    print('남성')\n",
    "elif  back=='2' or back =='4' :\n",
    "    print('여성')\n",
    "else :\n",
    "    print('오류')"
   ]
  },
  {
   "cell_type": "code",
   "execution_count": null,
   "id": "172a8a56-3866-477c-9cb6-cfa5078ae324",
   "metadata": {},
   "outputs": [],
   "source": []
  }
 ],
 "metadata": {
  "kernelspec": {
   "display_name": "Python 3",
   "language": "python",
   "name": "python3"
  },
  "language_info": {
   "codemirror_mode": {
    "name": "ipython",
    "version": 3
   },
   "file_extension": ".py",
   "mimetype": "text/x-python",
   "name": "python",
   "nbconvert_exporter": "python",
   "pygments_lexer": "ipython3",
   "version": "3.10.10"
  },
  "vscode": {
   "interpreter": {
    "hash": "d1a1120d6b703f94660d8a0a86efaeba37d220648474f25f942e1d3645fcdcb7"
   }
  }
 },
 "nbformat": 4,
 "nbformat_minor": 5
}
