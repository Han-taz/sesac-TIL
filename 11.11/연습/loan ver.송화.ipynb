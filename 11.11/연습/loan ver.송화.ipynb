{
 "cells": [
  {
   "cell_type": "code",
   "execution_count": 2,
   "id": "2a3ca67f-e74f-4bcb-b947-5662d109c2b3",
   "metadata": {},
   "outputs": [],
   "source": [
    "import pandas as pd\n",
    "import numpy as np\n",
    "import pickle\n",
    "from sklearn.model_selection import train_test_split\n",
    "import warnings\n",
    "warnings.filterwarnings(action='ignore')\n",
    "\n",
    "from sklearn.svm import SVC\n",
    "from sklearn.preprocessing import LabelEncoder\n",
    "from sklearn.preprocessing import MinMaxScaler\n",
    "from sklearn.preprocessing import StandardScaler\n",
    "from sklearn.linear_model import LogisticRegression\n"
   ]
  },
  {
   "cell_type": "code",
   "execution_count": 3,
   "id": "a104b0a4-6366-49a5-b1fc-1e2deaa84391",
   "metadata": {},
   "outputs": [],
   "source": [
    "df=pd.read_csv('loan.csv')"
   ]
  },
  {
   "cell_type": "code",
   "execution_count": 4,
   "id": "49a47658-ef60-4eef-ab99-b891b646af07",
   "metadata": {
    "tags": []
   },
   "outputs": [
    {
     "data": {
      "text/plain": [
       "Loan_ID               0\n",
       "Gender               13\n",
       "Married               3\n",
       "Dependents           15\n",
       "Education             0\n",
       "Self_Employed        32\n",
       "ApplicantIncome       0\n",
       "CoapplicantIncome     0\n",
       "LoanAmount           22\n",
       "Loan_Amount_Term     14\n",
       "Credit_History       50\n",
       "Property_Area         0\n",
       "Loan_Status           0\n",
       "dtype: int64"
      ]
     },
     "execution_count": 4,
     "metadata": {},
     "output_type": "execute_result"
    }
   ],
   "source": [
    "df.isnull().sum()"
   ]
  },
  {
   "cell_type": "code",
   "execution_count": 5,
   "id": "eb2a869f-9cf0-4dbe-ad55-828e8ff0523b",
   "metadata": {
    "tags": []
   },
   "outputs": [
    {
     "data": {
      "text/html": [
       "<div>\n",
       "<style scoped>\n",
       "    .dataframe tbody tr th:only-of-type {\n",
       "        vertical-align: middle;\n",
       "    }\n",
       "\n",
       "    .dataframe tbody tr th {\n",
       "        vertical-align: top;\n",
       "    }\n",
       "\n",
       "    .dataframe thead th {\n",
       "        text-align: right;\n",
       "    }\n",
       "</style>\n",
       "<table border=\"1\" class=\"dataframe\">\n",
       "  <thead>\n",
       "    <tr style=\"text-align: right;\">\n",
       "      <th></th>\n",
       "      <th>Loan_ID</th>\n",
       "      <th>Gender</th>\n",
       "      <th>Married</th>\n",
       "      <th>Dependents</th>\n",
       "      <th>Education</th>\n",
       "      <th>Self_Employed</th>\n",
       "      <th>ApplicantIncome</th>\n",
       "      <th>CoapplicantIncome</th>\n",
       "      <th>LoanAmount</th>\n",
       "      <th>Loan_Amount_Term</th>\n",
       "      <th>Credit_History</th>\n",
       "      <th>Property_Area</th>\n",
       "      <th>Loan_Status</th>\n",
       "    </tr>\n",
       "  </thead>\n",
       "  <tbody>\n",
       "    <tr>\n",
       "      <th>0</th>\n",
       "      <td>LP001002</td>\n",
       "      <td>Male</td>\n",
       "      <td>No</td>\n",
       "      <td>0</td>\n",
       "      <td>Graduate</td>\n",
       "      <td>No</td>\n",
       "      <td>5849</td>\n",
       "      <td>0.0</td>\n",
       "      <td>NaN</td>\n",
       "      <td>360.0</td>\n",
       "      <td>1.0</td>\n",
       "      <td>Urban</td>\n",
       "      <td>Y</td>\n",
       "    </tr>\n",
       "    <tr>\n",
       "      <th>1</th>\n",
       "      <td>LP001003</td>\n",
       "      <td>Male</td>\n",
       "      <td>Yes</td>\n",
       "      <td>1</td>\n",
       "      <td>Graduate</td>\n",
       "      <td>No</td>\n",
       "      <td>4583</td>\n",
       "      <td>1508.0</td>\n",
       "      <td>128.0</td>\n",
       "      <td>360.0</td>\n",
       "      <td>1.0</td>\n",
       "      <td>Rural</td>\n",
       "      <td>N</td>\n",
       "    </tr>\n",
       "    <tr>\n",
       "      <th>2</th>\n",
       "      <td>LP001005</td>\n",
       "      <td>Male</td>\n",
       "      <td>Yes</td>\n",
       "      <td>0</td>\n",
       "      <td>Graduate</td>\n",
       "      <td>Yes</td>\n",
       "      <td>3000</td>\n",
       "      <td>0.0</td>\n",
       "      <td>66.0</td>\n",
       "      <td>360.0</td>\n",
       "      <td>1.0</td>\n",
       "      <td>Urban</td>\n",
       "      <td>Y</td>\n",
       "    </tr>\n",
       "    <tr>\n",
       "      <th>3</th>\n",
       "      <td>LP001006</td>\n",
       "      <td>Male</td>\n",
       "      <td>Yes</td>\n",
       "      <td>0</td>\n",
       "      <td>Not Graduate</td>\n",
       "      <td>No</td>\n",
       "      <td>2583</td>\n",
       "      <td>2358.0</td>\n",
       "      <td>120.0</td>\n",
       "      <td>360.0</td>\n",
       "      <td>1.0</td>\n",
       "      <td>Urban</td>\n",
       "      <td>Y</td>\n",
       "    </tr>\n",
       "    <tr>\n",
       "      <th>4</th>\n",
       "      <td>LP001008</td>\n",
       "      <td>Male</td>\n",
       "      <td>No</td>\n",
       "      <td>0</td>\n",
       "      <td>Graduate</td>\n",
       "      <td>No</td>\n",
       "      <td>6000</td>\n",
       "      <td>0.0</td>\n",
       "      <td>141.0</td>\n",
       "      <td>360.0</td>\n",
       "      <td>1.0</td>\n",
       "      <td>Urban</td>\n",
       "      <td>Y</td>\n",
       "    </tr>\n",
       "    <tr>\n",
       "      <th>...</th>\n",
       "      <td>...</td>\n",
       "      <td>...</td>\n",
       "      <td>...</td>\n",
       "      <td>...</td>\n",
       "      <td>...</td>\n",
       "      <td>...</td>\n",
       "      <td>...</td>\n",
       "      <td>...</td>\n",
       "      <td>...</td>\n",
       "      <td>...</td>\n",
       "      <td>...</td>\n",
       "      <td>...</td>\n",
       "      <td>...</td>\n",
       "    </tr>\n",
       "    <tr>\n",
       "      <th>609</th>\n",
       "      <td>LP002978</td>\n",
       "      <td>Female</td>\n",
       "      <td>No</td>\n",
       "      <td>0</td>\n",
       "      <td>Graduate</td>\n",
       "      <td>No</td>\n",
       "      <td>2900</td>\n",
       "      <td>0.0</td>\n",
       "      <td>71.0</td>\n",
       "      <td>360.0</td>\n",
       "      <td>1.0</td>\n",
       "      <td>Rural</td>\n",
       "      <td>Y</td>\n",
       "    </tr>\n",
       "    <tr>\n",
       "      <th>610</th>\n",
       "      <td>LP002979</td>\n",
       "      <td>Male</td>\n",
       "      <td>Yes</td>\n",
       "      <td>3+</td>\n",
       "      <td>Graduate</td>\n",
       "      <td>No</td>\n",
       "      <td>4106</td>\n",
       "      <td>0.0</td>\n",
       "      <td>40.0</td>\n",
       "      <td>180.0</td>\n",
       "      <td>1.0</td>\n",
       "      <td>Rural</td>\n",
       "      <td>Y</td>\n",
       "    </tr>\n",
       "    <tr>\n",
       "      <th>611</th>\n",
       "      <td>LP002983</td>\n",
       "      <td>Male</td>\n",
       "      <td>Yes</td>\n",
       "      <td>1</td>\n",
       "      <td>Graduate</td>\n",
       "      <td>No</td>\n",
       "      <td>8072</td>\n",
       "      <td>240.0</td>\n",
       "      <td>253.0</td>\n",
       "      <td>360.0</td>\n",
       "      <td>1.0</td>\n",
       "      <td>Urban</td>\n",
       "      <td>Y</td>\n",
       "    </tr>\n",
       "    <tr>\n",
       "      <th>612</th>\n",
       "      <td>LP002984</td>\n",
       "      <td>Male</td>\n",
       "      <td>Yes</td>\n",
       "      <td>2</td>\n",
       "      <td>Graduate</td>\n",
       "      <td>No</td>\n",
       "      <td>7583</td>\n",
       "      <td>0.0</td>\n",
       "      <td>187.0</td>\n",
       "      <td>360.0</td>\n",
       "      <td>1.0</td>\n",
       "      <td>Urban</td>\n",
       "      <td>Y</td>\n",
       "    </tr>\n",
       "    <tr>\n",
       "      <th>613</th>\n",
       "      <td>LP002990</td>\n",
       "      <td>Female</td>\n",
       "      <td>No</td>\n",
       "      <td>0</td>\n",
       "      <td>Graduate</td>\n",
       "      <td>Yes</td>\n",
       "      <td>4583</td>\n",
       "      <td>0.0</td>\n",
       "      <td>133.0</td>\n",
       "      <td>360.0</td>\n",
       "      <td>0.0</td>\n",
       "      <td>Semiurban</td>\n",
       "      <td>N</td>\n",
       "    </tr>\n",
       "  </tbody>\n",
       "</table>\n",
       "<p>614 rows × 13 columns</p>\n",
       "</div>"
      ],
      "text/plain": [
       "      Loan_ID  Gender Married Dependents     Education Self_Employed  \\\n",
       "0    LP001002    Male      No          0      Graduate            No   \n",
       "1    LP001003    Male     Yes          1      Graduate            No   \n",
       "2    LP001005    Male     Yes          0      Graduate           Yes   \n",
       "3    LP001006    Male     Yes          0  Not Graduate            No   \n",
       "4    LP001008    Male      No          0      Graduate            No   \n",
       "..        ...     ...     ...        ...           ...           ...   \n",
       "609  LP002978  Female      No          0      Graduate            No   \n",
       "610  LP002979    Male     Yes         3+      Graduate            No   \n",
       "611  LP002983    Male     Yes          1      Graduate            No   \n",
       "612  LP002984    Male     Yes          2      Graduate            No   \n",
       "613  LP002990  Female      No          0      Graduate           Yes   \n",
       "\n",
       "     ApplicantIncome  CoapplicantIncome  LoanAmount  Loan_Amount_Term  \\\n",
       "0               5849                0.0         NaN             360.0   \n",
       "1               4583             1508.0       128.0             360.0   \n",
       "2               3000                0.0        66.0             360.0   \n",
       "3               2583             2358.0       120.0             360.0   \n",
       "4               6000                0.0       141.0             360.0   \n",
       "..               ...                ...         ...               ...   \n",
       "609             2900                0.0        71.0             360.0   \n",
       "610             4106                0.0        40.0             180.0   \n",
       "611             8072              240.0       253.0             360.0   \n",
       "612             7583                0.0       187.0             360.0   \n",
       "613             4583                0.0       133.0             360.0   \n",
       "\n",
       "     Credit_History Property_Area Loan_Status  \n",
       "0               1.0         Urban           Y  \n",
       "1               1.0         Rural           N  \n",
       "2               1.0         Urban           Y  \n",
       "3               1.0         Urban           Y  \n",
       "4               1.0         Urban           Y  \n",
       "..              ...           ...         ...  \n",
       "609             1.0         Rural           Y  \n",
       "610             1.0         Rural           Y  \n",
       "611             1.0         Urban           Y  \n",
       "612             1.0         Urban           Y  \n",
       "613             0.0     Semiurban           N  \n",
       "\n",
       "[614 rows x 13 columns]"
      ]
     },
     "execution_count": 5,
     "metadata": {},
     "output_type": "execute_result"
    }
   ],
   "source": [
    "df"
   ]
  },
  {
   "cell_type": "code",
   "execution_count": null,
   "id": "124046fc-8633-40e3-8c19-aaee950641f4",
   "metadata": {
    "tags": []
   },
   "outputs": [],
   "source": [
    "df['Married']"
   ]
  },
  {
   "cell_type": "code",
   "execution_count": 7,
   "id": "c0a1c984-49c6-4329-8a97-6048cc89d249",
   "metadata": {},
   "outputs": [],
   "source": [
    "null_col=['Gender','Married','Dependents','Self_Employed']"
   ]
  },
  {
   "cell_type": "code",
   "execution_count": 8,
   "id": "a4bc72cc-70b9-425f-8bd8-2667c3c7060d",
   "metadata": {},
   "outputs": [],
   "source": [
    "for col in null_col:\n",
    "    df[col].fillna(df[col].mode()[0],inplace=True)\n",
    "    \n",
    "    "
   ]
  },
  {
   "cell_type": "code",
   "execution_count": null,
   "id": "0fcd641f-7dd5-4424-ab5f-b206d535b412",
   "metadata": {},
   "outputs": [],
   "source": [
    "df.isnull().sum()"
   ]
  },
  {
   "cell_type": "code",
   "execution_count": 9,
   "id": "435e44b8-13d9-422e-a99c-1d45d28ee8b8",
   "metadata": {},
   "outputs": [],
   "source": [
    "df.LoanAmount=df.LoanAmount.fillna(df.LoanAmount.median())"
   ]
  },
  {
   "cell_type": "code",
   "execution_count": 10,
   "id": "e0b017b9-3956-407e-919a-280dedb8000a",
   "metadata": {},
   "outputs": [],
   "source": [
    "df.Loan_Amount_Term=df.Loan_Amount_Term.fillna(df.Loan_Amount_Term.mode()[0])"
   ]
  },
  {
   "cell_type": "code",
   "execution_count": 11,
   "id": "8b730b53-5ef5-4e44-a6d7-3c8101282b94",
   "metadata": {},
   "outputs": [],
   "source": [
    "df.Credit_History=df.Credit_History.fillna(df.Credit_History.mode()[0])"
   ]
  },
  {
   "cell_type": "code",
   "execution_count": 12,
   "id": "db42f4ce-070e-4b47-852d-2f98f1f8bed2",
   "metadata": {},
   "outputs": [
    {
     "data": {
      "text/plain": [
       "Loan_ID              0\n",
       "Gender               0\n",
       "Married              0\n",
       "Dependents           0\n",
       "Education            0\n",
       "Self_Employed        0\n",
       "ApplicantIncome      0\n",
       "CoapplicantIncome    0\n",
       "LoanAmount           0\n",
       "Loan_Amount_Term     0\n",
       "Credit_History       0\n",
       "Property_Area        0\n",
       "Loan_Status          0\n",
       "dtype: int64"
      ]
     },
     "execution_count": 12,
     "metadata": {},
     "output_type": "execute_result"
    }
   ],
   "source": [
    "df.isnull().sum()"
   ]
  },
  {
   "cell_type": "code",
   "execution_count": null,
   "id": "a4e6fb64-7144-42ea-bad1-e076d5f8c276",
   "metadata": {},
   "outputs": [],
   "source": [
    "label1=LabelEncoder()"
   ]
  },
  {
   "cell_type": "code",
   "execution_count": null,
   "id": "73733494-5e73-4616-adcb-fa430aa32037",
   "metadata": {},
   "outputs": [],
   "source": [
    "### object들을 모두 int로 바꿔주기"
   ]
  },
  {
   "cell_type": "code",
   "execution_count": null,
   "id": "bb4f6a31-4402-4909-a65a-14c7c8696a45",
   "metadata": {},
   "outputs": [],
   "source": [
    "df.dtypes"
   ]
  },
  {
   "cell_type": "code",
   "execution_count": null,
   "id": "2928da99-7e70-40e4-9bbe-4ca4132c1ab1",
   "metadata": {},
   "outputs": [],
   "source": [
    "index=df.dtypes.index"
   ]
  },
  {
   "cell_type": "code",
   "execution_count": null,
   "id": "54834ff6-a340-4f94-a9a1-0c1c118ce1ab",
   "metadata": {},
   "outputs": [],
   "source": [
    "value=df.dtypes.values"
   ]
  },
  {
   "cell_type": "code",
   "execution_count": null,
   "id": "427b0ec6-d4d1-4310-96e9-dd1fdf9a02fd",
   "metadata": {},
   "outputs": [],
   "source": [
    "value"
   ]
  },
  {
   "cell_type": "code",
   "execution_count": null,
   "id": "72170856-5cae-4ad2-8e5b-101eada5a580",
   "metadata": {},
   "outputs": [],
   "source": [
    "null_col=[]\n",
    "for i,j in zip(index,value):\n",
    "    if j=='object':\n",
    "        null_col.append(i)\n",
    "        "
   ]
  },
  {
   "cell_type": "code",
   "execution_count": null,
   "id": "1b0da525-1561-494f-bd49-fefd031c7cf7",
   "metadata": {},
   "outputs": [],
   "source": [
    "null_col"
   ]
  },
  {
   "cell_type": "code",
   "execution_count": null,
   "id": "1c22cb7a-68a9-45d2-9304-3ec607630231",
   "metadata": {},
   "outputs": [],
   "source": [
    "for col in null_col[1:]:\n",
    "    #print(col)\n",
    "    label1=LabelEncoder()\n",
    "    df[col]=label1.fit_transform(df[col])"
   ]
  },
  {
   "cell_type": "code",
   "execution_count": null,
   "id": "90827b0f-5a6f-4006-9aa4-6b63b84e7ebf",
   "metadata": {},
   "outputs": [],
   "source": [
    "df"
   ]
  },
  {
   "cell_type": "code",
   "execution_count": null,
   "id": "2969716a-ee1e-45d4-806a-9244d0f97e33",
   "metadata": {},
   "outputs": [],
   "source": [
    "X=df.drop(['Loan_ID','Loan_Status'],axis=1)\n",
    "Y=df['Loan_Status']"
   ]
  },
  {
   "cell_type": "code",
   "execution_count": null,
   "id": "5f0c5454-f1ae-495b-99d8-7d60e3ee652c",
   "metadata": {},
   "outputs": [],
   "source": [
    "Y"
   ]
  },
  {
   "cell_type": "code",
   "execution_count": null,
   "id": "f20da191-fa40-4702-8265-cdec82a2d5a3",
   "metadata": {},
   "outputs": [],
   "source": [
    "x_train,x_test,y_train,y_test=train_test_split(X,Y,test_size=0.2,random_state=42)"
   ]
  },
  {
   "cell_type": "code",
   "execution_count": null,
   "id": "bbf04fd1-57f0-470a-aa1d-dc67d327c05d",
   "metadata": {},
   "outputs": [],
   "source": [
    "model=SVC(C=20)"
   ]
  },
  {
   "cell_type": "code",
   "execution_count": null,
   "id": "144d796e-6df4-4be1-b09f-b8a754751ca4",
   "metadata": {},
   "outputs": [],
   "source": [
    "scaler=MinMaxScaler()"
   ]
  },
  {
   "cell_type": "code",
   "execution_count": null,
   "id": "cf0c036f-2183-46d1-bb46-5b6692819381",
   "metadata": {},
   "outputs": [],
   "source": [
    "x_train=scaler.fit_transform(x_train)"
   ]
  },
  {
   "cell_type": "code",
   "execution_count": null,
   "id": "6b1ebda5-7f1a-4ec1-ad88-260422df9484",
   "metadata": {},
   "outputs": [],
   "source": [
    "x_test=scaler.transform(x_test)"
   ]
  },
  {
   "cell_type": "code",
   "execution_count": null,
   "id": "ac67951b-db72-44e9-8dcb-c13b4d26249f",
   "metadata": {},
   "outputs": [],
   "source": [
    "model.fit(x_train,y_train)"
   ]
  },
  {
   "cell_type": "code",
   "execution_count": null,
   "id": "48ed4205-9ed5-4ef7-be6d-47589332aea8",
   "metadata": {},
   "outputs": [],
   "source": [
    "model.score(x_train,y_train)"
   ]
  },
  {
   "cell_type": "code",
   "execution_count": null,
   "id": "c152b9cd-ae2b-4a3b-839a-ae14fe936aa1",
   "metadata": {
    "tags": []
   },
   "outputs": [],
   "source": [
    "model.score(x_test,y_test)"
   ]
  },
  {
   "cell_type": "markdown",
   "id": "339ba5c4-1c27-4573-9ddb-c8b2ba73318a",
   "metadata": {},
   "source": [
    "-----------------------------"
   ]
  },
  {
   "cell_type": "code",
   "execution_count": null,
   "id": "4ee5b5e3-5dfe-476d-93af-97030de77e83",
   "metadata": {},
   "outputs": [],
   "source": [
    "null_col"
   ]
  },
  {
   "cell_type": "code",
   "execution_count": 13,
   "id": "2c899329-a008-45c1-a61a-d78281cc088f",
   "metadata": {},
   "outputs": [],
   "source": [
    "null_dict={} # null list에 education이랑 property area가 없어서 혹시나 추가함!\n",
    "null_list=['Gender','Married','Dependents','Self_Employed', 'Education', 'Property_Area']\n",
    "for col in null_list:\n",
    "    null_dict[col]=df[col].mode()[0]\n",
    "    \n",
    "null_dict['LoanAmount']=df['LoanAmount'].median()\n",
    "null_dict['Loan_Amount_Term']=df['Loan_Amount_Term'].mode()[0]\n",
    "null_dict['Credit_History']=df['Credit_History'].mode()[0]"
   ]
  },
  {
   "cell_type": "code",
   "execution_count": null,
   "id": "60f0d0eb-5ce1-4580-baa0-46c368b492fc",
   "metadata": {},
   "outputs": [],
   "source": [
    "null_col"
   ]
  },
  {
   "cell_type": "code",
   "execution_count": null,
   "id": "9e7a6a35-e757-4bff-bf08-8c677698d62f",
   "metadata": {},
   "outputs": [],
   "source": [
    "null_dict # 여기서 라벨 인코딩 한 다음의 값을 넣으면 안 됐던 거 같아!\n",
    "# 사유: 새 데이터 추가해서 머신러닝 돌릴 때 mode값 바뀌는 거 확인하려고 만드는 거였던 거 같아서 "
   ]
  },
  {
   "cell_type": "code",
   "execution_count": 14,
   "id": "c1c72129-f92b-4d29-b9d2-06187c7dcf73",
   "metadata": {},
   "outputs": [],
   "source": [
    "with open('null_dict.pkl','wb') as f:\n",
    "    pickle.dump(null_dict,f)"
   ]
  },
  {
   "cell_type": "code",
   "execution_count": null,
   "id": "d86bb1e1-ddc7-4543-8be8-bae332507884",
   "metadata": {},
   "outputs": [],
   "source": [
    "with open('model.pkl','wb') as f:\n",
    "    pickle.dump(model,f)"
   ]
  },
  {
   "cell_type": "code",
   "execution_count": null,
   "id": "8cad943f-b2bf-40fd-aa07-b1cbdf0cd4cb",
   "metadata": {},
   "outputs": [],
   "source": [
    "with open('scaler.pkl','wb') as f:\n",
    "    pickle.dump(scaler,f)"
   ]
  },
  {
   "cell_type": "markdown",
   "id": "bcebc25f-1501-44a4-bc45-3eb0a6f45eda",
   "metadata": {},
   "source": [
    "------"
   ]
  },
  {
   "cell_type": "markdown",
   "id": "2a8dc514-b65e-4a3f-9536-4abc22847121",
   "metadata": {},
   "source": [
    "여기서부터 수정해서 리얼데이터 돌려봤어"
   ]
  },
  {
   "cell_type": "code",
   "execution_count": 15,
   "id": "eb32b4a7-cd9d-496a-a0ff-b9bcab348720",
   "metadata": {
    "tags": []
   },
   "outputs": [],
   "source": [
    "obj_col=['Gender','Married','Dependents','Education','Self_Employed','Property_Area']"
   ]
  },
  {
   "cell_type": "code",
   "execution_count": null,
   "id": "80a6105e-a704-4424-b4b0-75e795318fc9",
   "metadata": {},
   "outputs": [],
   "source": [
    "label"
   ]
  },
  {
   "cell_type": "code",
   "execution_count": 16,
   "id": "f0ac4f98-739f-4e4a-9c60-1424ee05ae5b",
   "metadata": {},
   "outputs": [],
   "source": [
    "for col in obj_col:\n",
    "#    print(col)\n",
    "    label=LabelEncoder()\n",
    "    df[col]=label.fit_transform(df[col])\n",
    "    \n",
    "    filename='label_'+col+'.pkl'\n",
    "    with open(filename,'wb') as f:\n",
    "        pickle.dump(label,f)   "
   ]
  },
  {
   "cell_type": "code",
   "execution_count": 17,
   "id": "b6bb28c0-fcb8-444e-a1fe-ffb7e0bb455b",
   "metadata": {},
   "outputs": [],
   "source": [
    "real = ['LP001345', 'Male', 'Yes', '2', 'Not Graduate', 'No', 4288, 3263.0, 133.0, 180.0, 1.0, 'Urban']"
   ]
  },
  {
   "cell_type": "code",
   "execution_count": 18,
   "id": "ca2a1419-09d2-44c8-b501-0af2fa880ee4",
   "metadata": {},
   "outputs": [],
   "source": [
    "real = np.array(real).reshape(1,-1)"
   ]
  },
  {
   "cell_type": "code",
   "execution_count": 19,
   "id": "543d2bf9-103a-413e-a9fa-47c352ac9407",
   "metadata": {},
   "outputs": [],
   "source": [
    "df_real = pd.DataFrame(real, columns = ['Loan_ID', 'Gender', 'Married', 'Dependents', 'Education', 'Self_Employed', 'ApplicantIncome', 'CoapplicantIncome', 'LoanAmount', 'Loan_Amount_Term', 'Credit_History', 'Property_Area'])"
   ]
  },
  {
   "cell_type": "code",
   "execution_count": 20,
   "id": "f8ac1bac-853b-4aae-b37a-648bf978a9fc",
   "metadata": {
    "tags": []
   },
   "outputs": [
    {
     "data": {
      "text/html": [
       "<div>\n",
       "<style scoped>\n",
       "    .dataframe tbody tr th:only-of-type {\n",
       "        vertical-align: middle;\n",
       "    }\n",
       "\n",
       "    .dataframe tbody tr th {\n",
       "        vertical-align: top;\n",
       "    }\n",
       "\n",
       "    .dataframe thead th {\n",
       "        text-align: right;\n",
       "    }\n",
       "</style>\n",
       "<table border=\"1\" class=\"dataframe\">\n",
       "  <thead>\n",
       "    <tr style=\"text-align: right;\">\n",
       "      <th></th>\n",
       "      <th>Loan_ID</th>\n",
       "      <th>Gender</th>\n",
       "      <th>Married</th>\n",
       "      <th>Dependents</th>\n",
       "      <th>Education</th>\n",
       "      <th>Self_Employed</th>\n",
       "      <th>ApplicantIncome</th>\n",
       "      <th>CoapplicantIncome</th>\n",
       "      <th>LoanAmount</th>\n",
       "      <th>Loan_Amount_Term</th>\n",
       "      <th>Credit_History</th>\n",
       "      <th>Property_Area</th>\n",
       "    </tr>\n",
       "  </thead>\n",
       "  <tbody>\n",
       "    <tr>\n",
       "      <th>0</th>\n",
       "      <td>LP001345</td>\n",
       "      <td>Male</td>\n",
       "      <td>Yes</td>\n",
       "      <td>2</td>\n",
       "      <td>Not Graduate</td>\n",
       "      <td>No</td>\n",
       "      <td>4288</td>\n",
       "      <td>3263.0</td>\n",
       "      <td>133.0</td>\n",
       "      <td>180.0</td>\n",
       "      <td>1.0</td>\n",
       "      <td>Urban</td>\n",
       "    </tr>\n",
       "  </tbody>\n",
       "</table>\n",
       "</div>"
      ],
      "text/plain": [
       "    Loan_ID Gender Married Dependents     Education Self_Employed  \\\n",
       "0  LP001345   Male     Yes          2  Not Graduate            No   \n",
       "\n",
       "  ApplicantIncome CoapplicantIncome LoanAmount Loan_Amount_Term  \\\n",
       "0            4288            3263.0      133.0            180.0   \n",
       "\n",
       "  Credit_History Property_Area  \n",
       "0            1.0         Urban  "
      ]
     },
     "execution_count": 20,
     "metadata": {},
     "output_type": "execute_result"
    }
   ],
   "source": [
    "df_real"
   ]
  },
  {
   "cell_type": "code",
   "execution_count": 21,
   "id": "257576b3-c1a9-46b1-a70c-5b70b4552c45",
   "metadata": {},
   "outputs": [],
   "source": [
    "obj_col=['Gender','Married','Dependents','Education','Self_Employed','Property_Area']\n",
    "\n",
    "for col in obj_col:\n",
    "    filename='label_'+col+'.pkl'\n",
    "    \n",
    "    with open(filename, 'rb') as f:\n",
    "        label_col = pickle.load(f) \n",
    "        \n",
    "    df_real[col] = label_col.transform(df_real[col])"
   ]
  },
  {
   "cell_type": "code",
   "execution_count": 22,
   "id": "4ba6aa96-06e0-4b48-a5cd-32b59a081a2a",
   "metadata": {},
   "outputs": [
    {
     "data": {
      "text/html": [
       "<div>\n",
       "<style scoped>\n",
       "    .dataframe tbody tr th:only-of-type {\n",
       "        vertical-align: middle;\n",
       "    }\n",
       "\n",
       "    .dataframe tbody tr th {\n",
       "        vertical-align: top;\n",
       "    }\n",
       "\n",
       "    .dataframe thead th {\n",
       "        text-align: right;\n",
       "    }\n",
       "</style>\n",
       "<table border=\"1\" class=\"dataframe\">\n",
       "  <thead>\n",
       "    <tr style=\"text-align: right;\">\n",
       "      <th></th>\n",
       "      <th>Loan_ID</th>\n",
       "      <th>Gender</th>\n",
       "      <th>Married</th>\n",
       "      <th>Dependents</th>\n",
       "      <th>Education</th>\n",
       "      <th>Self_Employed</th>\n",
       "      <th>ApplicantIncome</th>\n",
       "      <th>CoapplicantIncome</th>\n",
       "      <th>LoanAmount</th>\n",
       "      <th>Loan_Amount_Term</th>\n",
       "      <th>Credit_History</th>\n",
       "      <th>Property_Area</th>\n",
       "    </tr>\n",
       "  </thead>\n",
       "  <tbody>\n",
       "    <tr>\n",
       "      <th>0</th>\n",
       "      <td>LP001345</td>\n",
       "      <td>1</td>\n",
       "      <td>1</td>\n",
       "      <td>2</td>\n",
       "      <td>1</td>\n",
       "      <td>0</td>\n",
       "      <td>4288</td>\n",
       "      <td>3263.0</td>\n",
       "      <td>133.0</td>\n",
       "      <td>180.0</td>\n",
       "      <td>1.0</td>\n",
       "      <td>2</td>\n",
       "    </tr>\n",
       "  </tbody>\n",
       "</table>\n",
       "</div>"
      ],
      "text/plain": [
       "    Loan_ID  Gender  Married  Dependents  Education  Self_Employed  \\\n",
       "0  LP001345       1        1           2          1              0   \n",
       "\n",
       "  ApplicantIncome CoapplicantIncome LoanAmount Loan_Amount_Term  \\\n",
       "0            4288            3263.0      133.0            180.0   \n",
       "\n",
       "  Credit_History  Property_Area  \n",
       "0            1.0              2  "
      ]
     },
     "execution_count": 22,
     "metadata": {},
     "output_type": "execute_result"
    }
   ],
   "source": [
    "df_real"
   ]
  },
  {
   "cell_type": "code",
   "execution_count": 23,
   "id": "c2497e79-d196-4480-bc12-bd9fbabf65c6",
   "metadata": {},
   "outputs": [
    {
     "ename": "NameError",
     "evalue": "name 'label_Gender' is not defined",
     "output_type": "error",
     "traceback": [
      "\u001b[1;31m---------------------------------------------------------------------------\u001b[0m",
      "\u001b[1;31mNameError\u001b[0m                                 Traceback (most recent call last)",
      "Input \u001b[1;32mIn [23]\u001b[0m, in \u001b[0;36m<cell line: 1>\u001b[1;34m()\u001b[0m\n\u001b[1;32m----> 1\u001b[0m \u001b[43mlabel_Gender\u001b[49m\n",
      "\u001b[1;31mNameError\u001b[0m: name 'label_Gender' is not defined"
     ]
    }
   ],
   "source": [
    "label_Gender # 이건 왜 define 되지 않는 걸까 생각을 해봤는데 말이야...\n",
    "# 피클 로드가 for문 안에 들어가 있어서가 아닐까 생각 중이야  "
   ]
  },
  {
   "cell_type": "code",
   "execution_count": null,
   "id": "f66da1f0-3e71-434a-bf9b-bd707e198fa4",
   "metadata": {},
   "outputs": [],
   "source": []
  }
 ],
 "metadata": {
  "kernelspec": {
   "display_name": "Python 3 (ipykernel)",
   "language": "python",
   "name": "python3"
  },
  "language_info": {
   "codemirror_mode": {
    "name": "ipython",
    "version": 3
   },
   "file_extension": ".py",
   "mimetype": "text/x-python",
   "name": "python",
   "nbconvert_exporter": "python",
   "pygments_lexer": "ipython3",
   "version": "3.9.12"
  }
 },
 "nbformat": 4,
 "nbformat_minor": 5
}
