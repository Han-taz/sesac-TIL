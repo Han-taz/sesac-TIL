{
 "cells": [
  {
   "cell_type": "markdown",
   "id": "3de4a781-aa80-4b54-9ec3-f2a9d8c8f82e",
   "metadata": {},
   "source": [
    "# 1 (선생님 풀이 후에 내꺼 풀이 나옴)\n",
    "- Loan Status Data Set\n",
    "- Loan Status 데이터 셋을 이용해서 대출을 받을 자격이 있는지를 구분하는 모델 만들기"
   ]
  },
  {
   "cell_type": "code",
   "execution_count": 1,
   "id": "62d3aa3c-f3b4-49f8-ab1f-bb0d5d678126",
   "metadata": {
    "tags": []
   },
   "outputs": [],
   "source": [
    "import pandas as pd\n",
    "import numpy as np\n",
    "from sklearn.linear_model import LogisticRegression\n",
    "from sklearn.model_selection import train_test_split\n",
    "from sklearn.preprocessing import StandardScaler\n",
    "from sklearn.preprocessing import LabelEncoder\n",
    "from sklearn.svm import SVC\n",
    "from IPython.display import Image\n",
    "#!pip install IPython"
   ]
  },
  {
   "cell_type": "markdown",
   "id": "f0837cac-2d5f-4d4a-b766-f17fa8409b0c",
   "metadata": {},
   "source": [
    "- data read"
   ]
  },
  {
   "cell_type": "code",
   "execution_count": 6,
   "id": "b68bef45-a3db-471d-acf1-277c58c9c1c4",
   "metadata": {},
   "outputs": [],
   "source": [
    "data = pd.read_csv('C:\\\\Users\\\\user\\\\Desktop\\\\python\\\\11.11\\\\연습\\\\세은님 파일\\\\loan.csv')"
   ]
  },
  {
   "cell_type": "code",
   "execution_count": 7,
   "id": "38e99002-e73d-48d7-b874-796adf27c06c",
   "metadata": {
    "tags": []
   },
   "outputs": [
    {
     "data": {
      "text/html": [
       "<div>\n",
       "<style scoped>\n",
       "    .dataframe tbody tr th:only-of-type {\n",
       "        vertical-align: middle;\n",
       "    }\n",
       "\n",
       "    .dataframe tbody tr th {\n",
       "        vertical-align: top;\n",
       "    }\n",
       "\n",
       "    .dataframe thead th {\n",
       "        text-align: right;\n",
       "    }\n",
       "</style>\n",
       "<table border=\"1\" class=\"dataframe\">\n",
       "  <thead>\n",
       "    <tr style=\"text-align: right;\">\n",
       "      <th></th>\n",
       "      <th>Loan_ID</th>\n",
       "      <th>Gender</th>\n",
       "      <th>Married</th>\n",
       "      <th>Dependents</th>\n",
       "      <th>Education</th>\n",
       "      <th>Self_Employed</th>\n",
       "      <th>ApplicantIncome</th>\n",
       "      <th>CoapplicantIncome</th>\n",
       "      <th>LoanAmount</th>\n",
       "      <th>Loan_Amount_Term</th>\n",
       "      <th>Credit_History</th>\n",
       "      <th>Property_Area</th>\n",
       "      <th>Loan_Status</th>\n",
       "    </tr>\n",
       "  </thead>\n",
       "  <tbody>\n",
       "    <tr>\n",
       "      <th>0</th>\n",
       "      <td>LP001002</td>\n",
       "      <td>Male</td>\n",
       "      <td>No</td>\n",
       "      <td>0</td>\n",
       "      <td>Graduate</td>\n",
       "      <td>No</td>\n",
       "      <td>5849</td>\n",
       "      <td>0.0</td>\n",
       "      <td>NaN</td>\n",
       "      <td>360.0</td>\n",
       "      <td>1.0</td>\n",
       "      <td>Urban</td>\n",
       "      <td>Y</td>\n",
       "    </tr>\n",
       "    <tr>\n",
       "      <th>1</th>\n",
       "      <td>LP001003</td>\n",
       "      <td>Male</td>\n",
       "      <td>Yes</td>\n",
       "      <td>1</td>\n",
       "      <td>Graduate</td>\n",
       "      <td>No</td>\n",
       "      <td>4583</td>\n",
       "      <td>1508.0</td>\n",
       "      <td>128.0</td>\n",
       "      <td>360.0</td>\n",
       "      <td>1.0</td>\n",
       "      <td>Rural</td>\n",
       "      <td>N</td>\n",
       "    </tr>\n",
       "    <tr>\n",
       "      <th>2</th>\n",
       "      <td>LP001005</td>\n",
       "      <td>Male</td>\n",
       "      <td>Yes</td>\n",
       "      <td>0</td>\n",
       "      <td>Graduate</td>\n",
       "      <td>Yes</td>\n",
       "      <td>3000</td>\n",
       "      <td>0.0</td>\n",
       "      <td>66.0</td>\n",
       "      <td>360.0</td>\n",
       "      <td>1.0</td>\n",
       "      <td>Urban</td>\n",
       "      <td>Y</td>\n",
       "    </tr>\n",
       "    <tr>\n",
       "      <th>3</th>\n",
       "      <td>LP001006</td>\n",
       "      <td>Male</td>\n",
       "      <td>Yes</td>\n",
       "      <td>0</td>\n",
       "      <td>Not Graduate</td>\n",
       "      <td>No</td>\n",
       "      <td>2583</td>\n",
       "      <td>2358.0</td>\n",
       "      <td>120.0</td>\n",
       "      <td>360.0</td>\n",
       "      <td>1.0</td>\n",
       "      <td>Urban</td>\n",
       "      <td>Y</td>\n",
       "    </tr>\n",
       "    <tr>\n",
       "      <th>4</th>\n",
       "      <td>LP001008</td>\n",
       "      <td>Male</td>\n",
       "      <td>No</td>\n",
       "      <td>0</td>\n",
       "      <td>Graduate</td>\n",
       "      <td>No</td>\n",
       "      <td>6000</td>\n",
       "      <td>0.0</td>\n",
       "      <td>141.0</td>\n",
       "      <td>360.0</td>\n",
       "      <td>1.0</td>\n",
       "      <td>Urban</td>\n",
       "      <td>Y</td>\n",
       "    </tr>\n",
       "    <tr>\n",
       "      <th>...</th>\n",
       "      <td>...</td>\n",
       "      <td>...</td>\n",
       "      <td>...</td>\n",
       "      <td>...</td>\n",
       "      <td>...</td>\n",
       "      <td>...</td>\n",
       "      <td>...</td>\n",
       "      <td>...</td>\n",
       "      <td>...</td>\n",
       "      <td>...</td>\n",
       "      <td>...</td>\n",
       "      <td>...</td>\n",
       "      <td>...</td>\n",
       "    </tr>\n",
       "    <tr>\n",
       "      <th>609</th>\n",
       "      <td>LP002978</td>\n",
       "      <td>Female</td>\n",
       "      <td>No</td>\n",
       "      <td>0</td>\n",
       "      <td>Graduate</td>\n",
       "      <td>No</td>\n",
       "      <td>2900</td>\n",
       "      <td>0.0</td>\n",
       "      <td>71.0</td>\n",
       "      <td>360.0</td>\n",
       "      <td>1.0</td>\n",
       "      <td>Rural</td>\n",
       "      <td>Y</td>\n",
       "    </tr>\n",
       "    <tr>\n",
       "      <th>610</th>\n",
       "      <td>LP002979</td>\n",
       "      <td>Male</td>\n",
       "      <td>Yes</td>\n",
       "      <td>3+</td>\n",
       "      <td>Graduate</td>\n",
       "      <td>No</td>\n",
       "      <td>4106</td>\n",
       "      <td>0.0</td>\n",
       "      <td>40.0</td>\n",
       "      <td>180.0</td>\n",
       "      <td>1.0</td>\n",
       "      <td>Rural</td>\n",
       "      <td>Y</td>\n",
       "    </tr>\n",
       "    <tr>\n",
       "      <th>611</th>\n",
       "      <td>LP002983</td>\n",
       "      <td>Male</td>\n",
       "      <td>Yes</td>\n",
       "      <td>1</td>\n",
       "      <td>Graduate</td>\n",
       "      <td>No</td>\n",
       "      <td>8072</td>\n",
       "      <td>240.0</td>\n",
       "      <td>253.0</td>\n",
       "      <td>360.0</td>\n",
       "      <td>1.0</td>\n",
       "      <td>Urban</td>\n",
       "      <td>Y</td>\n",
       "    </tr>\n",
       "    <tr>\n",
       "      <th>612</th>\n",
       "      <td>LP002984</td>\n",
       "      <td>Male</td>\n",
       "      <td>Yes</td>\n",
       "      <td>2</td>\n",
       "      <td>Graduate</td>\n",
       "      <td>No</td>\n",
       "      <td>7583</td>\n",
       "      <td>0.0</td>\n",
       "      <td>187.0</td>\n",
       "      <td>360.0</td>\n",
       "      <td>1.0</td>\n",
       "      <td>Urban</td>\n",
       "      <td>Y</td>\n",
       "    </tr>\n",
       "    <tr>\n",
       "      <th>613</th>\n",
       "      <td>LP002990</td>\n",
       "      <td>Female</td>\n",
       "      <td>No</td>\n",
       "      <td>0</td>\n",
       "      <td>Graduate</td>\n",
       "      <td>Yes</td>\n",
       "      <td>4583</td>\n",
       "      <td>0.0</td>\n",
       "      <td>133.0</td>\n",
       "      <td>360.0</td>\n",
       "      <td>0.0</td>\n",
       "      <td>Semiurban</td>\n",
       "      <td>N</td>\n",
       "    </tr>\n",
       "  </tbody>\n",
       "</table>\n",
       "<p>614 rows × 13 columns</p>\n",
       "</div>"
      ],
      "text/plain": [
       "      Loan_ID  Gender Married Dependents     Education Self_Employed  \\\n",
       "0    LP001002    Male      No          0      Graduate            No   \n",
       "1    LP001003    Male     Yes          1      Graduate            No   \n",
       "2    LP001005    Male     Yes          0      Graduate           Yes   \n",
       "3    LP001006    Male     Yes          0  Not Graduate            No   \n",
       "4    LP001008    Male      No          0      Graduate            No   \n",
       "..        ...     ...     ...        ...           ...           ...   \n",
       "609  LP002978  Female      No          0      Graduate            No   \n",
       "610  LP002979    Male     Yes         3+      Graduate            No   \n",
       "611  LP002983    Male     Yes          1      Graduate            No   \n",
       "612  LP002984    Male     Yes          2      Graduate            No   \n",
       "613  LP002990  Female      No          0      Graduate           Yes   \n",
       "\n",
       "     ApplicantIncome  CoapplicantIncome  LoanAmount  Loan_Amount_Term  \\\n",
       "0               5849                0.0         NaN             360.0   \n",
       "1               4583             1508.0       128.0             360.0   \n",
       "2               3000                0.0        66.0             360.0   \n",
       "3               2583             2358.0       120.0             360.0   \n",
       "4               6000                0.0       141.0             360.0   \n",
       "..               ...                ...         ...               ...   \n",
       "609             2900                0.0        71.0             360.0   \n",
       "610             4106                0.0        40.0             180.0   \n",
       "611             8072              240.0       253.0             360.0   \n",
       "612             7583                0.0       187.0             360.0   \n",
       "613             4583                0.0       133.0             360.0   \n",
       "\n",
       "     Credit_History Property_Area Loan_Status  \n",
       "0               1.0         Urban           Y  \n",
       "1               1.0         Rural           N  \n",
       "2               1.0         Urban           Y  \n",
       "3               1.0         Urban           Y  \n",
       "4               1.0         Urban           Y  \n",
       "..              ...           ...         ...  \n",
       "609             1.0         Rural           Y  \n",
       "610             1.0         Rural           Y  \n",
       "611             1.0         Urban           Y  \n",
       "612             1.0         Urban           Y  \n",
       "613             0.0     Semiurban           N  \n",
       "\n",
       "[614 rows x 13 columns]"
      ]
     },
     "execution_count": 7,
     "metadata": {},
     "output_type": "execute_result"
    }
   ],
   "source": [
    "data"
   ]
  },
  {
   "cell_type": "code",
   "execution_count": 8,
   "id": "51556440-63b3-4acc-b43a-7652d661898e",
   "metadata": {
    "tags": []
   },
   "outputs": [
    {
     "name": "stdout",
     "output_type": "stream",
     "text": [
      "<class 'pandas.core.frame.DataFrame'>\n",
      "RangeIndex: 614 entries, 0 to 613\n",
      "Data columns (total 13 columns):\n",
      " #   Column             Non-Null Count  Dtype  \n",
      "---  ------             --------------  -----  \n",
      " 0   Loan_ID            614 non-null    object \n",
      " 1   Gender             601 non-null    object \n",
      " 2   Married            611 non-null    object \n",
      " 3   Dependents         599 non-null    object \n",
      " 4   Education          614 non-null    object \n",
      " 5   Self_Employed      582 non-null    object \n",
      " 6   ApplicantIncome    614 non-null    int64  \n",
      " 7   CoapplicantIncome  614 non-null    float64\n",
      " 8   LoanAmount         592 non-null    float64\n",
      " 9   Loan_Amount_Term   600 non-null    float64\n",
      " 10  Credit_History     564 non-null    float64\n",
      " 11  Property_Area      614 non-null    object \n",
      " 12  Loan_Status        614 non-null    object \n",
      "dtypes: float64(4), int64(1), object(8)\n",
      "memory usage: 62.5+ KB\n"
     ]
    }
   ],
   "source": [
    "data.info()"
   ]
  },
  {
   "cell_type": "code",
   "execution_count": 9,
   "id": "1109d105-eac0-4d40-84a8-819c98d0f3c8",
   "metadata": {},
   "outputs": [],
   "source": [
    "# 인덱스 순서 뒤에 벨류 오브젝트의 칼럼들을 리스트로 부를려고 \n",
    "obj_col = []\n",
    "for i , j in zip(data.dtypes.index, data.dtypes.values) :\n",
    "    if j == 'object' :\n",
    "        obj_col.append(i)"
   ]
  },
  {
   "cell_type": "code",
   "execution_count": 10,
   "id": "1553bb53-633e-4633-b02f-5307d7c3b7f0",
   "metadata": {},
   "outputs": [
    {
     "data": {
      "text/plain": [
       "['Loan_ID',\n",
       " 'Gender',\n",
       " 'Married',\n",
       " 'Dependents',\n",
       " 'Education',\n",
       " 'Self_Employed',\n",
       " 'Property_Area',\n",
       " 'Loan_Status']"
      ]
     },
     "execution_count": 10,
     "metadata": {},
     "output_type": "execute_result"
    }
   ],
   "source": [
    "obj_col"
   ]
  },
  {
   "cell_type": "code",
   "execution_count": 11,
   "id": "d528cd03-b881-4867-8787-f0fe1dc87810",
   "metadata": {},
   "outputs": [
    {
     "name": "stdout",
     "output_type": "stream",
     "text": [
      "['Male' 'Female' nan]\n",
      "['No' 'Yes' nan]\n",
      "['0' '1' '2' '3+' nan]\n",
      "['Graduate' 'Not Graduate']\n",
      "['No' 'Yes' nan]\n",
      "['Urban' 'Rural' 'Semiurban']\n",
      "['Y' 'N']\n"
     ]
    }
   ],
   "source": [
    "# 오브젝트 컬럼중에 첫번재 제외하고 유니크 출력 \n",
    "for col in obj_col[1:] :\n",
    "    print(data[col].unique())"
   ]
  },
  {
   "cell_type": "markdown",
   "id": "83a3cc8c-d695-46f8-b9aa-53005af76b09",
   "metadata": {},
   "source": [
    "- 위에 오브젝트 int 로 바꾸기 "
   ]
  },
  {
   "cell_type": "code",
   "execution_count": 12,
   "id": "b68227ee-9db2-4903-9cc6-92bc13bca1e0",
   "metadata": {},
   "outputs": [],
   "source": [
    "label1 = LabelEncoder()"
   ]
  },
  {
   "cell_type": "code",
   "execution_count": 13,
   "id": "751a2d93-4998-4670-80d0-8d231bd513eb",
   "metadata": {},
   "outputs": [],
   "source": [
    "for col in obj_col[1:] :\n",
    "    label = LabelEncoder()\n",
    "    data[col] =  label.fit_transform(data[col])"
   ]
  },
  {
   "cell_type": "code",
   "execution_count": 14,
   "id": "37a5dd29-b303-4bfa-a15c-6d4008802992",
   "metadata": {},
   "outputs": [
    {
     "data": {
      "text/plain": [
       "Loan_ID               0\n",
       "Gender                0\n",
       "Married               0\n",
       "Dependents            0\n",
       "Education             0\n",
       "Self_Employed         0\n",
       "ApplicantIncome       0\n",
       "CoapplicantIncome     0\n",
       "LoanAmount           22\n",
       "Loan_Amount_Term     14\n",
       "Credit_History       50\n",
       "Property_Area         0\n",
       "Loan_Status           0\n",
       "dtype: int64"
      ]
     },
     "execution_count": 14,
     "metadata": {},
     "output_type": "execute_result"
    }
   ],
   "source": [
    "data.isnull().sum()"
   ]
  },
  {
   "cell_type": "code",
   "execution_count": 15,
   "id": "cfb25b8d-49b2-469b-a66c-6402e54867bc",
   "metadata": {},
   "outputs": [],
   "source": [
    "data['LoanAmount'].fillna(data['LoanAmount'].median(),inplace= True)\n",
    "data['Loan_Amount_Term'].fillna(data['Loan_Amount_Term'].median(),inplace= True)\n",
    "data['Credit_History'].fillna(data['Credit_History'].median(),inplace= True)"
   ]
  },
  {
   "cell_type": "code",
   "execution_count": null,
   "id": "f77460e1-7402-4b77-b286-847f498fe4a5",
   "metadata": {},
   "outputs": [],
   "source": []
  },
  {
   "cell_type": "code",
   "execution_count": null,
   "id": "9e6e4afb-c094-454d-9b51-b63a763ac32c",
   "metadata": {},
   "outputs": [],
   "source": [
    "\n"
   ]
  },
  {
   "cell_type": "code",
   "execution_count": null,
   "id": "eeb8cb05-e0a8-496f-8eba-5c085e57d0de",
   "metadata": {},
   "outputs": [],
   "source": []
  },
  {
   "cell_type": "markdown",
   "id": "33eab47c-0f4a-4efc-a851-9ec7edf5a681",
   "metadata": {},
   "source": [
    "## 1"
   ]
  },
  {
   "cell_type": "code",
   "execution_count": 16,
   "id": "8c481d95-8a53-4936-b62d-1b332b7f3d76",
   "metadata": {},
   "outputs": [],
   "source": [
    "X = data.drop(['Loan_ID','Loan_Status'], axis = 1)\n",
    "Y = data['Loan_Status']"
   ]
  },
  {
   "cell_type": "code",
   "execution_count": 17,
   "id": "83b186d3-e93f-47ef-aba8-a65b5fa29e9a",
   "metadata": {},
   "outputs": [],
   "source": [
    "x_train, x_test, y_train, y_test = \\\n",
    "train_test_split(X,Y, test_size=0.2, stratify = Y, random_state=0)"
   ]
  },
  {
   "cell_type": "code",
   "execution_count": 18,
   "id": "fd559720-2685-4de7-95d1-faa2af998ac1",
   "metadata": {},
   "outputs": [
    {
     "data": {
      "text/plain": [
       "Gender               0\n",
       "Married              0\n",
       "Dependents           0\n",
       "Education            0\n",
       "Self_Employed        0\n",
       "ApplicantIncome      0\n",
       "CoapplicantIncome    0\n",
       "LoanAmount           0\n",
       "Loan_Amount_Term     0\n",
       "Credit_History       0\n",
       "Property_Area        0\n",
       "dtype: int64"
      ]
     },
     "execution_count": 18,
     "metadata": {},
     "output_type": "execute_result"
    }
   ],
   "source": [
    "X.isnull().sum()"
   ]
  },
  {
   "cell_type": "code",
   "execution_count": 19,
   "id": "8f962a29-27a4-461d-8ae6-c65480e48f83",
   "metadata": {},
   "outputs": [],
   "source": [
    "model = SVC()"
   ]
  },
  {
   "cell_type": "code",
   "execution_count": 20,
   "id": "fbd965c5-5e48-4ea2-a1ed-6e4d802f5c65",
   "metadata": {},
   "outputs": [
    {
     "data": {
      "text/plain": [
       "SVC()"
      ]
     },
     "execution_count": 20,
     "metadata": {},
     "output_type": "execute_result"
    }
   ],
   "source": [
    "model.fit(x_train, y_train)"
   ]
  },
  {
   "cell_type": "code",
   "execution_count": 21,
   "id": "995d8df7-0512-414c-95ec-65581a90559b",
   "metadata": {},
   "outputs": [
    {
     "data": {
      "text/plain": [
       "0.6904276985743381"
      ]
     },
     "execution_count": 21,
     "metadata": {},
     "output_type": "execute_result"
    }
   ],
   "source": [
    "model.score(x_train, y_train)"
   ]
  },
  {
   "cell_type": "code",
   "execution_count": 22,
   "id": "d012eaa7-ca50-4c88-90cf-fab29ba03eb4",
   "metadata": {},
   "outputs": [
    {
     "data": {
      "text/plain": [
       "0.6910569105691057"
      ]
     },
     "execution_count": 22,
     "metadata": {},
     "output_type": "execute_result"
    }
   ],
   "source": [
    "model.score(x_test, y_test)"
   ]
  },
  {
   "cell_type": "code",
   "execution_count": null,
   "id": "c35aa424-2df6-4bb3-b842-aa280882cd82",
   "metadata": {},
   "outputs": [],
   "source": []
  },
  {
   "cell_type": "code",
   "execution_count": 23,
   "id": "a6f8e49e-888b-41c1-b53c-95fca7e92e46",
   "metadata": {},
   "outputs": [],
   "source": [
    "from sklearn.preprocessing import MinMaxScaler"
   ]
  },
  {
   "cell_type": "code",
   "execution_count": 24,
   "id": "f1da3d1f-3036-4507-b484-c47b122e25b3",
   "metadata": {},
   "outputs": [],
   "source": [
    "scaler = MinMaxScaler()"
   ]
  },
  {
   "cell_type": "code",
   "execution_count": 25,
   "id": "30dcbda4-7875-44a1-a69b-915a9649285a",
   "metadata": {},
   "outputs": [
    {
     "ename": "SyntaxError",
     "evalue": "invalid syntax (1054391552.py, line 1)",
     "output_type": "error",
     "traceback": [
      "\u001b[1;36m  Input \u001b[1;32mIn [25]\u001b[1;36m\u001b[0m\n\u001b[1;33m    x_train = scaler.fit_.mjn transform(x_train)\u001b[0m\n\u001b[1;37m                              ^\u001b[0m\n\u001b[1;31mSyntaxError\u001b[0m\u001b[1;31m:\u001b[0m invalid syntax\n"
     ]
    }
   ],
   "source": [
    "x_train = scaler.fit_.mjn transform(x_train)"
   ]
  },
  {
   "cell_type": "code",
   "execution_count": 78,
   "id": "32885c3a-c981-4f32-9873-49ef37abf50b",
   "metadata": {},
   "outputs": [
    {
     "name": "stderr",
     "output_type": "stream",
     "text": [
      "C:\\Users\\user\\anaconda3\\lib\\site-packages\\sklearn\\base.py:450: UserWarning: X does not have valid feature names, but MinMaxScaler was fitted with feature names\n",
      "  warnings.warn(\n"
     ]
    }
   ],
   "source": [
    "x_test = scaler.transform(x_test)"
   ]
  },
  {
   "cell_type": "code",
   "execution_count": 79,
   "id": "09555749-6655-42f4-8b75-4e875b65c3fc",
   "metadata": {},
   "outputs": [],
   "source": [
    "model2 = SVC(kernel='rbf', C=10)"
   ]
  },
  {
   "cell_type": "code",
   "execution_count": 80,
   "id": "6d4abc2a-0c34-424c-80ab-2419a789ca5c",
   "metadata": {},
   "outputs": [
    {
     "data": {
      "text/plain": [
       "SVC(C=10)"
      ]
     },
     "execution_count": 80,
     "metadata": {},
     "output_type": "execute_result"
    }
   ],
   "source": [
    "model2.fit(x_train, y_train)"
   ]
  },
  {
   "cell_type": "code",
   "execution_count": 81,
   "id": "ad8d80f8-ed6d-46c8-923a-0fc37f466f4f",
   "metadata": {},
   "outputs": [
    {
     "data": {
      "text/plain": [
       "0.8167006109979633"
      ]
     },
     "execution_count": 81,
     "metadata": {},
     "output_type": "execute_result"
    }
   ],
   "source": [
    "model2.score(x_train, y_train)"
   ]
  },
  {
   "cell_type": "code",
   "execution_count": 82,
   "id": "f5e7222e-79cb-4736-92a7-3e1c155250fc",
   "metadata": {},
   "outputs": [
    {
     "data": {
      "text/plain": [
       "0.6585365853658537"
      ]
     },
     "execution_count": 82,
     "metadata": {},
     "output_type": "execute_result"
    }
   ],
   "source": [
    "model2.score(x_test, y_test)"
   ]
  },
  {
   "cell_type": "code",
   "execution_count": null,
   "id": "dfe96d47-f2f7-4ccb-8f62-5c2bd135a015",
   "metadata": {},
   "outputs": [],
   "source": []
  },
  {
   "cell_type": "markdown",
   "id": "d55493d4-84e2-4a60-9ddc-bbd73d25dab7",
   "metadata": {},
   "source": [
    "## 2"
   ]
  },
  {
   "cell_type": "markdown",
   "id": "281f6c40-be5e-49a4-b707-b4b8a6f6faef",
   "metadata": {},
   "source": [
    "## new 불러오기 "
   ]
  },
  {
   "cell_type": "code",
   "execution_count": 83,
   "id": "e14648f1-d682-4f81-87c1-b77c958f5f9a",
   "metadata": {},
   "outputs": [],
   "source": [
    "data = pd.read_csv('C:\\\\Users\\\\user\\\\Desktop\\\\python\\\\11.11\\\\연습\\\\세은님 파일\\\\loan.csv')"
   ]
  },
  {
   "cell_type": "code",
   "execution_count": null,
   "id": "9b5a5103-e1a5-4dd6-ab89-b725d3ac1e1e",
   "metadata": {},
   "outputs": [],
   "source": [
    "data.isnull().sum()"
   ]
  },
  {
   "cell_type": "markdown",
   "id": "f0c9fd93-5781-42c3-88f9-196d712d957c",
   "metadata": {},
   "source": [
    "< null columns >\n",
    "- Gender               13\n",
    "- Married               3\n",
    "- Dependents           15\n",
    "- Self_Employed        32\n",
    "- LoanAmount           22\n",
    "- Loan_Amount_Term     14\n",
    "- Credit_History       50"
   ]
  },
  {
   "cell_type": "code",
   "execution_count": 28,
   "id": "f2a6893b-63d7-403c-9d05-9095bc62cb43",
   "metadata": {},
   "outputs": [
    {
     "data": {
      "text/plain": [
       "0    1\n",
       "Name: Gender, dtype: int32"
      ]
     },
     "execution_count": 28,
     "metadata": {},
     "output_type": "execute_result"
    }
   ],
   "source": [
    "# mode() :최빈값\n",
    "data['Gender'].mode()"
   ]
  },
  {
   "cell_type": "code",
   "execution_count": 29,
   "id": "f82d8491-fc5f-467a-9ac7-b4c78c13a6dd",
   "metadata": {},
   "outputs": [
    {
     "data": {
      "text/plain": [
       "1    489\n",
       "0    112\n",
       "2     13\n",
       "Name: Gender, dtype: int64"
      ]
     },
     "execution_count": 29,
     "metadata": {},
     "output_type": "execute_result"
    }
   ],
   "source": [
    "data['Gender'].value_counts(dropna= False)"
   ]
  },
  {
   "cell_type": "code",
   "execution_count": 30,
   "id": "693fbcc6-a4bf-414f-955f-09c5f221b29a",
   "metadata": {},
   "outputs": [],
   "source": [
    "male = data['Gender'].value_counts(dropna= False)[0]\n",
    "female = data['Gender'].value_counts(dropna= False)[1]\n",
    "na = data['Gender'].value_counts(dropna= False)[2]"
   ]
  },
  {
   "cell_type": "code",
   "execution_count": 31,
   "id": "ffb2a786-4783-485a-9869-123536f92907",
   "metadata": {},
   "outputs": [
    {
     "name": "stdout",
     "output_type": "stream",
     "text": [
      "Male의 비율   : 18.24\n",
      "Female의 비율 : 79.64\n",
      "Null의 비율   : 2.12\n"
     ]
    }
   ],
   "source": [
    "print('Male의 비율   : %.2f' %(male / len(data)* 100))\n",
    "print('Female의 비율 : %.2f' %(female / len(data)* 100))\n",
    "print('Null의 비율   : %.2f' %(na / len(data)* 100))"
   ]
  },
  {
   "cell_type": "code",
   "execution_count": 32,
   "id": "c063dd7d-bec4-46f2-9a76-e6ecba11f584",
   "metadata": {},
   "outputs": [],
   "source": [
    "data['Gender'].fillna(data['Gender'].mode()[0], inplace = True)"
   ]
  },
  {
   "cell_type": "code",
   "execution_count": 33,
   "id": "2bf8fd67-747e-417f-826d-d16a45464383",
   "metadata": {},
   "outputs": [
    {
     "data": {
      "text/plain": [
       "0"
      ]
     },
     "execution_count": 33,
     "metadata": {},
     "output_type": "execute_result"
    }
   ],
   "source": [
    "data['Gender'].isnull().sum()"
   ]
  },
  {
   "cell_type": "code",
   "execution_count": 34,
   "id": "5c86afb9-1812-4fad-a506-a21154d6e610",
   "metadata": {},
   "outputs": [
    {
     "data": {
      "text/plain": [
       "1    398\n",
       "0    213\n",
       "2      3\n",
       "Name: Married, dtype: int64"
      ]
     },
     "execution_count": 34,
     "metadata": {},
     "output_type": "execute_result"
    }
   ],
   "source": [
    "data['Married'].value_counts(dropna= False)"
   ]
  },
  {
   "cell_type": "code",
   "execution_count": 35,
   "id": "c162e084-59ee-4cb3-b009-30fb32d3f5fa",
   "metadata": {},
   "outputs": [],
   "source": [
    "data['Married'].fillna(data['Married'].mode()[0], inplace= True)"
   ]
  },
  {
   "cell_type": "code",
   "execution_count": 36,
   "id": "bc4f39c6-8676-4260-803d-82f29e9cf3cc",
   "metadata": {},
   "outputs": [
    {
     "data": {
      "text/plain": [
       "0"
      ]
     },
     "execution_count": 36,
     "metadata": {},
     "output_type": "execute_result"
    }
   ],
   "source": [
    "data['Married'].isnull().sum()"
   ]
  },
  {
   "cell_type": "markdown",
   "id": "e5e7ef39-bdf6-47e2-8d80-bf03b35c507a",
   "metadata": {},
   "source": [
    "### 오전 쉅"
   ]
  },
  {
   "cell_type": "code",
   "execution_count": 37,
   "id": "664b3865-ed5a-450a-a5f7-724e2aa4d858",
   "metadata": {},
   "outputs": [],
   "source": [
    "null_col =[ 'Gender','Married','Dependents','Self_Employed']"
   ]
  },
  {
   "cell_type": "code",
   "execution_count": 38,
   "id": "f70d6bdb-50a3-44f8-a562-fb2d2f7a7b02",
   "metadata": {},
   "outputs": [
    {
     "name": "stdout",
     "output_type": "stream",
     "text": [
      "1    489\n",
      "0    112\n",
      "2     13\n",
      "Name: Gender, dtype: int64\n",
      "1    398\n",
      "0    213\n",
      "2      3\n",
      "Name: Married, dtype: int64\n",
      "0    345\n",
      "1    102\n",
      "2    101\n",
      "3     51\n",
      "4     15\n",
      "Name: Dependents, dtype: int64\n",
      "0    500\n",
      "1     82\n",
      "2     32\n",
      "Name: Self_Employed, dtype: int64\n"
     ]
    }
   ],
   "source": [
    "for col in null_col :\n",
    "    print(data[col].value_counts(dropna = False))"
   ]
  },
  {
   "cell_type": "markdown",
   "id": "a0804cba-777b-4f64-8e1f-55d8880fc805",
   "metadata": {},
   "source": [
    "- 최빈값으로 na값 채워넣기 "
   ]
  },
  {
   "cell_type": "code",
   "execution_count": 39,
   "id": "710c3003-9f2b-4aec-b6c5-b192d268f893",
   "metadata": {},
   "outputs": [],
   "source": [
    "for col in null_col :\n",
    "    data[col].fillna(data[col].mode()[0], inplace = True)"
   ]
  },
  {
   "cell_type": "code",
   "execution_count": 40,
   "id": "657980f5-bd30-45c7-a4d4-97fff4c6f86b",
   "metadata": {},
   "outputs": [
    {
     "data": {
      "text/plain": [
       "Loan_ID              0\n",
       "Gender               0\n",
       "Married              0\n",
       "Dependents           0\n",
       "Education            0\n",
       "Self_Employed        0\n",
       "ApplicantIncome      0\n",
       "CoapplicantIncome    0\n",
       "LoanAmount           0\n",
       "Loan_Amount_Term     0\n",
       "Credit_History       0\n",
       "Property_Area        0\n",
       "Loan_Status          0\n",
       "dtype: int64"
      ]
     },
     "execution_count": 40,
     "metadata": {},
     "output_type": "execute_result"
    }
   ],
   "source": [
    "data.isnull().sum()"
   ]
  },
  {
   "cell_type": "markdown",
   "id": "192b488e-3336-4492-9a7a-48d1a8ea3527",
   "metadata": {},
   "source": [
    "- 수치형 데이터확인 "
   ]
  },
  {
   "cell_type": "code",
   "execution_count": 41,
   "id": "e85da2c8-edc9-4324-9d60-1c4c7c1341a8",
   "metadata": {},
   "outputs": [
    {
     "data": {
      "text/plain": [
       "128.0"
      ]
     },
     "execution_count": 41,
     "metadata": {},
     "output_type": "execute_result"
    }
   ],
   "source": [
    "data['LoanAmount'].median()"
   ]
  },
  {
   "cell_type": "code",
   "execution_count": 42,
   "id": "990806fa-1edb-4fae-b361-6872b999e7a9",
   "metadata": {},
   "outputs": [
    {
     "data": {
      "text/plain": [
       "count    614.000000\n",
       "mean     145.752443\n",
       "std       84.107233\n",
       "min        9.000000\n",
       "25%      100.250000\n",
       "50%      128.000000\n",
       "75%      164.750000\n",
       "max      700.000000\n",
       "Name: LoanAmount, dtype: float64"
      ]
     },
     "execution_count": 42,
     "metadata": {},
     "output_type": "execute_result"
    }
   ],
   "source": [
    "data['LoanAmount'].describe()"
   ]
  },
  {
   "cell_type": "code",
   "execution_count": null,
   "id": "1a6b5435-1185-4a46-8792-8ef1fc657d75",
   "metadata": {},
   "outputs": [],
   "source": []
  },
  {
   "cell_type": "code",
   "execution_count": 43,
   "id": "36091a39-caf3-4e91-872d-9fece03daaef",
   "metadata": {},
   "outputs": [
    {
     "data": {
      "text/plain": [
       "Self_Employed\n",
       "0    127.5\n",
       "1    142.5\n",
       "2    125.5\n",
       "Name: LoanAmount, dtype: float64"
      ]
     },
     "execution_count": 43,
     "metadata": {},
     "output_type": "execute_result"
    }
   ],
   "source": [
    "data.groupby('Self_Employed')['LoanAmount'].median()"
   ]
  },
  {
   "cell_type": "code",
   "execution_count": 44,
   "id": "fe901a4c-78e3-470d-835a-646c8d2f4948",
   "metadata": {},
   "outputs": [
    {
     "data": {
      "text/plain": [
       "Series([], Name: Self_Employed, dtype: int64)"
      ]
     },
     "execution_count": 44,
     "metadata": {},
     "output_type": "execute_result"
    }
   ],
   "source": [
    "data[data['LoanAmount'].isnull()]['Self_Employed'].value_counts()"
   ]
  },
  {
   "cell_type": "code",
   "execution_count": 45,
   "id": "0b51d2f7-913c-43d7-8399-cb7de6805fad",
   "metadata": {},
   "outputs": [],
   "source": [
    "data['LoanAmount'].fillna(data['LoanAmount'].median(),inplace= True)"
   ]
  },
  {
   "cell_type": "code",
   "execution_count": 46,
   "id": "e19612c6-6a75-495e-a5e4-54e3984c241f",
   "metadata": {},
   "outputs": [
    {
     "data": {
      "text/plain": [
       "0"
      ]
     },
     "execution_count": 46,
     "metadata": {},
     "output_type": "execute_result"
    }
   ],
   "source": [
    "data['LoanAmount'].isnull().sum()"
   ]
  },
  {
   "cell_type": "code",
   "execution_count": 47,
   "id": "8b325a79-8134-4292-ad68-b293ce5660ef",
   "metadata": {},
   "outputs": [
    {
     "data": {
      "text/plain": [
       "360.0    526\n",
       "180.0     44\n",
       "480.0     15\n",
       "300.0     13\n",
       "240.0      4\n",
       "84.0       4\n",
       "120.0      3\n",
       "60.0       2\n",
       "36.0       2\n",
       "12.0       1\n",
       "Name: Loan_Amount_Term, dtype: int64"
      ]
     },
     "execution_count": 47,
     "metadata": {},
     "output_type": "execute_result"
    }
   ],
   "source": [
    "data['Loan_Amount_Term'].value_counts()"
   ]
  },
  {
   "cell_type": "code",
   "execution_count": 48,
   "id": "4eb6d15d-7071-4ac4-84a3-944c2bf30b19",
   "metadata": {},
   "outputs": [
    {
     "data": {
      "text/plain": [
       "0"
      ]
     },
     "execution_count": 48,
     "metadata": {},
     "output_type": "execute_result"
    }
   ],
   "source": [
    "data['Loan_Amount_Term'].isnull().sum()"
   ]
  },
  {
   "cell_type": "code",
   "execution_count": 49,
   "id": "0d8138e5-7700-4ba2-9d42-9d7772489633",
   "metadata": {},
   "outputs": [],
   "source": [
    "data['Loan_Amount_Term'].fillna(data['Loan_Amount_Term'].median(),inplace= True)"
   ]
  },
  {
   "cell_type": "code",
   "execution_count": 50,
   "id": "eaf386c6-b28b-4a49-9180-79b580e2cd03",
   "metadata": {},
   "outputs": [
    {
     "data": {
      "text/plain": [
       "0"
      ]
     },
     "execution_count": 50,
     "metadata": {},
     "output_type": "execute_result"
    }
   ],
   "source": [
    "data['Loan_Amount_Term'].isnull().sum()"
   ]
  },
  {
   "cell_type": "code",
   "execution_count": 51,
   "id": "92c903f5-53cf-40dd-b0fb-a33e053e0eb9",
   "metadata": {},
   "outputs": [
    {
     "data": {
      "text/plain": [
       "Credit_History\n",
       "0.0    127.0\n",
       "1.0    128.0\n",
       "Name: LoanAmount, dtype: float64"
      ]
     },
     "execution_count": 51,
     "metadata": {},
     "output_type": "execute_result"
    }
   ],
   "source": [
    "data.groupby('Credit_History')['LoanAmount'].median()"
   ]
  },
  {
   "cell_type": "code",
   "execution_count": 52,
   "id": "1348ec95-258e-43fe-a902-6caff327160f",
   "metadata": {},
   "outputs": [],
   "source": [
    "data['Credit_History'].fillna(data['Credit_History'].median(),inplace= True)"
   ]
  },
  {
   "cell_type": "code",
   "execution_count": 53,
   "id": "62abe00d-38b3-4270-bcfd-63f924d2659e",
   "metadata": {},
   "outputs": [
    {
     "data": {
      "text/plain": [
       "0"
      ]
     },
     "execution_count": 53,
     "metadata": {},
     "output_type": "execute_result"
    }
   ],
   "source": [
    "data['Credit_History'].isnull().sum()"
   ]
  },
  {
   "cell_type": "code",
   "execution_count": 54,
   "id": "eda91870-c0aa-4502-b632-377e8613cdae",
   "metadata": {},
   "outputs": [
    {
     "data": {
      "text/plain": [
       "Loan_ID              0\n",
       "Gender               0\n",
       "Married              0\n",
       "Dependents           0\n",
       "Education            0\n",
       "Self_Employed        0\n",
       "ApplicantIncome      0\n",
       "CoapplicantIncome    0\n",
       "LoanAmount           0\n",
       "Loan_Amount_Term     0\n",
       "Credit_History       0\n",
       "Property_Area        0\n",
       "Loan_Status          0\n",
       "dtype: int64"
      ]
     },
     "execution_count": 54,
     "metadata": {},
     "output_type": "execute_result"
    }
   ],
   "source": [
    "data.isnull().sum()"
   ]
  },
  {
   "cell_type": "code",
   "execution_count": 55,
   "id": "7d5c433f-e3fe-4fca-b57a-3a163d127fe8",
   "metadata": {},
   "outputs": [],
   "source": [
    "for col in obj_col[1:] :\n",
    "    label = LabelEncoder()\n",
    "    data[col] = label.fit_transform(data[col])"
   ]
  },
  {
   "cell_type": "code",
   "execution_count": 56,
   "id": "91a838aa-09f3-48a8-a7f8-3bb0e9aded7a",
   "metadata": {},
   "outputs": [],
   "source": [
    "X = data.drop(['Loan_ID','Loan_Status','Gender'], axis =1)"
   ]
  },
  {
   "cell_type": "code",
   "execution_count": 57,
   "id": "b3fd616e-b750-4183-9939-062292c3e6d9",
   "metadata": {},
   "outputs": [],
   "source": [
    "Y = data['Loan_Status']"
   ]
  },
  {
   "cell_type": "code",
   "execution_count": 58,
   "id": "fa3381f3-6c58-488e-94ee-29c520943f3a",
   "metadata": {},
   "outputs": [],
   "source": [
    "x_train, x_test, y_train, y_test = \\\n",
    "train_test_split(X,Y, test_size=0.2, stratify = Y, random_state=0)"
   ]
  },
  {
   "cell_type": "code",
   "execution_count": 59,
   "id": "a0fd1c90-7730-46f9-ac85-337a3319aee4",
   "metadata": {},
   "outputs": [],
   "source": [
    "model = SVC()"
   ]
  },
  {
   "cell_type": "code",
   "execution_count": 60,
   "id": "3f99403a-8325-4bde-8f1f-fffd19e4cc6c",
   "metadata": {
    "tags": []
   },
   "outputs": [
    {
     "data": {
      "text/plain": [
       "SVC()"
      ]
     },
     "execution_count": 60,
     "metadata": {},
     "output_type": "execute_result"
    }
   ],
   "source": [
    "model.fit(x_train, y_train)"
   ]
  },
  {
   "cell_type": "code",
   "execution_count": 61,
   "id": "206679a2-a003-4a61-9dba-bddbdc2a166e",
   "metadata": {},
   "outputs": [
    {
     "data": {
      "text/plain": [
       "0.6904276985743381"
      ]
     },
     "execution_count": 61,
     "metadata": {},
     "output_type": "execute_result"
    }
   ],
   "source": [
    "model.score(x_train, y_train)"
   ]
  },
  {
   "cell_type": "code",
   "execution_count": 62,
   "id": "527ab617-d0d5-4c5a-b4a0-ecc09b74ab94",
   "metadata": {},
   "outputs": [
    {
     "data": {
      "text/plain": [
       "0.6910569105691057"
      ]
     },
     "execution_count": 62,
     "metadata": {},
     "output_type": "execute_result"
    }
   ],
   "source": [
    "model.score(x_test, y_test)"
   ]
  },
  {
   "cell_type": "markdown",
   "id": "5969f0ae-8d0b-4302-9666-aa361c576e0a",
   "metadata": {},
   "source": [
    "--"
   ]
  },
  {
   "cell_type": "markdown",
   "id": "d03a1fcb-b9a3-4a30-b54e-b6770575a1d6",
   "metadata": {},
   "source": [
    "--"
   ]
  },
  {
   "cell_type": "code",
   "execution_count": 63,
   "id": "5815fb13-23a9-4226-8d2a-39282c0de1af",
   "metadata": {},
   "outputs": [],
   "source": [
    "from sklearn.preprocessing import MinMaxScaler"
   ]
  },
  {
   "cell_type": "code",
   "execution_count": 64,
   "id": "c3a0ce0f-857e-404d-b268-fe01bec3811f",
   "metadata": {},
   "outputs": [],
   "source": [
    "scaler = MinMaxScaler()"
   ]
  },
  {
   "cell_type": "code",
   "execution_count": 65,
   "id": "7f2492b5-a789-4df2-b3f2-a9e87f9b9f92",
   "metadata": {},
   "outputs": [],
   "source": [
    "x_train = scaler.fit_transform(x_train)"
   ]
  },
  {
   "cell_type": "code",
   "execution_count": 66,
   "id": "4f33dcee-38cf-4e82-bee3-6668199c48dc",
   "metadata": {},
   "outputs": [],
   "source": [
    "x_test = scaler.transform(x_test)"
   ]
  },
  {
   "cell_type": "code",
   "execution_count": 67,
   "id": "1b58f538-b3f0-4c51-9b92-167a7ee1fa54",
   "metadata": {},
   "outputs": [],
   "source": [
    "model2 = SVC(kernel='rbf', C=10)"
   ]
  },
  {
   "cell_type": "code",
   "execution_count": 68,
   "id": "869a7ca1-58ce-4e47-bc46-3a7ee94f0196",
   "metadata": {},
   "outputs": [
    {
     "data": {
      "text/plain": [
       "SVC(C=10)"
      ]
     },
     "execution_count": 68,
     "metadata": {},
     "output_type": "execute_result"
    }
   ],
   "source": [
    "model2.fit(x_train, y_train)"
   ]
  },
  {
   "cell_type": "code",
   "execution_count": 69,
   "id": "d313fa4c-ab8b-4367-9f7d-4bf42e62bb35",
   "metadata": {},
   "outputs": [
    {
     "data": {
      "text/plain": [
       "0.8167006109979633"
      ]
     },
     "execution_count": 69,
     "metadata": {},
     "output_type": "execute_result"
    }
   ],
   "source": [
    "model2.score(x_train, y_train)"
   ]
  },
  {
   "cell_type": "code",
   "execution_count": 70,
   "id": "2d29d881-c344-47a3-8deb-55c52bea5329",
   "metadata": {},
   "outputs": [
    {
     "data": {
      "text/plain": [
       "0.8048780487804879"
      ]
     },
     "execution_count": 70,
     "metadata": {},
     "output_type": "execute_result"
    }
   ],
   "source": [
    "model2.score(x_test, y_test)"
   ]
  },
  {
   "cell_type": "markdown",
   "id": "b20b9649-6190-42d3-a2d5-02ad43873e0c",
   "metadata": {},
   "source": [
    "- 전처리중 잘된거 결과 모델 저장"
   ]
  },
  {
   "cell_type": "code",
   "execution_count": 71,
   "id": "4a471652-c743-4db6-a569-0881165f1b2e",
   "metadata": {},
   "outputs": [],
   "source": [
    "import pickle "
   ]
  },
  {
   "cell_type": "code",
   "execution_count": 72,
   "id": "b1f87676-795f-4533-9488-df9cbc054404",
   "metadata": {},
   "outputs": [
    {
     "data": {
      "text/plain": [
       "SVC(C=10)"
      ]
     },
     "execution_count": 72,
     "metadata": {},
     "output_type": "execute_result"
    }
   ],
   "source": [
    "model2"
   ]
  },
  {
   "cell_type": "code",
   "execution_count": 84,
   "id": "d3eac132-b891-457b-8832-2e54652e0458",
   "metadata": {},
   "outputs": [],
   "source": [
    "with open ('C:\\\\Users\\\\user\\\\Desktop\\\\python\\\\11.11\\\\연습\\\\세은님 파일\\\\SVC.pkl','wb') as f :\n",
    "    pickle.dump(SVC, f)"
   ]
  },
  {
   "cell_type": "code",
   "execution_count": 85,
   "id": "4e106afc-12d0-4dc6-a721-e1a4be1fbfec",
   "metadata": {},
   "outputs": [],
   "source": [
    "with open('C:\\\\Users\\\\user\\\\Desktop\\\\python\\\\11.11\\\\연습\\\\세은님 파일\\\\model2.pkl','wb') as f :\n",
    "    pickle.dump(model2, f)"
   ]
  },
  {
   "cell_type": "code",
   "execution_count": null,
   "id": "5f2379c6-2495-4764-8197-7ce81974d9b2",
   "metadata": {},
   "outputs": [],
   "source": []
  },
  {
   "cell_type": "code",
   "execution_count": 75,
   "id": "2bf3c531-d94b-46e3-a50c-381862a2a794",
   "metadata": {},
   "outputs": [
    {
     "data": {
      "text/plain": [
       "Index(['Loan_ID', 'Gender', 'Married', 'Dependents', 'Education',\n",
       "       'Self_Employed', 'ApplicantIncome', 'CoapplicantIncome', 'LoanAmount',\n",
       "       'Loan_Amount_Term', 'Credit_History', 'Property_Area', 'Loan_Status'],\n",
       "      dtype='object')"
      ]
     },
     "execution_count": 75,
     "metadata": {},
     "output_type": "execute_result"
    }
   ],
   "source": [
    "data.columns"
   ]
  },
  {
   "cell_type": "markdown",
   "id": "424afc99-14c9-4409-8e34-849a959340eb",
   "metadata": {},
   "source": [
    "--------"
   ]
  },
  {
   "cell_type": "markdown",
   "id": "2a0a06dd-51a1-4305-b6c7-8f794ffab696",
   "metadata": {},
   "source": [
    "- 코드 불러오기 (압축 정리)"
   ]
  },
  {
   "cell_type": "code",
   "execution_count": 76,
   "id": "e06a3946-888a-43c5-8428-8b9b1a2d0921",
   "metadata": {},
   "outputs": [],
   "source": [
    "import pandas as pd\n",
    "import numpy as np\n",
    "from sklearn.linear_model import LogisticRegression\n",
    "from sklearn.model_selection import train_test_split\n",
    "from sklearn.preprocessing import StandardScaler\n",
    "from sklearn.preprocessing import LabelEncoder\n",
    "from sklearn.svm import SVC\n",
    "from IPython.display import Image\n",
    "#!pip install IPython"
   ]
  },
  {
   "cell_type": "code",
   "execution_count": 88,
   "id": "8a061eaa-9120-4c1d-9e2b-aa65e353302c",
   "metadata": {},
   "outputs": [],
   "source": [
    "data = pd.read_csv('C:\\\\Users\\\\user\\\\Desktop\\\\python\\\\11.11\\\\연습\\\\세은님 파일\\\\loan.csv')"
   ]
  },
  {
   "cell_type": "code",
   "execution_count": 89,
   "id": "bf9bdb3a-9b0a-4e7f-80bc-f7c67b65ee2e",
   "metadata": {},
   "outputs": [],
   "source": [
    "import pickle"
   ]
  },
  {
   "cell_type": "code",
   "execution_count": 90,
   "id": "37d76164-50b9-42ea-828b-e59c595b5c75",
   "metadata": {},
   "outputs": [],
   "source": [
    "# 전처리 \n",
    "null_dict= {}\n",
    "null_col = ['Gender', 'Married', 'Dependents','Self_Employed']\n",
    "for col in null_col :\n",
    "    null_dict[col] = data[col].mode()[0]\n",
    "    \n",
    "null_dict['LoanAmount'] = data['LoanAmount'].median()\n",
    "null_dict['Loan_Amount_Term'] = data['Loan_Amount_Term'].mode()[0]\n",
    "null_dict['Credit_History'] = data['Credit_History'].mode()[0]"
   ]
  },
  {
   "cell_type": "code",
   "execution_count": 91,
   "id": "c268e02b-cd41-4137-bc87-bef15eb0231b",
   "metadata": {},
   "outputs": [
    {
     "data": {
      "text/plain": [
       "{'Gender': 'Male',\n",
       " 'Married': 'Yes',\n",
       " 'Dependents': '0',\n",
       " 'Self_Employed': 'No',\n",
       " 'LoanAmount': 128.0,\n",
       " 'Loan_Amount_Term': 360.0,\n",
       " 'Credit_History': 1.0}"
      ]
     },
     "execution_count": 91,
     "metadata": {},
     "output_type": "execute_result"
    }
   ],
   "source": [
    "null_dict"
   ]
  },
  {
   "cell_type": "code",
   "execution_count": 92,
   "id": "b1fb4240-7cfd-416d-b37b-eadf853d5505",
   "metadata": {},
   "outputs": [],
   "source": [
    "null_col = ['Gender', 'Married', 'Dependents','Self_Employed']\n",
    "for col in null_col :\n",
    "    data[col].fillna(data[col].mode()[0], inplace = True)\n",
    "    \n",
    "data['LoanAmount'].fillna(data['LoanAmount'].median(),inplace= True)\n",
    "data['Loan_Amount_Term'].fillna(data['Loan_Amount_Term'].median(),inplace= True)\n",
    "data['Credit_History'].fillna(data['Credit_History'].median(),inplace= True)"
   ]
  },
  {
   "cell_type": "code",
   "execution_count": 93,
   "id": "f4c2e6d0-4411-433f-b84e-b503283d0ebf",
   "metadata": {},
   "outputs": [],
   "source": [
    "with open ('C:\\\\Users\\\\user\\\\Desktop\\\\python\\\\11.11\\\\연습\\\\세은님 파일\\\\null_dict.pkl', 'wb') as f :\n",
    "    pickle.dump(null_dict, f)"
   ]
  },
  {
   "cell_type": "code",
   "execution_count": null,
   "id": "d906d05e-99d0-45c0-a2e3-2a53245a1d5a",
   "metadata": {},
   "outputs": [],
   "source": [
    "with open ('null_dict.pkl', 'rb') as f :\n",
    "    load_dict = pickle.load(f)"
   ]
  },
  {
   "cell_type": "code",
   "execution_count": 94,
   "id": "6034b378-bf7a-418e-8c92-132816ab3568",
   "metadata": {},
   "outputs": [],
   "source": [
    "obj_col = ['Gender','Married','Dependents','Education','Self_Employed','Property_Area']"
   ]
  },
  {
   "cell_type": "code",
   "execution_count": 95,
   "id": "1ca040ab-48e6-44c8-a732-57c0dbaf72e1",
   "metadata": {},
   "outputs": [
    {
     "name": "stdout",
     "output_type": "stream",
     "text": [
      "Gender\n",
      "label_Gender.pkl\n",
      "Married\n",
      "label_Married.pkl\n",
      "Dependents\n",
      "label_Dependents.pkl\n",
      "Education\n",
      "label_Education.pkl\n",
      "Self_Employed\n",
      "label_Self_Employed.pkl\n",
      "Property_Area\n",
      "label_Property_Area.pkl\n"
     ]
    }
   ],
   "source": [
    "# 전처리 \n",
    "for col in obj_col :\n",
    "    print(col)\n",
    "    label = LabelEncoder() # 함수를 통해서 문자를 수치형데이터로 바꿈\n",
    "    data[col] = label.fit_transform(data[col])\n",
    "    filename = 'label_' + col + '.pkl'\n",
    "    print(filename)\n",
    "    with open('C:\\\\Users\\\\user\\\\Desktop\\\\python\\\\11.11\\\\연습\\\\세은님 파일\\\\'+filename, 'wb') as f :\n",
    "        pickle.dump(label, f)"
   ]
  },
  {
   "cell_type": "code",
   "execution_count": 96,
   "id": "8d64d092-76e8-47ab-b58e-258a9359eac6",
   "metadata": {},
   "outputs": [
    {
     "data": {
      "text/html": [
       "<div>\n",
       "<style scoped>\n",
       "    .dataframe tbody tr th:only-of-type {\n",
       "        vertical-align: middle;\n",
       "    }\n",
       "\n",
       "    .dataframe tbody tr th {\n",
       "        vertical-align: top;\n",
       "    }\n",
       "\n",
       "    .dataframe thead th {\n",
       "        text-align: right;\n",
       "    }\n",
       "</style>\n",
       "<table border=\"1\" class=\"dataframe\">\n",
       "  <thead>\n",
       "    <tr style=\"text-align: right;\">\n",
       "      <th></th>\n",
       "      <th>Loan_ID</th>\n",
       "      <th>Gender</th>\n",
       "      <th>Married</th>\n",
       "      <th>Dependents</th>\n",
       "      <th>Education</th>\n",
       "      <th>Self_Employed</th>\n",
       "      <th>ApplicantIncome</th>\n",
       "      <th>CoapplicantIncome</th>\n",
       "      <th>LoanAmount</th>\n",
       "      <th>Loan_Amount_Term</th>\n",
       "      <th>Credit_History</th>\n",
       "      <th>Property_Area</th>\n",
       "      <th>Loan_Status</th>\n",
       "    </tr>\n",
       "  </thead>\n",
       "  <tbody>\n",
       "    <tr>\n",
       "      <th>0</th>\n",
       "      <td>LP001002</td>\n",
       "      <td>1</td>\n",
       "      <td>0</td>\n",
       "      <td>0</td>\n",
       "      <td>0</td>\n",
       "      <td>0</td>\n",
       "      <td>5849</td>\n",
       "      <td>0.0</td>\n",
       "      <td>128.0</td>\n",
       "      <td>360.0</td>\n",
       "      <td>1.0</td>\n",
       "      <td>2</td>\n",
       "      <td>Y</td>\n",
       "    </tr>\n",
       "    <tr>\n",
       "      <th>1</th>\n",
       "      <td>LP001003</td>\n",
       "      <td>1</td>\n",
       "      <td>1</td>\n",
       "      <td>1</td>\n",
       "      <td>0</td>\n",
       "      <td>0</td>\n",
       "      <td>4583</td>\n",
       "      <td>1508.0</td>\n",
       "      <td>128.0</td>\n",
       "      <td>360.0</td>\n",
       "      <td>1.0</td>\n",
       "      <td>0</td>\n",
       "      <td>N</td>\n",
       "    </tr>\n",
       "    <tr>\n",
       "      <th>2</th>\n",
       "      <td>LP001005</td>\n",
       "      <td>1</td>\n",
       "      <td>1</td>\n",
       "      <td>0</td>\n",
       "      <td>0</td>\n",
       "      <td>1</td>\n",
       "      <td>3000</td>\n",
       "      <td>0.0</td>\n",
       "      <td>66.0</td>\n",
       "      <td>360.0</td>\n",
       "      <td>1.0</td>\n",
       "      <td>2</td>\n",
       "      <td>Y</td>\n",
       "    </tr>\n",
       "    <tr>\n",
       "      <th>3</th>\n",
       "      <td>LP001006</td>\n",
       "      <td>1</td>\n",
       "      <td>1</td>\n",
       "      <td>0</td>\n",
       "      <td>1</td>\n",
       "      <td>0</td>\n",
       "      <td>2583</td>\n",
       "      <td>2358.0</td>\n",
       "      <td>120.0</td>\n",
       "      <td>360.0</td>\n",
       "      <td>1.0</td>\n",
       "      <td>2</td>\n",
       "      <td>Y</td>\n",
       "    </tr>\n",
       "    <tr>\n",
       "      <th>4</th>\n",
       "      <td>LP001008</td>\n",
       "      <td>1</td>\n",
       "      <td>0</td>\n",
       "      <td>0</td>\n",
       "      <td>0</td>\n",
       "      <td>0</td>\n",
       "      <td>6000</td>\n",
       "      <td>0.0</td>\n",
       "      <td>141.0</td>\n",
       "      <td>360.0</td>\n",
       "      <td>1.0</td>\n",
       "      <td>2</td>\n",
       "      <td>Y</td>\n",
       "    </tr>\n",
       "    <tr>\n",
       "      <th>...</th>\n",
       "      <td>...</td>\n",
       "      <td>...</td>\n",
       "      <td>...</td>\n",
       "      <td>...</td>\n",
       "      <td>...</td>\n",
       "      <td>...</td>\n",
       "      <td>...</td>\n",
       "      <td>...</td>\n",
       "      <td>...</td>\n",
       "      <td>...</td>\n",
       "      <td>...</td>\n",
       "      <td>...</td>\n",
       "      <td>...</td>\n",
       "    </tr>\n",
       "    <tr>\n",
       "      <th>609</th>\n",
       "      <td>LP002978</td>\n",
       "      <td>0</td>\n",
       "      <td>0</td>\n",
       "      <td>0</td>\n",
       "      <td>0</td>\n",
       "      <td>0</td>\n",
       "      <td>2900</td>\n",
       "      <td>0.0</td>\n",
       "      <td>71.0</td>\n",
       "      <td>360.0</td>\n",
       "      <td>1.0</td>\n",
       "      <td>0</td>\n",
       "      <td>Y</td>\n",
       "    </tr>\n",
       "    <tr>\n",
       "      <th>610</th>\n",
       "      <td>LP002979</td>\n",
       "      <td>1</td>\n",
       "      <td>1</td>\n",
       "      <td>3</td>\n",
       "      <td>0</td>\n",
       "      <td>0</td>\n",
       "      <td>4106</td>\n",
       "      <td>0.0</td>\n",
       "      <td>40.0</td>\n",
       "      <td>180.0</td>\n",
       "      <td>1.0</td>\n",
       "      <td>0</td>\n",
       "      <td>Y</td>\n",
       "    </tr>\n",
       "    <tr>\n",
       "      <th>611</th>\n",
       "      <td>LP002983</td>\n",
       "      <td>1</td>\n",
       "      <td>1</td>\n",
       "      <td>1</td>\n",
       "      <td>0</td>\n",
       "      <td>0</td>\n",
       "      <td>8072</td>\n",
       "      <td>240.0</td>\n",
       "      <td>253.0</td>\n",
       "      <td>360.0</td>\n",
       "      <td>1.0</td>\n",
       "      <td>2</td>\n",
       "      <td>Y</td>\n",
       "    </tr>\n",
       "    <tr>\n",
       "      <th>612</th>\n",
       "      <td>LP002984</td>\n",
       "      <td>1</td>\n",
       "      <td>1</td>\n",
       "      <td>2</td>\n",
       "      <td>0</td>\n",
       "      <td>0</td>\n",
       "      <td>7583</td>\n",
       "      <td>0.0</td>\n",
       "      <td>187.0</td>\n",
       "      <td>360.0</td>\n",
       "      <td>1.0</td>\n",
       "      <td>2</td>\n",
       "      <td>Y</td>\n",
       "    </tr>\n",
       "    <tr>\n",
       "      <th>613</th>\n",
       "      <td>LP002990</td>\n",
       "      <td>0</td>\n",
       "      <td>0</td>\n",
       "      <td>0</td>\n",
       "      <td>0</td>\n",
       "      <td>1</td>\n",
       "      <td>4583</td>\n",
       "      <td>0.0</td>\n",
       "      <td>133.0</td>\n",
       "      <td>360.0</td>\n",
       "      <td>0.0</td>\n",
       "      <td>1</td>\n",
       "      <td>N</td>\n",
       "    </tr>\n",
       "  </tbody>\n",
       "</table>\n",
       "<p>614 rows × 13 columns</p>\n",
       "</div>"
      ],
      "text/plain": [
       "      Loan_ID  Gender  Married  Dependents  Education  Self_Employed  \\\n",
       "0    LP001002       1        0           0          0              0   \n",
       "1    LP001003       1        1           1          0              0   \n",
       "2    LP001005       1        1           0          0              1   \n",
       "3    LP001006       1        1           0          1              0   \n",
       "4    LP001008       1        0           0          0              0   \n",
       "..        ...     ...      ...         ...        ...            ...   \n",
       "609  LP002978       0        0           0          0              0   \n",
       "610  LP002979       1        1           3          0              0   \n",
       "611  LP002983       1        1           1          0              0   \n",
       "612  LP002984       1        1           2          0              0   \n",
       "613  LP002990       0        0           0          0              1   \n",
       "\n",
       "     ApplicantIncome  CoapplicantIncome  LoanAmount  Loan_Amount_Term  \\\n",
       "0               5849                0.0       128.0             360.0   \n",
       "1               4583             1508.0       128.0             360.0   \n",
       "2               3000                0.0        66.0             360.0   \n",
       "3               2583             2358.0       120.0             360.0   \n",
       "4               6000                0.0       141.0             360.0   \n",
       "..               ...                ...         ...               ...   \n",
       "609             2900                0.0        71.0             360.0   \n",
       "610             4106                0.0        40.0             180.0   \n",
       "611             8072              240.0       253.0             360.0   \n",
       "612             7583                0.0       187.0             360.0   \n",
       "613             4583                0.0       133.0             360.0   \n",
       "\n",
       "     Credit_History  Property_Area Loan_Status  \n",
       "0               1.0              2           Y  \n",
       "1               1.0              0           N  \n",
       "2               1.0              2           Y  \n",
       "3               1.0              2           Y  \n",
       "4               1.0              2           Y  \n",
       "..              ...            ...         ...  \n",
       "609             1.0              0           Y  \n",
       "610             1.0              0           Y  \n",
       "611             1.0              2           Y  \n",
       "612             1.0              2           Y  \n",
       "613             0.0              1           N  \n",
       "\n",
       "[614 rows x 13 columns]"
      ]
     },
     "execution_count": 96,
     "metadata": {},
     "output_type": "execute_result"
    }
   ],
   "source": [
    "data"
   ]
  },
  {
   "cell_type": "code",
   "execution_count": 97,
   "id": "fd0df2e3-c129-4d38-b88e-acd19d53aa99",
   "metadata": {},
   "outputs": [
    {
     "data": {
      "text/plain": [
       "{'Gender': 'Male',\n",
       " 'Married': 'Yes',\n",
       " 'Dependents': '0',\n",
       " 'Self_Employed': 'No',\n",
       " 'LoanAmount': 128.0,\n",
       " 'Loan_Amount_Term': 360.0,\n",
       " 'Credit_History': 1.0}"
      ]
     },
     "execution_count": 97,
     "metadata": {},
     "output_type": "execute_result"
    }
   ],
   "source": [
    "null_dict"
   ]
  },
  {
   "cell_type": "code",
   "execution_count": 98,
   "id": "01936109-088b-4cd4-8e0d-a8f80fd78e73",
   "metadata": {},
   "outputs": [],
   "source": [
    "X = data.drop(['Loan_Status','Loan_ID'], axis = 1 )\n",
    "Y = data['Loan_Status']"
   ]
  },
  {
   "cell_type": "code",
   "execution_count": 99,
   "id": "911e24b5-9678-47cc-b9a0-8f2c731d9f61",
   "metadata": {},
   "outputs": [],
   "source": [
    "x_train, x_test, y_train, y_test = \\\n",
    "train_test_split(X,Y, test_size=0.2, stratify = Y, random_state=0)"
   ]
  },
  {
   "cell_type": "code",
   "execution_count": 100,
   "id": "7481198e-9377-441e-b657-26b41ddd3fe8",
   "metadata": {},
   "outputs": [
    {
     "data": {
      "text/html": [
       "<div>\n",
       "<style scoped>\n",
       "    .dataframe tbody tr th:only-of-type {\n",
       "        vertical-align: middle;\n",
       "    }\n",
       "\n",
       "    .dataframe tbody tr th {\n",
       "        vertical-align: top;\n",
       "    }\n",
       "\n",
       "    .dataframe thead th {\n",
       "        text-align: right;\n",
       "    }\n",
       "</style>\n",
       "<table border=\"1\" class=\"dataframe\">\n",
       "  <thead>\n",
       "    <tr style=\"text-align: right;\">\n",
       "      <th></th>\n",
       "      <th>Gender</th>\n",
       "      <th>Married</th>\n",
       "      <th>Dependents</th>\n",
       "      <th>Education</th>\n",
       "      <th>Self_Employed</th>\n",
       "      <th>ApplicantIncome</th>\n",
       "      <th>CoapplicantIncome</th>\n",
       "      <th>LoanAmount</th>\n",
       "      <th>Loan_Amount_Term</th>\n",
       "      <th>Credit_History</th>\n",
       "      <th>Property_Area</th>\n",
       "    </tr>\n",
       "  </thead>\n",
       "  <tbody>\n",
       "    <tr>\n",
       "      <th>530</th>\n",
       "      <td>1</td>\n",
       "      <td>1</td>\n",
       "      <td>0</td>\n",
       "      <td>0</td>\n",
       "      <td>0</td>\n",
       "      <td>1025</td>\n",
       "      <td>5500.0</td>\n",
       "      <td>216.0</td>\n",
       "      <td>360.0</td>\n",
       "      <td>1.0</td>\n",
       "      <td>0</td>\n",
       "    </tr>\n",
       "    <tr>\n",
       "      <th>522</th>\n",
       "      <td>1</td>\n",
       "      <td>1</td>\n",
       "      <td>3</td>\n",
       "      <td>0</td>\n",
       "      <td>1</td>\n",
       "      <td>5677</td>\n",
       "      <td>1424.0</td>\n",
       "      <td>100.0</td>\n",
       "      <td>360.0</td>\n",
       "      <td>1.0</td>\n",
       "      <td>0</td>\n",
       "    </tr>\n",
       "    <tr>\n",
       "      <th>454</th>\n",
       "      <td>1</td>\n",
       "      <td>0</td>\n",
       "      <td>0</td>\n",
       "      <td>0</td>\n",
       "      <td>1</td>\n",
       "      <td>7085</td>\n",
       "      <td>0.0</td>\n",
       "      <td>84.0</td>\n",
       "      <td>360.0</td>\n",
       "      <td>1.0</td>\n",
       "      <td>1</td>\n",
       "    </tr>\n",
       "    <tr>\n",
       "      <th>498</th>\n",
       "      <td>1</td>\n",
       "      <td>1</td>\n",
       "      <td>1</td>\n",
       "      <td>0</td>\n",
       "      <td>1</td>\n",
       "      <td>2895</td>\n",
       "      <td>0.0</td>\n",
       "      <td>95.0</td>\n",
       "      <td>360.0</td>\n",
       "      <td>1.0</td>\n",
       "      <td>1</td>\n",
       "    </tr>\n",
       "    <tr>\n",
       "      <th>573</th>\n",
       "      <td>1</td>\n",
       "      <td>1</td>\n",
       "      <td>2</td>\n",
       "      <td>1</td>\n",
       "      <td>0</td>\n",
       "      <td>6125</td>\n",
       "      <td>1625.0</td>\n",
       "      <td>187.0</td>\n",
       "      <td>480.0</td>\n",
       "      <td>1.0</td>\n",
       "      <td>1</td>\n",
       "    </tr>\n",
       "    <tr>\n",
       "      <th>...</th>\n",
       "      <td>...</td>\n",
       "      <td>...</td>\n",
       "      <td>...</td>\n",
       "      <td>...</td>\n",
       "      <td>...</td>\n",
       "      <td>...</td>\n",
       "      <td>...</td>\n",
       "      <td>...</td>\n",
       "      <td>...</td>\n",
       "      <td>...</td>\n",
       "      <td>...</td>\n",
       "    </tr>\n",
       "    <tr>\n",
       "      <th>309</th>\n",
       "      <td>1</td>\n",
       "      <td>1</td>\n",
       "      <td>2</td>\n",
       "      <td>1</td>\n",
       "      <td>0</td>\n",
       "      <td>7667</td>\n",
       "      <td>0.0</td>\n",
       "      <td>185.0</td>\n",
       "      <td>360.0</td>\n",
       "      <td>1.0</td>\n",
       "      <td>0</td>\n",
       "    </tr>\n",
       "    <tr>\n",
       "      <th>564</th>\n",
       "      <td>1</td>\n",
       "      <td>1</td>\n",
       "      <td>2</td>\n",
       "      <td>0</td>\n",
       "      <td>0</td>\n",
       "      <td>8799</td>\n",
       "      <td>0.0</td>\n",
       "      <td>258.0</td>\n",
       "      <td>360.0</td>\n",
       "      <td>0.0</td>\n",
       "      <td>2</td>\n",
       "    </tr>\n",
       "    <tr>\n",
       "      <th>73</th>\n",
       "      <td>1</td>\n",
       "      <td>1</td>\n",
       "      <td>3</td>\n",
       "      <td>1</td>\n",
       "      <td>0</td>\n",
       "      <td>4755</td>\n",
       "      <td>0.0</td>\n",
       "      <td>95.0</td>\n",
       "      <td>360.0</td>\n",
       "      <td>0.0</td>\n",
       "      <td>1</td>\n",
       "    </tr>\n",
       "    <tr>\n",
       "      <th>235</th>\n",
       "      <td>1</td>\n",
       "      <td>1</td>\n",
       "      <td>1</td>\n",
       "      <td>0</td>\n",
       "      <td>0</td>\n",
       "      <td>5500</td>\n",
       "      <td>1260.0</td>\n",
       "      <td>170.0</td>\n",
       "      <td>360.0</td>\n",
       "      <td>1.0</td>\n",
       "      <td>0</td>\n",
       "    </tr>\n",
       "    <tr>\n",
       "      <th>406</th>\n",
       "      <td>1</td>\n",
       "      <td>1</td>\n",
       "      <td>0</td>\n",
       "      <td>1</td>\n",
       "      <td>0</td>\n",
       "      <td>2167</td>\n",
       "      <td>2400.0</td>\n",
       "      <td>115.0</td>\n",
       "      <td>360.0</td>\n",
       "      <td>1.0</td>\n",
       "      <td>2</td>\n",
       "    </tr>\n",
       "  </tbody>\n",
       "</table>\n",
       "<p>491 rows × 11 columns</p>\n",
       "</div>"
      ],
      "text/plain": [
       "     Gender  Married  Dependents  Education  Self_Employed  ApplicantIncome  \\\n",
       "530       1        1           0          0              0             1025   \n",
       "522       1        1           3          0              1             5677   \n",
       "454       1        0           0          0              1             7085   \n",
       "498       1        1           1          0              1             2895   \n",
       "573       1        1           2          1              0             6125   \n",
       "..      ...      ...         ...        ...            ...              ...   \n",
       "309       1        1           2          1              0             7667   \n",
       "564       1        1           2          0              0             8799   \n",
       "73        1        1           3          1              0             4755   \n",
       "235       1        1           1          0              0             5500   \n",
       "406       1        1           0          1              0             2167   \n",
       "\n",
       "     CoapplicantIncome  LoanAmount  Loan_Amount_Term  Credit_History  \\\n",
       "530             5500.0       216.0             360.0             1.0   \n",
       "522             1424.0       100.0             360.0             1.0   \n",
       "454                0.0        84.0             360.0             1.0   \n",
       "498                0.0        95.0             360.0             1.0   \n",
       "573             1625.0       187.0             480.0             1.0   \n",
       "..                 ...         ...               ...             ...   \n",
       "309                0.0       185.0             360.0             1.0   \n",
       "564                0.0       258.0             360.0             0.0   \n",
       "73                 0.0        95.0             360.0             0.0   \n",
       "235             1260.0       170.0             360.0             1.0   \n",
       "406             2400.0       115.0             360.0             1.0   \n",
       "\n",
       "     Property_Area  \n",
       "530              0  \n",
       "522              0  \n",
       "454              1  \n",
       "498              1  \n",
       "573              1  \n",
       "..             ...  \n",
       "309              0  \n",
       "564              2  \n",
       "73               1  \n",
       "235              0  \n",
       "406              2  \n",
       "\n",
       "[491 rows x 11 columns]"
      ]
     },
     "execution_count": 100,
     "metadata": {},
     "output_type": "execute_result"
    }
   ],
   "source": [
    "x_train"
   ]
  },
  {
   "cell_type": "code",
   "execution_count": 101,
   "id": "5917c8b2-885e-4c0d-844f-eca69b3be362",
   "metadata": {},
   "outputs": [],
   "source": [
    "# 전처리 # 스칼라 사용 \n",
    "#결과 가 좋아졌는지 나쁜지 모델 스코어 확인 "
   ]
  },
  {
   "cell_type": "code",
   "execution_count": null,
   "id": "5a0fb54e-5205-43f5-8617-6d7a7cd3ecb5",
   "metadata": {},
   "outputs": [],
   "source": []
  },
  {
   "cell_type": "code",
   "execution_count": 102,
   "id": "de725b55-93f5-453d-858a-10ed6614cb55",
   "metadata": {},
   "outputs": [],
   "source": [
    "# 모델 학습 / 스칼라 하고 난후 학습 노가다 필요 "
   ]
  },
  {
   "cell_type": "code",
   "execution_count": null,
   "id": "336d553b-3955-4506-bfbb-2f0a6070c4ba",
   "metadata": {},
   "outputs": [],
   "source": []
  },
  {
   "cell_type": "code",
   "execution_count": 103,
   "id": "0893d72c-81d1-4309-9a49-35604ecde01e",
   "metadata": {},
   "outputs": [],
   "source": [
    "from sklearn.preprocessing import MinMaxScaler\n",
    "# 스칼라 표준화 "
   ]
  },
  {
   "cell_type": "code",
   "execution_count": 104,
   "id": "5cdaecc2-a282-4113-a3a1-4f73fb7f1b54",
   "metadata": {},
   "outputs": [],
   "source": [
    "scaler = MinMaxScaler()"
   ]
  },
  {
   "cell_type": "code",
   "execution_count": 105,
   "id": "73f29ce2-4da3-48f8-af99-5d8860f5b8c2",
   "metadata": {},
   "outputs": [],
   "source": [
    "x_train = scaler.fit_transform(x_train)"
   ]
  },
  {
   "cell_type": "code",
   "execution_count": 106,
   "id": "927331bf-10d4-4016-a944-57e71f76deea",
   "metadata": {},
   "outputs": [
    {
     "data": {
      "text/plain": [
       "array([[1.        , 1.        , 0.        , ..., 0.74358974, 1.        ,\n",
       "        0.        ],\n",
       "       [1.        , 1.        , 1.        , ..., 0.74358974, 1.        ,\n",
       "        0.        ],\n",
       "       [1.        , 0.        , 0.        , ..., 0.74358974, 1.        ,\n",
       "        0.5       ],\n",
       "       ...,\n",
       "       [1.        , 1.        , 1.        , ..., 0.74358974, 0.        ,\n",
       "        0.5       ],\n",
       "       [1.        , 1.        , 0.33333333, ..., 0.74358974, 1.        ,\n",
       "        0.        ],\n",
       "       [1.        , 1.        , 0.        , ..., 0.74358974, 1.        ,\n",
       "        1.        ]])"
      ]
     },
     "execution_count": 106,
     "metadata": {},
     "output_type": "execute_result"
    }
   ],
   "source": [
    "x_train"
   ]
  },
  {
   "cell_type": "code",
   "execution_count": 107,
   "id": "9cbe06bf-d929-4d19-acd4-7caae5744c3e",
   "metadata": {},
   "outputs": [],
   "source": [
    "x_test = scaler.transform(x_test)"
   ]
  },
  {
   "cell_type": "code",
   "execution_count": null,
   "id": "4018ecd3-22f4-42a8-8d9c-4070d6509e12",
   "metadata": {},
   "outputs": [],
   "source": []
  },
  {
   "cell_type": "code",
   "execution_count": 108,
   "id": "dd4362a3-6f06-46b0-8f8d-c85b213a88e3",
   "metadata": {},
   "outputs": [],
   "source": [
    "with open('C:\\\\Users\\\\user\\\\Desktop\\\\python\\\\11.11\\\\연습\\\\세은님 파일\\\\scaler.pkl','wb') as f :\n",
    "    pickle.dump(scaler,f)"
   ]
  },
  {
   "cell_type": "code",
   "execution_count": null,
   "id": "a1bafe5b-5944-4017-bc19-4b8d98e72b85",
   "metadata": {},
   "outputs": [],
   "source": [
    "model2 = SVC(kernel='rbf', C=10)"
   ]
  },
  {
   "cell_type": "code",
   "execution_count": null,
   "id": "3ed9cbeb-aa3c-437d-9cc9-a307642de162",
   "metadata": {},
   "outputs": [],
   "source": [
    "model2.fit(x_train, y_train)"
   ]
  },
  {
   "cell_type": "code",
   "execution_count": null,
   "id": "8147a416-000f-4aa8-b9ee-b5788f4b9c7a",
   "metadata": {},
   "outputs": [],
   "source": [
    "model2.score(x_train, y_train)"
   ]
  },
  {
   "cell_type": "code",
   "execution_count": null,
   "id": "5b92000a-2475-4669-bb59-329af313722f",
   "metadata": {},
   "outputs": [],
   "source": [
    "model2.score(x_test, y_test)"
   ]
  },
  {
   "cell_type": "code",
   "execution_count": null,
   "id": "76c146fb-e636-4360-bbc3-813de0866104",
   "metadata": {},
   "outputs": [],
   "source": [
    "with open ('model.pkl', 'wb') as f :\n",
    "    pickle.dump(model2, f)"
   ]
  },
  {
   "cell_type": "code",
   "execution_count": null,
   "id": "cfeb5d88-fc36-4f87-9c01-0967af25fceb",
   "metadata": {},
   "outputs": [],
   "source": []
  },
  {
   "cell_type": "code",
   "execution_count": null,
   "id": "623dfe60-dbcc-4b64-9c25-f6db4e113b62",
   "metadata": {},
   "outputs": [],
   "source": []
  },
  {
   "cell_type": "code",
   "execution_count": null,
   "id": "bb50a7a9-bb8f-4ac0-876d-dca877a40605",
   "metadata": {},
   "outputs": [],
   "source": []
  },
  {
   "cell_type": "code",
   "execution_count": null,
   "id": "2e520343-f925-414a-a7b3-91145de4fa28",
   "metadata": {},
   "outputs": [],
   "source": []
  },
  {
   "cell_type": "code",
   "execution_count": null,
   "id": "b1f48c42-4285-4093-a68c-b2380193918c",
   "metadata": {},
   "outputs": [],
   "source": []
  },
  {
   "cell_type": "code",
   "execution_count": null,
   "id": "b6a0db12-2b72-4a90-b68b-19d417f759c9",
   "metadata": {},
   "outputs": [],
   "source": []
  },
  {
   "cell_type": "code",
   "execution_count": null,
   "id": "50211132-f331-48fc-ba72-329ebb89e7b2",
   "metadata": {},
   "outputs": [],
   "source": []
  },
  {
   "cell_type": "code",
   "execution_count": null,
   "id": "e525b507-9c6d-4c38-b94e-e03c9ce94c04",
   "metadata": {},
   "outputs": [],
   "source": []
  },
  {
   "cell_type": "code",
   "execution_count": null,
   "id": "e15955e0-7441-4aa7-83f3-01ace6f26ea6",
   "metadata": {},
   "outputs": [],
   "source": []
  },
  {
   "cell_type": "code",
   "execution_count": null,
   "id": "e9ea4066-4f8a-46a1-9a20-95525688fe69",
   "metadata": {},
   "outputs": [],
   "source": []
  },
  {
   "cell_type": "code",
   "execution_count": null,
   "id": "6f56450c-4599-4024-af2c-1147354aad81",
   "metadata": {},
   "outputs": [],
   "source": []
  },
  {
   "cell_type": "code",
   "execution_count": null,
   "id": "26675b91-7f00-41eb-85f9-35209304c489",
   "metadata": {},
   "outputs": [],
   "source": []
  },
  {
   "cell_type": "code",
   "execution_count": null,
   "id": "5e801c40-4c78-4fb6-9d74-996be36ff1c7",
   "metadata": {},
   "outputs": [],
   "source": []
  },
  {
   "cell_type": "code",
   "execution_count": null,
   "id": "2121d678-5c62-473a-a92c-e9e7b9bbb22a",
   "metadata": {},
   "outputs": [],
   "source": []
  },
  {
   "cell_type": "code",
   "execution_count": null,
   "id": "c2b7acff-4f22-42a2-9ec1-ce926fa5a907",
   "metadata": {},
   "outputs": [],
   "source": []
  },
  {
   "cell_type": "markdown",
   "id": "1a8e0e9d-633c-44f4-9618-98518de9cb93",
   "metadata": {},
   "source": [
    "# 내가 한거 "
   ]
  },
  {
   "cell_type": "raw",
   "id": "93fe856b-80ca-492c-a8ee-efea438bc3be",
   "metadata": {},
   "source": [
    "ApplicantIncome :신청인 소득\n",
    "CoapplicantIncome :공동 신청자 소득\n",
    "LoanAmount:대출 금액\n",
    "Loan_Amount_Term:대출_금액_기간\n",
    "Credit_History:신용 기록\n",
    "Property_Area:재산 지역\n",
    "Loan_Status: 대출 현황"
   ]
  },
  {
   "cell_type": "code",
   "execution_count": null,
   "id": "1255b4c0-f13f-4d24-861a-bddd63f64643",
   "metadata": {},
   "outputs": [],
   "source": [
    "data.describe()"
   ]
  },
  {
   "cell_type": "code",
   "execution_count": null,
   "id": "3f8ad154-05db-4d68-aa4e-93e39dac128d",
   "metadata": {},
   "outputs": [],
   "source": [
    "data.isnull().sum()"
   ]
  },
  {
   "cell_type": "code",
   "execution_count": null,
   "id": "abb58c10-0f89-4c2b-8a5b-a8663f08e3eb",
   "metadata": {},
   "outputs": [],
   "source": [
    "data['Loan_Status'].value_counts()"
   ]
  },
  {
   "cell_type": "code",
   "execution_count": null,
   "id": "8cd43540-1dbd-4875-a831-f29863431e8d",
   "metadata": {},
   "outputs": [],
   "source": [
    "data.shape"
   ]
  },
  {
   "cell_type": "code",
   "execution_count": null,
   "id": "ac7ba01d-0713-46a7-82f4-913b64ecb81d",
   "metadata": {},
   "outputs": [],
   "source": [
    "data = data.dropna()"
   ]
  },
  {
   "cell_type": "code",
   "execution_count": null,
   "id": "beca7bd9-4d40-42a3-aa7f-e1d923d87952",
   "metadata": {},
   "outputs": [],
   "source": [
    "# 데이터 삭제 확인 \n",
    "data.shape"
   ]
  },
  {
   "cell_type": "code",
   "execution_count": null,
   "id": "2a99b741-65a6-4600-9dbe-c6a2b0379b27",
   "metadata": {},
   "outputs": [],
   "source": [
    "data.head(1)"
   ]
  },
  {
   "cell_type": "code",
   "execution_count": null,
   "id": "0ebfdc1f-468e-42ac-8092-82648a833c92",
   "metadata": {},
   "outputs": [],
   "source": []
  },
  {
   "cell_type": "markdown",
   "id": "383cc4eb-560d-4272-ad50-c3e20b6b7039",
   "metadata": {},
   "source": [
    "- 내가 풀이 한거 "
   ]
  },
  {
   "cell_type": "raw",
   "id": "81e07ae4-f4cf-425b-af51-f314963acdef",
   "metadata": {
    "tags": []
   },
   "source": [
    "- 성별  male\n",
    "- 결혼 유무는  yes \n",
    "- 부양 가족은  median \n",
    "- 자영업은 no\n",
    "- 대출금액은 median \n",
    "- 대출금액 기간 median\n",
    "- 신용기록 1.0 으로 바꾸기 "
   ]
  },
  {
   "cell_type": "code",
   "execution_count": null,
   "id": "67dec227-cd99-4b79-9ef7-7fadf74fb56d",
   "metadata": {},
   "outputs": [],
   "source": [
    "data['Gender'].value_counts()"
   ]
  },
  {
   "cell_type": "code",
   "execution_count": null,
   "id": "c0ac2d71-23f3-4833-aceb-cc8511f325db",
   "metadata": {},
   "outputs": [],
   "source": [
    "data['Gender'] = data['Gender'].fillna('Male')"
   ]
  },
  {
   "cell_type": "code",
   "execution_count": null,
   "id": "5db4f753-29d4-4adc-b328-d0d2653bee01",
   "metadata": {},
   "outputs": [],
   "source": [
    "data['Gender'].value_counts()"
   ]
  },
  {
   "cell_type": "markdown",
   "id": "27905a29-be58-42ce-99c5-ec50dec3c86f",
   "metadata": {},
   "source": [
    "-"
   ]
  },
  {
   "cell_type": "code",
   "execution_count": null,
   "id": "d8ceea78-1fc8-4098-a375-b02b3ad58504",
   "metadata": {},
   "outputs": [],
   "source": [
    "data['Married'].value_counts()"
   ]
  },
  {
   "cell_type": "code",
   "execution_count": null,
   "id": "f68dd89a-9a83-4de7-8be3-eb1ae117d29d",
   "metadata": {},
   "outputs": [],
   "source": [
    "data['Married'] = data['Married'].fillna('Yes')"
   ]
  },
  {
   "cell_type": "code",
   "execution_count": null,
   "id": "ccf4e308-8b1e-401d-96c3-4dc9dfaea035",
   "metadata": {},
   "outputs": [],
   "source": [
    "data['Married'].value_counts()"
   ]
  },
  {
   "cell_type": "markdown",
   "id": "2c9b1a99-241d-441b-a580-d08887cb0dec",
   "metadata": {},
   "source": [
    "-"
   ]
  },
  {
   "cell_type": "code",
   "execution_count": null,
   "id": "966e8e8c-b4e1-4e9b-969e-40d0b1b2b1b3",
   "metadata": {},
   "outputs": [],
   "source": [
    "data['Dependents'].value_counts()"
   ]
  },
  {
   "cell_type": "code",
   "execution_count": null,
   "id": "76da2d2b-5cad-4809-9118-6d873c15a269",
   "metadata": {},
   "outputs": [],
   "source": [
    "data['Dependents'] = data['Dependents'].replace('3+',3)"
   ]
  },
  {
   "cell_type": "code",
   "execution_count": null,
   "id": "c94d2da8-07ab-4a8d-875e-360879a4258f",
   "metadata": {},
   "outputs": [],
   "source": [
    "data['Dependents'] = data['Dependents'].fillna('0')"
   ]
  },
  {
   "cell_type": "code",
   "execution_count": null,
   "id": "e88ece4e-0c4c-4298-b31b-e57eb45d6dae",
   "metadata": {},
   "outputs": [],
   "source": [
    "data['Dependents'].value_counts()"
   ]
  },
  {
   "cell_type": "markdown",
   "id": "612aad26-73db-4d4a-8ac0-03c1fa429e90",
   "metadata": {},
   "source": [
    "-"
   ]
  },
  {
   "cell_type": "code",
   "execution_count": null,
   "id": "f4104e20-718e-4887-93e5-13aad771565f",
   "metadata": {},
   "outputs": [],
   "source": [
    "data['Self_Employed'].value_counts()"
   ]
  },
  {
   "cell_type": "code",
   "execution_count": null,
   "id": "b325c019-a298-48f8-9401-f26c266d1c97",
   "metadata": {},
   "outputs": [],
   "source": [
    "data['Self_Employed'] = data['Self_Employed'].fillna('No')"
   ]
  },
  {
   "cell_type": "code",
   "execution_count": null,
   "id": "7628b951-d54f-43b4-948c-1d6c880f4707",
   "metadata": {},
   "outputs": [],
   "source": [
    "data['Self_Employed'].value_counts()"
   ]
  },
  {
   "cell_type": "markdown",
   "id": "faeb2e32-e5f3-4abe-9b62-65624da627eb",
   "metadata": {},
   "source": [
    "-"
   ]
  },
  {
   "cell_type": "code",
   "execution_count": null,
   "id": "ba179ba6-94bd-4739-976c-d49df4b6c8b3",
   "metadata": {},
   "outputs": [],
   "source": [
    "data['LoanAmount'].value_counts()"
   ]
  },
  {
   "cell_type": "code",
   "execution_count": null,
   "id": "f13a970e-49e4-4dc3-a2e7-b926301c80aa",
   "metadata": {},
   "outputs": [],
   "source": [
    "data['LoanAmount'] = data['LoanAmount'].fillna(data['LoanAmount'].median())"
   ]
  },
  {
   "cell_type": "code",
   "execution_count": null,
   "id": "b4de19e2-6fa9-4cb2-9a23-2ff14fc39e5e",
   "metadata": {},
   "outputs": [],
   "source": [
    "len(data['LoanAmount'] == 128.0)\n",
    "\n"
   ]
  },
  {
   "cell_type": "markdown",
   "id": "af4087fa-8f6e-473b-a4fb-a7f042c68271",
   "metadata": {},
   "source": [
    "-"
   ]
  },
  {
   "cell_type": "code",
   "execution_count": null,
   "id": "76dd3494-915f-49b7-85e7-970c9490c8c8",
   "metadata": {},
   "outputs": [],
   "source": [
    "data['Loan_Amount_Term'].value_counts()"
   ]
  },
  {
   "cell_type": "code",
   "execution_count": null,
   "id": "6280bfbd-6cad-42d2-86e0-001cbe1b4b6f",
   "metadata": {},
   "outputs": [],
   "source": [
    "data['Loan_Amount_Term'] = data['Loan_Amount_Term'].fillna(data['Loan_Amount_Term'].median())"
   ]
  },
  {
   "cell_type": "markdown",
   "id": "39a568f0-cbf2-4212-b506-5191a317a386",
   "metadata": {},
   "source": [
    "-"
   ]
  },
  {
   "cell_type": "code",
   "execution_count": null,
   "id": "1dc89be3-99bb-479a-9685-f2197120147f",
   "metadata": {},
   "outputs": [],
   "source": [
    "data['Credit_History'].value_counts()"
   ]
  },
  {
   "cell_type": "code",
   "execution_count": null,
   "id": "d3923ca2-a089-4535-aaf9-d4e04de442f3",
   "metadata": {},
   "outputs": [],
   "source": [
    "data['Credit_History'] = data['Credit_History'].fillna(1.0)"
   ]
  },
  {
   "cell_type": "code",
   "execution_count": null,
   "id": "4d2d9c21-e89b-45a0-b550-a8cbacef09a0",
   "metadata": {},
   "outputs": [],
   "source": [
    "data['Credit_History'].value_counts()"
   ]
  },
  {
   "cell_type": "code",
   "execution_count": null,
   "id": "144de4b4-f78c-4068-b810-94e2ec3c7193",
   "metadata": {},
   "outputs": [],
   "source": [
    "data.isnull().sum()"
   ]
  },
  {
   "cell_type": "code",
   "execution_count": null,
   "id": "6ab00010-184b-4312-842c-f6540b2b08f9",
   "metadata": {},
   "outputs": [],
   "source": [
    "data.describe()"
   ]
  },
  {
   "cell_type": "markdown",
   "id": "c90a2aa6-60fe-40a8-a724-0a8bb5f6fa00",
   "metadata": {},
   "source": [
    "- 성별에 따른 대출 금액\n",
    "- 여자는 결혼전 높고 남자는 결혼후가 높음 "
   ]
  },
  {
   "cell_type": "code",
   "execution_count": null,
   "id": "24d2d551-6a26-4131-8149-71e441f7fbf1",
   "metadata": {},
   "outputs": [],
   "source": [
    "data.groupby(['Gender','Married'])['LoanAmount'].describe()"
   ]
  },
  {
   "cell_type": "markdown",
   "id": "cadf08f8-5fec-4247-b167-f4aa74cb703c",
   "metadata": {},
   "source": [
    "- 결혼 부양가족에 따른 대출금액"
   ]
  },
  {
   "cell_type": "code",
   "execution_count": null,
   "id": "a9404301-2f0c-4851-bd50-4183e7477014",
   "metadata": {},
   "outputs": [],
   "source": [
    "data.groupby(['Married','Dependents'])['LoanAmount'].describe()"
   ]
  },
  {
   "cell_type": "markdown",
   "id": "47445c4e-a89c-4236-82de-577f7f6318b4",
   "metadata": {},
   "source": [
    "- 사용자 아이디는 필요없으므로 드롭"
   ]
  },
  {
   "cell_type": "code",
   "execution_count": null,
   "id": "77c52790-267d-489e-a0c0-9704bfeb80f5",
   "metadata": {},
   "outputs": [],
   "source": []
  },
  {
   "cell_type": "markdown",
   "id": "af5ca197-7a28-4867-ad1b-da6877b490fd",
   "metadata": {},
   "source": [
    "# 모델 학습시키고 결과 보기"
   ]
  },
  {
   "cell_type": "code",
   "execution_count": null,
   "id": "ef601237-1469-4d26-aabf-84602cf0c90d",
   "metadata": {},
   "outputs": [],
   "source": [
    "x = data.drop('Loan_Status', axis =1)\n",
    "y = data['Loan_Status']"
   ]
  },
  {
   "cell_type": "code",
   "execution_count": null,
   "id": "0c9771f8-c7fa-427f-8fdc-74ea233076c0",
   "metadata": {},
   "outputs": [],
   "source": [
    "x_train, x_test, y_train, y_test = \\\n",
    "train_test_split(x,y, test_size=0.2, random_state=0)"
   ]
  },
  {
   "cell_type": "code",
   "execution_count": null,
   "id": "accfb1e6-5c96-4d0e-bfb9-641e66ee9b0f",
   "metadata": {},
   "outputs": [],
   "source": [
    "model = LogisticRegression()"
   ]
  },
  {
   "cell_type": "code",
   "execution_count": null,
   "id": "afa004ff-dd82-4598-abe3-a94552ad8335",
   "metadata": {},
   "outputs": [],
   "source": [
    "model"
   ]
  },
  {
   "cell_type": "code",
   "execution_count": null,
   "id": "318a92a3-e1d5-4596-8f73-c49772ad0d33",
   "metadata": {},
   "outputs": [],
   "source": []
  },
  {
   "cell_type": "code",
   "execution_count": null,
   "id": "affd9307-7ba4-432b-b7ff-4e53e2b0d4aa",
   "metadata": {},
   "outputs": [],
   "source": []
  },
  {
   "cell_type": "code",
   "execution_count": null,
   "id": "c035df9b-75f7-40d8-971b-fefd5d193bf7",
   "metadata": {},
   "outputs": [],
   "source": []
  },
  {
   "cell_type": "code",
   "execution_count": null,
   "id": "a5d916d0-b4c8-432c-9afd-95a48bd4eed3",
   "metadata": {},
   "outputs": [],
   "source": []
  },
  {
   "cell_type": "code",
   "execution_count": null,
   "id": "f8d169ea-c754-4b33-9f7e-982eb3f59eef",
   "metadata": {},
   "outputs": [],
   "source": []
  },
  {
   "cell_type": "code",
   "execution_count": null,
   "id": "3fb98389-c1b3-46da-899b-e02483352ca7",
   "metadata": {},
   "outputs": [],
   "source": []
  },
  {
   "cell_type": "code",
   "execution_count": null,
   "id": "2b43f983-9224-45f7-a4f6-79a656f532f6",
   "metadata": {},
   "outputs": [],
   "source": []
  },
  {
   "cell_type": "code",
   "execution_count": null,
   "id": "8e010c2f-179b-4034-9e0e-ee0ed72da2f6",
   "metadata": {},
   "outputs": [],
   "source": []
  },
  {
   "cell_type": "code",
   "execution_count": null,
   "id": "72563ae1-4c70-483e-937b-28a0eb6aeb77",
   "metadata": {},
   "outputs": [],
   "source": []
  },
  {
   "cell_type": "code",
   "execution_count": null,
   "id": "7e830891-54b9-4a85-9923-8402f3c88c23",
   "metadata": {},
   "outputs": [],
   "source": []
  },
  {
   "cell_type": "code",
   "execution_count": null,
   "id": "6cc98bc4-42ba-4743-8a2d-bce0e46c3ecc",
   "metadata": {},
   "outputs": [],
   "source": []
  },
  {
   "cell_type": "code",
   "execution_count": null,
   "id": "e12b86fc-5fe0-4210-a180-bdc6c2e1950a",
   "metadata": {},
   "outputs": [],
   "source": []
  },
  {
   "cell_type": "code",
   "execution_count": null,
   "id": "d9fc3d59-9837-4136-9ba4-55814e7d948d",
   "metadata": {},
   "outputs": [],
   "source": []
  },
  {
   "cell_type": "code",
   "execution_count": null,
   "id": "5a6e3279-e82e-4343-b7a2-fe9115e8a422",
   "metadata": {},
   "outputs": [],
   "source": []
  },
  {
   "cell_type": "code",
   "execution_count": null,
   "id": "bba9acbb-8b8a-4ae7-8b7c-0189437251a0",
   "metadata": {},
   "outputs": [],
   "source": []
  },
  {
   "cell_type": "code",
   "execution_count": null,
   "id": "fb409774-dbfc-4538-be4c-681f4ca05d96",
   "metadata": {},
   "outputs": [],
   "source": []
  }
 ],
 "metadata": {
  "kernelspec": {
   "display_name": "Python 3 (ipykernel)",
   "language": "python",
   "name": "python3"
  },
  "language_info": {
   "codemirror_mode": {
    "name": "ipython",
    "version": 3
   },
   "file_extension": ".py",
   "mimetype": "text/x-python",
   "name": "python",
   "nbconvert_exporter": "python",
   "pygments_lexer": "ipython3",
   "version": "3.9.12"
  }
 },
 "nbformat": 4,
 "nbformat_minor": 5
}
