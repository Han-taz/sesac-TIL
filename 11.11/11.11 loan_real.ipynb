{
 "cells": [
  {
   "cell_type": "code",
   "execution_count": 1,
   "id": "482ade9a-d90d-47c4-a315-19118b37089a",
   "metadata": {},
   "outputs": [],
   "source": [
    "import pandas as pd\n",
    "import numpy as np\n",
    "import pickle\n",
    "from sklearn.model_selection import train_test_split\n",
    "import warnings\n",
    "warnings.filterwarnings(action='ignore')\n",
    "from sklearn.svm import SVC\n",
    "from sklearn.preprocessing import LabelEncoder\n",
    "from sklearn.preprocessing import MinMaxScaler\n",
    "from sklearn.preprocessing import StandardScaler\n",
    "from sklearn.linear_model import LogisticRegression\n"
   ]
  },
  {
   "cell_type": "code",
   "execution_count": 2,
   "id": "32faa829-a904-44be-bef5-b3d4401584dc",
   "metadata": {
    "tags": []
   },
   "outputs": [],
   "source": [
    "#"
   ]
  },
  {
   "cell_type": "code",
   "execution_count": 3,
   "id": "16b67b4b-a136-46de-9fc7-b0c3eab0d3eb",
   "metadata": {},
   "outputs": [],
   "source": [
    "real = ['LP002990', 'Female', 'No', '0', 'Graduate', 'Yes', 4583, 0.0, 133.0, 360.0, 0.0, 'Semiurban']"
   ]
  },
  {
   "cell_type": "code",
   "execution_count": 4,
   "id": "9d6f0e7c-fe1a-4e8e-a533-447c042d73d0",
   "metadata": {},
   "outputs": [],
   "source": [
    "real=np.asarray(real).reshape(1,-1)"
   ]
  },
  {
   "cell_type": "code",
   "execution_count": 5,
   "id": "cd5601ee-6c41-4da2-a660-0c220243dbbc",
   "metadata": {},
   "outputs": [],
   "source": [
    "df=pd.DataFrame(real, columns=['Loan_ID','Gender', 'Married', 'Dependents', 'Education','Self_Employed', 'ApplicantIncome', 'CoapplicantIncome', 'LoanAmount','Loan_Amount_Term', 'Credit_History', 'Property_Area'])"
   ]
  },
  {
   "cell_type": "code",
   "execution_count": 6,
   "id": "2fbbabda-b817-4cd6-b3f2-6e41970542cd",
   "metadata": {},
   "outputs": [
    {
     "data": {
      "text/html": [
       "<div>\n",
       "<style scoped>\n",
       "    .dataframe tbody tr th:only-of-type {\n",
       "        vertical-align: middle;\n",
       "    }\n",
       "\n",
       "    .dataframe tbody tr th {\n",
       "        vertical-align: top;\n",
       "    }\n",
       "\n",
       "    .dataframe thead th {\n",
       "        text-align: right;\n",
       "    }\n",
       "</style>\n",
       "<table border=\"1\" class=\"dataframe\">\n",
       "  <thead>\n",
       "    <tr style=\"text-align: right;\">\n",
       "      <th></th>\n",
       "      <th>Loan_ID</th>\n",
       "      <th>Gender</th>\n",
       "      <th>Married</th>\n",
       "      <th>Dependents</th>\n",
       "      <th>Education</th>\n",
       "      <th>Self_Employed</th>\n",
       "      <th>ApplicantIncome</th>\n",
       "      <th>CoapplicantIncome</th>\n",
       "      <th>LoanAmount</th>\n",
       "      <th>Loan_Amount_Term</th>\n",
       "      <th>Credit_History</th>\n",
       "      <th>Property_Area</th>\n",
       "    </tr>\n",
       "  </thead>\n",
       "  <tbody>\n",
       "    <tr>\n",
       "      <th>0</th>\n",
       "      <td>LP002990</td>\n",
       "      <td>Female</td>\n",
       "      <td>No</td>\n",
       "      <td>0</td>\n",
       "      <td>Graduate</td>\n",
       "      <td>Yes</td>\n",
       "      <td>4583</td>\n",
       "      <td>0.0</td>\n",
       "      <td>133.0</td>\n",
       "      <td>360.0</td>\n",
       "      <td>0.0</td>\n",
       "      <td>Semiurban</td>\n",
       "    </tr>\n",
       "  </tbody>\n",
       "</table>\n",
       "</div>"
      ],
      "text/plain": [
       "    Loan_ID  Gender Married Dependents Education Self_Employed  \\\n",
       "0  LP002990  Female      No          0  Graduate           Yes   \n",
       "\n",
       "  ApplicantIncome CoapplicantIncome LoanAmount Loan_Amount_Term  \\\n",
       "0            4583               0.0      133.0            360.0   \n",
       "\n",
       "  Credit_History Property_Area  \n",
       "0            0.0     Semiurban  "
      ]
     },
     "execution_count": 6,
     "metadata": {},
     "output_type": "execute_result"
    }
   ],
   "source": [
    "df"
   ]
  },
  {
   "cell_type": "code",
   "execution_count": null,
   "id": "de1873c4-1aea-4e08-b432-a971d5a7bde4",
   "metadata": {
    "tags": []
   },
   "outputs": [],
   "source": []
  },
  {
   "cell_type": "code",
   "execution_count": 7,
   "id": "8007fbd4-8a63-458b-8458-4f5d0f1d43e5",
   "metadata": {},
   "outputs": [],
   "source": [
    "obj_col=['Gender','Married', 'Dependents', 'Education','Self_Employed','Property_Area']"
   ]
  },
  {
   "cell_type": "code",
   "execution_count": 8,
   "id": "a5c095e5-865a-4b10-a1e9-9a944353c0d7",
   "metadata": {},
   "outputs": [
    {
     "name": "stdout",
     "output_type": "stream",
     "text": [
      "label_Gender.pkl\n",
      "label_Married.pkl\n",
      "label_Dependents.pkl\n",
      "label_Education.pkl\n",
      "label_Self_Employed.pkl\n",
      "label_Property_Area.pkl\n"
     ]
    }
   ],
   "source": [
    "for col in obj_col:\n",
    "    filename='label_'+ col +'.pkl'\n",
    "    print(filename)\n",
    "    with open(filename,'rb') as f:\n",
    "        label=pickle.load(f)\n",
    "    df[col]=label.transform(df[col])"
   ]
  },
  {
   "cell_type": "code",
   "execution_count": 9,
   "id": "6ba257d0-a943-40d4-a646-9b077e3b98ee",
   "metadata": {},
   "outputs": [],
   "source": [
    "df.drop('Loan_ID',axis=1,inplace=True)"
   ]
  },
  {
   "cell_type": "code",
   "execution_count": 10,
   "id": "6c792dfc-53f6-4eb2-9017-7c97a55b81eb",
   "metadata": {},
   "outputs": [],
   "source": [
    "with open('scaler.pkl','rb') as f:\n",
    "        scaler=pickle.load(f)"
   ]
  },
  {
   "cell_type": "code",
   "execution_count": 11,
   "id": "38b05540-6d0b-4458-befd-6528a3f6c705",
   "metadata": {},
   "outputs": [],
   "source": [
    "df=scaler.transform(df)"
   ]
  },
  {
   "cell_type": "code",
   "execution_count": 12,
   "id": "67267b73-24ad-405d-aa30-834e41ebfdc8",
   "metadata": {},
   "outputs": [],
   "source": [
    "with open('model.pkl','rb') as f:\n",
    "        model=pickle.load(f)"
   ]
  },
  {
   "cell_type": "code",
   "execution_count": 13,
   "id": "ef2d29d2-4f80-442c-99af-19412f739798",
   "metadata": {},
   "outputs": [],
   "source": [
    "prdict=model.predict(df)"
   ]
  },
  {
   "cell_type": "code",
   "execution_count": null,
   "id": "c1082c6a-01dc-4903-805e-ca9895ddba57",
   "metadata": {},
   "outputs": [],
   "source": []
  }
 ],
 "metadata": {
  "kernelspec": {
   "display_name": "Python 3 (ipykernel)",
   "language": "python",
   "name": "python3"
  },
  "language_info": {
   "codemirror_mode": {
    "name": "ipython",
    "version": 3
   },
   "file_extension": ".py",
   "mimetype": "text/x-python",
   "name": "python",
   "nbconvert_exporter": "python",
   "pygments_lexer": "ipython3",
   "version": "3.9.12"
  }
 },
 "nbformat": 4,
 "nbformat_minor": 5
}
