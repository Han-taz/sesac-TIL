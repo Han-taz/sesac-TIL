{
 "cells": [
  {
   "cell_type": "code",
   "execution_count": 1,
   "id": "dea5b0d7-9f19-4da7-a1d7-5da82abf978d",
   "metadata": {},
   "outputs": [],
   "source": [
    "import pandas as pd\n",
    "import numpy as np\n",
    "import pickle"
   ]
  },
  {
   "cell_type": "code",
   "execution_count": 2,
   "id": "301fd486-019d-4b23-8eca-7404997597c7",
   "metadata": {},
   "outputs": [],
   "source": [
    "from sklearn.model_selection import train_test_split\n",
    "import warnings\n",
    "warnings.filterwarnings(action='ignore')\n",
    "from sklearn.svm import SVC\n",
    "from sklearn.preprocessing import LabelEncoder\n",
    "from sklearn.preprocessing import MinMaxScaler\n",
    "from sklearn.preprocessing import StandardScaler\n",
    "from sklearn.linear_model import LogisticRegression"
   ]
  },
  {
   "cell_type": "markdown",
   "id": "cfeae2fe-eafc-4012-806c-59c407bdb921",
   "metadata": {},
   "source": [
    "## comprehension\n",
    "1. list\n",
    "2. set\n",
    "3. dict"
   ]
  },
  {
   "cell_type": "markdown",
   "id": "d9fe5502-9882-497d-b4ae-bc83fc04a915",
   "metadata": {},
   "source": [
    "list Comprehension  \n",
    "[출력표현식 for 요소 in 입력Sequence[if 조건식]]"
   ]
  },
  {
   "cell_type": "code",
   "execution_count": 24,
   "id": "16674fcd-9e9b-4afb-a1fa-c0468a5795ae",
   "metadata": {},
   "outputs": [],
   "source": [
    "a=[]\n",
    "for j in range(1,10):\n",
    "        a.append(2*j)"
   ]
  },
  {
   "cell_type": "code",
   "execution_count": 25,
   "id": "7fba391d-4c19-45e2-933e-34b5f718e0ac",
   "metadata": {},
   "outputs": [
    {
     "data": {
      "text/plain": [
       "[2, 4, 6, 8, 10, 12, 14, 16, 18]"
      ]
     },
     "execution_count": 25,
     "metadata": {},
     "output_type": "execute_result"
    }
   ],
   "source": [
    "a"
   ]
  },
  {
   "cell_type": "code",
   "execution_count": 27,
   "id": "3ac9dc95-b1ca-4d16-8eac-88d4da915c5a",
   "metadata": {
    "jp-MarkdownHeadingCollapsed": true,
    "tags": []
   },
   "outputs": [
    {
     "data": {
      "text/plain": [
       "[2, 4, 6, 8, 10, 12, 14, 16, 18]"
      ]
     },
     "execution_count": 27,
     "metadata": {},
     "output_type": "execute_result"
    }
   ],
   "source": [
    "[2*j for j in range(1,10)]"
   ]
  },
  {
   "cell_type": "code",
   "execution_count": 29,
   "id": "2b16ca46-101f-4129-ac91-59c92df92463",
   "metadata": {},
   "outputs": [],
   "source": [
    "###1~10까지 제곱 출력하기"
   ]
  },
  {
   "cell_type": "code",
   "execution_count": 30,
   "id": "189bf024-6690-4cf3-8df2-18df42b6fbbf",
   "metadata": {},
   "outputs": [
    {
     "name": "stdout",
     "output_type": "stream",
     "text": [
      "1\n",
      "4\n",
      "9\n",
      "16\n",
      "25\n",
      "36\n",
      "49\n",
      "64\n",
      "81\n",
      "100\n"
     ]
    }
   ],
   "source": [
    "for i in range(1,11):\n",
    "    print(i**2)"
   ]
  },
  {
   "cell_type": "code",
   "execution_count": 31,
   "id": "23a1ccfb-44ba-4300-9bcd-34cb3b4d629d",
   "metadata": {},
   "outputs": [
    {
     "data": {
      "text/plain": [
       "[1, 4, 9, 16, 25, 36, 49, 64, 81, 100]"
      ]
     },
     "execution_count": 31,
     "metadata": {},
     "output_type": "execute_result"
    }
   ],
   "source": [
    "[i**2 for i in range(1,11)]"
   ]
  },
  {
   "cell_type": "code",
   "execution_count": 32,
   "id": "2cd74392-835d-49a0-8b90-8ddf38f7ec3a",
   "metadata": {},
   "outputs": [
    {
     "data": {
      "text/plain": [
       "[1, 4, 9, 16, 25, 36, 49, 64, 81, 100]"
      ]
     },
     "execution_count": 32,
     "metadata": {},
     "output_type": "execute_result"
    }
   ],
   "source": [
    "[i*i for i in range(1,11)]"
   ]
  },
  {
   "cell_type": "markdown",
   "id": "7475023e-8e85-476e-8556-119676c3f1a8",
   "metadata": {},
   "source": [
    "1~20까지 짝수만 넣기"
   ]
  },
  {
   "cell_type": "code",
   "execution_count": 39,
   "id": "31aec919-838a-4caf-a21c-58637ec0f980",
   "metadata": {},
   "outputs": [],
   "source": [
    "b=[]\n",
    "for i in range(1,21):\n",
    "    if i%2==0:\n",
    "        b.append(i)"
   ]
  },
  {
   "cell_type": "code",
   "execution_count": 41,
   "id": "2f860ceb-712e-416f-9508-41f3738341bd",
   "metadata": {},
   "outputs": [
    {
     "data": {
      "text/plain": [
       "[2, 4, 6, 8, 10, 12, 14, 16, 18, 20]"
      ]
     },
     "execution_count": 41,
     "metadata": {},
     "output_type": "execute_result"
    }
   ],
   "source": [
    "[i for i in range(1,21) if i%2==0]"
   ]
  },
  {
   "cell_type": "markdown",
   "id": "a7621460-34a8-49a3-8d8c-73747442e5b2",
   "metadata": {},
   "source": [
    "oldlist에 숫자만 뽑아서 newlist를 만들어라"
   ]
  },
  {
   "cell_type": "code",
   "execution_count": 42,
   "id": "9683c9ba-8e0b-430e-a12e-10258a4cce93",
   "metadata": {},
   "outputs": [],
   "source": [
    "oldlist=[1,2,'A',False,3]"
   ]
  },
  {
   "cell_type": "code",
   "execution_count": 49,
   "id": "f21c3bae-2c39-43ba-a6d8-d6ef27a1a79d",
   "metadata": {},
   "outputs": [],
   "source": [
    "newlist= [i*i for i in oldlist if type(i)== int ]"
   ]
  },
  {
   "cell_type": "code",
   "execution_count": 50,
   "id": "27fd2929-2736-47ad-ab90-0e591d7af881",
   "metadata": {},
   "outputs": [
    {
     "data": {
      "text/plain": [
       "[1, 4, 9]"
      ]
     },
     "execution_count": 50,
     "metadata": {},
     "output_type": "execute_result"
    }
   ],
   "source": [
    "newlist"
   ]
  },
  {
   "cell_type": "code",
   "execution_count": 51,
   "id": "2cc188f5-8c17-4a20-be20-822ed1d27a22",
   "metadata": {},
   "outputs": [
    {
     "data": {
      "text/plain": [
       "True"
      ]
     },
     "execution_count": 51,
     "metadata": {},
     "output_type": "execute_result"
    }
   ],
   "source": [
    "isinstance(1, int)"
   ]
  },
  {
   "cell_type": "code",
   "execution_count": 53,
   "id": "f0467fa2-e743-4bda-9703-34a1c65cb3a3",
   "metadata": {},
   "outputs": [],
   "source": [
    "oldlist1=[1,1,2,3,3,4]"
   ]
  },
  {
   "cell_type": "markdown",
   "id": "a4efe15c-1368-4ddc-a5f1-40acc29b53e2",
   "metadata": {},
   "source": [
    "set Comprehension  "
   ]
  },
  {
   "cell_type": "code",
   "execution_count": 54,
   "id": "00876ea8-6836-4466-858f-ef59ed524fa9",
   "metadata": {},
   "outputs": [
    {
     "data": {
      "text/plain": [
       "{1, 4, 9, 16}"
      ]
     },
     "execution_count": 54,
     "metadata": {},
     "output_type": "execute_result"
    }
   ],
   "source": [
    "{i*i for i in oldlist1}"
   ]
  },
  {
   "cell_type": "markdown",
   "id": "b7ba69be-e913-42ed-9025-0765d42f1eff",
   "metadata": {},
   "source": [
    "dictonary Comprehension   \n",
    "{key:value for 요소 in 입력 sequence[if 조건식]}"
   ]
  },
  {
   "cell_type": "code",
   "execution_count": 56,
   "id": "cb7416d0-e124-43eb-b745-024fb17f68b7",
   "metadata": {},
   "outputs": [],
   "source": [
    "id_name={1:'남성현',2:'고상현',3:'윤승현'}### 키와 벨류를 바꿔라"
   ]
  },
  {
   "cell_type": "code",
   "execution_count": 75,
   "id": "156f8333-a255-492b-b49f-52d0ea5fe447",
   "metadata": {},
   "outputs": [
    {
     "data": {
      "text/plain": [
       "dict_values(['남성현', '고상현', '윤승현'])"
      ]
     },
     "execution_count": 75,
     "metadata": {},
     "output_type": "execute_result"
    }
   ],
   "source": [
    "id_name.values()"
   ]
  },
  {
   "cell_type": "code",
   "execution_count": 71,
   "id": "b5f8bed9-8f05-4c0e-b0f4-74aaa83b3fdd",
   "metadata": {},
   "outputs": [
    {
     "name": "stdout",
     "output_type": "stream",
     "text": [
      "(1, '남성현')\n",
      "(2, '고상현')\n",
      "(3, '윤승현')\n"
     ]
    }
   ],
   "source": [
    "for i in id_name.items():\n",
    "    print(i)"
   ]
  },
  {
   "cell_type": "code",
   "execution_count": 84,
   "id": "5fb12ac3-221f-4556-9b6c-c14dcdcd936c",
   "metadata": {},
   "outputs": [],
   "source": [
    "name={}\n",
    "for i,j in id_name.items():\n",
    "    name[j]=i"
   ]
  },
  {
   "cell_type": "code",
   "execution_count": 127,
   "id": "a45c7c07-37ad-4577-881c-b298d49b8a0c",
   "metadata": {},
   "outputs": [
    {
     "data": {
      "text/plain": [
       "{'남성현': 1, '고상현': 2, '윤승현': 3}"
      ]
     },
     "execution_count": 127,
     "metadata": {},
     "output_type": "execute_result"
    }
   ],
   "source": [
    "name"
   ]
  },
  {
   "cell_type": "code",
   "execution_count": 88,
   "id": "3fd034d7-3fc9-475f-85a4-7652382acd92",
   "metadata": {},
   "outputs": [
    {
     "data": {
      "text/plain": [
       "{'남성현': 1, '고상현': 2, '윤승현': 3}"
      ]
     },
     "execution_count": 88,
     "metadata": {},
     "output_type": "execute_result"
    }
   ],
   "source": [
    "{j:i for i,j in id_name.items() }"
   ]
  },
  {
   "cell_type": "code",
   "execution_count": 90,
   "id": "22df46e9-6bfc-450a-8b2d-2f3e5b83c1ac",
   "metadata": {},
   "outputs": [],
   "source": [
    "b={1:'남성현',2:'고상현',3:'윤승현'}"
   ]
  },
  {
   "cell_type": "code",
   "execution_count": 93,
   "id": "de8ee917-07c5-45ae-9436-280ced0d70ff",
   "metadata": {},
   "outputs": [
    {
     "data": {
      "text/plain": [
       "dict_items([(1, '남성현'), (2, '고상현'), (3, '윤승현')])"
      ]
     },
     "execution_count": 93,
     "metadata": {},
     "output_type": "execute_result"
    }
   ],
   "source": [
    "b.items()"
   ]
  },
  {
   "cell_type": "code",
   "execution_count": 94,
   "id": "cd1e3aa6-e571-4dfc-8cd4-1bf3b3d82129",
   "metadata": {},
   "outputs": [
    {
     "data": {
      "text/plain": [
       "dict_keys([1, 2, 3])"
      ]
     },
     "execution_count": 94,
     "metadata": {},
     "output_type": "execute_result"
    }
   ],
   "source": [
    "b.keys()"
   ]
  },
  {
   "cell_type": "code",
   "execution_count": 95,
   "id": "ef6bf2ac-b12b-4a84-8ea4-69d44076b350",
   "metadata": {},
   "outputs": [
    {
     "data": {
      "text/plain": [
       "dict_values(['남성현', '고상현', '윤승현'])"
      ]
     },
     "execution_count": 95,
     "metadata": {},
     "output_type": "execute_result"
    }
   ],
   "source": [
    "b.values()"
   ]
  },
  {
   "cell_type": "code",
   "execution_count": 104,
   "id": "1ed6dd42-5e15-4d84-b414-41de084c77dc",
   "metadata": {},
   "outputs": [
    {
     "data": {
      "text/plain": [
       "dict_keys(['남성현', '고상현', '윤승현'])"
      ]
     },
     "execution_count": 104,
     "metadata": {},
     "output_type": "execute_result"
    }
   ],
   "source": [
    "name.keys()"
   ]
  },
  {
   "cell_type": "code",
   "execution_count": 121,
   "id": "4129b433-de24-4f3a-be8d-6f25a50ab456",
   "metadata": {},
   "outputs": [],
   "source": [
    "a={}"
   ]
  },
  {
   "cell_type": "code",
   "execution_count": 113,
   "id": "589d299d-f17c-423c-9534-f9c1fac1c8a8",
   "metadata": {},
   "outputs": [
    {
     "ename": "TypeError",
     "evalue": "int() argument must be a string, a bytes-like object or a number, not 'dict_keys'",
     "output_type": "error",
     "traceback": [
      "\u001b[1;31m---------------------------------------------------------------------------\u001b[0m",
      "\u001b[1;31mTypeError\u001b[0m                                 Traceback (most recent call last)",
      "Input \u001b[1;32mIn [113]\u001b[0m, in \u001b[0;36m<cell line: 1>\u001b[1;34m()\u001b[0m\n\u001b[1;32m----> 1\u001b[0m a[\u001b[38;5;28;43mint\u001b[39;49m\u001b[43m(\u001b[49m\u001b[43mname\u001b[49m\u001b[38;5;241;43m.\u001b[39;49m\u001b[43mkeys\u001b[49m\u001b[43m(\u001b[49m\u001b[43m)\u001b[49m\u001b[43m)\u001b[49m]\u001b[38;5;241m=\u001b[39mname\u001b[38;5;241m.\u001b[39mvalues()\n",
      "\u001b[1;31mTypeError\u001b[0m: int() argument must be a string, a bytes-like object or a number, not 'dict_keys'"
     ]
    }
   ],
   "source": [
    "a[int(name.keys())]=name.values()"
   ]
  },
  {
   "cell_type": "code",
   "execution_count": 112,
   "id": "27aaf2ea-695b-4793-9c37-6c7c6929515a",
   "metadata": {},
   "outputs": [
    {
     "data": {
      "text/plain": [
       "{'s': 1}"
      ]
     },
     "execution_count": 112,
     "metadata": {},
     "output_type": "execute_result"
    }
   ],
   "source": [
    "a"
   ]
  },
  {
   "cell_type": "code",
   "execution_count": 124,
   "id": "be2dd756-5f67-4c8a-9dff-32fbec3cd2ef",
   "metadata": {},
   "outputs": [],
   "source": [
    "for i in list(name.keys()):\n",
    "    for j in list(name.values()):\n",
    "        a[j]=i"
   ]
  },
  {
   "cell_type": "code",
   "execution_count": 125,
   "id": "74ba9f5f-8a00-4b8e-b327-e981a1e4d093",
   "metadata": {},
   "outputs": [
    {
     "data": {
      "text/plain": [
       "{1: '윤승현', 2: '윤승현', 3: '윤승현'}"
      ]
     },
     "execution_count": 125,
     "metadata": {},
     "output_type": "execute_result"
    }
   ],
   "source": [
    "a"
   ]
  },
  {
   "cell_type": "code",
   "execution_count": null,
   "id": "7ec3b280-3678-4200-810f-b5e5d859515e",
   "metadata": {},
   "outputs": [],
   "source": [
    "name={}\n",
    "for i,j in id_name.items():\n",
    "    name[j]=i"
   ]
  },
  {
   "cell_type": "markdown",
   "id": "85acd8df-b7d6-4271-ba4b-255c3ec85793",
   "metadata": {},
   "source": [
    "value가 2인 key를 출력하세요"
   ]
  },
  {
   "cell_type": "code",
   "execution_count": 126,
   "id": "008e90ed-c6d8-4684-9e88-bd332c4931e1",
   "metadata": {},
   "outputs": [
    {
     "data": {
      "text/plain": [
       "{'남성현': 1, '고상현': 2, '윤승현': 3}"
      ]
     },
     "execution_count": 126,
     "metadata": {},
     "output_type": "execute_result"
    }
   ],
   "source": [
    "name"
   ]
  },
  {
   "cell_type": "code",
   "execution_count": 134,
   "id": "b3b5b90f-01b7-4cc1-9015-b0d7a6a222c4",
   "metadata": {},
   "outputs": [
    {
     "data": {
      "text/plain": [
       "{1: '남성현', 2: '고상현', 3: '윤승현'}"
      ]
     },
     "execution_count": 134,
     "metadata": {},
     "output_type": "execute_result"
    }
   ],
   "source": [
    "id_name"
   ]
  },
  {
   "cell_type": "markdown",
   "id": "bca018c1-e5c3-4bc5-906f-f5df14aca5c6",
   "metadata": {},
   "source": [
    "list comprehension으로 name_id에서 val가 2인 key 출력하세요"
   ]
  },
  {
   "cell_type": "code",
   "execution_count": 142,
   "id": "a6f25910-8c33-4b9a-a6d3-d9b0f3a924ae",
   "metadata": {},
   "outputs": [
    {
     "data": {
      "text/plain": [
       "'고상현'"
      ]
     },
     "execution_count": 142,
     "metadata": {},
     "output_type": "execute_result"
    }
   ],
   "source": [
    "[j for i,j in id_name.items() if i ==2][0]"
   ]
  },
  {
   "cell_type": "code",
   "execution_count": 143,
   "id": "5a8b63da-e484-407c-8f28-197d2fb16386",
   "metadata": {},
   "outputs": [
    {
     "data": {
      "text/plain": [
       "'윤승현'"
      ]
     },
     "execution_count": 143,
     "metadata": {},
     "output_type": "execute_result"
    }
   ],
   "source": [
    "[j for i,j in id_name.items() if i ==3][0]"
   ]
  },
  {
   "cell_type": "markdown",
   "id": "4b6a60ac-3c20-4bdd-a369-53ade7da1656",
   "metadata": {},
   "source": [
    "comprehension이용하여 1~10까지 홀수를 key로 하고 value는 key의 제곱으로 하는 Dict만들기"
   ]
  },
  {
   "cell_type": "code",
   "execution_count": 150,
   "id": "8c8fe5bc-6a79-41e0-8576-03ec290dffa2",
   "metadata": {},
   "outputs": [
    {
     "data": {
      "text/plain": [
       "{1: 1, 3: 9, 5: 25, 7: 49, 9: 81}"
      ]
     },
     "execution_count": 150,
     "metadata": {},
     "output_type": "execute_result"
    }
   ],
   "source": [
    "{i:i*i for i in range(1,11) if i%2==1 }"
   ]
  },
  {
   "cell_type": "markdown",
   "id": "d462df6d-628d-4e2f-94b9-508523515d24",
   "metadata": {},
   "source": [
    "## partial  \n",
    "- 매개변수가 1개인 함수에 여러 매개변수를 전달해야 할 때 많이 사용\n"
   ]
  },
  {
   "cell_type": "code",
   "execution_count": 162,
   "id": "f47307e5-c738-4460-ba93-331e282f1d31",
   "metadata": {},
   "outputs": [],
   "source": [
    "def double(x):\n",
    "    return x**2\n",
    "def triple(x):\n",
    "    return x**3\n",
    "def multiple(x,y):\n",
    "    return x**y"
   ]
  },
  {
   "cell_type": "code",
   "execution_count": 154,
   "id": "38bcf293-6d51-4558-b2a0-f5c719b7f5d1",
   "metadata": {},
   "outputs": [
    {
     "name": "stdout",
     "output_type": "stream",
     "text": [
      "16\n",
      "64\n"
     ]
    }
   ],
   "source": [
    "print(double(4))\n",
    "print(triple(4))"
   ]
  },
  {
   "cell_type": "code",
   "execution_count": 155,
   "id": "f3b2e15f-02a8-41c5-98ed-6d03ef091654",
   "metadata": {},
   "outputs": [],
   "source": [
    "from functools import partial"
   ]
  },
  {
   "cell_type": "code",
   "execution_count": 163,
   "id": "1c26d299-8dae-458a-b5df-a361dd929a5d",
   "metadata": {},
   "outputs": [],
   "source": [
    "db1=partial(multiple,y=2)\n",
    "tp1=partial(multiple,y=3)"
   ]
  },
  {
   "cell_type": "code",
   "execution_count": 169,
   "id": "725adc09-323e-41c4-8bd7-200db855dc8e",
   "metadata": {},
   "outputs": [
    {
     "data": {
      "text/plain": [
       "100"
      ]
     },
     "execution_count": 169,
     "metadata": {},
     "output_type": "execute_result"
    }
   ],
   "source": [
    "db1(10)"
   ]
  },
  {
   "cell_type": "code",
   "execution_count": 176,
   "id": "897d1277-91a4-4cd6-b94d-c53284cb9c8a",
   "metadata": {},
   "outputs": [
    {
     "data": {
      "text/plain": [
       "512"
      ]
     },
     "execution_count": 176,
     "metadata": {},
     "output_type": "execute_result"
    }
   ],
   "source": [
    "tp1()"
   ]
  },
  {
   "cell_type": "code",
   "execution_count": null,
   "id": "6c2fd639-042b-4adf-a042-5e991d9cb3e4",
   "metadata": {},
   "outputs": [],
   "source": []
  }
 ],
 "metadata": {
  "kernelspec": {
   "display_name": "Python 3 (ipykernel)",
   "language": "python",
   "name": "python3"
  },
  "language_info": {
   "codemirror_mode": {
    "name": "ipython",
    "version": 3
   },
   "file_extension": ".py",
   "mimetype": "text/x-python",
   "name": "python",
   "nbconvert_exporter": "python",
   "pygments_lexer": "ipython3",
   "version": "3.9.12"
  }
 },
 "nbformat": 4,
 "nbformat_minor": 5
}
