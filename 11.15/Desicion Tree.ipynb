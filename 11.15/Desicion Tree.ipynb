{
 "cells": [
  {
   "cell_type": "code",
   "execution_count": 154,
   "id": "68f0c94d-6010-4313-ba32-f36af97ac3ff",
   "metadata": {},
   "outputs": [],
   "source": [
    "import pandas as pd\n",
    "import numpy as np\n",
    "import pickle\n",
    "import math\n",
    "from collections import Counter ,defaultdict\n",
    "from functools import partial"
   ]
  },
  {
   "cell_type": "code",
   "execution_count": 178,
   "id": "3ed898dc-8609-43d5-a7ed-110cdb78dfbe",
   "metadata": {},
   "outputs": [],
   "source": [
    "inputs = [({'level':'Senior','lang':'Java','tweets':'no','phd':'no'},   False),\n",
    "        ({'level':'Senior','lang':'Java','tweets':'no','phd':'yes'},  False),\n",
    "        ({'level':'Mid','lang':'Python','tweets':'no','phd':'no'},     True),\n",
    "        ({'level':'Junior','lang':'Python','tweets':'no','phd':'no'},  True),\n",
    "        ({'level':'Junior','lang':'R','tweets':'yes','phd':'no'},      True),\n",
    "        ({'level':'Junior','lang':'R','tweets':'yes','phd':'yes'},    False),\n",
    "        ({'level':'Mid','lang':'R','tweets':'yes','phd':'yes'},        True),\n",
    "        ({'level':'Senior','lang':'Python','tweets':'no','phd':'no'}, False),\n",
    "        ({'level':'Senior','lang':'R','tweets':'yes','phd':'no'},      True),\n",
    "        ({'level':'Junior','lang':'Python','tweets':'yes','phd':'no'}, True),\n",
    "        ({'level':'Senior','lang':'Python','tweets':'yes','phd':'yes'},True),\n",
    "        ({'level':'Mid','lang':'Python','tweets':'no','phd':'yes'},    True),\n",
    "        ({'level':'Mid','lang':'Java','tweets':'yes','phd':'no'},      True),\n",
    "        ({'level':'Junior','lang':'Python','tweets':'no','phd':'yes'},False)]\n",
    "\n",
    "\n",
    "\n",
    "\n",
    "\n",
    "\n",
    "\n"
   ]
  },
  {
   "cell_type": "code",
   "execution_count": 12,
   "id": "785c9adb-d498-4bb7-bfa0-01ec99c4341b",
   "metadata": {},
   "outputs": [
    {
     "data": {
      "text/plain": [
       "({'level': 'Senior', 'lang': 'Java', 'tweets': 'no', 'phd': 'no'}, False)"
      ]
     },
     "execution_count": 12,
     "metadata": {},
     "output_type": "execute_result"
    }
   ],
   "source": [
    "inputs[0]"
   ]
  },
  {
   "cell_type": "code",
   "execution_count": 13,
   "id": "d21357dc-1f20-48e8-b573-7bc613405587",
   "metadata": {},
   "outputs": [
    {
     "data": {
      "text/plain": [
       "{'level': 'Senior', 'lang': 'Java', 'tweets': 'no', 'phd': 'no'}"
      ]
     },
     "execution_count": 13,
     "metadata": {},
     "output_type": "execute_result"
    }
   ],
   "source": [
    "inputs[0][0]"
   ]
  },
  {
   "cell_type": "code",
   "execution_count": 49,
   "id": "7e19fcec-1458-4bb1-8e82-6518fbd769cb",
   "metadata": {},
   "outputs": [
    {
     "name": "stdout",
     "output_type": "stream",
     "text": [
      "{'level': 'Senior', 'lang': 'Java', 'tweets': 'no', 'phd': 'no'}\n",
      "{'level': 'Senior', 'lang': 'Java', 'tweets': 'no', 'phd': 'yes'}\n",
      "{'level': 'Mid', 'lang': 'Python', 'tweets': 'no', 'phd': 'no'}\n",
      "{'level': 'Junior', 'lang': 'Python', 'tweets': 'no', 'phd': 'no'}\n",
      "{'level': 'Junior', 'lang': 'R', 'tweets': 'yes', 'phd': 'no'}\n",
      "{'level': 'Junior', 'lang': 'R', 'tweets': 'yes', 'phd': 'yes'}\n",
      "{'level': 'Mid', 'lang': 'R', 'tweets': 'yes', 'phd': 'yes'}\n",
      "{'level': 'Senior', 'lang': 'Python', 'tweets': 'no', 'phd': 'no'}\n",
      "{'level': 'Senior', 'lang': 'R', 'tweets': 'yes', 'phd': 'no'}\n",
      "{'level': 'Junior', 'lang': 'Python', 'tweets': 'yes', 'phd': 'no'}\n",
      "{'level': 'Senior', 'lang': 'Python', 'tweets': 'yes', 'phd': 'yes'}\n",
      "{'level': 'Mid', 'lang': 'Python', 'tweets': 'no', 'phd': 'yes'}\n",
      "{'level': 'Mid', 'lang': 'Java', 'tweets': 'yes', 'phd': 'no'}\n",
      "{'level': 'Junior', 'lang': 'Python', 'tweets': 'no', 'phd': 'yes'}\n"
     ]
    }
   ],
   "source": [
    "for i, j in inputs:\n",
    "    print(i)"
   ]
  },
  {
   "cell_type": "code",
   "execution_count": 41,
   "id": "ac4b2e3e-24b8-466c-838a-da7a24f6209a",
   "metadata": {},
   "outputs": [
    {
     "data": {
      "text/plain": [
       "{'level': 'Mid', 'lang': 'Python', 'tweets': 'no', 'phd': 'no'}"
      ]
     },
     "execution_count": 41,
     "metadata": {},
     "output_type": "execute_result"
    }
   ],
   "source": [
    "inputs[2][0]"
   ]
  },
  {
   "cell_type": "code",
   "execution_count": 15,
   "id": "99214480-f26a-4e0b-a8ce-280e06c03b21",
   "metadata": {},
   "outputs": [
    {
     "data": {
      "text/plain": [
       "{'level': 'Senior', 'lang': 'Java', 'tweets': 'no', 'phd': 'yes'}"
      ]
     },
     "execution_count": 15,
     "metadata": {},
     "output_type": "execute_result"
    }
   ],
   "source": [
    "inputs[1][0]"
   ]
  },
  {
   "cell_type": "code",
   "execution_count": 17,
   "id": "4bbe6f62-f66c-4a1a-9646-63acfb794cad",
   "metadata": {},
   "outputs": [
    {
     "name": "stdout",
     "output_type": "stream",
     "text": [
      "({'level': 'Senior', 'lang': 'Java', 'tweets': 'no', 'phd': 'no'}, False)\n",
      "({'level': 'Senior', 'lang': 'Java', 'tweets': 'no', 'phd': 'yes'}, False)\n",
      "({'level': 'Senior', 'lang': 'Python', 'tweets': 'no', 'phd': 'no'}, False)\n",
      "({'level': 'Senior', 'lang': 'R', 'tweets': 'yes', 'phd': 'no'}, True)\n",
      "({'level': 'Senior', 'lang': 'Python', 'tweets': 'yes', 'phd': 'yes'}, True)\n"
     ]
    }
   ],
   "source": [
    "for i in inputs:\n",
    "    if i[0]['level']=='Senior':\n",
    "        print(i)"
   ]
  },
  {
   "cell_type": "code",
   "execution_count": 18,
   "id": "1ac438b3-3ea7-4090-9b85-3e9acfe2e6a2",
   "metadata": {},
   "outputs": [
    {
     "data": {
      "text/plain": [
       "[({'level': 'Senior', 'lang': 'Java', 'tweets': 'no', 'phd': 'no'}, False),\n",
       " ({'level': 'Senior', 'lang': 'Java', 'tweets': 'no', 'phd': 'yes'}, False),\n",
       " ({'level': 'Senior', 'lang': 'Python', 'tweets': 'no', 'phd': 'no'}, False),\n",
       " ({'level': 'Senior', 'lang': 'R', 'tweets': 'yes', 'phd': 'no'}, True),\n",
       " ({'level': 'Senior', 'lang': 'Python', 'tweets': 'yes', 'phd': 'yes'}, True)]"
      ]
     },
     "execution_count": 18,
     "metadata": {},
     "output_type": "execute_result"
    }
   ],
   "source": [
    "[i for i in inputs if i[0]['level']=='Senior']"
   ]
  },
  {
   "cell_type": "code",
   "execution_count": 51,
   "id": "f2b764ce-7856-41a5-9d99-bd618c53103b",
   "metadata": {},
   "outputs": [],
   "source": [
    "p=5/10\n",
    "q=5/10"
   ]
  },
  {
   "cell_type": "code",
   "execution_count": 53,
   "id": "15858ee8-1fbc-4799-afaf-3a9728593270",
   "metadata": {},
   "outputs": [
    {
     "data": {
      "text/plain": [
       "1.0"
      ]
     },
     "execution_count": 53,
     "metadata": {},
     "output_type": "execute_result"
    }
   ],
   "source": [
    "-p*math.log(p,2)-q*math.log(q,2)"
   ]
  },
  {
   "cell_type": "code",
   "execution_count": 54,
   "id": "70943e6a-c83a-4da0-8bd2-9266ab91d853",
   "metadata": {},
   "outputs": [],
   "source": [
    "#레벨이 시니어일 때 True False"
   ]
  },
  {
   "cell_type": "code",
   "execution_count": 55,
   "id": "717acc65-c87c-431c-948d-a9f4224e3b34",
   "metadata": {},
   "outputs": [],
   "source": [
    "class_probabilities=[5/10,5/10]"
   ]
  },
  {
   "cell_type": "code",
   "execution_count": 56,
   "id": "57ea06a2-1267-452f-b578-293a0ace4194",
   "metadata": {},
   "outputs": [],
   "source": [
    "# 엔트로피 공식\n",
    "def entropy(class_probabilities):\n",
    "    return sum(-p*math.log(p,2) for p in class_probabilities if p)"
   ]
  },
  {
   "cell_type": "code",
   "execution_count": 57,
   "id": "2ee1bd3e-80ad-43b7-b41e-9fb4c5b4d571",
   "metadata": {},
   "outputs": [
    {
     "data": {
      "text/plain": [
       "1.0"
      ]
     },
     "execution_count": 57,
     "metadata": {},
     "output_type": "execute_result"
    }
   ],
   "source": [
    "entropy(class_probabilities)"
   ]
  },
  {
   "cell_type": "code",
   "execution_count": 58,
   "id": "f5044c43-c7dc-4082-98d6-6934463411f5",
   "metadata": {},
   "outputs": [],
   "source": [
    "labeled_data=[i for i in inputs if i[0]['level']=='Senior']"
   ]
  },
  {
   "cell_type": "code",
   "execution_count": 59,
   "id": "e9e228f8-2626-41c9-b9f9-1b832f57f6f7",
   "metadata": {},
   "outputs": [
    {
     "data": {
      "text/plain": [
       "[({'level': 'Senior', 'lang': 'Java', 'tweets': 'no', 'phd': 'no'}, False),\n",
       " ({'level': 'Senior', 'lang': 'Java', 'tweets': 'no', 'phd': 'yes'}, False),\n",
       " ({'level': 'Senior', 'lang': 'Python', 'tweets': 'no', 'phd': 'no'}, False),\n",
       " ({'level': 'Senior', 'lang': 'R', 'tweets': 'yes', 'phd': 'no'}, True),\n",
       " ({'level': 'Senior', 'lang': 'Python', 'tweets': 'yes', 'phd': 'yes'}, True)]"
      ]
     },
     "execution_count": 59,
     "metadata": {},
     "output_type": "execute_result"
    }
   ],
   "source": [
    "labeled_data"
   ]
  },
  {
   "cell_type": "code",
   "execution_count": 62,
   "id": "7c830259-f0de-4243-98db-8b47f7e18c75",
   "metadata": {},
   "outputs": [],
   "source": [
    "labels=[label for _, label in labeled_data]"
   ]
  },
  {
   "cell_type": "code",
   "execution_count": 75,
   "id": "00f53ccb-c7cc-4a7c-a195-bba61f5d23da",
   "metadata": {},
   "outputs": [
    {
     "data": {
      "text/plain": [
       "[False, False, False, True, True]"
      ]
     },
     "execution_count": 75,
     "metadata": {},
     "output_type": "execute_result"
    }
   ],
   "source": [
    "labels"
   ]
  },
  {
   "cell_type": "code",
   "execution_count": 67,
   "id": "54aa16d6-66b5-4f6a-8f10-8f2da48b47c5",
   "metadata": {},
   "outputs": [],
   "source": [
    "total=len(labels)"
   ]
  },
  {
   "cell_type": "code",
   "execution_count": 69,
   "id": "6001ae86-f33f-4e71-a0cd-9381a12d81cc",
   "metadata": {},
   "outputs": [
    {
     "data": {
      "text/plain": [
       "[3, 2]"
      ]
     },
     "execution_count": 69,
     "metadata": {},
     "output_type": "execute_result"
    }
   ],
   "source": [
    "[count for count in Counter(labels).values()]"
   ]
  },
  {
   "cell_type": "code",
   "execution_count": 72,
   "id": "defee531-2cff-4bb1-a5c6-84487db702f5",
   "metadata": {},
   "outputs": [],
   "source": [
    "def class_probabilities(labels):\n",
    "    total= len(labels)\n",
    "    return [count/total for count in Counter(labels).values()]"
   ]
  },
  {
   "cell_type": "code",
   "execution_count": 76,
   "id": "b011940c-f0cb-48c3-a0e8-c8aa490e28ef",
   "metadata": {},
   "outputs": [
    {
     "data": {
      "text/plain": [
       "[0.6, 0.4]"
      ]
     },
     "execution_count": 76,
     "metadata": {},
     "output_type": "execute_result"
    }
   ],
   "source": [
    "class_probabilities(labels)"
   ]
  },
  {
   "cell_type": "code",
   "execution_count": 70,
   "id": "6b1cf83b-0adc-4c10-b85c-ef4e651bfbb2",
   "metadata": {},
   "outputs": [
    {
     "data": {
      "text/plain": [
       "[0.6, 0.4]"
      ]
     },
     "execution_count": 70,
     "metadata": {},
     "output_type": "execute_result"
    }
   ],
   "source": [
    "[count/total for count in Counter(labels).values()]"
   ]
  },
  {
   "cell_type": "code",
   "execution_count": 77,
   "id": "944b90a3-a456-4b8c-935d-747be49580c8",
   "metadata": {},
   "outputs": [],
   "source": [
    "def data_entropy(labeled_data):\n",
    "    labels=[label for _, label in labeled_data]### True False 나누기\n",
    "    probabilities=class_probabilities(labels)###  True False 나눈 갯수3|2를 토탈(전체갯수로)로 분수처리\n",
    "    return entropy(probabilities)### 엔트로피 공식에 리스트를 대입하기\n",
    "    "
   ]
  },
  {
   "cell_type": "code",
   "execution_count": 74,
   "id": "1b97237a-594d-4233-964e-5ee7cdffb4aa",
   "metadata": {},
   "outputs": [
    {
     "data": {
      "text/plain": [
       "0.9709505944546686"
      ]
     },
     "execution_count": 74,
     "metadata": {},
     "output_type": "execute_result"
    }
   ],
   "source": [
    "data_entropy(labeled_data)"
   ]
  },
  {
   "cell_type": "code",
   "execution_count": 78,
   "id": "59bf9744-1f30-4512-a097-ea0b169ad7bb",
   "metadata": {},
   "outputs": [],
   "source": [
    "labeled_data1=[i for i in inputs if i[0]['level']=='Junior']"
   ]
  },
  {
   "cell_type": "code",
   "execution_count": 81,
   "id": "0fb74e4a-4c4a-4075-b4b3-d20a3f527e2b",
   "metadata": {},
   "outputs": [],
   "source": [
    "labels=[label for _,label in labeled_data1]"
   ]
  },
  {
   "cell_type": "code",
   "execution_count": 87,
   "id": "53d11171-219e-4df2-a929-7ac33dc5155d",
   "metadata": {},
   "outputs": [
    {
     "data": {
      "text/plain": [
       "[3, 2]"
      ]
     },
     "execution_count": 87,
     "metadata": {},
     "output_type": "execute_result"
    }
   ],
   "source": [
    "[i for i in Counter(labels).values()]"
   ]
  },
  {
   "cell_type": "code",
   "execution_count": 89,
   "id": "7f366eee-90e9-45e9-8392-362e0419919e",
   "metadata": {},
   "outputs": [
    {
     "data": {
      "text/plain": [
       "5"
      ]
     },
     "execution_count": 89,
     "metadata": {},
     "output_type": "execute_result"
    }
   ],
   "source": [
    "total=len(labels)\n",
    "total"
   ]
  },
  {
   "cell_type": "code",
   "execution_count": 90,
   "id": "6092134c-b6bf-455d-9fbb-de78eba78f1b",
   "metadata": {},
   "outputs": [],
   "source": [
    "def cls_proba(labels):\n",
    "    total=len(labels)\n",
    "    return [label/total for label in Counter(labels).values()]"
   ]
  },
  {
   "cell_type": "code",
   "execution_count": 93,
   "id": "9faaba65-81e8-4daa-93e4-df3638b9d98e",
   "metadata": {},
   "outputs": [
    {
     "data": {
      "text/plain": [
       "[0.6, 0.4]"
      ]
     },
     "execution_count": 93,
     "metadata": {},
     "output_type": "execute_result"
    }
   ],
   "source": [
    "cls_proba(labels)"
   ]
  },
  {
   "cell_type": "code",
   "execution_count": 95,
   "id": "c919599c-1e48-4078-a398-b47c258557b9",
   "metadata": {},
   "outputs": [],
   "source": [
    "temp=defaultdict(list)"
   ]
  },
  {
   "cell_type": "code",
   "execution_count": 96,
   "id": "79c961d2-46d0-43b0-8acb-b1d6ec174de8",
   "metadata": {},
   "outputs": [
    {
     "data": {
      "text/plain": [
       "[]"
      ]
     },
     "execution_count": 96,
     "metadata": {},
     "output_type": "execute_result"
    }
   ],
   "source": [
    "temp['a']"
   ]
  },
  {
   "cell_type": "code",
   "execution_count": 97,
   "id": "9d990b3a-24f7-4f14-869a-0d2f7bfbd417",
   "metadata": {},
   "outputs": [
    {
     "data": {
      "text/plain": [
       "defaultdict(list, {'a': []})"
      ]
     },
     "execution_count": 97,
     "metadata": {},
     "output_type": "execute_result"
    }
   ],
   "source": [
    "temp### 비어있는 리스트를 만들어준다. dict는 키값만 넣으면 에러가 난다."
   ]
  },
  {
   "cell_type": "code",
   "execution_count": 98,
   "id": "cbb777f7-d736-43e7-8ddf-02fbfc800b48",
   "metadata": {},
   "outputs": [],
   "source": [
    "temp['a'].append(1)"
   ]
  },
  {
   "cell_type": "code",
   "execution_count": 99,
   "id": "efbe2dcf-e8c7-4b96-be24-b4c3dfe4b35b",
   "metadata": {},
   "outputs": [
    {
     "data": {
      "text/plain": [
       "defaultdict(list, {'a': [1]})"
      ]
     },
     "execution_count": 99,
     "metadata": {},
     "output_type": "execute_result"
    }
   ],
   "source": [
    "temp"
   ]
  },
  {
   "cell_type": "code",
   "execution_count": 110,
   "id": "b32c3e12-bf5c-464b-9cb6-bacf489f390d",
   "metadata": {
    "collapsed": true,
    "jupyter": {
     "outputs_hidden": true
    },
    "tags": []
   },
   "outputs": [
    {
     "name": "stdout",
     "output_type": "stream",
     "text": [
      "Senior\n",
      "Senior\n",
      "Mid\n",
      "Junior\n",
      "Junior\n",
      "Junior\n",
      "Mid\n",
      "Senior\n",
      "Senior\n",
      "Junior\n",
      "Senior\n",
      "Mid\n",
      "Mid\n",
      "Junior\n"
     ]
    }
   ],
   "source": [
    "groups=defaultdict(list)\n",
    "for i in inputs:\n",
    "    print(i[0]['level'])\n",
    "    key=i[0]['level']\n",
    "    groups[key].append(i)"
   ]
  },
  {
   "cell_type": "code",
   "execution_count": 102,
   "id": "02a8949c-56bc-4da2-bd20-b6633a0debda",
   "metadata": {
    "collapsed": true,
    "jupyter": {
     "outputs_hidden": true
    },
    "tags": []
   },
   "outputs": [
    {
     "data": {
      "text/plain": [
       "defaultdict(list,\n",
       "            {'Senior': [({'level': 'Senior',\n",
       "                'lang': 'Java',\n",
       "                'tweets': 'no',\n",
       "                'phd': 'no'},\n",
       "               False),\n",
       "              ({'level': 'Senior',\n",
       "                'lang': 'Java',\n",
       "                'tweets': 'no',\n",
       "                'phd': 'yes'},\n",
       "               False),\n",
       "              ({'level': 'Senior',\n",
       "                'lang': 'Python',\n",
       "                'tweets': 'no',\n",
       "                'phd': 'no'},\n",
       "               False),\n",
       "              ({'level': 'Senior', 'lang': 'R', 'tweets': 'yes', 'phd': 'no'},\n",
       "               True),\n",
       "              ({'level': 'Senior',\n",
       "                'lang': 'Python',\n",
       "                'tweets': 'yes',\n",
       "                'phd': 'yes'},\n",
       "               True)],\n",
       "             'Mid': [({'level': 'Mid',\n",
       "                'lang': 'Python',\n",
       "                'tweets': 'no',\n",
       "                'phd': 'no'},\n",
       "               True),\n",
       "              ({'level': 'Mid', 'lang': 'R', 'tweets': 'yes', 'phd': 'yes'},\n",
       "               True),\n",
       "              ({'level': 'Mid',\n",
       "                'lang': 'Python',\n",
       "                'tweets': 'no',\n",
       "                'phd': 'yes'},\n",
       "               True),\n",
       "              ({'level': 'Mid', 'lang': 'Java', 'tweets': 'yes', 'phd': 'no'},\n",
       "               True)],\n",
       "             'Junior': [({'level': 'Junior',\n",
       "                'lang': 'Python',\n",
       "                'tweets': 'no',\n",
       "                'phd': 'no'},\n",
       "               True),\n",
       "              ({'level': 'Junior', 'lang': 'R', 'tweets': 'yes', 'phd': 'no'},\n",
       "               True),\n",
       "              ({'level': 'Junior', 'lang': 'R', 'tweets': 'yes', 'phd': 'yes'},\n",
       "               False),\n",
       "              ({'level': 'Junior',\n",
       "                'lang': 'Python',\n",
       "                'tweets': 'yes',\n",
       "                'phd': 'no'},\n",
       "               True),\n",
       "              ({'level': 'Junior',\n",
       "                'lang': 'Python',\n",
       "                'tweets': 'no',\n",
       "                'phd': 'yes'},\n",
       "               False)]})"
      ]
     },
     "execution_count": 102,
     "metadata": {},
     "output_type": "execute_result"
    }
   ],
   "source": [
    "groups"
   ]
  },
  {
   "cell_type": "code",
   "execution_count": 104,
   "id": "ebbc6e66-8f0d-42f4-9b58-8384973c1d1a",
   "metadata": {},
   "outputs": [],
   "source": [
    "def partition_by(inputs,attribute):\n",
    "    groups=defaultdict(list)\n",
    "    for i in inputs:\n",
    "        key=i[0][attribute]\n",
    "        groups[key].append(i)\n",
    "    return groups    "
   ]
  },
  {
   "cell_type": "code",
   "execution_count": 113,
   "id": "fd814229-b2dc-42fe-bf3b-4e75e9175597",
   "metadata": {
    "collapsed": true,
    "jupyter": {
     "outputs_hidden": true
    },
    "tags": []
   },
   "outputs": [
    {
     "name": "stdout",
     "output_type": "stream",
     "text": [
      "level dict_values([[({'level': 'Senior', 'lang': 'Java', 'tweets': 'no', 'phd': 'no'}, False), ({'level': 'Senior', 'lang': 'Java', 'tweets': 'no', 'phd': 'yes'}, False), ({'level': 'Senior', 'lang': 'Python', 'tweets': 'no', 'phd': 'no'}, False), ({'level': 'Senior', 'lang': 'R', 'tweets': 'yes', 'phd': 'no'}, True), ({'level': 'Senior', 'lang': 'Python', 'tweets': 'yes', 'phd': 'yes'}, True)], [({'level': 'Mid', 'lang': 'Python', 'tweets': 'no', 'phd': 'no'}, True), ({'level': 'Mid', 'lang': 'R', 'tweets': 'yes', 'phd': 'yes'}, True), ({'level': 'Mid', 'lang': 'Python', 'tweets': 'no', 'phd': 'yes'}, True), ({'level': 'Mid', 'lang': 'Java', 'tweets': 'yes', 'phd': 'no'}, True)], [({'level': 'Junior', 'lang': 'Python', 'tweets': 'no', 'phd': 'no'}, True), ({'level': 'Junior', 'lang': 'R', 'tweets': 'yes', 'phd': 'no'}, True), ({'level': 'Junior', 'lang': 'R', 'tweets': 'yes', 'phd': 'yes'}, False), ({'level': 'Junior', 'lang': 'Python', 'tweets': 'yes', 'phd': 'no'}, True), ({'level': 'Junior', 'lang': 'Python', 'tweets': 'no', 'phd': 'yes'}, False)]])\n",
      "--------------------------------------------------\n",
      "lang dict_values([[({'level': 'Senior', 'lang': 'Java', 'tweets': 'no', 'phd': 'no'}, False), ({'level': 'Senior', 'lang': 'Java', 'tweets': 'no', 'phd': 'yes'}, False), ({'level': 'Mid', 'lang': 'Java', 'tweets': 'yes', 'phd': 'no'}, True)], [({'level': 'Mid', 'lang': 'Python', 'tweets': 'no', 'phd': 'no'}, True), ({'level': 'Junior', 'lang': 'Python', 'tweets': 'no', 'phd': 'no'}, True), ({'level': 'Senior', 'lang': 'Python', 'tweets': 'no', 'phd': 'no'}, False), ({'level': 'Junior', 'lang': 'Python', 'tweets': 'yes', 'phd': 'no'}, True), ({'level': 'Senior', 'lang': 'Python', 'tweets': 'yes', 'phd': 'yes'}, True), ({'level': 'Mid', 'lang': 'Python', 'tweets': 'no', 'phd': 'yes'}, True), ({'level': 'Junior', 'lang': 'Python', 'tweets': 'no', 'phd': 'yes'}, False)], [({'level': 'Junior', 'lang': 'R', 'tweets': 'yes', 'phd': 'no'}, True), ({'level': 'Junior', 'lang': 'R', 'tweets': 'yes', 'phd': 'yes'}, False), ({'level': 'Mid', 'lang': 'R', 'tweets': 'yes', 'phd': 'yes'}, True), ({'level': 'Senior', 'lang': 'R', 'tweets': 'yes', 'phd': 'no'}, True)]])\n",
      "--------------------------------------------------\n",
      "tweets dict_values([[({'level': 'Senior', 'lang': 'Java', 'tweets': 'no', 'phd': 'no'}, False), ({'level': 'Senior', 'lang': 'Java', 'tweets': 'no', 'phd': 'yes'}, False), ({'level': 'Mid', 'lang': 'Python', 'tweets': 'no', 'phd': 'no'}, True), ({'level': 'Junior', 'lang': 'Python', 'tweets': 'no', 'phd': 'no'}, True), ({'level': 'Senior', 'lang': 'Python', 'tweets': 'no', 'phd': 'no'}, False), ({'level': 'Mid', 'lang': 'Python', 'tweets': 'no', 'phd': 'yes'}, True), ({'level': 'Junior', 'lang': 'Python', 'tweets': 'no', 'phd': 'yes'}, False)], [({'level': 'Junior', 'lang': 'R', 'tweets': 'yes', 'phd': 'no'}, True), ({'level': 'Junior', 'lang': 'R', 'tweets': 'yes', 'phd': 'yes'}, False), ({'level': 'Mid', 'lang': 'R', 'tweets': 'yes', 'phd': 'yes'}, True), ({'level': 'Senior', 'lang': 'R', 'tweets': 'yes', 'phd': 'no'}, True), ({'level': 'Junior', 'lang': 'Python', 'tweets': 'yes', 'phd': 'no'}, True), ({'level': 'Senior', 'lang': 'Python', 'tweets': 'yes', 'phd': 'yes'}, True), ({'level': 'Mid', 'lang': 'Java', 'tweets': 'yes', 'phd': 'no'}, True)]])\n",
      "--------------------------------------------------\n",
      "phd dict_values([[({'level': 'Senior', 'lang': 'Java', 'tweets': 'no', 'phd': 'no'}, False), ({'level': 'Mid', 'lang': 'Python', 'tweets': 'no', 'phd': 'no'}, True), ({'level': 'Junior', 'lang': 'Python', 'tweets': 'no', 'phd': 'no'}, True), ({'level': 'Junior', 'lang': 'R', 'tweets': 'yes', 'phd': 'no'}, True), ({'level': 'Senior', 'lang': 'Python', 'tweets': 'no', 'phd': 'no'}, False), ({'level': 'Senior', 'lang': 'R', 'tweets': 'yes', 'phd': 'no'}, True), ({'level': 'Junior', 'lang': 'Python', 'tweets': 'yes', 'phd': 'no'}, True), ({'level': 'Mid', 'lang': 'Java', 'tweets': 'yes', 'phd': 'no'}, True)], [({'level': 'Senior', 'lang': 'Java', 'tweets': 'no', 'phd': 'yes'}, False), ({'level': 'Junior', 'lang': 'R', 'tweets': 'yes', 'phd': 'yes'}, False), ({'level': 'Mid', 'lang': 'R', 'tweets': 'yes', 'phd': 'yes'}, True), ({'level': 'Senior', 'lang': 'Python', 'tweets': 'yes', 'phd': 'yes'}, True), ({'level': 'Mid', 'lang': 'Python', 'tweets': 'no', 'phd': 'yes'}, True), ({'level': 'Junior', 'lang': 'Python', 'tweets': 'no', 'phd': 'yes'}, False)]])\n",
      "--------------------------------------------------\n"
     ]
    }
   ],
   "source": [
    "for key in ['level','lang','tweets','phd']:\n",
    "    print(key, partition_by(inputs,key).values())\n",
    "    print('-'*50)"
   ]
  },
  {
   "cell_type": "code",
   "execution_count": 118,
   "id": "74db2a25-7ad3-4ad3-8168-b45daf3393f3",
   "metadata": {},
   "outputs": [],
   "source": [
    "subsets=partition_by(inputs,'level').values()"
   ]
  },
  {
   "cell_type": "code",
   "execution_count": 119,
   "id": "1fda6284-e781-4c5a-bf60-dd64b6199a81",
   "metadata": {},
   "outputs": [],
   "source": [
    "total_count=sum(len(subset) for subset in subsets)"
   ]
  },
  {
   "cell_type": "code",
   "execution_count": 120,
   "id": "5590cdd8-b8da-42bd-8731-df9629be5fc5",
   "metadata": {},
   "outputs": [
    {
     "data": {
      "text/plain": [
       "14"
      ]
     },
     "execution_count": 120,
     "metadata": {},
     "output_type": "execute_result"
    }
   ],
   "source": [
    "total_count"
   ]
  },
  {
   "cell_type": "code",
   "execution_count": 121,
   "id": "db997e9c-d53b-4fb3-9ae0-74023e42df3f",
   "metadata": {},
   "outputs": [
    {
     "data": {
      "text/plain": [
       "0.6935361388961918"
      ]
     },
     "execution_count": 121,
     "metadata": {},
     "output_type": "execute_result"
    }
   ],
   "source": [
    "sum(len(subset)/total_count*data_entropy(subset) for subset in subsets)"
   ]
  },
  {
   "cell_type": "code",
   "execution_count": 129,
   "id": "4babfbd1-9dc0-4e8f-8e6e-c960e3f2a869",
   "metadata": {},
   "outputs": [],
   "source": [
    "def partition_entropy(subsets):\n",
    "    total_count=sum(len(subset) for subset in subsets)\n",
    "    return sum(len(subset)/total_count*data_entropy(subset) for subset in subsets)"
   ]
  },
  {
   "cell_type": "code",
   "execution_count": 130,
   "id": "8a7183fc-19b5-4936-bf3c-0c505dc211ae",
   "metadata": {},
   "outputs": [],
   "source": [
    "def partition_entro py_by(inputs,attribute):\n",
    "    partitions=partition_by(inputs,attribute)\n",
    "    return partition_entropy(partitions.values())\n"
   ]
  },
  {
   "cell_type": "code",
   "execution_count": 131,
   "id": "5107836c-473a-4def-b1c0-0d5cb07926df",
   "metadata": {},
   "outputs": [
    {
     "name": "stdout",
     "output_type": "stream",
     "text": [
      "level 0.6935361388961918\n",
      "lang 0.8601317128547441\n",
      "tweets 0.7884504573082896\n",
      "phd 0.8921589282623617\n"
     ]
    }
   ],
   "source": [
    "for key in ['level','lang','tweets','phd']:\n",
    "    print(key, partition_entropy_by(inputs,key))"
   ]
  },
  {
   "cell_type": "code",
   "execution_count": 134,
   "id": "a0736df6-2441-4a4b-b683-22b936fc8521",
   "metadata": {},
   "outputs": [],
   "source": [
    "mid_inputs=[(data, label) for data, label in inputs if data['level']=='Mid']"
   ]
  },
  {
   "cell_type": "code",
   "execution_count": 135,
   "id": "82e14834-0308-41ea-ad34-0cb0315e0989",
   "metadata": {},
   "outputs": [
    {
     "name": "stdout",
     "output_type": "stream",
     "text": [
      "lang 0.0\n",
      "tweets 0.0\n",
      "phd 0.0\n"
     ]
    }
   ],
   "source": [
    "for key in ['lang','tweets','phd']:\n",
    "    print(key, partition_entropy_by(mid_inputs,key))"
   ]
  },
  {
   "cell_type": "code",
   "execution_count": 136,
   "id": "f0ed39c8-cf29-4a4d-b7f6-865181e043b8",
   "metadata": {},
   "outputs": [],
   "source": [
    "senior_inputs=[(data, label) for data, label in inputs if data['level']=='Senior']"
   ]
  },
  {
   "cell_type": "code",
   "execution_count": 137,
   "id": "8a06be99-9147-4107-81ee-c2c14586b5dc",
   "metadata": {},
   "outputs": [
    {
     "name": "stdout",
     "output_type": "stream",
     "text": [
      "lang 0.4\n",
      "tweets 0.0\n",
      "phd 0.9509775004326937\n"
     ]
    }
   ],
   "source": [
    "for key in ['lang','tweets','phd']:\n",
    "    print(key, partition_entropy_by(senior_inputs,key))"
   ]
  },
  {
   "cell_type": "code",
   "execution_count": 138,
   "id": "95fe4e79-1eee-42a2-b753-0e0deaa4bef3",
   "metadata": {},
   "outputs": [],
   "source": [
    "junior_inputs=[(data, label) for data, label in inputs if data['level']=='Junior']"
   ]
  },
  {
   "cell_type": "code",
   "execution_count": 139,
   "id": "d51c0b0c-1477-43c2-9919-08f7f088863d",
   "metadata": {},
   "outputs": [
    {
     "name": "stdout",
     "output_type": "stream",
     "text": [
      "lang 0.9509775004326937\n",
      "tweets 0.9509775004326937\n",
      "phd 0.0\n"
     ]
    }
   ],
   "source": [
    "for key in ['lang','tweets','phd']:\n",
    "    print(key, partition_entropy_by(junior_inputs,key))"
   ]
  },
  {
   "cell_type": "code",
   "execution_count": 145,
   "id": "c093f0d2-e4b3-4524-9cbf-b9330efefaac",
   "metadata": {},
   "outputs": [],
   "source": [
    "#### 재귀함수\n",
    "def func_test(x):\n",
    "    if x<0:\n",
    "        return 0\n",
    "    x=x-1\n",
    "    print(x)\n",
    "    x= func_test(x)\n",
    "    print(x)\n",
    "    return x"
   ]
  },
  {
   "cell_type": "code",
   "execution_count": 146,
   "id": "740807e2-8bdc-415a-85e1-407b60415494",
   "metadata": {
    "collapsed": true,
    "jupyter": {
     "outputs_hidden": true
    },
    "tags": []
   },
   "outputs": [
    {
     "name": "stdout",
     "output_type": "stream",
     "text": [
      "9\n",
      "8\n",
      "7\n",
      "6\n",
      "5\n",
      "4\n",
      "3\n",
      "2\n",
      "1\n",
      "0\n",
      "-1\n",
      "0\n",
      "0\n",
      "0\n",
      "0\n",
      "0\n",
      "0\n",
      "0\n",
      "0\n",
      "0\n",
      "0\n",
      "0\n"
     ]
    },
    {
     "data": {
      "text/plain": [
       "0"
      ]
     },
     "execution_count": 146,
     "metadata": {},
     "output_type": "execute_result"
    }
   ],
   "source": [
    "func_test(10)"
   ]
  },
  {
   "cell_type": "code",
   "execution_count": 171,
   "id": "0b5c4367-8e6c-42a2-aaff-16ee7c5ab139",
   "metadata": {},
   "outputs": [],
   "source": [
    "def build_tree_id3(inputs,split_candidates=None):\n",
    "    if split_candidates is None:\n",
    "        split_candidates=inputs[0][0].keys()## 속성\n",
    "        \n",
    "    num_inputs=len(inputs)\n",
    "    num_trues=len([label for _, label in inputs if label])\n",
    "    num_falses=num_inputs-num_trues\n",
    "    \n",
    "    if not split_candidates:\n",
    "        return num_trues>=num_falses\n",
    "    \n",
    "    best_attribute=min(split_candidates, key=partial(partition_entropy_by,inputs))\n",
    "    \n",
    "    partitions=partition_by(inputs, best_attribute)\n",
    "    new_candidates=[a for a in split_candidates if a != best_attribute]\n",
    "    \n",
    "    subtrees={attribute_value: build_tree_id3(subset,new_candidates)\n",
    "              for attribute_value, subset in partitions.items()}\n",
    "    \n",
    "    subtrees[None]= num_trues> num_falses\n",
    "    return best_attribute,subtrees\n",
    "    \n",
    "    "
   ]
  },
  {
   "cell_type": "code",
   "execution_count": 172,
   "id": "7c5144f5-3853-4429-a518-c711dfaa6d0b",
   "metadata": {},
   "outputs": [
    {
     "data": {
      "text/plain": [
       "('level',\n",
       " {'Senior': ('tweets',\n",
       "   {'no': ('lang',\n",
       "     {'Java': ('phd', {'no': False, 'yes': False, None: False}),\n",
       "      'Python': ('phd', {'no': False, None: False}),\n",
       "      None: False}),\n",
       "    'yes': ('lang',\n",
       "     {'R': ('phd', {'no': True, None: True}),\n",
       "      'Python': ('phd', {'yes': True, None: True}),\n",
       "      None: True}),\n",
       "    None: False}),\n",
       "  'Mid': ('lang',\n",
       "   {'Python': ('tweets',\n",
       "     {'no': ('phd', {'no': True, 'yes': True, None: True}), None: True}),\n",
       "    'R': ('tweets', {'yes': ('phd', {'yes': True, None: True}), None: True}),\n",
       "    'Java': ('tweets', {'yes': ('phd', {'no': True, None: True}), None: True}),\n",
       "    None: True}),\n",
       "  'Junior': ('phd',\n",
       "   {'no': ('lang',\n",
       "     {'Python': ('tweets', {'no': True, 'yes': True, None: True}),\n",
       "      'R': ('tweets', {'yes': True, None: True}),\n",
       "      None: True}),\n",
       "    'yes': ('lang',\n",
       "     {'R': ('tweets', {'yes': False, None: False}),\n",
       "      'Python': ('tweets', {'no': False, None: False}),\n",
       "      None: False}),\n",
       "    None: True}),\n",
       "  None: True})"
      ]
     },
     "execution_count": 172,
     "metadata": {},
     "output_type": "execute_result"
    }
   ],
   "source": [
    "build_tree_id3(inputs)"
   ]
  },
  {
   "cell_type": "code",
   "execution_count": 173,
   "id": "dd33c866-1bc9-4519-94b9-40c2eab5f1d3",
   "metadata": {},
   "outputs": [
    {
     "data": {
      "text/plain": [
       "'sdvdssd2d'"
      ]
     },
     "execution_count": 173,
     "metadata": {},
     "output_type": "execute_result"
    }
   ],
   "source": [
    "test=['asd12asf143','aasd124fewfasasd2asas','sdvdssd2d','2313fsdfdasdasd']\n",
    "min(test,key=len)"
   ]
  },
  {
   "cell_type": "code",
   "execution_count": 175,
   "id": "7212f10e-05c0-4a73-b2d2-b6da71874d37",
   "metadata": {},
   "outputs": [],
   "source": [
    "def classify(tree, x):\n",
    "    if tree in [True,False]:\n",
    "        return tree\n",
    "    \n",
    "    attribute,subtree_dict=tree\n",
    "    subtree_key=x[attribute]\n",
    "    \n",
    "    if subtree_key not in subtree_dict:\n",
    "        subtree_key=None\n",
    "        \n",
    "    subtree=subtree_dict[subtree_key]\n",
    "    return classify(subtree,x)"
   ]
  },
  {
   "cell_type": "code",
   "execution_count": 176,
   "id": "72302973-b55e-442f-b5b5-7b66c51e6ad1",
   "metadata": {},
   "outputs": [],
   "source": [
    "tree=build_tree_id3(inputs)"
   ]
  },
  {
   "cell_type": "code",
   "execution_count": 177,
   "id": "e31c70b9-7507-4173-9088-76c0527ac550",
   "metadata": {},
   "outputs": [
    {
     "data": {
      "text/plain": [
       "True"
      ]
     },
     "execution_count": 177,
     "metadata": {},
     "output_type": "execute_result"
    }
   ],
   "source": [
    "classify(tree, {'level': 'Junior', 'lang': 'Java', 'tweets': 'yes', 'phd': 'no'})"
   ]
  },
  {
   "cell_type": "code",
   "execution_count": null,
   "id": "1cd35862-b16f-4bf2-b441-79637efdd971",
   "metadata": {},
   "outputs": [],
   "source": []
  }
 ],
 "metadata": {
  "kernelspec": {
   "display_name": "Python 3 (ipykernel)",
   "language": "python",
   "name": "python3"
  },
  "language_info": {
   "codemirror_mode": {
    "name": "ipython",
    "version": 3
   },
   "file_extension": ".py",
   "mimetype": "text/x-python",
   "name": "python",
   "nbconvert_exporter": "python",
   "pygments_lexer": "ipython3",
   "version": "3.9.12"
  }
 },
 "nbformat": 4,
 "nbformat_minor": 5
}
