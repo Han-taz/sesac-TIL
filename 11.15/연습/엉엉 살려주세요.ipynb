{
 "cells": [
  {
   "cell_type": "code",
   "execution_count": 2,
   "id": "e37abdb9-4ab1-4a8c-8879-18039a82e73e",
   "metadata": {},
   "outputs": [],
   "source": [
    "import pandas as pd\n",
    "import numpy as np\n",
    "import pickle\n",
    "import math\n",
    "from collections import Counter,defaultdict\n",
    "from functools import partial"
   ]
  },
  {
   "cell_type": "code",
   "execution_count": 3,
   "id": "01a6528d-aa59-4b71-8b31-e6779b5a0174",
   "metadata": {},
   "outputs": [],
   "source": [
    "inputs = [({'level':'Senior','lang':'Java','tweets':'no','phd':'no'},   False),\n",
    "        ({'level':'Senior','lang':'Java','tweets':'no','phd':'yes'},  False),\n",
    "        ({'level':'Mid','lang':'Python','tweets':'no','phd':'no'},     True),\n",
    "        ({'level':'Junior','lang':'Python','tweets':'no','phd':'no'},  True),\n",
    "        ({'level':'Junior','lang':'R','tweets':'yes','phd':'no'},      True),\n",
    "        ({'level':'Junior','lang':'R','tweets':'yes','phd':'yes'},    False),\n",
    "        ({'level':'Mid','lang':'R','tweets':'yes','phd':'yes'},        True),\n",
    "        ({'level':'Senior','lang':'Python','tweets':'no','phd':'no'}, False),\n",
    "        ({'level':'Senior','lang':'R','tweets':'yes','phd':'no'},      True),\n",
    "        ({'level':'Junior','lang':'Python','tweets':'yes','phd':'no'}, True),\n",
    "        ({'level':'Senior','lang':'Python','tweets':'yes','phd':'yes'},True),\n",
    "        ({'level':'Mid','lang':'Python','tweets':'no','phd':'yes'},    True),\n",
    "        ({'level':'Mid','lang':'Java','tweets':'yes','phd':'no'},      True),\n",
    "        ({'level':'Junior','lang':'Python','tweets':'no','phd':'yes'},False)]"
   ]
  },
  {
   "cell_type": "code",
   "execution_count": 8,
   "id": "7f2b7b92-ea45-4d3c-8029-e583b4d7f6fc",
   "metadata": {},
   "outputs": [
    {
     "data": {
      "text/plain": [
       "{'level': 'Senior', 'lang': 'Java', 'tweets': 'no', 'phd': 'no'}"
      ]
     },
     "execution_count": 8,
     "metadata": {},
     "output_type": "execute_result"
    }
   ],
   "source": [
    "inputs[0][0]"
   ]
  },
  {
   "cell_type": "code",
   "execution_count": 10,
   "id": "9d32ba84-0f5e-44ec-b800-2794865996d1",
   "metadata": {},
   "outputs": [
    {
     "name": "stdout",
     "output_type": "stream",
     "text": [
      "{'level': 'Senior', 'lang': 'Java', 'tweets': 'no', 'phd': 'no'}\n",
      "{'level': 'Senior', 'lang': 'Java', 'tweets': 'no', 'phd': 'yes'}\n",
      "{'level': 'Mid', 'lang': 'Python', 'tweets': 'no', 'phd': 'no'}\n",
      "{'level': 'Junior', 'lang': 'Python', 'tweets': 'no', 'phd': 'no'}\n",
      "{'level': 'Junior', 'lang': 'R', 'tweets': 'yes', 'phd': 'no'}\n",
      "{'level': 'Junior', 'lang': 'R', 'tweets': 'yes', 'phd': 'yes'}\n",
      "{'level': 'Mid', 'lang': 'R', 'tweets': 'yes', 'phd': 'yes'}\n",
      "{'level': 'Senior', 'lang': 'Python', 'tweets': 'no', 'phd': 'no'}\n",
      "{'level': 'Senior', 'lang': 'R', 'tweets': 'yes', 'phd': 'no'}\n",
      "{'level': 'Junior', 'lang': 'Python', 'tweets': 'yes', 'phd': 'no'}\n",
      "{'level': 'Senior', 'lang': 'Python', 'tweets': 'yes', 'phd': 'yes'}\n",
      "{'level': 'Mid', 'lang': 'Python', 'tweets': 'no', 'phd': 'yes'}\n",
      "{'level': 'Mid', 'lang': 'Java', 'tweets': 'yes', 'phd': 'no'}\n",
      "{'level': 'Junior', 'lang': 'Python', 'tweets': 'no', 'phd': 'yes'}\n"
     ]
    }
   ],
   "source": [
    "for i,j in inputs:\n",
    "    print(i)"
   ]
  },
  {
   "cell_type": "code",
   "execution_count": 11,
   "id": "c23cee0a-c698-4f6f-99ee-4f8379e2d573",
   "metadata": {},
   "outputs": [
    {
     "data": {
      "text/plain": [
       "[({'level': 'Senior', 'lang': 'Java', 'tweets': 'no', 'phd': 'no'}, False),\n",
       " ({'level': 'Senior', 'lang': 'Java', 'tweets': 'no', 'phd': 'yes'}, False),\n",
       " ({'level': 'Senior', 'lang': 'Python', 'tweets': 'no', 'phd': 'no'}, False),\n",
       " ({'level': 'Senior', 'lang': 'R', 'tweets': 'yes', 'phd': 'no'}, True),\n",
       " ({'level': 'Senior', 'lang': 'Python', 'tweets': 'yes', 'phd': 'yes'}, True)]"
      ]
     },
     "execution_count": 11,
     "metadata": {},
     "output_type": "execute_result"
    }
   ],
   "source": [
    "[i for i in inputs if i[0]['level']=='Senior']"
   ]
  },
  {
   "cell_type": "code",
   "execution_count": 12,
   "id": "1f544709-756f-4ddd-83ac-76ddaa8e3ae2",
   "metadata": {},
   "outputs": [
    {
     "name": "stdout",
     "output_type": "stream",
     "text": [
      "허접\n"
     ]
    }
   ],
   "source": [
    "print('허접')"
   ]
  },
  {
   "cell_type": "code",
   "execution_count": 13,
   "id": "cbe9aa64-3ec7-4f68-a07c-b9fa81292090",
   "metadata": {},
   "outputs": [],
   "source": [
    "class_probabilities=[5/10,5/10]"
   ]
  },
  {
   "cell_type": "code",
   "execution_count": 14,
   "id": "3c6bde92-8e06-4f57-b9db-525ee7adc2ba",
   "metadata": {},
   "outputs": [],
   "source": [
    "def entropy(class_probabilities):\n",
    "    return sum(-p*math.log(p,2) for p in class_probabilities if p)"
   ]
  },
  {
   "cell_type": "code",
   "execution_count": 15,
   "id": "1d817ebc-61f8-4936-bfc0-e220e1786004",
   "metadata": {},
   "outputs": [
    {
     "data": {
      "text/plain": [
       "1.0"
      ]
     },
     "execution_count": 15,
     "metadata": {},
     "output_type": "execute_result"
    }
   ],
   "source": [
    "entropy(class_probabilities)"
   ]
  },
  {
   "cell_type": "code",
   "execution_count": 16,
   "id": "fa665634-3045-497d-bcf9-d7a8905c2418",
   "metadata": {},
   "outputs": [],
   "source": [
    "labeled_data=[i for i in inputs if i[0]['level']=='Senior']"
   ]
  },
  {
   "cell_type": "code",
   "execution_count": 17,
   "id": "3657299b-fe2a-4023-90a8-cd8c4adb0ddc",
   "metadata": {},
   "outputs": [
    {
     "data": {
      "text/plain": [
       "[({'level': 'Senior', 'lang': 'Java', 'tweets': 'no', 'phd': 'no'}, False),\n",
       " ({'level': 'Senior', 'lang': 'Java', 'tweets': 'no', 'phd': 'yes'}, False),\n",
       " ({'level': 'Senior', 'lang': 'Python', 'tweets': 'no', 'phd': 'no'}, False),\n",
       " ({'level': 'Senior', 'lang': 'R', 'tweets': 'yes', 'phd': 'no'}, True),\n",
       " ({'level': 'Senior', 'lang': 'Python', 'tweets': 'yes', 'phd': 'yes'}, True)]"
      ]
     },
     "execution_count": 17,
     "metadata": {},
     "output_type": "execute_result"
    }
   ],
   "source": [
    "labeled_data"
   ]
  },
  {
   "cell_type": "code",
   "execution_count": 20,
   "id": "b1e4050c-0fc3-4be2-9da8-9771d098d5f9",
   "metadata": {},
   "outputs": [
    {
     "data": {
      "text/plain": [
       "[False, False, False, True, True]"
      ]
     },
     "execution_count": 20,
     "metadata": {},
     "output_type": "execute_result"
    }
   ],
   "source": [
    "labels=[label for _,label in labeled_data]\n",
    "labels"
   ]
  },
  {
   "cell_type": "code",
   "execution_count": 23,
   "id": "1824ae29-a2f0-4a85-a919-1d97922a2a06",
   "metadata": {},
   "outputs": [
    {
     "data": {
      "text/plain": [
       "dict_values([3, 2])"
      ]
     },
     "execution_count": 23,
     "metadata": {},
     "output_type": "execute_result"
    }
   ],
   "source": [
    "Counter(labels).values()"
   ]
  },
  {
   "cell_type": "code",
   "execution_count": 25,
   "id": "72f0fbcc-f6f7-48c9-81aa-4f93fbfcb4d2",
   "metadata": {},
   "outputs": [
    {
     "data": {
      "text/plain": [
       "dict_keys([False, True])"
      ]
     },
     "execution_count": 25,
     "metadata": {},
     "output_type": "execute_result"
    }
   ],
   "source": [
    "Counter(labels).keys()"
   ]
  },
  {
   "cell_type": "code",
   "execution_count": 27,
   "id": "26904920-e5e0-4d19-83bb-c2e4d5512802",
   "metadata": {},
   "outputs": [
    {
     "data": {
      "text/plain": [
       "[3, 2]"
      ]
     },
     "execution_count": 27,
     "metadata": {},
     "output_type": "execute_result"
    }
   ],
   "source": [
    "[count for count in Counter(labels).values()]"
   ]
  },
  {
   "cell_type": "code",
   "execution_count": null,
   "id": "b0eed13e-2a51-4641-9ba7-99a61902e7a8",
   "metadata": {},
   "outputs": [],
   "source": []
  }
 ],
 "metadata": {
  "kernelspec": {
   "display_name": "Python 3 (ipykernel)",
   "language": "python",
   "name": "python3"
  },
  "language_info": {
   "codemirror_mode": {
    "name": "ipython",
    "version": 3
   },
   "file_extension": ".py",
   "mimetype": "text/x-python",
   "name": "python",
   "nbconvert_exporter": "python",
   "pygments_lexer": "ipython3",
   "version": "3.9.12"
  }
 },
 "nbformat": 4,
 "nbformat_minor": 5
}
