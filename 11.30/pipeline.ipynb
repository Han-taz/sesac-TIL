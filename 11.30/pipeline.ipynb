{
 "cells": [
  {
   "cell_type": "code",
   "execution_count": 10,
   "id": "216bfd38-4c6b-4b21-8c57-070ecaf326fb",
   "metadata": {},
   "outputs": [],
   "source": [
    "from sklearn.datasets import load_wine\n",
    "from sklearn.preprocessing import StandardScaler\n",
    "from sklearn.model_selection import train_test_split\n",
    "from sklearn.svm import SVC\n",
    "import pandas as pd"
   ]
  },
  {
   "cell_type": "code",
   "execution_count": 5,
   "id": "e17a1a47-1339-4de7-aa4f-055a2b6fdf63",
   "metadata": {},
   "outputs": [],
   "source": [
    "wine=load_wine()"
   ]
  },
  {
   "cell_type": "code",
   "execution_count": 11,
   "id": "95e7fcee-7c1a-43e9-99da-11d944e32eda",
   "metadata": {},
   "outputs": [],
   "source": [
    "df=pd.DataFrame(wine.data,columns=wine.feature_names)"
   ]
  },
  {
   "cell_type": "code",
   "execution_count": 12,
   "id": "47b778f7-4498-43de-ab75-2c9ac91bc673",
   "metadata": {},
   "outputs": [
    {
     "data": {
      "text/html": [
       "<div>\n",
       "<style scoped>\n",
       "    .dataframe tbody tr th:only-of-type {\n",
       "        vertical-align: middle;\n",
       "    }\n",
       "\n",
       "    .dataframe tbody tr th {\n",
       "        vertical-align: top;\n",
       "    }\n",
       "\n",
       "    .dataframe thead th {\n",
       "        text-align: right;\n",
       "    }\n",
       "</style>\n",
       "<table border=\"1\" class=\"dataframe\">\n",
       "  <thead>\n",
       "    <tr style=\"text-align: right;\">\n",
       "      <th></th>\n",
       "      <th>alcohol</th>\n",
       "      <th>malic_acid</th>\n",
       "      <th>ash</th>\n",
       "      <th>alcalinity_of_ash</th>\n",
       "      <th>magnesium</th>\n",
       "      <th>total_phenols</th>\n",
       "      <th>flavanoids</th>\n",
       "      <th>nonflavanoid_phenols</th>\n",
       "      <th>proanthocyanins</th>\n",
       "      <th>color_intensity</th>\n",
       "      <th>hue</th>\n",
       "      <th>od280/od315_of_diluted_wines</th>\n",
       "      <th>proline</th>\n",
       "    </tr>\n",
       "  </thead>\n",
       "  <tbody>\n",
       "    <tr>\n",
       "      <th>0</th>\n",
       "      <td>14.23</td>\n",
       "      <td>1.71</td>\n",
       "      <td>2.43</td>\n",
       "      <td>15.6</td>\n",
       "      <td>127.0</td>\n",
       "      <td>2.80</td>\n",
       "      <td>3.06</td>\n",
       "      <td>0.28</td>\n",
       "      <td>2.29</td>\n",
       "      <td>5.64</td>\n",
       "      <td>1.04</td>\n",
       "      <td>3.92</td>\n",
       "      <td>1065.0</td>\n",
       "    </tr>\n",
       "    <tr>\n",
       "      <th>1</th>\n",
       "      <td>13.20</td>\n",
       "      <td>1.78</td>\n",
       "      <td>2.14</td>\n",
       "      <td>11.2</td>\n",
       "      <td>100.0</td>\n",
       "      <td>2.65</td>\n",
       "      <td>2.76</td>\n",
       "      <td>0.26</td>\n",
       "      <td>1.28</td>\n",
       "      <td>4.38</td>\n",
       "      <td>1.05</td>\n",
       "      <td>3.40</td>\n",
       "      <td>1050.0</td>\n",
       "    </tr>\n",
       "    <tr>\n",
       "      <th>2</th>\n",
       "      <td>13.16</td>\n",
       "      <td>2.36</td>\n",
       "      <td>2.67</td>\n",
       "      <td>18.6</td>\n",
       "      <td>101.0</td>\n",
       "      <td>2.80</td>\n",
       "      <td>3.24</td>\n",
       "      <td>0.30</td>\n",
       "      <td>2.81</td>\n",
       "      <td>5.68</td>\n",
       "      <td>1.03</td>\n",
       "      <td>3.17</td>\n",
       "      <td>1185.0</td>\n",
       "    </tr>\n",
       "    <tr>\n",
       "      <th>3</th>\n",
       "      <td>14.37</td>\n",
       "      <td>1.95</td>\n",
       "      <td>2.50</td>\n",
       "      <td>16.8</td>\n",
       "      <td>113.0</td>\n",
       "      <td>3.85</td>\n",
       "      <td>3.49</td>\n",
       "      <td>0.24</td>\n",
       "      <td>2.18</td>\n",
       "      <td>7.80</td>\n",
       "      <td>0.86</td>\n",
       "      <td>3.45</td>\n",
       "      <td>1480.0</td>\n",
       "    </tr>\n",
       "    <tr>\n",
       "      <th>4</th>\n",
       "      <td>13.24</td>\n",
       "      <td>2.59</td>\n",
       "      <td>2.87</td>\n",
       "      <td>21.0</td>\n",
       "      <td>118.0</td>\n",
       "      <td>2.80</td>\n",
       "      <td>2.69</td>\n",
       "      <td>0.39</td>\n",
       "      <td>1.82</td>\n",
       "      <td>4.32</td>\n",
       "      <td>1.04</td>\n",
       "      <td>2.93</td>\n",
       "      <td>735.0</td>\n",
       "    </tr>\n",
       "    <tr>\n",
       "      <th>...</th>\n",
       "      <td>...</td>\n",
       "      <td>...</td>\n",
       "      <td>...</td>\n",
       "      <td>...</td>\n",
       "      <td>...</td>\n",
       "      <td>...</td>\n",
       "      <td>...</td>\n",
       "      <td>...</td>\n",
       "      <td>...</td>\n",
       "      <td>...</td>\n",
       "      <td>...</td>\n",
       "      <td>...</td>\n",
       "      <td>...</td>\n",
       "    </tr>\n",
       "    <tr>\n",
       "      <th>173</th>\n",
       "      <td>13.71</td>\n",
       "      <td>5.65</td>\n",
       "      <td>2.45</td>\n",
       "      <td>20.5</td>\n",
       "      <td>95.0</td>\n",
       "      <td>1.68</td>\n",
       "      <td>0.61</td>\n",
       "      <td>0.52</td>\n",
       "      <td>1.06</td>\n",
       "      <td>7.70</td>\n",
       "      <td>0.64</td>\n",
       "      <td>1.74</td>\n",
       "      <td>740.0</td>\n",
       "    </tr>\n",
       "    <tr>\n",
       "      <th>174</th>\n",
       "      <td>13.40</td>\n",
       "      <td>3.91</td>\n",
       "      <td>2.48</td>\n",
       "      <td>23.0</td>\n",
       "      <td>102.0</td>\n",
       "      <td>1.80</td>\n",
       "      <td>0.75</td>\n",
       "      <td>0.43</td>\n",
       "      <td>1.41</td>\n",
       "      <td>7.30</td>\n",
       "      <td>0.70</td>\n",
       "      <td>1.56</td>\n",
       "      <td>750.0</td>\n",
       "    </tr>\n",
       "    <tr>\n",
       "      <th>175</th>\n",
       "      <td>13.27</td>\n",
       "      <td>4.28</td>\n",
       "      <td>2.26</td>\n",
       "      <td>20.0</td>\n",
       "      <td>120.0</td>\n",
       "      <td>1.59</td>\n",
       "      <td>0.69</td>\n",
       "      <td>0.43</td>\n",
       "      <td>1.35</td>\n",
       "      <td>10.20</td>\n",
       "      <td>0.59</td>\n",
       "      <td>1.56</td>\n",
       "      <td>835.0</td>\n",
       "    </tr>\n",
       "    <tr>\n",
       "      <th>176</th>\n",
       "      <td>13.17</td>\n",
       "      <td>2.59</td>\n",
       "      <td>2.37</td>\n",
       "      <td>20.0</td>\n",
       "      <td>120.0</td>\n",
       "      <td>1.65</td>\n",
       "      <td>0.68</td>\n",
       "      <td>0.53</td>\n",
       "      <td>1.46</td>\n",
       "      <td>9.30</td>\n",
       "      <td>0.60</td>\n",
       "      <td>1.62</td>\n",
       "      <td>840.0</td>\n",
       "    </tr>\n",
       "    <tr>\n",
       "      <th>177</th>\n",
       "      <td>14.13</td>\n",
       "      <td>4.10</td>\n",
       "      <td>2.74</td>\n",
       "      <td>24.5</td>\n",
       "      <td>96.0</td>\n",
       "      <td>2.05</td>\n",
       "      <td>0.76</td>\n",
       "      <td>0.56</td>\n",
       "      <td>1.35</td>\n",
       "      <td>9.20</td>\n",
       "      <td>0.61</td>\n",
       "      <td>1.60</td>\n",
       "      <td>560.0</td>\n",
       "    </tr>\n",
       "  </tbody>\n",
       "</table>\n",
       "<p>178 rows × 13 columns</p>\n",
       "</div>"
      ],
      "text/plain": [
       "     alcohol  malic_acid   ash  alcalinity_of_ash  magnesium  total_phenols  \\\n",
       "0      14.23        1.71  2.43               15.6      127.0           2.80   \n",
       "1      13.20        1.78  2.14               11.2      100.0           2.65   \n",
       "2      13.16        2.36  2.67               18.6      101.0           2.80   \n",
       "3      14.37        1.95  2.50               16.8      113.0           3.85   \n",
       "4      13.24        2.59  2.87               21.0      118.0           2.80   \n",
       "..       ...         ...   ...                ...        ...            ...   \n",
       "173    13.71        5.65  2.45               20.5       95.0           1.68   \n",
       "174    13.40        3.91  2.48               23.0      102.0           1.80   \n",
       "175    13.27        4.28  2.26               20.0      120.0           1.59   \n",
       "176    13.17        2.59  2.37               20.0      120.0           1.65   \n",
       "177    14.13        4.10  2.74               24.5       96.0           2.05   \n",
       "\n",
       "     flavanoids  nonflavanoid_phenols  proanthocyanins  color_intensity   hue  \\\n",
       "0          3.06                  0.28             2.29             5.64  1.04   \n",
       "1          2.76                  0.26             1.28             4.38  1.05   \n",
       "2          3.24                  0.30             2.81             5.68  1.03   \n",
       "3          3.49                  0.24             2.18             7.80  0.86   \n",
       "4          2.69                  0.39             1.82             4.32  1.04   \n",
       "..          ...                   ...              ...              ...   ...   \n",
       "173        0.61                  0.52             1.06             7.70  0.64   \n",
       "174        0.75                  0.43             1.41             7.30  0.70   \n",
       "175        0.69                  0.43             1.35            10.20  0.59   \n",
       "176        0.68                  0.53             1.46             9.30  0.60   \n",
       "177        0.76                  0.56             1.35             9.20  0.61   \n",
       "\n",
       "     od280/od315_of_diluted_wines  proline  \n",
       "0                            3.92   1065.0  \n",
       "1                            3.40   1050.0  \n",
       "2                            3.17   1185.0  \n",
       "3                            3.45   1480.0  \n",
       "4                            2.93    735.0  \n",
       "..                            ...      ...  \n",
       "173                          1.74    740.0  \n",
       "174                          1.56    750.0  \n",
       "175                          1.56    835.0  \n",
       "176                          1.62    840.0  \n",
       "177                          1.60    560.0  \n",
       "\n",
       "[178 rows x 13 columns]"
      ]
     },
     "execution_count": 12,
     "metadata": {},
     "output_type": "execute_result"
    }
   ],
   "source": [
    "df"
   ]
  },
  {
   "cell_type": "code",
   "execution_count": 35,
   "id": "60de54c6-3d02-4249-9438-6de657c012dc",
   "metadata": {},
   "outputs": [
    {
     "data": {
      "text/html": [
       "<div>\n",
       "<style scoped>\n",
       "    .dataframe tbody tr th:only-of-type {\n",
       "        vertical-align: middle;\n",
       "    }\n",
       "\n",
       "    .dataframe tbody tr th {\n",
       "        vertical-align: top;\n",
       "    }\n",
       "\n",
       "    .dataframe thead th {\n",
       "        text-align: right;\n",
       "    }\n",
       "</style>\n",
       "<table border=\"1\" class=\"dataframe\">\n",
       "  <thead>\n",
       "    <tr style=\"text-align: right;\">\n",
       "      <th></th>\n",
       "      <th>alcohol</th>\n",
       "      <th>malic_acid</th>\n",
       "      <th>ash</th>\n",
       "      <th>alcalinity_of_ash</th>\n",
       "      <th>magnesium</th>\n",
       "      <th>total_phenols</th>\n",
       "      <th>flavanoids</th>\n",
       "      <th>nonflavanoid_phenols</th>\n",
       "      <th>proanthocyanins</th>\n",
       "      <th>color_intensity</th>\n",
       "      <th>hue</th>\n",
       "      <th>od280/od315_of_diluted_wines</th>\n",
       "      <th>proline</th>\n",
       "      <th>target</th>\n",
       "    </tr>\n",
       "  </thead>\n",
       "  <tbody>\n",
       "    <tr>\n",
       "      <th>count</th>\n",
       "      <td>178.000000</td>\n",
       "      <td>178.000000</td>\n",
       "      <td>178.000000</td>\n",
       "      <td>178.000000</td>\n",
       "      <td>178.000000</td>\n",
       "      <td>178.000000</td>\n",
       "      <td>178.000000</td>\n",
       "      <td>178.000000</td>\n",
       "      <td>178.000000</td>\n",
       "      <td>178.000000</td>\n",
       "      <td>178.000000</td>\n",
       "      <td>178.000000</td>\n",
       "      <td>178.000000</td>\n",
       "      <td>178.000000</td>\n",
       "    </tr>\n",
       "    <tr>\n",
       "      <th>mean</th>\n",
       "      <td>13.000618</td>\n",
       "      <td>2.336348</td>\n",
       "      <td>2.366517</td>\n",
       "      <td>19.494944</td>\n",
       "      <td>99.741573</td>\n",
       "      <td>2.295112</td>\n",
       "      <td>2.029270</td>\n",
       "      <td>0.361854</td>\n",
       "      <td>1.590899</td>\n",
       "      <td>5.058090</td>\n",
       "      <td>0.957449</td>\n",
       "      <td>2.611685</td>\n",
       "      <td>746.893258</td>\n",
       "      <td>0.938202</td>\n",
       "    </tr>\n",
       "    <tr>\n",
       "      <th>std</th>\n",
       "      <td>0.811827</td>\n",
       "      <td>1.117146</td>\n",
       "      <td>0.274344</td>\n",
       "      <td>3.339564</td>\n",
       "      <td>14.282484</td>\n",
       "      <td>0.625851</td>\n",
       "      <td>0.998859</td>\n",
       "      <td>0.124453</td>\n",
       "      <td>0.572359</td>\n",
       "      <td>2.318286</td>\n",
       "      <td>0.228572</td>\n",
       "      <td>0.709990</td>\n",
       "      <td>314.907474</td>\n",
       "      <td>0.775035</td>\n",
       "    </tr>\n",
       "    <tr>\n",
       "      <th>min</th>\n",
       "      <td>11.030000</td>\n",
       "      <td>0.740000</td>\n",
       "      <td>1.360000</td>\n",
       "      <td>10.600000</td>\n",
       "      <td>70.000000</td>\n",
       "      <td>0.980000</td>\n",
       "      <td>0.340000</td>\n",
       "      <td>0.130000</td>\n",
       "      <td>0.410000</td>\n",
       "      <td>1.280000</td>\n",
       "      <td>0.480000</td>\n",
       "      <td>1.270000</td>\n",
       "      <td>278.000000</td>\n",
       "      <td>0.000000</td>\n",
       "    </tr>\n",
       "    <tr>\n",
       "      <th>25%</th>\n",
       "      <td>12.362500</td>\n",
       "      <td>1.602500</td>\n",
       "      <td>2.210000</td>\n",
       "      <td>17.200000</td>\n",
       "      <td>88.000000</td>\n",
       "      <td>1.742500</td>\n",
       "      <td>1.205000</td>\n",
       "      <td>0.270000</td>\n",
       "      <td>1.250000</td>\n",
       "      <td>3.220000</td>\n",
       "      <td>0.782500</td>\n",
       "      <td>1.937500</td>\n",
       "      <td>500.500000</td>\n",
       "      <td>0.000000</td>\n",
       "    </tr>\n",
       "    <tr>\n",
       "      <th>50%</th>\n",
       "      <td>13.050000</td>\n",
       "      <td>1.865000</td>\n",
       "      <td>2.360000</td>\n",
       "      <td>19.500000</td>\n",
       "      <td>98.000000</td>\n",
       "      <td>2.355000</td>\n",
       "      <td>2.135000</td>\n",
       "      <td>0.340000</td>\n",
       "      <td>1.555000</td>\n",
       "      <td>4.690000</td>\n",
       "      <td>0.965000</td>\n",
       "      <td>2.780000</td>\n",
       "      <td>673.500000</td>\n",
       "      <td>1.000000</td>\n",
       "    </tr>\n",
       "    <tr>\n",
       "      <th>75%</th>\n",
       "      <td>13.677500</td>\n",
       "      <td>3.082500</td>\n",
       "      <td>2.557500</td>\n",
       "      <td>21.500000</td>\n",
       "      <td>107.000000</td>\n",
       "      <td>2.800000</td>\n",
       "      <td>2.875000</td>\n",
       "      <td>0.437500</td>\n",
       "      <td>1.950000</td>\n",
       "      <td>6.200000</td>\n",
       "      <td>1.120000</td>\n",
       "      <td>3.170000</td>\n",
       "      <td>985.000000</td>\n",
       "      <td>2.000000</td>\n",
       "    </tr>\n",
       "    <tr>\n",
       "      <th>max</th>\n",
       "      <td>14.830000</td>\n",
       "      <td>5.800000</td>\n",
       "      <td>3.230000</td>\n",
       "      <td>30.000000</td>\n",
       "      <td>162.000000</td>\n",
       "      <td>3.880000</td>\n",
       "      <td>5.080000</td>\n",
       "      <td>0.660000</td>\n",
       "      <td>3.580000</td>\n",
       "      <td>13.000000</td>\n",
       "      <td>1.710000</td>\n",
       "      <td>4.000000</td>\n",
       "      <td>1680.000000</td>\n",
       "      <td>2.000000</td>\n",
       "    </tr>\n",
       "  </tbody>\n",
       "</table>\n",
       "</div>"
      ],
      "text/plain": [
       "          alcohol  malic_acid         ash  alcalinity_of_ash   magnesium  \\\n",
       "count  178.000000  178.000000  178.000000         178.000000  178.000000   \n",
       "mean    13.000618    2.336348    2.366517          19.494944   99.741573   \n",
       "std      0.811827    1.117146    0.274344           3.339564   14.282484   \n",
       "min     11.030000    0.740000    1.360000          10.600000   70.000000   \n",
       "25%     12.362500    1.602500    2.210000          17.200000   88.000000   \n",
       "50%     13.050000    1.865000    2.360000          19.500000   98.000000   \n",
       "75%     13.677500    3.082500    2.557500          21.500000  107.000000   \n",
       "max     14.830000    5.800000    3.230000          30.000000  162.000000   \n",
       "\n",
       "       total_phenols  flavanoids  nonflavanoid_phenols  proanthocyanins  \\\n",
       "count     178.000000  178.000000            178.000000       178.000000   \n",
       "mean        2.295112    2.029270              0.361854         1.590899   \n",
       "std         0.625851    0.998859              0.124453         0.572359   \n",
       "min         0.980000    0.340000              0.130000         0.410000   \n",
       "25%         1.742500    1.205000              0.270000         1.250000   \n",
       "50%         2.355000    2.135000              0.340000         1.555000   \n",
       "75%         2.800000    2.875000              0.437500         1.950000   \n",
       "max         3.880000    5.080000              0.660000         3.580000   \n",
       "\n",
       "       color_intensity         hue  od280/od315_of_diluted_wines      proline  \\\n",
       "count       178.000000  178.000000                    178.000000   178.000000   \n",
       "mean          5.058090    0.957449                      2.611685   746.893258   \n",
       "std           2.318286    0.228572                      0.709990   314.907474   \n",
       "min           1.280000    0.480000                      1.270000   278.000000   \n",
       "25%           3.220000    0.782500                      1.937500   500.500000   \n",
       "50%           4.690000    0.965000                      2.780000   673.500000   \n",
       "75%           6.200000    1.120000                      3.170000   985.000000   \n",
       "max          13.000000    1.710000                      4.000000  1680.000000   \n",
       "\n",
       "           target  \n",
       "count  178.000000  \n",
       "mean     0.938202  \n",
       "std      0.775035  \n",
       "min      0.000000  \n",
       "25%      0.000000  \n",
       "50%      1.000000  \n",
       "75%      2.000000  \n",
       "max      2.000000  "
      ]
     },
     "execution_count": 35,
     "metadata": {},
     "output_type": "execute_result"
    }
   ],
   "source": [
    "df.describe()"
   ]
  },
  {
   "cell_type": "code",
   "execution_count": 15,
   "id": "01867d13-e0b5-40c7-ab30-c9645f82585d",
   "metadata": {},
   "outputs": [],
   "source": [
    "scaler=StandardScaler()"
   ]
  },
  {
   "cell_type": "code",
   "execution_count": 13,
   "id": "5a994a23-6a34-4cee-adf6-52884739a81f",
   "metadata": {},
   "outputs": [],
   "source": [
    "df['target']=wine.target"
   ]
  },
  {
   "cell_type": "code",
   "execution_count": 14,
   "id": "1ff0e2a8-302a-417e-8610-f29859a7e9a3",
   "metadata": {},
   "outputs": [
    {
     "data": {
      "text/html": [
       "<div>\n",
       "<style scoped>\n",
       "    .dataframe tbody tr th:only-of-type {\n",
       "        vertical-align: middle;\n",
       "    }\n",
       "\n",
       "    .dataframe tbody tr th {\n",
       "        vertical-align: top;\n",
       "    }\n",
       "\n",
       "    .dataframe thead th {\n",
       "        text-align: right;\n",
       "    }\n",
       "</style>\n",
       "<table border=\"1\" class=\"dataframe\">\n",
       "  <thead>\n",
       "    <tr style=\"text-align: right;\">\n",
       "      <th></th>\n",
       "      <th>alcohol</th>\n",
       "      <th>malic_acid</th>\n",
       "      <th>ash</th>\n",
       "      <th>alcalinity_of_ash</th>\n",
       "      <th>magnesium</th>\n",
       "      <th>total_phenols</th>\n",
       "      <th>flavanoids</th>\n",
       "      <th>nonflavanoid_phenols</th>\n",
       "      <th>proanthocyanins</th>\n",
       "      <th>color_intensity</th>\n",
       "      <th>hue</th>\n",
       "      <th>od280/od315_of_diluted_wines</th>\n",
       "      <th>proline</th>\n",
       "      <th>target</th>\n",
       "    </tr>\n",
       "  </thead>\n",
       "  <tbody>\n",
       "    <tr>\n",
       "      <th>0</th>\n",
       "      <td>14.23</td>\n",
       "      <td>1.71</td>\n",
       "      <td>2.43</td>\n",
       "      <td>15.6</td>\n",
       "      <td>127.0</td>\n",
       "      <td>2.80</td>\n",
       "      <td>3.06</td>\n",
       "      <td>0.28</td>\n",
       "      <td>2.29</td>\n",
       "      <td>5.64</td>\n",
       "      <td>1.04</td>\n",
       "      <td>3.92</td>\n",
       "      <td>1065.0</td>\n",
       "      <td>0</td>\n",
       "    </tr>\n",
       "    <tr>\n",
       "      <th>1</th>\n",
       "      <td>13.20</td>\n",
       "      <td>1.78</td>\n",
       "      <td>2.14</td>\n",
       "      <td>11.2</td>\n",
       "      <td>100.0</td>\n",
       "      <td>2.65</td>\n",
       "      <td>2.76</td>\n",
       "      <td>0.26</td>\n",
       "      <td>1.28</td>\n",
       "      <td>4.38</td>\n",
       "      <td>1.05</td>\n",
       "      <td>3.40</td>\n",
       "      <td>1050.0</td>\n",
       "      <td>0</td>\n",
       "    </tr>\n",
       "    <tr>\n",
       "      <th>2</th>\n",
       "      <td>13.16</td>\n",
       "      <td>2.36</td>\n",
       "      <td>2.67</td>\n",
       "      <td>18.6</td>\n",
       "      <td>101.0</td>\n",
       "      <td>2.80</td>\n",
       "      <td>3.24</td>\n",
       "      <td>0.30</td>\n",
       "      <td>2.81</td>\n",
       "      <td>5.68</td>\n",
       "      <td>1.03</td>\n",
       "      <td>3.17</td>\n",
       "      <td>1185.0</td>\n",
       "      <td>0</td>\n",
       "    </tr>\n",
       "    <tr>\n",
       "      <th>3</th>\n",
       "      <td>14.37</td>\n",
       "      <td>1.95</td>\n",
       "      <td>2.50</td>\n",
       "      <td>16.8</td>\n",
       "      <td>113.0</td>\n",
       "      <td>3.85</td>\n",
       "      <td>3.49</td>\n",
       "      <td>0.24</td>\n",
       "      <td>2.18</td>\n",
       "      <td>7.80</td>\n",
       "      <td>0.86</td>\n",
       "      <td>3.45</td>\n",
       "      <td>1480.0</td>\n",
       "      <td>0</td>\n",
       "    </tr>\n",
       "    <tr>\n",
       "      <th>4</th>\n",
       "      <td>13.24</td>\n",
       "      <td>2.59</td>\n",
       "      <td>2.87</td>\n",
       "      <td>21.0</td>\n",
       "      <td>118.0</td>\n",
       "      <td>2.80</td>\n",
       "      <td>2.69</td>\n",
       "      <td>0.39</td>\n",
       "      <td>1.82</td>\n",
       "      <td>4.32</td>\n",
       "      <td>1.04</td>\n",
       "      <td>2.93</td>\n",
       "      <td>735.0</td>\n",
       "      <td>0</td>\n",
       "    </tr>\n",
       "    <tr>\n",
       "      <th>...</th>\n",
       "      <td>...</td>\n",
       "      <td>...</td>\n",
       "      <td>...</td>\n",
       "      <td>...</td>\n",
       "      <td>...</td>\n",
       "      <td>...</td>\n",
       "      <td>...</td>\n",
       "      <td>...</td>\n",
       "      <td>...</td>\n",
       "      <td>...</td>\n",
       "      <td>...</td>\n",
       "      <td>...</td>\n",
       "      <td>...</td>\n",
       "      <td>...</td>\n",
       "    </tr>\n",
       "    <tr>\n",
       "      <th>173</th>\n",
       "      <td>13.71</td>\n",
       "      <td>5.65</td>\n",
       "      <td>2.45</td>\n",
       "      <td>20.5</td>\n",
       "      <td>95.0</td>\n",
       "      <td>1.68</td>\n",
       "      <td>0.61</td>\n",
       "      <td>0.52</td>\n",
       "      <td>1.06</td>\n",
       "      <td>7.70</td>\n",
       "      <td>0.64</td>\n",
       "      <td>1.74</td>\n",
       "      <td>740.0</td>\n",
       "      <td>2</td>\n",
       "    </tr>\n",
       "    <tr>\n",
       "      <th>174</th>\n",
       "      <td>13.40</td>\n",
       "      <td>3.91</td>\n",
       "      <td>2.48</td>\n",
       "      <td>23.0</td>\n",
       "      <td>102.0</td>\n",
       "      <td>1.80</td>\n",
       "      <td>0.75</td>\n",
       "      <td>0.43</td>\n",
       "      <td>1.41</td>\n",
       "      <td>7.30</td>\n",
       "      <td>0.70</td>\n",
       "      <td>1.56</td>\n",
       "      <td>750.0</td>\n",
       "      <td>2</td>\n",
       "    </tr>\n",
       "    <tr>\n",
       "      <th>175</th>\n",
       "      <td>13.27</td>\n",
       "      <td>4.28</td>\n",
       "      <td>2.26</td>\n",
       "      <td>20.0</td>\n",
       "      <td>120.0</td>\n",
       "      <td>1.59</td>\n",
       "      <td>0.69</td>\n",
       "      <td>0.43</td>\n",
       "      <td>1.35</td>\n",
       "      <td>10.20</td>\n",
       "      <td>0.59</td>\n",
       "      <td>1.56</td>\n",
       "      <td>835.0</td>\n",
       "      <td>2</td>\n",
       "    </tr>\n",
       "    <tr>\n",
       "      <th>176</th>\n",
       "      <td>13.17</td>\n",
       "      <td>2.59</td>\n",
       "      <td>2.37</td>\n",
       "      <td>20.0</td>\n",
       "      <td>120.0</td>\n",
       "      <td>1.65</td>\n",
       "      <td>0.68</td>\n",
       "      <td>0.53</td>\n",
       "      <td>1.46</td>\n",
       "      <td>9.30</td>\n",
       "      <td>0.60</td>\n",
       "      <td>1.62</td>\n",
       "      <td>840.0</td>\n",
       "      <td>2</td>\n",
       "    </tr>\n",
       "    <tr>\n",
       "      <th>177</th>\n",
       "      <td>14.13</td>\n",
       "      <td>4.10</td>\n",
       "      <td>2.74</td>\n",
       "      <td>24.5</td>\n",
       "      <td>96.0</td>\n",
       "      <td>2.05</td>\n",
       "      <td>0.76</td>\n",
       "      <td>0.56</td>\n",
       "      <td>1.35</td>\n",
       "      <td>9.20</td>\n",
       "      <td>0.61</td>\n",
       "      <td>1.60</td>\n",
       "      <td>560.0</td>\n",
       "      <td>2</td>\n",
       "    </tr>\n",
       "  </tbody>\n",
       "</table>\n",
       "<p>178 rows × 14 columns</p>\n",
       "</div>"
      ],
      "text/plain": [
       "     alcohol  malic_acid   ash  alcalinity_of_ash  magnesium  total_phenols  \\\n",
       "0      14.23        1.71  2.43               15.6      127.0           2.80   \n",
       "1      13.20        1.78  2.14               11.2      100.0           2.65   \n",
       "2      13.16        2.36  2.67               18.6      101.0           2.80   \n",
       "3      14.37        1.95  2.50               16.8      113.0           3.85   \n",
       "4      13.24        2.59  2.87               21.0      118.0           2.80   \n",
       "..       ...         ...   ...                ...        ...            ...   \n",
       "173    13.71        5.65  2.45               20.5       95.0           1.68   \n",
       "174    13.40        3.91  2.48               23.0      102.0           1.80   \n",
       "175    13.27        4.28  2.26               20.0      120.0           1.59   \n",
       "176    13.17        2.59  2.37               20.0      120.0           1.65   \n",
       "177    14.13        4.10  2.74               24.5       96.0           2.05   \n",
       "\n",
       "     flavanoids  nonflavanoid_phenols  proanthocyanins  color_intensity   hue  \\\n",
       "0          3.06                  0.28             2.29             5.64  1.04   \n",
       "1          2.76                  0.26             1.28             4.38  1.05   \n",
       "2          3.24                  0.30             2.81             5.68  1.03   \n",
       "3          3.49                  0.24             2.18             7.80  0.86   \n",
       "4          2.69                  0.39             1.82             4.32  1.04   \n",
       "..          ...                   ...              ...              ...   ...   \n",
       "173        0.61                  0.52             1.06             7.70  0.64   \n",
       "174        0.75                  0.43             1.41             7.30  0.70   \n",
       "175        0.69                  0.43             1.35            10.20  0.59   \n",
       "176        0.68                  0.53             1.46             9.30  0.60   \n",
       "177        0.76                  0.56             1.35             9.20  0.61   \n",
       "\n",
       "     od280/od315_of_diluted_wines  proline  target  \n",
       "0                            3.92   1065.0       0  \n",
       "1                            3.40   1050.0       0  \n",
       "2                            3.17   1185.0       0  \n",
       "3                            3.45   1480.0       0  \n",
       "4                            2.93    735.0       0  \n",
       "..                            ...      ...     ...  \n",
       "173                          1.74    740.0       2  \n",
       "174                          1.56    750.0       2  \n",
       "175                          1.56    835.0       2  \n",
       "176                          1.62    840.0       2  \n",
       "177                          1.60    560.0       2  \n",
       "\n",
       "[178 rows x 14 columns]"
      ]
     },
     "execution_count": 14,
     "metadata": {},
     "output_type": "execute_result"
    }
   ],
   "source": [
    "df"
   ]
  },
  {
   "cell_type": "code",
   "execution_count": 17,
   "id": "4175ea5a-a961-4d4c-b6c5-d53dca30c070",
   "metadata": {},
   "outputs": [],
   "source": [
    "X=df.drop('target',axis=1)\n",
    "Y=df['target']"
   ]
  },
  {
   "cell_type": "code",
   "execution_count": 18,
   "id": "5d61cfb3-164c-4059-9271-c6934385e018",
   "metadata": {},
   "outputs": [
    {
     "name": "stdout",
     "output_type": "stream",
     "text": [
      "(178, 13)\n",
      "(178,)\n"
     ]
    }
   ],
   "source": [
    "print(X.shape)\n",
    "print(Y.shape)"
   ]
  },
  {
   "cell_type": "code",
   "execution_count": 29,
   "id": "d9969fb1-e697-4bc3-bed5-766a513e99fd",
   "metadata": {},
   "outputs": [],
   "source": [
    "scaler_x=scaler.fit_transform(X)"
   ]
  },
  {
   "cell_type": "code",
   "execution_count": 30,
   "id": "60f2f70a-8d64-49f2-b890-21c05109ff89",
   "metadata": {},
   "outputs": [],
   "source": [
    "x_train,x_test,y_train,y_test=train_test_split(scaler_x,Y,test_size=0.2,random_state=42)"
   ]
  },
  {
   "cell_type": "code",
   "execution_count": 36,
   "id": "d53e266c-3528-4ca9-b0df-74d9c69c5e2c",
   "metadata": {},
   "outputs": [
    {
     "name": "stdout",
     "output_type": "stream",
     "text": [
      "(142, 13) (142,)\n"
     ]
    }
   ],
   "source": [
    "print(x_train.shape,y_train.shape)"
   ]
  },
  {
   "cell_type": "code",
   "execution_count": 37,
   "id": "fc0e3748-0e5a-4f56-a340-7a64027f44f2",
   "metadata": {},
   "outputs": [
    {
     "name": "stdout",
     "output_type": "stream",
     "text": [
      "(36, 13) (36,)\n"
     ]
    }
   ],
   "source": [
    "print(x_test.shape,y_test.shape)"
   ]
  },
  {
   "cell_type": "code",
   "execution_count": 38,
   "id": "33155d8c-647b-4c65-8ae0-8e0a14a51b98",
   "metadata": {},
   "outputs": [],
   "source": [
    "model=SVC()# 전체 데이터에서 스케일러를 써도 되고 train test단계에서 스케일러를 써도 된다."
   ]
  },
  {
   "cell_type": "code",
   "execution_count": 32,
   "id": "189d45ed-0096-48cb-8b84-85c683aa6cd3",
   "metadata": {},
   "outputs": [
    {
     "data": {
      "text/plain": [
       "SVC()"
      ]
     },
     "execution_count": 32,
     "metadata": {},
     "output_type": "execute_result"
    }
   ],
   "source": [
    "model.fit(x_train,y_train)"
   ]
  },
  {
   "cell_type": "code",
   "execution_count": 33,
   "id": "af394f3b-9436-414b-8fae-ff1ef996c98e",
   "metadata": {},
   "outputs": [
    {
     "data": {
      "text/plain": [
       "1.0"
      ]
     },
     "execution_count": 33,
     "metadata": {},
     "output_type": "execute_result"
    }
   ],
   "source": [
    "model.score(x_train,y_train)"
   ]
  },
  {
   "cell_type": "code",
   "execution_count": 34,
   "id": "87f4cf0d-0c91-4211-b486-9646bff5ca04",
   "metadata": {},
   "outputs": [
    {
     "data": {
      "text/plain": [
       "1.0"
      ]
     },
     "execution_count": 34,
     "metadata": {},
     "output_type": "execute_result"
    }
   ],
   "source": [
    "model.score(x_test,y_test)"
   ]
  },
  {
   "cell_type": "code",
   "execution_count": 59,
   "id": "0a0fae7f-858f-4c13-b132-1c5be2048ee7",
   "metadata": {},
   "outputs": [
    {
     "data": {
      "text/plain": [
       "array([1.30006180e+01, 2.33634831e+00, 2.36651685e+00, 1.94949438e+01,\n",
       "       9.97415730e+01, 2.29511236e+00, 2.02926966e+00, 3.61853933e-01,\n",
       "       1.59089888e+00, 5.05808988e+00, 9.57449438e-01, 2.61168539e+00,\n",
       "       7.46893258e+02])"
      ]
     },
     "execution_count": 59,
     "metadata": {},
     "output_type": "execute_result"
    }
   ],
   "source": [
    "scaler.mean_ #스케일러의 평균값을 볼 수 있다."
   ]
  },
  {
   "cell_type": "markdown",
   "id": "65c43a19-0f1b-45d6-a8f9-b1b962bd0b84",
   "metadata": {},
   "source": [
    "-----------------"
   ]
  },
  {
   "cell_type": "markdown",
   "id": "50af09df-3773-451c-a458-0ff46824da2c",
   "metadata": {
    "tags": []
   },
   "source": [
    "# pipeline"
   ]
  },
  {
   "cell_type": "code",
   "execution_count": 82,
   "id": "84874686-0b66-4522-8dd8-3ef6ac2999eb",
   "metadata": {},
   "outputs": [],
   "source": [
    "from sklearn.pipeline import Pipeline"
   ]
  },
  {
   "cell_type": "code",
   "execution_count": 80,
   "id": "c6ef2dc8-aa38-4501-a3ad-db779755e56e",
   "metadata": {},
   "outputs": [],
   "source": [
    "from sklearn import set_config"
   ]
  },
  {
   "cell_type": "code",
   "execution_count": 81,
   "id": "4ec05abb-a69a-4dee-bce9-993eb553d40e",
   "metadata": {},
   "outputs": [],
   "source": [
    "set_config(display=\"diagram\")"
   ]
  },
  {
   "cell_type": "code",
   "execution_count": 83,
   "id": "c1e72e44-8d69-44c0-8fdd-b18a260e57a8",
   "metadata": {},
   "outputs": [],
   "source": [
    "pipeline=Pipeline([('scaler2', StandardScaler()), ('svc',SVC())])"
   ]
  },
  {
   "cell_type": "code",
   "execution_count": 84,
   "id": "dcbe5878-6c83-40ff-af40-593e9c2afec9",
   "metadata": {},
   "outputs": [],
   "source": [
    "x_train,x_test,y_train,y_test=train_test_split(X ,Y,test_size=0.2,random_state=42)"
   ]
  },
  {
   "cell_type": "code",
   "execution_count": 85,
   "id": "6ed263eb-7fca-4a82-9635-5d5ac703e1eb",
   "metadata": {},
   "outputs": [
    {
     "data": {
      "text/html": [
       "<style>#sk-d41cb2f6-bc2e-47aa-afd9-706e6495c450 {color: black;background-color: white;}#sk-d41cb2f6-bc2e-47aa-afd9-706e6495c450 pre{padding: 0;}#sk-d41cb2f6-bc2e-47aa-afd9-706e6495c450 div.sk-toggleable {background-color: white;}#sk-d41cb2f6-bc2e-47aa-afd9-706e6495c450 label.sk-toggleable__label {cursor: pointer;display: block;width: 100%;margin-bottom: 0;padding: 0.3em;box-sizing: border-box;text-align: center;}#sk-d41cb2f6-bc2e-47aa-afd9-706e6495c450 label.sk-toggleable__label-arrow:before {content: \"▸\";float: left;margin-right: 0.25em;color: #696969;}#sk-d41cb2f6-bc2e-47aa-afd9-706e6495c450 label.sk-toggleable__label-arrow:hover:before {color: black;}#sk-d41cb2f6-bc2e-47aa-afd9-706e6495c450 div.sk-estimator:hover label.sk-toggleable__label-arrow:before {color: black;}#sk-d41cb2f6-bc2e-47aa-afd9-706e6495c450 div.sk-toggleable__content {max-height: 0;max-width: 0;overflow: hidden;text-align: left;background-color: #f0f8ff;}#sk-d41cb2f6-bc2e-47aa-afd9-706e6495c450 div.sk-toggleable__content pre {margin: 0.2em;color: black;border-radius: 0.25em;background-color: #f0f8ff;}#sk-d41cb2f6-bc2e-47aa-afd9-706e6495c450 input.sk-toggleable__control:checked~div.sk-toggleable__content {max-height: 200px;max-width: 100%;overflow: auto;}#sk-d41cb2f6-bc2e-47aa-afd9-706e6495c450 input.sk-toggleable__control:checked~label.sk-toggleable__label-arrow:before {content: \"▾\";}#sk-d41cb2f6-bc2e-47aa-afd9-706e6495c450 div.sk-estimator input.sk-toggleable__control:checked~label.sk-toggleable__label {background-color: #d4ebff;}#sk-d41cb2f6-bc2e-47aa-afd9-706e6495c450 div.sk-label input.sk-toggleable__control:checked~label.sk-toggleable__label {background-color: #d4ebff;}#sk-d41cb2f6-bc2e-47aa-afd9-706e6495c450 input.sk-hidden--visually {border: 0;clip: rect(1px 1px 1px 1px);clip: rect(1px, 1px, 1px, 1px);height: 1px;margin: -1px;overflow: hidden;padding: 0;position: absolute;width: 1px;}#sk-d41cb2f6-bc2e-47aa-afd9-706e6495c450 div.sk-estimator {font-family: monospace;background-color: #f0f8ff;border: 1px dotted black;border-radius: 0.25em;box-sizing: border-box;margin-bottom: 0.5em;}#sk-d41cb2f6-bc2e-47aa-afd9-706e6495c450 div.sk-estimator:hover {background-color: #d4ebff;}#sk-d41cb2f6-bc2e-47aa-afd9-706e6495c450 div.sk-parallel-item::after {content: \"\";width: 100%;border-bottom: 1px solid gray;flex-grow: 1;}#sk-d41cb2f6-bc2e-47aa-afd9-706e6495c450 div.sk-label:hover label.sk-toggleable__label {background-color: #d4ebff;}#sk-d41cb2f6-bc2e-47aa-afd9-706e6495c450 div.sk-serial::before {content: \"\";position: absolute;border-left: 1px solid gray;box-sizing: border-box;top: 2em;bottom: 0;left: 50%;}#sk-d41cb2f6-bc2e-47aa-afd9-706e6495c450 div.sk-serial {display: flex;flex-direction: column;align-items: center;background-color: white;padding-right: 0.2em;padding-left: 0.2em;}#sk-d41cb2f6-bc2e-47aa-afd9-706e6495c450 div.sk-item {z-index: 1;}#sk-d41cb2f6-bc2e-47aa-afd9-706e6495c450 div.sk-parallel {display: flex;align-items: stretch;justify-content: center;background-color: white;}#sk-d41cb2f6-bc2e-47aa-afd9-706e6495c450 div.sk-parallel::before {content: \"\";position: absolute;border-left: 1px solid gray;box-sizing: border-box;top: 2em;bottom: 0;left: 50%;}#sk-d41cb2f6-bc2e-47aa-afd9-706e6495c450 div.sk-parallel-item {display: flex;flex-direction: column;position: relative;background-color: white;}#sk-d41cb2f6-bc2e-47aa-afd9-706e6495c450 div.sk-parallel-item:first-child::after {align-self: flex-end;width: 50%;}#sk-d41cb2f6-bc2e-47aa-afd9-706e6495c450 div.sk-parallel-item:last-child::after {align-self: flex-start;width: 50%;}#sk-d41cb2f6-bc2e-47aa-afd9-706e6495c450 div.sk-parallel-item:only-child::after {width: 0;}#sk-d41cb2f6-bc2e-47aa-afd9-706e6495c450 div.sk-dashed-wrapped {border: 1px dashed gray;margin: 0 0.4em 0.5em 0.4em;box-sizing: border-box;padding-bottom: 0.4em;background-color: white;position: relative;}#sk-d41cb2f6-bc2e-47aa-afd9-706e6495c450 div.sk-label label {font-family: monospace;font-weight: bold;background-color: white;display: inline-block;line-height: 1.2em;}#sk-d41cb2f6-bc2e-47aa-afd9-706e6495c450 div.sk-label-container {position: relative;z-index: 2;text-align: center;}#sk-d41cb2f6-bc2e-47aa-afd9-706e6495c450 div.sk-container {/* jupyter's `normalize.less` sets `[hidden] { display: none; }` but bootstrap.min.css set `[hidden] { display: none !important; }` so we also need the `!important` here to be able to override the default hidden behavior on the sphinx rendered scikit-learn.org. See: https://github.com/scikit-learn/scikit-learn/issues/21755 */display: inline-block !important;position: relative;}#sk-d41cb2f6-bc2e-47aa-afd9-706e6495c450 div.sk-text-repr-fallback {display: none;}</style><div id=\"sk-d41cb2f6-bc2e-47aa-afd9-706e6495c450\" class=\"sk-top-container\"><div class=\"sk-text-repr-fallback\"><pre>Pipeline(steps=[(&#x27;scaler2&#x27;, StandardScaler()), (&#x27;svc&#x27;, SVC())])</pre><b>Please rerun this cell to show the HTML repr or trust the notebook.</b></div><div class=\"sk-container\" hidden><div class=\"sk-item sk-dashed-wrapped\"><div class=\"sk-label-container\"><div class=\"sk-label sk-toggleable\"><input class=\"sk-toggleable__control sk-hidden--visually\" id=\"d96c4769-f897-47aa-aa54-7cec50e8b0bc\" type=\"checkbox\" ><label for=\"d96c4769-f897-47aa-aa54-7cec50e8b0bc\" class=\"sk-toggleable__label sk-toggleable__label-arrow\">Pipeline</label><div class=\"sk-toggleable__content\"><pre>Pipeline(steps=[(&#x27;scaler2&#x27;, StandardScaler()), (&#x27;svc&#x27;, SVC())])</pre></div></div></div><div class=\"sk-serial\"><div class=\"sk-item\"><div class=\"sk-estimator sk-toggleable\"><input class=\"sk-toggleable__control sk-hidden--visually\" id=\"0471cc53-14ce-48a1-8ea2-614110b57ca8\" type=\"checkbox\" ><label for=\"0471cc53-14ce-48a1-8ea2-614110b57ca8\" class=\"sk-toggleable__label sk-toggleable__label-arrow\">StandardScaler</label><div class=\"sk-toggleable__content\"><pre>StandardScaler()</pre></div></div></div><div class=\"sk-item\"><div class=\"sk-estimator sk-toggleable\"><input class=\"sk-toggleable__control sk-hidden--visually\" id=\"f752ad9b-2700-4179-a2a3-7b09a5407b43\" type=\"checkbox\" ><label for=\"f752ad9b-2700-4179-a2a3-7b09a5407b43\" class=\"sk-toggleable__label sk-toggleable__label-arrow\">SVC</label><div class=\"sk-toggleable__content\"><pre>SVC()</pre></div></div></div></div></div></div></div>"
      ],
      "text/plain": [
       "Pipeline(steps=[('scaler2', StandardScaler()), ('svc', SVC())])"
      ]
     },
     "execution_count": 85,
     "metadata": {},
     "output_type": "execute_result"
    }
   ],
   "source": [
    "pipeline.fit(x_train,y_train)"
   ]
  },
  {
   "cell_type": "code",
   "execution_count": 63,
   "id": "9921cc47-fe1c-41d9-9b3f-83e842ef5321",
   "metadata": {},
   "outputs": [
    {
     "data": {
      "text/plain": [
       "1.0"
      ]
     },
     "execution_count": 63,
     "metadata": {},
     "output_type": "execute_result"
    }
   ],
   "source": [
    "pipeline.score(x_train,y_train)"
   ]
  },
  {
   "cell_type": "code",
   "execution_count": 64,
   "id": "16b126be-df0e-44aa-a9bf-36f19ffb61a4",
   "metadata": {},
   "outputs": [
    {
     "data": {
      "text/plain": [
       "1.0"
      ]
     },
     "execution_count": 64,
     "metadata": {},
     "output_type": "execute_result"
    }
   ],
   "source": [
    "pipeline.score(x_test,y_test)"
   ]
  },
  {
   "cell_type": "code",
   "execution_count": 71,
   "id": "ea29028f-91ee-462d-8268-b53db6d14c6d",
   "metadata": {},
   "outputs": [],
   "source": [
    "#scaler2                    #이렇게 스케일러의 평균값을 볼 수 있지만 파이프라인에 들어간 스케일러는 확인 할 수 없다. 어떻게 해야하나?"
   ]
  },
  {
   "cell_type": "code",
   "execution_count": 116,
   "id": "d2b92e3a-538f-4f58-b5db-c1f48d5d96ed",
   "metadata": {},
   "outputs": [
    {
     "data": {
      "text/plain": [
       "{'scaler2': StandardScaler(), 'svc': SVC()}"
      ]
     },
     "execution_count": 116,
     "metadata": {},
     "output_type": "execute_result"
    }
   ],
   "source": [
    "pipeline.named_steps"
   ]
  },
  {
   "cell_type": "code",
   "execution_count": 77,
   "id": "ce105dc3-3b0d-4f02-82e1-7d3be48732ff",
   "metadata": {},
   "outputs": [
    {
     "data": {
      "text/plain": [
       "array([1.29790845e+01, 2.37352113e+00, 2.36084507e+00, 1.94732394e+01,\n",
       "       1.00443662e+02, 2.28908451e+00, 2.00211268e+00, 3.68028169e-01,\n",
       "       1.60802817e+00, 5.05760563e+00, 9.56380282e-01, 2.59281690e+00,\n",
       "       7.34894366e+02])"
      ]
     },
     "execution_count": 77,
     "metadata": {},
     "output_type": "execute_result"
    }
   ],
   "source": [
    "pipeline.named_steps['scaler2'].mean_ #named_steps을 하면 파이프라인에 있는 절차를 볼 수 있다."
   ]
  },
  {
   "cell_type": "code",
   "execution_count": 79,
   "id": "9cea0bd4-0e83-4f76-a4bc-f401f34beeb9",
   "metadata": {},
   "outputs": [
    {
     "data": {
      "text/plain": [
       "{'C': 1.0,\n",
       " 'break_ties': False,\n",
       " 'cache_size': 200,\n",
       " 'class_weight': None,\n",
       " 'coef0': 0.0,\n",
       " 'decision_function_shape': 'ovr',\n",
       " 'degree': 3,\n",
       " 'gamma': 'scale',\n",
       " 'kernel': 'rbf',\n",
       " 'max_iter': -1,\n",
       " 'probability': False,\n",
       " 'random_state': None,\n",
       " 'shrinking': True,\n",
       " 'tol': 0.001,\n",
       " 'verbose': False}"
      ]
     },
     "execution_count": 79,
     "metadata": {},
     "output_type": "execute_result"
    }
   ],
   "source": [
    "pipeline.named_steps['svc'].get_params()"
   ]
  },
  {
   "cell_type": "markdown",
   "id": "dd4077de-c9f8-4487-b1fa-e90983312ae8",
   "metadata": {},
   "source": [
    "---"
   ]
  },
  {
   "cell_type": "code",
   "execution_count": 92,
   "id": "3fd6505e-8059-43c2-a460-cd8cb886bbc1",
   "metadata": {},
   "outputs": [],
   "source": [
    "from sklearn.pipeline import make_pipeline #쩐다"
   ]
  },
  {
   "cell_type": "code",
   "execution_count": 87,
   "id": "5d173a47-b947-4f90-8738-c5f782ca90ed",
   "metadata": {},
   "outputs": [],
   "source": [
    "pipline2=make_pipeline(StandardScaler(),SVC())"
   ]
  },
  {
   "cell_type": "code",
   "execution_count": 88,
   "id": "f9be8ae7-183f-442c-914d-98591473b054",
   "metadata": {},
   "outputs": [
    {
     "data": {
      "text/html": [
       "<style>#sk-a93dbc49-f692-4bf9-a952-01a813d37485 {color: black;background-color: white;}#sk-a93dbc49-f692-4bf9-a952-01a813d37485 pre{padding: 0;}#sk-a93dbc49-f692-4bf9-a952-01a813d37485 div.sk-toggleable {background-color: white;}#sk-a93dbc49-f692-4bf9-a952-01a813d37485 label.sk-toggleable__label {cursor: pointer;display: block;width: 100%;margin-bottom: 0;padding: 0.3em;box-sizing: border-box;text-align: center;}#sk-a93dbc49-f692-4bf9-a952-01a813d37485 label.sk-toggleable__label-arrow:before {content: \"▸\";float: left;margin-right: 0.25em;color: #696969;}#sk-a93dbc49-f692-4bf9-a952-01a813d37485 label.sk-toggleable__label-arrow:hover:before {color: black;}#sk-a93dbc49-f692-4bf9-a952-01a813d37485 div.sk-estimator:hover label.sk-toggleable__label-arrow:before {color: black;}#sk-a93dbc49-f692-4bf9-a952-01a813d37485 div.sk-toggleable__content {max-height: 0;max-width: 0;overflow: hidden;text-align: left;background-color: #f0f8ff;}#sk-a93dbc49-f692-4bf9-a952-01a813d37485 div.sk-toggleable__content pre {margin: 0.2em;color: black;border-radius: 0.25em;background-color: #f0f8ff;}#sk-a93dbc49-f692-4bf9-a952-01a813d37485 input.sk-toggleable__control:checked~div.sk-toggleable__content {max-height: 200px;max-width: 100%;overflow: auto;}#sk-a93dbc49-f692-4bf9-a952-01a813d37485 input.sk-toggleable__control:checked~label.sk-toggleable__label-arrow:before {content: \"▾\";}#sk-a93dbc49-f692-4bf9-a952-01a813d37485 div.sk-estimator input.sk-toggleable__control:checked~label.sk-toggleable__label {background-color: #d4ebff;}#sk-a93dbc49-f692-4bf9-a952-01a813d37485 div.sk-label input.sk-toggleable__control:checked~label.sk-toggleable__label {background-color: #d4ebff;}#sk-a93dbc49-f692-4bf9-a952-01a813d37485 input.sk-hidden--visually {border: 0;clip: rect(1px 1px 1px 1px);clip: rect(1px, 1px, 1px, 1px);height: 1px;margin: -1px;overflow: hidden;padding: 0;position: absolute;width: 1px;}#sk-a93dbc49-f692-4bf9-a952-01a813d37485 div.sk-estimator {font-family: monospace;background-color: #f0f8ff;border: 1px dotted black;border-radius: 0.25em;box-sizing: border-box;margin-bottom: 0.5em;}#sk-a93dbc49-f692-4bf9-a952-01a813d37485 div.sk-estimator:hover {background-color: #d4ebff;}#sk-a93dbc49-f692-4bf9-a952-01a813d37485 div.sk-parallel-item::after {content: \"\";width: 100%;border-bottom: 1px solid gray;flex-grow: 1;}#sk-a93dbc49-f692-4bf9-a952-01a813d37485 div.sk-label:hover label.sk-toggleable__label {background-color: #d4ebff;}#sk-a93dbc49-f692-4bf9-a952-01a813d37485 div.sk-serial::before {content: \"\";position: absolute;border-left: 1px solid gray;box-sizing: border-box;top: 2em;bottom: 0;left: 50%;}#sk-a93dbc49-f692-4bf9-a952-01a813d37485 div.sk-serial {display: flex;flex-direction: column;align-items: center;background-color: white;padding-right: 0.2em;padding-left: 0.2em;}#sk-a93dbc49-f692-4bf9-a952-01a813d37485 div.sk-item {z-index: 1;}#sk-a93dbc49-f692-4bf9-a952-01a813d37485 div.sk-parallel {display: flex;align-items: stretch;justify-content: center;background-color: white;}#sk-a93dbc49-f692-4bf9-a952-01a813d37485 div.sk-parallel::before {content: \"\";position: absolute;border-left: 1px solid gray;box-sizing: border-box;top: 2em;bottom: 0;left: 50%;}#sk-a93dbc49-f692-4bf9-a952-01a813d37485 div.sk-parallel-item {display: flex;flex-direction: column;position: relative;background-color: white;}#sk-a93dbc49-f692-4bf9-a952-01a813d37485 div.sk-parallel-item:first-child::after {align-self: flex-end;width: 50%;}#sk-a93dbc49-f692-4bf9-a952-01a813d37485 div.sk-parallel-item:last-child::after {align-self: flex-start;width: 50%;}#sk-a93dbc49-f692-4bf9-a952-01a813d37485 div.sk-parallel-item:only-child::after {width: 0;}#sk-a93dbc49-f692-4bf9-a952-01a813d37485 div.sk-dashed-wrapped {border: 1px dashed gray;margin: 0 0.4em 0.5em 0.4em;box-sizing: border-box;padding-bottom: 0.4em;background-color: white;position: relative;}#sk-a93dbc49-f692-4bf9-a952-01a813d37485 div.sk-label label {font-family: monospace;font-weight: bold;background-color: white;display: inline-block;line-height: 1.2em;}#sk-a93dbc49-f692-4bf9-a952-01a813d37485 div.sk-label-container {position: relative;z-index: 2;text-align: center;}#sk-a93dbc49-f692-4bf9-a952-01a813d37485 div.sk-container {/* jupyter's `normalize.less` sets `[hidden] { display: none; }` but bootstrap.min.css set `[hidden] { display: none !important; }` so we also need the `!important` here to be able to override the default hidden behavior on the sphinx rendered scikit-learn.org. See: https://github.com/scikit-learn/scikit-learn/issues/21755 */display: inline-block !important;position: relative;}#sk-a93dbc49-f692-4bf9-a952-01a813d37485 div.sk-text-repr-fallback {display: none;}</style><div id=\"sk-a93dbc49-f692-4bf9-a952-01a813d37485\" class=\"sk-top-container\"><div class=\"sk-text-repr-fallback\"><pre>Pipeline(steps=[(&#x27;standardscaler&#x27;, StandardScaler()), (&#x27;svc&#x27;, SVC())])</pre><b>Please rerun this cell to show the HTML repr or trust the notebook.</b></div><div class=\"sk-container\" hidden><div class=\"sk-item sk-dashed-wrapped\"><div class=\"sk-label-container\"><div class=\"sk-label sk-toggleable\"><input class=\"sk-toggleable__control sk-hidden--visually\" id=\"ed0df12f-ae7c-47ee-b787-827b6385e485\" type=\"checkbox\" ><label for=\"ed0df12f-ae7c-47ee-b787-827b6385e485\" class=\"sk-toggleable__label sk-toggleable__label-arrow\">Pipeline</label><div class=\"sk-toggleable__content\"><pre>Pipeline(steps=[(&#x27;standardscaler&#x27;, StandardScaler()), (&#x27;svc&#x27;, SVC())])</pre></div></div></div><div class=\"sk-serial\"><div class=\"sk-item\"><div class=\"sk-estimator sk-toggleable\"><input class=\"sk-toggleable__control sk-hidden--visually\" id=\"623663e7-c0b9-4bd2-a970-e1d58a5019f9\" type=\"checkbox\" ><label for=\"623663e7-c0b9-4bd2-a970-e1d58a5019f9\" class=\"sk-toggleable__label sk-toggleable__label-arrow\">StandardScaler</label><div class=\"sk-toggleable__content\"><pre>StandardScaler()</pre></div></div></div><div class=\"sk-item\"><div class=\"sk-estimator sk-toggleable\"><input class=\"sk-toggleable__control sk-hidden--visually\" id=\"4cc009e5-f872-47a4-aadd-f5eeed200034\" type=\"checkbox\" ><label for=\"4cc009e5-f872-47a4-aadd-f5eeed200034\" class=\"sk-toggleable__label sk-toggleable__label-arrow\">SVC</label><div class=\"sk-toggleable__content\"><pre>SVC()</pre></div></div></div></div></div></div></div>"
      ],
      "text/plain": [
       "Pipeline(steps=[('standardscaler', StandardScaler()), ('svc', SVC())])"
      ]
     },
     "execution_count": 88,
     "metadata": {},
     "output_type": "execute_result"
    }
   ],
   "source": [
    "pipline2"
   ]
  },
  {
   "cell_type": "code",
   "execution_count": 117,
   "id": "ef08522d-7445-46b9-b9c1-972d56031bf7",
   "metadata": {},
   "outputs": [
    {
     "data": {
      "text/plain": [
       "{'standardscaler': StandardScaler(), 'svc': SVC()}"
      ]
     },
     "execution_count": 117,
     "metadata": {},
     "output_type": "execute_result"
    }
   ],
   "source": [
    "pipline2.named_steps"
   ]
  },
  {
   "cell_type": "code",
   "execution_count": 89,
   "id": "f3c1df8f-4751-4609-8f89-e04f52e961ba",
   "metadata": {},
   "outputs": [
    {
     "data": {
      "text/html": [
       "<style>#sk-6372b7f8-f566-4e5e-98d0-844520d6f9a3 {color: black;background-color: white;}#sk-6372b7f8-f566-4e5e-98d0-844520d6f9a3 pre{padding: 0;}#sk-6372b7f8-f566-4e5e-98d0-844520d6f9a3 div.sk-toggleable {background-color: white;}#sk-6372b7f8-f566-4e5e-98d0-844520d6f9a3 label.sk-toggleable__label {cursor: pointer;display: block;width: 100%;margin-bottom: 0;padding: 0.3em;box-sizing: border-box;text-align: center;}#sk-6372b7f8-f566-4e5e-98d0-844520d6f9a3 label.sk-toggleable__label-arrow:before {content: \"▸\";float: left;margin-right: 0.25em;color: #696969;}#sk-6372b7f8-f566-4e5e-98d0-844520d6f9a3 label.sk-toggleable__label-arrow:hover:before {color: black;}#sk-6372b7f8-f566-4e5e-98d0-844520d6f9a3 div.sk-estimator:hover label.sk-toggleable__label-arrow:before {color: black;}#sk-6372b7f8-f566-4e5e-98d0-844520d6f9a3 div.sk-toggleable__content {max-height: 0;max-width: 0;overflow: hidden;text-align: left;background-color: #f0f8ff;}#sk-6372b7f8-f566-4e5e-98d0-844520d6f9a3 div.sk-toggleable__content pre {margin: 0.2em;color: black;border-radius: 0.25em;background-color: #f0f8ff;}#sk-6372b7f8-f566-4e5e-98d0-844520d6f9a3 input.sk-toggleable__control:checked~div.sk-toggleable__content {max-height: 200px;max-width: 100%;overflow: auto;}#sk-6372b7f8-f566-4e5e-98d0-844520d6f9a3 input.sk-toggleable__control:checked~label.sk-toggleable__label-arrow:before {content: \"▾\";}#sk-6372b7f8-f566-4e5e-98d0-844520d6f9a3 div.sk-estimator input.sk-toggleable__control:checked~label.sk-toggleable__label {background-color: #d4ebff;}#sk-6372b7f8-f566-4e5e-98d0-844520d6f9a3 div.sk-label input.sk-toggleable__control:checked~label.sk-toggleable__label {background-color: #d4ebff;}#sk-6372b7f8-f566-4e5e-98d0-844520d6f9a3 input.sk-hidden--visually {border: 0;clip: rect(1px 1px 1px 1px);clip: rect(1px, 1px, 1px, 1px);height: 1px;margin: -1px;overflow: hidden;padding: 0;position: absolute;width: 1px;}#sk-6372b7f8-f566-4e5e-98d0-844520d6f9a3 div.sk-estimator {font-family: monospace;background-color: #f0f8ff;border: 1px dotted black;border-radius: 0.25em;box-sizing: border-box;margin-bottom: 0.5em;}#sk-6372b7f8-f566-4e5e-98d0-844520d6f9a3 div.sk-estimator:hover {background-color: #d4ebff;}#sk-6372b7f8-f566-4e5e-98d0-844520d6f9a3 div.sk-parallel-item::after {content: \"\";width: 100%;border-bottom: 1px solid gray;flex-grow: 1;}#sk-6372b7f8-f566-4e5e-98d0-844520d6f9a3 div.sk-label:hover label.sk-toggleable__label {background-color: #d4ebff;}#sk-6372b7f8-f566-4e5e-98d0-844520d6f9a3 div.sk-serial::before {content: \"\";position: absolute;border-left: 1px solid gray;box-sizing: border-box;top: 2em;bottom: 0;left: 50%;}#sk-6372b7f8-f566-4e5e-98d0-844520d6f9a3 div.sk-serial {display: flex;flex-direction: column;align-items: center;background-color: white;padding-right: 0.2em;padding-left: 0.2em;}#sk-6372b7f8-f566-4e5e-98d0-844520d6f9a3 div.sk-item {z-index: 1;}#sk-6372b7f8-f566-4e5e-98d0-844520d6f9a3 div.sk-parallel {display: flex;align-items: stretch;justify-content: center;background-color: white;}#sk-6372b7f8-f566-4e5e-98d0-844520d6f9a3 div.sk-parallel::before {content: \"\";position: absolute;border-left: 1px solid gray;box-sizing: border-box;top: 2em;bottom: 0;left: 50%;}#sk-6372b7f8-f566-4e5e-98d0-844520d6f9a3 div.sk-parallel-item {display: flex;flex-direction: column;position: relative;background-color: white;}#sk-6372b7f8-f566-4e5e-98d0-844520d6f9a3 div.sk-parallel-item:first-child::after {align-self: flex-end;width: 50%;}#sk-6372b7f8-f566-4e5e-98d0-844520d6f9a3 div.sk-parallel-item:last-child::after {align-self: flex-start;width: 50%;}#sk-6372b7f8-f566-4e5e-98d0-844520d6f9a3 div.sk-parallel-item:only-child::after {width: 0;}#sk-6372b7f8-f566-4e5e-98d0-844520d6f9a3 div.sk-dashed-wrapped {border: 1px dashed gray;margin: 0 0.4em 0.5em 0.4em;box-sizing: border-box;padding-bottom: 0.4em;background-color: white;position: relative;}#sk-6372b7f8-f566-4e5e-98d0-844520d6f9a3 div.sk-label label {font-family: monospace;font-weight: bold;background-color: white;display: inline-block;line-height: 1.2em;}#sk-6372b7f8-f566-4e5e-98d0-844520d6f9a3 div.sk-label-container {position: relative;z-index: 2;text-align: center;}#sk-6372b7f8-f566-4e5e-98d0-844520d6f9a3 div.sk-container {/* jupyter's `normalize.less` sets `[hidden] { display: none; }` but bootstrap.min.css set `[hidden] { display: none !important; }` so we also need the `!important` here to be able to override the default hidden behavior on the sphinx rendered scikit-learn.org. See: https://github.com/scikit-learn/scikit-learn/issues/21755 */display: inline-block !important;position: relative;}#sk-6372b7f8-f566-4e5e-98d0-844520d6f9a3 div.sk-text-repr-fallback {display: none;}</style><div id=\"sk-6372b7f8-f566-4e5e-98d0-844520d6f9a3\" class=\"sk-top-container\"><div class=\"sk-text-repr-fallback\"><pre>Pipeline(steps=[(&#x27;standardscaler&#x27;, StandardScaler()), (&#x27;svc&#x27;, SVC())])</pre><b>Please rerun this cell to show the HTML repr or trust the notebook.</b></div><div class=\"sk-container\" hidden><div class=\"sk-item sk-dashed-wrapped\"><div class=\"sk-label-container\"><div class=\"sk-label sk-toggleable\"><input class=\"sk-toggleable__control sk-hidden--visually\" id=\"6052ef0c-5553-4848-8f4f-66d68d1e29cb\" type=\"checkbox\" ><label for=\"6052ef0c-5553-4848-8f4f-66d68d1e29cb\" class=\"sk-toggleable__label sk-toggleable__label-arrow\">Pipeline</label><div class=\"sk-toggleable__content\"><pre>Pipeline(steps=[(&#x27;standardscaler&#x27;, StandardScaler()), (&#x27;svc&#x27;, SVC())])</pre></div></div></div><div class=\"sk-serial\"><div class=\"sk-item\"><div class=\"sk-estimator sk-toggleable\"><input class=\"sk-toggleable__control sk-hidden--visually\" id=\"6dbd9cfc-189e-480e-891e-384d75e8b58c\" type=\"checkbox\" ><label for=\"6dbd9cfc-189e-480e-891e-384d75e8b58c\" class=\"sk-toggleable__label sk-toggleable__label-arrow\">StandardScaler</label><div class=\"sk-toggleable__content\"><pre>StandardScaler()</pre></div></div></div><div class=\"sk-item\"><div class=\"sk-estimator sk-toggleable\"><input class=\"sk-toggleable__control sk-hidden--visually\" id=\"2d6d72f0-f724-4e68-8964-2876344aa345\" type=\"checkbox\" ><label for=\"2d6d72f0-f724-4e68-8964-2876344aa345\" class=\"sk-toggleable__label sk-toggleable__label-arrow\">SVC</label><div class=\"sk-toggleable__content\"><pre>SVC()</pre></div></div></div></div></div></div></div>"
      ],
      "text/plain": [
       "Pipeline(steps=[('standardscaler', StandardScaler()), ('svc', SVC())])"
      ]
     },
     "execution_count": 89,
     "metadata": {},
     "output_type": "execute_result"
    }
   ],
   "source": [
    "pipline2.fit(x_train,y_train)"
   ]
  },
  {
   "cell_type": "code",
   "execution_count": 90,
   "id": "a88517aa-3c62-477e-9cc8-159859bda9eb",
   "metadata": {},
   "outputs": [
    {
     "data": {
      "text/plain": [
       "1.0"
      ]
     },
     "execution_count": 90,
     "metadata": {},
     "output_type": "execute_result"
    }
   ],
   "source": [
    "pipline2.score(x_train,y_train)"
   ]
  },
  {
   "cell_type": "code",
   "execution_count": 91,
   "id": "83a36b54-a1de-4987-99aa-81054ade6789",
   "metadata": {},
   "outputs": [
    {
     "data": {
      "text/plain": [
       "1.0"
      ]
     },
     "execution_count": 91,
     "metadata": {},
     "output_type": "execute_result"
    }
   ],
   "source": [
    "pipline2.score(x_test,y_test)"
   ]
  },
  {
   "cell_type": "code",
   "execution_count": 95,
   "id": "dd24547d-c9e1-4fae-a8ed-e8d8b574756d",
   "metadata": {},
   "outputs": [
    {
     "data": {
      "text/plain": [
       "array([1.29790845e+01, 2.37352113e+00, 2.36084507e+00, 1.94732394e+01,\n",
       "       1.00443662e+02, 2.28908451e+00, 2.00211268e+00, 3.68028169e-01,\n",
       "       1.60802817e+00, 5.05760563e+00, 9.56380282e-01, 2.59281690e+00,\n",
       "       7.34894366e+02])"
      ]
     },
     "execution_count": 95,
     "metadata": {},
     "output_type": "execute_result"
    }
   ],
   "source": [
    "pipline2.named_steps['standardscaler'].mean_"
   ]
  },
  {
   "cell_type": "markdown",
   "id": "3174fd3a-5ec6-4fd9-9dd4-db9d7a45e3bf",
   "metadata": {},
   "source": [
    "---"
   ]
  },
  {
   "cell_type": "code",
   "execution_count": 100,
   "id": "55a68ad0-d610-40a6-8b6e-39fd9ea39bc7",
   "metadata": {},
   "outputs": [],
   "source": [
    "# 피클 대체한다!! "
   ]
  },
  {
   "cell_type": "code",
   "execution_count": 96,
   "id": "d02512b8-71eb-457c-827e-06af1016ec88",
   "metadata": {},
   "outputs": [],
   "source": [
    "from joblib import dump,load"
   ]
  },
  {
   "cell_type": "code",
   "execution_count": 97,
   "id": "cc1aa38a-3ca1-4e37-bf22-617ea6870982",
   "metadata": {},
   "outputs": [
    {
     "data": {
      "text/plain": [
       "['pipline2.joblib']"
      ]
     },
     "execution_count": 97,
     "metadata": {},
     "output_type": "execute_result"
    }
   ],
   "source": [
    "dump(pipline2,'pipline2.joblib')"
   ]
  },
  {
   "cell_type": "code",
   "execution_count": 98,
   "id": "f09d7f91-bf07-47a0-bff8-bc07e98ca2eb",
   "metadata": {},
   "outputs": [],
   "source": [
    "load_pipline=load('pipline2.joblib')"
   ]
  },
  {
   "cell_type": "code",
   "execution_count": 99,
   "id": "9713bf63-478f-4456-9d2c-be9345fdf546",
   "metadata": {},
   "outputs": [
    {
     "data": {
      "text/plain": [
       "1.0"
      ]
     },
     "execution_count": 99,
     "metadata": {},
     "output_type": "execute_result"
    }
   ],
   "source": [
    "load_pipline.score(x_test,y_test)"
   ]
  },
  {
   "cell_type": "markdown",
   "id": "15e8de78-a17d-4827-ab61-51cbe8da2bf1",
   "metadata": {},
   "source": [
    "----"
   ]
  },
  {
   "cell_type": "code",
   "execution_count": 115,
   "id": "541e16f8-26a4-4430-8a69-eaddea846d0f",
   "metadata": {},
   "outputs": [],
   "source": [
    "# 내가 만든 함수(전처리에 쓴 함수)를 파이프라인에 넣는다"
   ]
  },
  {
   "cell_type": "code",
   "execution_count": 110,
   "id": "cb87e335-befc-4d9c-8219-4cb0fe48b0da",
   "metadata": {},
   "outputs": [],
   "source": [
    "def func(x):\n",
    "    print('Before X',x)\n",
    "    x=x+1\n",
    "    print('After X',x)\n",
    "    return x"
   ]
  },
  {
   "cell_type": "code",
   "execution_count": 111,
   "id": "2ee6eac0-5de5-40b8-86b4-d73373f21c25",
   "metadata": {},
   "outputs": [],
   "source": [
    "from sklearn.preprocessing import FunctionTransformer"
   ]
  },
  {
   "cell_type": "code",
   "execution_count": 112,
   "id": "625d0502-2909-4436-93aa-a70de47e1044",
   "metadata": {},
   "outputs": [
    {
     "data": {
      "text/html": [
       "<style>#sk-86449832-3933-4227-b0b5-aaaf41b172c3 {color: black;background-color: white;}#sk-86449832-3933-4227-b0b5-aaaf41b172c3 pre{padding: 0;}#sk-86449832-3933-4227-b0b5-aaaf41b172c3 div.sk-toggleable {background-color: white;}#sk-86449832-3933-4227-b0b5-aaaf41b172c3 label.sk-toggleable__label {cursor: pointer;display: block;width: 100%;margin-bottom: 0;padding: 0.3em;box-sizing: border-box;text-align: center;}#sk-86449832-3933-4227-b0b5-aaaf41b172c3 label.sk-toggleable__label-arrow:before {content: \"▸\";float: left;margin-right: 0.25em;color: #696969;}#sk-86449832-3933-4227-b0b5-aaaf41b172c3 label.sk-toggleable__label-arrow:hover:before {color: black;}#sk-86449832-3933-4227-b0b5-aaaf41b172c3 div.sk-estimator:hover label.sk-toggleable__label-arrow:before {color: black;}#sk-86449832-3933-4227-b0b5-aaaf41b172c3 div.sk-toggleable__content {max-height: 0;max-width: 0;overflow: hidden;text-align: left;background-color: #f0f8ff;}#sk-86449832-3933-4227-b0b5-aaaf41b172c3 div.sk-toggleable__content pre {margin: 0.2em;color: black;border-radius: 0.25em;background-color: #f0f8ff;}#sk-86449832-3933-4227-b0b5-aaaf41b172c3 input.sk-toggleable__control:checked~div.sk-toggleable__content {max-height: 200px;max-width: 100%;overflow: auto;}#sk-86449832-3933-4227-b0b5-aaaf41b172c3 input.sk-toggleable__control:checked~label.sk-toggleable__label-arrow:before {content: \"▾\";}#sk-86449832-3933-4227-b0b5-aaaf41b172c3 div.sk-estimator input.sk-toggleable__control:checked~label.sk-toggleable__label {background-color: #d4ebff;}#sk-86449832-3933-4227-b0b5-aaaf41b172c3 div.sk-label input.sk-toggleable__control:checked~label.sk-toggleable__label {background-color: #d4ebff;}#sk-86449832-3933-4227-b0b5-aaaf41b172c3 input.sk-hidden--visually {border: 0;clip: rect(1px 1px 1px 1px);clip: rect(1px, 1px, 1px, 1px);height: 1px;margin: -1px;overflow: hidden;padding: 0;position: absolute;width: 1px;}#sk-86449832-3933-4227-b0b5-aaaf41b172c3 div.sk-estimator {font-family: monospace;background-color: #f0f8ff;border: 1px dotted black;border-radius: 0.25em;box-sizing: border-box;margin-bottom: 0.5em;}#sk-86449832-3933-4227-b0b5-aaaf41b172c3 div.sk-estimator:hover {background-color: #d4ebff;}#sk-86449832-3933-4227-b0b5-aaaf41b172c3 div.sk-parallel-item::after {content: \"\";width: 100%;border-bottom: 1px solid gray;flex-grow: 1;}#sk-86449832-3933-4227-b0b5-aaaf41b172c3 div.sk-label:hover label.sk-toggleable__label {background-color: #d4ebff;}#sk-86449832-3933-4227-b0b5-aaaf41b172c3 div.sk-serial::before {content: \"\";position: absolute;border-left: 1px solid gray;box-sizing: border-box;top: 2em;bottom: 0;left: 50%;}#sk-86449832-3933-4227-b0b5-aaaf41b172c3 div.sk-serial {display: flex;flex-direction: column;align-items: center;background-color: white;padding-right: 0.2em;padding-left: 0.2em;}#sk-86449832-3933-4227-b0b5-aaaf41b172c3 div.sk-item {z-index: 1;}#sk-86449832-3933-4227-b0b5-aaaf41b172c3 div.sk-parallel {display: flex;align-items: stretch;justify-content: center;background-color: white;}#sk-86449832-3933-4227-b0b5-aaaf41b172c3 div.sk-parallel::before {content: \"\";position: absolute;border-left: 1px solid gray;box-sizing: border-box;top: 2em;bottom: 0;left: 50%;}#sk-86449832-3933-4227-b0b5-aaaf41b172c3 div.sk-parallel-item {display: flex;flex-direction: column;position: relative;background-color: white;}#sk-86449832-3933-4227-b0b5-aaaf41b172c3 div.sk-parallel-item:first-child::after {align-self: flex-end;width: 50%;}#sk-86449832-3933-4227-b0b5-aaaf41b172c3 div.sk-parallel-item:last-child::after {align-self: flex-start;width: 50%;}#sk-86449832-3933-4227-b0b5-aaaf41b172c3 div.sk-parallel-item:only-child::after {width: 0;}#sk-86449832-3933-4227-b0b5-aaaf41b172c3 div.sk-dashed-wrapped {border: 1px dashed gray;margin: 0 0.4em 0.5em 0.4em;box-sizing: border-box;padding-bottom: 0.4em;background-color: white;position: relative;}#sk-86449832-3933-4227-b0b5-aaaf41b172c3 div.sk-label label {font-family: monospace;font-weight: bold;background-color: white;display: inline-block;line-height: 1.2em;}#sk-86449832-3933-4227-b0b5-aaaf41b172c3 div.sk-label-container {position: relative;z-index: 2;text-align: center;}#sk-86449832-3933-4227-b0b5-aaaf41b172c3 div.sk-container {/* jupyter's `normalize.less` sets `[hidden] { display: none; }` but bootstrap.min.css set `[hidden] { display: none !important; }` so we also need the `!important` here to be able to override the default hidden behavior on the sphinx rendered scikit-learn.org. See: https://github.com/scikit-learn/scikit-learn/issues/21755 */display: inline-block !important;position: relative;}#sk-86449832-3933-4227-b0b5-aaaf41b172c3 div.sk-text-repr-fallback {display: none;}</style><div id=\"sk-86449832-3933-4227-b0b5-aaaf41b172c3\" class=\"sk-top-container\"><div class=\"sk-text-repr-fallback\"><pre>FunctionTransformer(func=&lt;function func at 0x00000181B236E5E0&gt;)</pre><b>Please rerun this cell to show the HTML repr or trust the notebook.</b></div><div class=\"sk-container\" hidden><div class=\"sk-item\"><div class=\"sk-estimator sk-toggleable\"><input class=\"sk-toggleable__control sk-hidden--visually\" id=\"5d3f1fb3-d77d-4d64-ac67-b691a9450722\" type=\"checkbox\" checked><label for=\"5d3f1fb3-d77d-4d64-ac67-b691a9450722\" class=\"sk-toggleable__label sk-toggleable__label-arrow\">FunctionTransformer</label><div class=\"sk-toggleable__content\"><pre>FunctionTransformer(func=&lt;function func at 0x00000181B236E5E0&gt;)</pre></div></div></div></div></div>"
      ],
      "text/plain": [
       "FunctionTransformer(func=<function func at 0x00000181B236E5E0>)"
      ]
     },
     "execution_count": 112,
     "metadata": {},
     "output_type": "execute_result"
    }
   ],
   "source": [
    "trans_func=FunctionTransformer(func)\n",
    "trans_func"
   ]
  },
  {
   "cell_type": "code",
   "execution_count": 113,
   "id": "37e9b047-390e-455a-a7ea-cccbfad25835",
   "metadata": {},
   "outputs": [
    {
     "data": {
      "text/html": [
       "<style>#sk-6c624d1c-2e9d-4c6d-9819-53efd800b5a0 {color: black;background-color: white;}#sk-6c624d1c-2e9d-4c6d-9819-53efd800b5a0 pre{padding: 0;}#sk-6c624d1c-2e9d-4c6d-9819-53efd800b5a0 div.sk-toggleable {background-color: white;}#sk-6c624d1c-2e9d-4c6d-9819-53efd800b5a0 label.sk-toggleable__label {cursor: pointer;display: block;width: 100%;margin-bottom: 0;padding: 0.3em;box-sizing: border-box;text-align: center;}#sk-6c624d1c-2e9d-4c6d-9819-53efd800b5a0 label.sk-toggleable__label-arrow:before {content: \"▸\";float: left;margin-right: 0.25em;color: #696969;}#sk-6c624d1c-2e9d-4c6d-9819-53efd800b5a0 label.sk-toggleable__label-arrow:hover:before {color: black;}#sk-6c624d1c-2e9d-4c6d-9819-53efd800b5a0 div.sk-estimator:hover label.sk-toggleable__label-arrow:before {color: black;}#sk-6c624d1c-2e9d-4c6d-9819-53efd800b5a0 div.sk-toggleable__content {max-height: 0;max-width: 0;overflow: hidden;text-align: left;background-color: #f0f8ff;}#sk-6c624d1c-2e9d-4c6d-9819-53efd800b5a0 div.sk-toggleable__content pre {margin: 0.2em;color: black;border-radius: 0.25em;background-color: #f0f8ff;}#sk-6c624d1c-2e9d-4c6d-9819-53efd800b5a0 input.sk-toggleable__control:checked~div.sk-toggleable__content {max-height: 200px;max-width: 100%;overflow: auto;}#sk-6c624d1c-2e9d-4c6d-9819-53efd800b5a0 input.sk-toggleable__control:checked~label.sk-toggleable__label-arrow:before {content: \"▾\";}#sk-6c624d1c-2e9d-4c6d-9819-53efd800b5a0 div.sk-estimator input.sk-toggleable__control:checked~label.sk-toggleable__label {background-color: #d4ebff;}#sk-6c624d1c-2e9d-4c6d-9819-53efd800b5a0 div.sk-label input.sk-toggleable__control:checked~label.sk-toggleable__label {background-color: #d4ebff;}#sk-6c624d1c-2e9d-4c6d-9819-53efd800b5a0 input.sk-hidden--visually {border: 0;clip: rect(1px 1px 1px 1px);clip: rect(1px, 1px, 1px, 1px);height: 1px;margin: -1px;overflow: hidden;padding: 0;position: absolute;width: 1px;}#sk-6c624d1c-2e9d-4c6d-9819-53efd800b5a0 div.sk-estimator {font-family: monospace;background-color: #f0f8ff;border: 1px dotted black;border-radius: 0.25em;box-sizing: border-box;margin-bottom: 0.5em;}#sk-6c624d1c-2e9d-4c6d-9819-53efd800b5a0 div.sk-estimator:hover {background-color: #d4ebff;}#sk-6c624d1c-2e9d-4c6d-9819-53efd800b5a0 div.sk-parallel-item::after {content: \"\";width: 100%;border-bottom: 1px solid gray;flex-grow: 1;}#sk-6c624d1c-2e9d-4c6d-9819-53efd800b5a0 div.sk-label:hover label.sk-toggleable__label {background-color: #d4ebff;}#sk-6c624d1c-2e9d-4c6d-9819-53efd800b5a0 div.sk-serial::before {content: \"\";position: absolute;border-left: 1px solid gray;box-sizing: border-box;top: 2em;bottom: 0;left: 50%;}#sk-6c624d1c-2e9d-4c6d-9819-53efd800b5a0 div.sk-serial {display: flex;flex-direction: column;align-items: center;background-color: white;padding-right: 0.2em;padding-left: 0.2em;}#sk-6c624d1c-2e9d-4c6d-9819-53efd800b5a0 div.sk-item {z-index: 1;}#sk-6c624d1c-2e9d-4c6d-9819-53efd800b5a0 div.sk-parallel {display: flex;align-items: stretch;justify-content: center;background-color: white;}#sk-6c624d1c-2e9d-4c6d-9819-53efd800b5a0 div.sk-parallel::before {content: \"\";position: absolute;border-left: 1px solid gray;box-sizing: border-box;top: 2em;bottom: 0;left: 50%;}#sk-6c624d1c-2e9d-4c6d-9819-53efd800b5a0 div.sk-parallel-item {display: flex;flex-direction: column;position: relative;background-color: white;}#sk-6c624d1c-2e9d-4c6d-9819-53efd800b5a0 div.sk-parallel-item:first-child::after {align-self: flex-end;width: 50%;}#sk-6c624d1c-2e9d-4c6d-9819-53efd800b5a0 div.sk-parallel-item:last-child::after {align-self: flex-start;width: 50%;}#sk-6c624d1c-2e9d-4c6d-9819-53efd800b5a0 div.sk-parallel-item:only-child::after {width: 0;}#sk-6c624d1c-2e9d-4c6d-9819-53efd800b5a0 div.sk-dashed-wrapped {border: 1px dashed gray;margin: 0 0.4em 0.5em 0.4em;box-sizing: border-box;padding-bottom: 0.4em;background-color: white;position: relative;}#sk-6c624d1c-2e9d-4c6d-9819-53efd800b5a0 div.sk-label label {font-family: monospace;font-weight: bold;background-color: white;display: inline-block;line-height: 1.2em;}#sk-6c624d1c-2e9d-4c6d-9819-53efd800b5a0 div.sk-label-container {position: relative;z-index: 2;text-align: center;}#sk-6c624d1c-2e9d-4c6d-9819-53efd800b5a0 div.sk-container {/* jupyter's `normalize.less` sets `[hidden] { display: none; }` but bootstrap.min.css set `[hidden] { display: none !important; }` so we also need the `!important` here to be able to override the default hidden behavior on the sphinx rendered scikit-learn.org. See: https://github.com/scikit-learn/scikit-learn/issues/21755 */display: inline-block !important;position: relative;}#sk-6c624d1c-2e9d-4c6d-9819-53efd800b5a0 div.sk-text-repr-fallback {display: none;}</style><div id=\"sk-6c624d1c-2e9d-4c6d-9819-53efd800b5a0\" class=\"sk-top-container\"><div class=\"sk-text-repr-fallback\"><pre>Pipeline(steps=[(&#x27;standardscaler&#x27;, StandardScaler()),\n",
       "                (&#x27;functiontransformer&#x27;,\n",
       "                 FunctionTransformer(func=&lt;function func at 0x00000181B236E5E0&gt;)),\n",
       "                (&#x27;svc&#x27;, SVC())])</pre><b>Please rerun this cell to show the HTML repr or trust the notebook.</b></div><div class=\"sk-container\" hidden><div class=\"sk-item sk-dashed-wrapped\"><div class=\"sk-label-container\"><div class=\"sk-label sk-toggleable\"><input class=\"sk-toggleable__control sk-hidden--visually\" id=\"7e6e46ca-e659-4107-97f8-99baeba7be0f\" type=\"checkbox\" ><label for=\"7e6e46ca-e659-4107-97f8-99baeba7be0f\" class=\"sk-toggleable__label sk-toggleable__label-arrow\">Pipeline</label><div class=\"sk-toggleable__content\"><pre>Pipeline(steps=[(&#x27;standardscaler&#x27;, StandardScaler()),\n",
       "                (&#x27;functiontransformer&#x27;,\n",
       "                 FunctionTransformer(func=&lt;function func at 0x00000181B236E5E0&gt;)),\n",
       "                (&#x27;svc&#x27;, SVC())])</pre></div></div></div><div class=\"sk-serial\"><div class=\"sk-item\"><div class=\"sk-estimator sk-toggleable\"><input class=\"sk-toggleable__control sk-hidden--visually\" id=\"aeb47848-6497-4ace-b351-b3624134d407\" type=\"checkbox\" ><label for=\"aeb47848-6497-4ace-b351-b3624134d407\" class=\"sk-toggleable__label sk-toggleable__label-arrow\">StandardScaler</label><div class=\"sk-toggleable__content\"><pre>StandardScaler()</pre></div></div></div><div class=\"sk-item\"><div class=\"sk-estimator sk-toggleable\"><input class=\"sk-toggleable__control sk-hidden--visually\" id=\"9ba07115-180a-43d1-b38e-96ba511be9b8\" type=\"checkbox\" ><label for=\"9ba07115-180a-43d1-b38e-96ba511be9b8\" class=\"sk-toggleable__label sk-toggleable__label-arrow\">FunctionTransformer</label><div class=\"sk-toggleable__content\"><pre>FunctionTransformer(func=&lt;function func at 0x00000181B236E5E0&gt;)</pre></div></div></div><div class=\"sk-item\"><div class=\"sk-estimator sk-toggleable\"><input class=\"sk-toggleable__control sk-hidden--visually\" id=\"21c56b97-6a1e-4719-a0e4-780edf6d0198\" type=\"checkbox\" ><label for=\"21c56b97-6a1e-4719-a0e4-780edf6d0198\" class=\"sk-toggleable__label sk-toggleable__label-arrow\">SVC</label><div class=\"sk-toggleable__content\"><pre>SVC()</pre></div></div></div></div></div></div></div>"
      ],
      "text/plain": [
       "Pipeline(steps=[('standardscaler', StandardScaler()),\n",
       "                ('functiontransformer',\n",
       "                 FunctionTransformer(func=<function func at 0x00000181B236E5E0>)),\n",
       "                ('svc', SVC())])"
      ]
     },
     "execution_count": 113,
     "metadata": {},
     "output_type": "execute_result"
    }
   ],
   "source": [
    "pipline3=make_pipeline(StandardScaler(),trans_func,SVC())\n",
    "pipline3"
   ]
  },
  {
   "cell_type": "code",
   "execution_count": 114,
   "id": "ba48a60b-7f79-4e19-a08e-3be8e36d29cb",
   "metadata": {},
   "outputs": [
    {
     "name": "stdout",
     "output_type": "stream",
     "text": [
      "Before X [[ 1.66529275 -0.60840587  1.21896194 ... -1.65632857 -0.87940904\n",
      "  -0.24860607]\n",
      " [-0.54952506  2.7515415   1.00331502 ... -0.58463272 -1.25462095\n",
      "  -0.72992237]\n",
      " [-0.74531007 -1.14354109 -0.93750727 ...  0.35845962  0.2462267\n",
      "  -0.24860607]\n",
      " ...\n",
      " [ 1.714239   -0.44172441  0.06884503 ...  1.04434496  0.56585166\n",
      "   2.69572196]\n",
      " [-0.35374006 -0.7399965  -0.36244882 ...  0.01551695 -0.74044166\n",
      "  -0.79631083]\n",
      " [-0.78201975  0.06709269  0.35637426 ... -0.67036839  1.09392769\n",
      "  -0.98551793]]\n",
      "After X [[ 2.66529275  0.39159413  2.21896194 ... -0.65632857  0.12059096\n",
      "   0.75139393]\n",
      " [ 0.45047494  3.7515415   2.00331502 ...  0.41536728 -0.25462095\n",
      "   0.27007763]\n",
      " [ 0.25468993 -0.14354109  0.06249273 ...  1.35845962  1.2462267\n",
      "   0.75139393]\n",
      " ...\n",
      " [ 2.714239    0.55827559  1.06884503 ...  2.04434496  1.56585166\n",
      "   3.69572196]\n",
      " [ 0.64625994  0.2600035   0.63755118 ...  1.01551695  0.25955834\n",
      "   0.20368917]\n",
      " [ 0.21798025  1.06709269  1.35637426 ...  0.32963161  2.09392769\n",
      "   0.01448207]]\n"
     ]
    },
    {
     "data": {
      "text/html": [
       "<style>#sk-c5d4e677-9fd1-427d-a737-c1301640d493 {color: black;background-color: white;}#sk-c5d4e677-9fd1-427d-a737-c1301640d493 pre{padding: 0;}#sk-c5d4e677-9fd1-427d-a737-c1301640d493 div.sk-toggleable {background-color: white;}#sk-c5d4e677-9fd1-427d-a737-c1301640d493 label.sk-toggleable__label {cursor: pointer;display: block;width: 100%;margin-bottom: 0;padding: 0.3em;box-sizing: border-box;text-align: center;}#sk-c5d4e677-9fd1-427d-a737-c1301640d493 label.sk-toggleable__label-arrow:before {content: \"▸\";float: left;margin-right: 0.25em;color: #696969;}#sk-c5d4e677-9fd1-427d-a737-c1301640d493 label.sk-toggleable__label-arrow:hover:before {color: black;}#sk-c5d4e677-9fd1-427d-a737-c1301640d493 div.sk-estimator:hover label.sk-toggleable__label-arrow:before {color: black;}#sk-c5d4e677-9fd1-427d-a737-c1301640d493 div.sk-toggleable__content {max-height: 0;max-width: 0;overflow: hidden;text-align: left;background-color: #f0f8ff;}#sk-c5d4e677-9fd1-427d-a737-c1301640d493 div.sk-toggleable__content pre {margin: 0.2em;color: black;border-radius: 0.25em;background-color: #f0f8ff;}#sk-c5d4e677-9fd1-427d-a737-c1301640d493 input.sk-toggleable__control:checked~div.sk-toggleable__content {max-height: 200px;max-width: 100%;overflow: auto;}#sk-c5d4e677-9fd1-427d-a737-c1301640d493 input.sk-toggleable__control:checked~label.sk-toggleable__label-arrow:before {content: \"▾\";}#sk-c5d4e677-9fd1-427d-a737-c1301640d493 div.sk-estimator input.sk-toggleable__control:checked~label.sk-toggleable__label {background-color: #d4ebff;}#sk-c5d4e677-9fd1-427d-a737-c1301640d493 div.sk-label input.sk-toggleable__control:checked~label.sk-toggleable__label {background-color: #d4ebff;}#sk-c5d4e677-9fd1-427d-a737-c1301640d493 input.sk-hidden--visually {border: 0;clip: rect(1px 1px 1px 1px);clip: rect(1px, 1px, 1px, 1px);height: 1px;margin: -1px;overflow: hidden;padding: 0;position: absolute;width: 1px;}#sk-c5d4e677-9fd1-427d-a737-c1301640d493 div.sk-estimator {font-family: monospace;background-color: #f0f8ff;border: 1px dotted black;border-radius: 0.25em;box-sizing: border-box;margin-bottom: 0.5em;}#sk-c5d4e677-9fd1-427d-a737-c1301640d493 div.sk-estimator:hover {background-color: #d4ebff;}#sk-c5d4e677-9fd1-427d-a737-c1301640d493 div.sk-parallel-item::after {content: \"\";width: 100%;border-bottom: 1px solid gray;flex-grow: 1;}#sk-c5d4e677-9fd1-427d-a737-c1301640d493 div.sk-label:hover label.sk-toggleable__label {background-color: #d4ebff;}#sk-c5d4e677-9fd1-427d-a737-c1301640d493 div.sk-serial::before {content: \"\";position: absolute;border-left: 1px solid gray;box-sizing: border-box;top: 2em;bottom: 0;left: 50%;}#sk-c5d4e677-9fd1-427d-a737-c1301640d493 div.sk-serial {display: flex;flex-direction: column;align-items: center;background-color: white;padding-right: 0.2em;padding-left: 0.2em;}#sk-c5d4e677-9fd1-427d-a737-c1301640d493 div.sk-item {z-index: 1;}#sk-c5d4e677-9fd1-427d-a737-c1301640d493 div.sk-parallel {display: flex;align-items: stretch;justify-content: center;background-color: white;}#sk-c5d4e677-9fd1-427d-a737-c1301640d493 div.sk-parallel::before {content: \"\";position: absolute;border-left: 1px solid gray;box-sizing: border-box;top: 2em;bottom: 0;left: 50%;}#sk-c5d4e677-9fd1-427d-a737-c1301640d493 div.sk-parallel-item {display: flex;flex-direction: column;position: relative;background-color: white;}#sk-c5d4e677-9fd1-427d-a737-c1301640d493 div.sk-parallel-item:first-child::after {align-self: flex-end;width: 50%;}#sk-c5d4e677-9fd1-427d-a737-c1301640d493 div.sk-parallel-item:last-child::after {align-self: flex-start;width: 50%;}#sk-c5d4e677-9fd1-427d-a737-c1301640d493 div.sk-parallel-item:only-child::after {width: 0;}#sk-c5d4e677-9fd1-427d-a737-c1301640d493 div.sk-dashed-wrapped {border: 1px dashed gray;margin: 0 0.4em 0.5em 0.4em;box-sizing: border-box;padding-bottom: 0.4em;background-color: white;position: relative;}#sk-c5d4e677-9fd1-427d-a737-c1301640d493 div.sk-label label {font-family: monospace;font-weight: bold;background-color: white;display: inline-block;line-height: 1.2em;}#sk-c5d4e677-9fd1-427d-a737-c1301640d493 div.sk-label-container {position: relative;z-index: 2;text-align: center;}#sk-c5d4e677-9fd1-427d-a737-c1301640d493 div.sk-container {/* jupyter's `normalize.less` sets `[hidden] { display: none; }` but bootstrap.min.css set `[hidden] { display: none !important; }` so we also need the `!important` here to be able to override the default hidden behavior on the sphinx rendered scikit-learn.org. See: https://github.com/scikit-learn/scikit-learn/issues/21755 */display: inline-block !important;position: relative;}#sk-c5d4e677-9fd1-427d-a737-c1301640d493 div.sk-text-repr-fallback {display: none;}</style><div id=\"sk-c5d4e677-9fd1-427d-a737-c1301640d493\" class=\"sk-top-container\"><div class=\"sk-text-repr-fallback\"><pre>Pipeline(steps=[(&#x27;standardscaler&#x27;, StandardScaler()),\n",
       "                (&#x27;functiontransformer&#x27;,\n",
       "                 FunctionTransformer(func=&lt;function func at 0x00000181B236E5E0&gt;)),\n",
       "                (&#x27;svc&#x27;, SVC())])</pre><b>Please rerun this cell to show the HTML repr or trust the notebook.</b></div><div class=\"sk-container\" hidden><div class=\"sk-item sk-dashed-wrapped\"><div class=\"sk-label-container\"><div class=\"sk-label sk-toggleable\"><input class=\"sk-toggleable__control sk-hidden--visually\" id=\"d2d6b6e8-c0f0-4d37-8b4f-76009a4bce64\" type=\"checkbox\" ><label for=\"d2d6b6e8-c0f0-4d37-8b4f-76009a4bce64\" class=\"sk-toggleable__label sk-toggleable__label-arrow\">Pipeline</label><div class=\"sk-toggleable__content\"><pre>Pipeline(steps=[(&#x27;standardscaler&#x27;, StandardScaler()),\n",
       "                (&#x27;functiontransformer&#x27;,\n",
       "                 FunctionTransformer(func=&lt;function func at 0x00000181B236E5E0&gt;)),\n",
       "                (&#x27;svc&#x27;, SVC())])</pre></div></div></div><div class=\"sk-serial\"><div class=\"sk-item\"><div class=\"sk-estimator sk-toggleable\"><input class=\"sk-toggleable__control sk-hidden--visually\" id=\"250d46af-22d7-4840-a01b-0a9d35a6d97c\" type=\"checkbox\" ><label for=\"250d46af-22d7-4840-a01b-0a9d35a6d97c\" class=\"sk-toggleable__label sk-toggleable__label-arrow\">StandardScaler</label><div class=\"sk-toggleable__content\"><pre>StandardScaler()</pre></div></div></div><div class=\"sk-item\"><div class=\"sk-estimator sk-toggleable\"><input class=\"sk-toggleable__control sk-hidden--visually\" id=\"8efa05f4-2b0f-4ccf-90d5-1bba362ba029\" type=\"checkbox\" ><label for=\"8efa05f4-2b0f-4ccf-90d5-1bba362ba029\" class=\"sk-toggleable__label sk-toggleable__label-arrow\">FunctionTransformer</label><div class=\"sk-toggleable__content\"><pre>FunctionTransformer(func=&lt;function func at 0x00000181B236E5E0&gt;)</pre></div></div></div><div class=\"sk-item\"><div class=\"sk-estimator sk-toggleable\"><input class=\"sk-toggleable__control sk-hidden--visually\" id=\"456569f5-cec1-4a72-aef1-ef7d920d12d6\" type=\"checkbox\" ><label for=\"456569f5-cec1-4a72-aef1-ef7d920d12d6\" class=\"sk-toggleable__label sk-toggleable__label-arrow\">SVC</label><div class=\"sk-toggleable__content\"><pre>SVC()</pre></div></div></div></div></div></div></div>"
      ],
      "text/plain": [
       "Pipeline(steps=[('standardscaler', StandardScaler()),\n",
       "                ('functiontransformer',\n",
       "                 FunctionTransformer(func=<function func at 0x00000181B236E5E0>)),\n",
       "                ('svc', SVC())])"
      ]
     },
     "execution_count": 114,
     "metadata": {},
     "output_type": "execute_result"
    }
   ],
   "source": [
    "pipline3.fit(x_train,y_train)"
   ]
  },
  {
   "cell_type": "code",
   "execution_count": null,
   "id": "d718df85-3beb-4786-97ae-35aad3ec7a4b",
   "metadata": {},
   "outputs": [],
   "source": []
  }
 ],
 "metadata": {
  "kernelspec": {
   "display_name": "Python 3 (ipykernel)",
   "language": "python",
   "name": "python3"
  },
  "language_info": {
   "codemirror_mode": {
    "name": "ipython",
    "version": 3
   },
   "file_extension": ".py",
   "mimetype": "text/x-python",
   "name": "python",
   "nbconvert_exporter": "python",
   "pygments_lexer": "ipython3",
   "version": "3.9.13"
  }
 },
 "nbformat": 4,
 "nbformat_minor": 5
}
