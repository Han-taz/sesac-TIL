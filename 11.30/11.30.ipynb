{
 "cells": [
  {
   "cell_type": "code",
   "execution_count": 28,
   "id": "4f9eb827-c87b-4dc7-8425-0e32df8db537",
   "metadata": {},
   "outputs": [],
   "source": [
    "import pandas as pd\n",
    "from sklearn import datasets\n",
    "from sklearn.neighbors import KNeighborsClassifier\n",
    "import warnings\n",
    "warnings.filterwarnings('ignore')\n",
    "from sklearn.model_selection import ShuffleSplit"
   ]
  },
  {
   "cell_type": "code",
   "execution_count": 2,
   "id": "c2d681de-3440-4449-8c44-d19e406a842d",
   "metadata": {},
   "outputs": [],
   "source": [
    "digits=datasets.load_digits()"
   ]
  },
  {
   "cell_type": "code",
   "execution_count": 3,
   "id": "75676b3e-7f14-407c-8666-325aa02403a1",
   "metadata": {},
   "outputs": [
    {
     "data": {
      "text/plain": [
       "64"
      ]
     },
     "execution_count": 3,
     "metadata": {},
     "output_type": "execute_result"
    }
   ],
   "source": [
    "len(digits.data[0]) #8*8사이즈 이미지이기 때문에"
   ]
  },
  {
   "cell_type": "code",
   "execution_count": 4,
   "id": "cd5aed6f-84e3-437e-97ce-92bc7276eb0b",
   "metadata": {},
   "outputs": [
    {
     "data": {
      "text/plain": [
       "array([0, 1, 2, ..., 8, 9, 8])"
      ]
     },
     "execution_count": 4,
     "metadata": {},
     "output_type": "execute_result"
    }
   ],
   "source": [
    "digits.target"
   ]
  },
  {
   "cell_type": "code",
   "execution_count": 5,
   "id": "67861e96-bb11-461d-b22e-96ef4d6705c9",
   "metadata": {},
   "outputs": [],
   "source": [
    "knn=KNeighborsClassifier()"
   ]
  },
  {
   "cell_type": "code",
   "execution_count": 6,
   "id": "5317a6b0-a529-4982-ba1a-985542b6ed6f",
   "metadata": {},
   "outputs": [
    {
     "data": {
      "text/plain": [
       "{'algorithm': 'auto',\n",
       " 'leaf_size': 30,\n",
       " 'metric': 'minkowski',\n",
       " 'metric_params': None,\n",
       " 'n_jobs': None,\n",
       " 'n_neighbors': 5,\n",
       " 'p': 2,\n",
       " 'weights': 'uniform'}"
      ]
     },
     "execution_count": 6,
     "metadata": {},
     "output_type": "execute_result"
    }
   ],
   "source": [
    "knn.get_params() #파라미터 뽑아오기"
   ]
  },
  {
   "cell_type": "code",
   "execution_count": 7,
   "id": "a9a52f4c-1312-4b09-910a-a7a8ab6647d6",
   "metadata": {},
   "outputs": [
    {
     "data": {
      "text/plain": [
       "dict_keys(['algorithm', 'leaf_size', 'metric', 'metric_params', 'n_jobs', 'n_neighbors', 'p', 'weights'])"
      ]
     },
     "execution_count": 7,
     "metadata": {},
     "output_type": "execute_result"
    }
   ],
   "source": [
    "knn.get_params().keys()"
   ]
  },
  {
   "cell_type": "code",
   "execution_count": 8,
   "id": "fa02055b-1cff-4515-9917-5f1a02c979d5",
   "metadata": {},
   "outputs": [],
   "source": [
    "param_grid={'n_neighbors': range(1,20)}"
   ]
  },
  {
   "cell_type": "code",
   "execution_count": 9,
   "id": "7b99f638-21e4-4294-8099-d9e1644d8622",
   "metadata": {},
   "outputs": [
    {
     "data": {
      "text/plain": [
       "{'n_neighbors': range(1, 20)}"
      ]
     },
     "execution_count": 9,
     "metadata": {},
     "output_type": "execute_result"
    }
   ],
   "source": [
    "param_grid"
   ]
  },
  {
   "cell_type": "code",
   "execution_count": 10,
   "id": "6411c944-7f86-4b74-a72f-821c76883a47",
   "metadata": {},
   "outputs": [],
   "source": [
    "from sklearn.model_selection import GridSearchCV"
   ]
  },
  {
   "cell_type": "code",
   "execution_count": 11,
   "id": "e7290ee8-4e11-4bba-87d6-e9cca99a21a7",
   "metadata": {},
   "outputs": [],
   "source": [
    "grid_model=GridSearchCV(knn,return_train_score=True, param_grid=param_grid, cv=10, verbose=3)# 셔플도 해보기 나머지 파라미터들도 써보기"
   ]
  },
  {
   "cell_type": "code",
   "execution_count": 12,
   "id": "55438e01-b56d-43d3-bc59-3f933ca672d4",
   "metadata": {
    "collapsed": true,
    "jupyter": {
     "outputs_hidden": true
    },
    "tags": []
   },
   "outputs": [
    {
     "name": "stdout",
     "output_type": "stream",
     "text": [
      "Fitting 10 folds for each of 19 candidates, totalling 190 fits\n",
      "[CV 1/10] END n_neighbors=1;, score=(train=1.000, test=0.933) total time=   0.0s\n",
      "[CV 2/10] END n_neighbors=1;, score=(train=1.000, test=0.994) total time=   0.0s\n",
      "[CV 3/10] END n_neighbors=1;, score=(train=1.000, test=0.972) total time=   0.0s\n",
      "[CV 4/10] END n_neighbors=1;, score=(train=1.000, test=0.972) total time=   0.0s\n",
      "[CV 5/10] END n_neighbors=1;, score=(train=1.000, test=0.967) total time=   0.0s\n",
      "[CV 6/10] END n_neighbors=1;, score=(train=1.000, test=0.983) total time=   0.0s\n",
      "[CV 7/10] END n_neighbors=1;, score=(train=1.000, test=0.994) total time=   0.0s\n",
      "[CV 8/10] END n_neighbors=1;, score=(train=1.000, test=0.989) total time=   0.0s\n",
      "[CV 9/10] END n_neighbors=1;, score=(train=1.000, test=0.978) total time=   0.0s\n",
      "[CV 10/10] END n_neighbors=1;, score=(train=1.000, test=0.966) total time=   0.0s\n",
      "[CV 1/10] END n_neighbors=2;, score=(train=0.993, test=0.939) total time=   0.0s\n",
      "[CV 2/10] END n_neighbors=2;, score=(train=0.990, test=0.989) total time=   0.0s\n",
      "[CV 3/10] END n_neighbors=2;, score=(train=0.991, test=0.989) total time=   0.0s\n",
      "[CV 4/10] END n_neighbors=2;, score=(train=0.992, test=0.961) total time=   0.0s\n",
      "[CV 5/10] END n_neighbors=2;, score=(train=0.991, test=0.961) total time=   0.0s\n",
      "[CV 6/10] END n_neighbors=2;, score=(train=0.991, test=0.983) total time=   0.0s\n",
      "[CV 7/10] END n_neighbors=2;, score=(train=0.991, test=0.989) total time=   0.0s\n",
      "[CV 8/10] END n_neighbors=2;, score=(train=0.989, test=0.978) total time=   0.0s\n",
      "[CV 9/10] END n_neighbors=2;, score=(train=0.991, test=0.978) total time=   0.0s\n",
      "[CV 10/10] END n_neighbors=2;, score=(train=0.990, test=0.978) total time=   0.0s\n",
      "[CV 1/10] END n_neighbors=3;, score=(train=0.994, test=0.939) total time=   0.0s\n",
      "[CV 2/10] END n_neighbors=3;, score=(train=0.993, test=1.000) total time=   0.0s\n",
      "[CV 3/10] END n_neighbors=3;, score=(train=0.993, test=0.989) total time=   0.0s\n",
      "[CV 4/10] END n_neighbors=3;, score=(train=0.994, test=0.972) total time=   0.0s\n",
      "[CV 5/10] END n_neighbors=3;, score=(train=0.994, test=0.967) total time=   0.0s\n",
      "[CV 6/10] END n_neighbors=3;, score=(train=0.992, test=0.978) total time=   0.0s\n",
      "[CV 7/10] END n_neighbors=3;, score=(train=0.994, test=0.983) total time=   0.0s\n",
      "[CV 8/10] END n_neighbors=3;, score=(train=0.993, test=0.983) total time=   0.0s\n",
      "[CV 9/10] END n_neighbors=3;, score=(train=0.993, test=0.983) total time=   0.0s\n",
      "[CV 10/10] END n_neighbors=3;, score=(train=0.993, test=0.972) total time=   0.0s\n",
      "[CV 1/10] END n_neighbors=4;, score=(train=0.993, test=0.933) total time=   0.0s\n",
      "[CV 2/10] END n_neighbors=4;, score=(train=0.990, test=0.983) total time=   0.0s\n",
      "[CV 3/10] END n_neighbors=4;, score=(train=0.991, test=0.983) total time=   0.0s\n",
      "[CV 4/10] END n_neighbors=4;, score=(train=0.994, test=0.961) total time=   0.0s\n",
      "[CV 5/10] END n_neighbors=4;, score=(train=0.993, test=0.967) total time=   0.0s\n",
      "[CV 6/10] END n_neighbors=4;, score=(train=0.991, test=0.983) total time=   0.0s\n",
      "[CV 7/10] END n_neighbors=4;, score=(train=0.993, test=0.983) total time=   0.0s\n",
      "[CV 8/10] END n_neighbors=4;, score=(train=0.991, test=0.978) total time=   0.0s\n",
      "[CV 9/10] END n_neighbors=4;, score=(train=0.991, test=0.983) total time=   0.0s\n",
      "[CV 10/10] END n_neighbors=4;, score=(train=0.991, test=0.966) total time=   0.0s\n",
      "[CV 1/10] END n_neighbors=5;, score=(train=0.990, test=0.928) total time=   0.0s\n",
      "[CV 2/10] END n_neighbors=5;, score=(train=0.992, test=0.983) total time=   0.0s\n",
      "[CV 3/10] END n_neighbors=5;, score=(train=0.991, test=0.978) total time=   0.0s\n",
      "[CV 4/10] END n_neighbors=5;, score=(train=0.991, test=0.956) total time=   0.0s\n",
      "[CV 5/10] END n_neighbors=5;, score=(train=0.990, test=0.972) total time=   0.0s\n",
      "[CV 6/10] END n_neighbors=5;, score=(train=0.989, test=0.972) total time=   0.0s\n",
      "[CV 7/10] END n_neighbors=5;, score=(train=0.991, test=0.989) total time=   0.0s\n",
      "[CV 8/10] END n_neighbors=5;, score=(train=0.991, test=0.983) total time=   0.0s\n",
      "[CV 9/10] END n_neighbors=5;, score=(train=0.990, test=0.983) total time=   0.0s\n",
      "[CV 10/10] END n_neighbors=5;, score=(train=0.991, test=0.966) total time=   0.0s\n",
      "[CV 1/10] END n_neighbors=6;, score=(train=0.989, test=0.928) total time=   0.0s\n",
      "[CV 2/10] END n_neighbors=6;, score=(train=0.988, test=0.972) total time=   0.0s\n",
      "[CV 3/10] END n_neighbors=6;, score=(train=0.990, test=0.972) total time=   0.0s\n",
      "[CV 4/10] END n_neighbors=6;, score=(train=0.990, test=0.956) total time=   0.0s\n",
      "[CV 5/10] END n_neighbors=6;, score=(train=0.990, test=0.972) total time=   0.0s\n",
      "[CV 6/10] END n_neighbors=6;, score=(train=0.989, test=0.972) total time=   0.0s\n",
      "[CV 7/10] END n_neighbors=6;, score=(train=0.990, test=0.989) total time=   0.0s\n",
      "[CV 8/10] END n_neighbors=6;, score=(train=0.988, test=0.983) total time=   0.0s\n",
      "[CV 9/10] END n_neighbors=6;, score=(train=0.989, test=0.972) total time=   0.0s\n",
      "[CV 10/10] END n_neighbors=6;, score=(train=0.990, test=0.966) total time=   0.0s\n",
      "[CV 1/10] END n_neighbors=7;, score=(train=0.989, test=0.922) total time=   0.0s\n",
      "[CV 2/10] END n_neighbors=7;, score=(train=0.990, test=0.978) total time=   0.0s\n",
      "[CV 3/10] END n_neighbors=7;, score=(train=0.992, test=0.978) total time=   0.0s\n",
      "[CV 4/10] END n_neighbors=7;, score=(train=0.990, test=0.950) total time=   0.0s\n",
      "[CV 5/10] END n_neighbors=7;, score=(train=0.991, test=0.978) total time=   0.0s\n",
      "[CV 6/10] END n_neighbors=7;, score=(train=0.990, test=0.961) total time=   0.0s\n",
      "[CV 7/10] END n_neighbors=7;, score=(train=0.989, test=0.989) total time=   0.0s\n",
      "[CV 8/10] END n_neighbors=7;, score=(train=0.989, test=0.989) total time=   0.0s\n",
      "[CV 9/10] END n_neighbors=7;, score=(train=0.990, test=0.972) total time=   0.0s\n",
      "[CV 10/10] END n_neighbors=7;, score=(train=0.989, test=0.961) total time=   0.0s\n",
      "[CV 1/10] END n_neighbors=8;, score=(train=0.986, test=0.922) total time=   0.0s\n",
      "[CV 2/10] END n_neighbors=8;, score=(train=0.988, test=0.978) total time=   0.0s\n",
      "[CV 3/10] END n_neighbors=8;, score=(train=0.991, test=0.972) total time=   0.0s\n",
      "[CV 4/10] END n_neighbors=8;, score=(train=0.989, test=0.950) total time=   0.0s\n",
      "[CV 5/10] END n_neighbors=8;, score=(train=0.989, test=0.967) total time=   0.0s\n",
      "[CV 6/10] END n_neighbors=8;, score=(train=0.989, test=0.972) total time=   0.0s\n",
      "[CV 7/10] END n_neighbors=8;, score=(train=0.988, test=0.989) total time=   0.0s\n",
      "[CV 8/10] END n_neighbors=8;, score=(train=0.987, test=0.978) total time=   0.0s\n",
      "[CV 9/10] END n_neighbors=8;, score=(train=0.989, test=0.966) total time=   0.0s\n",
      "[CV 10/10] END n_neighbors=8;, score=(train=0.989, test=0.955) total time=   0.0s\n",
      "[CV 1/10] END n_neighbors=9;, score=(train=0.986, test=0.917) total time=   0.0s\n",
      "[CV 2/10] END n_neighbors=9;, score=(train=0.986, test=0.967) total time=   0.0s\n",
      "[CV 3/10] END n_neighbors=9;, score=(train=0.990, test=0.978) total time=   0.0s\n",
      "[CV 4/10] END n_neighbors=9;, score=(train=0.989, test=0.950) total time=   0.0s\n",
      "[CV 5/10] END n_neighbors=9;, score=(train=0.989, test=0.978) total time=   0.0s\n",
      "[CV 6/10] END n_neighbors=9;, score=(train=0.988, test=0.978) total time=   0.0s\n",
      "[CV 7/10] END n_neighbors=9;, score=(train=0.988, test=0.983) total time=   0.0s\n",
      "[CV 8/10] END n_neighbors=9;, score=(train=0.986, test=0.983) total time=   0.0s\n",
      "[CV 9/10] END n_neighbors=9;, score=(train=0.988, test=0.961) total time=   0.0s\n",
      "[CV 10/10] END n_neighbors=9;, score=(train=0.989, test=0.955) total time=   0.0s\n",
      "[CV 1/10] END n_neighbors=10;, score=(train=0.985, test=0.917) total time=   0.0s\n",
      "[CV 2/10] END n_neighbors=10;, score=(train=0.986, test=0.961) total time=   0.0s\n",
      "[CV 3/10] END n_neighbors=10;, score=(train=0.988, test=0.972) total time=   0.0s\n",
      "[CV 4/10] END n_neighbors=10;, score=(train=0.985, test=0.939) total time=   0.0s\n",
      "[CV 5/10] END n_neighbors=10;, score=(train=0.985, test=0.967) total time=   0.0s\n",
      "[CV 6/10] END n_neighbors=10;, score=(train=0.986, test=0.983) total time=   0.0s\n",
      "[CV 7/10] END n_neighbors=10;, score=(train=0.986, test=0.989) total time=   0.0s\n",
      "[CV 8/10] END n_neighbors=10;, score=(train=0.984, test=0.978) total time=   0.0s\n",
      "[CV 9/10] END n_neighbors=10;, score=(train=0.986, test=0.961) total time=   0.0s\n",
      "[CV 10/10] END n_neighbors=10;, score=(train=0.988, test=0.955) total time=   0.0s\n",
      "[CV 1/10] END n_neighbors=11;, score=(train=0.986, test=0.922) total time=   0.0s\n",
      "[CV 2/10] END n_neighbors=11;, score=(train=0.985, test=0.967) total time=   0.0s\n",
      "[CV 3/10] END n_neighbors=11;, score=(train=0.989, test=0.978) total time=   0.0s\n",
      "[CV 4/10] END n_neighbors=11;, score=(train=0.988, test=0.939) total time=   0.0s\n",
      "[CV 5/10] END n_neighbors=11;, score=(train=0.988, test=0.972) total time=   0.0s\n",
      "[CV 6/10] END n_neighbors=11;, score=(train=0.987, test=0.983) total time=   0.0s\n",
      "[CV 7/10] END n_neighbors=11;, score=(train=0.989, test=0.989) total time=   0.0s\n",
      "[CV 8/10] END n_neighbors=11;, score=(train=0.986, test=0.983) total time=   0.0s\n",
      "[CV 9/10] END n_neighbors=11;, score=(train=0.987, test=0.950) total time=   0.0s\n",
      "[CV 10/10] END n_neighbors=11;, score=(train=0.989, test=0.955) total time=   0.0s\n",
      "[CV 1/10] END n_neighbors=12;, score=(train=0.985, test=0.917) total time=   0.0s\n",
      "[CV 2/10] END n_neighbors=12;, score=(train=0.986, test=0.967) total time=   0.0s\n",
      "[CV 3/10] END n_neighbors=12;, score=(train=0.988, test=0.978) total time=   0.0s\n",
      "[CV 4/10] END n_neighbors=12;, score=(train=0.986, test=0.944) total time=   0.0s\n",
      "[CV 5/10] END n_neighbors=12;, score=(train=0.989, test=0.967) total time=   0.0s\n",
      "[CV 6/10] END n_neighbors=12;, score=(train=0.987, test=0.983) total time=   0.0s\n",
      "[CV 7/10] END n_neighbors=12;, score=(train=0.987, test=0.989) total time=   0.0s\n",
      "[CV 8/10] END n_neighbors=12;, score=(train=0.985, test=0.983) total time=   0.0s\n",
      "[CV 9/10] END n_neighbors=12;, score=(train=0.986, test=0.961) total time=   0.0s\n",
      "[CV 10/10] END n_neighbors=12;, score=(train=0.988, test=0.955) total time=   0.0s\n",
      "[CV 1/10] END n_neighbors=13;, score=(train=0.984, test=0.917) total time=   0.0s\n",
      "[CV 2/10] END n_neighbors=13;, score=(train=0.986, test=0.967) total time=   0.0s\n",
      "[CV 3/10] END n_neighbors=13;, score=(train=0.988, test=0.978) total time=   0.0s\n",
      "[CV 4/10] END n_neighbors=13;, score=(train=0.986, test=0.939) total time=   0.0s\n",
      "[CV 5/10] END n_neighbors=13;, score=(train=0.986, test=0.972) total time=   0.0s\n",
      "[CV 6/10] END n_neighbors=13;, score=(train=0.985, test=0.983) total time=   0.0s\n",
      "[CV 7/10] END n_neighbors=13;, score=(train=0.986, test=0.989) total time=   0.0s\n",
      "[CV 8/10] END n_neighbors=13;, score=(train=0.985, test=0.983) total time=   0.0s\n",
      "[CV 9/10] END n_neighbors=13;, score=(train=0.987, test=0.950) total time=   0.0s\n",
      "[CV 10/10] END n_neighbors=13;, score=(train=0.986, test=0.955) total time=   0.0s\n",
      "[CV 1/10] END n_neighbors=14;, score=(train=0.985, test=0.911) total time=   0.0s\n",
      "[CV 2/10] END n_neighbors=14;, score=(train=0.985, test=0.972) total time=   0.0s\n",
      "[CV 3/10] END n_neighbors=14;, score=(train=0.988, test=0.978) total time=   0.0s\n",
      "[CV 4/10] END n_neighbors=14;, score=(train=0.986, test=0.944) total time=   0.0s\n",
      "[CV 5/10] END n_neighbors=14;, score=(train=0.985, test=0.972) total time=   0.0s\n",
      "[CV 6/10] END n_neighbors=14;, score=(train=0.985, test=0.983) total time=   0.0s\n",
      "[CV 7/10] END n_neighbors=14;, score=(train=0.985, test=0.989) total time=   0.0s\n",
      "[CV 8/10] END n_neighbors=14;, score=(train=0.982, test=0.983) total time=   0.0s\n",
      "[CV 9/10] END n_neighbors=14;, score=(train=0.986, test=0.944) total time=   0.0s\n",
      "[CV 10/10] END n_neighbors=14;, score=(train=0.985, test=0.955) total time=   0.0s\n",
      "[CV 1/10] END n_neighbors=15;, score=(train=0.985, test=0.917) total time=   0.0s\n",
      "[CV 2/10] END n_neighbors=15;, score=(train=0.985, test=0.967) total time=   0.0s\n",
      "[CV 3/10] END n_neighbors=15;, score=(train=0.987, test=0.978) total time=   0.0s\n",
      "[CV 4/10] END n_neighbors=15;, score=(train=0.984, test=0.944) total time=   0.0s\n",
      "[CV 5/10] END n_neighbors=15;, score=(train=0.984, test=0.978) total time=   0.0s\n",
      "[CV 6/10] END n_neighbors=15;, score=(train=0.983, test=0.972) total time=   0.0s\n",
      "[CV 7/10] END n_neighbors=15;, score=(train=0.983, test=0.983) total time=   0.0s\n",
      "[CV 8/10] END n_neighbors=15;, score=(train=0.981, test=0.983) total time=   0.0s\n",
      "[CV 9/10] END n_neighbors=15;, score=(train=0.985, test=0.944) total time=   0.0s\n",
      "[CV 10/10] END n_neighbors=15;, score=(train=0.986, test=0.955) total time=   0.0s\n",
      "[CV 1/10] END n_neighbors=16;, score=(train=0.983, test=0.917) total time=   0.0s\n",
      "[CV 2/10] END n_neighbors=16;, score=(train=0.984, test=0.967) total time=   0.0s\n",
      "[CV 3/10] END n_neighbors=16;, score=(train=0.985, test=0.978) total time=   0.0s\n",
      "[CV 4/10] END n_neighbors=16;, score=(train=0.983, test=0.939) total time=   0.0s\n",
      "[CV 5/10] END n_neighbors=16;, score=(train=0.985, test=0.972) total time=   0.0s\n",
      "[CV 6/10] END n_neighbors=16;, score=(train=0.981, test=0.983) total time=   0.0s\n",
      "[CV 7/10] END n_neighbors=16;, score=(train=0.982, test=0.978) total time=   0.0s\n",
      "[CV 8/10] END n_neighbors=16;, score=(train=0.980, test=0.972) total time=   0.0s\n",
      "[CV 9/10] END n_neighbors=16;, score=(train=0.984, test=0.955) total time=   0.0s\n",
      "[CV 10/10] END n_neighbors=16;, score=(train=0.983, test=0.961) total time=   0.0s\n",
      "[CV 1/10] END n_neighbors=17;, score=(train=0.982, test=0.917) total time=   0.0s\n",
      "[CV 2/10] END n_neighbors=17;, score=(train=0.982, test=0.967) total time=   0.0s\n",
      "[CV 3/10] END n_neighbors=17;, score=(train=0.986, test=0.978) total time=   0.0s\n",
      "[CV 4/10] END n_neighbors=17;, score=(train=0.983, test=0.944) total time=   0.0s\n",
      "[CV 5/10] END n_neighbors=17;, score=(train=0.984, test=0.972) total time=   0.0s\n",
      "[CV 6/10] END n_neighbors=17;, score=(train=0.983, test=0.978) total time=   0.0s\n",
      "[CV 7/10] END n_neighbors=17;, score=(train=0.981, test=0.983) total time=   0.0s\n",
      "[CV 8/10] END n_neighbors=17;, score=(train=0.981, test=0.972) total time=   0.0s\n",
      "[CV 9/10] END n_neighbors=17;, score=(train=0.985, test=0.944) total time=   0.0s\n",
      "[CV 10/10] END n_neighbors=17;, score=(train=0.984, test=0.961) total time=   0.0s\n",
      "[CV 1/10] END n_neighbors=18;, score=(train=0.981, test=0.922) total time=   0.0s\n",
      "[CV 2/10] END n_neighbors=18;, score=(train=0.982, test=0.967) total time=   0.0s\n",
      "[CV 3/10] END n_neighbors=18;, score=(train=0.985, test=0.978) total time=   0.0s\n",
      "[CV 4/10] END n_neighbors=18;, score=(train=0.983, test=0.939) total time=   0.0s\n",
      "[CV 5/10] END n_neighbors=18;, score=(train=0.984, test=0.972) total time=   0.0s\n",
      "[CV 6/10] END n_neighbors=18;, score=(train=0.981, test=0.978) total time=   0.0s\n",
      "[CV 7/10] END n_neighbors=18;, score=(train=0.981, test=0.983) total time=   0.0s\n",
      "[CV 8/10] END n_neighbors=18;, score=(train=0.980, test=0.972) total time=   0.0s\n",
      "[CV 9/10] END n_neighbors=18;, score=(train=0.983, test=0.955) total time=   0.0s\n",
      "[CV 10/10] END n_neighbors=18;, score=(train=0.982, test=0.961) total time=   0.0s\n",
      "[CV 1/10] END n_neighbors=19;, score=(train=0.983, test=0.922) total time=   0.0s\n",
      "[CV 2/10] END n_neighbors=19;, score=(train=0.981, test=0.967) total time=   0.0s\n",
      "[CV 3/10] END n_neighbors=19;, score=(train=0.985, test=0.978) total time=   0.0s\n",
      "[CV 4/10] END n_neighbors=19;, score=(train=0.982, test=0.944) total time=   0.0s\n",
      "[CV 5/10] END n_neighbors=19;, score=(train=0.983, test=0.972) total time=   0.0s\n",
      "[CV 6/10] END n_neighbors=19;, score=(train=0.980, test=0.972) total time=   0.0s\n",
      "[CV 7/10] END n_neighbors=19;, score=(train=0.980, test=0.983) total time=   0.0s\n",
      "[CV 8/10] END n_neighbors=19;, score=(train=0.980, test=0.978) total time=   0.0s\n",
      "[CV 9/10] END n_neighbors=19;, score=(train=0.983, test=0.944) total time=   0.0s\n",
      "[CV 10/10] END n_neighbors=19;, score=(train=0.981, test=0.961) total time=   0.0s\n"
     ]
    },
    {
     "data": {
      "text/plain": [
       "GridSearchCV(cv=10, estimator=KNeighborsClassifier(),\n",
       "             param_grid={'n_neighbors': range(1, 20)}, return_train_score=True,\n",
       "             verbose=3)"
      ]
     },
     "execution_count": 12,
     "metadata": {},
     "output_type": "execute_result"
    }
   ],
   "source": [
    "grid_model.fit(digits.data,digits.target) "
   ]
  },
  {
   "cell_type": "code",
   "execution_count": 13,
   "id": "47ab3b0a-74e6-4aad-8b51-f5fc3065ad5e",
   "metadata": {},
   "outputs": [
    {
     "data": {
      "text/plain": [
       "dict_keys(['mean_fit_time', 'std_fit_time', 'mean_score_time', 'std_score_time', 'param_n_neighbors', 'params', 'split0_test_score', 'split1_test_score', 'split2_test_score', 'split3_test_score', 'split4_test_score', 'split5_test_score', 'split6_test_score', 'split7_test_score', 'split8_test_score', 'split9_test_score', 'mean_test_score', 'std_test_score', 'rank_test_score', 'split0_train_score', 'split1_train_score', 'split2_train_score', 'split3_train_score', 'split4_train_score', 'split5_train_score', 'split6_train_score', 'split7_train_score', 'split8_train_score', 'split9_train_score', 'mean_train_score', 'std_train_score'])"
      ]
     },
     "execution_count": 13,
     "metadata": {},
     "output_type": "execute_result"
    }
   ],
   "source": [
    "grid_model.cv_results_.keys()"
   ]
  },
  {
   "cell_type": "code",
   "execution_count": 14,
   "id": "362b3359-932b-4df2-baf2-3e2795cc825b",
   "metadata": {},
   "outputs": [],
   "source": [
    "colnames=['param_n_neighbors','mean_train_score','mean_test_score']"
   ]
  },
  {
   "cell_type": "code",
   "execution_count": 15,
   "id": "eddbc8aa-fd6a-428e-be42-e909360839ff",
   "metadata": {},
   "outputs": [],
   "source": [
    "grid_df=pd.DataFrame(grid_model.cv_results_, columns=colnames)"
   ]
  },
  {
   "cell_type": "code",
   "execution_count": 16,
   "id": "b12fd8d6-a6ad-434d-a772-d9bddcb4f7fd",
   "metadata": {
    "tags": []
   },
   "outputs": [],
   "source": [
    "grid_df.set_index('param_n_neighbors',inplace=True)"
   ]
  },
  {
   "cell_type": "code",
   "execution_count": 17,
   "id": "ff48b1c5-4336-4c4e-b049-11c52cbd5905",
   "metadata": {
    "tags": []
   },
   "outputs": [
    {
     "data": {
      "text/html": [
       "<div>\n",
       "<style scoped>\n",
       "    .dataframe tbody tr th:only-of-type {\n",
       "        vertical-align: middle;\n",
       "    }\n",
       "\n",
       "    .dataframe tbody tr th {\n",
       "        vertical-align: top;\n",
       "    }\n",
       "\n",
       "    .dataframe thead th {\n",
       "        text-align: right;\n",
       "    }\n",
       "</style>\n",
       "<table border=\"1\" class=\"dataframe\">\n",
       "  <thead>\n",
       "    <tr style=\"text-align: right;\">\n",
       "      <th></th>\n",
       "      <th>mean_train_score</th>\n",
       "      <th>mean_test_score</th>\n",
       "    </tr>\n",
       "    <tr>\n",
       "      <th>param_n_neighbors</th>\n",
       "      <th></th>\n",
       "      <th></th>\n",
       "    </tr>\n",
       "  </thead>\n",
       "  <tbody>\n",
       "    <tr>\n",
       "      <th>3</th>\n",
       "      <td>0.993322</td>\n",
       "      <td>0.976633</td>\n",
       "    </tr>\n",
       "    <tr>\n",
       "      <th>1</th>\n",
       "      <td>1.000000</td>\n",
       "      <td>0.974963</td>\n",
       "    </tr>\n",
       "    <tr>\n",
       "      <th>2</th>\n",
       "      <td>0.990973</td>\n",
       "      <td>0.974407</td>\n",
       "    </tr>\n",
       "    <tr>\n",
       "      <th>4</th>\n",
       "      <td>0.991776</td>\n",
       "      <td>0.972182</td>\n",
       "    </tr>\n",
       "    <tr>\n",
       "      <th>5</th>\n",
       "      <td>0.990540</td>\n",
       "      <td>0.971074</td>\n",
       "    </tr>\n",
       "    <tr>\n",
       "      <th>6</th>\n",
       "      <td>0.989427</td>\n",
       "      <td>0.968290</td>\n",
       "    </tr>\n",
       "    <tr>\n",
       "      <th>7</th>\n",
       "      <td>0.990107</td>\n",
       "      <td>0.967734</td>\n",
       "    </tr>\n",
       "    <tr>\n",
       "      <th>8</th>\n",
       "      <td>0.988685</td>\n",
       "      <td>0.964944</td>\n",
       "    </tr>\n",
       "    <tr>\n",
       "      <th>9</th>\n",
       "      <td>0.987881</td>\n",
       "      <td>0.964944</td>\n",
       "    </tr>\n",
       "    <tr>\n",
       "      <th>12</th>\n",
       "      <td>0.986583</td>\n",
       "      <td>0.964389</td>\n",
       "    </tr>\n",
       "    <tr>\n",
       "      <th>11</th>\n",
       "      <td>0.987510</td>\n",
       "      <td>0.963827</td>\n",
       "    </tr>\n",
       "    <tr>\n",
       "      <th>13</th>\n",
       "      <td>0.985779</td>\n",
       "      <td>0.963271</td>\n",
       "    </tr>\n",
       "    <tr>\n",
       "      <th>14</th>\n",
       "      <td>0.985037</td>\n",
       "      <td>0.963268</td>\n",
       "    </tr>\n",
       "    <tr>\n",
       "      <th>18</th>\n",
       "      <td>0.982193</td>\n",
       "      <td>0.962716</td>\n",
       "    </tr>\n",
       "    <tr>\n",
       "      <th>10</th>\n",
       "      <td>0.985841</td>\n",
       "      <td>0.962163</td>\n",
       "    </tr>\n",
       "    <tr>\n",
       "      <th>16</th>\n",
       "      <td>0.982996</td>\n",
       "      <td>0.962160</td>\n",
       "    </tr>\n",
       "    <tr>\n",
       "      <th>15</th>\n",
       "      <td>0.984418</td>\n",
       "      <td>0.962157</td>\n",
       "    </tr>\n",
       "    <tr>\n",
       "      <th>19</th>\n",
       "      <td>0.981760</td>\n",
       "      <td>0.962157</td>\n",
       "    </tr>\n",
       "    <tr>\n",
       "      <th>17</th>\n",
       "      <td>0.983058</td>\n",
       "      <td>0.961598</td>\n",
       "    </tr>\n",
       "  </tbody>\n",
       "</table>\n",
       "</div>"
      ],
      "text/plain": [
       "                   mean_train_score  mean_test_score\n",
       "param_n_neighbors                                   \n",
       "3                          0.993322         0.976633\n",
       "1                          1.000000         0.974963\n",
       "2                          0.990973         0.974407\n",
       "4                          0.991776         0.972182\n",
       "5                          0.990540         0.971074\n",
       "6                          0.989427         0.968290\n",
       "7                          0.990107         0.967734\n",
       "8                          0.988685         0.964944\n",
       "9                          0.987881         0.964944\n",
       "12                         0.986583         0.964389\n",
       "11                         0.987510         0.963827\n",
       "13                         0.985779         0.963271\n",
       "14                         0.985037         0.963268\n",
       "18                         0.982193         0.962716\n",
       "10                         0.985841         0.962163\n",
       "16                         0.982996         0.962160\n",
       "15                         0.984418         0.962157\n",
       "19                         0.981760         0.962157\n",
       "17                         0.983058         0.961598"
      ]
     },
     "execution_count": 17,
     "metadata": {},
     "output_type": "execute_result"
    }
   ],
   "source": [
    "grid_df.sort_values(['mean_test_score','mean_train_score'], ascending=False)"
   ]
  },
  {
   "cell_type": "code",
   "execution_count": 24,
   "id": "e42ae750-402c-4ef1-90fb-b7ba183d9331",
   "metadata": {
    "collapsed": true,
    "jupyter": {
     "outputs_hidden": true
    },
    "tags": []
   },
   "outputs": [
    {
     "data": {
      "text/plain": [
       "[<matplotlib.axis.XTick at 0x16d71d81550>,\n",
       " <matplotlib.axis.XTick at 0x16d71d81520>,\n",
       " <matplotlib.axis.XTick at 0x16d71da0ac0>,\n",
       " <matplotlib.axis.XTick at 0x16d71db3820>,\n",
       " <matplotlib.axis.XTick at 0x16d71db3e20>,\n",
       " <matplotlib.axis.XTick at 0x16d71db93a0>,\n",
       " <matplotlib.axis.XTick at 0x16d71db9a90>,\n",
       " <matplotlib.axis.XTick at 0x16d71dbf220>,\n",
       " <matplotlib.axis.XTick at 0x16d71dbf970>,\n",
       " <matplotlib.axis.XTick at 0x16d71d57d60>,\n",
       " <matplotlib.axis.XTick at 0x16d71dc3100>,\n",
       " <matplotlib.axis.XTick at 0x16d71d45e80>,\n",
       " <matplotlib.axis.XTick at 0x16d71db9f40>,\n",
       " <matplotlib.axis.XTick at 0x16d71dc38b0>,\n",
       " <matplotlib.axis.XTick at 0x16d71dc3d00>,\n",
       " <matplotlib.axis.XTick at 0x16d71dcb490>,\n",
       " <matplotlib.axis.XTick at 0x16d71dcbbe0>,\n",
       " <matplotlib.axis.XTick at 0x16d71dd0370>,\n",
       " <matplotlib.axis.XTick at 0x16d71dcbc40>]"
      ]
     },
     "execution_count": 24,
     "metadata": {},
     "output_type": "execute_result"
    },
    {
     "data": {
      "image/png": "[encoded data removed]",
      "text/plain": [
       "<Figure size 432x288 with 1 Axes>"
      ]
     },
     "metadata": {
      "needs_background": "light"
     },
     "output_type": "display_data"
    }
   ],
   "source": [
    "ax=grid_df.plot.line(marker='o')\n",
    "ax.set_xticks(grid_df.index)"
   ]
  },
  {
   "cell_type": "code",
   "execution_count": 25,
   "id": "47891802-5b88-4a64-8182-3cd469435868",
   "metadata": {},
   "outputs": [
    {
     "data": {
      "text/plain": [
       "KNeighborsClassifier(n_neighbors=3)"
      ]
     },
     "execution_count": 25,
     "metadata": {},
     "output_type": "execute_result"
    }
   ],
   "source": [
    "grid_model.best_estimator_ # 모델의 파라미터 값"
   ]
  },
  {
   "cell_type": "code",
   "execution_count": 26,
   "id": "8918f445-5770-402a-bc5f-679c9c67bfb2",
   "metadata": {},
   "outputs": [
    {
     "data": {
      "text/plain": [
       "0.9766325263811299"
      ]
     },
     "execution_count": 26,
     "metadata": {},
     "output_type": "execute_result"
    }
   ],
   "source": [
    "grid_model.best_score_ #가장 좋은 값"
   ]
  },
  {
   "cell_type": "code",
   "execution_count": 27,
   "id": "b9182fe9-87f0-4323-b362-122c973369a0",
   "metadata": {},
   "outputs": [
    {
     "data": {
      "text/plain": [
       "{'n_neighbors': 3}"
      ]
     },
     "execution_count": 27,
     "metadata": {},
     "output_type": "execute_result"
    }
   ],
   "source": [
    "grid_model.best_params_"
   ]
  },
  {
   "cell_type": "code",
   "execution_count": 29,
   "id": "a5fd9380-e1a3-4222-bd46-a1804e145ffb",
   "metadata": {},
   "outputs": [],
   "source": [
    "# 혼자 해보는 시간"
   ]
  },
  {
   "cell_type": "code",
   "execution_count": 36,
   "id": "27b09162-85d9-43ec-9990-b3ebc0eef8aa",
   "metadata": {},
   "outputs": [],
   "source": [
    "#셔플 넣어보기"
   ]
  },
  {
   "cell_type": "code",
   "execution_count": 31,
   "id": "7437c608-f6f9-46d6-9d23-ec583289501a",
   "metadata": {},
   "outputs": [],
   "source": [
    "ss=ShuffleSplit(test_size=0.2,n_splits=20)"
   ]
  },
  {
   "cell_type": "code",
   "execution_count": 32,
   "id": "020735bf-9bf4-4878-9755-0c8c89925223",
   "metadata": {},
   "outputs": [],
   "source": [
    "grid_model00=GridSearchCV(knn,return_train_score=True, param_grid=param_grid, cv=ss, verbose=3)"
   ]
  },
  {
   "cell_type": "code",
   "execution_count": 33,
   "id": "5a91a2c8-f0a6-4b73-8370-cdcbd337e4f5",
   "metadata": {},
   "outputs": [
    {
     "data": {
      "text/plain": [
       "GridSearchCV(cv=ShuffleSplit(n_splits=20, random_state=None, test_size=0.2, train_size=None),\n",
       "             estimator=KNeighborsClassifier(),\n",
       "             param_grid={'n_neighbors': range(1, 20)}, return_train_score=True,\n",
       "             verbose=3)"
      ]
     },
     "execution_count": 33,
     "metadata": {},
     "output_type": "execute_result"
    }
   ],
   "source": [
    "grid_model00"
   ]
  },
  {
   "cell_type": "code",
   "execution_count": 34,
   "id": "28c65114-568d-418f-8b87-ffbdeba57ce9",
   "metadata": {
    "collapsed": true,
    "jupyter": {
     "outputs_hidden": true
    },
    "tags": []
   },
   "outputs": [
    {
     "name": "stdout",
     "output_type": "stream",
     "text": [
      "Fitting 20 folds for each of 19 candidates, totalling 380 fits\n",
      "[CV 1/20] END n_neighbors=1;, score=(train=1.000, test=0.989) total time=   0.0s\n",
      "[CV 2/20] END n_neighbors=1;, score=(train=1.000, test=0.994) total time=   0.0s\n",
      "[CV 3/20] END n_neighbors=1;, score=(train=1.000, test=0.986) total time=   0.0s\n",
      "[CV 4/20] END n_neighbors=1;, score=(train=1.000, test=0.997) total time=   0.0s\n",
      "[CV 5/20] END n_neighbors=1;, score=(train=1.000, test=0.981) total time=   0.0s\n",
      "[CV 6/20] END n_neighbors=1;, score=(train=1.000, test=0.981) total time=   0.0s\n",
      "[CV 7/20] END n_neighbors=1;, score=(train=1.000, test=0.992) total time=   0.0s\n",
      "[CV 8/20] END n_neighbors=1;, score=(train=1.000, test=0.978) total time=   0.0s\n",
      "[CV 9/20] END n_neighbors=1;, score=(train=1.000, test=0.989) total time=   0.0s\n",
      "[CV 10/20] END n_neighbors=1;, score=(train=1.000, test=0.981) total time=   0.0s\n",
      "[CV 11/20] END n_neighbors=1;, score=(train=1.000, test=0.994) total time=   0.0s\n",
      "[CV 12/20] END n_neighbors=1;, score=(train=1.000, test=0.989) total time=   0.0s\n",
      "[CV 13/20] END n_neighbors=1;, score=(train=1.000, test=0.981) total time=   0.0s\n",
      "[CV 14/20] END n_neighbors=1;, score=(train=1.000, test=0.994) total time=   0.0s\n",
      "[CV 15/20] END n_neighbors=1;, score=(train=1.000, test=0.989) total time=   0.0s\n",
      "[CV 16/20] END n_neighbors=1;, score=(train=1.000, test=0.992) total time=   0.0s\n",
      "[CV 17/20] END n_neighbors=1;, score=(train=1.000, test=0.994) total time=   0.0s\n",
      "[CV 18/20] END n_neighbors=1;, score=(train=1.000, test=0.983) total time=   0.0s\n",
      "[CV 19/20] END n_neighbors=1;, score=(train=1.000, test=0.992) total time=   0.0s\n",
      "[CV 20/20] END n_neighbors=1;, score=(train=1.000, test=0.986) total time=   0.0s\n",
      "[CV 1/20] END n_neighbors=2;, score=(train=0.992, test=0.986) total time=   0.0s\n",
      "[CV 2/20] END n_neighbors=2;, score=(train=0.991, test=0.997) total time=   0.0s\n",
      "[CV 3/20] END n_neighbors=2;, score=(train=0.992, test=0.983) total time=   0.0s\n",
      "[CV 4/20] END n_neighbors=2;, score=(train=0.990, test=0.994) total time=   0.0s\n",
      "[CV 5/20] END n_neighbors=2;, score=(train=0.991, test=0.981) total time=   0.0s\n",
      "[CV 6/20] END n_neighbors=2;, score=(train=0.994, test=0.981) total time=   0.0s\n",
      "[CV 7/20] END n_neighbors=2;, score=(train=0.991, test=0.989) total time=   0.0s\n",
      "[CV 8/20] END n_neighbors=2;, score=(train=0.990, test=0.981) total time=   0.0s\n",
      "[CV 9/20] END n_neighbors=2;, score=(train=0.992, test=0.981) total time=   0.0s\n",
      "[CV 10/20] END n_neighbors=2;, score=(train=0.992, test=0.983) total time=   0.0s\n",
      "[CV 11/20] END n_neighbors=2;, score=(train=0.990, test=0.992) total time=   0.0s\n",
      "[CV 12/20] END n_neighbors=2;, score=(train=0.991, test=0.992) total time=   0.0s\n",
      "[CV 13/20] END n_neighbors=2;, score=(train=0.991, test=0.981) total time=   0.0s\n",
      "[CV 14/20] END n_neighbors=2;, score=(train=0.992, test=0.992) total time=   0.0s\n",
      "[CV 15/20] END n_neighbors=2;, score=(train=0.992, test=0.989) total time=   0.0s\n",
      "[CV 16/20] END n_neighbors=2;, score=(train=0.991, test=0.981) total time=   0.0s\n",
      "[CV 17/20] END n_neighbors=2;, score=(train=0.990, test=0.992) total time=   0.0s\n",
      "[CV 18/20] END n_neighbors=2;, score=(train=0.993, test=0.978) total time=   0.0s\n",
      "[CV 19/20] END n_neighbors=2;, score=(train=0.990, test=0.989) total time=   0.0s\n",
      "[CV 20/20] END n_neighbors=2;, score=(train=0.991, test=0.983) total time=   0.0s\n",
      "[CV 1/20] END n_neighbors=3;, score=(train=0.992, test=0.989) total time=   0.0s\n",
      "[CV 2/20] END n_neighbors=3;, score=(train=0.991, test=0.992) total time=   0.0s\n",
      "[CV 3/20] END n_neighbors=3;, score=(train=0.995, test=0.981) total time=   0.0s\n",
      "[CV 4/20] END n_neighbors=3;, score=(train=0.992, test=0.997) total time=   0.0s\n",
      "[CV 5/20] END n_neighbors=3;, score=(train=0.996, test=0.981) total time=   0.0s\n",
      "[CV 6/20] END n_neighbors=3;, score=(train=0.994, test=0.986) total time=   0.0s\n",
      "[CV 7/20] END n_neighbors=3;, score=(train=0.994, test=0.986) total time=   0.0s\n",
      "[CV 8/20] END n_neighbors=3;, score=(train=0.995, test=0.978) total time=   0.0s\n",
      "[CV 9/20] END n_neighbors=3;, score=(train=0.994, test=0.983) total time=   0.0s\n",
      "[CV 10/20] END n_neighbors=3;, score=(train=0.994, test=0.989) total time=   0.0s\n",
      "[CV 11/20] END n_neighbors=3;, score=(train=0.992, test=0.992) total time=   0.0s\n",
      "[CV 12/20] END n_neighbors=3;, score=(train=0.994, test=0.992) total time=   0.0s\n",
      "[CV 13/20] END n_neighbors=3;, score=(train=0.993, test=0.981) total time=   0.0s\n",
      "[CV 14/20] END n_neighbors=3;, score=(train=0.992, test=0.989) total time=   0.0s\n",
      "[CV 15/20] END n_neighbors=3;, score=(train=0.992, test=0.989) total time=   0.0s\n",
      "[CV 16/20] END n_neighbors=3;, score=(train=0.992, test=0.992) total time=   0.0s\n",
      "[CV 17/20] END n_neighbors=3;, score=(train=0.993, test=0.992) total time=   0.0s\n",
      "[CV 18/20] END n_neighbors=3;, score=(train=0.994, test=0.981) total time=   0.0s\n",
      "[CV 19/20] END n_neighbors=3;, score=(train=0.992, test=0.989) total time=   0.0s\n",
      "[CV 20/20] END n_neighbors=3;, score=(train=0.992, test=0.981) total time=   0.0s\n",
      "[CV 1/20] END n_neighbors=4;, score=(train=0.990, test=0.983) total time=   0.0s\n",
      "[CV 2/20] END n_neighbors=4;, score=(train=0.990, test=0.997) total time=   0.0s\n",
      "[CV 3/20] END n_neighbors=4;, score=(train=0.992, test=0.981) total time=   0.0s\n",
      "[CV 4/20] END n_neighbors=4;, score=(train=0.990, test=0.994) total time=   0.0s\n",
      "[CV 5/20] END n_neighbors=4;, score=(train=0.992, test=0.981) total time=   0.0s\n",
      "[CV 6/20] END n_neighbors=4;, score=(train=0.992, test=0.986) total time=   0.0s\n",
      "[CV 7/20] END n_neighbors=4;, score=(train=0.990, test=0.986) total time=   0.0s\n",
      "[CV 8/20] END n_neighbors=4;, score=(train=0.992, test=0.981) total time=   0.0s\n",
      "[CV 9/20] END n_neighbors=4;, score=(train=0.992, test=0.986) total time=   0.0s\n",
      "[CV 10/20] END n_neighbors=4;, score=(train=0.993, test=0.986) total time=   0.0s\n",
      "[CV 11/20] END n_neighbors=4;, score=(train=0.992, test=0.986) total time=   0.0s\n",
      "[CV 12/20] END n_neighbors=4;, score=(train=0.992, test=0.989) total time=   0.0s\n",
      "[CV 13/20] END n_neighbors=4;, score=(train=0.993, test=0.981) total time=   0.0s\n",
      "[CV 14/20] END n_neighbors=4;, score=(train=0.991, test=0.992) total time=   0.0s\n",
      "[CV 15/20] END n_neighbors=4;, score=(train=0.990, test=0.992) total time=   0.0s\n",
      "[CV 16/20] END n_neighbors=4;, score=(train=0.991, test=0.992) total time=   0.0s\n",
      "[CV 17/20] END n_neighbors=4;, score=(train=0.990, test=0.992) total time=   0.0s\n",
      "[CV 18/20] END n_neighbors=4;, score=(train=0.992, test=0.978) total time=   0.0s\n",
      "[CV 19/20] END n_neighbors=4;, score=(train=0.990, test=0.989) total time=   0.0s\n",
      "[CV 20/20] END n_neighbors=4;, score=(train=0.991, test=0.978) total time=   0.0s\n",
      "[CV 1/20] END n_neighbors=5;, score=(train=0.990, test=0.986) total time=   0.0s\n",
      "[CV 2/20] END n_neighbors=5;, score=(train=0.989, test=0.992) total time=   0.0s\n",
      "[CV 3/20] END n_neighbors=5;, score=(train=0.992, test=0.975) total time=   0.0s\n",
      "[CV 4/20] END n_neighbors=5;, score=(train=0.990, test=0.997) total time=   0.0s\n",
      "[CV 5/20] END n_neighbors=5;, score=(train=0.992, test=0.983) total time=   0.0s\n",
      "[CV 6/20] END n_neighbors=5;, score=(train=0.992, test=0.983) total time=   0.0s\n",
      "[CV 7/20] END n_neighbors=5;, score=(train=0.990, test=0.986) total time=   0.0s\n",
      "[CV 8/20] END n_neighbors=5;, score=(train=0.994, test=0.983) total time=   0.0s\n",
      "[CV 9/20] END n_neighbors=5;, score=(train=0.992, test=0.989) total time=   0.0s\n",
      "[CV 10/20] END n_neighbors=5;, score=(train=0.992, test=0.986) total time=   0.0s\n",
      "[CV 11/20] END n_neighbors=5;, score=(train=0.991, test=0.983) total time=   0.0s\n",
      "[CV 12/20] END n_neighbors=5;, score=(train=0.990, test=0.989) total time=   0.0s\n",
      "[CV 13/20] END n_neighbors=5;, score=(train=0.992, test=0.981) total time=   0.0s\n",
      "[CV 14/20] END n_neighbors=5;, score=(train=0.990, test=0.992) total time=   0.0s\n",
      "[CV 15/20] END n_neighbors=5;, score=(train=0.990, test=0.992) total time=   0.0s\n",
      "[CV 16/20] END n_neighbors=5;, score=(train=0.989, test=0.992) total time=   0.0s\n",
      "[CV 17/20] END n_neighbors=5;, score=(train=0.988, test=0.994) total time=   0.0s\n",
      "[CV 18/20] END n_neighbors=5;, score=(train=0.992, test=0.983) total time=   0.0s\n",
      "[CV 19/20] END n_neighbors=5;, score=(train=0.990, test=0.986) total time=   0.0s\n",
      "[CV 20/20] END n_neighbors=5;, score=(train=0.991, test=0.981) total time=   0.0s\n",
      "[CV 1/20] END n_neighbors=6;, score=(train=0.989, test=0.983) total time=   0.0s\n",
      "[CV 2/20] END n_neighbors=6;, score=(train=0.987, test=0.989) total time=   0.0s\n",
      "[CV 3/20] END n_neighbors=6;, score=(train=0.991, test=0.978) total time=   0.0s\n",
      "[CV 4/20] END n_neighbors=6;, score=(train=0.987, test=0.997) total time=   0.0s\n",
      "[CV 5/20] END n_neighbors=6;, score=(train=0.989, test=0.983) total time=   0.0s\n",
      "[CV 6/20] END n_neighbors=6;, score=(train=0.989, test=0.986) total time=   0.0s\n",
      "[CV 7/20] END n_neighbors=6;, score=(train=0.989, test=0.986) total time=   0.0s\n",
      "[CV 8/20] END n_neighbors=6;, score=(train=0.992, test=0.981) total time=   0.0s\n",
      "[CV 9/20] END n_neighbors=6;, score=(train=0.989, test=0.989) total time=   0.0s\n",
      "[CV 10/20] END n_neighbors=6;, score=(train=0.989, test=0.983) total time=   0.0s\n",
      "[CV 11/20] END n_neighbors=6;, score=(train=0.990, test=0.986) total time=   0.0s\n",
      "[CV 12/20] END n_neighbors=6;, score=(train=0.986, test=0.989) total time=   0.0s\n",
      "[CV 13/20] END n_neighbors=6;, score=(train=0.990, test=0.978) total time=   0.0s\n",
      "[CV 14/20] END n_neighbors=6;, score=(train=0.990, test=0.989) total time=   0.0s\n",
      "[CV 15/20] END n_neighbors=6;, score=(train=0.989, test=0.992) total time=   0.0s\n",
      "[CV 16/20] END n_neighbors=6;, score=(train=0.987, test=0.989) total time=   0.0s\n",
      "[CV 17/20] END n_neighbors=6;, score=(train=0.986, test=0.994) total time=   0.0s\n",
      "[CV 18/20] END n_neighbors=6;, score=(train=0.991, test=0.981) total time=   0.0s\n",
      "[CV 19/20] END n_neighbors=6;, score=(train=0.990, test=0.986) total time=   0.0s\n",
      "[CV 20/20] END n_neighbors=6;, score=(train=0.992, test=0.975) total time=   0.0s\n",
      "[CV 1/20] END n_neighbors=7;, score=(train=0.991, test=0.983) total time=   0.0s\n",
      "[CV 2/20] END n_neighbors=7;, score=(train=0.988, test=0.992) total time=   0.0s\n",
      "[CV 3/20] END n_neighbors=7;, score=(train=0.991, test=0.978) total time=   0.0s\n",
      "[CV 4/20] END n_neighbors=7;, score=(train=0.986, test=0.994) total time=   0.0s\n",
      "[CV 5/20] END n_neighbors=7;, score=(train=0.992, test=0.975) total time=   0.0s\n",
      "[CV 6/20] END n_neighbors=7;, score=(train=0.988, test=0.986) total time=   0.0s\n",
      "[CV 7/20] END n_neighbors=7;, score=(train=0.989, test=0.986) total time=   0.0s\n",
      "[CV 8/20] END n_neighbors=7;, score=(train=0.990, test=0.983) total time=   0.0s\n",
      "[CV 9/20] END n_neighbors=7;, score=(train=0.990, test=0.989) total time=   0.0s\n",
      "[CV 10/20] END n_neighbors=7;, score=(train=0.990, test=0.989) total time=   0.0s\n",
      "[CV 11/20] END n_neighbors=7;, score=(train=0.990, test=0.989) total time=   0.0s\n",
      "[CV 12/20] END n_neighbors=7;, score=(train=0.988, test=0.989) total time=   0.0s\n",
      "[CV 13/20] END n_neighbors=7;, score=(train=0.992, test=0.978) total time=   0.0s\n",
      "[CV 14/20] END n_neighbors=7;, score=(train=0.987, test=0.986) total time=   0.0s\n",
      "[CV 15/20] END n_neighbors=7;, score=(train=0.988, test=0.992) total time=   0.0s\n",
      "[CV 16/20] END n_neighbors=7;, score=(train=0.987, test=0.986) total time=   0.0s\n",
      "[CV 17/20] END n_neighbors=7;, score=(train=0.986, test=0.992) total time=   0.0s\n",
      "[CV 18/20] END n_neighbors=7;, score=(train=0.991, test=0.983) total time=   0.0s\n",
      "[CV 19/20] END n_neighbors=7;, score=(train=0.987, test=0.989) total time=   0.0s\n",
      "[CV 20/20] END n_neighbors=7;, score=(train=0.992, test=0.981) total time=   0.0s\n",
      "[CV 1/20] END n_neighbors=8;, score=(train=0.987, test=0.975) total time=   0.0s\n",
      "[CV 2/20] END n_neighbors=8;, score=(train=0.987, test=0.992) total time=   0.0s\n",
      "[CV 3/20] END n_neighbors=8;, score=(train=0.990, test=0.975) total time=   0.0s\n",
      "[CV 4/20] END n_neighbors=8;, score=(train=0.985, test=0.992) total time=   0.0s\n",
      "[CV 5/20] END n_neighbors=8;, score=(train=0.988, test=0.978) total time=   0.0s\n",
      "[CV 6/20] END n_neighbors=8;, score=(train=0.985, test=0.986) total time=   0.0s\n",
      "[CV 7/20] END n_neighbors=8;, score=(train=0.988, test=0.983) total time=   0.0s\n",
      "[CV 8/20] END n_neighbors=8;, score=(train=0.991, test=0.981) total time=   0.0s\n",
      "[CV 9/20] END n_neighbors=8;, score=(train=0.989, test=0.986) total time=   0.0s\n",
      "[CV 10/20] END n_neighbors=8;, score=(train=0.985, test=0.986) total time=   0.0s\n",
      "[CV 11/20] END n_neighbors=8;, score=(train=0.985, test=0.978) total time=   0.0s\n",
      "[CV 12/20] END n_neighbors=8;, score=(train=0.985, test=0.989) total time=   0.0s\n",
      "[CV 13/20] END n_neighbors=8;, score=(train=0.989, test=0.975) total time=   0.0s\n",
      "[CV 14/20] END n_neighbors=8;, score=(train=0.985, test=0.986) total time=   0.0s\n",
      "[CV 15/20] END n_neighbors=8;, score=(train=0.985, test=0.989) total time=   0.0s\n",
      "[CV 16/20] END n_neighbors=8;, score=(train=0.985, test=0.986) total time=   0.0s\n",
      "[CV 17/20] END n_neighbors=8;, score=(train=0.984, test=0.989) total time=   0.0s\n",
      "[CV 18/20] END n_neighbors=8;, score=(train=0.989, test=0.983) total time=   0.0s\n",
      "[CV 19/20] END n_neighbors=8;, score=(train=0.983, test=0.983) total time=   0.0s\n",
      "[CV 20/20] END n_neighbors=8;, score=(train=0.990, test=0.975) total time=   0.0s\n",
      "[CV 1/20] END n_neighbors=9;, score=(train=0.986, test=0.978) total time=   0.0s\n",
      "[CV 2/20] END n_neighbors=9;, score=(train=0.987, test=0.992) total time=   0.0s\n",
      "[CV 3/20] END n_neighbors=9;, score=(train=0.990, test=0.972) total time=   0.0s\n",
      "[CV 4/20] END n_neighbors=9;, score=(train=0.985, test=0.992) total time=   0.0s\n",
      "[CV 5/20] END n_neighbors=9;, score=(train=0.990, test=0.975) total time=   0.0s\n",
      "[CV 6/20] END n_neighbors=9;, score=(train=0.987, test=0.983) total time=   0.0s\n",
      "[CV 7/20] END n_neighbors=9;, score=(train=0.990, test=0.983) total time=   0.0s\n",
      "[CV 8/20] END n_neighbors=9;, score=(train=0.989, test=0.981) total time=   0.0s\n",
      "[CV 9/20] END n_neighbors=9;, score=(train=0.987, test=0.986) total time=   0.0s\n",
      "[CV 10/20] END n_neighbors=9;, score=(train=0.985, test=0.986) total time=   0.0s\n",
      "[CV 11/20] END n_neighbors=9;, score=(train=0.986, test=0.989) total time=   0.0s\n",
      "[CV 12/20] END n_neighbors=9;, score=(train=0.986, test=0.989) total time=   0.0s\n",
      "[CV 13/20] END n_neighbors=9;, score=(train=0.990, test=0.975) total time=   0.0s\n",
      "[CV 14/20] END n_neighbors=9;, score=(train=0.985, test=0.989) total time=   0.0s\n",
      "[CV 15/20] END n_neighbors=9;, score=(train=0.987, test=0.992) total time=   0.0s\n",
      "[CV 16/20] END n_neighbors=9;, score=(train=0.985, test=0.983) total time=   0.0s\n",
      "[CV 17/20] END n_neighbors=9;, score=(train=0.984, test=0.994) total time=   0.0s\n",
      "[CV 18/20] END n_neighbors=9;, score=(train=0.989, test=0.983) total time=   0.0s\n",
      "[CV 19/20] END n_neighbors=9;, score=(train=0.983, test=0.986) total time=   0.0s\n",
      "[CV 20/20] END n_neighbors=9;, score=(train=0.990, test=0.978) total time=   0.0s\n",
      "[CV 1/20] END n_neighbors=10;, score=(train=0.984, test=0.978) total time=   0.0s\n",
      "[CV 2/20] END n_neighbors=10;, score=(train=0.985, test=0.992) total time=   0.0s\n",
      "[CV 3/20] END n_neighbors=10;, score=(train=0.988, test=0.975) total time=   0.0s\n",
      "[CV 4/20] END n_neighbors=10;, score=(train=0.984, test=0.989) total time=   0.0s\n",
      "[CV 5/20] END n_neighbors=10;, score=(train=0.988, test=0.981) total time=   0.0s\n",
      "[CV 6/20] END n_neighbors=10;, score=(train=0.987, test=0.989) total time=   0.0s\n",
      "[CV 7/20] END n_neighbors=10;, score=(train=0.985, test=0.978) total time=   0.0s\n",
      "[CV 8/20] END n_neighbors=10;, score=(train=0.987, test=0.978) total time=   0.0s\n",
      "[CV 9/20] END n_neighbors=10;, score=(train=0.986, test=0.981) total time=   0.0s\n",
      "[CV 10/20] END n_neighbors=10;, score=(train=0.985, test=0.978) total time=   0.0s\n",
      "[CV 11/20] END n_neighbors=10;, score=(train=0.985, test=0.981) total time=   0.0s\n",
      "[CV 12/20] END n_neighbors=10;, score=(train=0.986, test=0.986) total time=   0.0s\n",
      "[CV 13/20] END n_neighbors=10;, score=(train=0.988, test=0.978) total time=   0.0s\n",
      "[CV 14/20] END n_neighbors=10;, score=(train=0.987, test=0.983) total time=   0.0s\n",
      "[CV 15/20] END n_neighbors=10;, score=(train=0.986, test=0.989) total time=   0.0s\n",
      "[CV 16/20] END n_neighbors=10;, score=(train=0.985, test=0.986) total time=   0.0s\n",
      "[CV 17/20] END n_neighbors=10;, score=(train=0.984, test=0.992) total time=   0.0s\n",
      "[CV 18/20] END n_neighbors=10;, score=(train=0.988, test=0.983) total time=   0.0s\n",
      "[CV 19/20] END n_neighbors=10;, score=(train=0.984, test=0.986) total time=   0.0s\n",
      "[CV 20/20] END n_neighbors=10;, score=(train=0.986, test=0.978) total time=   0.0s\n",
      "[CV 1/20] END n_neighbors=11;, score=(train=0.985, test=0.978) total time=   0.0s\n",
      "[CV 2/20] END n_neighbors=11;, score=(train=0.985, test=0.992) total time=   0.0s\n",
      "[CV 3/20] END n_neighbors=11;, score=(train=0.988, test=0.969) total time=   0.0s\n",
      "[CV 4/20] END n_neighbors=11;, score=(train=0.985, test=0.992) total time=   0.0s\n",
      "[CV 5/20] END n_neighbors=11;, score=(train=0.990, test=0.978) total time=   0.0s\n",
      "[CV 6/20] END n_neighbors=11;, score=(train=0.987, test=0.986) total time=   0.0s\n",
      "[CV 7/20] END n_neighbors=11;, score=(train=0.987, test=0.981) total time=   0.0s\n",
      "[CV 8/20] END n_neighbors=11;, score=(train=0.987, test=0.978) total time=   0.0s\n",
      "[CV 9/20] END n_neighbors=11;, score=(train=0.985, test=0.978) total time=   0.0s\n",
      "[CV 10/20] END n_neighbors=11;, score=(train=0.985, test=0.978) total time=   0.0s\n",
      "[CV 11/20] END n_neighbors=11;, score=(train=0.985, test=0.978) total time=   0.0s\n",
      "[CV 12/20] END n_neighbors=11;, score=(train=0.986, test=0.989) total time=   0.0s\n",
      "[CV 13/20] END n_neighbors=11;, score=(train=0.990, test=0.978) total time=   0.0s\n",
      "[CV 14/20] END n_neighbors=11;, score=(train=0.985, test=0.981) total time=   0.0s\n",
      "[CV 15/20] END n_neighbors=11;, score=(train=0.987, test=0.986) total time=   0.0s\n",
      "[CV 16/20] END n_neighbors=11;, score=(train=0.987, test=0.989) total time=   0.0s\n",
      "[CV 17/20] END n_neighbors=11;, score=(train=0.985, test=0.994) total time=   0.0s\n",
      "[CV 18/20] END n_neighbors=11;, score=(train=0.989, test=0.983) total time=   0.0s\n",
      "[CV 19/20] END n_neighbors=11;, score=(train=0.983, test=0.981) total time=   0.0s\n",
      "[CV 20/20] END n_neighbors=11;, score=(train=0.985, test=0.978) total time=   0.0s\n",
      "[CV 1/20] END n_neighbors=12;, score=(train=0.984, test=0.978) total time=   0.0s\n",
      "[CV 2/20] END n_neighbors=12;, score=(train=0.987, test=0.992) total time=   0.0s\n",
      "[CV 3/20] END n_neighbors=12;, score=(train=0.988, test=0.969) total time=   0.0s\n",
      "[CV 4/20] END n_neighbors=12;, score=(train=0.986, test=0.992) total time=   0.0s\n",
      "[CV 5/20] END n_neighbors=12;, score=(train=0.988, test=0.975) total time=   0.0s\n",
      "[CV 6/20] END n_neighbors=12;, score=(train=0.983, test=0.983) total time=   0.0s\n",
      "[CV 7/20] END n_neighbors=12;, score=(train=0.983, test=0.981) total time=   0.0s\n",
      "[CV 8/20] END n_neighbors=12;, score=(train=0.987, test=0.978) total time=   0.0s\n",
      "[CV 9/20] END n_neighbors=12;, score=(train=0.985, test=0.975) total time=   0.0s\n",
      "[CV 10/20] END n_neighbors=12;, score=(train=0.985, test=0.978) total time=   0.0s\n",
      "[CV 11/20] END n_neighbors=12;, score=(train=0.985, test=0.978) total time=   0.0s\n",
      "[CV 12/20] END n_neighbors=12;, score=(train=0.982, test=0.986) total time=   0.0s\n",
      "[CV 13/20] END n_neighbors=12;, score=(train=0.988, test=0.975) total time=   0.0s\n",
      "[CV 14/20] END n_neighbors=12;, score=(train=0.985, test=0.981) total time=   0.0s\n",
      "[CV 15/20] END n_neighbors=12;, score=(train=0.983, test=0.986) total time=   0.0s\n",
      "[CV 16/20] END n_neighbors=12;, score=(train=0.981, test=0.986) total time=   0.0s\n",
      "[CV 17/20] END n_neighbors=12;, score=(train=0.981, test=0.992) total time=   0.0s\n",
      "[CV 18/20] END n_neighbors=12;, score=(train=0.987, test=0.981) total time=   0.0s\n",
      "[CV 19/20] END n_neighbors=12;, score=(train=0.981, test=0.978) total time=   0.0s\n",
      "[CV 20/20] END n_neighbors=12;, score=(train=0.985, test=0.978) total time=   0.0s\n",
      "[CV 1/20] END n_neighbors=13;, score=(train=0.983, test=0.975) total time=   0.0s\n",
      "[CV 2/20] END n_neighbors=13;, score=(train=0.983, test=0.992) total time=   0.0s\n",
      "[CV 3/20] END n_neighbors=13;, score=(train=0.985, test=0.969) total time=   0.0s\n",
      "[CV 4/20] END n_neighbors=13;, score=(train=0.982, test=0.992) total time=   0.0s\n",
      "[CV 5/20] END n_neighbors=13;, score=(train=0.986, test=0.972) total time=   0.0s\n",
      "[CV 6/20] END n_neighbors=13;, score=(train=0.983, test=0.983) total time=   0.0s\n",
      "[CV 7/20] END n_neighbors=13;, score=(train=0.986, test=0.978) total time=   0.0s\n",
      "[CV 8/20] END n_neighbors=13;, score=(train=0.986, test=0.975) total time=   0.0s\n",
      "[CV 9/20] END n_neighbors=13;, score=(train=0.982, test=0.981) total time=   0.0s\n",
      "[CV 10/20] END n_neighbors=13;, score=(train=0.983, test=0.978) total time=   0.0s\n",
      "[CV 11/20] END n_neighbors=13;, score=(train=0.985, test=0.983) total time=   0.0s\n",
      "[CV 12/20] END n_neighbors=13;, score=(train=0.983, test=0.989) total time=   0.0s\n",
      "[CV 13/20] END n_neighbors=13;, score=(train=0.987, test=0.975) total time=   0.0s\n",
      "[CV 14/20] END n_neighbors=13;, score=(train=0.983, test=0.975) total time=   0.0s\n",
      "[CV 15/20] END n_neighbors=13;, score=(train=0.984, test=0.989) total time=   0.0s\n",
      "[CV 16/20] END n_neighbors=13;, score=(train=0.985, test=0.986) total time=   0.0s\n",
      "[CV 17/20] END n_neighbors=13;, score=(train=0.981, test=0.992) total time=   0.0s\n",
      "[CV 18/20] END n_neighbors=13;, score=(train=0.985, test=0.981) total time=   0.0s\n",
      "[CV 19/20] END n_neighbors=13;, score=(train=0.981, test=0.978) total time=   0.0s\n",
      "[CV 20/20] END n_neighbors=13;, score=(train=0.984, test=0.975) total time=   0.0s\n",
      "[CV 1/20] END n_neighbors=14;, score=(train=0.983, test=0.975) total time=   0.0s\n",
      "[CV 2/20] END n_neighbors=14;, score=(train=0.982, test=0.992) total time=   0.0s\n",
      "[CV 3/20] END n_neighbors=14;, score=(train=0.986, test=0.969) total time=   0.0s\n",
      "[CV 4/20] END n_neighbors=14;, score=(train=0.983, test=0.989) total time=   0.0s\n",
      "[CV 5/20] END n_neighbors=14;, score=(train=0.983, test=0.975) total time=   0.0s\n",
      "[CV 6/20] END n_neighbors=14;, score=(train=0.981, test=0.981) total time=   0.0s\n",
      "[CV 7/20] END n_neighbors=14;, score=(train=0.983, test=0.981) total time=   0.0s\n",
      "[CV 8/20] END n_neighbors=14;, score=(train=0.983, test=0.972) total time=   0.0s\n",
      "[CV 9/20] END n_neighbors=14;, score=(train=0.978, test=0.972) total time=   0.0s\n",
      "[CV 10/20] END n_neighbors=14;, score=(train=0.983, test=0.978) total time=   0.0s\n",
      "[CV 11/20] END n_neighbors=14;, score=(train=0.985, test=0.978) total time=   0.0s\n",
      "[CV 12/20] END n_neighbors=14;, score=(train=0.980, test=0.986) total time=   0.0s\n",
      "[CV 13/20] END n_neighbors=14;, score=(train=0.985, test=0.975) total time=   0.0s\n",
      "[CV 14/20] END n_neighbors=14;, score=(train=0.983, test=0.975) total time=   0.0s\n",
      "[CV 15/20] END n_neighbors=14;, score=(train=0.983, test=0.981) total time=   0.0s\n",
      "[CV 16/20] END n_neighbors=14;, score=(train=0.981, test=0.986) total time=   0.0s\n",
      "[CV 17/20] END n_neighbors=14;, score=(train=0.979, test=0.994) total time=   0.0s\n",
      "[CV 18/20] END n_neighbors=14;, score=(train=0.987, test=0.978) total time=   0.0s\n",
      "[CV 19/20] END n_neighbors=14;, score=(train=0.981, test=0.978) total time=   0.0s\n",
      "[CV 20/20] END n_neighbors=14;, score=(train=0.983, test=0.975) total time=   0.0s\n",
      "[CV 1/20] END n_neighbors=15;, score=(train=0.982, test=0.975) total time=   0.0s\n",
      "[CV 2/20] END n_neighbors=15;, score=(train=0.980, test=0.992) total time=   0.0s\n",
      "[CV 3/20] END n_neighbors=15;, score=(train=0.986, test=0.964) total time=   0.0s\n",
      "[CV 4/20] END n_neighbors=15;, score=(train=0.983, test=0.992) total time=   0.0s\n",
      "[CV 5/20] END n_neighbors=15;, score=(train=0.984, test=0.969) total time=   0.0s\n",
      "[CV 6/20] END n_neighbors=15;, score=(train=0.979, test=0.983) total time=   0.0s\n",
      "[CV 7/20] END n_neighbors=15;, score=(train=0.983, test=0.975) total time=   0.0s\n",
      "[CV 8/20] END n_neighbors=15;, score=(train=0.982, test=0.975) total time=   0.0s\n",
      "[CV 9/20] END n_neighbors=15;, score=(train=0.981, test=0.981) total time=   0.0s\n",
      "[CV 10/20] END n_neighbors=15;, score=(train=0.983, test=0.975) total time=   0.0s\n",
      "[CV 11/20] END n_neighbors=15;, score=(train=0.983, test=0.978) total time=   0.0s\n",
      "[CV 12/20] END n_neighbors=15;, score=(train=0.979, test=0.986) total time=   0.0s\n",
      "[CV 13/20] END n_neighbors=15;, score=(train=0.984, test=0.975) total time=   0.0s\n",
      "[CV 14/20] END n_neighbors=15;, score=(train=0.983, test=0.975) total time=   0.0s\n",
      "[CV 15/20] END n_neighbors=15;, score=(train=0.982, test=0.978) total time=   0.0s\n",
      "[CV 16/20] END n_neighbors=15;, score=(train=0.981, test=0.986) total time=   0.0s\n",
      "[CV 17/20] END n_neighbors=15;, score=(train=0.978, test=0.992) total time=   0.0s\n",
      "[CV 18/20] END n_neighbors=15;, score=(train=0.985, test=0.978) total time=   0.0s\n",
      "[CV 19/20] END n_neighbors=15;, score=(train=0.981, test=0.972) total time=   0.0s\n",
      "[CV 20/20] END n_neighbors=15;, score=(train=0.985, test=0.978) total time=   0.0s\n",
      "[CV 1/20] END n_neighbors=16;, score=(train=0.982, test=0.975) total time=   0.0s\n",
      "[CV 2/20] END n_neighbors=16;, score=(train=0.980, test=0.986) total time=   0.0s\n",
      "[CV 3/20] END n_neighbors=16;, score=(train=0.984, test=0.964) total time=   0.0s\n",
      "[CV 4/20] END n_neighbors=16;, score=(train=0.983, test=0.989) total time=   0.0s\n",
      "[CV 5/20] END n_neighbors=16;, score=(train=0.983, test=0.972) total time=   0.0s\n",
      "[CV 6/20] END n_neighbors=16;, score=(train=0.978, test=0.983) total time=   0.0s\n",
      "[CV 7/20] END n_neighbors=16;, score=(train=0.981, test=0.975) total time=   0.0s\n",
      "[CV 8/20] END n_neighbors=16;, score=(train=0.983, test=0.972) total time=   0.0s\n",
      "[CV 9/20] END n_neighbors=16;, score=(train=0.978, test=0.978) total time=   0.0s\n",
      "[CV 10/20] END n_neighbors=16;, score=(train=0.981, test=0.975) total time=   0.0s\n",
      "[CV 11/20] END n_neighbors=16;, score=(train=0.981, test=0.975) total time=   0.0s\n",
      "[CV 12/20] END n_neighbors=16;, score=(train=0.980, test=0.983) total time=   0.0s\n",
      "[CV 13/20] END n_neighbors=16;, score=(train=0.983, test=0.969) total time=   0.0s\n",
      "[CV 14/20] END n_neighbors=16;, score=(train=0.983, test=0.978) total time=   0.0s\n",
      "[CV 15/20] END n_neighbors=16;, score=(train=0.980, test=0.975) total time=   0.0s\n",
      "[CV 16/20] END n_neighbors=16;, score=(train=0.979, test=0.983) total time=   0.0s\n",
      "[CV 17/20] END n_neighbors=16;, score=(train=0.978, test=0.983) total time=   0.0s\n",
      "[CV 18/20] END n_neighbors=16;, score=(train=0.985, test=0.972) total time=   0.0s\n",
      "[CV 19/20] END n_neighbors=16;, score=(train=0.981, test=0.972) total time=   0.0s\n",
      "[CV 20/20] END n_neighbors=16;, score=(train=0.983, test=0.975) total time=   0.0s\n",
      "[CV 1/20] END n_neighbors=17;, score=(train=0.981, test=0.975) total time=   0.0s\n",
      "[CV 2/20] END n_neighbors=17;, score=(train=0.977, test=0.989) total time=   0.0s\n",
      "[CV 3/20] END n_neighbors=17;, score=(train=0.986, test=0.964) total time=   0.0s\n",
      "[CV 4/20] END n_neighbors=17;, score=(train=0.979, test=0.986) total time=   0.0s\n",
      "[CV 5/20] END n_neighbors=17;, score=(train=0.983, test=0.969) total time=   0.0s\n",
      "[CV 6/20] END n_neighbors=17;, score=(train=0.978, test=0.983) total time=   0.0s\n",
      "[CV 7/20] END n_neighbors=17;, score=(train=0.979, test=0.975) total time=   0.0s\n",
      "[CV 8/20] END n_neighbors=17;, score=(train=0.985, test=0.975) total time=   0.0s\n",
      "[CV 9/20] END n_neighbors=17;, score=(train=0.977, test=0.983) total time=   0.0s\n",
      "[CV 10/20] END n_neighbors=17;, score=(train=0.981, test=0.972) total time=   0.0s\n",
      "[CV 11/20] END n_neighbors=17;, score=(train=0.981, test=0.972) total time=   0.0s\n",
      "[CV 12/20] END n_neighbors=17;, score=(train=0.978, test=0.978) total time=   0.0s\n",
      "[CV 13/20] END n_neighbors=17;, score=(train=0.983, test=0.975) total time=   0.0s\n",
      "[CV 14/20] END n_neighbors=17;, score=(train=0.983, test=0.978) total time=   0.0s\n",
      "[CV 15/20] END n_neighbors=17;, score=(train=0.979, test=0.975) total time=   0.0s\n",
      "[CV 16/20] END n_neighbors=17;, score=(train=0.978, test=0.983) total time=   0.0s\n",
      "[CV 17/20] END n_neighbors=17;, score=(train=0.977, test=0.989) total time=   0.0s\n",
      "[CV 18/20] END n_neighbors=17;, score=(train=0.985, test=0.972) total time=   0.0s\n",
      "[CV 19/20] END n_neighbors=17;, score=(train=0.981, test=0.972) total time=   0.0s\n",
      "[CV 20/20] END n_neighbors=17;, score=(train=0.983, test=0.975) total time=   0.0s\n",
      "[CV 1/20] END n_neighbors=18;, score=(train=0.979, test=0.978) total time=   0.0s\n",
      "[CV 2/20] END n_neighbors=18;, score=(train=0.980, test=0.986) total time=   0.0s\n",
      "[CV 3/20] END n_neighbors=18;, score=(train=0.985, test=0.967) total time=   0.0s\n",
      "[CV 4/20] END n_neighbors=18;, score=(train=0.978, test=0.986) total time=   0.0s\n",
      "[CV 5/20] END n_neighbors=18;, score=(train=0.983, test=0.975) total time=   0.0s\n",
      "[CV 6/20] END n_neighbors=18;, score=(train=0.976, test=0.981) total time=   0.0s\n",
      "[CV 7/20] END n_neighbors=18;, score=(train=0.981, test=0.978) total time=   0.0s\n",
      "[CV 8/20] END n_neighbors=18;, score=(train=0.983, test=0.975) total time=   0.0s\n",
      "[CV 9/20] END n_neighbors=18;, score=(train=0.977, test=0.978) total time=   0.0s\n",
      "[CV 10/20] END n_neighbors=18;, score=(train=0.979, test=0.972) total time=   0.0s\n",
      "[CV 11/20] END n_neighbors=18;, score=(train=0.981, test=0.972) total time=   0.0s\n",
      "[CV 12/20] END n_neighbors=18;, score=(train=0.976, test=0.975) total time=   0.0s\n",
      "[CV 13/20] END n_neighbors=18;, score=(train=0.981, test=0.975) total time=   0.0s\n",
      "[CV 14/20] END n_neighbors=18;, score=(train=0.978, test=0.975) total time=   0.0s\n",
      "[CV 15/20] END n_neighbors=18;, score=(train=0.980, test=0.975) total time=   0.0s\n",
      "[CV 16/20] END n_neighbors=18;, score=(train=0.977, test=0.983) total time=   0.0s\n",
      "[CV 17/20] END n_neighbors=18;, score=(train=0.976, test=0.989) total time=   0.0s\n",
      "[CV 18/20] END n_neighbors=18;, score=(train=0.983, test=0.975) total time=   0.0s\n",
      "[CV 19/20] END n_neighbors=18;, score=(train=0.981, test=0.975) total time=   0.0s\n",
      "[CV 20/20] END n_neighbors=18;, score=(train=0.982, test=0.972) total time=   0.0s\n",
      "[CV 1/20] END n_neighbors=19;, score=(train=0.980, test=0.975) total time=   0.0s\n",
      "[CV 2/20] END n_neighbors=19;, score=(train=0.978, test=0.986) total time=   0.0s\n",
      "[CV 3/20] END n_neighbors=19;, score=(train=0.985, test=0.961) total time=   0.0s\n",
      "[CV 4/20] END n_neighbors=19;, score=(train=0.976, test=0.986) total time=   0.0s\n",
      "[CV 5/20] END n_neighbors=19;, score=(train=0.980, test=0.969) total time=   0.0s\n",
      "[CV 6/20] END n_neighbors=19;, score=(train=0.976, test=0.981) total time=   0.0s\n",
      "[CV 7/20] END n_neighbors=19;, score=(train=0.977, test=0.978) total time=   0.0s\n",
      "[CV 8/20] END n_neighbors=19;, score=(train=0.981, test=0.975) total time=   0.0s\n",
      "[CV 9/20] END n_neighbors=19;, score=(train=0.975, test=0.978) total time=   0.0s\n",
      "[CV 10/20] END n_neighbors=19;, score=(train=0.976, test=0.967) total time=   0.0s\n",
      "[CV 11/20] END n_neighbors=19;, score=(train=0.977, test=0.972) total time=   0.0s\n",
      "[CV 12/20] END n_neighbors=19;, score=(train=0.976, test=0.972) total time=   0.0s\n",
      "[CV 13/20] END n_neighbors=19;, score=(train=0.981, test=0.972) total time=   0.0s\n",
      "[CV 14/20] END n_neighbors=19;, score=(train=0.978, test=0.978) total time=   0.0s\n",
      "[CV 15/20] END n_neighbors=19;, score=(train=0.976, test=0.978) total time=   0.0s\n",
      "[CV 16/20] END n_neighbors=19;, score=(train=0.978, test=0.981) total time=   0.0s\n",
      "[CV 17/20] END n_neighbors=19;, score=(train=0.974, test=0.986) total time=   0.0s\n",
      "[CV 18/20] END n_neighbors=19;, score=(train=0.983, test=0.972) total time=   0.0s\n",
      "[CV 19/20] END n_neighbors=19;, score=(train=0.978, test=0.972) total time=   0.0s\n",
      "[CV 20/20] END n_neighbors=19;, score=(train=0.980, test=0.969) total time=   0.0s\n"
     ]
    },
    {
     "data": {
      "text/plain": [
       "GridSearchCV(cv=ShuffleSplit(n_splits=20, random_state=None, test_size=0.2, train_size=None),\n",
       "             estimator=KNeighborsClassifier(),\n",
       "             param_grid={'n_neighbors': range(1, 20)}, return_train_score=True,\n",
       "             verbose=3)"
      ]
     },
     "execution_count": 34,
     "metadata": {},
     "output_type": "execute_result"
    }
   ],
   "source": [
    "grid_model00.fit(digits.data,digits.target) "
   ]
  },
  {
   "cell_type": "code",
   "execution_count": 35,
   "id": "4401f6ae-01bf-41f0-8933-cdfc618adb6e",
   "metadata": {},
   "outputs": [
    {
     "data": {
      "text/plain": [
       "KNeighborsClassifier(n_neighbors=1)"
      ]
     },
     "execution_count": 35,
     "metadata": {},
     "output_type": "execute_result"
    }
   ],
   "source": [
    "grid_model00.best_estimator_"
   ]
  },
  {
   "cell_type": "code",
   "execution_count": 38,
   "id": "3314c8d1-23fa-407c-aab7-92d1f95f679c",
   "metadata": {},
   "outputs": [
    {
     "data": {
      "text/plain": [
       "0.9880555555555557"
      ]
     },
     "execution_count": 38,
     "metadata": {},
     "output_type": "execute_result"
    }
   ],
   "source": [
    "grid_model00.best_score_"
   ]
  },
  {
   "cell_type": "code",
   "execution_count": 40,
   "id": "b3cd39f9-92a0-45b8-bdc6-a16dd8eba07f",
   "metadata": {},
   "outputs": [],
   "source": [
    "#DecisionTreeClassifier 사용해 보기"
   ]
  },
  {
   "cell_type": "code",
   "execution_count": 39,
   "id": "c73fa1e5-d2dc-450a-8469-c20d10b53417",
   "metadata": {},
   "outputs": [],
   "source": [
    "from sklearn.tree import DecisionTreeClassifier"
   ]
  },
  {
   "cell_type": "code",
   "execution_count": 42,
   "id": "3b37763e-220c-4439-afc6-e99fbacf9755",
   "metadata": {},
   "outputs": [],
   "source": [
    "treemodel=DecisionTreeClassifier()"
   ]
  },
  {
   "cell_type": "code",
   "execution_count": 44,
   "id": "d11e348a-b9ab-436e-83b2-49cc1affca6a",
   "metadata": {},
   "outputs": [
    {
     "data": {
      "text/plain": [
       "{'ccp_alpha': 0.0,\n",
       " 'class_weight': None,\n",
       " 'criterion': 'gini',\n",
       " 'max_depth': None,\n",
       " 'max_features': None,\n",
       " 'max_leaf_nodes': None,\n",
       " 'min_impurity_decrease': 0.0,\n",
       " 'min_samples_leaf': 1,\n",
       " 'min_samples_split': 2,\n",
       " 'min_weight_fraction_leaf': 0.0,\n",
       " 'random_state': None,\n",
       " 'splitter': 'best'}"
      ]
     },
     "execution_count": 44,
     "metadata": {},
     "output_type": "execute_result"
    }
   ],
   "source": [
    "treemodel.get_params()"
   ]
  },
  {
   "cell_type": "code",
   "execution_count": 55,
   "id": "a191817b-b072-4903-835d-86775e87397a",
   "metadata": {},
   "outputs": [],
   "source": [
    "param_tree={'criterion':['gini','entropy'],'max_depth':range(1,11)}"
   ]
  },
  {
   "cell_type": "code",
   "execution_count": 60,
   "id": "af04866a-c025-4c58-8f87-e8703bb6c8b9",
   "metadata": {},
   "outputs": [],
   "source": [
    "grid_tree=GridSearchCV(treemodel,return_train_score=True, param_grid=param_tree, cv=ss, verbose=1)"
   ]
  },
  {
   "cell_type": "code",
   "execution_count": 61,
   "id": "7ed21b78-1e73-4f2a-884e-35654119d689",
   "metadata": {},
   "outputs": [
    {
     "name": "stdout",
     "output_type": "stream",
     "text": [
      "Fitting 20 folds for each of 20 candidates, totalling 400 fits\n"
     ]
    },
    {
     "data": {
      "text/plain": [
       "GridSearchCV(cv=ShuffleSplit(n_splits=20, random_state=None, test_size=0.2, train_size=None),\n",
       "             estimator=DecisionTreeClassifier(),\n",
       "             param_grid={'criterion': ['gini', 'entropy'],\n",
       "                         'max_depth': range(1, 11)},\n",
       "             return_train_score=True, verbose=1)"
      ]
     },
     "execution_count": 61,
     "metadata": {},
     "output_type": "execute_result"
    }
   ],
   "source": [
    "grid_tree.fit(digits.data,digits.target)"
   ]
  },
  {
   "cell_type": "code",
   "execution_count": 62,
   "id": "8e899ce4-c987-43ef-82ca-6110bbc6783d",
   "metadata": {},
   "outputs": [
    {
     "data": {
      "text/plain": [
       "DecisionTreeClassifier(criterion='entropy', max_depth=9)"
      ]
     },
     "execution_count": 62,
     "metadata": {},
     "output_type": "execute_result"
    }
   ],
   "source": [
    "grid_tree.best_estimator_"
   ]
  },
  {
   "cell_type": "code",
   "execution_count": 63,
   "id": "8252dce6-d6ae-4c3e-b116-3a5a26c30d0a",
   "metadata": {},
   "outputs": [
    {
     "data": {
      "text/plain": [
       "{'criterion': 'entropy', 'max_depth': 9}"
      ]
     },
     "execution_count": 63,
     "metadata": {},
     "output_type": "execute_result"
    }
   ],
   "source": [
    "grid_tree.best_params_"
   ]
  },
  {
   "cell_type": "code",
   "execution_count": 64,
   "id": "c663b98e-bdb7-4ade-8b7e-a99fb1eb3119",
   "metadata": {},
   "outputs": [
    {
     "data": {
      "text/plain": [
       "0.8597222222222222"
      ]
     },
     "execution_count": 64,
     "metadata": {},
     "output_type": "execute_result"
    }
   ],
   "source": [
    "grid_tree.best_score_"
   ]
  },
  {
   "cell_type": "markdown",
   "id": "40d5b86b-3e5a-470e-a960-5a528dbcd9f6",
   "metadata": {},
   "source": [
    "------"
   ]
  },
  {
   "cell_type": "code",
   "execution_count": 1,
   "id": "5cea7939-d56c-41e6-a741-d9471dc00fa1",
   "metadata": {},
   "outputs": [],
   "source": [
    "import pandas as pd\n",
    "from sklearn import datasets\n",
    "from sklearn.neighbors import KNeighborsClassifier\n",
    "import warnings\n",
    "warnings.filterwarnings('ignore')\n",
    "from sklearn.model_selection import ShuffleSplit\n",
    "from sklearn.model_selection import GridSearchCV\n",
    "from sklearn.tree import DecisionTreeClassifier"
   ]
  },
  {
   "cell_type": "code",
   "execution_count": 2,
   "id": "a463b16a-b88a-492c-bb86-cb24e1ab7f8a",
   "metadata": {},
   "outputs": [],
   "source": [
    "treemodel=DecisionTreeClassifier()"
   ]
  },
  {
   "cell_type": "code",
   "execution_count": 3,
   "id": "ddfea3f8-b623-4545-85cf-d06933131833",
   "metadata": {},
   "outputs": [
    {
     "data": {
      "text/plain": [
       "{'ccp_alpha': 0.0,\n",
       " 'class_weight': None,\n",
       " 'criterion': 'gini',\n",
       " 'max_depth': None,\n",
       " 'max_features': None,\n",
       " 'max_leaf_nodes': None,\n",
       " 'min_impurity_decrease': 0.0,\n",
       " 'min_samples_leaf': 1,\n",
       " 'min_samples_split': 2,\n",
       " 'min_weight_fraction_leaf': 0.0,\n",
       " 'random_state': None,\n",
       " 'splitter': 'best'}"
      ]
     },
     "execution_count": 3,
     "metadata": {},
     "output_type": "execute_result"
    }
   ],
   "source": [
    "treemodel.get_params()"
   ]
  },
  {
   "cell_type": "code",
   "execution_count": 5,
   "id": "f82bd77f-870d-44be-bfba-54db4f9d8c79",
   "metadata": {},
   "outputs": [],
   "source": [
    "param_tree={'criterion':['gini','entropy'],'max_depth':range(1,11)}"
   ]
  },
  {
   "cell_type": "code",
   "execution_count": 4,
   "id": "33c7f67d-e91d-4c5d-bc6b-4bc508380c81",
   "metadata": {},
   "outputs": [],
   "source": [
    "ss=ShuffleSplit(test_size=0.25,n_splits=20)"
   ]
  },
  {
   "cell_type": "code",
   "execution_count": 6,
   "id": "0b4b5aac-2bf3-457e-ba0c-b697895c2c7d",
   "metadata": {},
   "outputs": [],
   "source": [
    "grid_model=GridSearchCV(treemodel,return_train_score=True, param_grid=param_tree, cv=ss, verbose=1)"
   ]
  },
  {
   "cell_type": "code",
   "execution_count": 65,
   "id": "b1c52678-135b-46a7-8ac1-8e8d22c3bf6b",
   "metadata": {},
   "outputs": [],
   "source": [
    "from sklearn.model_selection import cross_val_score"
   ]
  },
  {
   "cell_type": "code",
   "execution_count": 82,
   "id": "9a3b73b2-a7b6-4640-80ea-783a9f1034c5",
   "metadata": {},
   "outputs": [
    {
     "data": {
      "text/plain": [
       "GridSearchCV(cv=2, estimator=KNeighborsClassifier(),\n",
       "             param_grid={'n_neighbors': range(1, 20)})"
      ]
     },
     "execution_count": 82,
     "metadata": {},
     "output_type": "execute_result"
    }
   ],
   "source": [
    "grid_knn=GridSearchCV(knn,param_grid=param_grid,cv=2)\n",
    "grid_knn"
   ]
  },
  {
   "cell_type": "code",
   "execution_count": 83,
   "id": "b6e31d3e-84db-42db-a588-0bdd7dfdd9e0",
   "metadata": {},
   "outputs": [
    {
     "data": {
      "text/plain": [
       "array([0.96111111, 0.95277778, 0.96657382, 0.98607242, 0.96657382])"
      ]
     },
     "execution_count": 83,
     "metadata": {},
     "output_type": "execute_result"
    }
   ],
   "source": [
    "outer_scores=cross_val_score(grid_knn,digits.data,digits.target,cv=5)\n",
    "outer_scores"
   ]
  },
  {
   "cell_type": "code",
   "execution_count": 69,
   "id": "95039d38-ca9a-4734-9318-a6839165ad9a",
   "metadata": {},
   "outputs": [
    {
     "data": {
      "text/plain": [
       "GridSearchCV(cv=2, estimator=KNeighborsClassifier(),\n",
       "             param_grid={'n_neighbors': range(1, 20)})"
      ]
     },
     "execution_count": 69,
     "metadata": {},
     "output_type": "execute_result"
    }
   ],
   "source": [
    "grid_knn.fit(digits.data,digits.target)"
   ]
  },
  {
   "cell_type": "code",
   "execution_count": 75,
   "id": "eeb65027-49c4-4ca2-877c-5f997c7ff6b1",
   "metadata": {},
   "outputs": [
    {
     "data": {
      "text/plain": [
       "0.9610455566813907"
      ]
     },
     "execution_count": 75,
     "metadata": {},
     "output_type": "execute_result"
    }
   ],
   "source": [
    "grid_knn.best_score_"
   ]
  },
  {
   "cell_type": "code",
   "execution_count": 80,
   "id": "e1b259c4-3d35-43ce-8a64-d0dd4f1d9c2a",
   "metadata": {},
   "outputs": [
    {
     "data": {
      "text/plain": [
       "{'algorithm': 'auto',\n",
       " 'leaf_size': 30,\n",
       " 'metric': 'minkowski',\n",
       " 'metric_params': None,\n",
       " 'n_jobs': None,\n",
       " 'n_neighbors': 1,\n",
       " 'p': 2,\n",
       " 'weights': 'uniform'}"
      ]
     },
     "execution_count": 80,
     "metadata": {},
     "output_type": "execute_result"
    }
   ],
   "source": [
    "preferred_params=grid_knn.best_estimator_.get_params() #가장 베스트인 모델의 파라미터 확인 해서 변수로 저장\n",
    "grid_knn.best_estimator_.get_params()"
   ]
  },
  {
   "cell_type": "code",
   "execution_count": 81,
   "id": "d7076dbc-3149-4a21-b8be-dfeedceac490",
   "metadata": {},
   "outputs": [],
   "source": [
    "final_knn=KNeighborsClassifier(**preferred_params) # 베스트의 파라미터를 넣어주기"
   ]
  },
  {
   "cell_type": "code",
   "execution_count": 77,
   "id": "892ac04c-a0f8-42e3-ae0f-7b75ea296efe",
   "metadata": {},
   "outputs": [
    {
     "data": {
      "text/plain": [
       "KNeighborsClassifier(n_neighbors=1)"
      ]
     },
     "execution_count": 77,
     "metadata": {},
     "output_type": "execute_result"
    }
   ],
   "source": [
    "final_knn.fit(digits.data,digits.target)"
   ]
  },
  {
   "cell_type": "code",
   "execution_count": 78,
   "id": "3bd6a6b6-4d0d-46ac-88cb-5c9cb616965a",
   "metadata": {},
   "outputs": [
    {
     "data": {
      "text/plain": [
       "1.0"
      ]
     },
     "execution_count": 78,
     "metadata": {},
     "output_type": "execute_result"
    }
   ],
   "source": [
    "final_knn.score(digits.data,digits.target)"
   ]
  },
  {
   "cell_type": "code",
   "execution_count": null,
   "id": "02988ba9-dc68-466e-90fd-06ee71edbf17",
   "metadata": {},
   "outputs": [],
   "source": []
  }
 ],
 "metadata": {
  "kernelspec": {
   "display_name": "Python 3 (ipykernel)",
   "language": "python",
   "name": "python3"
  },
  "language_info": {
   "codemirror_mode": {
    "name": "ipython",
    "version": 3
   },
   "file_extension": ".py",
   "mimetype": "text/x-python",
   "name": "python",
   "nbconvert_exporter": "python",
   "pygments_lexer": "ipython3",
   "version": "3.9.13"
  }
 },
 "nbformat": 4,
 "nbformat_minor": 5
}
