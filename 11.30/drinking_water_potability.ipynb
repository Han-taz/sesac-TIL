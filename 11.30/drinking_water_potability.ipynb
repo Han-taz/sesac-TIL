{
 "cells": [
  {
   "cell_type": "code",
   "execution_count": 1,
   "id": "ba067a7a-ac13-42e2-920c-780e041ac6fe",
   "metadata": {},
   "outputs": [],
   "source": [
    "import pandas as pd\n",
    "import numpy as np\n",
    "from joblib import dump,load\n",
    "import prepro"
   ]
  },
  {
   "cell_type": "markdown",
   "id": "84acfa7e-65f7-4dd8-a4a8-fa824d72b285",
   "metadata": {},
   "source": [
    "1. null은 median으로 하는 사용자 정의 함수\n",
    "2. standardscaler -> svc\n",
    "3. train/test 0.25"
   ]
  },
  {
   "cell_type": "code",
   "execution_count": 2,
   "id": "1e7babf4-ec6e-4bc3-9e2e-f48380f3b89c",
   "metadata": {},
   "outputs": [],
   "source": [
    "df=pd.read_csv('drinking_water_potability.csv')\n",
    "df2=pd.read_csv('drinking_water_potability.csv')"
   ]
  },
  {
   "cell_type": "code",
   "execution_count": 3,
   "id": "277869fb-8dce-46a1-8c92-46a687de2ac2",
   "metadata": {},
   "outputs": [
    {
     "data": {
      "text/html": [
       "<div>\n",
       "<style scoped>\n",
       "    .dataframe tbody tr th:only-of-type {\n",
       "        vertical-align: middle;\n",
       "    }\n",
       "\n",
       "    .dataframe tbody tr th {\n",
       "        vertical-align: top;\n",
       "    }\n",
       "\n",
       "    .dataframe thead th {\n",
       "        text-align: right;\n",
       "    }\n",
       "</style>\n",
       "<table border=\"1\" class=\"dataframe\">\n",
       "  <thead>\n",
       "    <tr style=\"text-align: right;\">\n",
       "      <th></th>\n",
       "      <th>ph</th>\n",
       "      <th>Hardness</th>\n",
       "      <th>Solids</th>\n",
       "      <th>Chloramines</th>\n",
       "      <th>Sulfate</th>\n",
       "      <th>Conductivity</th>\n",
       "      <th>Organic_carbon</th>\n",
       "      <th>Trihalomethanes</th>\n",
       "      <th>Turbidity</th>\n",
       "      <th>Potability</th>\n",
       "    </tr>\n",
       "  </thead>\n",
       "  <tbody>\n",
       "    <tr>\n",
       "      <th>0</th>\n",
       "      <td>NaN</td>\n",
       "      <td>204.890456</td>\n",
       "      <td>20791.31898</td>\n",
       "      <td>7.300212</td>\n",
       "      <td>368.516441</td>\n",
       "      <td>564.308654</td>\n",
       "      <td>10.379783</td>\n",
       "      <td>86.990970</td>\n",
       "      <td>2.963135</td>\n",
       "      <td>0</td>\n",
       "    </tr>\n",
       "    <tr>\n",
       "      <th>1</th>\n",
       "      <td>3.716080</td>\n",
       "      <td>129.422921</td>\n",
       "      <td>18630.05786</td>\n",
       "      <td>6.635246</td>\n",
       "      <td>NaN</td>\n",
       "      <td>592.885359</td>\n",
       "      <td>15.180013</td>\n",
       "      <td>56.329076</td>\n",
       "      <td>4.500656</td>\n",
       "      <td>0</td>\n",
       "    </tr>\n",
       "    <tr>\n",
       "      <th>2</th>\n",
       "      <td>8.099124</td>\n",
       "      <td>224.236259</td>\n",
       "      <td>19909.54173</td>\n",
       "      <td>9.275884</td>\n",
       "      <td>NaN</td>\n",
       "      <td>418.606213</td>\n",
       "      <td>16.868637</td>\n",
       "      <td>66.420093</td>\n",
       "      <td>3.055934</td>\n",
       "      <td>0</td>\n",
       "    </tr>\n",
       "    <tr>\n",
       "      <th>3</th>\n",
       "      <td>8.316766</td>\n",
       "      <td>214.373394</td>\n",
       "      <td>22018.41744</td>\n",
       "      <td>8.059332</td>\n",
       "      <td>356.886136</td>\n",
       "      <td>363.266516</td>\n",
       "      <td>18.436525</td>\n",
       "      <td>100.341674</td>\n",
       "      <td>4.628771</td>\n",
       "      <td>0</td>\n",
       "    </tr>\n",
       "    <tr>\n",
       "      <th>4</th>\n",
       "      <td>9.092223</td>\n",
       "      <td>181.101509</td>\n",
       "      <td>17978.98634</td>\n",
       "      <td>6.546600</td>\n",
       "      <td>310.135738</td>\n",
       "      <td>398.410813</td>\n",
       "      <td>11.558279</td>\n",
       "      <td>31.997993</td>\n",
       "      <td>4.075075</td>\n",
       "      <td>0</td>\n",
       "    </tr>\n",
       "    <tr>\n",
       "      <th>...</th>\n",
       "      <td>...</td>\n",
       "      <td>...</td>\n",
       "      <td>...</td>\n",
       "      <td>...</td>\n",
       "      <td>...</td>\n",
       "      <td>...</td>\n",
       "      <td>...</td>\n",
       "      <td>...</td>\n",
       "      <td>...</td>\n",
       "      <td>...</td>\n",
       "    </tr>\n",
       "    <tr>\n",
       "      <th>3271</th>\n",
       "      <td>4.668102</td>\n",
       "      <td>193.681736</td>\n",
       "      <td>47580.99160</td>\n",
       "      <td>7.166639</td>\n",
       "      <td>359.948574</td>\n",
       "      <td>526.424171</td>\n",
       "      <td>13.894419</td>\n",
       "      <td>66.687695</td>\n",
       "      <td>4.435821</td>\n",
       "      <td>1</td>\n",
       "    </tr>\n",
       "    <tr>\n",
       "      <th>3272</th>\n",
       "      <td>7.808856</td>\n",
       "      <td>193.553212</td>\n",
       "      <td>17329.80216</td>\n",
       "      <td>8.061362</td>\n",
       "      <td>NaN</td>\n",
       "      <td>392.449580</td>\n",
       "      <td>19.903225</td>\n",
       "      <td>NaN</td>\n",
       "      <td>2.798243</td>\n",
       "      <td>1</td>\n",
       "    </tr>\n",
       "    <tr>\n",
       "      <th>3273</th>\n",
       "      <td>9.419510</td>\n",
       "      <td>175.762646</td>\n",
       "      <td>33155.57822</td>\n",
       "      <td>7.350233</td>\n",
       "      <td>NaN</td>\n",
       "      <td>432.044783</td>\n",
       "      <td>11.039070</td>\n",
       "      <td>69.845400</td>\n",
       "      <td>3.298875</td>\n",
       "      <td>1</td>\n",
       "    </tr>\n",
       "    <tr>\n",
       "      <th>3274</th>\n",
       "      <td>5.126763</td>\n",
       "      <td>230.603758</td>\n",
       "      <td>11983.86938</td>\n",
       "      <td>6.303357</td>\n",
       "      <td>NaN</td>\n",
       "      <td>402.883113</td>\n",
       "      <td>11.168946</td>\n",
       "      <td>77.488213</td>\n",
       "      <td>4.708658</td>\n",
       "      <td>1</td>\n",
       "    </tr>\n",
       "    <tr>\n",
       "      <th>3275</th>\n",
       "      <td>7.874671</td>\n",
       "      <td>195.102299</td>\n",
       "      <td>17404.17706</td>\n",
       "      <td>7.509306</td>\n",
       "      <td>NaN</td>\n",
       "      <td>327.459761</td>\n",
       "      <td>16.140368</td>\n",
       "      <td>78.698446</td>\n",
       "      <td>2.309149</td>\n",
       "      <td>1</td>\n",
       "    </tr>\n",
       "  </tbody>\n",
       "</table>\n",
       "<p>3276 rows × 10 columns</p>\n",
       "</div>"
      ],
      "text/plain": [
       "            ph    Hardness       Solids  Chloramines     Sulfate  \\\n",
       "0          NaN  204.890456  20791.31898     7.300212  368.516441   \n",
       "1     3.716080  129.422921  18630.05786     6.635246         NaN   \n",
       "2     8.099124  224.236259  19909.54173     9.275884         NaN   \n",
       "3     8.316766  214.373394  22018.41744     8.059332  356.886136   \n",
       "4     9.092223  181.101509  17978.98634     6.546600  310.135738   \n",
       "...        ...         ...          ...          ...         ...   \n",
       "3271  4.668102  193.681736  47580.99160     7.166639  359.948574   \n",
       "3272  7.808856  193.553212  17329.80216     8.061362         NaN   \n",
       "3273  9.419510  175.762646  33155.57822     7.350233         NaN   \n",
       "3274  5.126763  230.603758  11983.86938     6.303357         NaN   \n",
       "3275  7.874671  195.102299  17404.17706     7.509306         NaN   \n",
       "\n",
       "      Conductivity  Organic_carbon  Trihalomethanes  Turbidity  Potability  \n",
       "0       564.308654       10.379783        86.990970   2.963135           0  \n",
       "1       592.885359       15.180013        56.329076   4.500656           0  \n",
       "2       418.606213       16.868637        66.420093   3.055934           0  \n",
       "3       363.266516       18.436525       100.341674   4.628771           0  \n",
       "4       398.410813       11.558279        31.997993   4.075075           0  \n",
       "...            ...             ...              ...        ...         ...  \n",
       "3271    526.424171       13.894419        66.687695   4.435821           1  \n",
       "3272    392.449580       19.903225              NaN   2.798243           1  \n",
       "3273    432.044783       11.039070        69.845400   3.298875           1  \n",
       "3274    402.883113       11.168946        77.488213   4.708658           1  \n",
       "3275    327.459761       16.140368        78.698446   2.309149           1  \n",
       "\n",
       "[3276 rows x 10 columns]"
      ]
     },
     "execution_count": 3,
     "metadata": {},
     "output_type": "execute_result"
    }
   ],
   "source": [
    "df"
   ]
  },
  {
   "cell_type": "code",
   "execution_count": 5,
   "id": "c43eb6cc-cb6c-4001-a72e-d2db3ce5ed19",
   "metadata": {},
   "outputs": [],
   "source": [
    "X=df.drop('Potability',axis=1)\n",
    "Y=df['Potability']"
   ]
  },
  {
   "cell_type": "code",
   "execution_count": 6,
   "id": "72cb5ce8-d083-4a37-b7ab-caba1cb97b84",
   "metadata": {},
   "outputs": [
    {
     "data": {
      "text/plain": [
       "array([           nan, 2.04890456e+02, 2.07913190e+04, 7.30021187e+00,\n",
       "       3.68516441e+02, 5.64308654e+02, 1.03797831e+01, 8.69909705e+01,\n",
       "       2.96313538e+00, 0.00000000e+00])"
      ]
     },
     "execution_count": 6,
     "metadata": {},
     "output_type": "execute_result"
    }
   ],
   "source": [
    "df.iloc[0].values "
   ]
  },
  {
   "cell_type": "code",
   "execution_count": 7,
   "id": "af21a403-ce50-4673-b2f1-6a24239239f1",
   "metadata": {},
   "outputs": [],
   "source": [
    "col_list=df2.columns"
   ]
  },
  {
   "cell_type": "code",
   "execution_count": 8,
   "id": "eb71b017-f480-4080-859e-34f964a38144",
   "metadata": {},
   "outputs": [
    {
     "data": {
      "text/plain": [
       "Index(['ph', 'Hardness', 'Solids', 'Chloramines', 'Sulfate', 'Conductivity',\n",
       "       'Organic_carbon', 'Trihalomethanes', 'Turbidity', 'Potability'],\n",
       "      dtype='object')"
      ]
     },
     "execution_count": 8,
     "metadata": {},
     "output_type": "execute_result"
    }
   ],
   "source": [
    "df.iloc[0].index"
   ]
  },
  {
   "cell_type": "code",
   "execution_count": 9,
   "id": "f287ef33-6d18-4eda-917f-445285bf3af4",
   "metadata": {},
   "outputs": [
    {
     "data": {
      "text/plain": [
       "ph                 491\n",
       "Hardness             0\n",
       "Solids               0\n",
       "Chloramines          0\n",
       "Sulfate            781\n",
       "Conductivity         0\n",
       "Organic_carbon       0\n",
       "Trihalomethanes    162\n",
       "Turbidity            0\n",
       "Potability           0\n",
       "dtype: int64"
      ]
     },
     "execution_count": 9,
     "metadata": {},
     "output_type": "execute_result"
    }
   ],
   "source": [
    "df2.isnull().sum()"
   ]
  },
  {
   "cell_type": "code",
   "execution_count": 10,
   "id": "89718bf2-772c-4709-af10-2c4f490a68eb",
   "metadata": {},
   "outputs": [],
   "source": [
    "for i in col_list:\n",
    "    df2[i].fillna(df2[i].median(),inplace=True)"
   ]
  },
  {
   "cell_type": "code",
   "execution_count": 11,
   "id": "65b2d975-2a54-4f2a-8b85-25e9f4311935",
   "metadata": {},
   "outputs": [],
   "source": [
    "median_list=[]\n",
    "for i in col_list:\n",
    "    median_list.append(df[i].median())"
   ]
  },
  {
   "cell_type": "code",
   "execution_count": 12,
   "id": "27c90cb2-81a0-4b57-b921-fb22bd23d0c1",
   "metadata": {},
   "outputs": [],
   "source": [
    "temp_dict={}\n",
    "for i, j in list(zip(col_list,median_list)):\n",
    "    temp_dict[i]=j"
   ]
  },
  {
   "cell_type": "code",
   "execution_count": 13,
   "id": "27e7411e-bf70-4614-864c-a6f39ca68624",
   "metadata": {},
   "outputs": [
    {
     "data": {
      "text/plain": [
       "{'ph': 7.036752104,\n",
       " 'Hardness': 196.9676269,\n",
       " 'Solids': 20927.833605,\n",
       " 'Chloramines': 7.1302989740000005,\n",
       " 'Sulfate': 333.0735457,\n",
       " 'Conductivity': 421.88496825000004,\n",
       " 'Organic_carbon': 14.218337935000001,\n",
       " 'Trihalomethanes': 66.6224851,\n",
       " 'Turbidity': 3.955027563,\n",
       " 'Potability': 0.0}"
      ]
     },
     "execution_count": 13,
     "metadata": {},
     "output_type": "execute_result"
    }
   ],
   "source": [
    "temp_dict"
   ]
  },
  {
   "cell_type": "code",
   "execution_count": 14,
   "id": "23d0c29d-df4d-4555-8db4-ee90a710bca8",
   "metadata": {},
   "outputs": [
    {
     "data": {
      "text/plain": [
       "dict_values([7.036752104, 196.9676269, 20927.833605, 7.1302989740000005, 333.0735457, 421.88496825000004, 14.218337935000001, 66.6224851, 3.955027563, 0.0])"
      ]
     },
     "execution_count": 14,
     "metadata": {},
     "output_type": "execute_result"
    }
   ],
   "source": [
    "temp_dict.values()"
   ]
  },
  {
   "cell_type": "code",
   "execution_count": null,
   "id": "f4c3e073-8583-4b52-8b6c-3e1ca77fd6e7",
   "metadata": {},
   "outputs": [],
   "source": []
  },
  {
   "cell_type": "code",
   "execution_count": null,
   "id": "1d8d3fb7-fc31-46e3-9bd1-8d24c66a1744",
   "metadata": {},
   "outputs": [],
   "source": [
    "def null1(list1):\n",
    "    temp_dict={0: 7.036752104,1: 196.9676269,2: 20927.833605,3: 7.1302989740000005,4: 333.0735457,5: 421.88496825000004,6: 14.218337935000001,7: 66.6224851,8: 3.955027563,9: 0.0}\n",
    "    for i in range(len(list1)):\n",
    "        if list1[i] == None:\n",
    "            list1[i]= temp_dict[i]\n",
    "    return list1\n"
   ]
  },
  {
   "cell_type": "code",
   "execution_count": null,
   "id": "5007e23a-b0ce-4823-95b1-81eaf96ba8ce",
   "metadata": {},
   "outputs": [],
   "source": [
    "list1 = [None, 2.04890456e+02, 2.07913190e+04, 7.30021187e+00,\n",
    "        3.68516441e+02, 5.64308654e+02, 1.03797831e+01, 8.69909705e+01,\n",
    "        2.96313538e+00]"
   ]
  },
  {
   "cell_type": "code",
   "execution_count": 16,
   "id": "3ab7f293-3f7b-4624-8436-2ce4f2f2dbfd",
   "metadata": {},
   "outputs": [
    {
     "data": {
      "text/plain": [
       "10"
      ]
     },
     "execution_count": 16,
     "metadata": {},
     "output_type": "execute_result"
    }
   ],
   "source": [
    "len(df.iloc[0].values)"
   ]
  },
  {
   "cell_type": "markdown",
   "id": "1562baee-b500-4e71-af7e-5cc2bdd72962",
   "metadata": {},
   "source": [
    "----------------------------------------------"
   ]
  },
  {
   "cell_type": "code",
   "execution_count": 18,
   "id": "22e48d75-d47e-4b22-b677-c845d3ac0a9e",
   "metadata": {},
   "outputs": [
    {
     "data": {
      "text/plain": [
       "Index(['ph', 'Hardness', 'Solids', 'Chloramines', 'Sulfate', 'Conductivity',\n",
       "       'Organic_carbon', 'Trihalomethanes', 'Turbidity', 'Potability'],\n",
       "      dtype='object')"
      ]
     },
     "execution_count": 18,
     "metadata": {},
     "output_type": "execute_result"
    }
   ],
   "source": [
    "df.columns"
   ]
  },
  {
   "cell_type": "code",
   "execution_count": 19,
   "id": "731df5b0-f623-4832-88bd-643092982bec",
   "metadata": {},
   "outputs": [],
   "source": [
    "def median_func(data):\n",
    "    col_list1=['ph','Sulfate','Trihalomethanes']\n",
    "    for col in col_list1:\n",
    "        data[col].fillna(data[col].median(), inplace=True)\n",
    "    return data"
   ]
  },
  {
   "cell_type": "code",
   "execution_count": 20,
   "id": "a3a6fda6-f35f-4f2d-aee4-4e17ee6bb81d",
   "metadata": {},
   "outputs": [],
   "source": [
    "from sklearn.preprocessing import StandardScaler\n",
    "from sklearn.model_selection import train_test_split\n",
    "from sklearn.svm import SVC\n",
    "from sklearn.pipeline import make_pipeline\n",
    "from joblib import dump,load\n",
    "from sklearn.preprocessing import FunctionTransformer"
   ]
  },
  {
   "cell_type": "code",
   "execution_count": 21,
   "id": "9b4a80d7-d025-4b58-8d2b-3685d84ae3e3",
   "metadata": {},
   "outputs": [],
   "source": [
    "medianfunc=FunctionTransformer(median_func)"
   ]
  },
  {
   "cell_type": "code",
   "execution_count": 22,
   "id": "1d60e8c6-6da0-42c4-b6f7-fcb58fad9c53",
   "metadata": {},
   "outputs": [],
   "source": [
    "pipline= make_pipeline(medianfunc,StandardScaler(),SVC())"
   ]
  },
  {
   "cell_type": "code",
   "execution_count": 23,
   "id": "09864e84-1383-4cfe-8fd1-51b68f0d6157",
   "metadata": {},
   "outputs": [],
   "source": [
    "x_train,x_test,y_train,y_test=train_test_split(X,Y,test_size=0.2,random_state=42)"
   ]
  },
  {
   "cell_type": "code",
   "execution_count": 24,
   "id": "09f148fe-f251-44ca-a0e1-f7245b16fb86",
   "metadata": {},
   "outputs": [
    {
     "data": {
      "text/plain": [
       "Pipeline(steps=[('functiontransformer',\n",
       "                 FunctionTransformer(func=<function median_func at 0x000002963AD8DE50>)),\n",
       "                ('standardscaler', StandardScaler()), ('svc', SVC())])"
      ]
     },
     "execution_count": 24,
     "metadata": {},
     "output_type": "execute_result"
    }
   ],
   "source": [
    "pipline.fit(x_train,y_train)"
   ]
  },
  {
   "cell_type": "code",
   "execution_count": 25,
   "id": "0f0f05c6-c105-43b2-aab9-052737aabef2",
   "metadata": {},
   "outputs": [
    {
     "data": {
      "text/plain": [
       "0.7377862595419847"
      ]
     },
     "execution_count": 25,
     "metadata": {},
     "output_type": "execute_result"
    }
   ],
   "source": [
    "pipline.score(x_train,y_train)"
   ]
  },
  {
   "cell_type": "code",
   "execution_count": 26,
   "id": "1a089f47-8fb1-46ef-9b65-d868a3996d03",
   "metadata": {},
   "outputs": [
    {
     "data": {
      "text/plain": [
       "0.6920731707317073"
      ]
     },
     "execution_count": 26,
     "metadata": {},
     "output_type": "execute_result"
    }
   ],
   "source": [
    "pipline.score(x_test,y_test)"
   ]
  },
  {
   "cell_type": "code",
   "execution_count": 27,
   "id": "ceeaeee2-1034-4e40-8dd5-6ac908c72133",
   "metadata": {
    "tags": []
   },
   "outputs": [
    {
     "data": {
      "text/plain": [
       "['piplinetest.joblib']"
      ]
     },
     "execution_count": 27,
     "metadata": {},
     "output_type": "execute_result"
    }
   ],
   "source": [
    "dump(pipline,'piplinetest.joblib')"
   ]
  },
  {
   "cell_type": "code",
   "execution_count": 28,
   "id": "7ef31035-e96e-416d-bc3f-caadc3d481cb",
   "metadata": {},
   "outputs": [],
   "source": [
    "def median_func(data):\n",
    "    col_list1=['ph','Sulfate','Trihalomethanes']\n",
    "    if col_list1 == 'ph':\n",
    "        data[col].fillna(7.036752104, inplace=True)\n",
    "    elif col_list1 == 'Sulfate':\n",
    "        data[col].fillna(333.0735457, inplace=True)\n",
    "    elif col_list1 == 'Trihalomethanes':\n",
    "        data[col].fillna(66.6224851, inplace=True)\n",
    "    return data"
   ]
  },
  {
   "cell_type": "code",
   "execution_count": null,
   "id": "bea7e74b-4aaa-4471-ba63-a7b7354c899b",
   "metadata": {},
   "outputs": [],
   "source": []
  },
  {
   "cell_type": "code",
   "execution_count": null,
   "id": "ea36fada-69a4-4f8d-9792-0300614045a9",
   "metadata": {},
   "outputs": [],
   "source": []
  }
 ],
 "metadata": {
  "kernelspec": {
   "display_name": "Python 3 (ipykernel)",
   "language": "python",
   "name": "python3"
  },
  "language_info": {
   "codemirror_mode": {
    "name": "ipython",
    "version": 3
   },
   "file_extension": ".py",
   "mimetype": "text/x-python",
   "name": "python",
   "nbconvert_exporter": "python",
   "pygments_lexer": "ipython3",
   "version": "3.9.13"
  }
 },
 "nbformat": 4,
 "nbformat_minor": 5
}
