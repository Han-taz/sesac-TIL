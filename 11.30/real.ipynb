{
 "cells": [
  {
   "cell_type": "code",
   "execution_count": 1,
   "id": "0e0da318-efba-4d55-a61e-c1fb5641edbe",
   "metadata": {},
   "outputs": [],
   "source": [
    "from sklearn.preprocessing import StandardScaler\n",
    "from sklearn.model_selection import train_test_split\n",
    "from sklearn.svm import SVC\n",
    "from sklearn.pipeline import make_pipeline\n",
    "from joblib import dump,load\n",
    "from sklearn.preprocessing import FunctionTransformer\n",
    "import prepro\n",
    "import pandas as pd\n"
   ]
  },
  {
   "cell_type": "code",
   "execution_count": 2,
   "id": "4bb6ac85-621f-4f5d-bee7-7db17692dfd4",
   "metadata": {},
   "outputs": [],
   "source": [
    "list1 = [[None, 2.04890456e+02, 2.07913190e+04, 7.30021187e+00,\n",
    "        3.68516441e+02, 5.64308654e+02, 1.03797831e+01, 8.69909705e+01,\n",
    "        2.96313538e+00]]"
   ]
  },
  {
   "cell_type": "code",
   "execution_count": 3,
   "id": "8e84e293-d122-4873-8f30-829c2c767165",
   "metadata": {},
   "outputs": [],
   "source": [
    "col_list=['ph', 'Hardness', 'Solids', 'Chloramines', 'Sulfate', 'Conductivity',\n",
    "       'Organic_carbon', 'Trihalomethanes', 'Turbidity']"
   ]
  },
  {
   "cell_type": "code",
   "execution_count": 4,
   "id": "e09e5add-a1da-4ade-bda7-d74fed32dd33",
   "metadata": {},
   "outputs": [],
   "source": [
    "real_df=pd.DataFrame(list1,columns=col_list)"
   ]
  },
  {
   "cell_type": "code",
   "execution_count": 5,
   "id": "2ce825bb-f881-4b02-ba09-cfb5a75502fb",
   "metadata": {},
   "outputs": [],
   "source": [
    "from prepro import median_func"
   ]
  },
  {
   "cell_type": "code",
   "execution_count": 6,
   "id": "6eaba644-200b-4cd3-b952-330d87a83644",
   "metadata": {},
   "outputs": [
    {
     "data": {
      "text/html": [
       "<div>\n",
       "<style scoped>\n",
       "    .dataframe tbody tr th:only-of-type {\n",
       "        vertical-align: middle;\n",
       "    }\n",
       "\n",
       "    .dataframe tbody tr th {\n",
       "        vertical-align: top;\n",
       "    }\n",
       "\n",
       "    .dataframe thead th {\n",
       "        text-align: right;\n",
       "    }\n",
       "</style>\n",
       "<table border=\"1\" class=\"dataframe\">\n",
       "  <thead>\n",
       "    <tr style=\"text-align: right;\">\n",
       "      <th></th>\n",
       "      <th>ph</th>\n",
       "      <th>Hardness</th>\n",
       "      <th>Solids</th>\n",
       "      <th>Chloramines</th>\n",
       "      <th>Sulfate</th>\n",
       "      <th>Conductivity</th>\n",
       "      <th>Organic_carbon</th>\n",
       "      <th>Trihalomethanes</th>\n",
       "      <th>Turbidity</th>\n",
       "    </tr>\n",
       "  </thead>\n",
       "  <tbody>\n",
       "    <tr>\n",
       "      <th>0</th>\n",
       "      <td>7.036752</td>\n",
       "      <td>204.890456</td>\n",
       "      <td>20791.319</td>\n",
       "      <td>7.300212</td>\n",
       "      <td>368.516441</td>\n",
       "      <td>564.308654</td>\n",
       "      <td>10.379783</td>\n",
       "      <td>86.990971</td>\n",
       "      <td>2.963135</td>\n",
       "    </tr>\n",
       "  </tbody>\n",
       "</table>\n",
       "</div>"
      ],
      "text/plain": [
       "         ph    Hardness     Solids  Chloramines     Sulfate  Conductivity  \\\n",
       "0  7.036752  204.890456  20791.319     7.300212  368.516441    564.308654   \n",
       "\n",
       "   Organic_carbon  Trihalomethanes  Turbidity  \n",
       "0       10.379783        86.990971   2.963135  "
      ]
     },
     "execution_count": 6,
     "metadata": {},
     "output_type": "execute_result"
    }
   ],
   "source": [
    "median_func(real_df)"
   ]
  },
  {
   "cell_type": "code",
   "execution_count": 7,
   "id": "8ebf074c-f9a1-4b04-be1b-a9ba51d51001",
   "metadata": {},
   "outputs": [],
   "source": [
    "pipline= load('piplinetest.joblib')"
   ]
  },
  {
   "cell_type": "code",
   "execution_count": 8,
   "id": "7d6e324a-4b6c-4d36-9a85-5d00201e326b",
   "metadata": {},
   "outputs": [
    {
     "data": {
      "text/plain": [
       "Pipeline(steps=[('functiontransformer',\n",
       "                 FunctionTransformer(func=<function median_func at 0x00000271DE076430>)),\n",
       "                ('standardscaler', StandardScaler()), ('svc', SVC())])"
      ]
     },
     "execution_count": 8,
     "metadata": {},
     "output_type": "execute_result"
    }
   ],
   "source": [
    "pipline"
   ]
  },
  {
   "cell_type": "code",
   "execution_count": 9,
   "id": "54880b54-1c1f-4338-b8d1-f74c7613757a",
   "metadata": {},
   "outputs": [
    {
     "data": {
      "text/plain": [
       "array([0], dtype=int64)"
      ]
     },
     "execution_count": 9,
     "metadata": {},
     "output_type": "execute_result"
    }
   ],
   "source": [
    "pipline.predict(real_df)"
   ]
  },
  {
   "cell_type": "code",
   "execution_count": null,
   "id": "507a4d20-7070-4a54-90cd-5ccda817a894",
   "metadata": {},
   "outputs": [],
   "source": []
  },
  {
   "cell_type": "code",
   "execution_count": null,
   "id": "13a6f0f6-3309-4456-a4e8-a1a04d98a23d",
   "metadata": {},
   "outputs": [],
   "source": []
  }
 ],
 "metadata": {
  "kernelspec": {
   "display_name": "Python 3 (ipykernel)",
   "language": "python",
   "name": "python3"
  },
  "language_info": {
   "codemirror_mode": {
    "name": "ipython",
    "version": 3
   },
   "file_extension": ".py",
   "mimetype": "text/x-python",
   "name": "python",
   "nbconvert_exporter": "python",
   "pygments_lexer": "ipython3",
   "version": "3.9.13"
  }
 },
 "nbformat": 4,
 "nbformat_minor": 5
}
