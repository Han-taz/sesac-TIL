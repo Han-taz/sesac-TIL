{
 "cells": [
  {
   "cell_type": "code",
   "execution_count": 1,
   "id": "3777b522-4dfa-49cc-87bc-0d816f864213",
   "metadata": {},
   "outputs": [],
   "source": [
    "import pandas as pd\n",
    "from sklearn import datasets\n",
    "from sklearn.neighbors import KNeighborsClassifier\n",
    "import warnings\n",
    "warnings.filterwarnings('ignore')\n",
    "from sklearn.model_selection import ShuffleSplit"
   ]
  },
  {
   "cell_type": "code",
   "execution_count": 2,
   "id": "e0c8eaeb-39a5-44a3-96b4-a583a0f40f61",
   "metadata": {},
   "outputs": [],
   "source": [
    "digits=datasets.load_digits()"
   ]
  },
  {
   "cell_type": "code",
   "execution_count": 3,
   "id": "ddf80230-d216-4f20-b30e-c25560fa5c15",
   "metadata": {},
   "outputs": [
    {
     "data": {
      "text/plain": [
       "array([[ 0.,  0.,  5., ...,  0.,  0.,  0.],\n",
       "       [ 0.,  0.,  0., ..., 10.,  0.,  0.],\n",
       "       [ 0.,  0.,  0., ..., 16.,  9.,  0.],\n",
       "       ...,\n",
       "       [ 0.,  0.,  1., ...,  6.,  0.,  0.],\n",
       "       [ 0.,  0.,  2., ..., 12.,  0.,  0.],\n",
       "       [ 0.,  0., 10., ..., 12.,  1.,  0.]])"
      ]
     },
     "execution_count": 3,
     "metadata": {},
     "output_type": "execute_result"
    }
   ],
   "source": [
    "digits.data"
   ]
  },
  {
   "cell_type": "code",
   "execution_count": 4,
   "id": "41725faa-9596-4fc4-aa87-22b458621e81",
   "metadata": {},
   "outputs": [
    {
     "data": {
      "text/plain": [
       "array([ 0.,  0.,  5., 13.,  9.,  1.,  0.,  0.,  0.,  0., 13., 15., 10.,\n",
       "       15.,  5.,  0.,  0.,  3., 15.,  2.,  0., 11.,  8.,  0.,  0.,  4.,\n",
       "       12.,  0.,  0.,  8.,  8.,  0.,  0.,  5.,  8.,  0.,  0.,  9.,  8.,\n",
       "        0.,  0.,  4., 11.,  0.,  1., 12.,  7.,  0.,  0.,  2., 14.,  5.,\n",
       "       10., 12.,  0.,  0.,  0.,  0.,  6., 13., 10.,  0.,  0.,  0.])"
      ]
     },
     "execution_count": 4,
     "metadata": {},
     "output_type": "execute_result"
    }
   ],
   "source": [
    "digits.data[0]"
   ]
  },
  {
   "cell_type": "code",
   "execution_count": 5,
   "id": "7850b256-dc63-4969-a107-ee60acece0e5",
   "metadata": {},
   "outputs": [
    {
     "data": {
      "text/plain": [
       "1797"
      ]
     },
     "execution_count": 5,
     "metadata": {},
     "output_type": "execute_result"
    }
   ],
   "source": [
    "len(digits.target)"
   ]
  },
  {
   "cell_type": "code",
   "execution_count": 6,
   "id": "4e1b492b-fc57-43bf-9cfb-b080b2126158",
   "metadata": {},
   "outputs": [],
   "source": [
    "knn=KNeighborsClassifier()"
   ]
  },
  {
   "cell_type": "code",
   "execution_count": 7,
   "id": "61e6666b-28c0-45b5-a044-663e7e27a8ad",
   "metadata": {},
   "outputs": [],
   "source": [
    "param_grid={'n_neighbors':range(1,20)}"
   ]
  },
  {
   "cell_type": "code",
   "execution_count": 8,
   "id": "4f688be1-a623-45c3-bd44-72177cc318ea",
   "metadata": {},
   "outputs": [
    {
     "data": {
      "text/plain": [
       "{'n_neighbors': range(1, 20)}"
      ]
     },
     "execution_count": 8,
     "metadata": {},
     "output_type": "execute_result"
    }
   ],
   "source": [
    "param_grid"
   ]
  },
  {
   "cell_type": "code",
   "execution_count": 9,
   "id": "0f809be7-7868-4adf-825b-1c819d08af94",
   "metadata": {},
   "outputs": [],
   "source": [
    "from sklearn.model_selection import GridSearchCV"
   ]
  },
  {
   "cell_type": "code",
   "execution_count": 19,
   "id": "42889f68-06f1-4841-87d3-95d50707994e",
   "metadata": {},
   "outputs": [
    {
     "data": {
      "text/plain": [
       "GridSearchCV(cv=10, estimator=KNeighborsClassifier(),\n",
       "             param_grid={'n_neighbors': range(1, 20)}, return_train_score=True,\n",
       "             verbose=3)"
      ]
     },
     "execution_count": 19,
     "metadata": {},
     "output_type": "execute_result"
    }
   ],
   "source": [
    "grid_model=GridSearchCV(knn,return_train_score=True, param_grid=param_grid, cv=10, verbose=3)\n",
    "grid_model"
   ]
  },
  {
   "cell_type": "code",
   "execution_count": 20,
   "id": "08754779-b4c3-4ca1-89b7-cdce97e76019",
   "metadata": {
    "collapsed": true,
    "jupyter": {
     "outputs_hidden": true
    },
    "tags": []
   },
   "outputs": [
    {
     "name": "stdout",
     "output_type": "stream",
     "text": [
      "Fitting 10 folds for each of 19 candidates, totalling 190 fits\n",
      "[CV 1/10] END n_neighbors=1;, score=(train=1.000, test=0.933) total time=   0.0s\n",
      "[CV 2/10] END n_neighbors=1;, score=(train=1.000, test=0.994) total time=   0.0s\n",
      "[CV 3/10] END n_neighbors=1;, score=(train=1.000, test=0.972) total time=   0.0s\n",
      "[CV 4/10] END n_neighbors=1;, score=(train=1.000, test=0.972) total time=   0.0s\n",
      "[CV 5/10] END n_neighbors=1;, score=(train=1.000, test=0.967) total time=   0.0s\n",
      "[CV 6/10] END n_neighbors=1;, score=(train=1.000, test=0.983) total time=   0.0s\n",
      "[CV 7/10] END n_neighbors=1;, score=(train=1.000, test=0.994) total time=   0.0s\n",
      "[CV 8/10] END n_neighbors=1;, score=(train=1.000, test=0.989) total time=   0.0s\n",
      "[CV 9/10] END n_neighbors=1;, score=(train=1.000, test=0.978) total time=   0.0s\n",
      "[CV 10/10] END n_neighbors=1;, score=(train=1.000, test=0.966) total time=   0.0s\n",
      "[CV 1/10] END n_neighbors=2;, score=(train=0.993, test=0.939) total time=   0.0s\n",
      "[CV 2/10] END n_neighbors=2;, score=(train=0.990, test=0.989) total time=   0.0s\n",
      "[CV 3/10] END n_neighbors=2;, score=(train=0.991, test=0.989) total time=   0.0s\n",
      "[CV 4/10] END n_neighbors=2;, score=(train=0.992, test=0.961) total time=   0.0s\n",
      "[CV 5/10] END n_neighbors=2;, score=(train=0.991, test=0.961) total time=   0.0s\n",
      "[CV 6/10] END n_neighbors=2;, score=(train=0.991, test=0.983) total time=   0.0s\n",
      "[CV 7/10] END n_neighbors=2;, score=(train=0.991, test=0.989) total time=   0.0s\n",
      "[CV 8/10] END n_neighbors=2;, score=(train=0.989, test=0.978) total time=   0.0s\n",
      "[CV 9/10] END n_neighbors=2;, score=(train=0.991, test=0.978) total time=   0.0s\n",
      "[CV 10/10] END n_neighbors=2;, score=(train=0.990, test=0.978) total time=   0.0s\n",
      "[CV 1/10] END n_neighbors=3;, score=(train=0.994, test=0.939) total time=   0.0s\n",
      "[CV 2/10] END n_neighbors=3;, score=(train=0.993, test=1.000) total time=   0.0s\n",
      "[CV 3/10] END n_neighbors=3;, score=(train=0.993, test=0.989) total time=   0.0s\n",
      "[CV 4/10] END n_neighbors=3;, score=(train=0.994, test=0.972) total time=   0.0s\n",
      "[CV 5/10] END n_neighbors=3;, score=(train=0.994, test=0.967) total time=   0.0s\n",
      "[CV 6/10] END n_neighbors=3;, score=(train=0.992, test=0.978) total time=   0.0s\n",
      "[CV 7/10] END n_neighbors=3;, score=(train=0.994, test=0.983) total time=   0.0s\n",
      "[CV 8/10] END n_neighbors=3;, score=(train=0.993, test=0.983) total time=   0.0s\n",
      "[CV 9/10] END n_neighbors=3;, score=(train=0.993, test=0.983) total time=   0.0s\n",
      "[CV 10/10] END n_neighbors=3;, score=(train=0.993, test=0.972) total time=   0.0s\n",
      "[CV 1/10] END n_neighbors=4;, score=(train=0.993, test=0.933) total time=   0.0s\n",
      "[CV 2/10] END n_neighbors=4;, score=(train=0.990, test=0.983) total time=   0.0s\n",
      "[CV 3/10] END n_neighbors=4;, score=(train=0.991, test=0.983) total time=   0.0s\n",
      "[CV 4/10] END n_neighbors=4;, score=(train=0.994, test=0.961) total time=   0.0s\n",
      "[CV 5/10] END n_neighbors=4;, score=(train=0.993, test=0.967) total time=   0.0s\n",
      "[CV 6/10] END n_neighbors=4;, score=(train=0.991, test=0.983) total time=   0.0s\n",
      "[CV 7/10] END n_neighbors=4;, score=(train=0.993, test=0.983) total time=   0.0s\n",
      "[CV 8/10] END n_neighbors=4;, score=(train=0.991, test=0.978) total time=   0.0s\n",
      "[CV 9/10] END n_neighbors=4;, score=(train=0.991, test=0.983) total time=   0.0s\n",
      "[CV 10/10] END n_neighbors=4;, score=(train=0.991, test=0.966) total time=   0.0s\n",
      "[CV 1/10] END n_neighbors=5;, score=(train=0.990, test=0.928) total time=   0.0s\n",
      "[CV 2/10] END n_neighbors=5;, score=(train=0.992, test=0.983) total time=   0.0s\n",
      "[CV 3/10] END n_neighbors=5;, score=(train=0.991, test=0.978) total time=   0.0s\n",
      "[CV 4/10] END n_neighbors=5;, score=(train=0.991, test=0.956) total time=   0.0s\n",
      "[CV 5/10] END n_neighbors=5;, score=(train=0.990, test=0.972) total time=   0.0s\n",
      "[CV 6/10] END n_neighbors=5;, score=(train=0.989, test=0.972) total time=   0.0s\n",
      "[CV 7/10] END n_neighbors=5;, score=(train=0.991, test=0.989) total time=   0.0s\n",
      "[CV 8/10] END n_neighbors=5;, score=(train=0.991, test=0.983) total time=   0.0s\n",
      "[CV 9/10] END n_neighbors=5;, score=(train=0.990, test=0.983) total time=   0.0s\n",
      "[CV 10/10] END n_neighbors=5;, score=(train=0.991, test=0.966) total time=   0.0s\n",
      "[CV 1/10] END n_neighbors=6;, score=(train=0.989, test=0.928) total time=   0.0s\n",
      "[CV 2/10] END n_neighbors=6;, score=(train=0.988, test=0.972) total time=   0.0s\n",
      "[CV 3/10] END n_neighbors=6;, score=(train=0.990, test=0.972) total time=   0.0s\n",
      "[CV 4/10] END n_neighbors=6;, score=(train=0.990, test=0.956) total time=   0.0s\n",
      "[CV 5/10] END n_neighbors=6;, score=(train=0.990, test=0.972) total time=   0.0s\n",
      "[CV 6/10] END n_neighbors=6;, score=(train=0.989, test=0.972) total time=   0.0s\n",
      "[CV 7/10] END n_neighbors=6;, score=(train=0.990, test=0.989) total time=   0.0s\n",
      "[CV 8/10] END n_neighbors=6;, score=(train=0.988, test=0.983) total time=   0.0s\n",
      "[CV 9/10] END n_neighbors=6;, score=(train=0.989, test=0.972) total time=   0.0s\n",
      "[CV 10/10] END n_neighbors=6;, score=(train=0.990, test=0.966) total time=   0.0s\n",
      "[CV 1/10] END n_neighbors=7;, score=(train=0.989, test=0.922) total time=   0.0s\n",
      "[CV 2/10] END n_neighbors=7;, score=(train=0.990, test=0.978) total time=   0.0s\n",
      "[CV 3/10] END n_neighbors=7;, score=(train=0.992, test=0.978) total time=   0.0s\n",
      "[CV 4/10] END n_neighbors=7;, score=(train=0.990, test=0.950) total time=   0.0s\n",
      "[CV 5/10] END n_neighbors=7;, score=(train=0.991, test=0.978) total time=   0.0s\n",
      "[CV 6/10] END n_neighbors=7;, score=(train=0.990, test=0.961) total time=   0.0s\n",
      "[CV 7/10] END n_neighbors=7;, score=(train=0.989, test=0.989) total time=   0.0s\n",
      "[CV 8/10] END n_neighbors=7;, score=(train=0.989, test=0.989) total time=   0.0s\n",
      "[CV 9/10] END n_neighbors=7;, score=(train=0.990, test=0.972) total time=   0.0s\n",
      "[CV 10/10] END n_neighbors=7;, score=(train=0.989, test=0.961) total time=   0.0s\n",
      "[CV 1/10] END n_neighbors=8;, score=(train=0.986, test=0.922) total time=   0.0s\n",
      "[CV 2/10] END n_neighbors=8;, score=(train=0.988, test=0.978) total time=   0.0s\n",
      "[CV 3/10] END n_neighbors=8;, score=(train=0.991, test=0.972) total time=   0.0s\n",
      "[CV 4/10] END n_neighbors=8;, score=(train=0.989, test=0.950) total time=   0.0s\n",
      "[CV 5/10] END n_neighbors=8;, score=(train=0.989, test=0.967) total time=   0.0s\n",
      "[CV 6/10] END n_neighbors=8;, score=(train=0.989, test=0.972) total time=   0.0s\n",
      "[CV 7/10] END n_neighbors=8;, score=(train=0.988, test=0.989) total time=   0.0s\n",
      "[CV 8/10] END n_neighbors=8;, score=(train=0.987, test=0.978) total time=   0.0s\n",
      "[CV 9/10] END n_neighbors=8;, score=(train=0.989, test=0.966) total time=   0.0s\n",
      "[CV 10/10] END n_neighbors=8;, score=(train=0.989, test=0.955) total time=   0.0s\n",
      "[CV 1/10] END n_neighbors=9;, score=(train=0.986, test=0.917) total time=   0.0s\n",
      "[CV 2/10] END n_neighbors=9;, score=(train=0.986, test=0.967) total time=   0.0s\n",
      "[CV 3/10] END n_neighbors=9;, score=(train=0.990, test=0.978) total time=   0.0s\n",
      "[CV 4/10] END n_neighbors=9;, score=(train=0.989, test=0.950) total time=   0.0s\n",
      "[CV 5/10] END n_neighbors=9;, score=(train=0.989, test=0.978) total time=   0.0s\n",
      "[CV 6/10] END n_neighbors=9;, score=(train=0.988, test=0.978) total time=   0.0s\n",
      "[CV 7/10] END n_neighbors=9;, score=(train=0.988, test=0.983) total time=   0.0s\n",
      "[CV 8/10] END n_neighbors=9;, score=(train=0.986, test=0.983) total time=   0.0s\n",
      "[CV 9/10] END n_neighbors=9;, score=(train=0.988, test=0.961) total time=   0.0s\n",
      "[CV 10/10] END n_neighbors=9;, score=(train=0.989, test=0.955) total time=   0.0s\n",
      "[CV 1/10] END n_neighbors=10;, score=(train=0.985, test=0.917) total time=   0.0s\n",
      "[CV 2/10] END n_neighbors=10;, score=(train=0.986, test=0.961) total time=   0.0s\n",
      "[CV 3/10] END n_neighbors=10;, score=(train=0.988, test=0.972) total time=   0.0s\n",
      "[CV 4/10] END n_neighbors=10;, score=(train=0.985, test=0.939) total time=   0.0s\n",
      "[CV 5/10] END n_neighbors=10;, score=(train=0.985, test=0.967) total time=   0.0s\n",
      "[CV 6/10] END n_neighbors=10;, score=(train=0.986, test=0.983) total time=   0.0s\n",
      "[CV 7/10] END n_neighbors=10;, score=(train=0.986, test=0.989) total time=   0.0s\n",
      "[CV 8/10] END n_neighbors=10;, score=(train=0.984, test=0.978) total time=   0.0s\n",
      "[CV 9/10] END n_neighbors=10;, score=(train=0.986, test=0.961) total time=   0.0s\n",
      "[CV 10/10] END n_neighbors=10;, score=(train=0.988, test=0.955) total time=   0.0s\n",
      "[CV 1/10] END n_neighbors=11;, score=(train=0.986, test=0.922) total time=   0.0s\n",
      "[CV 2/10] END n_neighbors=11;, score=(train=0.985, test=0.967) total time=   0.0s\n",
      "[CV 3/10] END n_neighbors=11;, score=(train=0.989, test=0.978) total time=   0.0s\n",
      "[CV 4/10] END n_neighbors=11;, score=(train=0.988, test=0.939) total time=   0.0s\n",
      "[CV 5/10] END n_neighbors=11;, score=(train=0.988, test=0.972) total time=   0.0s\n",
      "[CV 6/10] END n_neighbors=11;, score=(train=0.987, test=0.983) total time=   0.0s\n",
      "[CV 7/10] END n_neighbors=11;, score=(train=0.989, test=0.989) total time=   0.0s\n",
      "[CV 8/10] END n_neighbors=11;, score=(train=0.986, test=0.983) total time=   0.0s\n",
      "[CV 9/10] END n_neighbors=11;, score=(train=0.987, test=0.950) total time=   0.0s\n",
      "[CV 10/10] END n_neighbors=11;, score=(train=0.989, test=0.955) total time=   0.0s\n",
      "[CV 1/10] END n_neighbors=12;, score=(train=0.985, test=0.917) total time=   0.0s\n",
      "[CV 2/10] END n_neighbors=12;, score=(train=0.986, test=0.967) total time=   0.0s\n",
      "[CV 3/10] END n_neighbors=12;, score=(train=0.988, test=0.978) total time=   0.0s\n",
      "[CV 4/10] END n_neighbors=12;, score=(train=0.986, test=0.944) total time=   0.0s\n",
      "[CV 5/10] END n_neighbors=12;, score=(train=0.989, test=0.967) total time=   0.0s\n",
      "[CV 6/10] END n_neighbors=12;, score=(train=0.987, test=0.983) total time=   0.0s\n",
      "[CV 7/10] END n_neighbors=12;, score=(train=0.987, test=0.989) total time=   0.0s\n",
      "[CV 8/10] END n_neighbors=12;, score=(train=0.985, test=0.983) total time=   0.0s\n",
      "[CV 9/10] END n_neighbors=12;, score=(train=0.986, test=0.961) total time=   0.0s\n",
      "[CV 10/10] END n_neighbors=12;, score=(train=0.988, test=0.955) total time=   0.0s\n",
      "[CV 1/10] END n_neighbors=13;, score=(train=0.984, test=0.917) total time=   0.0s\n",
      "[CV 2/10] END n_neighbors=13;, score=(train=0.986, test=0.967) total time=   0.0s\n",
      "[CV 3/10] END n_neighbors=13;, score=(train=0.988, test=0.978) total time=   0.0s\n",
      "[CV 4/10] END n_neighbors=13;, score=(train=0.986, test=0.939) total time=   0.0s\n",
      "[CV 5/10] END n_neighbors=13;, score=(train=0.986, test=0.972) total time=   0.0s\n",
      "[CV 6/10] END n_neighbors=13;, score=(train=0.985, test=0.983) total time=   0.0s\n",
      "[CV 7/10] END n_neighbors=13;, score=(train=0.986, test=0.989) total time=   0.0s\n",
      "[CV 8/10] END n_neighbors=13;, score=(train=0.985, test=0.983) total time=   0.0s\n",
      "[CV 9/10] END n_neighbors=13;, score=(train=0.987, test=0.950) total time=   0.0s\n",
      "[CV 10/10] END n_neighbors=13;, score=(train=0.986, test=0.955) total time=   0.0s\n",
      "[CV 1/10] END n_neighbors=14;, score=(train=0.985, test=0.911) total time=   0.0s\n",
      "[CV 2/10] END n_neighbors=14;, score=(train=0.985, test=0.972) total time=   0.0s\n",
      "[CV 3/10] END n_neighbors=14;, score=(train=0.988, test=0.978) total time=   0.0s\n",
      "[CV 4/10] END n_neighbors=14;, score=(train=0.986, test=0.944) total time=   0.0s\n",
      "[CV 5/10] END n_neighbors=14;, score=(train=0.985, test=0.972) total time=   0.0s\n",
      "[CV 6/10] END n_neighbors=14;, score=(train=0.985, test=0.983) total time=   0.0s\n",
      "[CV 7/10] END n_neighbors=14;, score=(train=0.985, test=0.989) total time=   0.0s\n",
      "[CV 8/10] END n_neighbors=14;, score=(train=0.982, test=0.983) total time=   0.0s\n",
      "[CV 9/10] END n_neighbors=14;, score=(train=0.986, test=0.944) total time=   0.0s\n",
      "[CV 10/10] END n_neighbors=14;, score=(train=0.985, test=0.955) total time=   0.0s\n",
      "[CV 1/10] END n_neighbors=15;, score=(train=0.985, test=0.917) total time=   0.0s\n",
      "[CV 2/10] END n_neighbors=15;, score=(train=0.985, test=0.967) total time=   0.0s\n",
      "[CV 3/10] END n_neighbors=15;, score=(train=0.987, test=0.978) total time=   0.0s\n",
      "[CV 4/10] END n_neighbors=15;, score=(train=0.984, test=0.944) total time=   0.0s\n",
      "[CV 5/10] END n_neighbors=15;, score=(train=0.984, test=0.978) total time=   0.0s\n",
      "[CV 6/10] END n_neighbors=15;, score=(train=0.983, test=0.972) total time=   0.0s\n",
      "[CV 7/10] END n_neighbors=15;, score=(train=0.983, test=0.983) total time=   0.0s\n",
      "[CV 8/10] END n_neighbors=15;, score=(train=0.981, test=0.983) total time=   0.0s\n",
      "[CV 9/10] END n_neighbors=15;, score=(train=0.985, test=0.944) total time=   0.0s\n",
      "[CV 10/10] END n_neighbors=15;, score=(train=0.986, test=0.955) total time=   0.0s\n",
      "[CV 1/10] END n_neighbors=16;, score=(train=0.983, test=0.917) total time=   0.0s\n",
      "[CV 2/10] END n_neighbors=16;, score=(train=0.984, test=0.967) total time=   0.0s\n",
      "[CV 3/10] END n_neighbors=16;, score=(train=0.985, test=0.978) total time=   0.0s\n",
      "[CV 4/10] END n_neighbors=16;, score=(train=0.983, test=0.939) total time=   0.0s\n",
      "[CV 5/10] END n_neighbors=16;, score=(train=0.985, test=0.972) total time=   0.0s\n",
      "[CV 6/10] END n_neighbors=16;, score=(train=0.981, test=0.983) total time=   0.0s\n",
      "[CV 7/10] END n_neighbors=16;, score=(train=0.982, test=0.978) total time=   0.0s\n",
      "[CV 8/10] END n_neighbors=16;, score=(train=0.980, test=0.972) total time=   0.0s\n",
      "[CV 9/10] END n_neighbors=16;, score=(train=0.984, test=0.955) total time=   0.0s\n",
      "[CV 10/10] END n_neighbors=16;, score=(train=0.983, test=0.961) total time=   0.0s\n",
      "[CV 1/10] END n_neighbors=17;, score=(train=0.982, test=0.917) total time=   0.0s\n",
      "[CV 2/10] END n_neighbors=17;, score=(train=0.982, test=0.967) total time=   0.0s\n",
      "[CV 3/10] END n_neighbors=17;, score=(train=0.986, test=0.978) total time=   0.0s\n",
      "[CV 4/10] END n_neighbors=17;, score=(train=0.983, test=0.944) total time=   0.0s\n",
      "[CV 5/10] END n_neighbors=17;, score=(train=0.984, test=0.972) total time=   0.0s\n",
      "[CV 6/10] END n_neighbors=17;, score=(train=0.983, test=0.978) total time=   0.0s\n",
      "[CV 7/10] END n_neighbors=17;, score=(train=0.981, test=0.983) total time=   0.0s\n",
      "[CV 8/10] END n_neighbors=17;, score=(train=0.981, test=0.972) total time=   0.0s\n",
      "[CV 9/10] END n_neighbors=17;, score=(train=0.985, test=0.944) total time=   0.0s\n",
      "[CV 10/10] END n_neighbors=17;, score=(train=0.984, test=0.961) total time=   0.0s\n",
      "[CV 1/10] END n_neighbors=18;, score=(train=0.981, test=0.922) total time=   0.0s\n",
      "[CV 2/10] END n_neighbors=18;, score=(train=0.982, test=0.967) total time=   0.0s\n",
      "[CV 3/10] END n_neighbors=18;, score=(train=0.985, test=0.978) total time=   0.0s\n",
      "[CV 4/10] END n_neighbors=18;, score=(train=0.983, test=0.939) total time=   0.0s\n",
      "[CV 5/10] END n_neighbors=18;, score=(train=0.984, test=0.972) total time=   0.0s\n",
      "[CV 6/10] END n_neighbors=18;, score=(train=0.981, test=0.978) total time=   0.0s\n",
      "[CV 7/10] END n_neighbors=18;, score=(train=0.981, test=0.983) total time=   0.0s\n",
      "[CV 8/10] END n_neighbors=18;, score=(train=0.980, test=0.972) total time=   0.0s\n",
      "[CV 9/10] END n_neighbors=18;, score=(train=0.983, test=0.955) total time=   0.0s\n",
      "[CV 10/10] END n_neighbors=18;, score=(train=0.982, test=0.961) total time=   0.0s\n",
      "[CV 1/10] END n_neighbors=19;, score=(train=0.983, test=0.922) total time=   0.0s\n",
      "[CV 2/10] END n_neighbors=19;, score=(train=0.981, test=0.967) total time=   0.0s\n",
      "[CV 3/10] END n_neighbors=19;, score=(train=0.985, test=0.978) total time=   0.0s\n",
      "[CV 4/10] END n_neighbors=19;, score=(train=0.982, test=0.944) total time=   0.0s\n",
      "[CV 5/10] END n_neighbors=19;, score=(train=0.983, test=0.972) total time=   0.0s\n",
      "[CV 6/10] END n_neighbors=19;, score=(train=0.980, test=0.972) total time=   0.0s\n",
      "[CV 7/10] END n_neighbors=19;, score=(train=0.980, test=0.983) total time=   0.0s\n",
      "[CV 8/10] END n_neighbors=19;, score=(train=0.980, test=0.978) total time=   0.0s\n",
      "[CV 9/10] END n_neighbors=19;, score=(train=0.983, test=0.944) total time=   0.0s\n",
      "[CV 10/10] END n_neighbors=19;, score=(train=0.981, test=0.961) total time=   0.0s\n"
     ]
    },
    {
     "data": {
      "text/plain": [
       "GridSearchCV(cv=10, estimator=KNeighborsClassifier(),\n",
       "             param_grid={'n_neighbors': range(1, 20)}, return_train_score=True,\n",
       "             verbose=3)"
      ]
     },
     "execution_count": 20,
     "metadata": {},
     "output_type": "execute_result"
    }
   ],
   "source": [
    "grid_model.fit(digits.data,digits.target)"
   ]
  },
  {
   "cell_type": "code",
   "execution_count": 21,
   "id": "8f94ab53-3787-4ab1-a37e-19df2184b232",
   "metadata": {},
   "outputs": [
    {
     "data": {
      "text/plain": [
       "dict_keys(['mean_fit_time', 'std_fit_time', 'mean_score_time', 'std_score_time', 'param_n_neighbors', 'params', 'split0_test_score', 'split1_test_score', 'split2_test_score', 'split3_test_score', 'split4_test_score', 'split5_test_score', 'split6_test_score', 'split7_test_score', 'split8_test_score', 'split9_test_score', 'mean_test_score', 'std_test_score', 'rank_test_score', 'split0_train_score', 'split1_train_score', 'split2_train_score', 'split3_train_score', 'split4_train_score', 'split5_train_score', 'split6_train_score', 'split7_train_score', 'split8_train_score', 'split9_train_score', 'mean_train_score', 'std_train_score'])"
      ]
     },
     "execution_count": 21,
     "metadata": {},
     "output_type": "execute_result"
    }
   ],
   "source": [
    "grid_model.cv_results_.keys()"
   ]
  },
  {
   "cell_type": "code",
   "execution_count": 22,
   "id": "2358daab-ff4d-4c4b-ad53-61cd758f67cb",
   "metadata": {},
   "outputs": [],
   "source": [
    "colnames=['param_n_neighbors','mean_train_score','mean_test_score']"
   ]
  },
  {
   "cell_type": "code",
   "execution_count": 23,
   "id": "c3dcd0a8-a5b3-4dd7-b1f4-81d12831e11b",
   "metadata": {
    "tags": []
   },
   "outputs": [
    {
     "data": {
      "text/html": [
       "<div>\n",
       "<style scoped>\n",
       "    .dataframe tbody tr th:only-of-type {\n",
       "        vertical-align: middle;\n",
       "    }\n",
       "\n",
       "    .dataframe tbody tr th {\n",
       "        vertical-align: top;\n",
       "    }\n",
       "\n",
       "    .dataframe thead th {\n",
       "        text-align: right;\n",
       "    }\n",
       "</style>\n",
       "<table border=\"1\" class=\"dataframe\">\n",
       "  <thead>\n",
       "    <tr style=\"text-align: right;\">\n",
       "      <th></th>\n",
       "      <th>param_n_neighbors</th>\n",
       "      <th>mean_train_score</th>\n",
       "      <th>mean_test_score</th>\n",
       "    </tr>\n",
       "  </thead>\n",
       "  <tbody>\n",
       "    <tr>\n",
       "      <th>0</th>\n",
       "      <td>1</td>\n",
       "      <td>1.000000</td>\n",
       "      <td>0.974963</td>\n",
       "    </tr>\n",
       "    <tr>\n",
       "      <th>1</th>\n",
       "      <td>2</td>\n",
       "      <td>0.990973</td>\n",
       "      <td>0.974407</td>\n",
       "    </tr>\n",
       "    <tr>\n",
       "      <th>2</th>\n",
       "      <td>3</td>\n",
       "      <td>0.993322</td>\n",
       "      <td>0.976633</td>\n",
       "    </tr>\n",
       "    <tr>\n",
       "      <th>3</th>\n",
       "      <td>4</td>\n",
       "      <td>0.991776</td>\n",
       "      <td>0.972182</td>\n",
       "    </tr>\n",
       "    <tr>\n",
       "      <th>4</th>\n",
       "      <td>5</td>\n",
       "      <td>0.990540</td>\n",
       "      <td>0.971074</td>\n",
       "    </tr>\n",
       "    <tr>\n",
       "      <th>5</th>\n",
       "      <td>6</td>\n",
       "      <td>0.989427</td>\n",
       "      <td>0.968290</td>\n",
       "    </tr>\n",
       "    <tr>\n",
       "      <th>6</th>\n",
       "      <td>7</td>\n",
       "      <td>0.990107</td>\n",
       "      <td>0.967734</td>\n",
       "    </tr>\n",
       "    <tr>\n",
       "      <th>7</th>\n",
       "      <td>8</td>\n",
       "      <td>0.988685</td>\n",
       "      <td>0.964944</td>\n",
       "    </tr>\n",
       "    <tr>\n",
       "      <th>8</th>\n",
       "      <td>9</td>\n",
       "      <td>0.987881</td>\n",
       "      <td>0.964944</td>\n",
       "    </tr>\n",
       "    <tr>\n",
       "      <th>9</th>\n",
       "      <td>10</td>\n",
       "      <td>0.985841</td>\n",
       "      <td>0.962163</td>\n",
       "    </tr>\n",
       "    <tr>\n",
       "      <th>10</th>\n",
       "      <td>11</td>\n",
       "      <td>0.987510</td>\n",
       "      <td>0.963827</td>\n",
       "    </tr>\n",
       "    <tr>\n",
       "      <th>11</th>\n",
       "      <td>12</td>\n",
       "      <td>0.986583</td>\n",
       "      <td>0.964389</td>\n",
       "    </tr>\n",
       "    <tr>\n",
       "      <th>12</th>\n",
       "      <td>13</td>\n",
       "      <td>0.985779</td>\n",
       "      <td>0.963271</td>\n",
       "    </tr>\n",
       "    <tr>\n",
       "      <th>13</th>\n",
       "      <td>14</td>\n",
       "      <td>0.985037</td>\n",
       "      <td>0.963268</td>\n",
       "    </tr>\n",
       "    <tr>\n",
       "      <th>14</th>\n",
       "      <td>15</td>\n",
       "      <td>0.984418</td>\n",
       "      <td>0.962157</td>\n",
       "    </tr>\n",
       "    <tr>\n",
       "      <th>15</th>\n",
       "      <td>16</td>\n",
       "      <td>0.982996</td>\n",
       "      <td>0.962160</td>\n",
       "    </tr>\n",
       "    <tr>\n",
       "      <th>16</th>\n",
       "      <td>17</td>\n",
       "      <td>0.983058</td>\n",
       "      <td>0.961598</td>\n",
       "    </tr>\n",
       "    <tr>\n",
       "      <th>17</th>\n",
       "      <td>18</td>\n",
       "      <td>0.982193</td>\n",
       "      <td>0.962716</td>\n",
       "    </tr>\n",
       "    <tr>\n",
       "      <th>18</th>\n",
       "      <td>19</td>\n",
       "      <td>0.981760</td>\n",
       "      <td>0.962157</td>\n",
       "    </tr>\n",
       "  </tbody>\n",
       "</table>\n",
       "</div>"
      ],
      "text/plain": [
       "   param_n_neighbors  mean_train_score  mean_test_score\n",
       "0                  1          1.000000         0.974963\n",
       "1                  2          0.990973         0.974407\n",
       "2                  3          0.993322         0.976633\n",
       "3                  4          0.991776         0.972182\n",
       "4                  5          0.990540         0.971074\n",
       "5                  6          0.989427         0.968290\n",
       "6                  7          0.990107         0.967734\n",
       "7                  8          0.988685         0.964944\n",
       "8                  9          0.987881         0.964944\n",
       "9                 10          0.985841         0.962163\n",
       "10                11          0.987510         0.963827\n",
       "11                12          0.986583         0.964389\n",
       "12                13          0.985779         0.963271\n",
       "13                14          0.985037         0.963268\n",
       "14                15          0.984418         0.962157\n",
       "15                16          0.982996         0.962160\n",
       "16                17          0.983058         0.961598\n",
       "17                18          0.982193         0.962716\n",
       "18                19          0.981760         0.962157"
      ]
     },
     "execution_count": 23,
     "metadata": {},
     "output_type": "execute_result"
    }
   ],
   "source": [
    "grid_df=pd.DataFrame(grid_model.cv_results_, columns=colnames)\n",
    "grid_df"
   ]
  },
  {
   "cell_type": "code",
   "execution_count": 26,
   "id": "dde215b6-32ae-4f30-ab50-d44c0256c652",
   "metadata": {
    "collapsed": true,
    "jupyter": {
     "outputs_hidden": true
    },
    "tags": []
   },
   "outputs": [
    {
     "ename": "KeyError",
     "evalue": "\"None of ['param_n_neighbors'] are in the columns\"",
     "output_type": "error",
     "traceback": [
      "\u001b[1;31m---------------------------------------------------------------------------\u001b[0m",
      "\u001b[1;31mKeyError\u001b[0m                                  Traceback (most recent call last)",
      "\u001b[1;32m~\\AppData\\Local\\Temp\\ipykernel_5612\\1071957425.py\u001b[0m in \u001b[0;36m<module>\u001b[1;34m\u001b[0m\n\u001b[1;32m----> 1\u001b[1;33m \u001b[0mgrid_df\u001b[0m\u001b[1;33m.\u001b[0m\u001b[0mset_index\u001b[0m\u001b[1;33m(\u001b[0m\u001b[1;34m'param_n_neighbors'\u001b[0m\u001b[1;33m,\u001b[0m \u001b[0minplace\u001b[0m\u001b[1;33m=\u001b[0m\u001b[1;32mTrue\u001b[0m\u001b[1;33m)\u001b[0m\u001b[1;33m\u001b[0m\u001b[1;33m\u001b[0m\u001b[0m\n\u001b[0m",
      "\u001b[1;32m~\\anaconda3\\lib\\site-packages\\pandas\\util\\_decorators.py\u001b[0m in \u001b[0;36mwrapper\u001b[1;34m(*args, **kwargs)\u001b[0m\n\u001b[0;32m    309\u001b[0m                     \u001b[0mstacklevel\u001b[0m\u001b[1;33m=\u001b[0m\u001b[0mstacklevel\u001b[0m\u001b[1;33m,\u001b[0m\u001b[1;33m\u001b[0m\u001b[1;33m\u001b[0m\u001b[0m\n\u001b[0;32m    310\u001b[0m                 )\n\u001b[1;32m--> 311\u001b[1;33m             \u001b[1;32mreturn\u001b[0m \u001b[0mfunc\u001b[0m\u001b[1;33m(\u001b[0m\u001b[1;33m*\u001b[0m\u001b[0margs\u001b[0m\u001b[1;33m,\u001b[0m \u001b[1;33m**\u001b[0m\u001b[0mkwargs\u001b[0m\u001b[1;33m)\u001b[0m\u001b[1;33m\u001b[0m\u001b[1;33m\u001b[0m\u001b[0m\n\u001b[0m\u001b[0;32m    312\u001b[0m \u001b[1;33m\u001b[0m\u001b[0m\n\u001b[0;32m    313\u001b[0m         \u001b[1;32mreturn\u001b[0m \u001b[0mwrapper\u001b[0m\u001b[1;33m\u001b[0m\u001b[1;33m\u001b[0m\u001b[0m\n",
      "\u001b[1;32m~\\anaconda3\\lib\\site-packages\\pandas\\core\\frame.py\u001b[0m in \u001b[0;36mset_index\u001b[1;34m(self, keys, drop, append, inplace, verify_integrity)\u001b[0m\n\u001b[0;32m   5501\u001b[0m \u001b[1;33m\u001b[0m\u001b[0m\n\u001b[0;32m   5502\u001b[0m         \u001b[1;32mif\u001b[0m \u001b[0mmissing\u001b[0m\u001b[1;33m:\u001b[0m\u001b[1;33m\u001b[0m\u001b[1;33m\u001b[0m\u001b[0m\n\u001b[1;32m-> 5503\u001b[1;33m             \u001b[1;32mraise\u001b[0m \u001b[0mKeyError\u001b[0m\u001b[1;33m(\u001b[0m\u001b[1;34mf\"None of {missing} are in the columns\"\u001b[0m\u001b[1;33m)\u001b[0m\u001b[1;33m\u001b[0m\u001b[1;33m\u001b[0m\u001b[0m\n\u001b[0m\u001b[0;32m   5504\u001b[0m \u001b[1;33m\u001b[0m\u001b[0m\n\u001b[0;32m   5505\u001b[0m         \u001b[1;32mif\u001b[0m \u001b[0minplace\u001b[0m\u001b[1;33m:\u001b[0m\u001b[1;33m\u001b[0m\u001b[1;33m\u001b[0m\u001b[0m\n",
      "\u001b[1;31mKeyError\u001b[0m: \"None of ['param_n_neighbors'] are in the columns\""
     ]
    }
   ],
   "source": [
    "grid_df.set_index('param_n_neighbors', inplace=True)"
   ]
  },
  {
   "cell_type": "code",
   "execution_count": 27,
   "id": "f6f6e7ca-c154-4ed9-a580-8833147a8239",
   "metadata": {},
   "outputs": [
    {
     "data": {
      "text/html": [
       "<div>\n",
       "<style scoped>\n",
       "    .dataframe tbody tr th:only-of-type {\n",
       "        vertical-align: middle;\n",
       "    }\n",
       "\n",
       "    .dataframe tbody tr th {\n",
       "        vertical-align: top;\n",
       "    }\n",
       "\n",
       "    .dataframe thead th {\n",
       "        text-align: right;\n",
       "    }\n",
       "</style>\n",
       "<table border=\"1\" class=\"dataframe\">\n",
       "  <thead>\n",
       "    <tr style=\"text-align: right;\">\n",
       "      <th></th>\n",
       "      <th>mean_train_score</th>\n",
       "      <th>mean_test_score</th>\n",
       "    </tr>\n",
       "    <tr>\n",
       "      <th>param_n_neighbors</th>\n",
       "      <th></th>\n",
       "      <th></th>\n",
       "    </tr>\n",
       "  </thead>\n",
       "  <tbody>\n",
       "    <tr>\n",
       "      <th>3</th>\n",
       "      <td>0.993322</td>\n",
       "      <td>0.976633</td>\n",
       "    </tr>\n",
       "    <tr>\n",
       "      <th>1</th>\n",
       "      <td>1.000000</td>\n",
       "      <td>0.974963</td>\n",
       "    </tr>\n",
       "    <tr>\n",
       "      <th>2</th>\n",
       "      <td>0.990973</td>\n",
       "      <td>0.974407</td>\n",
       "    </tr>\n",
       "    <tr>\n",
       "      <th>4</th>\n",
       "      <td>0.991776</td>\n",
       "      <td>0.972182</td>\n",
       "    </tr>\n",
       "    <tr>\n",
       "      <th>5</th>\n",
       "      <td>0.990540</td>\n",
       "      <td>0.971074</td>\n",
       "    </tr>\n",
       "    <tr>\n",
       "      <th>6</th>\n",
       "      <td>0.989427</td>\n",
       "      <td>0.968290</td>\n",
       "    </tr>\n",
       "    <tr>\n",
       "      <th>7</th>\n",
       "      <td>0.990107</td>\n",
       "      <td>0.967734</td>\n",
       "    </tr>\n",
       "    <tr>\n",
       "      <th>8</th>\n",
       "      <td>0.988685</td>\n",
       "      <td>0.964944</td>\n",
       "    </tr>\n",
       "    <tr>\n",
       "      <th>9</th>\n",
       "      <td>0.987881</td>\n",
       "      <td>0.964944</td>\n",
       "    </tr>\n",
       "    <tr>\n",
       "      <th>12</th>\n",
       "      <td>0.986583</td>\n",
       "      <td>0.964389</td>\n",
       "    </tr>\n",
       "    <tr>\n",
       "      <th>11</th>\n",
       "      <td>0.987510</td>\n",
       "      <td>0.963827</td>\n",
       "    </tr>\n",
       "    <tr>\n",
       "      <th>13</th>\n",
       "      <td>0.985779</td>\n",
       "      <td>0.963271</td>\n",
       "    </tr>\n",
       "    <tr>\n",
       "      <th>14</th>\n",
       "      <td>0.985037</td>\n",
       "      <td>0.963268</td>\n",
       "    </tr>\n",
       "    <tr>\n",
       "      <th>18</th>\n",
       "      <td>0.982193</td>\n",
       "      <td>0.962716</td>\n",
       "    </tr>\n",
       "    <tr>\n",
       "      <th>10</th>\n",
       "      <td>0.985841</td>\n",
       "      <td>0.962163</td>\n",
       "    </tr>\n",
       "    <tr>\n",
       "      <th>16</th>\n",
       "      <td>0.982996</td>\n",
       "      <td>0.962160</td>\n",
       "    </tr>\n",
       "    <tr>\n",
       "      <th>15</th>\n",
       "      <td>0.984418</td>\n",
       "      <td>0.962157</td>\n",
       "    </tr>\n",
       "    <tr>\n",
       "      <th>19</th>\n",
       "      <td>0.981760</td>\n",
       "      <td>0.962157</td>\n",
       "    </tr>\n",
       "    <tr>\n",
       "      <th>17</th>\n",
       "      <td>0.983058</td>\n",
       "      <td>0.961598</td>\n",
       "    </tr>\n",
       "  </tbody>\n",
       "</table>\n",
       "</div>"
      ],
      "text/plain": [
       "                   mean_train_score  mean_test_score\n",
       "param_n_neighbors                                   \n",
       "3                          0.993322         0.976633\n",
       "1                          1.000000         0.974963\n",
       "2                          0.990973         0.974407\n",
       "4                          0.991776         0.972182\n",
       "5                          0.990540         0.971074\n",
       "6                          0.989427         0.968290\n",
       "7                          0.990107         0.967734\n",
       "8                          0.988685         0.964944\n",
       "9                          0.987881         0.964944\n",
       "12                         0.986583         0.964389\n",
       "11                         0.987510         0.963827\n",
       "13                         0.985779         0.963271\n",
       "14                         0.985037         0.963268\n",
       "18                         0.982193         0.962716\n",
       "10                         0.985841         0.962163\n",
       "16                         0.982996         0.962160\n",
       "15                         0.984418         0.962157\n",
       "19                         0.981760         0.962157\n",
       "17                         0.983058         0.961598"
      ]
     },
     "execution_count": 27,
     "metadata": {},
     "output_type": "execute_result"
    }
   ],
   "source": [
    "grid_df.sort_values(['mean_test_score','mean_train_score'], ascending=False)"
   ]
  },
  {
   "cell_type": "code",
   "execution_count": null,
   "id": "8e2f036a-5fbf-42bf-8680-bc0ace5095cb",
   "metadata": {},
   "outputs": [],
   "source": [
    "grid_model"
   ]
  },
  {
   "cell_type": "code",
   "execution_count": 29,
   "id": "b6895761-1cf7-47b4-acff-b6af2cd74619",
   "metadata": {},
   "outputs": [
    {
     "data": {
      "text/plain": [
       "[<matplotlib.axis.XTick at 0x17e13fc4a60>,\n",
       " <matplotlib.axis.XTick at 0x17e13fc4a30>,\n",
       " <matplotlib.axis.XTick at 0x17e13dfbaf0>,\n",
       " <matplotlib.axis.XTick at 0x17e13e05a60>,\n",
       " <matplotlib.axis.XTick at 0x17e13e0d1f0>,\n",
       " <matplotlib.axis.XTick at 0x17e13e0d940>,\n",
       " <matplotlib.axis.XTick at 0x17e13e150d0>,\n",
       " <matplotlib.axis.XTick at 0x17e13e15820>,\n",
       " <matplotlib.axis.XTick at 0x17e13e15f70>,\n",
       " <matplotlib.axis.XTick at 0x17e13fc4160>,\n",
       " <matplotlib.axis.XTick at 0x17e13e0d580>,\n",
       " <matplotlib.axis.XTick at 0x17e13e19040>,\n",
       " <matplotlib.axis.XTick at 0x17e13e19760>,\n",
       " <matplotlib.axis.XTick at 0x17e13e21040>,\n",
       " <matplotlib.axis.XTick at 0x17e13e21640>,\n",
       " <matplotlib.axis.XTick at 0x17e13e21d90>,\n",
       " <matplotlib.axis.XTick at 0x17e13e218b0>,\n",
       " <matplotlib.axis.XTick at 0x17e13e194c0>,\n",
       " <matplotlib.axis.XTick at 0x17e13e151c0>]"
      ]
     },
     "execution_count": 29,
     "metadata": {},
     "output_type": "execute_result"
    },
    {
     "data": {
      "image/png": "[encoded data removed]",
      "text/plain": [
       "<Figure size 640x480 with 1 Axes>"
      ]
     },
     "metadata": {},
     "output_type": "display_data"
    }
   ],
   "source": [
    "ax=grid_df.plot.line(marker='o')\n",
    "ax.set_xticks(grid_df.index)"
   ]
  },
  {
   "cell_type": "code",
   "execution_count": 30,
   "id": "5ec0dc03-1398-476c-a89b-122f91adf0c3",
   "metadata": {},
   "outputs": [
    {
     "data": {
      "text/plain": [
       "KNeighborsClassifier(n_neighbors=3)"
      ]
     },
     "execution_count": 30,
     "metadata": {},
     "output_type": "execute_result"
    }
   ],
   "source": [
    "grid_model.best_estimator_"
   ]
  },
  {
   "cell_type": "code",
   "execution_count": 31,
   "id": "ff0e42ed-4b78-4f66-849f-bb3577b18fa9",
   "metadata": {},
   "outputs": [
    {
     "data": {
      "text/plain": [
       "{'n_neighbors': 3}"
      ]
     },
     "execution_count": 31,
     "metadata": {},
     "output_type": "execute_result"
    }
   ],
   "source": [
    "grid_model.best_params_"
   ]
  },
  {
   "cell_type": "code",
   "execution_count": 32,
   "id": "15e4bcae-a46c-4236-a631-36216e38f6e1",
   "metadata": {},
   "outputs": [
    {
     "data": {
      "text/plain": [
       "0.9766325263811299"
      ]
     },
     "execution_count": 32,
     "metadata": {},
     "output_type": "execute_result"
    }
   ],
   "source": [
    "grid_model.best_score_"
   ]
  },
  {
   "cell_type": "code",
   "execution_count": 33,
   "id": "ab8f262e-c972-4e19-a8e1-63a8d4c48427",
   "metadata": {},
   "outputs": [],
   "source": [
    "ss=ShuffleSplit(test_size=0.25, n_splits=20)"
   ]
  },
  {
   "cell_type": "code",
   "execution_count": 35,
   "id": "2c5d36e7-9a39-45ca-8a34-58f11f520255",
   "metadata": {},
   "outputs": [],
   "source": [
    "grid_model_ss=GridSearchCV(knn,return_train_score=True, cv=ss, param_grid=param_grid, verbose=2)"
   ]
  },
  {
   "cell_type": "code",
   "execution_count": 36,
   "id": "d28621e5-f6c8-48d2-bd7c-27a0ea1a1910",
   "metadata": {},
   "outputs": [
    {
     "data": {
      "text/plain": [
       "GridSearchCV(cv=ShuffleSplit(n_splits=20, random_state=None, test_size=0.25, train_size=None),\n",
       "             estimator=KNeighborsClassifier(),\n",
       "             param_grid={'n_neighbors': range(1, 20)}, return_train_score=True,\n",
       "             verbose=2)"
      ]
     },
     "execution_count": 36,
     "metadata": {},
     "output_type": "execute_result"
    }
   ],
   "source": [
    "grid_model_ss"
   ]
  },
  {
   "cell_type": "code",
   "execution_count": 37,
   "id": "5021365c-c4ae-4207-91ac-95af25a17f0f",
   "metadata": {
    "collapsed": true,
    "jupyter": {
     "outputs_hidden": true
    },
    "tags": []
   },
   "outputs": [
    {
     "name": "stdout",
     "output_type": "stream",
     "text": [
      "Fitting 20 folds for each of 19 candidates, totalling 380 fits\n",
      "[CV] END ......................................n_neighbors=1; total time=   0.0s\n",
      "[CV] END ......................................n_neighbors=1; total time=   0.0s\n",
      "[CV] END ......................................n_neighbors=1; total time=   0.0s\n",
      "[CV] END ......................................n_neighbors=1; total time=   0.0s\n",
      "[CV] END ......................................n_neighbors=1; total time=   0.0s\n",
      "[CV] END ......................................n_neighbors=1; total time=   0.0s\n",
      "[CV] END ......................................n_neighbors=1; total time=   0.0s\n",
      "[CV] END ......................................n_neighbors=1; total time=   0.0s\n",
      "[CV] END ......................................n_neighbors=1; total time=   0.0s\n",
      "[CV] END ......................................n_neighbors=1; total time=   0.0s\n",
      "[CV] END ......................................n_neighbors=1; total time=   0.0s\n",
      "[CV] END ......................................n_neighbors=1; total time=   0.0s\n",
      "[CV] END ......................................n_neighbors=1; total time=   0.0s\n",
      "[CV] END ......................................n_neighbors=1; total time=   0.0s\n",
      "[CV] END ......................................n_neighbors=1; total time=   0.0s\n",
      "[CV] END ......................................n_neighbors=1; total time=   0.0s\n",
      "[CV] END ......................................n_neighbors=1; total time=   0.0s\n",
      "[CV] END ......................................n_neighbors=1; total time=   0.0s\n",
      "[CV] END ......................................n_neighbors=1; total time=   0.0s\n",
      "[CV] END ......................................n_neighbors=1; total time=   0.0s\n",
      "[CV] END ......................................n_neighbors=2; total time=   0.0s\n",
      "[CV] END ......................................n_neighbors=2; total time=   0.0s\n",
      "[CV] END ......................................n_neighbors=2; total time=   0.0s\n",
      "[CV] END ......................................n_neighbors=2; total time=   0.0s\n",
      "[CV] END ......................................n_neighbors=2; total time=   0.0s\n",
      "[CV] END ......................................n_neighbors=2; total time=   0.0s\n",
      "[CV] END ......................................n_neighbors=2; total time=   0.0s\n",
      "[CV] END ......................................n_neighbors=2; total time=   0.0s\n",
      "[CV] END ......................................n_neighbors=2; total time=   0.0s\n",
      "[CV] END ......................................n_neighbors=2; total time=   0.0s\n",
      "[CV] END ......................................n_neighbors=2; total time=   0.0s\n",
      "[CV] END ......................................n_neighbors=2; total time=   0.0s\n",
      "[CV] END ......................................n_neighbors=2; total time=   0.0s\n",
      "[CV] END ......................................n_neighbors=2; total time=   0.0s\n",
      "[CV] END ......................................n_neighbors=2; total time=   0.0s\n",
      "[CV] END ......................................n_neighbors=2; total time=   0.0s\n",
      "[CV] END ......................................n_neighbors=2; total time=   0.0s\n",
      "[CV] END ......................................n_neighbors=2; total time=   0.0s\n",
      "[CV] END ......................................n_neighbors=2; total time=   0.0s\n",
      "[CV] END ......................................n_neighbors=2; total time=   0.0s\n",
      "[CV] END ......................................n_neighbors=3; total time=   0.0s\n",
      "[CV] END ......................................n_neighbors=3; total time=   0.0s\n",
      "[CV] END ......................................n_neighbors=3; total time=   0.0s\n",
      "[CV] END ......................................n_neighbors=3; total time=   0.0s\n",
      "[CV] END ......................................n_neighbors=3; total time=   0.0s\n",
      "[CV] END ......................................n_neighbors=3; total time=   0.0s\n",
      "[CV] END ......................................n_neighbors=3; total time=   0.0s\n",
      "[CV] END ......................................n_neighbors=3; total time=   0.0s\n",
      "[CV] END ......................................n_neighbors=3; total time=   0.0s\n",
      "[CV] END ......................................n_neighbors=3; total time=   0.0s\n",
      "[CV] END ......................................n_neighbors=3; total time=   0.0s\n",
      "[CV] END ......................................n_neighbors=3; total time=   0.0s\n",
      "[CV] END ......................................n_neighbors=3; total time=   0.0s\n",
      "[CV] END ......................................n_neighbors=3; total time=   0.0s\n",
      "[CV] END ......................................n_neighbors=3; total time=   0.0s\n",
      "[CV] END ......................................n_neighbors=3; total time=   0.0s\n",
      "[CV] END ......................................n_neighbors=3; total time=   0.0s\n",
      "[CV] END ......................................n_neighbors=3; total time=   0.0s\n",
      "[CV] END ......................................n_neighbors=3; total time=   0.0s\n",
      "[CV] END ......................................n_neighbors=3; total time=   0.0s\n",
      "[CV] END ......................................n_neighbors=4; total time=   0.0s\n",
      "[CV] END ......................................n_neighbors=4; total time=   0.0s\n",
      "[CV] END ......................................n_neighbors=4; total time=   0.0s\n",
      "[CV] END ......................................n_neighbors=4; total time=   0.0s\n",
      "[CV] END ......................................n_neighbors=4; total time=   0.0s\n",
      "[CV] END ......................................n_neighbors=4; total time=   0.0s\n",
      "[CV] END ......................................n_neighbors=4; total time=   0.0s\n",
      "[CV] END ......................................n_neighbors=4; total time=   0.0s\n",
      "[CV] END ......................................n_neighbors=4; total time=   0.0s\n",
      "[CV] END ......................................n_neighbors=4; total time=   0.0s\n",
      "[CV] END ......................................n_neighbors=4; total time=   0.0s\n",
      "[CV] END ......................................n_neighbors=4; total time=   0.0s\n",
      "[CV] END ......................................n_neighbors=4; total time=   0.0s\n",
      "[CV] END ......................................n_neighbors=4; total time=   0.0s\n",
      "[CV] END ......................................n_neighbors=4; total time=   0.0s\n",
      "[CV] END ......................................n_neighbors=4; total time=   0.0s\n",
      "[CV] END ......................................n_neighbors=4; total time=   0.0s\n",
      "[CV] END ......................................n_neighbors=4; total time=   0.0s\n",
      "[CV] END ......................................n_neighbors=4; total time=   0.0s\n",
      "[CV] END ......................................n_neighbors=4; total time=   0.0s\n",
      "[CV] END ......................................n_neighbors=5; total time=   0.0s\n",
      "[CV] END ......................................n_neighbors=5; total time=   0.0s\n",
      "[CV] END ......................................n_neighbors=5; total time=   0.0s\n",
      "[CV] END ......................................n_neighbors=5; total time=   0.0s\n",
      "[CV] END ......................................n_neighbors=5; total time=   0.0s\n",
      "[CV] END ......................................n_neighbors=5; total time=   0.0s\n",
      "[CV] END ......................................n_neighbors=5; total time=   0.0s\n",
      "[CV] END ......................................n_neighbors=5; total time=   0.0s\n",
      "[CV] END ......................................n_neighbors=5; total time=   0.0s\n",
      "[CV] END ......................................n_neighbors=5; total time=   0.0s\n",
      "[CV] END ......................................n_neighbors=5; total time=   0.0s\n",
      "[CV] END ......................................n_neighbors=5; total time=   0.0s\n",
      "[CV] END ......................................n_neighbors=5; total time=   0.0s\n",
      "[CV] END ......................................n_neighbors=5; total time=   0.0s\n",
      "[CV] END ......................................n_neighbors=5; total time=   0.0s\n",
      "[CV] END ......................................n_neighbors=5; total time=   0.0s\n",
      "[CV] END ......................................n_neighbors=5; total time=   0.0s\n",
      "[CV] END ......................................n_neighbors=5; total time=   0.0s\n",
      "[CV] END ......................................n_neighbors=5; total time=   0.0s\n",
      "[CV] END ......................................n_neighbors=5; total time=   0.0s\n",
      "[CV] END ......................................n_neighbors=6; total time=   0.0s\n",
      "[CV] END ......................................n_neighbors=6; total time=   0.0s\n",
      "[CV] END ......................................n_neighbors=6; total time=   0.0s\n",
      "[CV] END ......................................n_neighbors=6; total time=   0.0s\n",
      "[CV] END ......................................n_neighbors=6; total time=   0.0s\n",
      "[CV] END ......................................n_neighbors=6; total time=   0.0s\n",
      "[CV] END ......................................n_neighbors=6; total time=   0.0s\n",
      "[CV] END ......................................n_neighbors=6; total time=   0.0s\n",
      "[CV] END ......................................n_neighbors=6; total time=   0.0s\n",
      "[CV] END ......................................n_neighbors=6; total time=   0.0s\n",
      "[CV] END ......................................n_neighbors=6; total time=   0.0s\n",
      "[CV] END ......................................n_neighbors=6; total time=   0.0s\n",
      "[CV] END ......................................n_neighbors=6; total time=   0.0s\n",
      "[CV] END ......................................n_neighbors=6; total time=   0.0s\n",
      "[CV] END ......................................n_neighbors=6; total time=   0.0s\n",
      "[CV] END ......................................n_neighbors=6; total time=   0.0s\n",
      "[CV] END ......................................n_neighbors=6; total time=   0.0s\n",
      "[CV] END ......................................n_neighbors=6; total time=   0.0s\n",
      "[CV] END ......................................n_neighbors=6; total time=   0.0s\n",
      "[CV] END ......................................n_neighbors=6; total time=   0.0s\n",
      "[CV] END ......................................n_neighbors=7; total time=   0.0s\n",
      "[CV] END ......................................n_neighbors=7; total time=   0.0s\n",
      "[CV] END ......................................n_neighbors=7; total time=   0.0s\n",
      "[CV] END ......................................n_neighbors=7; total time=   0.0s\n",
      "[CV] END ......................................n_neighbors=7; total time=   0.0s\n",
      "[CV] END ......................................n_neighbors=7; total time=   0.0s\n",
      "[CV] END ......................................n_neighbors=7; total time=   0.0s\n",
      "[CV] END ......................................n_neighbors=7; total time=   0.0s\n",
      "[CV] END ......................................n_neighbors=7; total time=   0.0s\n",
      "[CV] END ......................................n_neighbors=7; total time=   0.0s\n",
      "[CV] END ......................................n_neighbors=7; total time=   0.0s\n",
      "[CV] END ......................................n_neighbors=7; total time=   0.0s\n",
      "[CV] END ......................................n_neighbors=7; total time=   0.0s\n",
      "[CV] END ......................................n_neighbors=7; total time=   0.0s\n",
      "[CV] END ......................................n_neighbors=7; total time=   0.0s\n",
      "[CV] END ......................................n_neighbors=7; total time=   0.0s\n",
      "[CV] END ......................................n_neighbors=7; total time=   0.0s\n",
      "[CV] END ......................................n_neighbors=7; total time=   0.0s\n",
      "[CV] END ......................................n_neighbors=7; total time=   0.0s\n",
      "[CV] END ......................................n_neighbors=7; total time=   0.0s\n",
      "[CV] END ......................................n_neighbors=8; total time=   0.0s\n",
      "[CV] END ......................................n_neighbors=8; total time=   0.0s\n",
      "[CV] END ......................................n_neighbors=8; total time=   0.0s\n",
      "[CV] END ......................................n_neighbors=8; total time=   0.0s\n",
      "[CV] END ......................................n_neighbors=8; total time=   0.0s\n",
      "[CV] END ......................................n_neighbors=8; total time=   0.0s\n",
      "[CV] END ......................................n_neighbors=8; total time=   0.0s\n",
      "[CV] END ......................................n_neighbors=8; total time=   0.0s\n",
      "[CV] END ......................................n_neighbors=8; total time=   0.0s\n",
      "[CV] END ......................................n_neighbors=8; total time=   0.0s\n",
      "[CV] END ......................................n_neighbors=8; total time=   0.0s\n",
      "[CV] END ......................................n_neighbors=8; total time=   0.0s\n",
      "[CV] END ......................................n_neighbors=8; total time=   0.0s\n",
      "[CV] END ......................................n_neighbors=8; total time=   0.0s\n",
      "[CV] END ......................................n_neighbors=8; total time=   0.0s\n",
      "[CV] END ......................................n_neighbors=8; total time=   0.0s\n",
      "[CV] END ......................................n_neighbors=8; total time=   0.0s\n",
      "[CV] END ......................................n_neighbors=8; total time=   0.0s\n",
      "[CV] END ......................................n_neighbors=8; total time=   0.0s\n",
      "[CV] END ......................................n_neighbors=8; total time=   0.0s\n",
      "[CV] END ......................................n_neighbors=9; total time=   0.0s\n",
      "[CV] END ......................................n_neighbors=9; total time=   0.0s\n",
      "[CV] END ......................................n_neighbors=9; total time=   0.0s\n",
      "[CV] END ......................................n_neighbors=9; total time=   0.0s\n",
      "[CV] END ......................................n_neighbors=9; total time=   0.0s\n",
      "[CV] END ......................................n_neighbors=9; total time=   0.0s\n",
      "[CV] END ......................................n_neighbors=9; total time=   0.0s\n",
      "[CV] END ......................................n_neighbors=9; total time=   0.0s\n",
      "[CV] END ......................................n_neighbors=9; total time=   0.0s\n",
      "[CV] END ......................................n_neighbors=9; total time=   0.0s\n",
      "[CV] END ......................................n_neighbors=9; total time=   0.0s\n",
      "[CV] END ......................................n_neighbors=9; total time=   0.0s\n",
      "[CV] END ......................................n_neighbors=9; total time=   0.0s\n",
      "[CV] END ......................................n_neighbors=9; total time=   0.0s\n",
      "[CV] END ......................................n_neighbors=9; total time=   0.0s\n",
      "[CV] END ......................................n_neighbors=9; total time=   0.0s\n",
      "[CV] END ......................................n_neighbors=9; total time=   0.0s\n",
      "[CV] END ......................................n_neighbors=9; total time=   0.0s\n",
      "[CV] END ......................................n_neighbors=9; total time=   0.0s\n",
      "[CV] END ......................................n_neighbors=9; total time=   0.0s\n",
      "[CV] END .....................................n_neighbors=10; total time=   0.0s\n",
      "[CV] END .....................................n_neighbors=10; total time=   0.0s\n",
      "[CV] END .....................................n_neighbors=10; total time=   0.0s\n",
      "[CV] END .....................................n_neighbors=10; total time=   0.0s\n",
      "[CV] END .....................................n_neighbors=10; total time=   0.0s\n",
      "[CV] END .....................................n_neighbors=10; total time=   0.0s\n",
      "[CV] END .....................................n_neighbors=10; total time=   0.0s\n",
      "[CV] END .....................................n_neighbors=10; total time=   0.0s\n",
      "[CV] END .....................................n_neighbors=10; total time=   0.0s\n",
      "[CV] END .....................................n_neighbors=10; total time=   0.0s\n",
      "[CV] END .....................................n_neighbors=10; total time=   0.0s\n",
      "[CV] END .....................................n_neighbors=10; total time=   0.0s\n",
      "[CV] END .....................................n_neighbors=10; total time=   0.0s\n",
      "[CV] END .....................................n_neighbors=10; total time=   0.0s\n",
      "[CV] END .....................................n_neighbors=10; total time=   0.0s\n",
      "[CV] END .....................................n_neighbors=10; total time=   0.0s\n",
      "[CV] END .....................................n_neighbors=10; total time=   0.0s\n",
      "[CV] END .....................................n_neighbors=10; total time=   0.0s\n",
      "[CV] END .....................................n_neighbors=10; total time=   0.0s\n",
      "[CV] END .....................................n_neighbors=10; total time=   0.0s\n",
      "[CV] END .....................................n_neighbors=11; total time=   0.0s\n",
      "[CV] END .....................................n_neighbors=11; total time=   0.0s\n",
      "[CV] END .....................................n_neighbors=11; total time=   0.0s\n",
      "[CV] END .....................................n_neighbors=11; total time=   0.0s\n",
      "[CV] END .....................................n_neighbors=11; total time=   0.0s\n",
      "[CV] END .....................................n_neighbors=11; total time=   0.0s\n",
      "[CV] END .....................................n_neighbors=11; total time=   0.0s\n",
      "[CV] END .....................................n_neighbors=11; total time=   0.0s\n",
      "[CV] END .....................................n_neighbors=11; total time=   0.0s\n",
      "[CV] END .....................................n_neighbors=11; total time=   0.0s\n",
      "[CV] END .....................................n_neighbors=11; total time=   0.0s\n",
      "[CV] END .....................................n_neighbors=11; total time=   0.0s\n",
      "[CV] END .....................................n_neighbors=11; total time=   0.0s\n",
      "[CV] END .....................................n_neighbors=11; total time=   0.0s\n",
      "[CV] END .....................................n_neighbors=11; total time=   0.0s\n",
      "[CV] END .....................................n_neighbors=11; total time=   0.0s\n",
      "[CV] END .....................................n_neighbors=11; total time=   0.0s\n",
      "[CV] END .....................................n_neighbors=11; total time=   0.0s\n",
      "[CV] END .....................................n_neighbors=11; total time=   0.0s\n",
      "[CV] END .....................................n_neighbors=11; total time=   0.0s\n",
      "[CV] END .....................................n_neighbors=12; total time=   0.0s\n",
      "[CV] END .....................................n_neighbors=12; total time=   0.0s\n",
      "[CV] END .....................................n_neighbors=12; total time=   0.0s\n",
      "[CV] END .....................................n_neighbors=12; total time=   0.0s\n",
      "[CV] END .....................................n_neighbors=12; total time=   0.0s\n",
      "[CV] END .....................................n_neighbors=12; total time=   0.0s\n",
      "[CV] END .....................................n_neighbors=12; total time=   0.0s\n",
      "[CV] END .....................................n_neighbors=12; total time=   0.0s\n",
      "[CV] END .....................................n_neighbors=12; total time=   0.0s\n",
      "[CV] END .....................................n_neighbors=12; total time=   0.0s\n",
      "[CV] END .....................................n_neighbors=12; total time=   0.0s\n",
      "[CV] END .....................................n_neighbors=12; total time=   0.0s\n",
      "[CV] END .....................................n_neighbors=12; total time=   0.0s\n",
      "[CV] END .....................................n_neighbors=12; total time=   0.0s\n",
      "[CV] END .....................................n_neighbors=12; total time=   0.0s\n",
      "[CV] END .....................................n_neighbors=12; total time=   0.0s\n",
      "[CV] END .....................................n_neighbors=12; total time=   0.0s\n",
      "[CV] END .....................................n_neighbors=12; total time=   0.0s\n",
      "[CV] END .....................................n_neighbors=12; total time=   0.0s\n",
      "[CV] END .....................................n_neighbors=12; total time=   0.0s\n",
      "[CV] END .....................................n_neighbors=13; total time=   0.0s\n",
      "[CV] END .....................................n_neighbors=13; total time=   0.0s\n",
      "[CV] END .....................................n_neighbors=13; total time=   0.0s\n",
      "[CV] END .....................................n_neighbors=13; total time=   0.0s\n",
      "[CV] END .....................................n_neighbors=13; total time=   0.0s\n",
      "[CV] END .....................................n_neighbors=13; total time=   0.0s\n",
      "[CV] END .....................................n_neighbors=13; total time=   0.0s\n",
      "[CV] END .....................................n_neighbors=13; total time=   0.0s\n",
      "[CV] END .....................................n_neighbors=13; total time=   0.0s\n",
      "[CV] END .....................................n_neighbors=13; total time=   0.0s\n",
      "[CV] END .....................................n_neighbors=13; total time=   0.0s\n",
      "[CV] END .....................................n_neighbors=13; total time=   0.0s\n",
      "[CV] END .....................................n_neighbors=13; total time=   0.0s\n",
      "[CV] END .....................................n_neighbors=13; total time=   0.0s\n",
      "[CV] END .....................................n_neighbors=13; total time=   0.0s\n",
      "[CV] END .....................................n_neighbors=13; total time=   0.0s\n",
      "[CV] END .....................................n_neighbors=13; total time=   0.0s\n",
      "[CV] END .....................................n_neighbors=13; total time=   0.0s\n",
      "[CV] END .....................................n_neighbors=13; total time=   0.0s\n",
      "[CV] END .....................................n_neighbors=13; total time=   0.0s\n",
      "[CV] END .....................................n_neighbors=14; total time=   0.0s\n",
      "[CV] END .....................................n_neighbors=14; total time=   0.0s\n",
      "[CV] END .....................................n_neighbors=14; total time=   0.0s\n",
      "[CV] END .....................................n_neighbors=14; total time=   0.0s\n",
      "[CV] END .....................................n_neighbors=14; total time=   0.0s\n",
      "[CV] END .....................................n_neighbors=14; total time=   0.0s\n",
      "[CV] END .....................................n_neighbors=14; total time=   0.0s\n",
      "[CV] END .....................................n_neighbors=14; total time=   0.0s\n",
      "[CV] END .....................................n_neighbors=14; total time=   0.0s\n",
      "[CV] END .....................................n_neighbors=14; total time=   0.0s\n",
      "[CV] END .....................................n_neighbors=14; total time=   0.0s\n",
      "[CV] END .....................................n_neighbors=14; total time=   0.0s\n",
      "[CV] END .....................................n_neighbors=14; total time=   0.0s\n",
      "[CV] END .....................................n_neighbors=14; total time=   0.0s\n",
      "[CV] END .....................................n_neighbors=14; total time=   0.0s\n",
      "[CV] END .....................................n_neighbors=14; total time=   0.0s\n",
      "[CV] END .....................................n_neighbors=14; total time=   0.0s\n",
      "[CV] END .....................................n_neighbors=14; total time=   0.0s\n",
      "[CV] END .....................................n_neighbors=14; total time=   0.0s\n",
      "[CV] END .....................................n_neighbors=14; total time=   0.0s\n",
      "[CV] END .....................................n_neighbors=15; total time=   0.0s\n",
      "[CV] END .....................................n_neighbors=15; total time=   0.0s\n",
      "[CV] END .....................................n_neighbors=15; total time=   0.0s\n",
      "[CV] END .....................................n_neighbors=15; total time=   0.0s\n",
      "[CV] END .....................................n_neighbors=15; total time=   0.0s\n",
      "[CV] END .....................................n_neighbors=15; total time=   0.0s\n",
      "[CV] END .....................................n_neighbors=15; total time=   0.0s\n",
      "[CV] END .....................................n_neighbors=15; total time=   0.0s\n",
      "[CV] END .....................................n_neighbors=15; total time=   0.0s\n",
      "[CV] END .....................................n_neighbors=15; total time=   0.0s\n",
      "[CV] END .....................................n_neighbors=15; total time=   0.0s\n",
      "[CV] END .....................................n_neighbors=15; total time=   0.0s\n",
      "[CV] END .....................................n_neighbors=15; total time=   0.0s\n",
      "[CV] END .....................................n_neighbors=15; total time=   0.0s\n",
      "[CV] END .....................................n_neighbors=15; total time=   0.0s\n",
      "[CV] END .....................................n_neighbors=15; total time=   0.0s\n",
      "[CV] END .....................................n_neighbors=15; total time=   0.0s\n",
      "[CV] END .....................................n_neighbors=15; total time=   0.0s\n",
      "[CV] END .....................................n_neighbors=15; total time=   0.0s\n",
      "[CV] END .....................................n_neighbors=15; total time=   0.0s\n",
      "[CV] END .....................................n_neighbors=16; total time=   0.0s\n",
      "[CV] END .....................................n_neighbors=16; total time=   0.0s\n",
      "[CV] END .....................................n_neighbors=16; total time=   0.0s\n",
      "[CV] END .....................................n_neighbors=16; total time=   0.0s\n",
      "[CV] END .....................................n_neighbors=16; total time=   0.0s\n",
      "[CV] END .....................................n_neighbors=16; total time=   0.0s\n",
      "[CV] END .....................................n_neighbors=16; total time=   0.0s\n",
      "[CV] END .....................................n_neighbors=16; total time=   0.0s\n",
      "[CV] END .....................................n_neighbors=16; total time=   0.0s\n",
      "[CV] END .....................................n_neighbors=16; total time=   0.0s\n",
      "[CV] END .....................................n_neighbors=16; total time=   0.0s\n",
      "[CV] END .....................................n_neighbors=16; total time=   0.0s\n",
      "[CV] END .....................................n_neighbors=16; total time=   0.0s\n",
      "[CV] END .....................................n_neighbors=16; total time=   0.0s\n",
      "[CV] END .....................................n_neighbors=16; total time=   0.0s\n",
      "[CV] END .....................................n_neighbors=16; total time=   0.0s\n",
      "[CV] END .....................................n_neighbors=16; total time=   0.0s\n",
      "[CV] END .....................................n_neighbors=16; total time=   0.0s\n",
      "[CV] END .....................................n_neighbors=16; total time=   0.0s\n",
      "[CV] END .....................................n_neighbors=16; total time=   0.0s\n",
      "[CV] END .....................................n_neighbors=17; total time=   0.0s\n",
      "[CV] END .....................................n_neighbors=17; total time=   0.0s\n",
      "[CV] END .....................................n_neighbors=17; total time=   0.0s\n",
      "[CV] END .....................................n_neighbors=17; total time=   0.0s\n",
      "[CV] END .....................................n_neighbors=17; total time=   0.0s\n",
      "[CV] END .....................................n_neighbors=17; total time=   0.0s\n",
      "[CV] END .....................................n_neighbors=17; total time=   0.0s\n",
      "[CV] END .....................................n_neighbors=17; total time=   0.0s\n",
      "[CV] END .....................................n_neighbors=17; total time=   0.0s\n",
      "[CV] END .....................................n_neighbors=17; total time=   0.0s\n",
      "[CV] END .....................................n_neighbors=17; total time=   0.0s\n",
      "[CV] END .....................................n_neighbors=17; total time=   0.0s\n",
      "[CV] END .....................................n_neighbors=17; total time=   0.0s\n",
      "[CV] END .....................................n_neighbors=17; total time=   0.0s\n",
      "[CV] END .....................................n_neighbors=17; total time=   0.0s\n",
      "[CV] END .....................................n_neighbors=17; total time=   0.0s\n",
      "[CV] END .....................................n_neighbors=17; total time=   0.0s\n",
      "[CV] END .....................................n_neighbors=17; total time=   0.0s\n",
      "[CV] END .....................................n_neighbors=17; total time=   0.0s\n",
      "[CV] END .....................................n_neighbors=17; total time=   0.0s\n",
      "[CV] END .....................................n_neighbors=18; total time=   0.0s\n",
      "[CV] END .....................................n_neighbors=18; total time=   0.0s\n",
      "[CV] END .....................................n_neighbors=18; total time=   0.0s\n",
      "[CV] END .....................................n_neighbors=18; total time=   0.0s\n",
      "[CV] END .....................................n_neighbors=18; total time=   0.0s\n",
      "[CV] END .....................................n_neighbors=18; total time=   0.0s\n",
      "[CV] END .....................................n_neighbors=18; total time=   0.0s\n",
      "[CV] END .....................................n_neighbors=18; total time=   0.0s\n",
      "[CV] END .....................................n_neighbors=18; total time=   0.0s\n",
      "[CV] END .....................................n_neighbors=18; total time=   0.0s\n",
      "[CV] END .....................................n_neighbors=18; total time=   0.0s\n",
      "[CV] END .....................................n_neighbors=18; total time=   0.0s\n",
      "[CV] END .....................................n_neighbors=18; total time=   0.0s\n",
      "[CV] END .....................................n_neighbors=18; total time=   0.0s\n",
      "[CV] END .....................................n_neighbors=18; total time=   0.0s\n",
      "[CV] END .....................................n_neighbors=18; total time=   0.0s\n",
      "[CV] END .....................................n_neighbors=18; total time=   0.0s\n",
      "[CV] END .....................................n_neighbors=18; total time=   0.0s\n",
      "[CV] END .....................................n_neighbors=18; total time=   0.0s\n",
      "[CV] END .....................................n_neighbors=18; total time=   0.0s\n",
      "[CV] END .....................................n_neighbors=19; total time=   0.0s\n",
      "[CV] END .....................................n_neighbors=19; total time=   0.0s\n",
      "[CV] END .....................................n_neighbors=19; total time=   0.0s\n",
      "[CV] END .....................................n_neighbors=19; total time=   0.0s\n",
      "[CV] END .....................................n_neighbors=19; total time=   0.0s\n",
      "[CV] END .....................................n_neighbors=19; total time=   0.0s\n",
      "[CV] END .....................................n_neighbors=19; total time=   0.0s\n",
      "[CV] END .....................................n_neighbors=19; total time=   0.0s\n",
      "[CV] END .....................................n_neighbors=19; total time=   0.0s\n",
      "[CV] END .....................................n_neighbors=19; total time=   0.0s\n",
      "[CV] END .....................................n_neighbors=19; total time=   0.0s\n",
      "[CV] END .....................................n_neighbors=19; total time=   0.0s\n",
      "[CV] END .....................................n_neighbors=19; total time=   0.0s\n",
      "[CV] END .....................................n_neighbors=19; total time=   0.0s\n",
      "[CV] END .....................................n_neighbors=19; total time=   0.0s\n",
      "[CV] END .....................................n_neighbors=19; total time=   0.0s\n",
      "[CV] END .....................................n_neighbors=19; total time=   0.0s\n",
      "[CV] END .....................................n_neighbors=19; total time=   0.0s\n",
      "[CV] END .....................................n_neighbors=19; total time=   0.0s\n",
      "[CV] END .....................................n_neighbors=19; total time=   0.0s\n"
     ]
    },
    {
     "data": {
      "text/plain": [
       "GridSearchCV(cv=ShuffleSplit(n_splits=20, random_state=None, test_size=0.25, train_size=None),\n",
       "             estimator=KNeighborsClassifier(),\n",
       "             param_grid={'n_neighbors': range(1, 20)}, return_train_score=True,\n",
       "             verbose=2)"
      ]
     },
     "execution_count": 37,
     "metadata": {},
     "output_type": "execute_result"
    }
   ],
   "source": [
    "grid_model_ss.fit(digits.data,digits.target)"
   ]
  },
  {
   "cell_type": "code",
   "execution_count": 38,
   "id": "6c971022-b0ae-4255-9e98-dc5eba6f91e2",
   "metadata": {},
   "outputs": [
    {
     "data": {
      "text/plain": [
       "KNeighborsClassifier(n_neighbors=1)"
      ]
     },
     "execution_count": 38,
     "metadata": {},
     "output_type": "execute_result"
    }
   ],
   "source": [
    "grid_model_ss.best_estimator_"
   ]
  },
  {
   "cell_type": "code",
   "execution_count": 39,
   "id": "a38296b6-04f6-4f93-8b2f-636ffcc0bab0",
   "metadata": {},
   "outputs": [
    {
     "data": {
      "text/plain": [
       "{'n_neighbors': 1}"
      ]
     },
     "execution_count": 39,
     "metadata": {},
     "output_type": "execute_result"
    }
   ],
   "source": [
    "grid_model_ss.best_params_"
   ]
  },
  {
   "cell_type": "code",
   "execution_count": 40,
   "id": "879f7dd5-5b9d-4ee2-925d-aaf2ce811ff6",
   "metadata": {},
   "outputs": [
    {
     "data": {
      "text/plain": [
       "0.9891111111111112"
      ]
     },
     "execution_count": 40,
     "metadata": {},
     "output_type": "execute_result"
    }
   ],
   "source": [
    "grid_model_ss.best_score_"
   ]
  },
  {
   "cell_type": "code",
   "execution_count": 41,
   "id": "404a8b3d-a2ec-4d35-b9d2-e49a13da8e48",
   "metadata": {},
   "outputs": [],
   "source": [
    "from sklearn.tree import DecisionTreeClassifier"
   ]
  },
  {
   "cell_type": "code",
   "execution_count": 43,
   "id": "87fde4a8-f60f-4ff8-b2bc-1601fbaa883a",
   "metadata": {},
   "outputs": [],
   "source": [
    "treemodel=DecisionTreeClassifier()"
   ]
  },
  {
   "cell_type": "code",
   "execution_count": 44,
   "id": "87e1769a-df4d-48da-be93-ab6692d8d328",
   "metadata": {},
   "outputs": [
    {
     "data": {
      "text/plain": [
       "DecisionTreeClassifier()"
      ]
     },
     "execution_count": 44,
     "metadata": {},
     "output_type": "execute_result"
    }
   ],
   "source": [
    "treemodel"
   ]
  },
  {
   "cell_type": "code",
   "execution_count": 47,
   "id": "757bb136-b063-47a5-92a8-e17d009afe64",
   "metadata": {},
   "outputs": [],
   "source": [
    "param_tree={'criterion' : ['gini','entropy'],'max_depth': range(1,11),'splitter':['best','random']}"
   ]
  },
  {
   "cell_type": "code",
   "execution_count": 51,
   "id": "6c4b35a1-8bf2-4e30-8313-a527df5bf7e2",
   "metadata": {},
   "outputs": [],
   "source": [
    "grid_tree=GridSearchCV(treemodel, return_train_score=True, param_grid=param_tree, cv=ss, verbose=2)"
   ]
  },
  {
   "cell_type": "code",
   "execution_count": 52,
   "id": "2bb9525b-96e0-4b73-a570-ede848c5a979",
   "metadata": {
    "collapsed": true,
    "jupyter": {
     "outputs_hidden": true
    },
    "tags": []
   },
   "outputs": [
    {
     "name": "stdout",
     "output_type": "stream",
     "text": [
      "Fitting 20 folds for each of 20 candidates, totalling 400 fits\n",
      "[CV] END ........................criterion=gini, max_depth=1; total time=   0.0s\n",
      "[CV] END ........................criterion=gini, max_depth=1; total time=   0.0s\n",
      "[CV] END ........................criterion=gini, max_depth=1; total time=   0.0s\n",
      "[CV] END ........................criterion=gini, max_depth=1; total time=   0.0s\n",
      "[CV] END ........................criterion=gini, max_depth=1; total time=   0.0s\n",
      "[CV] END ........................criterion=gini, max_depth=1; total time=   0.0s\n",
      "[CV] END ........................criterion=gini, max_depth=1; total time=   0.0s\n",
      "[CV] END ........................criterion=gini, max_depth=1; total time=   0.0s\n",
      "[CV] END ........................criterion=gini, max_depth=1; total time=   0.0s\n",
      "[CV] END ........................criterion=gini, max_depth=1; total time=   0.0s\n",
      "[CV] END ........................criterion=gini, max_depth=1; total time=   0.0s\n",
      "[CV] END ........................criterion=gini, max_depth=1; total time=   0.0s\n",
      "[CV] END ........................criterion=gini, max_depth=1; total time=   0.0s\n",
      "[CV] END ........................criterion=gini, max_depth=1; total time=   0.0s\n",
      "[CV] END ........................criterion=gini, max_depth=1; total time=   0.0s\n",
      "[CV] END ........................criterion=gini, max_depth=1; total time=   0.0s\n",
      "[CV] END ........................criterion=gini, max_depth=1; total time=   0.0s\n",
      "[CV] END ........................criterion=gini, max_depth=1; total time=   0.0s\n",
      "[CV] END ........................criterion=gini, max_depth=1; total time=   0.0s\n",
      "[CV] END ........................criterion=gini, max_depth=1; total time=   0.0s\n",
      "[CV] END ........................criterion=gini, max_depth=2; total time=   0.0s\n",
      "[CV] END ........................criterion=gini, max_depth=2; total time=   0.0s\n",
      "[CV] END ........................criterion=gini, max_depth=2; total time=   0.0s\n",
      "[CV] END ........................criterion=gini, max_depth=2; total time=   0.0s\n",
      "[CV] END ........................criterion=gini, max_depth=2; total time=   0.0s\n",
      "[CV] END ........................criterion=gini, max_depth=2; total time=   0.0s\n",
      "[CV] END ........................criterion=gini, max_depth=2; total time=   0.0s\n",
      "[CV] END ........................criterion=gini, max_depth=2; total time=   0.0s\n",
      "[CV] END ........................criterion=gini, max_depth=2; total time=   0.0s\n",
      "[CV] END ........................criterion=gini, max_depth=2; total time=   0.0s\n",
      "[CV] END ........................criterion=gini, max_depth=2; total time=   0.0s\n",
      "[CV] END ........................criterion=gini, max_depth=2; total time=   0.0s\n",
      "[CV] END ........................criterion=gini, max_depth=2; total time=   0.0s\n",
      "[CV] END ........................criterion=gini, max_depth=2; total time=   0.0s\n",
      "[CV] END ........................criterion=gini, max_depth=2; total time=   0.0s\n",
      "[CV] END ........................criterion=gini, max_depth=2; total time=   0.0s\n",
      "[CV] END ........................criterion=gini, max_depth=2; total time=   0.0s\n",
      "[CV] END ........................criterion=gini, max_depth=2; total time=   0.0s\n",
      "[CV] END ........................criterion=gini, max_depth=2; total time=   0.0s\n",
      "[CV] END ........................criterion=gini, max_depth=2; total time=   0.0s\n",
      "[CV] END ........................criterion=gini, max_depth=3; total time=   0.0s\n",
      "[CV] END ........................criterion=gini, max_depth=3; total time=   0.0s\n",
      "[CV] END ........................criterion=gini, max_depth=3; total time=   0.0s\n",
      "[CV] END ........................criterion=gini, max_depth=3; total time=   0.0s\n",
      "[CV] END ........................criterion=gini, max_depth=3; total time=   0.0s\n",
      "[CV] END ........................criterion=gini, max_depth=3; total time=   0.0s\n",
      "[CV] END ........................criterion=gini, max_depth=3; total time=   0.0s\n",
      "[CV] END ........................criterion=gini, max_depth=3; total time=   0.0s\n",
      "[CV] END ........................criterion=gini, max_depth=3; total time=   0.0s\n",
      "[CV] END ........................criterion=gini, max_depth=3; total time=   0.0s\n",
      "[CV] END ........................criterion=gini, max_depth=3; total time=   0.0s\n",
      "[CV] END ........................criterion=gini, max_depth=3; total time=   0.0s\n",
      "[CV] END ........................criterion=gini, max_depth=3; total time=   0.0s\n",
      "[CV] END ........................criterion=gini, max_depth=3; total time=   0.0s\n",
      "[CV] END ........................criterion=gini, max_depth=3; total time=   0.0s\n",
      "[CV] END ........................criterion=gini, max_depth=3; total time=   0.0s\n",
      "[CV] END ........................criterion=gini, max_depth=3; total time=   0.0s\n",
      "[CV] END ........................criterion=gini, max_depth=3; total time=   0.0s\n",
      "[CV] END ........................criterion=gini, max_depth=3; total time=   0.0s\n",
      "[CV] END ........................criterion=gini, max_depth=3; total time=   0.0s\n",
      "[CV] END ........................criterion=gini, max_depth=4; total time=   0.0s\n",
      "[CV] END ........................criterion=gini, max_depth=4; total time=   0.0s\n",
      "[CV] END ........................criterion=gini, max_depth=4; total time=   0.0s\n",
      "[CV] END ........................criterion=gini, max_depth=4; total time=   0.0s\n",
      "[CV] END ........................criterion=gini, max_depth=4; total time=   0.0s\n",
      "[CV] END ........................criterion=gini, max_depth=4; total time=   0.0s\n",
      "[CV] END ........................criterion=gini, max_depth=4; total time=   0.0s\n",
      "[CV] END ........................criterion=gini, max_depth=4; total time=   0.0s\n",
      "[CV] END ........................criterion=gini, max_depth=4; total time=   0.0s\n",
      "[CV] END ........................criterion=gini, max_depth=4; total time=   0.0s\n",
      "[CV] END ........................criterion=gini, max_depth=4; total time=   0.0s\n",
      "[CV] END ........................criterion=gini, max_depth=4; total time=   0.0s\n",
      "[CV] END ........................criterion=gini, max_depth=4; total time=   0.0s\n",
      "[CV] END ........................criterion=gini, max_depth=4; total time=   0.0s\n",
      "[CV] END ........................criterion=gini, max_depth=4; total time=   0.0s\n",
      "[CV] END ........................criterion=gini, max_depth=4; total time=   0.0s\n",
      "[CV] END ........................criterion=gini, max_depth=4; total time=   0.0s\n",
      "[CV] END ........................criterion=gini, max_depth=4; total time=   0.0s\n",
      "[CV] END ........................criterion=gini, max_depth=4; total time=   0.0s\n",
      "[CV] END ........................criterion=gini, max_depth=4; total time=   0.0s\n",
      "[CV] END ........................criterion=gini, max_depth=5; total time=   0.0s\n",
      "[CV] END ........................criterion=gini, max_depth=5; total time=   0.0s\n",
      "[CV] END ........................criterion=gini, max_depth=5; total time=   0.0s\n",
      "[CV] END ........................criterion=gini, max_depth=5; total time=   0.0s\n",
      "[CV] END ........................criterion=gini, max_depth=5; total time=   0.0s\n",
      "[CV] END ........................criterion=gini, max_depth=5; total time=   0.0s\n",
      "[CV] END ........................criterion=gini, max_depth=5; total time=   0.0s\n",
      "[CV] END ........................criterion=gini, max_depth=5; total time=   0.0s\n",
      "[CV] END ........................criterion=gini, max_depth=5; total time=   0.0s\n",
      "[CV] END ........................criterion=gini, max_depth=5; total time=   0.0s\n",
      "[CV] END ........................criterion=gini, max_depth=5; total time=   0.0s\n",
      "[CV] END ........................criterion=gini, max_depth=5; total time=   0.0s\n",
      "[CV] END ........................criterion=gini, max_depth=5; total time=   0.0s\n",
      "[CV] END ........................criterion=gini, max_depth=5; total time=   0.0s\n",
      "[CV] END ........................criterion=gini, max_depth=5; total time=   0.0s\n",
      "[CV] END ........................criterion=gini, max_depth=5; total time=   0.0s\n",
      "[CV] END ........................criterion=gini, max_depth=5; total time=   0.0s\n",
      "[CV] END ........................criterion=gini, max_depth=5; total time=   0.0s\n",
      "[CV] END ........................criterion=gini, max_depth=5; total time=   0.0s\n",
      "[CV] END ........................criterion=gini, max_depth=5; total time=   0.0s\n",
      "[CV] END ........................criterion=gini, max_depth=6; total time=   0.0s\n",
      "[CV] END ........................criterion=gini, max_depth=6; total time=   0.0s\n",
      "[CV] END ........................criterion=gini, max_depth=6; total time=   0.0s\n",
      "[CV] END ........................criterion=gini, max_depth=6; total time=   0.0s\n",
      "[CV] END ........................criterion=gini, max_depth=6; total time=   0.0s\n",
      "[CV] END ........................criterion=gini, max_depth=6; total time=   0.0s\n",
      "[CV] END ........................criterion=gini, max_depth=6; total time=   0.0s\n",
      "[CV] END ........................criterion=gini, max_depth=6; total time=   0.0s\n",
      "[CV] END ........................criterion=gini, max_depth=6; total time=   0.0s\n",
      "[CV] END ........................criterion=gini, max_depth=6; total time=   0.0s\n",
      "[CV] END ........................criterion=gini, max_depth=6; total time=   0.0s\n",
      "[CV] END ........................criterion=gini, max_depth=6; total time=   0.0s\n",
      "[CV] END ........................criterion=gini, max_depth=6; total time=   0.0s\n",
      "[CV] END ........................criterion=gini, max_depth=6; total time=   0.0s\n",
      "[CV] END ........................criterion=gini, max_depth=6; total time=   0.0s\n",
      "[CV] END ........................criterion=gini, max_depth=6; total time=   0.0s\n",
      "[CV] END ........................criterion=gini, max_depth=6; total time=   0.0s\n",
      "[CV] END ........................criterion=gini, max_depth=6; total time=   0.0s\n",
      "[CV] END ........................criterion=gini, max_depth=6; total time=   0.0s\n",
      "[CV] END ........................criterion=gini, max_depth=6; total time=   0.0s\n",
      "[CV] END ........................criterion=gini, max_depth=7; total time=   0.0s\n",
      "[CV] END ........................criterion=gini, max_depth=7; total time=   0.0s\n",
      "[CV] END ........................criterion=gini, max_depth=7; total time=   0.0s\n",
      "[CV] END ........................criterion=gini, max_depth=7; total time=   0.0s\n",
      "[CV] END ........................criterion=gini, max_depth=7; total time=   0.0s\n",
      "[CV] END ........................criterion=gini, max_depth=7; total time=   0.0s\n",
      "[CV] END ........................criterion=gini, max_depth=7; total time=   0.0s\n",
      "[CV] END ........................criterion=gini, max_depth=7; total time=   0.0s\n",
      "[CV] END ........................criterion=gini, max_depth=7; total time=   0.0s\n",
      "[CV] END ........................criterion=gini, max_depth=7; total time=   0.0s\n",
      "[CV] END ........................criterion=gini, max_depth=7; total time=   0.0s\n",
      "[CV] END ........................criterion=gini, max_depth=7; total time=   0.0s\n",
      "[CV] END ........................criterion=gini, max_depth=7; total time=   0.0s\n",
      "[CV] END ........................criterion=gini, max_depth=7; total time=   0.0s\n",
      "[CV] END ........................criterion=gini, max_depth=7; total time=   0.0s\n",
      "[CV] END ........................criterion=gini, max_depth=7; total time=   0.0s\n",
      "[CV] END ........................criterion=gini, max_depth=7; total time=   0.0s\n",
      "[CV] END ........................criterion=gini, max_depth=7; total time=   0.0s\n",
      "[CV] END ........................criterion=gini, max_depth=7; total time=   0.0s\n",
      "[CV] END ........................criterion=gini, max_depth=7; total time=   0.0s\n",
      "[CV] END ........................criterion=gini, max_depth=8; total time=   0.0s\n",
      "[CV] END ........................criterion=gini, max_depth=8; total time=   0.0s\n",
      "[CV] END ........................criterion=gini, max_depth=8; total time=   0.0s\n",
      "[CV] END ........................criterion=gini, max_depth=8; total time=   0.0s\n",
      "[CV] END ........................criterion=gini, max_depth=8; total time=   0.0s\n",
      "[CV] END ........................criterion=gini, max_depth=8; total time=   0.0s\n",
      "[CV] END ........................criterion=gini, max_depth=8; total time=   0.0s\n",
      "[CV] END ........................criterion=gini, max_depth=8; total time=   0.0s\n",
      "[CV] END ........................criterion=gini, max_depth=8; total time=   0.0s\n",
      "[CV] END ........................criterion=gini, max_depth=8; total time=   0.0s\n",
      "[CV] END ........................criterion=gini, max_depth=8; total time=   0.0s\n",
      "[CV] END ........................criterion=gini, max_depth=8; total time=   0.0s\n",
      "[CV] END ........................criterion=gini, max_depth=8; total time=   0.0s\n",
      "[CV] END ........................criterion=gini, max_depth=8; total time=   0.0s\n",
      "[CV] END ........................criterion=gini, max_depth=8; total time=   0.0s\n",
      "[CV] END ........................criterion=gini, max_depth=8; total time=   0.0s\n",
      "[CV] END ........................criterion=gini, max_depth=8; total time=   0.0s\n",
      "[CV] END ........................criterion=gini, max_depth=8; total time=   0.0s\n",
      "[CV] END ........................criterion=gini, max_depth=8; total time=   0.0s\n",
      "[CV] END ........................criterion=gini, max_depth=8; total time=   0.0s\n",
      "[CV] END ........................criterion=gini, max_depth=9; total time=   0.0s\n",
      "[CV] END ........................criterion=gini, max_depth=9; total time=   0.0s\n",
      "[CV] END ........................criterion=gini, max_depth=9; total time=   0.0s\n",
      "[CV] END ........................criterion=gini, max_depth=9; total time=   0.0s\n",
      "[CV] END ........................criterion=gini, max_depth=9; total time=   0.0s\n",
      "[CV] END ........................criterion=gini, max_depth=9; total time=   0.0s\n",
      "[CV] END ........................criterion=gini, max_depth=9; total time=   0.0s\n",
      "[CV] END ........................criterion=gini, max_depth=9; total time=   0.0s\n",
      "[CV] END ........................criterion=gini, max_depth=9; total time=   0.0s\n",
      "[CV] END ........................criterion=gini, max_depth=9; total time=   0.0s\n",
      "[CV] END ........................criterion=gini, max_depth=9; total time=   0.0s\n",
      "[CV] END ........................criterion=gini, max_depth=9; total time=   0.0s\n",
      "[CV] END ........................criterion=gini, max_depth=9; total time=   0.0s\n",
      "[CV] END ........................criterion=gini, max_depth=9; total time=   0.0s\n",
      "[CV] END ........................criterion=gini, max_depth=9; total time=   0.0s\n",
      "[CV] END ........................criterion=gini, max_depth=9; total time=   0.0s\n",
      "[CV] END ........................criterion=gini, max_depth=9; total time=   0.0s\n",
      "[CV] END ........................criterion=gini, max_depth=9; total time=   0.0s\n",
      "[CV] END ........................criterion=gini, max_depth=9; total time=   0.0s\n",
      "[CV] END ........................criterion=gini, max_depth=9; total time=   0.0s\n",
      "[CV] END .......................criterion=gini, max_depth=10; total time=   0.0s\n",
      "[CV] END .......................criterion=gini, max_depth=10; total time=   0.0s\n",
      "[CV] END .......................criterion=gini, max_depth=10; total time=   0.0s\n",
      "[CV] END .......................criterion=gini, max_depth=10; total time=   0.0s\n",
      "[CV] END .......................criterion=gini, max_depth=10; total time=   0.0s\n",
      "[CV] END .......................criterion=gini, max_depth=10; total time=   0.0s\n",
      "[CV] END .......................criterion=gini, max_depth=10; total time=   0.0s\n",
      "[CV] END .......................criterion=gini, max_depth=10; total time=   0.0s\n",
      "[CV] END .......................criterion=gini, max_depth=10; total time=   0.0s\n",
      "[CV] END .......................criterion=gini, max_depth=10; total time=   0.0s\n",
      "[CV] END .......................criterion=gini, max_depth=10; total time=   0.0s\n",
      "[CV] END .......................criterion=gini, max_depth=10; total time=   0.0s\n",
      "[CV] END .......................criterion=gini, max_depth=10; total time=   0.0s\n",
      "[CV] END .......................criterion=gini, max_depth=10; total time=   0.0s\n",
      "[CV] END .......................criterion=gini, max_depth=10; total time=   0.0s\n",
      "[CV] END .......................criterion=gini, max_depth=10; total time=   0.0s\n",
      "[CV] END .......................criterion=gini, max_depth=10; total time=   0.0s\n",
      "[CV] END .......................criterion=gini, max_depth=10; total time=   0.0s\n",
      "[CV] END .......................criterion=gini, max_depth=10; total time=   0.0s\n",
      "[CV] END .......................criterion=gini, max_depth=10; total time=   0.0s\n",
      "[CV] END .....................criterion=entropy, max_depth=1; total time=   0.0s\n",
      "[CV] END .....................criterion=entropy, max_depth=1; total time=   0.0s\n",
      "[CV] END .....................criterion=entropy, max_depth=1; total time=   0.0s\n",
      "[CV] END .....................criterion=entropy, max_depth=1; total time=   0.0s\n",
      "[CV] END .....................criterion=entropy, max_depth=1; total time=   0.0s\n",
      "[CV] END .....................criterion=entropy, max_depth=1; total time=   0.0s\n",
      "[CV] END .....................criterion=entropy, max_depth=1; total time=   0.0s\n",
      "[CV] END .....................criterion=entropy, max_depth=1; total time=   0.0s\n",
      "[CV] END .....................criterion=entropy, max_depth=1; total time=   0.0s\n",
      "[CV] END .....................criterion=entropy, max_depth=1; total time=   0.0s\n",
      "[CV] END .....................criterion=entropy, max_depth=1; total time=   0.0s\n",
      "[CV] END .....................criterion=entropy, max_depth=1; total time=   0.0s\n",
      "[CV] END .....................criterion=entropy, max_depth=1; total time=   0.0s\n",
      "[CV] END .....................criterion=entropy, max_depth=1; total time=   0.0s\n",
      "[CV] END .....................criterion=entropy, max_depth=1; total time=   0.0s\n",
      "[CV] END .....................criterion=entropy, max_depth=1; total time=   0.0s\n",
      "[CV] END .....................criterion=entropy, max_depth=1; total time=   0.0s\n",
      "[CV] END .....................criterion=entropy, max_depth=1; total time=   0.0s\n",
      "[CV] END .....................criterion=entropy, max_depth=1; total time=   0.0s\n",
      "[CV] END .....................criterion=entropy, max_depth=1; total time=   0.0s\n",
      "[CV] END .....................criterion=entropy, max_depth=2; total time=   0.0s\n",
      "[CV] END .....................criterion=entropy, max_depth=2; total time=   0.0s\n",
      "[CV] END .....................criterion=entropy, max_depth=2; total time=   0.0s\n",
      "[CV] END .....................criterion=entropy, max_depth=2; total time=   0.0s\n",
      "[CV] END .....................criterion=entropy, max_depth=2; total time=   0.0s\n",
      "[CV] END .....................criterion=entropy, max_depth=2; total time=   0.0s\n",
      "[CV] END .....................criterion=entropy, max_depth=2; total time=   0.0s\n",
      "[CV] END .....................criterion=entropy, max_depth=2; total time=   0.0s\n",
      "[CV] END .....................criterion=entropy, max_depth=2; total time=   0.0s\n",
      "[CV] END .....................criterion=entropy, max_depth=2; total time=   0.0s\n",
      "[CV] END .....................criterion=entropy, max_depth=2; total time=   0.0s\n",
      "[CV] END .....................criterion=entropy, max_depth=2; total time=   0.0s\n",
      "[CV] END .....................criterion=entropy, max_depth=2; total time=   0.0s\n",
      "[CV] END .....................criterion=entropy, max_depth=2; total time=   0.0s\n",
      "[CV] END .....................criterion=entropy, max_depth=2; total time=   0.0s\n",
      "[CV] END .....................criterion=entropy, max_depth=2; total time=   0.0s\n",
      "[CV] END .....................criterion=entropy, max_depth=2; total time=   0.0s\n",
      "[CV] END .....................criterion=entropy, max_depth=2; total time=   0.0s\n",
      "[CV] END .....................criterion=entropy, max_depth=2; total time=   0.0s\n",
      "[CV] END .....................criterion=entropy, max_depth=2; total time=   0.0s\n",
      "[CV] END .....................criterion=entropy, max_depth=3; total time=   0.0s\n",
      "[CV] END .....................criterion=entropy, max_depth=3; total time=   0.0s\n",
      "[CV] END .....................criterion=entropy, max_depth=3; total time=   0.0s\n",
      "[CV] END .....................criterion=entropy, max_depth=3; total time=   0.0s\n",
      "[CV] END .....................criterion=entropy, max_depth=3; total time=   0.0s\n",
      "[CV] END .....................criterion=entropy, max_depth=3; total time=   0.0s\n",
      "[CV] END .....................criterion=entropy, max_depth=3; total time=   0.0s\n",
      "[CV] END .....................criterion=entropy, max_depth=3; total time=   0.0s\n",
      "[CV] END .....................criterion=entropy, max_depth=3; total time=   0.0s\n",
      "[CV] END .....................criterion=entropy, max_depth=3; total time=   0.0s\n",
      "[CV] END .....................criterion=entropy, max_depth=3; total time=   0.0s\n",
      "[CV] END .....................criterion=entropy, max_depth=3; total time=   0.0s\n",
      "[CV] END .....................criterion=entropy, max_depth=3; total time=   0.0s\n",
      "[CV] END .....................criterion=entropy, max_depth=3; total time=   0.0s\n",
      "[CV] END .....................criterion=entropy, max_depth=3; total time=   0.0s\n",
      "[CV] END .....................criterion=entropy, max_depth=3; total time=   0.0s\n",
      "[CV] END .....................criterion=entropy, max_depth=3; total time=   0.0s\n",
      "[CV] END .....................criterion=entropy, max_depth=3; total time=   0.0s\n",
      "[CV] END .....................criterion=entropy, max_depth=3; total time=   0.0s\n",
      "[CV] END .....................criterion=entropy, max_depth=3; total time=   0.0s\n",
      "[CV] END .....................criterion=entropy, max_depth=4; total time=   0.0s\n",
      "[CV] END .....................criterion=entropy, max_depth=4; total time=   0.0s\n",
      "[CV] END .....................criterion=entropy, max_depth=4; total time=   0.0s\n",
      "[CV] END .....................criterion=entropy, max_depth=4; total time=   0.0s\n",
      "[CV] END .....................criterion=entropy, max_depth=4; total time=   0.0s\n",
      "[CV] END .....................criterion=entropy, max_depth=4; total time=   0.0s\n",
      "[CV] END .....................criterion=entropy, max_depth=4; total time=   0.0s\n",
      "[CV] END .....................criterion=entropy, max_depth=4; total time=   0.0s\n",
      "[CV] END .....................criterion=entropy, max_depth=4; total time=   0.0s\n",
      "[CV] END .....................criterion=entropy, max_depth=4; total time=   0.0s\n",
      "[CV] END .....................criterion=entropy, max_depth=4; total time=   0.0s\n",
      "[CV] END .....................criterion=entropy, max_depth=4; total time=   0.0s\n",
      "[CV] END .....................criterion=entropy, max_depth=4; total time=   0.0s\n",
      "[CV] END .....................criterion=entropy, max_depth=4; total time=   0.0s\n",
      "[CV] END .....................criterion=entropy, max_depth=4; total time=   0.0s\n",
      "[CV] END .....................criterion=entropy, max_depth=4; total time=   0.0s\n",
      "[CV] END .....................criterion=entropy, max_depth=4; total time=   0.0s\n",
      "[CV] END .....................criterion=entropy, max_depth=4; total time=   0.0s\n",
      "[CV] END .....................criterion=entropy, max_depth=4; total time=   0.0s\n",
      "[CV] END .....................criterion=entropy, max_depth=4; total time=   0.0s\n",
      "[CV] END .....................criterion=entropy, max_depth=5; total time=   0.0s\n",
      "[CV] END .....................criterion=entropy, max_depth=5; total time=   0.0s\n",
      "[CV] END .....................criterion=entropy, max_depth=5; total time=   0.0s\n",
      "[CV] END .....................criterion=entropy, max_depth=5; total time=   0.0s\n",
      "[CV] END .....................criterion=entropy, max_depth=5; total time=   0.0s\n",
      "[CV] END .....................criterion=entropy, max_depth=5; total time=   0.0s\n",
      "[CV] END .....................criterion=entropy, max_depth=5; total time=   0.0s\n",
      "[CV] END .....................criterion=entropy, max_depth=5; total time=   0.0s\n",
      "[CV] END .....................criterion=entropy, max_depth=5; total time=   0.0s\n",
      "[CV] END .....................criterion=entropy, max_depth=5; total time=   0.0s\n",
      "[CV] END .....................criterion=entropy, max_depth=5; total time=   0.0s\n",
      "[CV] END .....................criterion=entropy, max_depth=5; total time=   0.0s\n",
      "[CV] END .....................criterion=entropy, max_depth=5; total time=   0.0s\n",
      "[CV] END .....................criterion=entropy, max_depth=5; total time=   0.0s\n",
      "[CV] END .....................criterion=entropy, max_depth=5; total time=   0.0s\n",
      "[CV] END .....................criterion=entropy, max_depth=5; total time=   0.0s\n",
      "[CV] END .....................criterion=entropy, max_depth=5; total time=   0.0s\n",
      "[CV] END .....................criterion=entropy, max_depth=5; total time=   0.0s\n",
      "[CV] END .....................criterion=entropy, max_depth=5; total time=   0.0s\n",
      "[CV] END .....................criterion=entropy, max_depth=5; total time=   0.0s\n",
      "[CV] END .....................criterion=entropy, max_depth=6; total time=   0.0s\n",
      "[CV] END .....................criterion=entropy, max_depth=6; total time=   0.0s\n",
      "[CV] END .....................criterion=entropy, max_depth=6; total time=   0.0s\n",
      "[CV] END .....................criterion=entropy, max_depth=6; total time=   0.0s\n",
      "[CV] END .....................criterion=entropy, max_depth=6; total time=   0.0s\n",
      "[CV] END .....................criterion=entropy, max_depth=6; total time=   0.0s\n",
      "[CV] END .....................criterion=entropy, max_depth=6; total time=   0.0s\n",
      "[CV] END .....................criterion=entropy, max_depth=6; total time=   0.0s\n",
      "[CV] END .....................criterion=entropy, max_depth=6; total time=   0.0s\n",
      "[CV] END .....................criterion=entropy, max_depth=6; total time=   0.0s\n",
      "[CV] END .....................criterion=entropy, max_depth=6; total time=   0.0s\n",
      "[CV] END .....................criterion=entropy, max_depth=6; total time=   0.0s\n",
      "[CV] END .....................criterion=entropy, max_depth=6; total time=   0.0s\n",
      "[CV] END .....................criterion=entropy, max_depth=6; total time=   0.0s\n",
      "[CV] END .....................criterion=entropy, max_depth=6; total time=   0.0s\n",
      "[CV] END .....................criterion=entropy, max_depth=6; total time=   0.0s\n",
      "[CV] END .....................criterion=entropy, max_depth=6; total time=   0.0s\n",
      "[CV] END .....................criterion=entropy, max_depth=6; total time=   0.0s\n",
      "[CV] END .....................criterion=entropy, max_depth=6; total time=   0.0s\n",
      "[CV] END .....................criterion=entropy, max_depth=6; total time=   0.0s\n",
      "[CV] END .....................criterion=entropy, max_depth=7; total time=   0.0s\n",
      "[CV] END .....................criterion=entropy, max_depth=7; total time=   0.0s\n",
      "[CV] END .....................criterion=entropy, max_depth=7; total time=   0.0s\n",
      "[CV] END .....................criterion=entropy, max_depth=7; total time=   0.0s\n",
      "[CV] END .....................criterion=entropy, max_depth=7; total time=   0.0s\n",
      "[CV] END .....................criterion=entropy, max_depth=7; total time=   0.0s\n",
      "[CV] END .....................criterion=entropy, max_depth=7; total time=   0.0s\n",
      "[CV] END .....................criterion=entropy, max_depth=7; total time=   0.0s\n",
      "[CV] END .....................criterion=entropy, max_depth=7; total time=   0.0s\n",
      "[CV] END .....................criterion=entropy, max_depth=7; total time=   0.0s\n",
      "[CV] END .....................criterion=entropy, max_depth=7; total time=   0.0s\n",
      "[CV] END .....................criterion=entropy, max_depth=7; total time=   0.0s\n",
      "[CV] END .....................criterion=entropy, max_depth=7; total time=   0.0s\n",
      "[CV] END .....................criterion=entropy, max_depth=7; total time=   0.0s\n",
      "[CV] END .....................criterion=entropy, max_depth=7; total time=   0.0s\n",
      "[CV] END .....................criterion=entropy, max_depth=7; total time=   0.0s\n",
      "[CV] END .....................criterion=entropy, max_depth=7; total time=   0.0s\n",
      "[CV] END .....................criterion=entropy, max_depth=7; total time=   0.0s\n",
      "[CV] END .....................criterion=entropy, max_depth=7; total time=   0.0s\n",
      "[CV] END .....................criterion=entropy, max_depth=7; total time=   0.0s\n",
      "[CV] END .....................criterion=entropy, max_depth=8; total time=   0.0s\n",
      "[CV] END .....................criterion=entropy, max_depth=8; total time=   0.0s\n",
      "[CV] END .....................criterion=entropy, max_depth=8; total time=   0.0s\n",
      "[CV] END .....................criterion=entropy, max_depth=8; total time=   0.0s\n",
      "[CV] END .....................criterion=entropy, max_depth=8; total time=   0.0s\n",
      "[CV] END .....................criterion=entropy, max_depth=8; total time=   0.0s\n",
      "[CV] END .....................criterion=entropy, max_depth=8; total time=   0.0s\n",
      "[CV] END .....................criterion=entropy, max_depth=8; total time=   0.0s\n",
      "[CV] END .....................criterion=entropy, max_depth=8; total time=   0.0s\n",
      "[CV] END .....................criterion=entropy, max_depth=8; total time=   0.0s\n",
      "[CV] END .....................criterion=entropy, max_depth=8; total time=   0.0s\n",
      "[CV] END .....................criterion=entropy, max_depth=8; total time=   0.0s\n",
      "[CV] END .....................criterion=entropy, max_depth=8; total time=   0.0s\n",
      "[CV] END .....................criterion=entropy, max_depth=8; total time=   0.0s\n",
      "[CV] END .....................criterion=entropy, max_depth=8; total time=   0.0s\n",
      "[CV] END .....................criterion=entropy, max_depth=8; total time=   0.0s\n",
      "[CV] END .....................criterion=entropy, max_depth=8; total time=   0.0s\n",
      "[CV] END .....................criterion=entropy, max_depth=8; total time=   0.0s\n",
      "[CV] END .....................criterion=entropy, max_depth=8; total time=   0.0s\n",
      "[CV] END .....................criterion=entropy, max_depth=8; total time=   0.0s\n",
      "[CV] END .....................criterion=entropy, max_depth=9; total time=   0.0s\n",
      "[CV] END .....................criterion=entropy, max_depth=9; total time=   0.0s\n",
      "[CV] END .....................criterion=entropy, max_depth=9; total time=   0.0s\n",
      "[CV] END .....................criterion=entropy, max_depth=9; total time=   0.0s\n",
      "[CV] END .....................criterion=entropy, max_depth=9; total time=   0.0s\n",
      "[CV] END .....................criterion=entropy, max_depth=9; total time=   0.0s\n",
      "[CV] END .....................criterion=entropy, max_depth=9; total time=   0.0s\n",
      "[CV] END .....................criterion=entropy, max_depth=9; total time=   0.0s\n",
      "[CV] END .....................criterion=entropy, max_depth=9; total time=   0.0s\n",
      "[CV] END .....................criterion=entropy, max_depth=9; total time=   0.0s\n",
      "[CV] END .....................criterion=entropy, max_depth=9; total time=   0.0s\n",
      "[CV] END .....................criterion=entropy, max_depth=9; total time=   0.0s\n",
      "[CV] END .....................criterion=entropy, max_depth=9; total time=   0.0s\n",
      "[CV] END .....................criterion=entropy, max_depth=9; total time=   0.0s\n",
      "[CV] END .....................criterion=entropy, max_depth=9; total time=   0.0s\n",
      "[CV] END .....................criterion=entropy, max_depth=9; total time=   0.0s\n",
      "[CV] END .....................criterion=entropy, max_depth=9; total time=   0.0s\n",
      "[CV] END .....................criterion=entropy, max_depth=9; total time=   0.0s\n",
      "[CV] END .....................criterion=entropy, max_depth=9; total time=   0.0s\n",
      "[CV] END .....................criterion=entropy, max_depth=9; total time=   0.0s\n",
      "[CV] END ....................criterion=entropy, max_depth=10; total time=   0.0s\n",
      "[CV] END ....................criterion=entropy, max_depth=10; total time=   0.0s\n",
      "[CV] END ....................criterion=entropy, max_depth=10; total time=   0.0s\n",
      "[CV] END ....................criterion=entropy, max_depth=10; total time=   0.0s\n",
      "[CV] END ....................criterion=entropy, max_depth=10; total time=   0.0s\n",
      "[CV] END ....................criterion=entropy, max_depth=10; total time=   0.0s\n",
      "[CV] END ....................criterion=entropy, max_depth=10; total time=   0.0s\n",
      "[CV] END ....................criterion=entropy, max_depth=10; total time=   0.0s\n",
      "[CV] END ....................criterion=entropy, max_depth=10; total time=   0.0s\n",
      "[CV] END ....................criterion=entropy, max_depth=10; total time=   0.0s\n",
      "[CV] END ....................criterion=entropy, max_depth=10; total time=   0.0s\n",
      "[CV] END ....................criterion=entropy, max_depth=10; total time=   0.0s\n",
      "[CV] END ....................criterion=entropy, max_depth=10; total time=   0.0s\n",
      "[CV] END ....................criterion=entropy, max_depth=10; total time=   0.0s\n",
      "[CV] END ....................criterion=entropy, max_depth=10; total time=   0.0s\n",
      "[CV] END ....................criterion=entropy, max_depth=10; total time=   0.0s\n",
      "[CV] END ....................criterion=entropy, max_depth=10; total time=   0.0s\n",
      "[CV] END ....................criterion=entropy, max_depth=10; total time=   0.0s\n",
      "[CV] END ....................criterion=entropy, max_depth=10; total time=   0.0s\n",
      "[CV] END ....................criterion=entropy, max_depth=10; total time=   0.0s\n"
     ]
    },
    {
     "data": {
      "text/plain": [
       "GridSearchCV(cv=ShuffleSplit(n_splits=20, random_state=None, test_size=0.25, train_size=None),\n",
       "             estimator=DecisionTreeClassifier(),\n",
       "             param_grid={'criterion': ['gini', 'entropy'],\n",
       "                         'max_depth': range(1, 11)},\n",
       "             return_train_score=True, verbose=2)"
      ]
     },
     "execution_count": 52,
     "metadata": {},
     "output_type": "execute_result"
    }
   ],
   "source": [
    "grid_tree.fit(digits.data,digits.target)"
   ]
  },
  {
   "cell_type": "code",
   "execution_count": 53,
   "id": "a3b86b92-6724-4ff3-b3a5-bd5adf2e6330",
   "metadata": {},
   "outputs": [
    {
     "data": {
      "text/plain": [
       "DecisionTreeClassifier(criterion='entropy', max_depth=10)"
      ]
     },
     "execution_count": 53,
     "metadata": {},
     "output_type": "execute_result"
    }
   ],
   "source": [
    "grid_tree.best_estimator_"
   ]
  },
  {
   "cell_type": "code",
   "execution_count": 54,
   "id": "9132fbeb-e24a-4a00-b325-e0fca7f436c8",
   "metadata": {},
   "outputs": [
    {
     "data": {
      "text/plain": [
       "{'criterion': 'entropy', 'max_depth': 10}"
      ]
     },
     "execution_count": 54,
     "metadata": {},
     "output_type": "execute_result"
    }
   ],
   "source": [
    "grid_tree.best_params_"
   ]
  },
  {
   "cell_type": "code",
   "execution_count": 55,
   "id": "b998afd5-91f6-4b87-8e7a-eec54728fb42",
   "metadata": {},
   "outputs": [
    {
     "data": {
      "text/plain": [
       "0.8627777777777776"
      ]
     },
     "execution_count": 55,
     "metadata": {},
     "output_type": "execute_result"
    }
   ],
   "source": [
    "grid_tree.best_score_"
   ]
  },
  {
   "cell_type": "code",
   "execution_count": 56,
   "id": "bdb74569-0e0e-43ea-96ce-64079951bd55",
   "metadata": {},
   "outputs": [],
   "source": [
    "from sklearn. model_selection import cross_val_score"
   ]
  },
  {
   "cell_type": "code",
   "execution_count": 57,
   "id": "e759afb4-8c3b-4145-a55d-68874b9b33f2",
   "metadata": {},
   "outputs": [
    {
     "data": {
      "text/plain": [
       "GridSearchCV(cv=2, estimator=KNeighborsClassifier(),\n",
       "             param_grid={'n_neighbors': range(1, 20)})"
      ]
     },
     "execution_count": 57,
     "metadata": {},
     "output_type": "execute_result"
    }
   ],
   "source": [
    "grid_knn=GridSearchCV(knn,param_grid=param_grid,cv=2)\n",
    "grid_knn"
   ]
  },
  {
   "cell_type": "code",
   "execution_count": 59,
   "id": "483a2915-a42e-4795-bf39-7ed353083775",
   "metadata": {},
   "outputs": [
    {
     "data": {
      "text/plain": [
       "array([0.96111111, 0.95277778, 0.96657382, 0.98607242, 0.96657382])"
      ]
     },
     "execution_count": 59,
     "metadata": {},
     "output_type": "execute_result"
    }
   ],
   "source": [
    "outer_scores=cross_val_score(grid_knn,digits.data,digits.target,cv=5)\n",
    "outer_scores"
   ]
  },
  {
   "cell_type": "code",
   "execution_count": 61,
   "id": "a279cede-9bad-4616-bcf0-8b6231998454",
   "metadata": {},
   "outputs": [
    {
     "data": {
      "text/plain": [
       "GridSearchCV(cv=2, estimator=KNeighborsClassifier(),\n",
       "             param_grid={'n_neighbors': range(1, 20)})"
      ]
     },
     "execution_count": 61,
     "metadata": {},
     "output_type": "execute_result"
    }
   ],
   "source": [
    "grid_knn.fit(digits.data,digits.target)"
   ]
  },
  {
   "cell_type": "code",
   "execution_count": 64,
   "id": "672873cd-b82f-46cd-9b52-72270de03c79",
   "metadata": {},
   "outputs": [
    {
     "data": {
      "text/plain": [
       "{'algorithm': 'auto',\n",
       " 'leaf_size': 30,\n",
       " 'metric': 'minkowski',\n",
       " 'metric_params': None,\n",
       " 'n_jobs': None,\n",
       " 'n_neighbors': 1,\n",
       " 'p': 2,\n",
       " 'weights': 'uniform'}"
      ]
     },
     "execution_count": 64,
     "metadata": {},
     "output_type": "execute_result"
    }
   ],
   "source": [
    "preffered_params=grid_knn.best_estimator_.get_params()\n",
    "preffered_params"
   ]
  },
  {
   "cell_type": "code",
   "execution_count": 65,
   "id": "cbaf71ae-7c3d-4097-8b46-cf3c99ec44e3",
   "metadata": {},
   "outputs": [],
   "source": [
    "final_knn=KNeighborsClassifier(**preffered_params)"
   ]
  },
  {
   "cell_type": "code",
   "execution_count": 66,
   "id": "dd925946-9b10-42b4-bda5-3fb6c0f11ca9",
   "metadata": {},
   "outputs": [
    {
     "data": {
      "text/plain": [
       "KNeighborsClassifier(n_neighbors=1)"
      ]
     },
     "execution_count": 66,
     "metadata": {},
     "output_type": "execute_result"
    }
   ],
   "source": [
    "final_knn.fit(digits.data,digits.target)"
   ]
  },
  {
   "cell_type": "code",
   "execution_count": 67,
   "id": "8e58e2aa-ba61-4a9c-9621-679ab0426f3c",
   "metadata": {},
   "outputs": [
    {
     "data": {
      "text/plain": [
       "1.0"
      ]
     },
     "execution_count": 67,
     "metadata": {},
     "output_type": "execute_result"
    }
   ],
   "source": [
    "final_knn.score(digits.data,digits.target)"
   ]
  },
  {
   "cell_type": "code",
   "execution_count": null,
   "id": "61bff38e-8e0f-42f7-bab8-568b3ed88251",
   "metadata": {},
   "outputs": [],
   "source": []
  }
 ],
 "metadata": {
  "kernelspec": {
   "display_name": "Python 3 (ipykernel)",
   "language": "python",
   "name": "python3"
  },
  "language_info": {
   "codemirror_mode": {
    "name": "ipython",
    "version": 3
   },
   "file_extension": ".py",
   "mimetype": "text/x-python",
   "name": "python",
   "nbconvert_exporter": "python",
   "pygments_lexer": "ipython3",
   "version": "3.9.13"
  }
 },
 "nbformat": 4,
 "nbformat_minor": 5
}
