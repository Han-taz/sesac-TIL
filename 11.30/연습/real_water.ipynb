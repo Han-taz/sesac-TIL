{
 "cells": [
  {
   "cell_type": "code",
   "execution_count": 1,
   "id": "001ccd69-b496-41a5-ac58-a18096a15962",
   "metadata": {},
   "outputs": [],
   "source": [
    "import pandas as pd\n",
    "import numpy as np\n",
    "from joblib import dump,load\n",
    "from preprocess import median_func\n",
    "from sklearn.preprocessing import StandardScaler\n",
    "from sklearn.model_selection import train_test_split\n",
    "from sklearn.svm import SVC\n",
    "from sklearn.pipeline import make_pipeline\n",
    "from sklearn.preprocessing import FunctionTransformer"
   ]
  },
  {
   "cell_type": "code",
   "execution_count": 2,
   "id": "c2913074-4495-4e52-af8e-2ba0921830c2",
   "metadata": {},
   "outputs": [],
   "source": [
    "load_pipeline=load('pipeline.joblib')"
   ]
  },
  {
   "cell_type": "code",
   "execution_count": 6,
   "id": "a295d024-27ff-4155-a17c-ea76c737e021",
   "metadata": {},
   "outputs": [],
   "source": [
    "real_water = [[None, 2.04890456e+02, 2.07913190e+04, 7.30021187e+00,\n",
    "        3.68516441e+02, 5.64308654e+02, 1.03797831e+01, 8.69909705e+01,\n",
    "        2.96313538e+00]]"
   ]
  },
  {
   "cell_type": "code",
   "execution_count": 4,
   "id": "5b212d23-908f-4098-8952-3b5aa730752a",
   "metadata": {},
   "outputs": [],
   "source": [
    "col_list=['ph', 'Hardness', 'Solids', 'Chloramines', 'Sulfate', 'Conductivity',\n",
    "       'Organic_carbon', 'Trihalomethanes', 'Turbidity']"
   ]
  },
  {
   "cell_type": "code",
   "execution_count": 8,
   "id": "d827480b-f4f3-4e3b-8f61-ac8b4b87c5df",
   "metadata": {},
   "outputs": [],
   "source": [
    "real_df=pd.DataFrame(real_water,columns=col_list)"
   ]
  },
  {
   "cell_type": "code",
   "execution_count": 9,
   "id": "dea49ecf-b7e6-4685-9dab-962eba7c8385",
   "metadata": {},
   "outputs": [],
   "source": [
    "#pd.DataFrame(real_water,index=col_list).T"
   ]
  },
  {
   "cell_type": "code",
   "execution_count": 11,
   "id": "eb07c9f0-d252-408a-8b94-89de94082072",
   "metadata": {},
   "outputs": [
    {
     "data": {
      "text/plain": [
       "Pipeline(steps=[('functiontransformer',\n",
       "                 FunctionTransformer(func=<function median_func at 0x0000013F357980D0>)),\n",
       "                ('standardscaler', StandardScaler()), ('svc', SVC())])"
      ]
     },
     "execution_count": 11,
     "metadata": {},
     "output_type": "execute_result"
    }
   ],
   "source": [
    "load_pipeline"
   ]
  },
  {
   "cell_type": "code",
   "execution_count": 12,
   "id": "a1d9ad1e-1e58-4435-9560-37a0e2b5eed1",
   "metadata": {},
   "outputs": [
    {
     "data": {
      "text/plain": [
       "array([0], dtype=int64)"
      ]
     },
     "execution_count": 12,
     "metadata": {},
     "output_type": "execute_result"
    }
   ],
   "source": [
    "load_pipeline.predict(real_df)"
   ]
  },
  {
   "cell_type": "code",
   "execution_count": 13,
   "id": "d2021ea1-1d99-4fc2-b053-2f6e84a5b5cf",
   "metadata": {},
   "outputs": [
    {
     "name": "stdout",
     "output_type": "stream",
     "text": [
      "마셔\n"
     ]
    }
   ],
   "source": [
    "if load_pipeline.predict(real_df)==0:\n",
    "    print('마셔')\n",
    "else:\n",
    "    print('안 돼!')"
   ]
  },
  {
   "cell_type": "code",
   "execution_count": null,
   "id": "e66f1f05-d6c4-4b2c-842a-a0a4f08a56f3",
   "metadata": {},
   "outputs": [],
   "source": []
  }
 ],
 "metadata": {
  "kernelspec": {
   "display_name": "Python 3 (ipykernel)",
   "language": "python",
   "name": "python3"
  },
  "language_info": {
   "codemirror_mode": {
    "name": "ipython",
    "version": 3
   },
   "file_extension": ".py",
   "mimetype": "text/x-python",
   "name": "python",
   "nbconvert_exporter": "python",
   "pygments_lexer": "ipython3",
   "version": "3.9.13"
  }
 },
 "nbformat": 4,
 "nbformat_minor": 5
}
