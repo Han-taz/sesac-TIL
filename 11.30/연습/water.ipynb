{
 "cells": [
  {
   "cell_type": "code",
   "execution_count": 34,
   "id": "8c86f36a-4316-423e-a8ea-e7065b427cf3",
   "metadata": {},
   "outputs": [],
   "source": [
    "import pandas as pd\n",
    "import numpy as np\n",
    "from joblib import dump,load\n",
    "from preprocess import median_func\n",
    "from sklearn.preprocessing import StandardScaler\n",
    "from sklearn.model_selection import train_test_split\n",
    "from sklearn.svm import SVC\n",
    "from sklearn.pipeline import make_pipeline\n",
    "from sklearn.preprocessing import FunctionTransformer"
   ]
  },
  {
   "cell_type": "code",
   "execution_count": 35,
   "id": "c81c52e9-5dd2-4276-ae67-b4ff1259cc79",
   "metadata": {},
   "outputs": [],
   "source": [
    "df=pd.read_csv('drinking_water_potability.csv')"
   ]
  },
  {
   "cell_type": "code",
   "execution_count": 47,
   "id": "d91f69a4-2d6d-4810-a0ac-4637ec9c953c",
   "metadata": {},
   "outputs": [
    {
     "data": {
      "text/plain": [
       "Index(['ph', 'Hardness', 'Solids', 'Chloramines', 'Sulfate', 'Conductivity',\n",
       "       'Organic_carbon', 'Trihalomethanes', 'Turbidity', 'Potability'],\n",
       "      dtype='object')"
      ]
     },
     "execution_count": 47,
     "metadata": {},
     "output_type": "execute_result"
    }
   ],
   "source": [
    "df.columns"
   ]
  },
  {
   "cell_type": "code",
   "execution_count": 6,
   "id": "c93e8423-b80c-433c-a181-04254cf0b3c2",
   "metadata": {},
   "outputs": [],
   "source": [
    "null_list=[]\n",
    "for i,j in list(zip(df.isnull().sum().index,df.isnull().sum().values)):\n",
    "    if j != 0:\n",
    "        null_list.append(i)\n",
    "        "
   ]
  },
  {
   "cell_type": "code",
   "execution_count": 17,
   "id": "957b3b19-c830-4214-bb4d-03eda6c4d21e",
   "metadata": {},
   "outputs": [],
   "source": [
    "X=df.drop('Potability',axis=1)\n",
    "Y=df['Potability']"
   ]
  },
  {
   "cell_type": "code",
   "execution_count": 40,
   "id": "a6ae6eea-04e8-4e08-b18f-c825a0069767",
   "metadata": {},
   "outputs": [],
   "source": [
    "medianfunc=FunctionTransformer(median_func)"
   ]
  },
  {
   "cell_type": "code",
   "execution_count": 41,
   "id": "b9544282-d9e4-406a-8638-75ca510a82f2",
   "metadata": {},
   "outputs": [],
   "source": [
    "pipeline=make_pipeline(medianfunc, StandardScaler(), SVC())"
   ]
  },
  {
   "cell_type": "code",
   "execution_count": 42,
   "id": "97eaa4f7-8cb8-4d48-b3df-904fe56e3375",
   "metadata": {},
   "outputs": [],
   "source": [
    "x_train,x_test,y_train,y_test=train_test_split(X,Y,test_size=0.2,random_state=42)"
   ]
  },
  {
   "cell_type": "code",
   "execution_count": 43,
   "id": "b63e9d14-b2f9-44d5-8026-d1811d545233",
   "metadata": {},
   "outputs": [
    {
     "data": {
      "text/plain": [
       "Pipeline(steps=[('functiontransformer',\n",
       "                 FunctionTransformer(func=<function median_func at 0x000001B024229CA0>)),\n",
       "                ('standardscaler', StandardScaler()), ('svc', SVC())])"
      ]
     },
     "execution_count": 43,
     "metadata": {},
     "output_type": "execute_result"
    }
   ],
   "source": [
    "pipeline.fit(x_train,y_train)"
   ]
  },
  {
   "cell_type": "code",
   "execution_count": 44,
   "id": "8059cf5c-419e-4612-bd5e-a4f4677ff760",
   "metadata": {},
   "outputs": [
    {
     "data": {
      "text/plain": [
       "0.7374045801526717"
      ]
     },
     "execution_count": 44,
     "metadata": {},
     "output_type": "execute_result"
    }
   ],
   "source": [
    "pipeline.score(x_train,y_train)"
   ]
  },
  {
   "cell_type": "code",
   "execution_count": 45,
   "id": "c848d09b-73c7-4fdc-b3c5-025acb2a758c",
   "metadata": {},
   "outputs": [
    {
     "data": {
      "text/plain": [
       "0.6905487804878049"
      ]
     },
     "execution_count": 45,
     "metadata": {},
     "output_type": "execute_result"
    }
   ],
   "source": [
    "pipeline.score(x_test,y_test)"
   ]
  },
  {
   "cell_type": "code",
   "execution_count": 46,
   "id": "0dc6d4ed-9265-4e47-8978-fb4b43b81294",
   "metadata": {},
   "outputs": [
    {
     "data": {
      "text/plain": [
       "['pipeline.joblib']"
      ]
     },
     "execution_count": 46,
     "metadata": {},
     "output_type": "execute_result"
    }
   ],
   "source": [
    "dump(pipeline,'pipeline.joblib')"
   ]
  },
  {
   "cell_type": "code",
   "execution_count": null,
   "id": "fd16a96e-1d6c-42ab-873f-02f9b86b12e3",
   "metadata": {},
   "outputs": [],
   "source": []
  }
 ],
 "metadata": {
  "kernelspec": {
   "display_name": "Python 3 (ipykernel)",
   "language": "python",
   "name": "python3"
  },
  "language_info": {
   "codemirror_mode": {
    "name": "ipython",
    "version": 3
   },
   "file_extension": ".py",
   "mimetype": "text/x-python",
   "name": "python",
   "nbconvert_exporter": "python",
   "pygments_lexer": "ipython3",
   "version": "3.9.13"
  }
 },
 "nbformat": 4,
 "nbformat_minor": 5
}
