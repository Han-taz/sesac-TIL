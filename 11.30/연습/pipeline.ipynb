{
 "cells": [
  {
   "cell_type": "code",
   "execution_count": 1,
   "id": "ef31b53e-eaae-4ed6-bd80-0372b51f5bf1",
   "metadata": {},
   "outputs": [],
   "source": [
    "from sklearn.datasets import load_wine\n",
    "from sklearn.preprocessing import StandardScaler\n",
    "from sklearn.model_selection import train_test_split\n",
    "from sklearn.svm import SVC\n",
    "import pandas as pd"
   ]
  },
  {
   "cell_type": "code",
   "execution_count": 2,
   "id": "ec816f63-ade8-4610-8172-e2ab2d659c76",
   "metadata": {},
   "outputs": [],
   "source": [
    "wine=load_wine()"
   ]
  },
  {
   "cell_type": "code",
   "execution_count": 3,
   "id": "33ee9809-9f07-4a02-a5dd-80e7e5fa1402",
   "metadata": {},
   "outputs": [
    {
     "data": {
      "text/plain": [
       "array([[1.423e+01, 1.710e+00, 2.430e+00, ..., 1.040e+00, 3.920e+00,\n",
       "        1.065e+03],\n",
       "       [1.320e+01, 1.780e+00, 2.140e+00, ..., 1.050e+00, 3.400e+00,\n",
       "        1.050e+03],\n",
       "       [1.316e+01, 2.360e+00, 2.670e+00, ..., 1.030e+00, 3.170e+00,\n",
       "        1.185e+03],\n",
       "       ...,\n",
       "       [1.327e+01, 4.280e+00, 2.260e+00, ..., 5.900e-01, 1.560e+00,\n",
       "        8.350e+02],\n",
       "       [1.317e+01, 2.590e+00, 2.370e+00, ..., 6.000e-01, 1.620e+00,\n",
       "        8.400e+02],\n",
       "       [1.413e+01, 4.100e+00, 2.740e+00, ..., 6.100e-01, 1.600e+00,\n",
       "        5.600e+02]])"
      ]
     },
     "execution_count": 3,
     "metadata": {},
     "output_type": "execute_result"
    }
   ],
   "source": [
    "wine.data"
   ]
  },
  {
   "cell_type": "code",
   "execution_count": 4,
   "id": "047fcf12-7c77-41c7-9e3c-83840d972b99",
   "metadata": {},
   "outputs": [
    {
     "data": {
      "text/plain": [
       "array([0, 0, 0, 0, 0, 0, 0, 0, 0, 0, 0, 0, 0, 0, 0, 0, 0, 0, 0, 0, 0, 0,\n",
       "       0, 0, 0, 0, 0, 0, 0, 0, 0, 0, 0, 0, 0, 0, 0, 0, 0, 0, 0, 0, 0, 0,\n",
       "       0, 0, 0, 0, 0, 0, 0, 0, 0, 0, 0, 0, 0, 0, 0, 1, 1, 1, 1, 1, 1, 1,\n",
       "       1, 1, 1, 1, 1, 1, 1, 1, 1, 1, 1, 1, 1, 1, 1, 1, 1, 1, 1, 1, 1, 1,\n",
       "       1, 1, 1, 1, 1, 1, 1, 1, 1, 1, 1, 1, 1, 1, 1, 1, 1, 1, 1, 1, 1, 1,\n",
       "       1, 1, 1, 1, 1, 1, 1, 1, 1, 1, 1, 1, 1, 1, 1, 1, 1, 1, 1, 1, 2, 2,\n",
       "       2, 2, 2, 2, 2, 2, 2, 2, 2, 2, 2, 2, 2, 2, 2, 2, 2, 2, 2, 2, 2, 2,\n",
       "       2, 2, 2, 2, 2, 2, 2, 2, 2, 2, 2, 2, 2, 2, 2, 2, 2, 2, 2, 2, 2, 2,\n",
       "       2, 2])"
      ]
     },
     "execution_count": 4,
     "metadata": {},
     "output_type": "execute_result"
    }
   ],
   "source": [
    "wine.target"
   ]
  },
  {
   "cell_type": "code",
   "execution_count": 5,
   "id": "6c2e1446-1fc7-4e50-8c98-632492470859",
   "metadata": {},
   "outputs": [],
   "source": [
    "df=pd.DataFrame(wine.data, columns=wine.feature_names)"
   ]
  },
  {
   "cell_type": "code",
   "execution_count": 6,
   "id": "ce5b7eed-2b02-4667-9687-e6095fa8286e",
   "metadata": {},
   "outputs": [
    {
     "data": {
      "text/html": [
       "<div>\n",
       "<style scoped>\n",
       "    .dataframe tbody tr th:only-of-type {\n",
       "        vertical-align: middle;\n",
       "    }\n",
       "\n",
       "    .dataframe tbody tr th {\n",
       "        vertical-align: top;\n",
       "    }\n",
       "\n",
       "    .dataframe thead th {\n",
       "        text-align: right;\n",
       "    }\n",
       "</style>\n",
       "<table border=\"1\" class=\"dataframe\">\n",
       "  <thead>\n",
       "    <tr style=\"text-align: right;\">\n",
       "      <th></th>\n",
       "      <th>alcohol</th>\n",
       "      <th>malic_acid</th>\n",
       "      <th>ash</th>\n",
       "      <th>alcalinity_of_ash</th>\n",
       "      <th>magnesium</th>\n",
       "      <th>total_phenols</th>\n",
       "      <th>flavanoids</th>\n",
       "      <th>nonflavanoid_phenols</th>\n",
       "      <th>proanthocyanins</th>\n",
       "      <th>color_intensity</th>\n",
       "      <th>hue</th>\n",
       "      <th>od280/od315_of_diluted_wines</th>\n",
       "      <th>proline</th>\n",
       "    </tr>\n",
       "  </thead>\n",
       "  <tbody>\n",
       "    <tr>\n",
       "      <th>0</th>\n",
       "      <td>14.23</td>\n",
       "      <td>1.71</td>\n",
       "      <td>2.43</td>\n",
       "      <td>15.6</td>\n",
       "      <td>127.0</td>\n",
       "      <td>2.80</td>\n",
       "      <td>3.06</td>\n",
       "      <td>0.28</td>\n",
       "      <td>2.29</td>\n",
       "      <td>5.64</td>\n",
       "      <td>1.04</td>\n",
       "      <td>3.92</td>\n",
       "      <td>1065.0</td>\n",
       "    </tr>\n",
       "    <tr>\n",
       "      <th>1</th>\n",
       "      <td>13.20</td>\n",
       "      <td>1.78</td>\n",
       "      <td>2.14</td>\n",
       "      <td>11.2</td>\n",
       "      <td>100.0</td>\n",
       "      <td>2.65</td>\n",
       "      <td>2.76</td>\n",
       "      <td>0.26</td>\n",
       "      <td>1.28</td>\n",
       "      <td>4.38</td>\n",
       "      <td>1.05</td>\n",
       "      <td>3.40</td>\n",
       "      <td>1050.0</td>\n",
       "    </tr>\n",
       "    <tr>\n",
       "      <th>2</th>\n",
       "      <td>13.16</td>\n",
       "      <td>2.36</td>\n",
       "      <td>2.67</td>\n",
       "      <td>18.6</td>\n",
       "      <td>101.0</td>\n",
       "      <td>2.80</td>\n",
       "      <td>3.24</td>\n",
       "      <td>0.30</td>\n",
       "      <td>2.81</td>\n",
       "      <td>5.68</td>\n",
       "      <td>1.03</td>\n",
       "      <td>3.17</td>\n",
       "      <td>1185.0</td>\n",
       "    </tr>\n",
       "    <tr>\n",
       "      <th>3</th>\n",
       "      <td>14.37</td>\n",
       "      <td>1.95</td>\n",
       "      <td>2.50</td>\n",
       "      <td>16.8</td>\n",
       "      <td>113.0</td>\n",
       "      <td>3.85</td>\n",
       "      <td>3.49</td>\n",
       "      <td>0.24</td>\n",
       "      <td>2.18</td>\n",
       "      <td>7.80</td>\n",
       "      <td>0.86</td>\n",
       "      <td>3.45</td>\n",
       "      <td>1480.0</td>\n",
       "    </tr>\n",
       "    <tr>\n",
       "      <th>4</th>\n",
       "      <td>13.24</td>\n",
       "      <td>2.59</td>\n",
       "      <td>2.87</td>\n",
       "      <td>21.0</td>\n",
       "      <td>118.0</td>\n",
       "      <td>2.80</td>\n",
       "      <td>2.69</td>\n",
       "      <td>0.39</td>\n",
       "      <td>1.82</td>\n",
       "      <td>4.32</td>\n",
       "      <td>1.04</td>\n",
       "      <td>2.93</td>\n",
       "      <td>735.0</td>\n",
       "    </tr>\n",
       "    <tr>\n",
       "      <th>...</th>\n",
       "      <td>...</td>\n",
       "      <td>...</td>\n",
       "      <td>...</td>\n",
       "      <td>...</td>\n",
       "      <td>...</td>\n",
       "      <td>...</td>\n",
       "      <td>...</td>\n",
       "      <td>...</td>\n",
       "      <td>...</td>\n",
       "      <td>...</td>\n",
       "      <td>...</td>\n",
       "      <td>...</td>\n",
       "      <td>...</td>\n",
       "    </tr>\n",
       "    <tr>\n",
       "      <th>173</th>\n",
       "      <td>13.71</td>\n",
       "      <td>5.65</td>\n",
       "      <td>2.45</td>\n",
       "      <td>20.5</td>\n",
       "      <td>95.0</td>\n",
       "      <td>1.68</td>\n",
       "      <td>0.61</td>\n",
       "      <td>0.52</td>\n",
       "      <td>1.06</td>\n",
       "      <td>7.70</td>\n",
       "      <td>0.64</td>\n",
       "      <td>1.74</td>\n",
       "      <td>740.0</td>\n",
       "    </tr>\n",
       "    <tr>\n",
       "      <th>174</th>\n",
       "      <td>13.40</td>\n",
       "      <td>3.91</td>\n",
       "      <td>2.48</td>\n",
       "      <td>23.0</td>\n",
       "      <td>102.0</td>\n",
       "      <td>1.80</td>\n",
       "      <td>0.75</td>\n",
       "      <td>0.43</td>\n",
       "      <td>1.41</td>\n",
       "      <td>7.30</td>\n",
       "      <td>0.70</td>\n",
       "      <td>1.56</td>\n",
       "      <td>750.0</td>\n",
       "    </tr>\n",
       "    <tr>\n",
       "      <th>175</th>\n",
       "      <td>13.27</td>\n",
       "      <td>4.28</td>\n",
       "      <td>2.26</td>\n",
       "      <td>20.0</td>\n",
       "      <td>120.0</td>\n",
       "      <td>1.59</td>\n",
       "      <td>0.69</td>\n",
       "      <td>0.43</td>\n",
       "      <td>1.35</td>\n",
       "      <td>10.20</td>\n",
       "      <td>0.59</td>\n",
       "      <td>1.56</td>\n",
       "      <td>835.0</td>\n",
       "    </tr>\n",
       "    <tr>\n",
       "      <th>176</th>\n",
       "      <td>13.17</td>\n",
       "      <td>2.59</td>\n",
       "      <td>2.37</td>\n",
       "      <td>20.0</td>\n",
       "      <td>120.0</td>\n",
       "      <td>1.65</td>\n",
       "      <td>0.68</td>\n",
       "      <td>0.53</td>\n",
       "      <td>1.46</td>\n",
       "      <td>9.30</td>\n",
       "      <td>0.60</td>\n",
       "      <td>1.62</td>\n",
       "      <td>840.0</td>\n",
       "    </tr>\n",
       "    <tr>\n",
       "      <th>177</th>\n",
       "      <td>14.13</td>\n",
       "      <td>4.10</td>\n",
       "      <td>2.74</td>\n",
       "      <td>24.5</td>\n",
       "      <td>96.0</td>\n",
       "      <td>2.05</td>\n",
       "      <td>0.76</td>\n",
       "      <td>0.56</td>\n",
       "      <td>1.35</td>\n",
       "      <td>9.20</td>\n",
       "      <td>0.61</td>\n",
       "      <td>1.60</td>\n",
       "      <td>560.0</td>\n",
       "    </tr>\n",
       "  </tbody>\n",
       "</table>\n",
       "<p>178 rows × 13 columns</p>\n",
       "</div>"
      ],
      "text/plain": [
       "     alcohol  malic_acid   ash  alcalinity_of_ash  magnesium  total_phenols  \\\n",
       "0      14.23        1.71  2.43               15.6      127.0           2.80   \n",
       "1      13.20        1.78  2.14               11.2      100.0           2.65   \n",
       "2      13.16        2.36  2.67               18.6      101.0           2.80   \n",
       "3      14.37        1.95  2.50               16.8      113.0           3.85   \n",
       "4      13.24        2.59  2.87               21.0      118.0           2.80   \n",
       "..       ...         ...   ...                ...        ...            ...   \n",
       "173    13.71        5.65  2.45               20.5       95.0           1.68   \n",
       "174    13.40        3.91  2.48               23.0      102.0           1.80   \n",
       "175    13.27        4.28  2.26               20.0      120.0           1.59   \n",
       "176    13.17        2.59  2.37               20.0      120.0           1.65   \n",
       "177    14.13        4.10  2.74               24.5       96.0           2.05   \n",
       "\n",
       "     flavanoids  nonflavanoid_phenols  proanthocyanins  color_intensity   hue  \\\n",
       "0          3.06                  0.28             2.29             5.64  1.04   \n",
       "1          2.76                  0.26             1.28             4.38  1.05   \n",
       "2          3.24                  0.30             2.81             5.68  1.03   \n",
       "3          3.49                  0.24             2.18             7.80  0.86   \n",
       "4          2.69                  0.39             1.82             4.32  1.04   \n",
       "..          ...                   ...              ...              ...   ...   \n",
       "173        0.61                  0.52             1.06             7.70  0.64   \n",
       "174        0.75                  0.43             1.41             7.30  0.70   \n",
       "175        0.69                  0.43             1.35            10.20  0.59   \n",
       "176        0.68                  0.53             1.46             9.30  0.60   \n",
       "177        0.76                  0.56             1.35             9.20  0.61   \n",
       "\n",
       "     od280/od315_of_diluted_wines  proline  \n",
       "0                            3.92   1065.0  \n",
       "1                            3.40   1050.0  \n",
       "2                            3.17   1185.0  \n",
       "3                            3.45   1480.0  \n",
       "4                            2.93    735.0  \n",
       "..                            ...      ...  \n",
       "173                          1.74    740.0  \n",
       "174                          1.56    750.0  \n",
       "175                          1.56    835.0  \n",
       "176                          1.62    840.0  \n",
       "177                          1.60    560.0  \n",
       "\n",
       "[178 rows x 13 columns]"
      ]
     },
     "execution_count": 6,
     "metadata": {},
     "output_type": "execute_result"
    }
   ],
   "source": [
    "df"
   ]
  },
  {
   "cell_type": "code",
   "execution_count": 7,
   "id": "c7785217-7c2a-487c-94e1-507bba477410",
   "metadata": {},
   "outputs": [],
   "source": [
    "df['target']=wine.target"
   ]
  },
  {
   "cell_type": "code",
   "execution_count": 8,
   "id": "9169660f-56b9-452b-bc0a-6db5b61a3b46",
   "metadata": {},
   "outputs": [],
   "source": [
    "scaler=StandardScaler()"
   ]
  },
  {
   "cell_type": "code",
   "execution_count": 9,
   "id": "af7b59db-b1ca-48ca-b5a9-3d26cf63bcc9",
   "metadata": {},
   "outputs": [],
   "source": [
    "X=df.drop('target',axis=1)\n",
    "Y=df['target']"
   ]
  },
  {
   "cell_type": "code",
   "execution_count": 10,
   "id": "0ff32aca-0e59-4e95-bb3a-d6a450a60a36",
   "metadata": {},
   "outputs": [
    {
     "name": "stdout",
     "output_type": "stream",
     "text": [
      "(178, 13)\n",
      "(178,)\n"
     ]
    }
   ],
   "source": [
    "print(X.shape)\n",
    "print(Y.shape)"
   ]
  },
  {
   "cell_type": "code",
   "execution_count": 11,
   "id": "3ad855ca-e7e2-45db-891b-d591a4e3729c",
   "metadata": {},
   "outputs": [],
   "source": [
    "scaler_x=scaler.fit_transform(X)"
   ]
  },
  {
   "cell_type": "code",
   "execution_count": 14,
   "id": "e9534ffd-516d-4389-b428-631abcb7d84c",
   "metadata": {},
   "outputs": [],
   "source": [
    "x_train,x_test,y_train,y_test=train_test_split(scaler_x,Y,test_size=0.2,random_state=42)"
   ]
  },
  {
   "cell_type": "code",
   "execution_count": 15,
   "id": "8272b13c-654d-4658-acba-81bec904f708",
   "metadata": {},
   "outputs": [
    {
     "name": "stdout",
     "output_type": "stream",
     "text": [
      "(142, 13) (142,)\n",
      "(36, 13) (36,)\n"
     ]
    }
   ],
   "source": [
    "print(x_train.shape,y_train.shape)\n",
    "print(x_test.shape,y_test.shape)"
   ]
  },
  {
   "cell_type": "code",
   "execution_count": 17,
   "id": "1a880098-86b1-4e07-bbe4-acf45ccf75ae",
   "metadata": {},
   "outputs": [],
   "source": [
    "model=SVC()"
   ]
  },
  {
   "cell_type": "code",
   "execution_count": 18,
   "id": "85140c8b-9e2f-4bc0-b5e7-3deecef82aa1",
   "metadata": {},
   "outputs": [
    {
     "data": {
      "text/plain": [
       "SVC()"
      ]
     },
     "execution_count": 18,
     "metadata": {},
     "output_type": "execute_result"
    }
   ],
   "source": [
    "model.fit(x_train,y_train)"
   ]
  },
  {
   "cell_type": "code",
   "execution_count": 19,
   "id": "34d360ea-fab6-4c4e-9806-c6cdb8722883",
   "metadata": {},
   "outputs": [
    {
     "data": {
      "text/plain": [
       "1.0"
      ]
     },
     "execution_count": 19,
     "metadata": {},
     "output_type": "execute_result"
    }
   ],
   "source": [
    "model.score(x_train,y_train)"
   ]
  },
  {
   "cell_type": "code",
   "execution_count": 20,
   "id": "70a40c2f-16b8-47c6-adc6-5ad3d052c441",
   "metadata": {},
   "outputs": [
    {
     "data": {
      "text/plain": [
       "1.0"
      ]
     },
     "execution_count": 20,
     "metadata": {},
     "output_type": "execute_result"
    }
   ],
   "source": [
    "model.score(x_test,y_test)"
   ]
  },
  {
   "cell_type": "code",
   "execution_count": 21,
   "id": "0244242a-cdd1-4de7-b9d9-7c1e705cc815",
   "metadata": {},
   "outputs": [
    {
     "data": {
      "text/plain": [
       "array([1.30006180e+01, 2.33634831e+00, 2.36651685e+00, 1.94949438e+01,\n",
       "       9.97415730e+01, 2.29511236e+00, 2.02926966e+00, 3.61853933e-01,\n",
       "       1.59089888e+00, 5.05808988e+00, 9.57449438e-01, 2.61168539e+00,\n",
       "       7.46893258e+02])"
      ]
     },
     "execution_count": 21,
     "metadata": {},
     "output_type": "execute_result"
    }
   ],
   "source": [
    "scaler.mean_"
   ]
  },
  {
   "cell_type": "code",
   "execution_count": 22,
   "id": "4257e53b-120f-4b94-a818-8e298b18beb8",
   "metadata": {},
   "outputs": [],
   "source": [
    "from sklearn.pipeline import Pipeline"
   ]
  },
  {
   "cell_type": "code",
   "execution_count": 25,
   "id": "cbbf974f-c586-458b-8242-2590df1fe619",
   "metadata": {},
   "outputs": [],
   "source": [
    "from sklearn.pipeline import make_pipeline"
   ]
  },
  {
   "cell_type": "code",
   "execution_count": 23,
   "id": "9b5b9406-9e96-49f3-887f-2d97f58a20eb",
   "metadata": {},
   "outputs": [],
   "source": [
    "from sklearn import set_config"
   ]
  },
  {
   "cell_type": "code",
   "execution_count": 24,
   "id": "3dfae4ca-d491-41ef-b98b-d432a225b427",
   "metadata": {},
   "outputs": [],
   "source": [
    "set_config(display=\"diagram\")"
   ]
  },
  {
   "cell_type": "code",
   "execution_count": 33,
   "id": "e17ad16a-d6db-48c7-9a52-a83d54daa09c",
   "metadata": {},
   "outputs": [],
   "source": [
    "pipeline=make_pipeline(StandardScaler(),SVC())"
   ]
  },
  {
   "cell_type": "code",
   "execution_count": 34,
   "id": "64d0881c-eb59-49a3-949f-747adea7ab2f",
   "metadata": {},
   "outputs": [
    {
     "data": {
      "text/plain": [
       "{'standardscaler': StandardScaler(), 'svc': SVC()}"
      ]
     },
     "execution_count": 34,
     "metadata": {},
     "output_type": "execute_result"
    }
   ],
   "source": [
    "pipeline.named_steps"
   ]
  },
  {
   "cell_type": "code",
   "execution_count": 35,
   "id": "8595844c-f0e3-4800-8264-dfac4b351459",
   "metadata": {},
   "outputs": [
    {
     "data": {
      "text/html": [
       "<style>#sk-663300d9-b664-45b0-9c94-011986986404 {color: black;background-color: white;}#sk-663300d9-b664-45b0-9c94-011986986404 pre{padding: 0;}#sk-663300d9-b664-45b0-9c94-011986986404 div.sk-toggleable {background-color: white;}#sk-663300d9-b664-45b0-9c94-011986986404 label.sk-toggleable__label {cursor: pointer;display: block;width: 100%;margin-bottom: 0;padding: 0.3em;box-sizing: border-box;text-align: center;}#sk-663300d9-b664-45b0-9c94-011986986404 label.sk-toggleable__label-arrow:before {content: \"▸\";float: left;margin-right: 0.25em;color: #696969;}#sk-663300d9-b664-45b0-9c94-011986986404 label.sk-toggleable__label-arrow:hover:before {color: black;}#sk-663300d9-b664-45b0-9c94-011986986404 div.sk-estimator:hover label.sk-toggleable__label-arrow:before {color: black;}#sk-663300d9-b664-45b0-9c94-011986986404 div.sk-toggleable__content {max-height: 0;max-width: 0;overflow: hidden;text-align: left;background-color: #f0f8ff;}#sk-663300d9-b664-45b0-9c94-011986986404 div.sk-toggleable__content pre {margin: 0.2em;color: black;border-radius: 0.25em;background-color: #f0f8ff;}#sk-663300d9-b664-45b0-9c94-011986986404 input.sk-toggleable__control:checked~div.sk-toggleable__content {max-height: 200px;max-width: 100%;overflow: auto;}#sk-663300d9-b664-45b0-9c94-011986986404 input.sk-toggleable__control:checked~label.sk-toggleable__label-arrow:before {content: \"▾\";}#sk-663300d9-b664-45b0-9c94-011986986404 div.sk-estimator input.sk-toggleable__control:checked~label.sk-toggleable__label {background-color: #d4ebff;}#sk-663300d9-b664-45b0-9c94-011986986404 div.sk-label input.sk-toggleable__control:checked~label.sk-toggleable__label {background-color: #d4ebff;}#sk-663300d9-b664-45b0-9c94-011986986404 input.sk-hidden--visually {border: 0;clip: rect(1px 1px 1px 1px);clip: rect(1px, 1px, 1px, 1px);height: 1px;margin: -1px;overflow: hidden;padding: 0;position: absolute;width: 1px;}#sk-663300d9-b664-45b0-9c94-011986986404 div.sk-estimator {font-family: monospace;background-color: #f0f8ff;border: 1px dotted black;border-radius: 0.25em;box-sizing: border-box;margin-bottom: 0.5em;}#sk-663300d9-b664-45b0-9c94-011986986404 div.sk-estimator:hover {background-color: #d4ebff;}#sk-663300d9-b664-45b0-9c94-011986986404 div.sk-parallel-item::after {content: \"\";width: 100%;border-bottom: 1px solid gray;flex-grow: 1;}#sk-663300d9-b664-45b0-9c94-011986986404 div.sk-label:hover label.sk-toggleable__label {background-color: #d4ebff;}#sk-663300d9-b664-45b0-9c94-011986986404 div.sk-serial::before {content: \"\";position: absolute;border-left: 1px solid gray;box-sizing: border-box;top: 2em;bottom: 0;left: 50%;}#sk-663300d9-b664-45b0-9c94-011986986404 div.sk-serial {display: flex;flex-direction: column;align-items: center;background-color: white;padding-right: 0.2em;padding-left: 0.2em;}#sk-663300d9-b664-45b0-9c94-011986986404 div.sk-item {z-index: 1;}#sk-663300d9-b664-45b0-9c94-011986986404 div.sk-parallel {display: flex;align-items: stretch;justify-content: center;background-color: white;}#sk-663300d9-b664-45b0-9c94-011986986404 div.sk-parallel::before {content: \"\";position: absolute;border-left: 1px solid gray;box-sizing: border-box;top: 2em;bottom: 0;left: 50%;}#sk-663300d9-b664-45b0-9c94-011986986404 div.sk-parallel-item {display: flex;flex-direction: column;position: relative;background-color: white;}#sk-663300d9-b664-45b0-9c94-011986986404 div.sk-parallel-item:first-child::after {align-self: flex-end;width: 50%;}#sk-663300d9-b664-45b0-9c94-011986986404 div.sk-parallel-item:last-child::after {align-self: flex-start;width: 50%;}#sk-663300d9-b664-45b0-9c94-011986986404 div.sk-parallel-item:only-child::after {width: 0;}#sk-663300d9-b664-45b0-9c94-011986986404 div.sk-dashed-wrapped {border: 1px dashed gray;margin: 0 0.4em 0.5em 0.4em;box-sizing: border-box;padding-bottom: 0.4em;background-color: white;position: relative;}#sk-663300d9-b664-45b0-9c94-011986986404 div.sk-label label {font-family: monospace;font-weight: bold;background-color: white;display: inline-block;line-height: 1.2em;}#sk-663300d9-b664-45b0-9c94-011986986404 div.sk-label-container {position: relative;z-index: 2;text-align: center;}#sk-663300d9-b664-45b0-9c94-011986986404 div.sk-container {/* jupyter's `normalize.less` sets `[hidden] { display: none; }` but bootstrap.min.css set `[hidden] { display: none !important; }` so we also need the `!important` here to be able to override the default hidden behavior on the sphinx rendered scikit-learn.org. See: https://github.com/scikit-learn/scikit-learn/issues/21755 */display: inline-block !important;position: relative;}#sk-663300d9-b664-45b0-9c94-011986986404 div.sk-text-repr-fallback {display: none;}</style><div id=\"sk-663300d9-b664-45b0-9c94-011986986404\" class=\"sk-top-container\"><div class=\"sk-text-repr-fallback\"><pre>Pipeline(steps=[(&#x27;standardscaler&#x27;, StandardScaler()), (&#x27;svc&#x27;, SVC())])</pre><b>Please rerun this cell to show the HTML repr or trust the notebook.</b></div><div class=\"sk-container\" hidden><div class=\"sk-item sk-dashed-wrapped\"><div class=\"sk-label-container\"><div class=\"sk-label sk-toggleable\"><input class=\"sk-toggleable__control sk-hidden--visually\" id=\"de913f22-4886-4676-92f2-e5ddce237eb8\" type=\"checkbox\" ><label for=\"de913f22-4886-4676-92f2-e5ddce237eb8\" class=\"sk-toggleable__label sk-toggleable__label-arrow\">Pipeline</label><div class=\"sk-toggleable__content\"><pre>Pipeline(steps=[(&#x27;standardscaler&#x27;, StandardScaler()), (&#x27;svc&#x27;, SVC())])</pre></div></div></div><div class=\"sk-serial\"><div class=\"sk-item\"><div class=\"sk-estimator sk-toggleable\"><input class=\"sk-toggleable__control sk-hidden--visually\" id=\"5f3bc786-f098-47a7-8b7f-5bb49e6789ee\" type=\"checkbox\" ><label for=\"5f3bc786-f098-47a7-8b7f-5bb49e6789ee\" class=\"sk-toggleable__label sk-toggleable__label-arrow\">StandardScaler</label><div class=\"sk-toggleable__content\"><pre>StandardScaler()</pre></div></div></div><div class=\"sk-item\"><div class=\"sk-estimator sk-toggleable\"><input class=\"sk-toggleable__control sk-hidden--visually\" id=\"9d8251e7-1026-4a38-8794-b5b52c12833f\" type=\"checkbox\" ><label for=\"9d8251e7-1026-4a38-8794-b5b52c12833f\" class=\"sk-toggleable__label sk-toggleable__label-arrow\">SVC</label><div class=\"sk-toggleable__content\"><pre>SVC()</pre></div></div></div></div></div></div></div>"
      ],
      "text/plain": [
       "Pipeline(steps=[('standardscaler', StandardScaler()), ('svc', SVC())])"
      ]
     },
     "execution_count": 35,
     "metadata": {},
     "output_type": "execute_result"
    }
   ],
   "source": [
    "pipeline.fit(x_train,y_train)"
   ]
  },
  {
   "cell_type": "code",
   "execution_count": 36,
   "id": "79923807-df72-4f42-8660-3ab636054e4c",
   "metadata": {},
   "outputs": [
    {
     "data": {
      "text/plain": [
       "1.0"
      ]
     },
     "execution_count": 36,
     "metadata": {},
     "output_type": "execute_result"
    }
   ],
   "source": [
    "pipeline.score(x_train,y_train)"
   ]
  },
  {
   "cell_type": "code",
   "execution_count": 37,
   "id": "b2a4d109-b46c-49b9-a229-f04e06ef0eca",
   "metadata": {},
   "outputs": [
    {
     "data": {
      "text/plain": [
       "1.0"
      ]
     },
     "execution_count": 37,
     "metadata": {},
     "output_type": "execute_result"
    }
   ],
   "source": [
    "pipeline.score(x_test,y_test)"
   ]
  },
  {
   "cell_type": "code",
   "execution_count": 38,
   "id": "5ecd8b11-117f-4f29-b4c7-eb58fdf7e648",
   "metadata": {},
   "outputs": [
    {
     "data": {
      "text/plain": [
       "array([-0.02659954,  0.03336866, -0.0207323 , -0.0065175 ,  0.04929601,\n",
       "       -0.00965862, -0.02726471,  0.0497508 ,  0.03001196, -0.00020947,\n",
       "       -0.00469075, -0.02665067, -0.0382104 ])"
      ]
     },
     "execution_count": 38,
     "metadata": {},
     "output_type": "execute_result"
    }
   ],
   "source": [
    "pipeline.named_steps['standardscaler'].mean_"
   ]
  },
  {
   "cell_type": "code",
   "execution_count": 39,
   "id": "809d6558-c98c-4cee-bc01-9f6306a05045",
   "metadata": {},
   "outputs": [],
   "source": [
    "from joblib import dump,load"
   ]
  },
  {
   "cell_type": "code",
   "execution_count": 40,
   "id": "651644f7-6145-400d-a239-ec9bd18b6dd4",
   "metadata": {},
   "outputs": [
    {
     "data": {
      "text/plain": [
       "['pipeline.joblib']"
      ]
     },
     "execution_count": 40,
     "metadata": {},
     "output_type": "execute_result"
    }
   ],
   "source": [
    "dump(pipeline,'pipeline.joblib')"
   ]
  },
  {
   "cell_type": "code",
   "execution_count": 41,
   "id": "915b61c6-0d62-49a8-83b5-bc96a4111bba",
   "metadata": {},
   "outputs": [],
   "source": [
    "load_pipeline=load('pipeline.joblib')"
   ]
  },
  {
   "cell_type": "code",
   "execution_count": 42,
   "id": "acf70772-652b-424a-a287-bf70dc80af49",
   "metadata": {},
   "outputs": [
    {
     "data": {
      "text/html": [
       "<style>#sk-7eea0702-88e0-4915-b415-09a308ac5ea4 {color: black;background-color: white;}#sk-7eea0702-88e0-4915-b415-09a308ac5ea4 pre{padding: 0;}#sk-7eea0702-88e0-4915-b415-09a308ac5ea4 div.sk-toggleable {background-color: white;}#sk-7eea0702-88e0-4915-b415-09a308ac5ea4 label.sk-toggleable__label {cursor: pointer;display: block;width: 100%;margin-bottom: 0;padding: 0.3em;box-sizing: border-box;text-align: center;}#sk-7eea0702-88e0-4915-b415-09a308ac5ea4 label.sk-toggleable__label-arrow:before {content: \"▸\";float: left;margin-right: 0.25em;color: #696969;}#sk-7eea0702-88e0-4915-b415-09a308ac5ea4 label.sk-toggleable__label-arrow:hover:before {color: black;}#sk-7eea0702-88e0-4915-b415-09a308ac5ea4 div.sk-estimator:hover label.sk-toggleable__label-arrow:before {color: black;}#sk-7eea0702-88e0-4915-b415-09a308ac5ea4 div.sk-toggleable__content {max-height: 0;max-width: 0;overflow: hidden;text-align: left;background-color: #f0f8ff;}#sk-7eea0702-88e0-4915-b415-09a308ac5ea4 div.sk-toggleable__content pre {margin: 0.2em;color: black;border-radius: 0.25em;background-color: #f0f8ff;}#sk-7eea0702-88e0-4915-b415-09a308ac5ea4 input.sk-toggleable__control:checked~div.sk-toggleable__content {max-height: 200px;max-width: 100%;overflow: auto;}#sk-7eea0702-88e0-4915-b415-09a308ac5ea4 input.sk-toggleable__control:checked~label.sk-toggleable__label-arrow:before {content: \"▾\";}#sk-7eea0702-88e0-4915-b415-09a308ac5ea4 div.sk-estimator input.sk-toggleable__control:checked~label.sk-toggleable__label {background-color: #d4ebff;}#sk-7eea0702-88e0-4915-b415-09a308ac5ea4 div.sk-label input.sk-toggleable__control:checked~label.sk-toggleable__label {background-color: #d4ebff;}#sk-7eea0702-88e0-4915-b415-09a308ac5ea4 input.sk-hidden--visually {border: 0;clip: rect(1px 1px 1px 1px);clip: rect(1px, 1px, 1px, 1px);height: 1px;margin: -1px;overflow: hidden;padding: 0;position: absolute;width: 1px;}#sk-7eea0702-88e0-4915-b415-09a308ac5ea4 div.sk-estimator {font-family: monospace;background-color: #f0f8ff;border: 1px dotted black;border-radius: 0.25em;box-sizing: border-box;margin-bottom: 0.5em;}#sk-7eea0702-88e0-4915-b415-09a308ac5ea4 div.sk-estimator:hover {background-color: #d4ebff;}#sk-7eea0702-88e0-4915-b415-09a308ac5ea4 div.sk-parallel-item::after {content: \"\";width: 100%;border-bottom: 1px solid gray;flex-grow: 1;}#sk-7eea0702-88e0-4915-b415-09a308ac5ea4 div.sk-label:hover label.sk-toggleable__label {background-color: #d4ebff;}#sk-7eea0702-88e0-4915-b415-09a308ac5ea4 div.sk-serial::before {content: \"\";position: absolute;border-left: 1px solid gray;box-sizing: border-box;top: 2em;bottom: 0;left: 50%;}#sk-7eea0702-88e0-4915-b415-09a308ac5ea4 div.sk-serial {display: flex;flex-direction: column;align-items: center;background-color: white;padding-right: 0.2em;padding-left: 0.2em;}#sk-7eea0702-88e0-4915-b415-09a308ac5ea4 div.sk-item {z-index: 1;}#sk-7eea0702-88e0-4915-b415-09a308ac5ea4 div.sk-parallel {display: flex;align-items: stretch;justify-content: center;background-color: white;}#sk-7eea0702-88e0-4915-b415-09a308ac5ea4 div.sk-parallel::before {content: \"\";position: absolute;border-left: 1px solid gray;box-sizing: border-box;top: 2em;bottom: 0;left: 50%;}#sk-7eea0702-88e0-4915-b415-09a308ac5ea4 div.sk-parallel-item {display: flex;flex-direction: column;position: relative;background-color: white;}#sk-7eea0702-88e0-4915-b415-09a308ac5ea4 div.sk-parallel-item:first-child::after {align-self: flex-end;width: 50%;}#sk-7eea0702-88e0-4915-b415-09a308ac5ea4 div.sk-parallel-item:last-child::after {align-self: flex-start;width: 50%;}#sk-7eea0702-88e0-4915-b415-09a308ac5ea4 div.sk-parallel-item:only-child::after {width: 0;}#sk-7eea0702-88e0-4915-b415-09a308ac5ea4 div.sk-dashed-wrapped {border: 1px dashed gray;margin: 0 0.4em 0.5em 0.4em;box-sizing: border-box;padding-bottom: 0.4em;background-color: white;position: relative;}#sk-7eea0702-88e0-4915-b415-09a308ac5ea4 div.sk-label label {font-family: monospace;font-weight: bold;background-color: white;display: inline-block;line-height: 1.2em;}#sk-7eea0702-88e0-4915-b415-09a308ac5ea4 div.sk-label-container {position: relative;z-index: 2;text-align: center;}#sk-7eea0702-88e0-4915-b415-09a308ac5ea4 div.sk-container {/* jupyter's `normalize.less` sets `[hidden] { display: none; }` but bootstrap.min.css set `[hidden] { display: none !important; }` so we also need the `!important` here to be able to override the default hidden behavior on the sphinx rendered scikit-learn.org. See: https://github.com/scikit-learn/scikit-learn/issues/21755 */display: inline-block !important;position: relative;}#sk-7eea0702-88e0-4915-b415-09a308ac5ea4 div.sk-text-repr-fallback {display: none;}</style><div id=\"sk-7eea0702-88e0-4915-b415-09a308ac5ea4\" class=\"sk-top-container\"><div class=\"sk-text-repr-fallback\"><pre>Pipeline(steps=[(&#x27;standardscaler&#x27;, StandardScaler()), (&#x27;svc&#x27;, SVC())])</pre><b>Please rerun this cell to show the HTML repr or trust the notebook.</b></div><div class=\"sk-container\" hidden><div class=\"sk-item sk-dashed-wrapped\"><div class=\"sk-label-container\"><div class=\"sk-label sk-toggleable\"><input class=\"sk-toggleable__control sk-hidden--visually\" id=\"1d77db16-85d5-4608-8337-7529578ee0db\" type=\"checkbox\" ><label for=\"1d77db16-85d5-4608-8337-7529578ee0db\" class=\"sk-toggleable__label sk-toggleable__label-arrow\">Pipeline</label><div class=\"sk-toggleable__content\"><pre>Pipeline(steps=[(&#x27;standardscaler&#x27;, StandardScaler()), (&#x27;svc&#x27;, SVC())])</pre></div></div></div><div class=\"sk-serial\"><div class=\"sk-item\"><div class=\"sk-estimator sk-toggleable\"><input class=\"sk-toggleable__control sk-hidden--visually\" id=\"3f32fda7-dcc9-4ec0-b588-e456da0600cc\" type=\"checkbox\" ><label for=\"3f32fda7-dcc9-4ec0-b588-e456da0600cc\" class=\"sk-toggleable__label sk-toggleable__label-arrow\">StandardScaler</label><div class=\"sk-toggleable__content\"><pre>StandardScaler()</pre></div></div></div><div class=\"sk-item\"><div class=\"sk-estimator sk-toggleable\"><input class=\"sk-toggleable__control sk-hidden--visually\" id=\"b663cc71-bf35-49dd-ad7e-a6cf2ad2986e\" type=\"checkbox\" ><label for=\"b663cc71-bf35-49dd-ad7e-a6cf2ad2986e\" class=\"sk-toggleable__label sk-toggleable__label-arrow\">SVC</label><div class=\"sk-toggleable__content\"><pre>SVC()</pre></div></div></div></div></div></div></div>"
      ],
      "text/plain": [
       "Pipeline(steps=[('standardscaler', StandardScaler()), ('svc', SVC())])"
      ]
     },
     "execution_count": 42,
     "metadata": {},
     "output_type": "execute_result"
    }
   ],
   "source": [
    "load_pipeline.fit(x_train,y_train)"
   ]
  },
  {
   "cell_type": "code",
   "execution_count": 43,
   "id": "110819be-3a6b-4452-9474-94fc85fab9d1",
   "metadata": {},
   "outputs": [],
   "source": [
    "from sklearn.preprocessing import FunctionTransformer"
   ]
  },
  {
   "cell_type": "code",
   "execution_count": 44,
   "id": "ac0f33df-51c3-437e-9d0b-b89486c91ccb",
   "metadata": {},
   "outputs": [],
   "source": [
    "def func(x):\n",
    "    print('Before X',x)\n",
    "    x=x+1\n",
    "    print('After X',x)\n",
    "    return x"
   ]
  },
  {
   "cell_type": "code",
   "execution_count": 45,
   "id": "6a096260-dfe2-462e-97a7-0193b1be52ef",
   "metadata": {},
   "outputs": [
    {
     "data": {
      "text/html": [
       "<style>#sk-0db8f4c8-0577-4ee2-a9ba-3ec3eea68084 {color: black;background-color: white;}#sk-0db8f4c8-0577-4ee2-a9ba-3ec3eea68084 pre{padding: 0;}#sk-0db8f4c8-0577-4ee2-a9ba-3ec3eea68084 div.sk-toggleable {background-color: white;}#sk-0db8f4c8-0577-4ee2-a9ba-3ec3eea68084 label.sk-toggleable__label {cursor: pointer;display: block;width: 100%;margin-bottom: 0;padding: 0.3em;box-sizing: border-box;text-align: center;}#sk-0db8f4c8-0577-4ee2-a9ba-3ec3eea68084 label.sk-toggleable__label-arrow:before {content: \"▸\";float: left;margin-right: 0.25em;color: #696969;}#sk-0db8f4c8-0577-4ee2-a9ba-3ec3eea68084 label.sk-toggleable__label-arrow:hover:before {color: black;}#sk-0db8f4c8-0577-4ee2-a9ba-3ec3eea68084 div.sk-estimator:hover label.sk-toggleable__label-arrow:before {color: black;}#sk-0db8f4c8-0577-4ee2-a9ba-3ec3eea68084 div.sk-toggleable__content {max-height: 0;max-width: 0;overflow: hidden;text-align: left;background-color: #f0f8ff;}#sk-0db8f4c8-0577-4ee2-a9ba-3ec3eea68084 div.sk-toggleable__content pre {margin: 0.2em;color: black;border-radius: 0.25em;background-color: #f0f8ff;}#sk-0db8f4c8-0577-4ee2-a9ba-3ec3eea68084 input.sk-toggleable__control:checked~div.sk-toggleable__content {max-height: 200px;max-width: 100%;overflow: auto;}#sk-0db8f4c8-0577-4ee2-a9ba-3ec3eea68084 input.sk-toggleable__control:checked~label.sk-toggleable__label-arrow:before {content: \"▾\";}#sk-0db8f4c8-0577-4ee2-a9ba-3ec3eea68084 div.sk-estimator input.sk-toggleable__control:checked~label.sk-toggleable__label {background-color: #d4ebff;}#sk-0db8f4c8-0577-4ee2-a9ba-3ec3eea68084 div.sk-label input.sk-toggleable__control:checked~label.sk-toggleable__label {background-color: #d4ebff;}#sk-0db8f4c8-0577-4ee2-a9ba-3ec3eea68084 input.sk-hidden--visually {border: 0;clip: rect(1px 1px 1px 1px);clip: rect(1px, 1px, 1px, 1px);height: 1px;margin: -1px;overflow: hidden;padding: 0;position: absolute;width: 1px;}#sk-0db8f4c8-0577-4ee2-a9ba-3ec3eea68084 div.sk-estimator {font-family: monospace;background-color: #f0f8ff;border: 1px dotted black;border-radius: 0.25em;box-sizing: border-box;margin-bottom: 0.5em;}#sk-0db8f4c8-0577-4ee2-a9ba-3ec3eea68084 div.sk-estimator:hover {background-color: #d4ebff;}#sk-0db8f4c8-0577-4ee2-a9ba-3ec3eea68084 div.sk-parallel-item::after {content: \"\";width: 100%;border-bottom: 1px solid gray;flex-grow: 1;}#sk-0db8f4c8-0577-4ee2-a9ba-3ec3eea68084 div.sk-label:hover label.sk-toggleable__label {background-color: #d4ebff;}#sk-0db8f4c8-0577-4ee2-a9ba-3ec3eea68084 div.sk-serial::before {content: \"\";position: absolute;border-left: 1px solid gray;box-sizing: border-box;top: 2em;bottom: 0;left: 50%;}#sk-0db8f4c8-0577-4ee2-a9ba-3ec3eea68084 div.sk-serial {display: flex;flex-direction: column;align-items: center;background-color: white;padding-right: 0.2em;padding-left: 0.2em;}#sk-0db8f4c8-0577-4ee2-a9ba-3ec3eea68084 div.sk-item {z-index: 1;}#sk-0db8f4c8-0577-4ee2-a9ba-3ec3eea68084 div.sk-parallel {display: flex;align-items: stretch;justify-content: center;background-color: white;}#sk-0db8f4c8-0577-4ee2-a9ba-3ec3eea68084 div.sk-parallel::before {content: \"\";position: absolute;border-left: 1px solid gray;box-sizing: border-box;top: 2em;bottom: 0;left: 50%;}#sk-0db8f4c8-0577-4ee2-a9ba-3ec3eea68084 div.sk-parallel-item {display: flex;flex-direction: column;position: relative;background-color: white;}#sk-0db8f4c8-0577-4ee2-a9ba-3ec3eea68084 div.sk-parallel-item:first-child::after {align-self: flex-end;width: 50%;}#sk-0db8f4c8-0577-4ee2-a9ba-3ec3eea68084 div.sk-parallel-item:last-child::after {align-self: flex-start;width: 50%;}#sk-0db8f4c8-0577-4ee2-a9ba-3ec3eea68084 div.sk-parallel-item:only-child::after {width: 0;}#sk-0db8f4c8-0577-4ee2-a9ba-3ec3eea68084 div.sk-dashed-wrapped {border: 1px dashed gray;margin: 0 0.4em 0.5em 0.4em;box-sizing: border-box;padding-bottom: 0.4em;background-color: white;position: relative;}#sk-0db8f4c8-0577-4ee2-a9ba-3ec3eea68084 div.sk-label label {font-family: monospace;font-weight: bold;background-color: white;display: inline-block;line-height: 1.2em;}#sk-0db8f4c8-0577-4ee2-a9ba-3ec3eea68084 div.sk-label-container {position: relative;z-index: 2;text-align: center;}#sk-0db8f4c8-0577-4ee2-a9ba-3ec3eea68084 div.sk-container {/* jupyter's `normalize.less` sets `[hidden] { display: none; }` but bootstrap.min.css set `[hidden] { display: none !important; }` so we also need the `!important` here to be able to override the default hidden behavior on the sphinx rendered scikit-learn.org. See: https://github.com/scikit-learn/scikit-learn/issues/21755 */display: inline-block !important;position: relative;}#sk-0db8f4c8-0577-4ee2-a9ba-3ec3eea68084 div.sk-text-repr-fallback {display: none;}</style><div id=\"sk-0db8f4c8-0577-4ee2-a9ba-3ec3eea68084\" class=\"sk-top-container\"><div class=\"sk-text-repr-fallback\"><pre>FunctionTransformer(func=&lt;function func at 0x000001D98FF29CA0&gt;)</pre><b>Please rerun this cell to show the HTML repr or trust the notebook.</b></div><div class=\"sk-container\" hidden><div class=\"sk-item\"><div class=\"sk-estimator sk-toggleable\"><input class=\"sk-toggleable__control sk-hidden--visually\" id=\"17d3a565-6a5f-4fce-a8c6-1f4f03374935\" type=\"checkbox\" checked><label for=\"17d3a565-6a5f-4fce-a8c6-1f4f03374935\" class=\"sk-toggleable__label sk-toggleable__label-arrow\">FunctionTransformer</label><div class=\"sk-toggleable__content\"><pre>FunctionTransformer(func=&lt;function func at 0x000001D98FF29CA0&gt;)</pre></div></div></div></div></div>"
      ],
      "text/plain": [
       "FunctionTransformer(func=<function func at 0x000001D98FF29CA0>)"
      ]
     },
     "execution_count": 45,
     "metadata": {},
     "output_type": "execute_result"
    }
   ],
   "source": [
    "trans_func=FunctionTransformer(func)\n",
    "trans_func"
   ]
  },
  {
   "cell_type": "code",
   "execution_count": 46,
   "id": "f7ddc366-2cac-477f-b958-f4cd41f23ff4",
   "metadata": {},
   "outputs": [
    {
     "data": {
      "text/html": [
       "<style>#sk-670198c5-1f8c-458e-950e-c1e7823d1c7f {color: black;background-color: white;}#sk-670198c5-1f8c-458e-950e-c1e7823d1c7f pre{padding: 0;}#sk-670198c5-1f8c-458e-950e-c1e7823d1c7f div.sk-toggleable {background-color: white;}#sk-670198c5-1f8c-458e-950e-c1e7823d1c7f label.sk-toggleable__label {cursor: pointer;display: block;width: 100%;margin-bottom: 0;padding: 0.3em;box-sizing: border-box;text-align: center;}#sk-670198c5-1f8c-458e-950e-c1e7823d1c7f label.sk-toggleable__label-arrow:before {content: \"▸\";float: left;margin-right: 0.25em;color: #696969;}#sk-670198c5-1f8c-458e-950e-c1e7823d1c7f label.sk-toggleable__label-arrow:hover:before {color: black;}#sk-670198c5-1f8c-458e-950e-c1e7823d1c7f div.sk-estimator:hover label.sk-toggleable__label-arrow:before {color: black;}#sk-670198c5-1f8c-458e-950e-c1e7823d1c7f div.sk-toggleable__content {max-height: 0;max-width: 0;overflow: hidden;text-align: left;background-color: #f0f8ff;}#sk-670198c5-1f8c-458e-950e-c1e7823d1c7f div.sk-toggleable__content pre {margin: 0.2em;color: black;border-radius: 0.25em;background-color: #f0f8ff;}#sk-670198c5-1f8c-458e-950e-c1e7823d1c7f input.sk-toggleable__control:checked~div.sk-toggleable__content {max-height: 200px;max-width: 100%;overflow: auto;}#sk-670198c5-1f8c-458e-950e-c1e7823d1c7f input.sk-toggleable__control:checked~label.sk-toggleable__label-arrow:before {content: \"▾\";}#sk-670198c5-1f8c-458e-950e-c1e7823d1c7f div.sk-estimator input.sk-toggleable__control:checked~label.sk-toggleable__label {background-color: #d4ebff;}#sk-670198c5-1f8c-458e-950e-c1e7823d1c7f div.sk-label input.sk-toggleable__control:checked~label.sk-toggleable__label {background-color: #d4ebff;}#sk-670198c5-1f8c-458e-950e-c1e7823d1c7f input.sk-hidden--visually {border: 0;clip: rect(1px 1px 1px 1px);clip: rect(1px, 1px, 1px, 1px);height: 1px;margin: -1px;overflow: hidden;padding: 0;position: absolute;width: 1px;}#sk-670198c5-1f8c-458e-950e-c1e7823d1c7f div.sk-estimator {font-family: monospace;background-color: #f0f8ff;border: 1px dotted black;border-radius: 0.25em;box-sizing: border-box;margin-bottom: 0.5em;}#sk-670198c5-1f8c-458e-950e-c1e7823d1c7f div.sk-estimator:hover {background-color: #d4ebff;}#sk-670198c5-1f8c-458e-950e-c1e7823d1c7f div.sk-parallel-item::after {content: \"\";width: 100%;border-bottom: 1px solid gray;flex-grow: 1;}#sk-670198c5-1f8c-458e-950e-c1e7823d1c7f div.sk-label:hover label.sk-toggleable__label {background-color: #d4ebff;}#sk-670198c5-1f8c-458e-950e-c1e7823d1c7f div.sk-serial::before {content: \"\";position: absolute;border-left: 1px solid gray;box-sizing: border-box;top: 2em;bottom: 0;left: 50%;}#sk-670198c5-1f8c-458e-950e-c1e7823d1c7f div.sk-serial {display: flex;flex-direction: column;align-items: center;background-color: white;padding-right: 0.2em;padding-left: 0.2em;}#sk-670198c5-1f8c-458e-950e-c1e7823d1c7f div.sk-item {z-index: 1;}#sk-670198c5-1f8c-458e-950e-c1e7823d1c7f div.sk-parallel {display: flex;align-items: stretch;justify-content: center;background-color: white;}#sk-670198c5-1f8c-458e-950e-c1e7823d1c7f div.sk-parallel::before {content: \"\";position: absolute;border-left: 1px solid gray;box-sizing: border-box;top: 2em;bottom: 0;left: 50%;}#sk-670198c5-1f8c-458e-950e-c1e7823d1c7f div.sk-parallel-item {display: flex;flex-direction: column;position: relative;background-color: white;}#sk-670198c5-1f8c-458e-950e-c1e7823d1c7f div.sk-parallel-item:first-child::after {align-self: flex-end;width: 50%;}#sk-670198c5-1f8c-458e-950e-c1e7823d1c7f div.sk-parallel-item:last-child::after {align-self: flex-start;width: 50%;}#sk-670198c5-1f8c-458e-950e-c1e7823d1c7f div.sk-parallel-item:only-child::after {width: 0;}#sk-670198c5-1f8c-458e-950e-c1e7823d1c7f div.sk-dashed-wrapped {border: 1px dashed gray;margin: 0 0.4em 0.5em 0.4em;box-sizing: border-box;padding-bottom: 0.4em;background-color: white;position: relative;}#sk-670198c5-1f8c-458e-950e-c1e7823d1c7f div.sk-label label {font-family: monospace;font-weight: bold;background-color: white;display: inline-block;line-height: 1.2em;}#sk-670198c5-1f8c-458e-950e-c1e7823d1c7f div.sk-label-container {position: relative;z-index: 2;text-align: center;}#sk-670198c5-1f8c-458e-950e-c1e7823d1c7f div.sk-container {/* jupyter's `normalize.less` sets `[hidden] { display: none; }` but bootstrap.min.css set `[hidden] { display: none !important; }` so we also need the `!important` here to be able to override the default hidden behavior on the sphinx rendered scikit-learn.org. See: https://github.com/scikit-learn/scikit-learn/issues/21755 */display: inline-block !important;position: relative;}#sk-670198c5-1f8c-458e-950e-c1e7823d1c7f div.sk-text-repr-fallback {display: none;}</style><div id=\"sk-670198c5-1f8c-458e-950e-c1e7823d1c7f\" class=\"sk-top-container\"><div class=\"sk-text-repr-fallback\"><pre>Pipeline(steps=[(&#x27;standardscaler&#x27;, StandardScaler()),\n",
       "                (&#x27;functiontransformer&#x27;,\n",
       "                 FunctionTransformer(func=&lt;function func at 0x000001D98FF29CA0&gt;)),\n",
       "                (&#x27;svc&#x27;, SVC())])</pre><b>Please rerun this cell to show the HTML repr or trust the notebook.</b></div><div class=\"sk-container\" hidden><div class=\"sk-item sk-dashed-wrapped\"><div class=\"sk-label-container\"><div class=\"sk-label sk-toggleable\"><input class=\"sk-toggleable__control sk-hidden--visually\" id=\"02614d46-93b8-44a8-a7f6-b9190784565f\" type=\"checkbox\" ><label for=\"02614d46-93b8-44a8-a7f6-b9190784565f\" class=\"sk-toggleable__label sk-toggleable__label-arrow\">Pipeline</label><div class=\"sk-toggleable__content\"><pre>Pipeline(steps=[(&#x27;standardscaler&#x27;, StandardScaler()),\n",
       "                (&#x27;functiontransformer&#x27;,\n",
       "                 FunctionTransformer(func=&lt;function func at 0x000001D98FF29CA0&gt;)),\n",
       "                (&#x27;svc&#x27;, SVC())])</pre></div></div></div><div class=\"sk-serial\"><div class=\"sk-item\"><div class=\"sk-estimator sk-toggleable\"><input class=\"sk-toggleable__control sk-hidden--visually\" id=\"204cdceb-59c4-44a5-b5f9-11cf79f1bc97\" type=\"checkbox\" ><label for=\"204cdceb-59c4-44a5-b5f9-11cf79f1bc97\" class=\"sk-toggleable__label sk-toggleable__label-arrow\">StandardScaler</label><div class=\"sk-toggleable__content\"><pre>StandardScaler()</pre></div></div></div><div class=\"sk-item\"><div class=\"sk-estimator sk-toggleable\"><input class=\"sk-toggleable__control sk-hidden--visually\" id=\"2b86a906-dda9-4ee7-9dde-57fbb54d3b5e\" type=\"checkbox\" ><label for=\"2b86a906-dda9-4ee7-9dde-57fbb54d3b5e\" class=\"sk-toggleable__label sk-toggleable__label-arrow\">FunctionTransformer</label><div class=\"sk-toggleable__content\"><pre>FunctionTransformer(func=&lt;function func at 0x000001D98FF29CA0&gt;)</pre></div></div></div><div class=\"sk-item\"><div class=\"sk-estimator sk-toggleable\"><input class=\"sk-toggleable__control sk-hidden--visually\" id=\"a4feccbd-2bf1-40de-88e4-427ea063de81\" type=\"checkbox\" ><label for=\"a4feccbd-2bf1-40de-88e4-427ea063de81\" class=\"sk-toggleable__label sk-toggleable__label-arrow\">SVC</label><div class=\"sk-toggleable__content\"><pre>SVC()</pre></div></div></div></div></div></div></div>"
      ],
      "text/plain": [
       "Pipeline(steps=[('standardscaler', StandardScaler()),\n",
       "                ('functiontransformer',\n",
       "                 FunctionTransformer(func=<function func at 0x000001D98FF29CA0>)),\n",
       "                ('svc', SVC())])"
      ]
     },
     "execution_count": 46,
     "metadata": {},
     "output_type": "execute_result"
    }
   ],
   "source": [
    "pipline3=make_pipeline(StandardScaler(),trans_func,SVC())\n",
    "pipline3"
   ]
  },
  {
   "cell_type": "code",
   "execution_count": 47,
   "id": "a9a5ae4c-2e16-4034-be18-7f36cdc73111",
   "metadata": {},
   "outputs": [
    {
     "name": "stdout",
     "output_type": "stream",
     "text": [
      "Before X [[ 1.66529275 -0.60840587  1.21896194 ... -1.65632857 -0.87940904\n",
      "  -0.24860607]\n",
      " [-0.54952506  2.7515415   1.00331502 ... -0.58463272 -1.25462095\n",
      "  -0.72992237]\n",
      " [-0.74531007 -1.14354109 -0.93750727 ...  0.35845962  0.2462267\n",
      "  -0.24860607]\n",
      " ...\n",
      " [ 1.714239   -0.44172441  0.06884503 ...  1.04434496  0.56585166\n",
      "   2.69572196]\n",
      " [-0.35374006 -0.7399965  -0.36244882 ...  0.01551695 -0.74044166\n",
      "  -0.79631083]\n",
      " [-0.78201975  0.06709269  0.35637426 ... -0.67036839  1.09392769\n",
      "  -0.98551793]]\n",
      "After X [[ 2.66529275  0.39159413  2.21896194 ... -0.65632857  0.12059096\n",
      "   0.75139393]\n",
      " [ 0.45047494  3.7515415   2.00331502 ...  0.41536728 -0.25462095\n",
      "   0.27007763]\n",
      " [ 0.25468993 -0.14354109  0.06249273 ...  1.35845962  1.2462267\n",
      "   0.75139393]\n",
      " ...\n",
      " [ 2.714239    0.55827559  1.06884503 ...  2.04434496  1.56585166\n",
      "   3.69572196]\n",
      " [ 0.64625994  0.2600035   0.63755118 ...  1.01551695  0.25955834\n",
      "   0.20368917]\n",
      " [ 0.21798025  1.06709269  1.35637426 ...  0.32963161  2.09392769\n",
      "   0.01448207]]\n"
     ]
    },
    {
     "data": {
      "text/html": [
       "<style>#sk-bfa173e9-2215-4d8b-bd37-611f9efeb0c9 {color: black;background-color: white;}#sk-bfa173e9-2215-4d8b-bd37-611f9efeb0c9 pre{padding: 0;}#sk-bfa173e9-2215-4d8b-bd37-611f9efeb0c9 div.sk-toggleable {background-color: white;}#sk-bfa173e9-2215-4d8b-bd37-611f9efeb0c9 label.sk-toggleable__label {cursor: pointer;display: block;width: 100%;margin-bottom: 0;padding: 0.3em;box-sizing: border-box;text-align: center;}#sk-bfa173e9-2215-4d8b-bd37-611f9efeb0c9 label.sk-toggleable__label-arrow:before {content: \"▸\";float: left;margin-right: 0.25em;color: #696969;}#sk-bfa173e9-2215-4d8b-bd37-611f9efeb0c9 label.sk-toggleable__label-arrow:hover:before {color: black;}#sk-bfa173e9-2215-4d8b-bd37-611f9efeb0c9 div.sk-estimator:hover label.sk-toggleable__label-arrow:before {color: black;}#sk-bfa173e9-2215-4d8b-bd37-611f9efeb0c9 div.sk-toggleable__content {max-height: 0;max-width: 0;overflow: hidden;text-align: left;background-color: #f0f8ff;}#sk-bfa173e9-2215-4d8b-bd37-611f9efeb0c9 div.sk-toggleable__content pre {margin: 0.2em;color: black;border-radius: 0.25em;background-color: #f0f8ff;}#sk-bfa173e9-2215-4d8b-bd37-611f9efeb0c9 input.sk-toggleable__control:checked~div.sk-toggleable__content {max-height: 200px;max-width: 100%;overflow: auto;}#sk-bfa173e9-2215-4d8b-bd37-611f9efeb0c9 input.sk-toggleable__control:checked~label.sk-toggleable__label-arrow:before {content: \"▾\";}#sk-bfa173e9-2215-4d8b-bd37-611f9efeb0c9 div.sk-estimator input.sk-toggleable__control:checked~label.sk-toggleable__label {background-color: #d4ebff;}#sk-bfa173e9-2215-4d8b-bd37-611f9efeb0c9 div.sk-label input.sk-toggleable__control:checked~label.sk-toggleable__label {background-color: #d4ebff;}#sk-bfa173e9-2215-4d8b-bd37-611f9efeb0c9 input.sk-hidden--visually {border: 0;clip: rect(1px 1px 1px 1px);clip: rect(1px, 1px, 1px, 1px);height: 1px;margin: -1px;overflow: hidden;padding: 0;position: absolute;width: 1px;}#sk-bfa173e9-2215-4d8b-bd37-611f9efeb0c9 div.sk-estimator {font-family: monospace;background-color: #f0f8ff;border: 1px dotted black;border-radius: 0.25em;box-sizing: border-box;margin-bottom: 0.5em;}#sk-bfa173e9-2215-4d8b-bd37-611f9efeb0c9 div.sk-estimator:hover {background-color: #d4ebff;}#sk-bfa173e9-2215-4d8b-bd37-611f9efeb0c9 div.sk-parallel-item::after {content: \"\";width: 100%;border-bottom: 1px solid gray;flex-grow: 1;}#sk-bfa173e9-2215-4d8b-bd37-611f9efeb0c9 div.sk-label:hover label.sk-toggleable__label {background-color: #d4ebff;}#sk-bfa173e9-2215-4d8b-bd37-611f9efeb0c9 div.sk-serial::before {content: \"\";position: absolute;border-left: 1px solid gray;box-sizing: border-box;top: 2em;bottom: 0;left: 50%;}#sk-bfa173e9-2215-4d8b-bd37-611f9efeb0c9 div.sk-serial {display: flex;flex-direction: column;align-items: center;background-color: white;padding-right: 0.2em;padding-left: 0.2em;}#sk-bfa173e9-2215-4d8b-bd37-611f9efeb0c9 div.sk-item {z-index: 1;}#sk-bfa173e9-2215-4d8b-bd37-611f9efeb0c9 div.sk-parallel {display: flex;align-items: stretch;justify-content: center;background-color: white;}#sk-bfa173e9-2215-4d8b-bd37-611f9efeb0c9 div.sk-parallel::before {content: \"\";position: absolute;border-left: 1px solid gray;box-sizing: border-box;top: 2em;bottom: 0;left: 50%;}#sk-bfa173e9-2215-4d8b-bd37-611f9efeb0c9 div.sk-parallel-item {display: flex;flex-direction: column;position: relative;background-color: white;}#sk-bfa173e9-2215-4d8b-bd37-611f9efeb0c9 div.sk-parallel-item:first-child::after {align-self: flex-end;width: 50%;}#sk-bfa173e9-2215-4d8b-bd37-611f9efeb0c9 div.sk-parallel-item:last-child::after {align-self: flex-start;width: 50%;}#sk-bfa173e9-2215-4d8b-bd37-611f9efeb0c9 div.sk-parallel-item:only-child::after {width: 0;}#sk-bfa173e9-2215-4d8b-bd37-611f9efeb0c9 div.sk-dashed-wrapped {border: 1px dashed gray;margin: 0 0.4em 0.5em 0.4em;box-sizing: border-box;padding-bottom: 0.4em;background-color: white;position: relative;}#sk-bfa173e9-2215-4d8b-bd37-611f9efeb0c9 div.sk-label label {font-family: monospace;font-weight: bold;background-color: white;display: inline-block;line-height: 1.2em;}#sk-bfa173e9-2215-4d8b-bd37-611f9efeb0c9 div.sk-label-container {position: relative;z-index: 2;text-align: center;}#sk-bfa173e9-2215-4d8b-bd37-611f9efeb0c9 div.sk-container {/* jupyter's `normalize.less` sets `[hidden] { display: none; }` but bootstrap.min.css set `[hidden] { display: none !important; }` so we also need the `!important` here to be able to override the default hidden behavior on the sphinx rendered scikit-learn.org. See: https://github.com/scikit-learn/scikit-learn/issues/21755 */display: inline-block !important;position: relative;}#sk-bfa173e9-2215-4d8b-bd37-611f9efeb0c9 div.sk-text-repr-fallback {display: none;}</style><div id=\"sk-bfa173e9-2215-4d8b-bd37-611f9efeb0c9\" class=\"sk-top-container\"><div class=\"sk-text-repr-fallback\"><pre>Pipeline(steps=[(&#x27;standardscaler&#x27;, StandardScaler()),\n",
       "                (&#x27;functiontransformer&#x27;,\n",
       "                 FunctionTransformer(func=&lt;function func at 0x000001D98FF29CA0&gt;)),\n",
       "                (&#x27;svc&#x27;, SVC())])</pre><b>Please rerun this cell to show the HTML repr or trust the notebook.</b></div><div class=\"sk-container\" hidden><div class=\"sk-item sk-dashed-wrapped\"><div class=\"sk-label-container\"><div class=\"sk-label sk-toggleable\"><input class=\"sk-toggleable__control sk-hidden--visually\" id=\"aa0dd4a4-be8b-465d-90ef-0eb35a515746\" type=\"checkbox\" ><label for=\"aa0dd4a4-be8b-465d-90ef-0eb35a515746\" class=\"sk-toggleable__label sk-toggleable__label-arrow\">Pipeline</label><div class=\"sk-toggleable__content\"><pre>Pipeline(steps=[(&#x27;standardscaler&#x27;, StandardScaler()),\n",
       "                (&#x27;functiontransformer&#x27;,\n",
       "                 FunctionTransformer(func=&lt;function func at 0x000001D98FF29CA0&gt;)),\n",
       "                (&#x27;svc&#x27;, SVC())])</pre></div></div></div><div class=\"sk-serial\"><div class=\"sk-item\"><div class=\"sk-estimator sk-toggleable\"><input class=\"sk-toggleable__control sk-hidden--visually\" id=\"02fadc87-247d-4d29-977d-ef191d3d8913\" type=\"checkbox\" ><label for=\"02fadc87-247d-4d29-977d-ef191d3d8913\" class=\"sk-toggleable__label sk-toggleable__label-arrow\">StandardScaler</label><div class=\"sk-toggleable__content\"><pre>StandardScaler()</pre></div></div></div><div class=\"sk-item\"><div class=\"sk-estimator sk-toggleable\"><input class=\"sk-toggleable__control sk-hidden--visually\" id=\"d659897b-232b-4dd4-b4da-fb04d0d95822\" type=\"checkbox\" ><label for=\"d659897b-232b-4dd4-b4da-fb04d0d95822\" class=\"sk-toggleable__label sk-toggleable__label-arrow\">FunctionTransformer</label><div class=\"sk-toggleable__content\"><pre>FunctionTransformer(func=&lt;function func at 0x000001D98FF29CA0&gt;)</pre></div></div></div><div class=\"sk-item\"><div class=\"sk-estimator sk-toggleable\"><input class=\"sk-toggleable__control sk-hidden--visually\" id=\"de00fb17-cb19-4ac4-8636-de9bf2e11231\" type=\"checkbox\" ><label for=\"de00fb17-cb19-4ac4-8636-de9bf2e11231\" class=\"sk-toggleable__label sk-toggleable__label-arrow\">SVC</label><div class=\"sk-toggleable__content\"><pre>SVC()</pre></div></div></div></div></div></div></div>"
      ],
      "text/plain": [
       "Pipeline(steps=[('standardscaler', StandardScaler()),\n",
       "                ('functiontransformer',\n",
       "                 FunctionTransformer(func=<function func at 0x000001D98FF29CA0>)),\n",
       "                ('svc', SVC())])"
      ]
     },
     "execution_count": 47,
     "metadata": {},
     "output_type": "execute_result"
    }
   ],
   "source": [
    "pipline3.fit(x_train,y_train)"
   ]
  },
  {
   "cell_type": "code",
   "execution_count": 3,
   "id": "53e22c65-0a43-4225-8001-348c00dc61e2",
   "metadata": {},
   "outputs": [
    {
     "data": {
      "text/plain": [
       "False"
      ]
     },
     "execution_count": 3,
     "metadata": {},
     "output_type": "execute_result"
    }
   ],
   "source": [
    "0.1+0.2==0.3"
   ]
  },
  {
   "cell_type": "code",
   "execution_count": 4,
   "id": "92823dda-9177-4769-9db9-fdda5194cd0b",
   "metadata": {},
   "outputs": [
    {
     "data": {
      "text/plain": [
       "[]"
      ]
     },
     "execution_count": 4,
     "metadata": {},
     "output_type": "execute_result"
    }
   ],
   "source": [
    "[]+[]"
   ]
  },
  {
   "cell_type": "code",
   "execution_count": null,
   "id": "c2007020-2a51-49de-9b05-36ff83cce4f7",
   "metadata": {},
   "outputs": [],
   "source": []
  }
 ],
 "metadata": {
  "kernelspec": {
   "display_name": "Python 3 (ipykernel)",
   "language": "python",
   "name": "python3"
  },
  "language_info": {
   "codemirror_mode": {
    "name": "ipython",
    "version": 3
   },
   "file_extension": ".py",
   "mimetype": "text/x-python",
   "name": "python",
   "nbconvert_exporter": "python",
   "pygments_lexer": "ipython3",
   "version": "3.9.13"
  }
 },
 "nbformat": 4,
 "nbformat_minor": 5
}
