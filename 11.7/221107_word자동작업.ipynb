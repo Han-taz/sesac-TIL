{
 "cells": [
  {
   "cell_type": "markdown",
   "id": "9dfc451f-74d2-4cd9-9e89-e697f3995de5",
   "metadata": {},
   "source": [
    "# 워드 작업"
   ]
  },
  {
   "cell_type": "code",
   "execution_count": 3,
   "id": "9eafcbb8-f004-4c7e-8da0-1debe5c3b8cb",
   "metadata": {},
   "outputs": [
    {
     "name": "stdout",
     "output_type": "stream",
     "text": [
      "Collecting python-docx\n",
      "  Downloading python-docx-0.8.11.tar.gz (5.6 MB)\n",
      "Requirement already satisfied: lxml>=2.3.2 in c:\\users\\user\\anaconda3\\lib\\site-packages (from python-docx) (4.8.0)\n",
      "Building wheels for collected packages: python-docx\n",
      "  Building wheel for python-docx (setup.py): started\n",
      "  Building wheel for python-docx (setup.py): finished with status 'done'\n",
      "  Created wheel for python-docx: filename=python_docx-0.8.11-py3-none-any.whl size=184507 sha256=72a1479ba0bb4298993b4ffe0b6924e66935750399cd4b8bdcc3506d3e703409\n",
      "  Stored in directory: c:\\users\\user\\appdata\\local\\pip\\cache\\wheels\\83\\8b\\7c\\09ae60c42c7ba4ed2dddaf2b8b9186cb105255856d6ed3dba5\n",
      "Successfully built python-docx\n",
      "Installing collected packages: python-docx\n",
      "Successfully installed python-docx-0.8.11\n",
      "Note: you may need to restart the kernel to use updated packages.\n"
     ]
    }
   ],
   "source": [
    "pip install python-docx"
   ]
  },
  {
   "cell_type": "code",
   "execution_count": 5,
   "id": "b6ac38da-4669-4b1b-b94b-4d0d84b1e26a",
   "metadata": {},
   "outputs": [],
   "source": [
    "import pandas as pd\n",
    "import docx"
   ]
  },
  {
   "cell_type": "code",
   "execution_count": 2,
   "id": "002358ac-590c-4001-9f78-6c2e2d87611f",
   "metadata": {},
   "outputs": [],
   "source": [
    "df = pd.read_csv('data.csv', encoding='euckr')"
   ]
  },
  {
   "cell_type": "code",
   "execution_count": 3,
   "id": "66f4fdaa-bf47-4740-a55e-c2bbd81c3972",
   "metadata": {},
   "outputs": [
    {
     "data": {
      "text/html": [
       "<div>\n",
       "<style scoped>\n",
       "    .dataframe tbody tr th:only-of-type {\n",
       "        vertical-align: middle;\n",
       "    }\n",
       "\n",
       "    .dataframe tbody tr th {\n",
       "        vertical-align: top;\n",
       "    }\n",
       "\n",
       "    .dataframe thead th {\n",
       "        text-align: right;\n",
       "    }\n",
       "</style>\n",
       "<table border=\"1\" class=\"dataframe\">\n",
       "  <thead>\n",
       "    <tr style=\"text-align: right;\">\n",
       "      <th></th>\n",
       "      <th>수료번호</th>\n",
       "      <th>성명</th>\n",
       "      <th>소속</th>\n",
       "      <th>교육과정</th>\n",
       "      <th>교육기간</th>\n",
       "      <th>발행일</th>\n",
       "    </tr>\n",
       "  </thead>\n",
       "  <tbody>\n",
       "    <tr>\n",
       "      <th>0</th>\n",
       "      <td>2022-001</td>\n",
       "      <td>강지원</td>\n",
       "      <td>금천 2기</td>\n",
       "      <td>기업데이터를 활용한 AI</td>\n",
       "      <td>2022.10 ~ 2023.02</td>\n",
       "      <td>23.03.01</td>\n",
       "    </tr>\n",
       "    <tr>\n",
       "      <th>1</th>\n",
       "      <td>2022-002</td>\n",
       "      <td>고건영</td>\n",
       "      <td>금천 2기</td>\n",
       "      <td>기업데이터를 활용한 AI</td>\n",
       "      <td>2022.10 ~ 2023.02</td>\n",
       "      <td>23.03.01</td>\n",
       "    </tr>\n",
       "    <tr>\n",
       "      <th>2</th>\n",
       "      <td>2022-003</td>\n",
       "      <td>고상현</td>\n",
       "      <td>금천 2기</td>\n",
       "      <td>기업데이터를 활용한 AI</td>\n",
       "      <td>2022.10 ~ 2023.02</td>\n",
       "      <td>23.03.01</td>\n",
       "    </tr>\n",
       "    <tr>\n",
       "      <th>3</th>\n",
       "      <td>2022-004</td>\n",
       "      <td>김민진</td>\n",
       "      <td>금천 2기</td>\n",
       "      <td>기업데이터를 활용한 AI</td>\n",
       "      <td>2022.10 ~ 2023.02</td>\n",
       "      <td>23.03.01</td>\n",
       "    </tr>\n",
       "    <tr>\n",
       "      <th>4</th>\n",
       "      <td>2022-005</td>\n",
       "      <td>김병진</td>\n",
       "      <td>금천 2기</td>\n",
       "      <td>기업데이터를 활용한 AI</td>\n",
       "      <td>2022.10 ~ 2023.02</td>\n",
       "      <td>23.03.01</td>\n",
       "    </tr>\n",
       "  </tbody>\n",
       "</table>\n",
       "</div>"
      ],
      "text/plain": [
       "       수료번호   성명     소속           교육과정               교육기간       발행일\n",
       "0  2022-001  강지원  금천 2기  기업데이터를 활용한 AI  2022.10 ~ 2023.02  23.03.01\n",
       "1  2022-002  고건영  금천 2기  기업데이터를 활용한 AI  2022.10 ~ 2023.02  23.03.01\n",
       "2  2022-003  고상현  금천 2기  기업데이터를 활용한 AI  2022.10 ~ 2023.02  23.03.01\n",
       "3  2022-004  김민진  금천 2기  기업데이터를 활용한 AI  2022.10 ~ 2023.02  23.03.01\n",
       "4  2022-005  김병진  금천 2기  기업데이터를 활용한 AI  2022.10 ~ 2023.02  23.03.01"
      ]
     },
     "execution_count": 3,
     "metadata": {},
     "output_type": "execute_result"
    }
   ],
   "source": [
    "df"
   ]
  },
  {
   "cell_type": "code",
   "execution_count": 7,
   "id": "bc9b0d1d-b697-465e-9c66-1c810d7a0858",
   "metadata": {},
   "outputs": [],
   "source": [
    "doc = docx.Document('template.docx')"
   ]
  },
  {
   "cell_type": "code",
   "execution_count": 9,
   "id": "c7e6520f-edcb-431a-a4b9-aeddd78ec9cf",
   "metadata": {},
   "outputs": [],
   "source": [
    "para = doc.paragraphs"
   ]
  },
  {
   "cell_type": "code",
   "execution_count": 10,
   "id": "da6d325e-7d00-4055-90cb-d83ee60ba527",
   "metadata": {},
   "outputs": [],
   "source": [
    "def view(para) :\n",
    "    for n, t in enumerate(para) : \n",
    "        print(n, t.text)"
   ]
  },
  {
   "cell_type": "code",
   "execution_count": 11,
   "id": "7c59f2f1-901d-4d7e-95e8-dff06ed830f5",
   "metadata": {},
   "outputs": [
    {
     "name": "stdout",
     "output_type": "stream",
     "text": [
      "0 \n",
      "1 \n",
      "2 수료번호 : \n",
      "3 수 료 증\n",
      "4 \n",
      "5 성    명 : \n",
      "6 소    속 : \n",
      "7 교육과정 : \n",
      "8 교육기간 : \n",
      "9 \n",
      "10 귀하는 위 교육을 수료하였기에 이 증서를 수여합니다.\n",
      "11 \n",
      "12 \n",
      "13 (발행일)\n",
      "14 \n",
      "15 청년취업사관학교\n",
      "16 \n"
     ]
    }
   ],
   "source": [
    "for n, t in enumerate(para) : \n",
    "        print(n, t.text)"
   ]
  },
  {
   "cell_type": "code",
   "execution_count": 16,
   "id": "48065171-ac54-4afa-aad2-233a2c0502d1",
   "metadata": {},
   "outputs": [
    {
     "data": {
      "text/plain": [
       "<docx.text.paragraph.Paragraph at 0x235fe228760>"
      ]
     },
     "execution_count": 16,
     "metadata": {},
     "output_type": "execute_result"
    }
   ],
   "source": [
    "para[2].clear()"
   ]
  },
  {
   "cell_type": "code",
   "execution_count": 13,
   "id": "475ba80d-dfeb-4a0e-b9e4-dd3600508ce8",
   "metadata": {},
   "outputs": [
    {
     "name": "stdout",
     "output_type": "stream",
     "text": [
      "0 \n",
      "1 \n",
      "2 \n",
      "3 수 료 증\n",
      "4 \n",
      "5 성    명 : \n",
      "6 소    속 : \n",
      "7 교육과정 : \n",
      "8 교육기간 : \n",
      "9 \n",
      "10 귀하는 위 교육을 수료하였기에 이 증서를 수여합니다.\n",
      "11 \n",
      "12 \n",
      "13 (발행일)\n",
      "14 \n",
      "15 청년취업사관학교\n",
      "16 \n"
     ]
    }
   ],
   "source": [
    "view(para)"
   ]
  },
  {
   "cell_type": "code",
   "execution_count": 17,
   "id": "f3286bca-04be-4639-b8f0-fb55a910c912",
   "metadata": {},
   "outputs": [],
   "source": [
    "run = para[2].add_run('수료번호 : ' + df.iloc[0]['수료번호'])"
   ]
  },
  {
   "cell_type": "code",
   "execution_count": 18,
   "id": "965fb8d6-7d35-465a-82bc-a70db596feaf",
   "metadata": {},
   "outputs": [
    {
     "name": "stdout",
     "output_type": "stream",
     "text": [
      "0 \n",
      "1 \n",
      "2 수료번호 : 2022-001\n",
      "3 수 료 증\n",
      "4 \n",
      "5 성    명 : \n",
      "6 소    속 : \n",
      "7 교육과정 : \n",
      "8 교육기간 : \n",
      "9 \n",
      "10 귀하는 위 교육을 수료하였기에 이 증서를 수여합니다.\n",
      "11 \n",
      "12 \n",
      "13 (발행일)\n",
      "14 \n",
      "15 청년취업사관학교\n",
      "16 \n"
     ]
    }
   ],
   "source": [
    "view(para)"
   ]
  },
  {
   "cell_type": "code",
   "execution_count": 19,
   "id": "1640c7b9-9f78-413d-bd4d-0ea6a702684b",
   "metadata": {},
   "outputs": [],
   "source": [
    "run.font.name='나눔고딕'\n",
    "run.bold = True\n",
    "run.font.size = docx.shared.Pt(16)"
   ]
  },
  {
   "cell_type": "code",
   "execution_count": 20,
   "id": "081b60fe-1f19-49cb-938f-17af5c8fad91",
   "metadata": {},
   "outputs": [
    {
     "name": "stdout",
     "output_type": "stream",
     "text": [
      "0 \n",
      "1 \n",
      "2 수료번호 : 2022-001\n",
      "3 수 료 증\n",
      "4 \n",
      "5 성    명 : \n",
      "6 소    속 : \n",
      "7 교육과정 : \n",
      "8 교육기간 : \n",
      "9 \n",
      "10 귀하는 위 교육을 수료하였기에 이 증서를 수여합니다.\n",
      "11 \n",
      "12 \n",
      "13 (발행일)\n",
      "14 \n",
      "15 청년취업사관학교\n",
      "16 \n"
     ]
    }
   ],
   "source": [
    "view(para)"
   ]
  },
  {
   "cell_type": "code",
   "execution_count": 43,
   "id": "5d22c51d-7dd6-4014-9c84-86558e9cbda6",
   "metadata": {},
   "outputs": [],
   "source": [
    "for index, low in df.iterrows() :\n",
    "    #print(index, low['수료번호'], low['성명'], low['소속'], low['교육과정'], low['발행일'])\n",
    "    doc = docx.Document('template.docx')\n",
    "    para = doc.paragraphs\n",
    "    \n",
    "    para[2].clear()\n",
    "    run = para[2].add_run('수료번호 : ' + df.iloc[0]['수료번호'])\n",
    "    run.font.name='나눔고딕'\n",
    "    run.bold = True\n",
    "    run.font.size = docx.shared.Pt(16)\n",
    "    \n",
    "    para[5].clear()\n",
    "    run = para[5].add_run('성    명 : ' + df.iloc[0]['성명'])\n",
    "    run.font.name='나눔고딕'\n",
    "    run.bold = True\n",
    "    run.font.size = docx.shared.Pt(16)\n",
    "    \n",
    "    para[6].clear()\n",
    "    run = para[6].add_run('소    속 : ' + df.iloc[0]['소속'])\n",
    "    run.font.name='나눔고딕'\n",
    "    run.bold = True\n",
    "    run.font.size = docx.shared.Pt(16)\n",
    "    \n",
    "    para[7].clear()\n",
    "    run = para[7].add_run('교육과정 : ' + df.iloc[0]['교육과정'])\n",
    "    run.font.name='나눔고딕'\n",
    "    run.bold = True\n",
    "    run.font.size = docx.shared.Pt(16)\n",
    "    \n",
    "    para[8].clear()\n",
    "    run = para[8].add_run('교육기간 : ' + df.iloc[0]['교육기간'])\n",
    "    run.font.name='나눔고딕'\n",
    "    run.bold = True\n",
    "    run.font.size = docx.shared.Pt(16)\n",
    "    \n",
    "    para[13].clear()\n",
    "    run = para[13].add_run('발행일 : ' + df.iloc[0]['발행일'])\n",
    "    run.font.name='나눔고딕'\n",
    "    run.bold = True\n",
    "    run.font.size = docx.shared.Pt(16)\n",
    "    \n",
    "    doc.save(low['수료번호'] + '.docx')"
   ]
  },
  {
   "cell_type": "markdown",
   "id": "0755e26b-9a8f-46f6-b000-1d23244725f6",
   "metadata": {},
   "source": [
    "# docx to pdf"
   ]
  },
  {
   "cell_type": "code",
   "execution_count": 34,
   "id": "974c0535-7e32-4f72-a35c-c6e916807069",
   "metadata": {},
   "outputs": [
    {
     "name": "stdout",
     "output_type": "stream",
     "text": [
      "Collecting docx2pdf\n",
      "  Downloading docx2pdf-0.1.8-py3-none-any.whl (6.7 kB)\n",
      "Requirement already satisfied: tqdm>=4.41.0 in c:\\users\\user\\anaconda3\\lib\\site-packages (from docx2pdf) (4.64.0)\n",
      "Requirement already satisfied: pywin32>=227 in c:\\users\\user\\anaconda3\\lib\\site-packages (from docx2pdf) (302)\n",
      "Requirement already satisfied: colorama in c:\\users\\user\\anaconda3\\lib\\site-packages (from tqdm>=4.41.0->docx2pdf) (0.4.4)\n",
      "Installing collected packages: docx2pdf\n",
      "Successfully installed docx2pdf-0.1.8\n",
      "Note: you may need to restart the kernel to use updated packages.\n"
     ]
    }
   ],
   "source": [
    "pip install docx2pdf"
   ]
  },
  {
   "cell_type": "code",
   "execution_count": 35,
   "id": "9f7ed0f1-c223-4c85-9395-e8618aac3429",
   "metadata": {},
   "outputs": [],
   "source": [
    "from docx2pdf import convert"
   ]
  },
  {
   "cell_type": "code",
   "execution_count": 42,
   "id": "5406ac40-cdcd-434d-aaba-da031fd75073",
   "metadata": {},
   "outputs": [
    {
     "data": {
      "application/vnd.jupyter.widget-view+json": {
       "model_id": "ee133659fbae41b3bfb0914d90175e91",
       "version_major": 2,
       "version_minor": 0
      },
      "text/plain": [
       "  0%|          | 0/1 [00:00<?, ?it/s]"
      ]
     },
     "metadata": {},
     "output_type": "display_data"
    },
    {
     "data": {
      "application/vnd.jupyter.widget-view+json": {
       "model_id": "ac2b52e9a88d4d34b9475fcaf0792acb",
       "version_major": 2,
       "version_minor": 0
      },
      "text/plain": [
       "  0%|          | 0/1 [00:00<?, ?it/s]"
      ]
     },
     "metadata": {},
     "output_type": "display_data"
    },
    {
     "data": {
      "application/vnd.jupyter.widget-view+json": {
       "model_id": "173ba9299a6049ffb165d1e9ae8f64f4",
       "version_major": 2,
       "version_minor": 0
      },
      "text/plain": [
       "  0%|          | 0/1 [00:00<?, ?it/s]"
      ]
     },
     "metadata": {},
     "output_type": "display_data"
    },
    {
     "data": {
      "application/vnd.jupyter.widget-view+json": {
       "model_id": "126f2c578a7e4d0083dd9380eec6a41e",
       "version_major": 2,
       "version_minor": 0
      },
      "text/plain": [
       "  0%|          | 0/1 [00:00<?, ?it/s]"
      ]
     },
     "metadata": {},
     "output_type": "display_data"
    },
    {
     "data": {
      "application/vnd.jupyter.widget-view+json": {
       "model_id": "4a0922d62fde44ae92f693637fb526ff",
       "version_major": 2,
       "version_minor": 0
      },
      "text/plain": [
       "  0%|          | 0/1 [00:00<?, ?it/s]"
      ]
     },
     "metadata": {},
     "output_type": "display_data"
    }
   ],
   "source": [
    "for num in df['수료번호'] :\n",
    "    inputFile = num + '.docx'\n",
    "    outputFile = num + '.pdf'\n",
    "    \n",
    "    convert(inputFile, 'C:\\\\Users\\\\user\\\\Desktop\\\\python\\\\221107\\\\' + outputFile)"
   ]
  },
  {
   "cell_type": "code",
   "execution_count": null,
   "id": "6569bacb-5a06-47c9-9ac1-3ab4dae0f504",
   "metadata": {},
   "outputs": [],
   "source": []
  }
 ],
 "metadata": {
  "kernelspec": {
   "display_name": "Python 3 (ipykernel)",
   "language": "python",
   "name": "python3"
  },
  "language_info": {
   "codemirror_mode": {
    "name": "ipython",
    "version": 3
   },
   "file_extension": ".py",
   "mimetype": "text/x-python",
   "name": "python",
   "nbconvert_exporter": "python",
   "pygments_lexer": "ipython3",
   "version": "3.9.12"
  }
 },
 "nbformat": 4,
 "nbformat_minor": 5
}
