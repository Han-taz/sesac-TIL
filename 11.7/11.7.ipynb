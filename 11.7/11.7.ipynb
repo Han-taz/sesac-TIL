{
 "cells": [
  {
   "cell_type": "code",
   "execution_count": 1,
   "id": "dc408e65-097c-4873-871e-625d41b931b6",
   "metadata": {},
   "outputs": [],
   "source": [
    "import requests"
   ]
  },
  {
   "cell_type": "code",
   "execution_count": 2,
   "id": "e2820601-c805-4dba-8250-fd63b3bb07c5",
   "metadata": {},
   "outputs": [],
   "source": [
    "import pandas as pd\n",
    "from bs4 import BeautifulSoup\n",
    "import numpy as np\n",
    "import requests"
   ]
  },
  {
   "cell_type": "code",
   "execution_count": 3,
   "id": "88253f0d-cea4-461a-8696-fc8b8a37783d",
   "metadata": {},
   "outputs": [],
   "source": [
    "url='https://sesac.seoul.kr/usr/member/dash/detail.do'\n",
    "headers={'Cookie':'InitechEamUID_V42=V9bvx9OAVLD9tVMbZ1nfCQ%3D%3D; InitechEamUIP_V42=ObI%2BsLG6D4mrVazs8DBKHA%3D%3D; InitechEamUPID_V42=j3mVpo3U0M3pvdUTRFS4uw%3D%3D; _BS_GUUID=rB9TNumLtFl8ZYs5dZIinda5738pNRGesP8fju1N; _TRK_CR=http%3A%2F%2Fnsso.sba.seoul.kr%3A8090%2F; _TRK_SID=f7132f27fc20e490b4696ba06520ca9b; JSESSIONID=E6F98D248127B669DFAF5329309C2101; InitechEamULAT_V42=1667804045; InitechEamUTOA_V42=1; InitechEamUHMAC_V42=L66E5izILxHxbXuNzYwgKsWbK2DgFD0ErLMQFhm0dDY%3D; _ga_ZLMCDSG8JM=GS1.1.1667803916.1.1.1667804066.0.0.0; _TRK_EX=7'}"
   ]
  },
  {
   "cell_type": "code",
   "execution_count": 4,
   "id": "b0db1c37-a26b-42bc-9e88-c9f0885ffb71",
   "metadata": {},
   "outputs": [],
   "source": [
    "req=requests.get(url,headers=headers)"
   ]
  },
  {
   "cell_type": "code",
   "execution_count": 5,
   "id": "bb73a5a0-9631-4db0-b3d3-5a03a4ac3f1b",
   "metadata": {},
   "outputs": [],
   "source": [
    "soup=BeautifulSoup(req.text,'html.parser')"
   ]
  },
  {
   "cell_type": "code",
   "execution_count": 6,
   "id": "4d6f4c47-3c5d-454b-8f98-edf97f255d34",
   "metadata": {},
   "outputs": [
    {
     "ename": "IndexError",
     "evalue": "list index out of range",
     "output_type": "error",
     "traceback": [
      "\u001b[1;31m---------------------------------------------------------------------------\u001b[0m",
      "\u001b[1;31mIndexError\u001b[0m                                Traceback (most recent call last)",
      "Input \u001b[1;32mIn [6]\u001b[0m, in \u001b[0;36m<cell line: 1>\u001b[1;34m()\u001b[0m\n\u001b[1;32m----> 1\u001b[0m \u001b[43msoup\u001b[49m\u001b[38;5;241;43m.\u001b[39;49m\u001b[43mselect\u001b[49m\u001b[43m(\u001b[49m\u001b[38;5;124;43m'\u001b[39;49m\u001b[38;5;124;43m#s2_02 > div > table > tbody > tr > td.al > a\u001b[39;49m\u001b[38;5;124;43m'\u001b[39;49m\u001b[43m)\u001b[49m\u001b[43m[\u001b[49m\u001b[38;5;241;43m0\u001b[39;49m\u001b[43m]\u001b[49m\u001b[38;5;241m.\u001b[39mtext\n",
      "\u001b[1;31mIndexError\u001b[0m: list index out of range"
     ]
    }
   ],
   "source": [
    "soup.select('#s2_02 > div > table > tbody > tr > td.al > a')[0].text"
   ]
  },
  {
   "cell_type": "code",
   "execution_count": 8,
   "id": "dd356db3-2f01-4692-9b78-f0964152019f",
   "metadata": {},
   "outputs": [
    {
     "name": "stdout",
     "output_type": "stream",
     "text": [
      "Collecting python-docxNote: you may need to restart the kernel to use updated packages.\n",
      "\n",
      "  Downloading python-docx-0.8.11.tar.gz (5.6 MB)\n",
      "Requirement already satisfied: lxml>=2.3.2 in c:\\users\\user\\anaconda3\\lib\\site-packages (from python-docx) (4.8.0)\n",
      "Building wheels for collected packages: python-docx\n",
      "  Building wheel for python-docx (setup.py): started\n",
      "  Building wheel for python-docx (setup.py): finished with status 'done'\n",
      "  Created wheel for python-docx: filename=python_docx-0.8.11-py3-none-any.whl size=184507 sha256=e5ea1a48167b7977b5d511cb87875eb1cba180a5206940f6286ac98323bbbc9b\n",
      "  Stored in directory: c:\\users\\user\\appdata\\local\\pip\\cache\\wheels\\83\\8b\\7c\\09ae60c42c7ba4ed2dddaf2b8b9186cb105255856d6ed3dba5\n",
      "Successfully built python-docx\n",
      "Installing collected packages: python-docx\n",
      "Successfully installed python-docx-0.8.11\n"
     ]
    }
   ],
   "source": [
    "pip install python-docx"
   ]
  },
  {
   "cell_type": "code",
   "execution_count": 9,
   "id": "e9cfe00b-c849-4fd0-8529-45ce48896a7c",
   "metadata": {},
   "outputs": [],
   "source": [
    "import docx"
   ]
  },
  {
   "cell_type": "code",
   "execution_count": 13,
   "id": "fff4aee3-7260-4cff-b81a-50323381e8c0",
   "metadata": {},
   "outputs": [],
   "source": [
    "df=pd.read_csv('file/data.csv',encoding='euc-kr')"
   ]
  },
  {
   "cell_type": "code",
   "execution_count": 14,
   "id": "fe702fb3-b001-4af6-aa0b-f5f61c7be5f4",
   "metadata": {},
   "outputs": [],
   "source": [
    "doc=docx.Document('template.docx')"
   ]
  },
  {
   "cell_type": "code",
   "execution_count": 18,
   "id": "66ca44dd-29da-45bb-b91c-86cf0f578f2a",
   "metadata": {},
   "outputs": [],
   "source": [
    "para=doc.paragraphs"
   ]
  },
  {
   "cell_type": "code",
   "execution_count": null,
   "id": "852407a2-f8e4-4b47-a401-90d02bc0a020",
   "metadata": {},
   "outputs": [],
   "source": []
  },
  {
   "cell_type": "code",
   "execution_count": 31,
   "id": "dbf89500-a4dc-4f62-8c0f-ec075a9bf0a1",
   "metadata": {},
   "outputs": [],
   "source": [
    "def view(para):\n",
    "    for n,t in enumerate(para):\n",
    "         print(n, t.text)\n",
    "    "
   ]
  },
  {
   "cell_type": "code",
   "execution_count": 32,
   "id": "a280cfa6-f11b-4a76-ac5f-b032188fee46",
   "metadata": {},
   "outputs": [
    {
     "data": {
      "text/plain": [
       "<docx.text.paragraph.Paragraph at 0x25c1c7808e0>"
      ]
     },
     "execution_count": 32,
     "metadata": {},
     "output_type": "execute_result"
    }
   ],
   "source": [
    "para[2].clear()"
   ]
  },
  {
   "cell_type": "code",
   "execution_count": 33,
   "id": "a155de31-849d-47d6-a493-2e4066e329d3",
   "metadata": {},
   "outputs": [
    {
     "name": "stdout",
     "output_type": "stream",
     "text": [
      "0 \n",
      "1 수료번호: 2022-001\n",
      "2 \n",
      "3 수 료 증\n",
      "4 \n",
      "5 성    명 : \n",
      "6 소    속 : \n",
      "7 교육과정 : \n",
      "8 교육기간 : \n",
      "9 \n",
      "10 귀하는 위 교육을 수료하였기에 이 증서를 수여합니다.\n",
      "11 \n",
      "12 \n",
      "13 (발행일)\n",
      "14 \n",
      "15 청년취업사관학교\n",
      "16 \n"
     ]
    }
   ],
   "source": [
    "view(para)"
   ]
  },
  {
   "cell_type": "code",
   "execution_count": 34,
   "id": "fca38b7a-0c5c-43e9-a76d-1a6fbcc98559",
   "metadata": {
    "tags": []
   },
   "outputs": [],
   "source": [
    "run=para[1].add_run('수료번호: '+ df.iloc[0]['수료번호'])"
   ]
  },
  {
   "cell_type": "code",
   "execution_count": 35,
   "id": "bea10af7-3f9b-405e-99f5-7d952b691b8e",
   "metadata": {},
   "outputs": [],
   "source": [
    "run.font.name='나눔고딕'\n",
    "run.bold = True\n",
    "run.font.size=docx.shared.Pt(16)"
   ]
  },
  {
   "cell_type": "code",
   "execution_count": 41,
   "id": "110c0ad2-f250-4959-b0c9-b7a43fcea6d5",
   "metadata": {},
   "outputs": [],
   "source": [
    "for index, low in df.iterrows():\n",
    "    #print(index, low['수료번호'],low['성명'],low['소속'],low['교육과정'],low['교육기간'],low['발행일'])\n",
    "    doc=docx.Document('template.docx')\n",
    "    para=doc.paragraphs\n",
    "    para[1].clear()\n",
    "    run=para[1].add_run('수료번호: '+ df.iloc[0]['수료번호'])\n",
    "    run.font.name='나눔고딕'\n",
    "    run.bold = True\n",
    "    run.font.size=docx.shared.Pt(16)\n",
    "    \n",
    "    para[4].clear()\n",
    "    run=para[4].add_run('성    명: '+ df.iloc[0]['성명'])\n",
    "    run.font.name='나눔고딕'\n",
    "    run.bold = True\n",
    "    run.font.size=docx.shared.Pt(16)\n",
    "    \n",
    "    para[6].clear()\n",
    "    run=para[6].add_run('소    속: '+ df.iloc[0]['소속'])\n",
    "    run.font.name='나눔고딕'\n",
    "    run.bold = True\n",
    "    run.font.size=docx.shared.Pt(16)    \n",
    "        \n",
    "    para[7].clear()\n",
    "    run=para[1].add_run('교육과정: '+ df.iloc[0]['교육과정'])\n",
    "    run.font.name='나눔고딕'\n",
    "    run.bold = True\n",
    "    run.font.size=docx.shared.Pt(16)\n",
    "    \n",
    "    \n",
    "    para[8].clear()\n",
    "    run=para[8].add_run('교육기간: '+ df.iloc[0]['교육기간'])\n",
    "    run.font.name='나눔고딕'\n",
    "    run.bold = True\n",
    "    run.font.size=docx.shared.Pt(16)\n",
    "    \n",
    "    para[13].clear()\n",
    "    run=para[13].add_run('발행일: '+ df.iloc[0]['발행일'])\n",
    "    run.font.name='나눔고딕'\n",
    "    run.bold = True\n",
    "    run.font.size=docx.shared.Pt(16)\n",
    "    doc.save(low['수료번호']+'.docx')"
   ]
  },
  {
   "cell_type": "code",
   "execution_count": 27,
   "id": "685c022d-101e-4517-acae-c41a75e42291",
   "metadata": {},
   "outputs": [
    {
     "name": "stdout",
     "output_type": "stream",
     "text": [
      "Collecting docx2pdf\n",
      "  Downloading docx2pdf-0.1.8-py3-none-any.whl (6.7 kB)\n",
      "Requirement already satisfied: pywin32>=227 in c:\\users\\user\\anaconda3\\lib\\site-packages (from docx2pdf) (302)\n",
      "Requirement already satisfied: tqdm>=4.41.0 in c:\\users\\user\\anaconda3\\lib\\site-packages (from docx2pdf) (4.64.0)\n",
      "Requirement already satisfied: colorama in c:\\users\\user\\anaconda3\\lib\\site-packages (from tqdm>=4.41.0->docx2pdf) (0.4.4)\n",
      "Installing collected packages: docx2pdf\n",
      "Successfully installed docx2pdf-0.1.8\n",
      "Note: you may need to restart the kernel to use updated packages.\n"
     ]
    }
   ],
   "source": [
    "pip install docx2pdf"
   ]
  },
  {
   "cell_type": "code",
   "execution_count": 28,
   "id": "1cd683d8-4bcf-4491-8816-3d458ed0b35a",
   "metadata": {},
   "outputs": [],
   "source": [
    "from docx2pdf import convert"
   ]
  },
  {
   "cell_type": "code",
   "execution_count": 42,
   "id": "e5448ba0-e826-49ac-affb-687ad0dc060c",
   "metadata": {},
   "outputs": [
    {
     "data": {
      "application/vnd.jupyter.widget-view+json": {
       "model_id": "2f917b10ac2343429f17daaa4416c7f5",
       "version_major": 2,
       "version_minor": 0
      },
      "text/plain": [
       "  0%|          | 0/1 [00:00<?, ?it/s]"
      ]
     },
     "metadata": {},
     "output_type": "display_data"
    },
    {
     "data": {
      "application/vnd.jupyter.widget-view+json": {
       "model_id": "e0df7d25883545c791febda95f44e46c",
       "version_major": 2,
       "version_minor": 0
      },
      "text/plain": [
       "  0%|          | 0/1 [00:00<?, ?it/s]"
      ]
     },
     "metadata": {},
     "output_type": "display_data"
    },
    {
     "data": {
      "application/vnd.jupyter.widget-view+json": {
       "model_id": "e3cbec746d8240f5880173539218d86b",
       "version_major": 2,
       "version_minor": 0
      },
      "text/plain": [
       "  0%|          | 0/1 [00:00<?, ?it/s]"
      ]
     },
     "metadata": {},
     "output_type": "display_data"
    },
    {
     "data": {
      "application/vnd.jupyter.widget-view+json": {
       "model_id": "63e2291b2d63404d92ed68d57fcf78d9",
       "version_major": 2,
       "version_minor": 0
      },
      "text/plain": [
       "  0%|          | 0/1 [00:00<?, ?it/s]"
      ]
     },
     "metadata": {},
     "output_type": "display_data"
    },
    {
     "data": {
      "application/vnd.jupyter.widget-view+json": {
       "model_id": "c5c14d4708384d99a5a33d07420751bf",
       "version_major": 2,
       "version_minor": 0
      },
      "text/plain": [
       "  0%|          | 0/1 [00:00<?, ?it/s]"
      ]
     },
     "metadata": {},
     "output_type": "display_data"
    }
   ],
   "source": [
    "for num in df['수료번호']:\n",
    "    inputFile= num +'.docx'\n",
    "    outputFile = num+ '.pdf'\n",
    "    \n",
    "    convert(inputFile,\\\n",
    "            'C:\\\\Users\\\\user\\\\Desktop\\\\pytho'+ outputFile)"
   ]
  },
  {
   "cell_type": "code",
   "execution_count": null,
   "id": "784dfa28-de8d-4da9-9f45-4546ed6da15f",
   "metadata": {},
   "outputs": [],
   "source": []
  }
 ],
 "metadata": {
  "kernelspec": {
   "display_name": "Python 3 (ipykernel)",
   "language": "python",
   "name": "python3"
  },
  "language_info": {
   "codemirror_mode": {
    "name": "ipython",
    "version": 3
   },
   "file_extension": ".py",
   "mimetype": "text/x-python",
   "name": "python",
   "nbconvert_exporter": "python",
   "pygments_lexer": "ipython3",
   "version": "3.9.12"
  }
 },
 "nbformat": 4,
 "nbformat_minor": 5
}
