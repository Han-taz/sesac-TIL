{
 "cells": [
  {
   "cell_type": "code",
   "execution_count": 1,
   "id": "33e2a443-8132-41eb-87f9-cf17fb28ef10",
   "metadata": {},
   "outputs": [],
   "source": [
    "import pandas as pd\n",
    "import numpy as np\n",
    "import pandas as pd\n",
    "from sklearn.model_selection import train_test_split\n",
    "from sklearn.linear_model import LogisticRegression\n",
    "from sklearn.linear_model import LogisticRegressionCV\n",
    "from sklearn.metrics import mean_absolute_error\n",
    "from sklearn.preprocessing import StandardScaler\n",
    "import pickle\n",
    "from sklearn.preprocessing import PolynomialFeatures\n",
    "import warnings\n",
    "warnings.filterwarnings(action='ignore')"
   ]
  },
  {
   "cell_type": "code",
   "execution_count": 2,
   "id": "d62afb56-ff31-42c9-a940-7e476a1440e4",
   "metadata": {},
   "outputs": [],
   "source": [
    "from sklearn.svm import SVC#### Support Vector Machine = SVC"
   ]
  },
  {
   "cell_type": "code",
   "execution_count": 3,
   "id": "79589368-d72a-4e92-8314-f0867c5f5ffa",
   "metadata": {},
   "outputs": [],
   "source": [
    "df=pd.read_csv('diabetes.csv')### outcome=1 당뇨 outcome=0 당뇨x"
   ]
  },
  {
   "cell_type": "code",
   "execution_count": 4,
   "id": "44abbc4c-fdfe-4a55-9fbf-0a6efe728c9c",
   "metadata": {},
   "outputs": [
    {
     "name": "stdout",
     "output_type": "stream",
     "text": [
      "<class 'pandas.core.frame.DataFrame'>\n",
      "RangeIndex: 768 entries, 0 to 767\n",
      "Data columns (total 9 columns):\n",
      " #   Column                    Non-Null Count  Dtype  \n",
      "---  ------                    --------------  -----  \n",
      " 0   Pregnancies               768 non-null    int64  \n",
      " 1   Glucose                   768 non-null    int64  \n",
      " 2   BloodPressure             768 non-null    int64  \n",
      " 3   SkinThickness             768 non-null    int64  \n",
      " 4   Insulin                   768 non-null    int64  \n",
      " 5   BMI                       768 non-null    float64\n",
      " 6   DiabetesPedigreeFunction  768 non-null    float64\n",
      " 7   Age                       768 non-null    int64  \n",
      " 8   Outcome                   768 non-null    int64  \n",
      "dtypes: float64(2), int64(7)\n",
      "memory usage: 54.1 KB\n"
     ]
    }
   ],
   "source": [
    "df.info()"
   ]
  },
  {
   "cell_type": "code",
   "execution_count": 5,
   "id": "cb636836-3d99-4024-9fdd-5a25751037d3",
   "metadata": {},
   "outputs": [
    {
     "data": {
      "text/html": [
       "<div>\n",
       "<style scoped>\n",
       "    .dataframe tbody tr th:only-of-type {\n",
       "        vertical-align: middle;\n",
       "    }\n",
       "\n",
       "    .dataframe tbody tr th {\n",
       "        vertical-align: top;\n",
       "    }\n",
       "\n",
       "    .dataframe thead th {\n",
       "        text-align: right;\n",
       "    }\n",
       "</style>\n",
       "<table border=\"1\" class=\"dataframe\">\n",
       "  <thead>\n",
       "    <tr style=\"text-align: right;\">\n",
       "      <th></th>\n",
       "      <th>Pregnancies</th>\n",
       "      <th>Glucose</th>\n",
       "      <th>BloodPressure</th>\n",
       "      <th>SkinThickness</th>\n",
       "      <th>Insulin</th>\n",
       "      <th>BMI</th>\n",
       "      <th>DiabetesPedigreeFunction</th>\n",
       "      <th>Age</th>\n",
       "      <th>Outcome</th>\n",
       "    </tr>\n",
       "  </thead>\n",
       "  <tbody>\n",
       "    <tr>\n",
       "      <th>0</th>\n",
       "      <td>6</td>\n",
       "      <td>148</td>\n",
       "      <td>72</td>\n",
       "      <td>35</td>\n",
       "      <td>0</td>\n",
       "      <td>33.6</td>\n",
       "      <td>0.627</td>\n",
       "      <td>50</td>\n",
       "      <td>1</td>\n",
       "    </tr>\n",
       "    <tr>\n",
       "      <th>1</th>\n",
       "      <td>1</td>\n",
       "      <td>85</td>\n",
       "      <td>66</td>\n",
       "      <td>29</td>\n",
       "      <td>0</td>\n",
       "      <td>26.6</td>\n",
       "      <td>0.351</td>\n",
       "      <td>31</td>\n",
       "      <td>0</td>\n",
       "    </tr>\n",
       "    <tr>\n",
       "      <th>2</th>\n",
       "      <td>8</td>\n",
       "      <td>183</td>\n",
       "      <td>64</td>\n",
       "      <td>0</td>\n",
       "      <td>0</td>\n",
       "      <td>23.3</td>\n",
       "      <td>0.672</td>\n",
       "      <td>32</td>\n",
       "      <td>1</td>\n",
       "    </tr>\n",
       "    <tr>\n",
       "      <th>3</th>\n",
       "      <td>1</td>\n",
       "      <td>89</td>\n",
       "      <td>66</td>\n",
       "      <td>23</td>\n",
       "      <td>94</td>\n",
       "      <td>28.1</td>\n",
       "      <td>0.167</td>\n",
       "      <td>21</td>\n",
       "      <td>0</td>\n",
       "    </tr>\n",
       "    <tr>\n",
       "      <th>4</th>\n",
       "      <td>0</td>\n",
       "      <td>137</td>\n",
       "      <td>40</td>\n",
       "      <td>35</td>\n",
       "      <td>168</td>\n",
       "      <td>43.1</td>\n",
       "      <td>2.288</td>\n",
       "      <td>33</td>\n",
       "      <td>1</td>\n",
       "    </tr>\n",
       "    <tr>\n",
       "      <th>...</th>\n",
       "      <td>...</td>\n",
       "      <td>...</td>\n",
       "      <td>...</td>\n",
       "      <td>...</td>\n",
       "      <td>...</td>\n",
       "      <td>...</td>\n",
       "      <td>...</td>\n",
       "      <td>...</td>\n",
       "      <td>...</td>\n",
       "    </tr>\n",
       "    <tr>\n",
       "      <th>763</th>\n",
       "      <td>10</td>\n",
       "      <td>101</td>\n",
       "      <td>76</td>\n",
       "      <td>48</td>\n",
       "      <td>180</td>\n",
       "      <td>32.9</td>\n",
       "      <td>0.171</td>\n",
       "      <td>63</td>\n",
       "      <td>0</td>\n",
       "    </tr>\n",
       "    <tr>\n",
       "      <th>764</th>\n",
       "      <td>2</td>\n",
       "      <td>122</td>\n",
       "      <td>70</td>\n",
       "      <td>27</td>\n",
       "      <td>0</td>\n",
       "      <td>36.8</td>\n",
       "      <td>0.340</td>\n",
       "      <td>27</td>\n",
       "      <td>0</td>\n",
       "    </tr>\n",
       "    <tr>\n",
       "      <th>765</th>\n",
       "      <td>5</td>\n",
       "      <td>121</td>\n",
       "      <td>72</td>\n",
       "      <td>23</td>\n",
       "      <td>112</td>\n",
       "      <td>26.2</td>\n",
       "      <td>0.245</td>\n",
       "      <td>30</td>\n",
       "      <td>0</td>\n",
       "    </tr>\n",
       "    <tr>\n",
       "      <th>766</th>\n",
       "      <td>1</td>\n",
       "      <td>126</td>\n",
       "      <td>60</td>\n",
       "      <td>0</td>\n",
       "      <td>0</td>\n",
       "      <td>30.1</td>\n",
       "      <td>0.349</td>\n",
       "      <td>47</td>\n",
       "      <td>1</td>\n",
       "    </tr>\n",
       "    <tr>\n",
       "      <th>767</th>\n",
       "      <td>1</td>\n",
       "      <td>93</td>\n",
       "      <td>70</td>\n",
       "      <td>31</td>\n",
       "      <td>0</td>\n",
       "      <td>30.4</td>\n",
       "      <td>0.315</td>\n",
       "      <td>23</td>\n",
       "      <td>0</td>\n",
       "    </tr>\n",
       "  </tbody>\n",
       "</table>\n",
       "<p>768 rows × 9 columns</p>\n",
       "</div>"
      ],
      "text/plain": [
       "     Pregnancies  Glucose  BloodPressure  SkinThickness  Insulin   BMI  \\\n",
       "0              6      148             72             35        0  33.6   \n",
       "1              1       85             66             29        0  26.6   \n",
       "2              8      183             64              0        0  23.3   \n",
       "3              1       89             66             23       94  28.1   \n",
       "4              0      137             40             35      168  43.1   \n",
       "..           ...      ...            ...            ...      ...   ...   \n",
       "763           10      101             76             48      180  32.9   \n",
       "764            2      122             70             27        0  36.8   \n",
       "765            5      121             72             23      112  26.2   \n",
       "766            1      126             60              0        0  30.1   \n",
       "767            1       93             70             31        0  30.4   \n",
       "\n",
       "     DiabetesPedigreeFunction  Age  Outcome  \n",
       "0                       0.627   50        1  \n",
       "1                       0.351   31        0  \n",
       "2                       0.672   32        1  \n",
       "3                       0.167   21        0  \n",
       "4                       2.288   33        1  \n",
       "..                        ...  ...      ...  \n",
       "763                     0.171   63        0  \n",
       "764                     0.340   27        0  \n",
       "765                     0.245   30        0  \n",
       "766                     0.349   47        1  \n",
       "767                     0.315   23        0  \n",
       "\n",
       "[768 rows x 9 columns]"
      ]
     },
     "execution_count": 5,
     "metadata": {},
     "output_type": "execute_result"
    }
   ],
   "source": [
    "df"
   ]
  },
  {
   "cell_type": "code",
   "execution_count": 6,
   "id": "abb04a5a-e6ec-4a22-b53d-d9f7b743a9c7",
   "metadata": {},
   "outputs": [],
   "source": [
    "df[['Glucose','BloodPressure','SkinThickness','Insulin','BMI','DiabetesPedigreeFunction','Age']] = df[['Glucose','BloodPressure','SkinThickness','Insulin','BMI','DiabetesPedigreeFunction','Age']].replace(0,np.NaN)"
   ]
  },
  {
   "cell_type": "code",
   "execution_count": 7,
   "id": "e2259fd8-0012-4f92-a2f0-e1aa170772d7",
   "metadata": {},
   "outputs": [
    {
     "data": {
      "text/html": [
       "<div>\n",
       "<style scoped>\n",
       "    .dataframe tbody tr th:only-of-type {\n",
       "        vertical-align: middle;\n",
       "    }\n",
       "\n",
       "    .dataframe tbody tr th {\n",
       "        vertical-align: top;\n",
       "    }\n",
       "\n",
       "    .dataframe thead th {\n",
       "        text-align: right;\n",
       "    }\n",
       "</style>\n",
       "<table border=\"1\" class=\"dataframe\">\n",
       "  <thead>\n",
       "    <tr style=\"text-align: right;\">\n",
       "      <th></th>\n",
       "      <th>Pregnancies</th>\n",
       "      <th>Glucose</th>\n",
       "      <th>BloodPressure</th>\n",
       "      <th>SkinThickness</th>\n",
       "      <th>Insulin</th>\n",
       "      <th>BMI</th>\n",
       "      <th>DiabetesPedigreeFunction</th>\n",
       "      <th>Age</th>\n",
       "      <th>Outcome</th>\n",
       "    </tr>\n",
       "  </thead>\n",
       "  <tbody>\n",
       "    <tr>\n",
       "      <th>0</th>\n",
       "      <td>6</td>\n",
       "      <td>148.0</td>\n",
       "      <td>72.0</td>\n",
       "      <td>35.0</td>\n",
       "      <td>NaN</td>\n",
       "      <td>33.6</td>\n",
       "      <td>0.627</td>\n",
       "      <td>50</td>\n",
       "      <td>1</td>\n",
       "    </tr>\n",
       "    <tr>\n",
       "      <th>1</th>\n",
       "      <td>1</td>\n",
       "      <td>85.0</td>\n",
       "      <td>66.0</td>\n",
       "      <td>29.0</td>\n",
       "      <td>NaN</td>\n",
       "      <td>26.6</td>\n",
       "      <td>0.351</td>\n",
       "      <td>31</td>\n",
       "      <td>0</td>\n",
       "    </tr>\n",
       "    <tr>\n",
       "      <th>2</th>\n",
       "      <td>8</td>\n",
       "      <td>183.0</td>\n",
       "      <td>64.0</td>\n",
       "      <td>NaN</td>\n",
       "      <td>NaN</td>\n",
       "      <td>23.3</td>\n",
       "      <td>0.672</td>\n",
       "      <td>32</td>\n",
       "      <td>1</td>\n",
       "    </tr>\n",
       "    <tr>\n",
       "      <th>3</th>\n",
       "      <td>1</td>\n",
       "      <td>89.0</td>\n",
       "      <td>66.0</td>\n",
       "      <td>23.0</td>\n",
       "      <td>94.0</td>\n",
       "      <td>28.1</td>\n",
       "      <td>0.167</td>\n",
       "      <td>21</td>\n",
       "      <td>0</td>\n",
       "    </tr>\n",
       "    <tr>\n",
       "      <th>4</th>\n",
       "      <td>0</td>\n",
       "      <td>137.0</td>\n",
       "      <td>40.0</td>\n",
       "      <td>35.0</td>\n",
       "      <td>168.0</td>\n",
       "      <td>43.1</td>\n",
       "      <td>2.288</td>\n",
       "      <td>33</td>\n",
       "      <td>1</td>\n",
       "    </tr>\n",
       "    <tr>\n",
       "      <th>...</th>\n",
       "      <td>...</td>\n",
       "      <td>...</td>\n",
       "      <td>...</td>\n",
       "      <td>...</td>\n",
       "      <td>...</td>\n",
       "      <td>...</td>\n",
       "      <td>...</td>\n",
       "      <td>...</td>\n",
       "      <td>...</td>\n",
       "    </tr>\n",
       "    <tr>\n",
       "      <th>763</th>\n",
       "      <td>10</td>\n",
       "      <td>101.0</td>\n",
       "      <td>76.0</td>\n",
       "      <td>48.0</td>\n",
       "      <td>180.0</td>\n",
       "      <td>32.9</td>\n",
       "      <td>0.171</td>\n",
       "      <td>63</td>\n",
       "      <td>0</td>\n",
       "    </tr>\n",
       "    <tr>\n",
       "      <th>764</th>\n",
       "      <td>2</td>\n",
       "      <td>122.0</td>\n",
       "      <td>70.0</td>\n",
       "      <td>27.0</td>\n",
       "      <td>NaN</td>\n",
       "      <td>36.8</td>\n",
       "      <td>0.340</td>\n",
       "      <td>27</td>\n",
       "      <td>0</td>\n",
       "    </tr>\n",
       "    <tr>\n",
       "      <th>765</th>\n",
       "      <td>5</td>\n",
       "      <td>121.0</td>\n",
       "      <td>72.0</td>\n",
       "      <td>23.0</td>\n",
       "      <td>112.0</td>\n",
       "      <td>26.2</td>\n",
       "      <td>0.245</td>\n",
       "      <td>30</td>\n",
       "      <td>0</td>\n",
       "    </tr>\n",
       "    <tr>\n",
       "      <th>766</th>\n",
       "      <td>1</td>\n",
       "      <td>126.0</td>\n",
       "      <td>60.0</td>\n",
       "      <td>NaN</td>\n",
       "      <td>NaN</td>\n",
       "      <td>30.1</td>\n",
       "      <td>0.349</td>\n",
       "      <td>47</td>\n",
       "      <td>1</td>\n",
       "    </tr>\n",
       "    <tr>\n",
       "      <th>767</th>\n",
       "      <td>1</td>\n",
       "      <td>93.0</td>\n",
       "      <td>70.0</td>\n",
       "      <td>31.0</td>\n",
       "      <td>NaN</td>\n",
       "      <td>30.4</td>\n",
       "      <td>0.315</td>\n",
       "      <td>23</td>\n",
       "      <td>0</td>\n",
       "    </tr>\n",
       "  </tbody>\n",
       "</table>\n",
       "<p>768 rows × 9 columns</p>\n",
       "</div>"
      ],
      "text/plain": [
       "     Pregnancies  Glucose  BloodPressure  SkinThickness  Insulin   BMI  \\\n",
       "0              6    148.0           72.0           35.0      NaN  33.6   \n",
       "1              1     85.0           66.0           29.0      NaN  26.6   \n",
       "2              8    183.0           64.0            NaN      NaN  23.3   \n",
       "3              1     89.0           66.0           23.0     94.0  28.1   \n",
       "4              0    137.0           40.0           35.0    168.0  43.1   \n",
       "..           ...      ...            ...            ...      ...   ...   \n",
       "763           10    101.0           76.0           48.0    180.0  32.9   \n",
       "764            2    122.0           70.0           27.0      NaN  36.8   \n",
       "765            5    121.0           72.0           23.0    112.0  26.2   \n",
       "766            1    126.0           60.0            NaN      NaN  30.1   \n",
       "767            1     93.0           70.0           31.0      NaN  30.4   \n",
       "\n",
       "     DiabetesPedigreeFunction  Age  Outcome  \n",
       "0                       0.627   50        1  \n",
       "1                       0.351   31        0  \n",
       "2                       0.672   32        1  \n",
       "3                       0.167   21        0  \n",
       "4                       2.288   33        1  \n",
       "..                        ...  ...      ...  \n",
       "763                     0.171   63        0  \n",
       "764                     0.340   27        0  \n",
       "765                     0.245   30        0  \n",
       "766                     0.349   47        1  \n",
       "767                     0.315   23        0  \n",
       "\n",
       "[768 rows x 9 columns]"
      ]
     },
     "execution_count": 7,
     "metadata": {},
     "output_type": "execute_result"
    }
   ],
   "source": [
    "df"
   ]
  },
  {
   "cell_type": "code",
   "execution_count": 8,
   "id": "42051d3c-aac3-4e7e-b95e-572676454a8b",
   "metadata": {},
   "outputs": [
    {
     "data": {
      "text/plain": [
       "Pregnancies                   0\n",
       "Glucose                       5\n",
       "BloodPressure                35\n",
       "SkinThickness               227\n",
       "Insulin                     374\n",
       "BMI                          11\n",
       "DiabetesPedigreeFunction      0\n",
       "Age                           0\n",
       "Outcome                       0\n",
       "dtype: int64"
      ]
     },
     "execution_count": 8,
     "metadata": {},
     "output_type": "execute_result"
    }
   ],
   "source": [
    "df.isnull().sum()"
   ]
  },
  {
   "cell_type": "code",
   "execution_count": 9,
   "id": "50a0fc4c-3f35-43a8-b047-60eb077bc592",
   "metadata": {},
   "outputs": [
    {
     "data": {
      "text/html": [
       "<div>\n",
       "<style scoped>\n",
       "    .dataframe tbody tr th:only-of-type {\n",
       "        vertical-align: middle;\n",
       "    }\n",
       "\n",
       "    .dataframe tbody tr th {\n",
       "        vertical-align: top;\n",
       "    }\n",
       "\n",
       "    .dataframe thead th {\n",
       "        text-align: right;\n",
       "    }\n",
       "</style>\n",
       "<table border=\"1\" class=\"dataframe\">\n",
       "  <thead>\n",
       "    <tr style=\"text-align: right;\">\n",
       "      <th></th>\n",
       "      <th>Pregnancies</th>\n",
       "      <th>Glucose</th>\n",
       "      <th>BloodPressure</th>\n",
       "      <th>SkinThickness</th>\n",
       "      <th>Insulin</th>\n",
       "      <th>BMI</th>\n",
       "      <th>DiabetesPedigreeFunction</th>\n",
       "      <th>Age</th>\n",
       "      <th>Outcome</th>\n",
       "    </tr>\n",
       "  </thead>\n",
       "  <tbody>\n",
       "    <tr>\n",
       "      <th>0</th>\n",
       "      <td>6</td>\n",
       "      <td>148.0</td>\n",
       "      <td>72.0</td>\n",
       "      <td>35.0</td>\n",
       "      <td>NaN</td>\n",
       "      <td>33.6</td>\n",
       "      <td>0.627</td>\n",
       "      <td>50</td>\n",
       "      <td>1</td>\n",
       "    </tr>\n",
       "    <tr>\n",
       "      <th>1</th>\n",
       "      <td>1</td>\n",
       "      <td>85.0</td>\n",
       "      <td>66.0</td>\n",
       "      <td>29.0</td>\n",
       "      <td>NaN</td>\n",
       "      <td>26.6</td>\n",
       "      <td>0.351</td>\n",
       "      <td>31</td>\n",
       "      <td>0</td>\n",
       "    </tr>\n",
       "    <tr>\n",
       "      <th>2</th>\n",
       "      <td>8</td>\n",
       "      <td>183.0</td>\n",
       "      <td>64.0</td>\n",
       "      <td>NaN</td>\n",
       "      <td>NaN</td>\n",
       "      <td>23.3</td>\n",
       "      <td>0.672</td>\n",
       "      <td>32</td>\n",
       "      <td>1</td>\n",
       "    </tr>\n",
       "    <tr>\n",
       "      <th>3</th>\n",
       "      <td>1</td>\n",
       "      <td>89.0</td>\n",
       "      <td>66.0</td>\n",
       "      <td>23.0</td>\n",
       "      <td>94.0</td>\n",
       "      <td>28.1</td>\n",
       "      <td>0.167</td>\n",
       "      <td>21</td>\n",
       "      <td>0</td>\n",
       "    </tr>\n",
       "    <tr>\n",
       "      <th>4</th>\n",
       "      <td>0</td>\n",
       "      <td>137.0</td>\n",
       "      <td>40.0</td>\n",
       "      <td>35.0</td>\n",
       "      <td>168.0</td>\n",
       "      <td>43.1</td>\n",
       "      <td>2.288</td>\n",
       "      <td>33</td>\n",
       "      <td>1</td>\n",
       "    </tr>\n",
       "    <tr>\n",
       "      <th>...</th>\n",
       "      <td>...</td>\n",
       "      <td>...</td>\n",
       "      <td>...</td>\n",
       "      <td>...</td>\n",
       "      <td>...</td>\n",
       "      <td>...</td>\n",
       "      <td>...</td>\n",
       "      <td>...</td>\n",
       "      <td>...</td>\n",
       "    </tr>\n",
       "    <tr>\n",
       "      <th>763</th>\n",
       "      <td>10</td>\n",
       "      <td>101.0</td>\n",
       "      <td>76.0</td>\n",
       "      <td>48.0</td>\n",
       "      <td>180.0</td>\n",
       "      <td>32.9</td>\n",
       "      <td>0.171</td>\n",
       "      <td>63</td>\n",
       "      <td>0</td>\n",
       "    </tr>\n",
       "    <tr>\n",
       "      <th>764</th>\n",
       "      <td>2</td>\n",
       "      <td>122.0</td>\n",
       "      <td>70.0</td>\n",
       "      <td>27.0</td>\n",
       "      <td>NaN</td>\n",
       "      <td>36.8</td>\n",
       "      <td>0.340</td>\n",
       "      <td>27</td>\n",
       "      <td>0</td>\n",
       "    </tr>\n",
       "    <tr>\n",
       "      <th>765</th>\n",
       "      <td>5</td>\n",
       "      <td>121.0</td>\n",
       "      <td>72.0</td>\n",
       "      <td>23.0</td>\n",
       "      <td>112.0</td>\n",
       "      <td>26.2</td>\n",
       "      <td>0.245</td>\n",
       "      <td>30</td>\n",
       "      <td>0</td>\n",
       "    </tr>\n",
       "    <tr>\n",
       "      <th>766</th>\n",
       "      <td>1</td>\n",
       "      <td>126.0</td>\n",
       "      <td>60.0</td>\n",
       "      <td>NaN</td>\n",
       "      <td>NaN</td>\n",
       "      <td>30.1</td>\n",
       "      <td>0.349</td>\n",
       "      <td>47</td>\n",
       "      <td>1</td>\n",
       "    </tr>\n",
       "    <tr>\n",
       "      <th>767</th>\n",
       "      <td>1</td>\n",
       "      <td>93.0</td>\n",
       "      <td>70.0</td>\n",
       "      <td>31.0</td>\n",
       "      <td>NaN</td>\n",
       "      <td>30.4</td>\n",
       "      <td>0.315</td>\n",
       "      <td>23</td>\n",
       "      <td>0</td>\n",
       "    </tr>\n",
       "  </tbody>\n",
       "</table>\n",
       "<p>768 rows × 9 columns</p>\n",
       "</div>"
      ],
      "text/plain": [
       "     Pregnancies  Glucose  BloodPressure  SkinThickness  Insulin   BMI  \\\n",
       "0              6    148.0           72.0           35.0      NaN  33.6   \n",
       "1              1     85.0           66.0           29.0      NaN  26.6   \n",
       "2              8    183.0           64.0            NaN      NaN  23.3   \n",
       "3              1     89.0           66.0           23.0     94.0  28.1   \n",
       "4              0    137.0           40.0           35.0    168.0  43.1   \n",
       "..           ...      ...            ...            ...      ...   ...   \n",
       "763           10    101.0           76.0           48.0    180.0  32.9   \n",
       "764            2    122.0           70.0           27.0      NaN  36.8   \n",
       "765            5    121.0           72.0           23.0    112.0  26.2   \n",
       "766            1    126.0           60.0            NaN      NaN  30.1   \n",
       "767            1     93.0           70.0           31.0      NaN  30.4   \n",
       "\n",
       "     DiabetesPedigreeFunction  Age  Outcome  \n",
       "0                       0.627   50        1  \n",
       "1                       0.351   31        0  \n",
       "2                       0.672   32        1  \n",
       "3                       0.167   21        0  \n",
       "4                       2.288   33        1  \n",
       "..                        ...  ...      ...  \n",
       "763                     0.171   63        0  \n",
       "764                     0.340   27        0  \n",
       "765                     0.245   30        0  \n",
       "766                     0.349   47        1  \n",
       "767                     0.315   23        0  \n",
       "\n",
       "[768 rows x 9 columns]"
      ]
     },
     "execution_count": 9,
     "metadata": {},
     "output_type": "execute_result"
    }
   ],
   "source": [
    "df"
   ]
  },
  {
   "cell_type": "code",
   "execution_count": 10,
   "id": "a7a5a615-9625-46d1-bd32-e9d30755a7c9",
   "metadata": {},
   "outputs": [
    {
     "data": {
      "text/plain": [
       "81"
      ]
     },
     "execution_count": 10,
     "metadata": {},
     "output_type": "execute_result"
    }
   ],
   "source": [
    "df.Age.max()"
   ]
  },
  {
   "cell_type": "code",
   "execution_count": 11,
   "id": "b3a20c1e-13bb-4eb7-8728-ad0271ec2f12",
   "metadata": {},
   "outputs": [],
   "source": [
    "def ageRange(age):\n",
    "    if 21<= age <30:\n",
    "        return 1\n",
    "    elif 31<= age <40:\n",
    "        return 2\n",
    "    elif 41<= age <50:\n",
    "        return 3\n",
    "    elif 51<= age <60:\n",
    "        return 4\n",
    "    elif 61<= age <70:\n",
    "        return 5\n",
    "    else:\n",
    "        return 6\n",
    "    "
   ]
  },
  {
   "cell_type": "code",
   "execution_count": 12,
   "id": "ebe7e395-38a2-40fd-8112-6fb12230e443",
   "metadata": {},
   "outputs": [],
   "source": [
    "df['Age2']=df.Age.apply(ageRange)"
   ]
  },
  {
   "cell_type": "code",
   "execution_count": 13,
   "id": "5647d475-4228-4b66-8d58-fb20e3624bf2",
   "metadata": {},
   "outputs": [
    {
     "data": {
      "text/plain": [
       "0      6\n",
       "1      2\n",
       "2      2\n",
       "3      1\n",
       "4      2\n",
       "      ..\n",
       "763    5\n",
       "764    1\n",
       "765    6\n",
       "766    3\n",
       "767    1\n",
       "Name: Age2, Length: 768, dtype: int64"
      ]
     },
     "execution_count": 13,
     "metadata": {},
     "output_type": "execute_result"
    }
   ],
   "source": [
    "df.Age2"
   ]
  },
  {
   "cell_type": "code",
   "execution_count": 14,
   "id": "6202640d-fe60-4da1-8149-dc28051260a8",
   "metadata": {},
   "outputs": [
    {
     "data": {
      "text/plain": [
       "Age2\n",
       "1    105.0\n",
       "2    140.0\n",
       "3    131.0\n",
       "4    207.0\n",
       "5    185.0\n",
       "6    144.0\n",
       "Name: Insulin, dtype: float64"
      ]
     },
     "execution_count": 14,
     "metadata": {},
     "output_type": "execute_result"
    }
   ],
   "source": [
    "df.groupby('Age2')['Insulin'].median()"
   ]
  },
  {
   "cell_type": "code",
   "execution_count": 15,
   "id": "46f80a1c-58eb-4e2d-a872-76d817904a29",
   "metadata": {},
   "outputs": [],
   "source": [
    "# df[['Glucose','BloodPressure','SkinThickness','Insulin','BMI','DiabetesPedigreeFunction','Age']]"
   ]
  },
  {
   "cell_type": "code",
   "execution_count": 16,
   "id": "a3a6ada7-e299-42f7-a155-5431f4f1a90c",
   "metadata": {},
   "outputs": [],
   "source": [
    "df['Glucose']=df['Glucose'].fillna(df['Glucose'].median())"
   ]
  },
  {
   "cell_type": "code",
   "execution_count": 17,
   "id": "d5de6bd3-f4b8-4d63-b5ab-42f958876f21",
   "metadata": {},
   "outputs": [],
   "source": [
    "df['SkinThickness']=df['SkinThickness'].fillna(df['SkinThickness'].median())"
   ]
  },
  {
   "cell_type": "code",
   "execution_count": 18,
   "id": "ab46bbb1-1e07-4cc8-bc48-c6517c8103a1",
   "metadata": {},
   "outputs": [],
   "source": [
    "df['Insulin']=df['Insulin'].fillna(df['Insulin'].median())"
   ]
  },
  {
   "cell_type": "code",
   "execution_count": 19,
   "id": "9359c91e-22c8-4589-8141-bc336a67d224",
   "metadata": {},
   "outputs": [],
   "source": [
    "df['Insulin']=df['Insulin'].fillna(df['Insulin'].median())"
   ]
  },
  {
   "cell_type": "code",
   "execution_count": 20,
   "id": "5d0a866f-f1cf-4dcd-ac34-01c87d6a31d8",
   "metadata": {},
   "outputs": [],
   "source": [
    "df['BloodPressure']=df['BloodPressure'].fillna(df['BloodPressure'].median())"
   ]
  },
  {
   "cell_type": "code",
   "execution_count": 21,
   "id": "eb2107d6-5098-4605-96b9-c5f43976221b",
   "metadata": {},
   "outputs": [],
   "source": [
    "df['BMI']=df['BMI'].fillna(df['BMI'].median())"
   ]
  },
  {
   "cell_type": "code",
   "execution_count": 22,
   "id": "e28e25b2-b6f3-4e0a-a0bc-4333948916b3",
   "metadata": {},
   "outputs": [],
   "source": [
    "df['DiabetesPedigreeFunction']=df['DiabetesPedigreeFunction'].fillna(df['DiabetesPedigreeFunction'].median())"
   ]
  },
  {
   "cell_type": "code",
   "execution_count": 23,
   "id": "fef68d3e-8846-4eb7-b62f-5cef5ac5d1b3",
   "metadata": {},
   "outputs": [
    {
     "data": {
      "text/plain": [
       "Pregnancies                 0\n",
       "Glucose                     0\n",
       "BloodPressure               0\n",
       "SkinThickness               0\n",
       "Insulin                     0\n",
       "BMI                         0\n",
       "DiabetesPedigreeFunction    0\n",
       "Age                         0\n",
       "Outcome                     0\n",
       "Age2                        0\n",
       "dtype: int64"
      ]
     },
     "execution_count": 23,
     "metadata": {},
     "output_type": "execute_result"
    }
   ],
   "source": [
    "df.isnull().sum()"
   ]
  },
  {
   "cell_type": "code",
   "execution_count": 24,
   "id": "0d3f392c-05c0-419b-b4c2-d8b4f5d759fa",
   "metadata": {},
   "outputs": [
    {
     "data": {
      "text/html": [
       "<div>\n",
       "<style scoped>\n",
       "    .dataframe tbody tr th:only-of-type {\n",
       "        vertical-align: middle;\n",
       "    }\n",
       "\n",
       "    .dataframe tbody tr th {\n",
       "        vertical-align: top;\n",
       "    }\n",
       "\n",
       "    .dataframe thead th {\n",
       "        text-align: right;\n",
       "    }\n",
       "</style>\n",
       "<table border=\"1\" class=\"dataframe\">\n",
       "  <thead>\n",
       "    <tr style=\"text-align: right;\">\n",
       "      <th></th>\n",
       "      <th>Pregnancies</th>\n",
       "      <th>Glucose</th>\n",
       "      <th>BloodPressure</th>\n",
       "      <th>SkinThickness</th>\n",
       "      <th>Insulin</th>\n",
       "      <th>BMI</th>\n",
       "      <th>DiabetesPedigreeFunction</th>\n",
       "      <th>Age</th>\n",
       "      <th>Outcome</th>\n",
       "      <th>Age2</th>\n",
       "    </tr>\n",
       "  </thead>\n",
       "  <tbody>\n",
       "    <tr>\n",
       "      <th>count</th>\n",
       "      <td>768.000000</td>\n",
       "      <td>768.000000</td>\n",
       "      <td>768.000000</td>\n",
       "      <td>768.000000</td>\n",
       "      <td>768.000000</td>\n",
       "      <td>768.000000</td>\n",
       "      <td>768.000000</td>\n",
       "      <td>768.000000</td>\n",
       "      <td>768.000000</td>\n",
       "      <td>768.000000</td>\n",
       "    </tr>\n",
       "    <tr>\n",
       "      <th>mean</th>\n",
       "      <td>3.845052</td>\n",
       "      <td>121.656250</td>\n",
       "      <td>72.386719</td>\n",
       "      <td>29.108073</td>\n",
       "      <td>140.671875</td>\n",
       "      <td>32.455208</td>\n",
       "      <td>0.471876</td>\n",
       "      <td>33.240885</td>\n",
       "      <td>0.348958</td>\n",
       "      <td>2.102865</td>\n",
       "    </tr>\n",
       "    <tr>\n",
       "      <th>std</th>\n",
       "      <td>3.369578</td>\n",
       "      <td>30.438286</td>\n",
       "      <td>12.096642</td>\n",
       "      <td>8.791221</td>\n",
       "      <td>86.383060</td>\n",
       "      <td>6.875177</td>\n",
       "      <td>0.331329</td>\n",
       "      <td>11.760232</td>\n",
       "      <td>0.476951</td>\n",
       "      <td>1.490900</td>\n",
       "    </tr>\n",
       "    <tr>\n",
       "      <th>min</th>\n",
       "      <td>0.000000</td>\n",
       "      <td>44.000000</td>\n",
       "      <td>24.000000</td>\n",
       "      <td>7.000000</td>\n",
       "      <td>14.000000</td>\n",
       "      <td>18.200000</td>\n",
       "      <td>0.078000</td>\n",
       "      <td>21.000000</td>\n",
       "      <td>0.000000</td>\n",
       "      <td>1.000000</td>\n",
       "    </tr>\n",
       "    <tr>\n",
       "      <th>25%</th>\n",
       "      <td>1.000000</td>\n",
       "      <td>99.750000</td>\n",
       "      <td>64.000000</td>\n",
       "      <td>25.000000</td>\n",
       "      <td>121.500000</td>\n",
       "      <td>27.500000</td>\n",
       "      <td>0.243750</td>\n",
       "      <td>24.000000</td>\n",
       "      <td>0.000000</td>\n",
       "      <td>1.000000</td>\n",
       "    </tr>\n",
       "    <tr>\n",
       "      <th>50%</th>\n",
       "      <td>3.000000</td>\n",
       "      <td>117.000000</td>\n",
       "      <td>72.000000</td>\n",
       "      <td>29.000000</td>\n",
       "      <td>125.000000</td>\n",
       "      <td>32.300000</td>\n",
       "      <td>0.372500</td>\n",
       "      <td>29.000000</td>\n",
       "      <td>0.000000</td>\n",
       "      <td>1.000000</td>\n",
       "    </tr>\n",
       "    <tr>\n",
       "      <th>75%</th>\n",
       "      <td>6.000000</td>\n",
       "      <td>140.250000</td>\n",
       "      <td>80.000000</td>\n",
       "      <td>32.000000</td>\n",
       "      <td>127.250000</td>\n",
       "      <td>36.600000</td>\n",
       "      <td>0.626250</td>\n",
       "      <td>41.000000</td>\n",
       "      <td>1.000000</td>\n",
       "      <td>3.000000</td>\n",
       "    </tr>\n",
       "    <tr>\n",
       "      <th>max</th>\n",
       "      <td>17.000000</td>\n",
       "      <td>199.000000</td>\n",
       "      <td>122.000000</td>\n",
       "      <td>99.000000</td>\n",
       "      <td>846.000000</td>\n",
       "      <td>67.100000</td>\n",
       "      <td>2.420000</td>\n",
       "      <td>81.000000</td>\n",
       "      <td>1.000000</td>\n",
       "      <td>6.000000</td>\n",
       "    </tr>\n",
       "  </tbody>\n",
       "</table>\n",
       "</div>"
      ],
      "text/plain": [
       "       Pregnancies     Glucose  BloodPressure  SkinThickness     Insulin  \\\n",
       "count   768.000000  768.000000     768.000000     768.000000  768.000000   \n",
       "mean      3.845052  121.656250      72.386719      29.108073  140.671875   \n",
       "std       3.369578   30.438286      12.096642       8.791221   86.383060   \n",
       "min       0.000000   44.000000      24.000000       7.000000   14.000000   \n",
       "25%       1.000000   99.750000      64.000000      25.000000  121.500000   \n",
       "50%       3.000000  117.000000      72.000000      29.000000  125.000000   \n",
       "75%       6.000000  140.250000      80.000000      32.000000  127.250000   \n",
       "max      17.000000  199.000000     122.000000      99.000000  846.000000   \n",
       "\n",
       "              BMI  DiabetesPedigreeFunction         Age     Outcome  \\\n",
       "count  768.000000                768.000000  768.000000  768.000000   \n",
       "mean    32.455208                  0.471876   33.240885    0.348958   \n",
       "std      6.875177                  0.331329   11.760232    0.476951   \n",
       "min     18.200000                  0.078000   21.000000    0.000000   \n",
       "25%     27.500000                  0.243750   24.000000    0.000000   \n",
       "50%     32.300000                  0.372500   29.000000    0.000000   \n",
       "75%     36.600000                  0.626250   41.000000    1.000000   \n",
       "max     67.100000                  2.420000   81.000000    1.000000   \n",
       "\n",
       "             Age2  \n",
       "count  768.000000  \n",
       "mean     2.102865  \n",
       "std      1.490900  \n",
       "min      1.000000  \n",
       "25%      1.000000  \n",
       "50%      1.000000  \n",
       "75%      3.000000  \n",
       "max      6.000000  "
      ]
     },
     "execution_count": 24,
     "metadata": {},
     "output_type": "execute_result"
    }
   ],
   "source": [
    "df.describe()"
   ]
  },
  {
   "cell_type": "code",
   "execution_count": 25,
   "id": "cf661906-954d-49e1-8ed3-a0ea52e453e6",
   "metadata": {},
   "outputs": [
    {
     "data": {
      "text/plain": [
       "Outcome\n",
       "0    27.0\n",
       "1    36.0\n",
       "Name: Age, dtype: float64"
      ]
     },
     "execution_count": 25,
     "metadata": {},
     "output_type": "execute_result"
    }
   ],
   "source": [
    "df.groupby('Outcome')['Age'].median()"
   ]
  },
  {
   "cell_type": "code",
   "execution_count": 26,
   "id": "8463f5d3-aab5-4e41-8e35-4e575f6f907d",
   "metadata": {},
   "outputs": [
    {
     "data": {
      "text/html": [
       "<div>\n",
       "<style scoped>\n",
       "    .dataframe tbody tr th:only-of-type {\n",
       "        vertical-align: middle;\n",
       "    }\n",
       "\n",
       "    .dataframe tbody tr th {\n",
       "        vertical-align: top;\n",
       "    }\n",
       "\n",
       "    .dataframe thead th {\n",
       "        text-align: right;\n",
       "    }\n",
       "</style>\n",
       "<table border=\"1\" class=\"dataframe\">\n",
       "  <thead>\n",
       "    <tr style=\"text-align: right;\">\n",
       "      <th></th>\n",
       "      <th>Age</th>\n",
       "      <th>BMI</th>\n",
       "    </tr>\n",
       "    <tr>\n",
       "      <th>Outcome</th>\n",
       "      <th></th>\n",
       "      <th></th>\n",
       "    </tr>\n",
       "  </thead>\n",
       "  <tbody>\n",
       "    <tr>\n",
       "      <th>0</th>\n",
       "      <td>27.0</td>\n",
       "      <td>30.40</td>\n",
       "    </tr>\n",
       "    <tr>\n",
       "      <th>1</th>\n",
       "      <td>36.0</td>\n",
       "      <td>34.25</td>\n",
       "    </tr>\n",
       "  </tbody>\n",
       "</table>\n",
       "</div>"
      ],
      "text/plain": [
       "          Age    BMI\n",
       "Outcome             \n",
       "0        27.0  30.40\n",
       "1        36.0  34.25"
      ]
     },
     "execution_count": 26,
     "metadata": {},
     "output_type": "execute_result"
    }
   ],
   "source": [
    "df.groupby('Outcome')['Age','BMI'].median()"
   ]
  },
  {
   "cell_type": "code",
   "execution_count": 27,
   "id": "fef7a02f-b092-40bc-b445-68857d28fd99",
   "metadata": {},
   "outputs": [
    {
     "data": {
      "text/plain": [
       "768"
      ]
     },
     "execution_count": 27,
     "metadata": {},
     "output_type": "execute_result"
    }
   ],
   "source": [
    "len(df.BMI==0)"
   ]
  },
  {
   "cell_type": "code",
   "execution_count": 28,
   "id": "52c19166-3848-437f-8efb-7f9e73beeba8",
   "metadata": {
    "tags": []
   },
   "outputs": [],
   "source": [
    "x=df.drop('Outcome',axis=1)\n",
    "y=df['Outcome']"
   ]
  },
  {
   "cell_type": "code",
   "execution_count": 29,
   "id": "aecc16e0-0501-45a3-be9d-eb2467f1ec22",
   "metadata": {},
   "outputs": [],
   "source": [
    "x_train, x_test, y_train, y_test=train_test_split(x,y,test_size=0.2,stratify=y,random_state=2)"
   ]
  },
  {
   "cell_type": "code",
   "execution_count": 30,
   "id": "31715074-7b4a-4a09-80f3-1e8b64035392",
   "metadata": {},
   "outputs": [],
   "source": [
    "# x_train= scaler.fit_transform(x_train)\n",
    "# x_test= scaler.transform(x_test)"
   ]
  },
  {
   "cell_type": "code",
   "execution_count": 31,
   "id": "a5b43af4-316b-409b-ae13-06d30f13eddc",
   "metadata": {},
   "outputs": [],
   "source": [
    "model=SVC(C=40,gamma=0.0009)"
   ]
  },
  {
   "cell_type": "code",
   "execution_count": 32,
   "id": "7d456ffa-7a12-4119-9f61-70d2d7e8a245",
   "metadata": {
    "tags": []
   },
   "outputs": [
    {
     "data": {
      "text/plain": [
       "SVC(C=40, gamma=0.0009)"
      ]
     },
     "execution_count": 32,
     "metadata": {},
     "output_type": "execute_result"
    }
   ],
   "source": [
    "model.fit(x_train,y_train)"
   ]
  },
  {
   "cell_type": "code",
   "execution_count": 33,
   "id": "37e7b9e8-bf75-4727-aef5-a4ba49f06419",
   "metadata": {
    "tags": []
   },
   "outputs": [
    {
     "data": {
      "text/plain": [
       "0.9364820846905537"
      ]
     },
     "execution_count": 33,
     "metadata": {},
     "output_type": "execute_result"
    }
   ],
   "source": [
    "model.score(x_train,y_train)"
   ]
  },
  {
   "cell_type": "code",
   "execution_count": 34,
   "id": "0dab9b9c-0137-40a5-864b-3e887aaa74a1",
   "metadata": {},
   "outputs": [
    {
     "data": {
      "text/plain": [
       "0.6883116883116883"
      ]
     },
     "execution_count": 34,
     "metadata": {},
     "output_type": "execute_result"
    }
   ],
   "source": [
    "model.score(x_test,y_test)"
   ]
  },
  {
   "cell_type": "code",
   "execution_count": 35,
   "id": "23dabf3f-f8dd-460d-b631-2ca06e6c2e77",
   "metadata": {
    "collapsed": true,
    "jupyter": {
     "outputs_hidden": true
    },
    "tags": []
   },
   "outputs": [
    {
     "name": "stdout",
     "output_type": "stream",
     "text": [
      "Train 1 0.758957654723127\n",
      "Test 1 0.7597402597402597\n",
      "--------------------\n",
      "Train 2 0.7638436482084691\n",
      "Test 2 0.7597402597402597\n",
      "--------------------\n",
      "Train 3 0.7736156351791531\n",
      "Test 3 0.7662337662337663\n",
      "--------------------\n",
      "Train 4 0.7768729641693811\n",
      "Test 4 0.7662337662337663\n",
      "--------------------\n",
      "Train 5 0.7752442996742671\n",
      "Test 5 0.7662337662337663\n",
      "--------------------\n",
      "Train 6 0.7785016286644951\n",
      "Test 6 0.7662337662337663\n",
      "--------------------\n",
      "Train 7 0.7801302931596091\n",
      "Test 7 0.7662337662337663\n",
      "--------------------\n",
      "Train 8 0.7801302931596091\n",
      "Test 8 0.7662337662337663\n",
      "--------------------\n",
      "Train 9 0.7752442996742671\n",
      "Test 9 0.7597402597402597\n",
      "--------------------\n",
      "Train 10 0.7768729641693811\n",
      "Test 10 0.7597402597402597\n",
      "--------------------\n",
      "Train 11 0.7801302931596091\n",
      "Test 11 0.7662337662337663\n",
      "--------------------\n",
      "Train 12 0.7817589576547231\n",
      "Test 12 0.7662337662337663\n",
      "--------------------\n",
      "Train 13 0.7833876221498371\n",
      "Test 13 0.7662337662337663\n",
      "--------------------\n",
      "Train 14 0.7833876221498371\n",
      "Test 14 0.7662337662337663\n",
      "--------------------\n",
      "Train 15 0.7833876221498371\n",
      "Test 15 0.7662337662337663\n",
      "--------------------\n",
      "Train 16 0.7817589576547231\n",
      "Test 16 0.7662337662337663\n",
      "--------------------\n",
      "Train 17 0.7833876221498371\n",
      "Test 17 0.7532467532467533\n",
      "--------------------\n",
      "Train 18 0.7833876221498371\n",
      "Test 18 0.7467532467532467\n",
      "--------------------\n",
      "Train 19 0.7866449511400652\n",
      "Test 19 0.7402597402597403\n",
      "--------------------\n",
      "Train 20 0.7833876221498371\n",
      "Test 20 0.7402597402597403\n",
      "--------------------\n",
      "Train 21 0.7833876221498371\n",
      "Test 21 0.7467532467532467\n",
      "--------------------\n",
      "Train 22 0.7833876221498371\n",
      "Test 22 0.7532467532467533\n",
      "--------------------\n",
      "Train 23 0.7833876221498371\n",
      "Test 23 0.7532467532467533\n",
      "--------------------\n",
      "Train 24 0.7850162866449512\n",
      "Test 24 0.7467532467532467\n",
      "--------------------\n",
      "Train 25 0.7866449511400652\n",
      "Test 25 0.7467532467532467\n",
      "--------------------\n",
      "Train 26 0.7866449511400652\n",
      "Test 26 0.7467532467532467\n",
      "--------------------\n",
      "Train 27 0.7866449511400652\n",
      "Test 27 0.7467532467532467\n",
      "--------------------\n",
      "Train 28 0.7866449511400652\n",
      "Test 28 0.7467532467532467\n",
      "--------------------\n",
      "Train 29 0.7882736156351792\n",
      "Test 29 0.7467532467532467\n",
      "--------------------\n",
      "Train 30 0.7882736156351792\n",
      "Test 30 0.7467532467532467\n",
      "--------------------\n",
      "Train 31 0.7882736156351792\n",
      "Test 31 0.7467532467532467\n",
      "--------------------\n",
      "Train 32 0.7882736156351792\n",
      "Test 32 0.7467532467532467\n",
      "--------------------\n",
      "Train 33 0.7882736156351792\n",
      "Test 33 0.7467532467532467\n",
      "--------------------\n",
      "Train 34 0.7899022801302932\n",
      "Test 34 0.7532467532467533\n",
      "--------------------\n",
      "Train 35 0.7899022801302932\n",
      "Test 35 0.7532467532467533\n",
      "--------------------\n",
      "Train 36 0.7899022801302932\n",
      "Test 36 0.7532467532467533\n",
      "--------------------\n",
      "Train 37 0.7899022801302932\n",
      "Test 37 0.7532467532467533\n",
      "--------------------\n",
      "Train 38 0.7915309446254072\n",
      "Test 38 0.7532467532467533\n",
      "--------------------\n",
      "Train 39 0.7915309446254072\n",
      "Test 39 0.7532467532467533\n",
      "--------------------\n",
      "Train 40 0.7915309446254072\n",
      "Test 40 0.7597402597402597\n",
      "--------------------\n",
      "Train 41 0.7915309446254072\n",
      "Test 41 0.7597402597402597\n",
      "--------------------\n",
      "Train 42 0.7915309446254072\n",
      "Test 42 0.7597402597402597\n",
      "--------------------\n",
      "Train 43 0.7915309446254072\n",
      "Test 43 0.7597402597402597\n",
      "--------------------\n",
      "Train 44 0.7899022801302932\n",
      "Test 44 0.7597402597402597\n",
      "--------------------\n",
      "Train 45 0.7899022801302932\n",
      "Test 45 0.7597402597402597\n",
      "--------------------\n",
      "Train 46 0.7882736156351792\n",
      "Test 46 0.7597402597402597\n",
      "--------------------\n",
      "Train 47 0.7882736156351792\n",
      "Test 47 0.7597402597402597\n",
      "--------------------\n",
      "Train 48 0.7882736156351792\n",
      "Test 48 0.7597402597402597\n",
      "--------------------\n",
      "Train 49 0.7882736156351792\n",
      "Test 49 0.7597402597402597\n",
      "--------------------\n",
      "Train 50 0.7882736156351792\n",
      "Test 50 0.7597402597402597\n",
      "--------------------\n",
      "Train 51 0.7850162866449512\n",
      "Test 51 0.7597402597402597\n",
      "--------------------\n",
      "Train 52 0.7850162866449512\n",
      "Test 52 0.7597402597402597\n",
      "--------------------\n",
      "Train 53 0.7833876221498371\n",
      "Test 53 0.7597402597402597\n",
      "--------------------\n",
      "Train 54 0.7833876221498371\n",
      "Test 54 0.7597402597402597\n",
      "--------------------\n",
      "Train 55 0.7833876221498371\n",
      "Test 55 0.7597402597402597\n",
      "--------------------\n",
      "Train 56 0.7850162866449512\n",
      "Test 56 0.7597402597402597\n",
      "--------------------\n",
      "Train 57 0.7850162866449512\n",
      "Test 57 0.7597402597402597\n",
      "--------------------\n",
      "Train 58 0.7850162866449512\n",
      "Test 58 0.7597402597402597\n",
      "--------------------\n",
      "Train 59 0.7850162866449512\n",
      "Test 59 0.7597402597402597\n",
      "--------------------\n",
      "Train 60 0.7850162866449512\n",
      "Test 60 0.7597402597402597\n",
      "--------------------\n",
      "Train 61 0.7850162866449512\n",
      "Test 61 0.7597402597402597\n",
      "--------------------\n",
      "Train 62 0.7850162866449512\n",
      "Test 62 0.7597402597402597\n",
      "--------------------\n",
      "Train 63 0.7866449511400652\n",
      "Test 63 0.7597402597402597\n",
      "--------------------\n",
      "Train 64 0.7866449511400652\n",
      "Test 64 0.7597402597402597\n",
      "--------------------\n",
      "Train 65 0.7866449511400652\n",
      "Test 65 0.7597402597402597\n",
      "--------------------\n",
      "Train 66 0.7866449511400652\n",
      "Test 66 0.7597402597402597\n",
      "--------------------\n",
      "Train 67 0.7866449511400652\n",
      "Test 67 0.7597402597402597\n",
      "--------------------\n",
      "Train 68 0.7866449511400652\n",
      "Test 68 0.7597402597402597\n",
      "--------------------\n",
      "Train 69 0.7866449511400652\n",
      "Test 69 0.7597402597402597\n",
      "--------------------\n",
      "Train 70 0.7866449511400652\n",
      "Test 70 0.7597402597402597\n",
      "--------------------\n",
      "Train 71 0.7850162866449512\n",
      "Test 71 0.7597402597402597\n",
      "--------------------\n",
      "Train 72 0.7850162866449512\n",
      "Test 72 0.7532467532467533\n",
      "--------------------\n",
      "Train 73 0.7850162866449512\n",
      "Test 73 0.7532467532467533\n",
      "--------------------\n",
      "Train 74 0.7850162866449512\n",
      "Test 74 0.7467532467532467\n",
      "--------------------\n",
      "Train 75 0.7850162866449512\n",
      "Test 75 0.7467532467532467\n",
      "--------------------\n",
      "Train 76 0.7850162866449512\n",
      "Test 76 0.7532467532467533\n",
      "--------------------\n",
      "Train 77 0.7850162866449512\n",
      "Test 77 0.7532467532467533\n",
      "--------------------\n",
      "Train 78 0.7850162866449512\n",
      "Test 78 0.7532467532467533\n",
      "--------------------\n",
      "Train 79 0.7850162866449512\n",
      "Test 79 0.7532467532467533\n",
      "--------------------\n",
      "Train 80 0.7850162866449512\n",
      "Test 80 0.7532467532467533\n",
      "--------------------\n",
      "Train 81 0.7850162866449512\n",
      "Test 81 0.7532467532467533\n",
      "--------------------\n",
      "Train 82 0.7850162866449512\n",
      "Test 82 0.7532467532467533\n",
      "--------------------\n",
      "Train 83 0.7866449511400652\n",
      "Test 83 0.7532467532467533\n",
      "--------------------\n",
      "Train 84 0.7866449511400652\n",
      "Test 84 0.7532467532467533\n",
      "--------------------\n",
      "Train 85 0.7882736156351792\n",
      "Test 85 0.7532467532467533\n",
      "--------------------\n",
      "Train 86 0.7866449511400652\n",
      "Test 86 0.7532467532467533\n",
      "--------------------\n",
      "Train 87 0.7850162866449512\n",
      "Test 87 0.7532467532467533\n",
      "--------------------\n",
      "Train 88 0.7833876221498371\n",
      "Test 88 0.7532467532467533\n",
      "--------------------\n",
      "Train 89 0.7850162866449512\n",
      "Test 89 0.7532467532467533\n",
      "--------------------\n",
      "Train 90 0.7850162866449512\n",
      "Test 90 0.7532467532467533\n",
      "--------------------\n",
      "Train 91 0.7850162866449512\n",
      "Test 91 0.7532467532467533\n",
      "--------------------\n",
      "Train 92 0.7833876221498371\n",
      "Test 92 0.7532467532467533\n",
      "--------------------\n",
      "Train 93 0.7833876221498371\n",
      "Test 93 0.7532467532467533\n",
      "--------------------\n",
      "Train 94 0.7833876221498371\n",
      "Test 94 0.7532467532467533\n",
      "--------------------\n",
      "Train 95 0.7833876221498371\n",
      "Test 95 0.7532467532467533\n",
      "--------------------\n",
      "Train 96 0.7833876221498371\n",
      "Test 96 0.7532467532467533\n",
      "--------------------\n",
      "Train 97 0.7850162866449512\n",
      "Test 97 0.7532467532467533\n",
      "--------------------\n",
      "Train 98 0.7866449511400652\n",
      "Test 98 0.7532467532467533\n",
      "--------------------\n",
      "Train 99 0.7866449511400652\n",
      "Test 99 0.7467532467532467\n",
      "--------------------\n",
      "Train 100 0.7850162866449512\n",
      "Test 100 0.7467532467532467\n",
      "--------------------\n",
      "Train 101 0.7850162866449512\n",
      "Test 101 0.7467532467532467\n",
      "--------------------\n",
      "Train 102 0.7850162866449512\n",
      "Test 102 0.7467532467532467\n",
      "--------------------\n",
      "Train 103 0.7866449511400652\n",
      "Test 103 0.7467532467532467\n",
      "--------------------\n",
      "Train 104 0.7866449511400652\n",
      "Test 104 0.7402597402597403\n",
      "--------------------\n",
      "Train 105 0.7866449511400652\n",
      "Test 105 0.7402597402597403\n",
      "--------------------\n",
      "Train 106 0.7866449511400652\n",
      "Test 106 0.7402597402597403\n",
      "--------------------\n",
      "Train 107 0.7866449511400652\n",
      "Test 107 0.7402597402597403\n",
      "--------------------\n",
      "Train 108 0.7866449511400652\n",
      "Test 108 0.7402597402597403\n",
      "--------------------\n",
      "Train 109 0.7866449511400652\n",
      "Test 109 0.7402597402597403\n",
      "--------------------\n",
      "Train 110 0.7882736156351792\n",
      "Test 110 0.7402597402597403\n",
      "--------------------\n",
      "Train 111 0.7882736156351792\n",
      "Test 111 0.7402597402597403\n",
      "--------------------\n",
      "Train 112 0.7882736156351792\n",
      "Test 112 0.7402597402597403\n",
      "--------------------\n",
      "Train 113 0.7882736156351792\n",
      "Test 113 0.7402597402597403\n",
      "--------------------\n",
      "Train 114 0.7882736156351792\n",
      "Test 114 0.7402597402597403\n",
      "--------------------\n",
      "Train 115 0.7882736156351792\n",
      "Test 115 0.7402597402597403\n",
      "--------------------\n",
      "Train 116 0.7899022801302932\n",
      "Test 116 0.7402597402597403\n",
      "--------------------\n",
      "Train 117 0.7899022801302932\n",
      "Test 117 0.7402597402597403\n",
      "--------------------\n",
      "Train 118 0.7899022801302932\n",
      "Test 118 0.7402597402597403\n",
      "--------------------\n",
      "Train 119 0.7899022801302932\n",
      "Test 119 0.7402597402597403\n",
      "--------------------\n"
     ]
    }
   ],
   "source": [
    "for i in range(1,120):\n",
    "    x_train, x_test, y_train, y_test=train_test_split(x,y,test_size=0.2,random_state=2)\n",
    "    model=SVC(C=i)\n",
    "    model.fit(x_train,y_train)\n",
    "    ret1=model.score(x_train,y_train)\n",
    "    ret2=model.score(x_test,y_test)\n",
    "    print('Train',i,model.score(x_train,y_train))\n",
    "    print('Test',i,model.score(x_test,y_test))\n",
    "    print('-'*20)"
   ]
  },
  {
   "cell_type": "code",
   "execution_count": 36,
   "id": "fa511883-c3c9-4bff-b73a-b38845131132",
   "metadata": {},
   "outputs": [],
   "source": [
    "model2=LogisticRegression()"
   ]
  },
  {
   "cell_type": "code",
   "execution_count": 37,
   "id": "8dcf8322-9124-4565-adf2-f1620c0c196e",
   "metadata": {},
   "outputs": [],
   "source": [
    "model3=LogisticRegressionCV()"
   ]
  },
  {
   "cell_type": "code",
   "execution_count": 38,
   "id": "cbe54fbc-ce50-421f-b647-d07dd7a40a8a",
   "metadata": {},
   "outputs": [],
   "source": [
    "d=[(x_train,y_train),(x_test,y_test)]"
   ]
  },
  {
   "cell_type": "code",
   "execution_count": 39,
   "id": "33201a9b-2c3c-4d0c-af23-13b11ddcdd94",
   "metadata": {},
   "outputs": [],
   "source": [
    "def trainModel(model,d):\n",
    "    model.fit(x_train,y_train)\n",
    "    for x,y in d:\n",
    "        print(model.score(x,y))"
   ]
  },
  {
   "cell_type": "code",
   "execution_count": 40,
   "id": "f161ff9f-e13a-4751-a778-c68e1a1bab53",
   "metadata": {},
   "outputs": [
    {
     "name": "stdout",
     "output_type": "stream",
     "text": [
      "0.7899022801302932\n",
      "0.7402597402597403\n"
     ]
    }
   ],
   "source": [
    "trainModel(model,d)"
   ]
  },
  {
   "cell_type": "code",
   "execution_count": 41,
   "id": "b12fd97b-74c5-4494-947f-2eb3b7ae48cf",
   "metadata": {},
   "outputs": [
    {
     "name": "stdout",
     "output_type": "stream",
     "text": [
      "0.7654723127035831\n",
      "0.7337662337662337\n"
     ]
    }
   ],
   "source": [
    "trainModel(model2,d)"
   ]
  },
  {
   "cell_type": "code",
   "execution_count": 42,
   "id": "a6d8ee54-f39a-4c02-b280-e39094dad0cc",
   "metadata": {},
   "outputs": [
    {
     "name": "stdout",
     "output_type": "stream",
     "text": [
      "0.7768729641693811\n",
      "0.7662337662337663\n"
     ]
    }
   ],
   "source": [
    "trainModel(model3,d)"
   ]
  },
  {
   "cell_type": "code",
   "execution_count": 43,
   "id": "63e6f547-ab46-40fc-b80e-5483d5f00e5b",
   "metadata": {},
   "outputs": [
    {
     "name": "stdout",
     "output_type": "stream",
     "text": [
      "0 (1, 2) 1\n",
      "1 (3, 4) 4\n"
     ]
    }
   ],
   "source": [
    "a = [(1,2),(3,4)]\n",
    "\n",
    "for b, c in enumerate(a):\n",
    "    if b == 0:\n",
    "        print(b, a[0], c[0])\n",
    "    else:\n",
    "        print(b, a[1], c[1])"
   ]
  },
  {
   "cell_type": "code",
   "execution_count": 44,
   "id": "839cb90e-2f1d-49a6-b84d-673a815e0990",
   "metadata": {},
   "outputs": [],
   "source": [
    "# 1. 전처리를 통해서 모델을 하나 만든다.\n",
    "# 2. 전처리 결과와 모델을 저장한다.\n",
    "# 3. real 데이터를 예측한다."
   ]
  },
  {
   "cell_type": "code",
   "execution_count": 45,
   "id": "0d0cfa58-e1a1-4e2e-8c52-6329c57c17b8",
   "metadata": {},
   "outputs": [],
   "source": [
    "def ageRange(age):\n",
    "    if 21<= age <30:\n",
    "        return 1\n",
    "    elif 31<= age <40:\n",
    "        return 2\n",
    "    elif 41<= age <50:\n",
    "        return 3\n",
    "    elif 51<= age <60:\n",
    "        return 4\n",
    "    elif 61<= age <70:\n",
    "        return 5\n",
    "    else:\n",
    "        return 6"
   ]
  },
  {
   "cell_type": "code",
   "execution_count": 46,
   "id": "ad8d6a5b-7a26-4c9c-b3a1-7f2165266ece",
   "metadata": {},
   "outputs": [],
   "source": [
    "col_list=['Glucose','BloodPressure','SkinThickness','Insulin','BMI']"
   ]
  },
  {
   "cell_type": "code",
   "execution_count": 48,
   "id": "9d527ffd-0e9d-4e26-8859-7aee9dd495b2",
   "metadata": {},
   "outputs": [],
   "source": [
    "data=[]\n",
    "for col in col_list:\n",
    "    temp=[]\n",
    "    df[col].fillna(df[col].median())\n",
    "    temp.append(df[col].fillna(df[col].median()))\n",
    "    data.append(temp)"
   ]
  },
  {
   "cell_type": "code",
   "execution_count": 49,
   "id": "764b3579-1668-45ed-85d9-77e5bbbdfbd4",
   "metadata": {
    "tags": []
   },
   "outputs": [
    {
     "data": {
      "text/plain": [
       "[[0      148.0\n",
       "  1       85.0\n",
       "  2      183.0\n",
       "  3       89.0\n",
       "  4      137.0\n",
       "         ...  \n",
       "  763    101.0\n",
       "  764    122.0\n",
       "  765    121.0\n",
       "  766    126.0\n",
       "  767     93.0\n",
       "  Name: Glucose, Length: 768, dtype: float64],\n",
       " [0      72.0\n",
       "  1      66.0\n",
       "  2      64.0\n",
       "  3      66.0\n",
       "  4      40.0\n",
       "         ... \n",
       "  763    76.0\n",
       "  764    70.0\n",
       "  765    72.0\n",
       "  766    60.0\n",
       "  767    70.0\n",
       "  Name: BloodPressure, Length: 768, dtype: float64],\n",
       " [0      35.0\n",
       "  1      29.0\n",
       "  2      29.0\n",
       "  3      23.0\n",
       "  4      35.0\n",
       "         ... \n",
       "  763    48.0\n",
       "  764    27.0\n",
       "  765    23.0\n",
       "  766    29.0\n",
       "  767    31.0\n",
       "  Name: SkinThickness, Length: 768, dtype: float64],\n",
       " [0      125.0\n",
       "  1      125.0\n",
       "  2      125.0\n",
       "  3       94.0\n",
       "  4      168.0\n",
       "         ...  \n",
       "  763    180.0\n",
       "  764    125.0\n",
       "  765    112.0\n",
       "  766    125.0\n",
       "  767    125.0\n",
       "  Name: Insulin, Length: 768, dtype: float64],\n",
       " [0      33.6\n",
       "  1      26.6\n",
       "  2      23.3\n",
       "  3      28.1\n",
       "  4      43.1\n",
       "         ... \n",
       "  763    32.9\n",
       "  764    36.8\n",
       "  765    26.2\n",
       "  766    30.1\n",
       "  767    30.4\n",
       "  Name: BMI, Length: 768, dtype: float64]]"
      ]
     },
     "execution_count": 49,
     "metadata": {},
     "output_type": "execute_result"
    }
   ],
   "source": [
    "data"
   ]
  },
  {
   "cell_type": "code",
   "execution_count": 50,
   "id": "f2c71683-d0c3-4026-a534-7f6127cce3f0",
   "metadata": {},
   "outputs": [],
   "source": [
    "def trainModel(model,d):\n",
    "    model.fit(x_train,y_train)\n",
    "    for x,y in d:\n",
    "        print(model.score(x,y))"
   ]
  },
  {
   "cell_type": "code",
   "execution_count": 51,
   "id": "07fd891d-9a4a-476f-a53b-33319bacd09e",
   "metadata": {},
   "outputs": [],
   "source": [
    "real = [1.,163.,72.,0.,0.,39.,1.222,33.]"
   ]
  },
  {
   "cell_type": "code",
   "execution_count": 52,
   "id": "ca6e0ef0-b58b-40c9-a773-896c22628911",
   "metadata": {},
   "outputs": [],
   "source": [
    "real=np.asarray(real).reshape(1,-1)"
   ]
  },
  {
   "cell_type": "code",
   "execution_count": 53,
   "id": "769d263a-2bfa-4ecf-9c45-d0b349bfd08a",
   "metadata": {},
   "outputs": [
    {
     "data": {
      "text/plain": [
       "Index(['Pregnancies', 'Glucose', 'BloodPressure', 'SkinThickness', 'Insulin',\n",
       "       'BMI', 'DiabetesPedigreeFunction', 'Age', 'Outcome', 'Age2'],\n",
       "      dtype='object')"
      ]
     },
     "execution_count": 53,
     "metadata": {},
     "output_type": "execute_result"
    }
   ],
   "source": [
    "df.columns"
   ]
  },
  {
   "cell_type": "code",
   "execution_count": 54,
   "id": "3daf2a5c-b4b8-4799-9f87-b2385800d867",
   "metadata": {},
   "outputs": [],
   "source": [
    "def ageRange(age):\n",
    "    if 21<= age <30:\n",
    "        return 1\n",
    "    elif 31<= age <40:\n",
    "        return 2\n",
    "    elif 41<= age <50:\n",
    "        return 3\n",
    "    elif 51<= age <60:\n",
    "        return 4\n",
    "    elif 61<= age <70:\n",
    "        return 5\n",
    "    else:\n",
    "        return 6"
   ]
  },
  {
   "cell_type": "code",
   "execution_count": 55,
   "id": "bbf4840c-fa98-4194-b174-a51a4b693d1d",
   "metadata": {},
   "outputs": [],
   "source": [
    "df=pd.DataFrame(real,columns=['Pregnancies', 'Glucose', 'BloodPressure', 'SkinThickness', 'Insulin','BMI', 'DiabetesPedigreeFunction', 'Age'])"
   ]
  },
  {
   "cell_type": "code",
   "execution_count": 56,
   "id": "f10e7413-3f93-425c-af84-61ab8e70af82",
   "metadata": {},
   "outputs": [],
   "source": [
    "df['Age2']=df['Age'].apply(ageRange)"
   ]
  },
  {
   "cell_type": "code",
   "execution_count": 57,
   "id": "23bc0b03-5042-4af2-bd24-e1467e7b43ce",
   "metadata": {},
   "outputs": [],
   "source": [
    "with open('dict_tot.pkl','rb')as f:#### 저장한거 불러오기\n",
    "    dict_tot=pickle.load(f)"
   ]
  },
  {
   "cell_type": "code",
   "execution_count": 58,
   "id": "0e5f2381-c6b5-4600-a344-80e8cacbc271",
   "metadata": {},
   "outputs": [
    {
     "data": {
      "text/plain": [
       "{'Glucose': {1: 109.0, 2: 123.0, 3: 122.0, 4: 139.0, 5: 139.0, 6: 124.0},\n",
       " 'BloodPressure': {1: 68.0, 2: 74.0, 3: 78.0, 4: 78.0, 5: 79.0, 6: 74.0},\n",
       " 'SkinThickness': {1: 27.0, 2: 32.0, 3: 31.0, 4: 28.5, 5: 33.0, 6: 30.0},\n",
       " 'Insulin': {1: 105.0, 2: 140.0, 3: 131.0, 4: 207.0, 5: 185.0, 6: 144.0},\n",
       " 'BMI': {1: 31.6, 2: 32.0, 3: 34.0, 4: 33.3, 5: 28.8, 6: 32.3}}"
      ]
     },
     "execution_count": 58,
     "metadata": {},
     "output_type": "execute_result"
    }
   ],
   "source": [
    "dict_tot"
   ]
  },
  {
   "cell_type": "code",
   "execution_count": 59,
   "id": "b9e630ad-6030-42de-b22e-7556139a92e6",
   "metadata": {},
   "outputs": [],
   "source": [
    "df.loc[0,'SkinThickness']=dict_tot['SkinThickness'][df.loc[0]['Age2']]"
   ]
  },
  {
   "cell_type": "code",
   "execution_count": 60,
   "id": "71d030fb-8a96-409e-b5af-6b31b2e225be",
   "metadata": {},
   "outputs": [],
   "source": [
    "for col in col_list:\n",
    "    df.loc[0,col]=dict_tot[col][df.loc[0]['Age2']]"
   ]
  },
  {
   "cell_type": "code",
   "execution_count": 61,
   "id": "0cb2a639-fe99-4cdb-84a6-3550e5959da0",
   "metadata": {},
   "outputs": [
    {
     "data": {
      "text/plain": [
       "{'Glucose': {1: 109.0, 2: 123.0, 3: 122.0, 4: 139.0, 5: 139.0, 6: 124.0},\n",
       " 'BloodPressure': {1: 68.0, 2: 74.0, 3: 78.0, 4: 78.0, 5: 79.0, 6: 74.0},\n",
       " 'SkinThickness': {1: 27.0, 2: 32.0, 3: 31.0, 4: 28.5, 5: 33.0, 6: 30.0},\n",
       " 'Insulin': {1: 105.0, 2: 140.0, 3: 131.0, 4: 207.0, 5: 185.0, 6: 144.0},\n",
       " 'BMI': {1: 31.6, 2: 32.0, 3: 34.0, 4: 33.3, 5: 28.8, 6: 32.3}}"
      ]
     },
     "execution_count": 61,
     "metadata": {},
     "output_type": "execute_result"
    }
   ],
   "source": [
    "dict_tot"
   ]
  },
  {
   "cell_type": "code",
   "execution_count": 62,
   "id": "5ca828a4-f94f-40f1-97f6-bfbb2474a92f",
   "metadata": {},
   "outputs": [
    {
     "data": {
      "text/html": [
       "<div>\n",
       "<style scoped>\n",
       "    .dataframe tbody tr th:only-of-type {\n",
       "        vertical-align: middle;\n",
       "    }\n",
       "\n",
       "    .dataframe tbody tr th {\n",
       "        vertical-align: top;\n",
       "    }\n",
       "\n",
       "    .dataframe thead th {\n",
       "        text-align: right;\n",
       "    }\n",
       "</style>\n",
       "<table border=\"1\" class=\"dataframe\">\n",
       "  <thead>\n",
       "    <tr style=\"text-align: right;\">\n",
       "      <th></th>\n",
       "      <th>Pregnancies</th>\n",
       "      <th>Glucose</th>\n",
       "      <th>BloodPressure</th>\n",
       "      <th>SkinThickness</th>\n",
       "      <th>Insulin</th>\n",
       "      <th>BMI</th>\n",
       "      <th>DiabetesPedigreeFunction</th>\n",
       "      <th>Age</th>\n",
       "      <th>Age2</th>\n",
       "    </tr>\n",
       "  </thead>\n",
       "  <tbody>\n",
       "    <tr>\n",
       "      <th>0</th>\n",
       "      <td>1.0</td>\n",
       "      <td>123.0</td>\n",
       "      <td>74.0</td>\n",
       "      <td>32.0</td>\n",
       "      <td>140.0</td>\n",
       "      <td>32.0</td>\n",
       "      <td>1.222</td>\n",
       "      <td>33.0</td>\n",
       "      <td>2</td>\n",
       "    </tr>\n",
       "  </tbody>\n",
       "</table>\n",
       "</div>"
      ],
      "text/plain": [
       "   Pregnancies  Glucose  BloodPressure  SkinThickness  Insulin   BMI  \\\n",
       "0          1.0    123.0           74.0           32.0    140.0  32.0   \n",
       "\n",
       "   DiabetesPedigreeFunction   Age  Age2  \n",
       "0                     1.222  33.0     2  "
      ]
     },
     "execution_count": 62,
     "metadata": {},
     "output_type": "execute_result"
    }
   ],
   "source": [
    "df"
   ]
  },
  {
   "cell_type": "code",
   "execution_count": 63,
   "id": "e9935f55-5fa9-4c28-88fc-451d8689eddd",
   "metadata": {},
   "outputs": [],
   "source": [
    "df.drop('Age2', axis=1, inplace=True)"
   ]
  },
  {
   "cell_type": "code",
   "execution_count": 64,
   "id": "165576ca-e7fd-4982-9b42-ac7f3251ee9b",
   "metadata": {},
   "outputs": [],
   "source": [
    "with open('diabet_model.pkl','rb') as f:\n",
    "    model=pickle.load(f)"
   ]
  },
  {
   "cell_type": "code",
   "execution_count": 65,
   "id": "c33c5c63-7688-4a9f-9883-3746f5ab61b0",
   "metadata": {},
   "outputs": [],
   "source": [
    "predict=model.predict(df)"
   ]
  },
  {
   "cell_type": "code",
   "execution_count": 66,
   "id": "95670de0-982c-47df-91fc-9290675318a9",
   "metadata": {},
   "outputs": [
    {
     "name": "stdout",
     "output_type": "stream",
     "text": [
      "당뇨가 없어요\n"
     ]
    }
   ],
   "source": [
    "if predict==0:\n",
    "    print('당뇨가 없어요')\n",
    "else:\n",
    "    print('당뇨에요')"
   ]
  },
  {
   "cell_type": "code",
   "execution_count": 67,
   "id": "029f59e5-656c-4d03-b22c-139f797ff6d5",
   "metadata": {},
   "outputs": [],
   "source": [
    "#왜 당뇨가 없죠?"
   ]
  },
  {
   "cell_type": "code",
   "execution_count": 68,
   "id": "4c227592-4191-4b7f-9ab4-4d058d07ddc8",
   "metadata": {},
   "outputs": [],
   "source": [
    "import preprocessing as pre"
   ]
  },
  {
   "cell_type": "code",
   "execution_count": 69,
   "id": "867c6877-2707-436a-a8c2-2f0f3091f98f",
   "metadata": {},
   "outputs": [
    {
     "data": {
      "text/plain": [
       "['Pregnancies', 'Glucose', 'BloodPressure', 'SkinThickness', 'Insulin', 'BMI']"
      ]
     },
     "execution_count": 69,
     "metadata": {},
     "output_type": "execute_result"
    }
   ],
   "source": [
    "pre.col_list"
   ]
  },
  {
   "cell_type": "code",
   "execution_count": null,
   "id": "66e9681c-ffaa-499d-b568-4e841923f645",
   "metadata": {},
   "outputs": [],
   "source": [
    "def prefunc():\n",
    "    col_list=['Pregnancies', 'Glucose', 'BloodPressure', 'SkinThickness', 'Insulin','BMI']\n",
    "    for col in col_list:\n",
    "        df[col]=np.where(df[col]==0,np.NaN, df[col])\n",
    "    df['Age2']=df['Age'].apply(ageRange)\n",
    "    with open('dict_tot.pkl','rb') as f:\n",
    "        dict_tot=pickle.load(f)\n",
    "    for col in col_list:\n",
    "        df.loc[0,col]=dict_tot[col][df.loc[0]['Age2']]\n",
    "    df.drop('Age2', axis=1, inplace=True)\n",
    "    return df\n",
    "    "
   ]
  }
 ],
 "metadata": {
  "kernelspec": {
   "display_name": "Python 3 (ipykernel)",
   "language": "python",
   "name": "python3"
  },
  "language_info": {
   "codemirror_mode": {
    "name": "ipython",
    "version": 3
   },
   "file_extension": ".py",
   "mimetype": "text/x-python",
   "name": "python",
   "nbconvert_exporter": "python",
   "pygments_lexer": "ipython3",
   "version": "3.9.12"
  }
 },
 "nbformat": 4,
 "nbformat_minor": 5
}
