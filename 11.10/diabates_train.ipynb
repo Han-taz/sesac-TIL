{
 "cells": [
  {
   "cell_type": "code",
   "execution_count": 1,
   "id": "695e673c-cf52-4943-92b5-6077a6265dce",
   "metadata": {},
   "outputs": [],
   "source": [
    "import pandas as pd\n",
    "import numpy as np\n",
    "import pandas as pd\n",
    "from sklearn.model_selection import train_test_split\n",
    "from sklearn.linear_model import LogisticRegression\n",
    "from sklearn.linear_model import LogisticRegressionCV\n",
    "from sklearn.metrics import mean_absolute_error\n",
    "from sklearn.preprocessing import StandardScaler\n",
    "import pickle\n",
    "from sklearn.preprocessing import PolynomialFeatures\n",
    "import warnings\n",
    "warnings.filterwarnings(action='ignore')"
   ]
  },
  {
   "cell_type": "code",
   "execution_count": 34,
   "id": "ce109e47-01d8-48ff-92e9-9b76b347fbc0",
   "metadata": {},
   "outputs": [],
   "source": [
    "df=pd.read_csv('diabetes.csv')### outcome=1 당뇨 outcome=0 당뇨x"
   ]
  },
  {
   "cell_type": "code",
   "execution_count": 35,
   "id": "ecad812c-a027-4750-bda9-165010624ed6",
   "metadata": {},
   "outputs": [],
   "source": [
    "from sklearn.svm import SVC#### Support Vector Machine = SVC"
   ]
  },
  {
   "cell_type": "code",
   "execution_count": 36,
   "id": "3337306e-6b17-42f8-803a-3f96bff4132c",
   "metadata": {},
   "outputs": [],
   "source": [
    "def ageRange(age):\n",
    "    if 21<= age <30:\n",
    "        return 1\n",
    "    elif 31<= age <40:\n",
    "        return 2\n",
    "    elif 41<= age <50:\n",
    "        return 3\n",
    "    elif 51<= age <60:\n",
    "        return 4\n",
    "    elif 61<= age <70:\n",
    "        return 5\n",
    "    else:\n",
    "        return 6"
   ]
  },
  {
   "cell_type": "code",
   "execution_count": 37,
   "id": "781d130b-73c2-4b17-a560-3faa4a065f78",
   "metadata": {},
   "outputs": [],
   "source": [
    "df[['Glucose','BloodPressure','SkinThickness','Insulin','BMI','DiabetesPedigreeFunction','Age']] = df[['Glucose','BloodPressure','SkinThickness','Insulin','BMI','DiabetesPedigreeFunction','Age']].replace(0,np.NaN)"
   ]
  },
  {
   "cell_type": "code",
   "execution_count": 38,
   "id": "85039eb8-83eb-49df-ab0a-83d12aa76e4b",
   "metadata": {},
   "outputs": [],
   "source": [
    "df['Age2']=df.Age.apply(ageRange)"
   ]
  },
  {
   "cell_type": "code",
   "execution_count": 7,
   "id": "643f1a85-6840-430d-93e0-836a72870b50",
   "metadata": {},
   "outputs": [],
   "source": [
    "df['Glucose']=df['Glucose'].fillna(df['Glucose'].median())"
   ]
  },
  {
   "cell_type": "code",
   "execution_count": 8,
   "id": "8f07556e-2835-409c-b005-9d52f80717f7",
   "metadata": {},
   "outputs": [],
   "source": [
    "df['SkinThickness']=df['SkinThickness'].fillna(df['SkinThickness'].median())"
   ]
  },
  {
   "cell_type": "code",
   "execution_count": 9,
   "id": "11bc8189-7d37-4e1d-ad6c-d0abf4106b0e",
   "metadata": {},
   "outputs": [],
   "source": [
    "df['Insulin']=df['Insulin'].fillna(df['Insulin'].median())"
   ]
  },
  {
   "cell_type": "code",
   "execution_count": 10,
   "id": "c3229641-a1e9-44a3-b916-db45db145f0b",
   "metadata": {},
   "outputs": [],
   "source": [
    "df['Insulin']=df['Insulin'].fillna(df['Insulin'].median())"
   ]
  },
  {
   "cell_type": "code",
   "execution_count": 11,
   "id": "38e73b0e-559f-4b2c-9c52-82f5f650ffa1",
   "metadata": {},
   "outputs": [],
   "source": [
    "df['BloodPressure']=df['BloodPressure'].fillna(df['BloodPressure'].median())"
   ]
  },
  {
   "cell_type": "code",
   "execution_count": 12,
   "id": "79d0f421-8852-4d52-b2dd-5e966e588647",
   "metadata": {},
   "outputs": [],
   "source": [
    "df['BMI']=df['BMI'].fillna(df['BMI'].median())"
   ]
  },
  {
   "cell_type": "code",
   "execution_count": 13,
   "id": "67d535f7-2779-4d76-9211-15460b45c814",
   "metadata": {},
   "outputs": [],
   "source": [
    "df['DiabetesPedigreeFunction']=df['DiabetesPedigreeFunction'].fillna(df['DiabetesPedigreeFunction'].median())"
   ]
  },
  {
   "cell_type": "code",
   "execution_count": 25,
   "id": "67a55fe5-93ad-4e60-8ead-fc371c1879c8",
   "metadata": {},
   "outputs": [],
   "source": [
    "x=df.drop(['Outcome','Age2'],axis=1)\n",
    "y=df['Outcome']"
   ]
  },
  {
   "cell_type": "code",
   "execution_count": 26,
   "id": "c1d32f79-eb23-4188-9d60-ac3b76858e56",
   "metadata": {},
   "outputs": [],
   "source": [
    "x_train, x_test, y_train, y_test=train_test_split(x,y,test_size=0.2,stratify=y,random_state=2)"
   ]
  },
  {
   "cell_type": "code",
   "execution_count": 27,
   "id": "aefd53db-244f-416b-9db3-d231135ecf8f",
   "metadata": {},
   "outputs": [],
   "source": [
    "model=SVC()"
   ]
  },
  {
   "cell_type": "code",
   "execution_count": 28,
   "id": "fe2ff273-ab4a-4d6e-a3a3-460aaa6dd8eb",
   "metadata": {},
   "outputs": [
    {
     "data": {
      "text/plain": [
       "SVC()"
      ]
     },
     "execution_count": 28,
     "metadata": {},
     "output_type": "execute_result"
    }
   ],
   "source": [
    "model.fit(x_train,y_train)"
   ]
  },
  {
   "cell_type": "code",
   "execution_count": 29,
   "id": "c2510d89-1bee-449e-923d-cbb8fc32365a",
   "metadata": {},
   "outputs": [
    {
     "data": {
      "text/plain": [
       "0.7768729641693811"
      ]
     },
     "execution_count": 29,
     "metadata": {},
     "output_type": "execute_result"
    }
   ],
   "source": [
    "model.score(x_train,y_train)"
   ]
  },
  {
   "cell_type": "code",
   "execution_count": 30,
   "id": "5610374f-97bd-4e54-9e3b-33fb7fea630b",
   "metadata": {},
   "outputs": [
    {
     "data": {
      "text/plain": [
       "0.7532467532467533"
      ]
     },
     "execution_count": 30,
     "metadata": {},
     "output_type": "execute_result"
    }
   ],
   "source": [
    "model.score(x_test,y_test)"
   ]
  },
  {
   "cell_type": "code",
   "execution_count": 70,
   "id": "07edbc7e-5740-4e1d-b58c-e403cc7b6a9e",
   "metadata": {},
   "outputs": [],
   "source": [
    "with open('C:\\\\Users\\\\user\\\\Desktop\\\\python\\\\파일\\\\diabate_model.pkl','wb')as f:\n",
    "    pickle.dump(model,f)"
   ]
  },
  {
   "cell_type": "code",
   "execution_count": 42,
   "id": "bca513d2-ea50-45a0-8f13-384581df734a",
   "metadata": {},
   "outputs": [
    {
     "data": {
      "text/plain": [
       "Index(['Pregnancies', 'Glucose', 'BloodPressure', 'SkinThickness', 'Insulin',\n",
       "       'BMI', 'DiabetesPedigreeFunction', 'Age', 'Outcome', 'Age2'],\n",
       "      dtype='object')"
      ]
     },
     "execution_count": 42,
     "metadata": {},
     "output_type": "execute_result"
    }
   ],
   "source": [
    "df.columns"
   ]
  },
  {
   "cell_type": "code",
   "execution_count": 45,
   "id": "fe50b464-f846-4958-98b1-1a5b86052033",
   "metadata": {},
   "outputs": [],
   "source": [
    "index=df.groupby('Age2')['Glucose'].median().index\n",
    "value=df.groupby('Age2')['Glucose'].median().values"
   ]
  },
  {
   "cell_type": "code",
   "execution_count": 63,
   "id": "ef0f06dc-bdb9-4a62-8cc1-159c220d5fe3",
   "metadata": {},
   "outputs": [],
   "source": [
    "col_list=['Glucose','BloodPressure','SkinThickness','Insulin','BMI']"
   ]
  },
  {
   "cell_type": "code",
   "execution_count": 64,
   "id": "a3d63ebd-a4b1-42e4-a07e-2a4863a71a09",
   "metadata": {},
   "outputs": [
    {
     "name": "stdout",
     "output_type": "stream",
     "text": [
      "Int64Index([1, 2, 3, 4, 5, 6], dtype='int64', name='Age2') [0.3655 0.445  0.335  0.467  0.414  0.3415]\n",
      "Int64Index([1, 2, 3, 4, 5, 6], dtype='int64', name='Age2') [109. 123. 122. 139. 139. 124.]\n",
      "Int64Index([1, 2, 3, 4, 5, 6], dtype='int64', name='Age2') [68. 74. 78. 78. 79. 74.]\n",
      "Int64Index([1, 2, 3, 4, 5, 6], dtype='int64', name='Age2') [27.  32.  31.  28.5 33.  30. ]\n",
      "Int64Index([1, 2, 3, 4, 5, 6], dtype='int64', name='Age2') [105. 140. 131. 207. 185. 144.]\n"
     ]
    }
   ],
   "source": [
    "dict_tot={}\n",
    "for col in col_list:\n",
    "    print(index,value)\n",
    "    index=df.groupby('Age2')[col].median().index\n",
    "    value=df.groupby('Age2')[col].median().values\n",
    "    temp={}\n",
    "    for i in range(len(index)):\n",
    "        temp[index[i]]=value[i]\n",
    "        dict_tot[col]=temp"
   ]
  },
  {
   "cell_type": "code",
   "execution_count": 65,
   "id": "26d70e6d-6279-478a-a3cd-f8303a134caf",
   "metadata": {},
   "outputs": [
    {
     "data": {
      "text/plain": [
       "{1: 0.3655, 2: 0.445, 3: 0.335, 4: 0.467, 5: 0.414, 6: 0.3415}"
      ]
     },
     "execution_count": 65,
     "metadata": {},
     "output_type": "execute_result"
    }
   ],
   "source": [
    "glu_dict"
   ]
  },
  {
   "cell_type": "code",
   "execution_count": 66,
   "id": "b19570b4-e171-43a1-b8fc-7ddabf0bb78c",
   "metadata": {},
   "outputs": [
    {
     "data": {
      "text/plain": [
       "{1: 31.6, 2: 32.0, 3: 34.0, 4: 33.3, 5: 28.8, 6: 32.3}"
      ]
     },
     "execution_count": 66,
     "metadata": {},
     "output_type": "execute_result"
    }
   ],
   "source": [
    "temp"
   ]
  },
  {
   "cell_type": "code",
   "execution_count": 67,
   "id": "22353b01-f269-4319-9936-bf48f58548de",
   "metadata": {},
   "outputs": [
    {
     "data": {
      "text/plain": [
       "{'Glucose': {1: 109.0, 2: 123.0, 3: 122.0, 4: 139.0, 5: 139.0, 6: 124.0},\n",
       " 'BloodPressure': {1: 68.0, 2: 74.0, 3: 78.0, 4: 78.0, 5: 79.0, 6: 74.0},\n",
       " 'SkinThickness': {1: 27.0, 2: 32.0, 3: 31.0, 4: 28.5, 5: 33.0, 6: 30.0},\n",
       " 'Insulin': {1: 105.0, 2: 140.0, 3: 131.0, 4: 207.0, 5: 185.0, 6: 144.0},\n",
       " 'BMI': {1: 31.6, 2: 32.0, 3: 34.0, 4: 33.3, 5: 28.8, 6: 32.3}}"
      ]
     },
     "execution_count": 67,
     "metadata": {},
     "output_type": "execute_result"
    }
   ],
   "source": [
    "dict_tot"
   ]
  },
  {
   "cell_type": "code",
   "execution_count": 68,
   "id": "ef40773b-f6c9-4a54-b36d-e46057d435ea",
   "metadata": {},
   "outputs": [],
   "source": [
    "with open('dict_tot.pkl','wb')as f:#### 저장한거 불러오기\n",
    "    pickle.dump(dict_tot,f)"
   ]
  },
  {
   "cell_type": "code",
   "execution_count": null,
   "id": "4806fd34-a311-4d87-8e74-7e7709e4c131",
   "metadata": {},
   "outputs": [],
   "source": []
  }
 ],
 "metadata": {
  "kernelspec": {
   "display_name": "Python 3 (ipykernel)",
   "language": "python",
   "name": "python3"
  },
  "language_info": {
   "codemirror_mode": {
    "name": "ipython",
    "version": 3
   },
   "file_extension": ".py",
   "mimetype": "text/x-python",
   "name": "python",
   "nbconvert_exporter": "python",
   "pygments_lexer": "ipython3",
   "version": "3.9.12"
  }
 },
 "nbformat": 4,
 "nbformat_minor": 5
}
