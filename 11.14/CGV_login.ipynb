{
 "cells": [
  {
   "cell_type": "code",
   "execution_count": 17,
   "id": "5d344cce-1024-4fca-a212-96a825e098e6",
   "metadata": {},
   "outputs": [],
   "source": [
    "#pip install python-dotenv"
   ]
  },
  {
   "cell_type": "code",
   "execution_count": 1,
   "id": "9c5250c1-2d41-45ef-8dcf-425fe513dd06",
   "metadata": {},
   "outputs": [],
   "source": [
    "import time\n",
    "import requests\n",
    "from bs4 import BeautifulSoup\n",
    "from selenium import webdriver\n",
    "from selenium.webdriver.common.keys import Keys\n",
    "from selenium.webdriver.common.by import By\n",
    "from dotenv import load_dotenv\n",
    "import os"
   ]
  },
  {
   "cell_type": "code",
   "execution_count": 19,
   "id": "5a01c246-5b09-4c7a-a8b7-50cdea937442",
   "metadata": {},
   "outputs": [
    {
     "name": "stderr",
     "output_type": "stream",
     "text": [
      "C:\\Users\\user\\AppData\\Local\\Temp\\ipykernel_16160\\3053992391.py:3: DeprecationWarning: executable_path has been deprecated, please pass in a Service object\n",
      "  driver= webdriver.Chrome(DRIVER_DIR)\n"
     ]
    }
   ],
   "source": [
    "#### 예전 버전\n",
    "DRIVER_DIR='./chromedriver.exe'\n",
    "driver= webdriver.Chrome(DRIVER_DIR)"
   ]
  },
  {
   "cell_type": "code",
   "execution_count": 20,
   "id": "ab145ce0-4ddb-4473-994d-192cf7742237",
   "metadata": {},
   "outputs": [
    {
     "ename": "NameError",
     "evalue": "name 'Service' is not defined",
     "output_type": "error",
     "traceback": [
      "\u001b[1;31m---------------------------------------------------------------------------\u001b[0m",
      "\u001b[1;31mNameError\u001b[0m                                 Traceback (most recent call last)",
      "Input \u001b[1;32mIn [20]\u001b[0m, in \u001b[0;36m<cell line: 2>\u001b[1;34m()\u001b[0m\n\u001b[0;32m      1\u001b[0m \u001b[38;5;66;03m#### 좋은 셀레니움\u001b[39;00m\n\u001b[1;32m----> 2\u001b[0m driver\u001b[38;5;241m=\u001b[39m webdriver\u001b[38;5;241m.\u001b[39mChrome(service\u001b[38;5;241m=\u001b[39m\u001b[43mService\u001b[49m(CromeDrvierManger()\u001b[38;5;241m.\u001b[39minstall()))\n",
      "\u001b[1;31mNameError\u001b[0m: name 'Service' is not defined"
     ]
    }
   ],
   "source": [
    "#### 좋은 셀레니움\n",
    "#driver= webdriver.Chrome(service=Service(CromeDrvierManger().install()))"
   ]
  },
  {
   "cell_type": "code",
   "execution_count": 2,
   "id": "94de2f5d-d4de-45c7-a8a9-6e50fc2864f3",
   "metadata": {},
   "outputs": [
    {
     "name": "stdout",
     "output_type": "stream",
     "text": [
      "None\n"
     ]
    }
   ],
   "source": [
    "load_dotenv()\n",
    "print(os.getenv('pw'))"
   ]
  },
  {
   "cell_type": "code",
   "execution_count": 22,
   "id": "d899a8f7-1c6c-4f5a-9805-475e1503149b",
   "metadata": {},
   "outputs": [],
   "source": [
    "driver.get('https://www.cgv.co.kr/')"
   ]
  },
  {
   "cell_type": "code",
   "execution_count": 23,
   "id": "e38737f4-ea4b-4f2a-a632-955724664547",
   "metadata": {},
   "outputs": [],
   "source": [
    "#cgvwrap > div.header > div.header_content > div > ul > li:nth-child(2) > a"
   ]
  },
  {
   "cell_type": "code",
   "execution_count": 24,
   "id": "9db35c1a-a3df-4f34-bea4-5a25ea53945e",
   "metadata": {},
   "outputs": [],
   "source": [
    "ele=driver.find_element(By.CSS_SELECTOR, '#cgvwrap > div.header > div.header_content > div > ul > li:nth-child(2) > a') \n",
    "ele.click()"
   ]
  },
  {
   "cell_type": "code",
   "execution_count": 25,
   "id": "23de0e0f-abe1-4d03-9c5e-81842bc2e2fa",
   "metadata": {},
   "outputs": [],
   "source": [
    "#txtUserId"
   ]
  },
  {
   "cell_type": "code",
   "execution_count": 26,
   "id": "4fb9dc61-febc-4fcd-984a-f76dda4e8750",
   "metadata": {},
   "outputs": [],
   "source": [
    "ele2=driver.find_element(By.ID, 'txtUserId')\n",
    "ele2.send_keys(os.getenv('id'))\n",
    "ele3=driver.find_element(By.ID, 'txtPassword')\n",
    "ele3.send_keys(os.getenv('pw'))\n",
    "ele3.send_keys(Keys.ENTER)\n",
    "ele4=driver.find_element(By.CSS_SELECTOR, '#ctl00_PlaceHolderContent_btn_pw_chag_later')\n",
    "ele4.click()"
   ]
  },
  {
   "cell_type": "code",
   "execution_count": null,
   "id": "7c217d0a-883d-4237-8d7d-e874835f3f7e",
   "metadata": {},
   "outputs": [],
   "source": []
  },
  {
   "cell_type": "code",
   "execution_count": null,
   "id": "65055318-46cf-4e57-8bed-9fed48663aef",
   "metadata": {},
   "outputs": [],
   "source": []
  },
  {
   "cell_type": "code",
   "execution_count": null,
   "id": "33d60399-a488-44a5-9c7f-4d054a29005e",
   "metadata": {},
   "outputs": [],
   "source": []
  }
 ],
 "metadata": {
  "kernelspec": {
   "display_name": "Python 3 (ipykernel)",
   "language": "python",
   "name": "python3"
  },
  "language_info": {
   "codemirror_mode": {
    "name": "ipython",
    "version": 3
   },
   "file_extension": ".py",
   "mimetype": "text/x-python",
   "name": "python",
   "nbconvert_exporter": "python",
   "pygments_lexer": "ipython3",
   "version": "3.9.13"
  }
 },
 "nbformat": 4,
 "nbformat_minor": 5
}
