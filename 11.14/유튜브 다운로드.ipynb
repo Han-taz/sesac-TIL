{
 "cells": [
  {
   "cell_type": "code",
   "execution_count": 1,
   "id": "50bb51c2-210a-4323-a35c-4d2e9aa8714b",
   "metadata": {},
   "outputs": [],
   "source": [
    "import time\n",
    "import requests\n",
    "from bs4 import BeautifulSoup\n",
    "from selenium import webdriver\n",
    "from selenium.webdriver.common.keys import Keys\n",
    "from selenium.webdriver.common.by import By\n",
    "from dotenv import load_dotenv\n",
    "from selenium.webdriver.chrome.service import Service\n",
    "from webdriver_manager.chrome import ChromeDriverManager\n",
    "import os\n",
    "from urllib.request import urlretrieve\n",
    "import urllib.request\n",
    "from pytube import YouTube"
   ]
  },
  {
   "cell_type": "code",
   "execution_count": 2,
   "id": "309c53cf-d14e-4235-9fee-2675e57d4f87",
   "metadata": {},
   "outputs": [],
   "source": [
    "#pip install pytube"
   ]
  },
  {
   "cell_type": "markdown",
   "id": "35ceb98c-5b65-4cd0-b087-33025caf58dd",
   "metadata": {},
   "source": [
    "1. 유튜브주소 확인하고 불러오기\n",
    "2. 페이지 스크롤하기\n",
    "3. 동영상의 링크 따오기\n",
    "4. 링크 다운로드 하기\n",
    "* 예외처리 get_by가 22가 아닌 경우 에러 표시하기"
   ]
  },
  {
   "cell_type": "code",
   "execution_count": 3,
   "id": "57b57461-42b7-49f7-9a28-2b1f130c93f3",
   "metadata": {},
   "outputs": [],
   "source": [
    "driver= webdriver.Chrome(service=Service(ChromeDriverManager().install()))"
   ]
  },
  {
   "cell_type": "code",
   "execution_count": 4,
   "id": "9f1c54aa-e926-43a7-8495-2d167f6a83b5",
   "metadata": {},
   "outputs": [],
   "source": [
    "driver.get('https://www.youtube.com/c/dlwlrma/videos')"
   ]
  },
  {
   "cell_type": "code",
   "execution_count": 5,
   "id": "6e72e2d2-1b42-4220-91c4-57737374def7",
   "metadata": {},
   "outputs": [],
   "source": [
    "#yt-simple-endpoint inline-block style-scope ytd-thumbnail,img"
   ]
  },
  {
   "cell_type": "code",
   "execution_count": 6,
   "id": "42ff8b33-c973-4bd4-abe1-e8d6a505bf8f",
   "metadata": {},
   "outputs": [],
   "source": [
    "images=driver.find_elements(By.ID,'thumbnail')"
   ]
  },
  {
   "cell_type": "code",
   "execution_count": 41,
   "id": "73ce52bf-431e-4d17-94f2-f7fb2c842d45",
   "metadata": {},
   "outputs": [],
   "source": [
    "texts=images=driver.find_elements(By.ID,'video-title-link')"
   ]
  },
  {
   "cell_type": "code",
   "execution_count": null,
   "id": "164851c9-8ea4-4153-b55f-de0f76f30108",
   "metadata": {},
   "outputs": [
    {
     "data": {
      "text/plain": [
       "29"
      ]
     },
     "execution_count": 43,
     "metadata": {},
     "output_type": "execute_result"
    }
   ],
   "source": [
    "len(texts)"
   ]
  },
  {
   "cell_type": "code",
   "execution_count": 44,
   "id": "78576918-0327-4422-955c-e4dbef3f8c39",
   "metadata": {},
   "outputs": [],
   "source": [
    "text_link=[]\n",
    "for i in texts:\n",
    "    text_link.append(i.get_attribute('href'))\n",
    "    "
   ]
  },
  {
   "cell_type": "code",
   "execution_count": 45,
   "id": "422cb357-a4c0-475a-ae41-453ab4226065",
   "metadata": {},
   "outputs": [
    {
     "data": {
      "text/plain": [
       "['https://www.youtube.com/watch?v=lsIzZasGTvI',\n",
       " 'https://www.youtube.com/watch?v=rquWzHAO0S0',\n",
       " 'https://www.youtube.com/watch?v=Cxzzg7L3Xgc',\n",
       " 'https://www.youtube.com/watch?v=40bRn--FL3Y',\n",
       " 'https://www.youtube.com/watch?v=8_kCREClQLY',\n",
       " 'https://www.youtube.com/watch?v=4AwnqPoEFnU',\n",
       " 'https://www.youtube.com/watch?v=wZY6dIl2p7E',\n",
       " 'https://www.youtube.com/watch?v=3ydOp_TbqcA',\n",
       " 'https://www.youtube.com/watch?v=-t-EIBKd90c',\n",
       " 'https://www.youtube.com/watch?v=nw1qH6vR-8o',\n",
       " 'https://www.youtube.com/watch?v=LqfimuFAFJ8',\n",
       " 'https://www.youtube.com/watch?v=ekvJA3GZw1Y',\n",
       " 'https://www.youtube.com/watch?v=x93bn7dGN3w',\n",
       " 'https://www.youtube.com/watch?v=-1UXHfKnvCE',\n",
       " 'https://www.youtube.com/watch?v=kUOIJ2OFxsY',\n",
       " 'https://www.youtube.com/watch?v=TUvBUwMtvBM',\n",
       " 'https://www.youtube.com/watch?v=o-n54-3Hiqw',\n",
       " 'https://www.youtube.com/watch?v=4vDh05pwc7U',\n",
       " 'https://www.youtube.com/watch?v=yQeqUiAsV0w',\n",
       " 'https://www.youtube.com/watch?v=SmQhRHS9-YA',\n",
       " 'https://www.youtube.com/watch?v=3nDzKulmSpg',\n",
       " 'https://www.youtube.com/watch?v=TyOwx0Okc1A',\n",
       " 'https://www.youtube.com/watch?v=nvJeJSrghOI',\n",
       " 'https://www.youtube.com/watch?v=JpTqSzm4JOk',\n",
       " 'https://www.youtube.com/watch?v=bgQIzPnPI88',\n",
       " 'https://www.youtube.com/watch?v=DkO0z4-FHJ0',\n",
       " 'https://www.youtube.com/watch?v=SXRNesWYvV4',\n",
       " 'https://www.youtube.com/watch?v=mVd8C-jEyxA',\n",
       " None]"
      ]
     },
     "execution_count": 45,
     "metadata": {},
     "output_type": "execute_result"
    }
   ],
   "source": [
    "text_link"
   ]
  },
  {
   "cell_type": "code",
   "execution_count": 8,
   "id": "776ef612-fb1c-42e0-96de-b5d22ea1ff34",
   "metadata": {},
   "outputs": [
    {
     "data": {
      "text/plain": [
       "32"
      ]
     },
     "execution_count": 8,
     "metadata": {},
     "output_type": "execute_result"
    }
   ],
   "source": [
    "len(images)"
   ]
  },
  {
   "cell_type": "code",
   "execution_count": 9,
   "id": "1bdd76c8-80e9-4e57-8fa5-f4401d8f09df",
   "metadata": {},
   "outputs": [],
   "source": [
    "image_link=[]\n",
    "for i in images:\n",
    "    image_link.append(i.get_attribute('href'))\n",
    "    "
   ]
  },
  {
   "cell_type": "code",
   "execution_count": 26,
   "id": "b0f51283-640b-4d0b-9b1b-d257610a395f",
   "metadata": {},
   "outputs": [
    {
     "data": {
      "text/plain": [
       "['https://www.youtube.com/watch?v=lsIzZasGTvI',\n",
       " 'https://www.youtube.com/watch?v=rquWzHAO0S0',\n",
       " 'https://www.youtube.com/watch?v=Cxzzg7L3Xgc',\n",
       " 'https://www.youtube.com/watch?v=40bRn--FL3Y',\n",
       " 'https://www.youtube.com/watch?v=8_kCREClQLY',\n",
       " 'https://www.youtube.com/watch?v=4AwnqPoEFnU',\n",
       " 'https://www.youtube.com/watch?v=wZY6dIl2p7E',\n",
       " 'https://www.youtube.com/watch?v=3ydOp_TbqcA',\n",
       " 'https://www.youtube.com/watch?v=-t-EIBKd90c',\n",
       " 'https://www.youtube.com/watch?v=nw1qH6vR-8o',\n",
       " 'https://www.youtube.com/watch?v=LqfimuFAFJ8',\n",
       " 'https://www.youtube.com/watch?v=ekvJA3GZw1Y',\n",
       " 'https://www.youtube.com/watch?v=x93bn7dGN3w',\n",
       " 'https://www.youtube.com/watch?v=-1UXHfKnvCE',\n",
       " 'https://www.youtube.com/watch?v=kUOIJ2OFxsY',\n",
       " 'https://www.youtube.com/watch?v=TUvBUwMtvBM',\n",
       " 'https://www.youtube.com/watch?v=o-n54-3Hiqw',\n",
       " 'https://www.youtube.com/watch?v=4vDh05pwc7U',\n",
       " 'https://www.youtube.com/watch?v=yQeqUiAsV0w',\n",
       " 'https://www.youtube.com/watch?v=SmQhRHS9-YA',\n",
       " 'https://www.youtube.com/watch?v=3nDzKulmSpg',\n",
       " 'https://www.youtube.com/watch?v=TyOwx0Okc1A',\n",
       " 'https://www.youtube.com/watch?v=nvJeJSrghOI',\n",
       " 'https://www.youtube.com/watch?v=JpTqSzm4JOk',\n",
       " 'https://www.youtube.com/watch?v=bgQIzPnPI88',\n",
       " 'https://www.youtube.com/watch?v=DkO0z4-FHJ0',\n",
       " 'https://www.youtube.com/watch?v=SXRNesWYvV4',\n",
       " 'https://www.youtube.com/watch?v=mVd8C-jEyxA',\n",
       " 'https://www.youtube.com/watch?v=mg2bL8iCy-k',\n",
       " 'https://www.youtube.com/watch?v=9y_97VDjLe8']"
      ]
     },
     "execution_count": 26,
     "metadata": {},
     "output_type": "execute_result"
    }
   ],
   "source": [
    "image_link"
   ]
  },
  {
   "cell_type": "code",
   "execution_count": 40,
   "id": "74a2ead8-5b8e-40b0-bc3b-2b4c7f51ac88",
   "metadata": {
    "tags": []
   },
   "outputs": [],
   "source": [
    "for i in image_link:\n",
    "    \n",
    "    yt=YouTube(i)\n",
    "    stream=yt.streams.get_by_itag(137)    \n",
    "    stream.download()"
   ]
  },
  {
   "cell_type": "code",
   "execution_count": null,
   "id": "a0e4967f-6567-40bf-8a06-5c25b356c64a",
   "metadata": {},
   "outputs": [],
   "source": []
  }
 ],
 "metadata": {
  "kernelspec": {
   "display_name": "Python 3 (ipykernel)",
   "language": "python",
   "name": "python3"
  },
  "language_info": {
   "codemirror_mode": {
    "name": "ipython",
    "version": 3
   },
   "file_extension": ".py",
   "mimetype": "text/x-python",
   "name": "python",
   "nbconvert_exporter": "python",
   "pygments_lexer": "ipython3",
   "version": "3.9.13"
  }
 },
 "nbformat": 4,
 "nbformat_minor": 5
}
