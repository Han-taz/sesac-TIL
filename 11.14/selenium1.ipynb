{
 "cells": [
  {
   "cell_type": "code",
   "execution_count": 1,
   "id": "9bed1851-7a7d-4633-9b8b-7c8ca96988fe",
   "metadata": {},
   "outputs": [],
   "source": [
    "### lazy loading\n",
    "#skletion ui 데이터를 불러오는 뼈대 유저 친화적이기 때문에 개발하기는 더 힘들다"
   ]
  },
  {
   "cell_type": "code",
   "execution_count": 2,
   "id": "340f2d6a-04c0-48d6-9965-41b0def612d4",
   "metadata": {},
   "outputs": [],
   "source": [
    "#라이브러리 가져오기"
   ]
  },
  {
   "cell_type": "code",
   "execution_count": 3,
   "id": "3fbbf468-92c1-497d-bba8-edf45c3bd98b",
   "metadata": {
    "collapsed": true,
    "jupyter": {
     "outputs_hidden": true
    },
    "tags": []
   },
   "outputs": [
    {
     "name": "stdout",
     "output_type": "stream",
     "text": [
      "Requirement already satisfied: selenium in c:\\users\\user\\anaconda3\\lib\\site-packages (4.6.0)\n",
      "Requirement already satisfied: urllib3[socks]~=1.26 in c:\\users\\user\\anaconda3\\lib\\site-packages (from selenium) (1.26.9)\n",
      "Requirement already satisfied: certifi>=2021.10.8 in c:\\users\\user\\anaconda3\\lib\\site-packages (from selenium) (2021.10.8)\n",
      "Requirement already satisfied: trio~=0.17 in c:\\users\\user\\anaconda3\\lib\\site-packages (from selenium) (0.22.0)\n",
      "Requirement already satisfied: trio-websocket~=0.9 in c:\\users\\user\\anaconda3\\lib\\site-packages (from selenium) (0.9.2)\n",
      "Requirement already satisfied: exceptiongroup>=1.0.0rc9 in c:\\users\\user\\anaconda3\\lib\\site-packages (from trio~=0.17->selenium) (1.0.2)\n",
      "Requirement already satisfied: idna in c:\\users\\user\\anaconda3\\lib\\site-packages (from trio~=0.17->selenium) (3.3)\n",
      "Requirement already satisfied: attrs>=19.2.0 in c:\\users\\user\\anaconda3\\lib\\site-packages (from trio~=0.17->selenium) (21.4.0)\n",
      "Requirement already satisfied: sniffio in c:\\users\\user\\anaconda3\\lib\\site-packages (from trio~=0.17->selenium) (1.2.0)\n",
      "Requirement already satisfied: async-generator>=1.9 in c:\\users\\user\\anaconda3\\lib\\site-packages (from trio~=0.17->selenium) (1.10)\n",
      "Requirement already satisfied: outcome in c:\\users\\user\\anaconda3\\lib\\site-packages (from trio~=0.17->selenium) (1.2.0)\n",
      "Requirement already satisfied: sortedcontainers in c:\\users\\user\\anaconda3\\lib\\site-packages (from trio~=0.17->selenium) (2.4.0)\n",
      "Requirement already satisfied: cffi>=1.14 in c:\\users\\user\\anaconda3\\lib\\site-packages (from trio~=0.17->selenium) (1.15.0)\n",
      "Requirement already satisfied: pycparser in c:\\users\\user\\anaconda3\\lib\\site-packages (from cffi>=1.14->trio~=0.17->selenium) (2.21)\n",
      "Requirement already satisfied: wsproto>=0.14 in c:\\users\\user\\anaconda3\\lib\\site-packages (from trio-websocket~=0.9->selenium) (1.2.0)\n",
      "Requirement already satisfied: PySocks!=1.5.7,<2.0,>=1.5.6 in c:\\users\\user\\anaconda3\\lib\\site-packages (from urllib3[socks]~=1.26->selenium) (1.7.1)\n",
      "Requirement already satisfied: h11<1,>=0.9.0 in c:\\users\\user\\anaconda3\\lib\\site-packages (from wsproto>=0.14->trio-websocket~=0.9->selenium) (0.14.0)\n",
      "Note: you may need to restart the kernel to use updated packages.\n"
     ]
    }
   ],
   "source": [
    "pip install selenium"
   ]
  },
  {
   "cell_type": "code",
   "execution_count": 7,
   "id": "d1a9d1ff-46b0-42c0-97bc-016c48eab8d4",
   "metadata": {},
   "outputs": [],
   "source": [
    "import time\n",
    "import requests\n",
    "from bs4 import BeautifulSoup\n",
    "from selenium import webdriver\n",
    "from selenium.webdriver.common.keys import Keys\n",
    "from selenium.webdriver.common.by import By"
   ]
  },
  {
   "cell_type": "markdown",
   "id": "ebf9e0e6-1adb-43aa-9f40-5a6452eef8fa",
   "metadata": {},
   "source": [
    "크롬 드라이버로  data:, 크롬 페이지 열기"
   ]
  },
  {
   "cell_type": "code",
   "execution_count": 36,
   "id": "50d98d4a-babc-428a-ab60-ff61ae77a020",
   "metadata": {},
   "outputs": [
    {
     "name": "stderr",
     "output_type": "stream",
     "text": [
      "C:\\Users\\user\\AppData\\Local\\Temp\\ipykernel_9324\\2987732113.py:2: DeprecationWarning: executable_path has been deprecated, please pass in a Service object\n",
      "  driver= webdriver.Chrome(DRIVER_DIR)\n"
     ]
    }
   ],
   "source": [
    "DRIVER_DIR='./chromedriver.exe'\n",
    "driver= webdriver.Chrome(DRIVER_DIR)"
   ]
  },
  {
   "cell_type": "markdown",
   "id": "0538fab0-3c4b-46ca-ae38-296b01109867",
   "metadata": {},
   "source": [
    "페이지 이동하기  \n",
    "driver.get(url)"
   ]
  },
  {
   "cell_type": "code",
   "execution_count": 49,
   "id": "40c1bcb1-af88-4634-8820-e41c03d0c148",
   "metadata": {},
   "outputs": [],
   "source": [
    "driver.get('https://v-room.kr')"
   ]
  },
  {
   "cell_type": "markdown",
   "id": "4ad7f897-4cc0-473e-a38c-f1f56cd799a6",
   "metadata": {},
   "source": [
    "페이지와 상호작용하기"
   ]
  },
  {
   "cell_type": "markdown",
   "id": "399fb880-f26e-445e-b9e3-f618feacb1d8",
   "metadata": {},
   "source": [
    "element=driver.find_element(By.ID, 'passwd-id')  \n",
    "element=driver.find_element(By.Name, 'passwd')  \n",
    "element=driver.find_element(By.Xpath, '//input[@id='pass-id']')  \n",
    "element=driver.find_element(By.CSS_SELECTOR, 'input#passwd-id')  \n",
    " "
   ]
  },
  {
   "cell_type": "code",
   "execution_count": 54,
   "id": "81b3ff00-b94c-4f43-966c-5db71b536c13",
   "metadata": {},
   "outputs": [
    {
     "data": {
      "text/plain": [
       "<selenium.webdriver.remote.webelement.WebElement (session=\"bbd867afe57ed74619a3c03b6e85fc2e\", element=\"e618fe0f-ed6b-4c62-9c52-3d0a04fdd7a7\")>"
      ]
     },
     "execution_count": 54,
     "metadata": {},
     "output_type": "execute_result"
    }
   ],
   "source": [
    "# driver.get('https://v-room.kr/login')\n",
    "# ele=driver.find_element(By.ID, 'inputID')\n",
    "# ele"
   ]
  },
  {
   "cell_type": "code",
   "execution_count": 55,
   "id": "4e054e6e-f61c-460c-a134-fe91fc52ac4e",
   "metadata": {},
   "outputs": [],
   "source": [
    "# ele.send_keys('test')"
   ]
  },
  {
   "cell_type": "markdown",
   "id": "a4124675-408a-4a87-b971-fb5e5ffb0972",
   "metadata": {},
   "source": [
    "비밀번호 test 입력해보기"
   ]
  },
  {
   "cell_type": "code",
   "execution_count": 63,
   "id": "f2fc257d-6248-4bf6-ba65-e16a86c6ce9c",
   "metadata": {},
   "outputs": [],
   "source": [
    "driver.get('https://v-room.kr/login')\n",
    "ele=driver.find_element(By.ID, 'inputID')\n",
    "ele.send_keys('test')\n",
    "ele2=driver.find_element(By.ID, 'inputPW')\n",
    "ele2.send_keys('test')\n",
    "ele3=driver.find_element(By.CSS_SELECTOR, '#container_login > div > form > div > div > button') # .login-bottom .은 class를 뜻함\n",
    "ele3.click()\n",
    "#Keys를 이용해서 키보드 키 입력하기\n",
    "#ele2.send_keys(Keys.PAGE_DOWN)\n",
    "# 엔터키로 로그인하기\n",
    "#ele2.send_keys(Keys.ENTER)"
   ]
  },
  {
   "cell_type": "markdown",
   "id": "40ba7172-cb03-46e0-979a-d7f945d28a0a",
   "metadata": {},
   "source": [
    "#id\t#firstname\tSelects the element with id=\"firstname\"  \n",
    ".class\t.intro\tSelects all elements with class=\"intro\"  \n",
    ".class1.class2\t.name1.name2\tSelects all elements with both name1 and name2 set within its class attribute  \n",
    ".class1 .class2\t.name1 .name2\tSelects all elements with name2 that is a descendant of an element with name1  "
   ]
  },
  {
   "cell_type": "code",
   "execution_count": null,
   "id": "068673ef-0b0c-48cb-ac8e-ffb4995230a0",
   "metadata": {},
   "outputs": [],
   "source": [
    "#container_login > div > form > div > div > button"
   ]
  },
  {
   "cell_type": "code",
   "execution_count": null,
   "id": "403c49bd-ac5a-4cef-9580-c3eb7704ac97",
   "metadata": {},
   "outputs": [],
   "source": [
    "ele3=driver.find_element(By.CSS_SELECTOR, '.login-bottom') # .login-bottom .은 class를 뜻함\n",
    "ele3.click()"
   ]
  },
  {
   "cell_type": "code",
   "execution_count": 64,
   "id": "17b9ebb1-3e2d-448f-b719-d9c7180615af",
   "metadata": {},
   "outputs": [
    {
     "data": {
      "text/plain": [
       "True"
      ]
     },
     "execution_count": 64,
     "metadata": {},
     "output_type": "execute_result"
    }
   ],
   "source": [
    "#현재 화면 저장 어디까지 죄었는지 확인 할 때\n",
    "driver.save_screenshot('screenshot.png')"
   ]
  },
  {
   "cell_type": "code",
   "execution_count": 67,
   "id": "725462e9-712c-4800-ae3d-912837104892",
   "metadata": {},
   "outputs": [],
   "source": [
    "#페이지 이동: 뒤로 가기 앞으로 가기\n",
    "driver.back()\n",
    "driver.forward()"
   ]
  },
  {
   "cell_type": "code",
   "execution_count": 69,
   "id": "58ad5431-a2e9-4364-a888-bc2b38c3d0ef",
   "metadata": {},
   "outputs": [],
   "source": [
    "### 데이터 가져오기\n",
    "driver.get('https://v-room.kr/classlist')"
   ]
  },
  {
   "cell_type": "code",
   "execution_count": 78,
   "id": "b7dc9a0c-96ff-47d9-8805-85aeab6bcece",
   "metadata": {},
   "outputs": [
    {
     "data": {
      "text/plain": [
       "[<selenium.webdriver.remote.webelement.WebElement (session=\"bbd867afe57ed74619a3c03b6e85fc2e\", element=\"fbec1085-fafe-4be9-842f-1d9b2955c757\")>,\n",
       " <selenium.webdriver.remote.webelement.WebElement (session=\"bbd867afe57ed74619a3c03b6e85fc2e\", element=\"0075bad9-174c-4d4a-9038-121b02685a3b\")>,\n",
       " <selenium.webdriver.remote.webelement.WebElement (session=\"bbd867afe57ed74619a3c03b6e85fc2e\", element=\"b8042aa1-ed5f-4d3b-9a1c-49ef72310e9b\")>,\n",
       " <selenium.webdriver.remote.webelement.WebElement (session=\"bbd867afe57ed74619a3c03b6e85fc2e\", element=\"39723b62-b780-412e-916d-1893db32d25a\")>,\n",
       " <selenium.webdriver.remote.webelement.WebElement (session=\"bbd867afe57ed74619a3c03b6e85fc2e\", element=\"c0fb7d6d-2fd2-43aa-9e62-939ca34658d1\")>,\n",
       " <selenium.webdriver.remote.webelement.WebElement (session=\"bbd867afe57ed74619a3c03b6e85fc2e\", element=\"0aa0f144-b013-4c3d-890c-509612f1672b\")>,\n",
       " <selenium.webdriver.remote.webelement.WebElement (session=\"bbd867afe57ed74619a3c03b6e85fc2e\", element=\"7e68e51a-0ae2-41d1-aa8d-35f1f8c9c1c6\")>]"
      ]
     },
     "execution_count": 78,
     "metadata": {},
     "output_type": "execute_result"
    }
   ],
   "source": [
    "#container_course > ul > li:nth-child(1)\n",
    "elem=driver.find_elements(By.CSS_SELECTOR, '.course.register') ## .중요\n",
    "elem"
   ]
  },
  {
   "cell_type": "code",
   "execution_count": 79,
   "id": "a9334b77-d50a-4a53-a37d-b126c94e7b9b",
   "metadata": {},
   "outputs": [
    {
     "name": "stdout",
     "output_type": "stream",
     "text": [
      "[전자정부] 정보보호 개념 이해 및 정립(테스트)\n",
      "[전자정부] 네트워크 보안실무 과정\n",
      "[대검] 사이버수사 전문가 양성교육\n",
      "[전자정부] 웹 해킹 보안 및 취약점 분석(test)\n",
      "[전자정부] 웹 해킹 보안 및 취약점 분석\n",
      "[전자정부] test\n",
      "[VROOM] 체험하기\n"
     ]
    }
   ],
   "source": [
    "for i  in elem:\n",
    "    print(i.text)"
   ]
  },
  {
   "cell_type": "code",
   "execution_count": 82,
   "id": "94e5093e-3512-4c04-9ccf-9c4911a07721",
   "metadata": {
    "collapsed": true,
    "jupyter": {
     "outputs_hidden": true
    },
    "tags": []
   },
   "outputs": [
    {
     "ename": "InvalidSessionIdException",
     "evalue": "Message: invalid session id\nStacktrace:\nBacktrace:\n\tOrdinal0 [0x00A8ACD3+2075859]\n\tOrdinal0 [0x00A1EE61+1633889]\n\tOrdinal0 [0x0091B680+571008]\n\tOrdinal0 [0x0093F924+719140]\n\tOrdinal0 [0x00967210+881168]\n\tOrdinal0 [0x00963FAF+868271]\n\tOrdinal0 [0x00963AF8+867064]\n\tOrdinal0 [0x008FA257+434775]\n\tOrdinal0 [0x008FA8F3+436467]\n\tOrdinal0 [0x008FAD2A+437546]\n\tGetHandleVerifier [0x00D3EED2+2769538]\n\tGetHandleVerifier [0x00D30D95+2711877]\n\tGetHandleVerifier [0x00B1A03A+521194]\n\tGetHandleVerifier [0x00B18DA0+516432]\n\tOrdinal0 [0x00A2682C+1665068]\n\tOrdinal0 [0x008FA0C7+434375]\n\tOrdinal0 [0x008F9AD2+432850]\n\tGetHandleVerifier [0x00D5D12C+2893020]\n\tBaseThreadInitThunk [0x7660FEF9+25]\n\tRtlGetAppContainerNamedObjectPath [0x77657BBE+286]\n\tRtlGetAppContainerNamedObjectPath [0x77657B8E+238]\n",
     "output_type": "error",
     "traceback": [
      "\u001b[1;31m---------------------------------------------------------------------------\u001b[0m",
      "\u001b[1;31mInvalidSessionIdException\u001b[0m                 Traceback (most recent call last)",
      "Input \u001b[1;32mIn [82]\u001b[0m, in \u001b[0;36m<cell line: 1>\u001b[1;34m()\u001b[0m\n\u001b[1;32m----> 1\u001b[0m \u001b[43mdriver\u001b[49m\u001b[38;5;241;43m.\u001b[39;49m\u001b[43mclose\u001b[49m\u001b[43m(\u001b[49m\u001b[43m)\u001b[49m\n",
      "File \u001b[1;32m~\\anaconda3\\lib\\site-packages\\selenium\\webdriver\\remote\\webdriver.py:561\u001b[0m, in \u001b[0;36mWebDriver.close\u001b[1;34m(self)\u001b[0m\n\u001b[0;32m    552\u001b[0m \u001b[38;5;28;01mdef\u001b[39;00m \u001b[38;5;21mclose\u001b[39m(\u001b[38;5;28mself\u001b[39m) \u001b[38;5;241m-\u001b[39m\u001b[38;5;241m>\u001b[39m \u001b[38;5;28;01mNone\u001b[39;00m:\n\u001b[0;32m    553\u001b[0m     \u001b[38;5;124;03m\"\"\"\u001b[39;00m\n\u001b[0;32m    554\u001b[0m \u001b[38;5;124;03m    Closes the current window.\u001b[39;00m\n\u001b[0;32m    555\u001b[0m \n\u001b[1;32m   (...)\u001b[0m\n\u001b[0;32m    559\u001b[0m \u001b[38;5;124;03m            driver.close()\u001b[39;00m\n\u001b[0;32m    560\u001b[0m \u001b[38;5;124;03m    \"\"\"\u001b[39;00m\n\u001b[1;32m--> 561\u001b[0m     \u001b[38;5;28;43mself\u001b[39;49m\u001b[38;5;241;43m.\u001b[39;49m\u001b[43mexecute\u001b[49m\u001b[43m(\u001b[49m\u001b[43mCommand\u001b[49m\u001b[38;5;241;43m.\u001b[39;49m\u001b[43mCLOSE\u001b[49m\u001b[43m)\u001b[49m\n",
      "File \u001b[1;32m~\\anaconda3\\lib\\site-packages\\selenium\\webdriver\\remote\\webdriver.py:444\u001b[0m, in \u001b[0;36mWebDriver.execute\u001b[1;34m(self, driver_command, params)\u001b[0m\n\u001b[0;32m    442\u001b[0m response \u001b[38;5;241m=\u001b[39m \u001b[38;5;28mself\u001b[39m\u001b[38;5;241m.\u001b[39mcommand_executor\u001b[38;5;241m.\u001b[39mexecute(driver_command, params)\n\u001b[0;32m    443\u001b[0m \u001b[38;5;28;01mif\u001b[39;00m response:\n\u001b[1;32m--> 444\u001b[0m     \u001b[38;5;28;43mself\u001b[39;49m\u001b[38;5;241;43m.\u001b[39;49m\u001b[43merror_handler\u001b[49m\u001b[38;5;241;43m.\u001b[39;49m\u001b[43mcheck_response\u001b[49m\u001b[43m(\u001b[49m\u001b[43mresponse\u001b[49m\u001b[43m)\u001b[49m\n\u001b[0;32m    445\u001b[0m     response[\u001b[38;5;124m\"\u001b[39m\u001b[38;5;124mvalue\u001b[39m\u001b[38;5;124m\"\u001b[39m] \u001b[38;5;241m=\u001b[39m \u001b[38;5;28mself\u001b[39m\u001b[38;5;241m.\u001b[39m_unwrap_value(response\u001b[38;5;241m.\u001b[39mget(\u001b[38;5;124m\"\u001b[39m\u001b[38;5;124mvalue\u001b[39m\u001b[38;5;124m\"\u001b[39m, \u001b[38;5;28;01mNone\u001b[39;00m))\n\u001b[0;32m    446\u001b[0m     \u001b[38;5;28;01mreturn\u001b[39;00m response\n",
      "File \u001b[1;32m~\\anaconda3\\lib\\site-packages\\selenium\\webdriver\\remote\\errorhandler.py:249\u001b[0m, in \u001b[0;36mErrorHandler.check_response\u001b[1;34m(self, response)\u001b[0m\n\u001b[0;32m    247\u001b[0m         alert_text \u001b[38;5;241m=\u001b[39m value[\u001b[38;5;124m\"\u001b[39m\u001b[38;5;124malert\u001b[39m\u001b[38;5;124m\"\u001b[39m]\u001b[38;5;241m.\u001b[39mget(\u001b[38;5;124m\"\u001b[39m\u001b[38;5;124mtext\u001b[39m\u001b[38;5;124m\"\u001b[39m)\n\u001b[0;32m    248\u001b[0m     \u001b[38;5;28;01mraise\u001b[39;00m exception_class(message, screen, stacktrace, alert_text)  \u001b[38;5;66;03m# type: ignore[call-arg]  # mypy is not smart enough here\u001b[39;00m\n\u001b[1;32m--> 249\u001b[0m \u001b[38;5;28;01mraise\u001b[39;00m exception_class(message, screen, stacktrace)\n",
      "\u001b[1;31mInvalidSessionIdException\u001b[0m: Message: invalid session id\nStacktrace:\nBacktrace:\n\tOrdinal0 [0x00A8ACD3+2075859]\n\tOrdinal0 [0x00A1EE61+1633889]\n\tOrdinal0 [0x0091B680+571008]\n\tOrdinal0 [0x0093F924+719140]\n\tOrdinal0 [0x00967210+881168]\n\tOrdinal0 [0x00963FAF+868271]\n\tOrdinal0 [0x00963AF8+867064]\n\tOrdinal0 [0x008FA257+434775]\n\tOrdinal0 [0x008FA8F3+436467]\n\tOrdinal0 [0x008FAD2A+437546]\n\tGetHandleVerifier [0x00D3EED2+2769538]\n\tGetHandleVerifier [0x00D30D95+2711877]\n\tGetHandleVerifier [0x00B1A03A+521194]\n\tGetHandleVerifier [0x00B18DA0+516432]\n\tOrdinal0 [0x00A2682C+1665068]\n\tOrdinal0 [0x008FA0C7+434375]\n\tOrdinal0 [0x008F9AD2+432850]\n\tGetHandleVerifier [0x00D5D12C+2893020]\n\tBaseThreadInitThunk [0x7660FEF9+25]\n\tRtlGetAppContainerNamedObjectPath [0x77657BBE+286]\n\tRtlGetAppContainerNamedObjectPath [0x77657B8E+238]\n"
     ]
    }
   ],
   "source": [
    "driver.close()## 마지막에는 항상 꺼주기"
   ]
  },
  {
   "cell_type": "code",
   "execution_count": null,
   "id": "15b71e8f-fcc8-4059-ad4e-a2516b46c9fe",
   "metadata": {},
   "outputs": [],
   "source": []
  }
 ],
 "metadata": {
  "kernelspec": {
   "display_name": "Python 3 (ipykernel)",
   "language": "python",
   "name": "python3"
  },
  "language_info": {
   "codemirror_mode": {
    "name": "ipython",
    "version": 3
   },
   "file_extension": ".py",
   "mimetype": "text/x-python",
   "name": "python",
   "nbconvert_exporter": "python",
   "pygments_lexer": "ipython3",
   "version": "3.9.13"
  }
 },
 "nbformat": 4,
 "nbformat_minor": 5
}
