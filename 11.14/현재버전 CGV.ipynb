{
 "cells": [
  {
   "cell_type": "code",
   "execution_count": 1,
   "id": "141200d9-eadf-48f8-973d-ad85f3c38873",
   "metadata": {},
   "outputs": [],
   "source": [
    "#pip install webdriver_manager"
   ]
  },
  {
   "cell_type": "code",
   "execution_count": 2,
   "id": "f29b5d35-65fe-40ff-8314-ad8e6b028ef1",
   "metadata": {},
   "outputs": [],
   "source": [
    "import time\n",
    "import requests\n",
    "from bs4 import BeautifulSoup\n",
    "from selenium import webdriver\n",
    "from selenium.webdriver.common.keys import Keys\n",
    "from selenium.webdriver.common.by import By\n",
    "from dotenv import load_dotenv\n",
    "from selenium.webdriver.chrome.service import Service\n",
    "from webdriver_manager.chrome import ChromeDriverManager\n",
    "import os"
   ]
  },
  {
   "cell_type": "code",
   "execution_count": 3,
   "id": "c8d08e56-69e4-40f1-81b1-07d5b6c6e198",
   "metadata": {},
   "outputs": [],
   "source": [
    "driver= webdriver.Chrome(service=Service(ChromeDriverManager().install()))"
   ]
  },
  {
   "cell_type": "code",
   "execution_count": 4,
   "id": "41b77273-15a3-4594-9e30-19d13eb2e8e6",
   "metadata": {},
   "outputs": [],
   "source": [
    "#ticket > div.steps > div.step.step1 > div.section.section-time > div.col-body > div.time-list.nano.has-scrollbar > div.content.scroll-y > div > ul > li:nth-child(2) > a > span.time > span"
   ]
  },
  {
   "cell_type": "code",
   "execution_count": 5,
   "id": "6dd4bca2-14de-4319-8cf0-93a2a004fa17",
   "metadata": {},
   "outputs": [],
   "source": [
    "#ticket > div.steps > div.step.step1 > div.section.section-time > div.col-body > div.time-list.nano.has-scrollbar > div.content.scroll-y > div > ul > li.morning.selected > a > span.time > span"
   ]
  },
  {
   "cell_type": "code",
   "execution_count": 6,
   "id": "6a6a15b7-458b-4012-bd60-2aea5c2b4aad",
   "metadata": {},
   "outputs": [],
   "source": [
    "#ticket > div.steps > div.step.step1 > div.section.section-time > div.col-body > div.time-list.nano.has-scrollbar > div.content.scroll-y > div > ul > li.morning.selected > a > span.time > span"
   ]
  },
  {
   "cell_type": "code",
   "execution_count": 7,
   "id": "733ba359-1572-414d-9c52-119c7233cffb",
   "metadata": {},
   "outputs": [],
   "source": [
    "#ticket > div.steps > div.step.step1 > div.section.section-time > div.col-body > div.time-list.nano.has-scrollbar > div.content.scroll-y > div > ul > li:nth-child(3) > a > span.time > span"
   ]
  },
  {
   "cell_type": "code",
   "execution_count": 8,
   "id": "6d4fb0f8-d1d2-47d6-9d70-9c1f771cf4e6",
   "metadata": {},
   "outputs": [],
   "source": [
    "#date_list > ul > div > li.day.today > a"
   ]
  },
  {
   "cell_type": "code",
   "execution_count": 9,
   "id": "fd45dc63-4efc-48a6-8100-4f7883aa583b",
   "metadata": {},
   "outputs": [],
   "source": [
    "#date_list > ul > div > li.day.selected > a"
   ]
  },
  {
   "cell_type": "code",
   "execution_count": 10,
   "id": "11deefd4-3ced-40da-a94e-cb97c336d6b6",
   "metadata": {},
   "outputs": [],
   "source": [
    "driver.get('http://www.cgv.co.kr/movies/?lt=1&ft=0')"
   ]
  },
  {
   "cell_type": "code",
   "execution_count": null,
   "id": "bc195e23-6e6b-4f10-99c8-0a0d8f3f11ab",
   "metadata": {},
   "outputs": [],
   "source": [
    "#contents > div.wrap-movie-chart > div.sect-movie-chart > ol:nth-child(2) > li:nth-child(1) > div.box-image > a > span > img"
   ]
  },
  {
   "cell_type": "code",
   "execution_count": 16,
   "id": "5544ca3b-20a9-4617-a429-d1665d0541a9",
   "metadata": {},
   "outputs": [],
   "source": [
    "images=driver.find_elements(By.CSS_SELECTOR,'box-image,img')"
   ]
  },
  {
   "cell_type": "code",
   "execution_count": 17,
   "id": "9507ea09-55a1-47e2-ae7b-ab7cd03a4f16",
   "metadata": {},
   "outputs": [
    {
     "data": {
      "text/plain": [
       "38"
      ]
     },
     "execution_count": 17,
     "metadata": {},
     "output_type": "execute_result"
    }
   ],
   "source": [
    "len(images)"
   ]
  },
  {
   "cell_type": "code",
   "execution_count": 18,
   "id": "921f316d-d124-4434-a3a5-f1457b441d16",
   "metadata": {},
   "outputs": [],
   "source": [
    "image_link=[]\n",
    "for i in images:\n",
    "    temp=[]\n",
    "    image_link.append(i.get_attribute('src'))"
   ]
  },
  {
   "cell_type": "code",
   "execution_count": 20,
   "id": "9a639315-1990-4b35-8e12-da619277d78a",
   "metadata": {},
   "outputs": [
    {
     "data": {
      "text/plain": [
       "['https://img.cgv.co.kr/R2014/images/common/logo/logoRed.png',\n",
       " 'https://img.cgv.co.kr/WingBanner/2022/0303/16462658373950.png',\n",
       " 'https://img.cgv.co.kr/R2014/images/common/ico/loginPassword.png',\n",
       " 'https://img.cgv.co.kr/R2014/images/common/ico/loginJoin.png',\n",
       " 'https://img.cgv.co.kr/R2014/images/common/ico/loginMember.png',\n",
       " 'https://img.cgv.co.kr/R2014/images/common/ico/loginCustomer.png',\n",
       " 'https://img.cgv.co.kr/R2014/images/common/logo/logoWhite.png',\n",
       " 'https://img.cgv.co.kr/Movie/Thumbnail/Poster/000086/86119/86119_320.jpg',\n",
       " 'https://img.cgv.co.kr/Movie/Thumbnail/Poster/000086/86326/86326_320.jpg',\n",
       " 'https://img.cgv.co.kr/Movie/Thumbnail/Poster/000086/86420/86420_320.jpg',\n",
       " 'https://img.cgv.co.kr/Movie/Thumbnail/Poster/000086/86481/86481_320.jpg',\n",
       " 'https://img.cgv.co.kr/Movie/Thumbnail/Poster/000086/86338/86338_320.jpg',\n",
       " 'https://img.cgv.co.kr/Movie/Thumbnail/Poster/000086/86435/86435_320.jpg',\n",
       " 'https://img.cgv.co.kr/Movie/Thumbnail/Poster/000086/86483/86483_320.jpg',\n",
       " 'https://img.cgv.co.kr/Movie/Thumbnail/Poster/000086/86462/86462_320.jpg',\n",
       " 'https://img.cgv.co.kr/Movie/Thumbnail/Poster/000086/86205/86205_320.jpg',\n",
       " 'https://img.cgv.co.kr/Movie/Thumbnail/Poster/000086/86482/86482_320.jpg',\n",
       " 'https://img.cgv.co.kr/Movie/Thumbnail/Poster/000086/86464/86464_320.jpg',\n",
       " 'https://img.cgv.co.kr/Movie/Thumbnail/Poster/000086/86460/86460_320.jpg',\n",
       " 'https://img.cgv.co.kr/Movie/Thumbnail/Poster/000086/86216/86216_320.jpg',\n",
       " 'https://img.cgv.co.kr/Movie/Thumbnail/Poster/000086/86463/86463_320.jpg',\n",
       " 'https://img.cgv.co.kr/Movie/Thumbnail/Poster/000086/86500/86500_320.jpg',\n",
       " 'https://img.cgv.co.kr/Movie/Thumbnail/Poster/000083/83821/83821_320.jpg',\n",
       " 'https://img.cgv.co.kr/Movie/Thumbnail/Poster/000086/86146/86146_320.jpg',\n",
       " 'https://img.cgv.co.kr/Movie/Thumbnail/Poster/000086/86194/86194_320.jpg',\n",
       " 'https://img.cgv.co.kr/Movie/Thumbnail/Poster/000086/86271/86271_320.jpg',\n",
       " 'http://img.cgv.co.kr/R2014/images/ad/ico_ad1.png',\n",
       " 'https://img.cgv.co.kr/images/popup/1606_iexp/pop_iexp_headline2.jpg',\n",
       " 'https://img.cgv.co.kr/images/popup/1606_iexp/pop_iexp_downtxt.jpg',\n",
       " 'https://img.cgv.co.kr/images/popup/1606_iexp/btn_down_ios.jpg',\n",
       " 'https://img.cgv.co.kr/images/popup/1606_iexp/btn_down_android.jpg',\n",
       " 'https://img.cgv.co.kr/images/popup/1606_iexp/pop_iexp_headline1.jpg',\n",
       " 'https://img.cgv.co.kr/images/popup/1606_iexp/btn_down_ie.jpg',\n",
       " 'https://img.cgv.co.kr/images/popup/1606_iexp/btn_down_chrome.jpg',\n",
       " 'https://img.cgv.co.kr/images/popup/1606_iexp/pop_iexp_downtxt.jpg',\n",
       " 'https://img.cgv.co.kr/images/popup/1606_iexp/btn_down_ios.jpg',\n",
       " 'https://img.cgv.co.kr/images/popup/1606_iexp/btn_down_android.jpg',\n",
       " 'https://img.cgv.co.kr/R2014/images/common/btn/gotoTop.png']"
      ]
     },
     "execution_count": 20,
     "metadata": {},
     "output_type": "execute_result"
    }
   ],
   "source": [
    "image_link"
   ]
  },
  {
   "cell_type": "code",
   "execution_count": null,
   "id": "ad85985e-3580-40cc-9306-2d9cf10fb404",
   "metadata": {},
   "outputs": [],
   "source": []
  }
 ],
 "metadata": {
  "kernelspec": {
   "display_name": "Python 3 (ipykernel)",
   "language": "python",
   "name": "python3"
  },
  "language_info": {
   "codemirror_mode": {
    "name": "ipython",
    "version": 3
   },
   "file_extension": ".py",
   "mimetype": "text/x-python",
   "name": "python",
   "nbconvert_exporter": "python",
   "pygments_lexer": "ipython3",
   "version": "3.9.13"
  }
 },
 "nbformat": 4,
 "nbformat_minor": 5
}
