{
 "cells": [
  {
   "cell_type": "code",
   "execution_count": 137,
   "id": "03995411-e328-4126-9ac9-7b973d7f20bd",
   "metadata": {},
   "outputs": [],
   "source": [
    "#!pip install xgboost"
   ]
  },
  {
   "cell_type": "code",
   "execution_count": 138,
   "id": "b1493fd0-2f0c-4606-89e4-bae9c4af4233",
   "metadata": {},
   "outputs": [],
   "source": [
    "from xgboost import XGBClassifier"
   ]
  },
  {
   "cell_type": "code",
   "execution_count": 3,
   "id": "449d8230-8556-45d3-808c-6e0686a5f027",
   "metadata": {},
   "outputs": [],
   "source": [
    "# lightGBM /XGboost <- tree기반 알고리즘 둘이 가장 많이 쓰인다."
   ]
  },
  {
   "cell_type": "code",
   "execution_count": 139,
   "id": "931d673d-b389-4c56-9227-f59048120061",
   "metadata": {},
   "outputs": [],
   "source": [
    "from sklearn import datasets"
   ]
  },
  {
   "cell_type": "code",
   "execution_count": 140,
   "id": "8cda4295-2207-407e-bc4f-dd63417a802f",
   "metadata": {},
   "outputs": [],
   "source": [
    "digits=datasets.load_digits()"
   ]
  },
  {
   "cell_type": "code",
   "execution_count": 141,
   "id": "6953b0af-15aa-4f0c-a260-0e85b3be7e55",
   "metadata": {},
   "outputs": [],
   "source": [
    "from sklearn.model_selection import train_test_split"
   ]
  },
  {
   "cell_type": "code",
   "execution_count": 142,
   "id": "536d7b1a-56c7-4f20-8ddf-f270515a0694",
   "metadata": {},
   "outputs": [],
   "source": [
    "x_train,x_test,y_train,y_test=train_test_split(digits.data,digits.target,test_size=0.2)"
   ]
  },
  {
   "cell_type": "code",
   "execution_count": 143,
   "id": "bc5afd23-b735-447b-9747-6a1835f433d7",
   "metadata": {},
   "outputs": [],
   "source": [
    "from sklearn.ensemble import RandomForestClassifier"
   ]
  },
  {
   "cell_type": "code",
   "execution_count": 144,
   "id": "30cfef28-bfe8-4734-acc7-d62f60979720",
   "metadata": {},
   "outputs": [],
   "source": [
    "rfc=RandomForestClassifier()"
   ]
  },
  {
   "cell_type": "code",
   "execution_count": 145,
   "id": "1cf5ab80-d6d9-4cd1-b4a5-6d5273fa1e8f",
   "metadata": {},
   "outputs": [],
   "source": [
    "xgb=XGBClassifier()"
   ]
  },
  {
   "cell_type": "code",
   "execution_count": 9,
   "id": "cad4f57a-bcfe-4788-b753-470f908d480c",
   "metadata": {},
   "outputs": [
    {
     "data": {
      "text/plain": [
       "XGBClassifier(base_score=0.5, booster='gbtree', callbacks=None,\n",
       "              colsample_bylevel=1, colsample_bynode=1, colsample_bytree=1,\n",
       "              early_stopping_rounds=None, enable_categorical=False,\n",
       "              eval_metric=None, feature_types=None, gamma=0, gpu_id=-1,\n",
       "              grow_policy='depthwise', importance_type=None,\n",
       "              interaction_constraints='', learning_rate=0.300000012,\n",
       "              max_bin=256, max_cat_threshold=64, max_cat_to_onehot=4,\n",
       "              max_delta_step=0, max_depth=6, max_leaves=0, min_child_weight=1,\n",
       "              missing=nan, monotone_constraints='()', n_estimators=100,\n",
       "              n_jobs=0, num_parallel_tree=1, objective='multi:softprob',\n",
       "              predictor='auto', ...)"
      ]
     },
     "execution_count": 9,
     "metadata": {},
     "output_type": "execute_result"
    }
   ],
   "source": [
    "xgb.fit(x_train,y_train)"
   ]
  },
  {
   "cell_type": "code",
   "execution_count": 10,
   "id": "262b2e60-120b-48cd-b432-95e4b4f5d9a7",
   "metadata": {},
   "outputs": [
    {
     "data": {
      "text/plain": [
       "1.0"
      ]
     },
     "execution_count": 10,
     "metadata": {},
     "output_type": "execute_result"
    }
   ],
   "source": [
    "xgb.score(x_train,y_train)"
   ]
  },
  {
   "cell_type": "code",
   "execution_count": 11,
   "id": "3cdd0b5d-5e4d-4feb-b68b-14a596fbe383",
   "metadata": {},
   "outputs": [
    {
     "data": {
      "text/plain": [
       "0.9611111111111111"
      ]
     },
     "execution_count": 11,
     "metadata": {},
     "output_type": "execute_result"
    }
   ],
   "source": [
    "xgb.score(x_test,y_test)"
   ]
  },
  {
   "cell_type": "code",
   "execution_count": 14,
   "id": "35d534b8-3c1c-4797-9dd2-efbc950576cb",
   "metadata": {},
   "outputs": [
    {
     "data": {
      "text/plain": [
       "RandomForestClassifier()"
      ]
     },
     "execution_count": 14,
     "metadata": {},
     "output_type": "execute_result"
    }
   ],
   "source": [
    "rfc.fit(x_train,y_train)"
   ]
  },
  {
   "cell_type": "code",
   "execution_count": 15,
   "id": "f5cc47c4-ef78-4728-92ff-e262750ad548",
   "metadata": {},
   "outputs": [
    {
     "data": {
      "text/plain": [
       "1.0"
      ]
     },
     "execution_count": 15,
     "metadata": {},
     "output_type": "execute_result"
    }
   ],
   "source": [
    "rfc.score(x_train,y_train)"
   ]
  },
  {
   "cell_type": "code",
   "execution_count": 17,
   "id": "4608877d-1be7-4048-9269-5802197e3b80",
   "metadata": {},
   "outputs": [
    {
     "data": {
      "text/plain": [
       "0.9833333333333333"
      ]
     },
     "execution_count": 17,
     "metadata": {},
     "output_type": "execute_result"
    }
   ],
   "source": [
    "rfc.score(x_test,y_test)"
   ]
  },
  {
   "cell_type": "markdown",
   "id": "e6d8be84-b2f4-49f4-bc21-644ca97e5088",
   "metadata": {},
   "source": [
    "--------------"
   ]
  },
  {
   "cell_type": "code",
   "execution_count": 19,
   "id": "18ae25ec-3ec7-4707-b7e0-8ea466efa349",
   "metadata": {},
   "outputs": [],
   "source": [
    "docs=[\"the cat in the hat\",\n",
    "      \"the cow jumped over the moon\",\n",
    "      \"the cat mooed and the cow meowed\",\n",
    "      \"the cat said to the cow cow you are not a cat\"]"
   ]
  },
  {
   "cell_type": "code",
   "execution_count": 21,
   "id": "3d1c71c8-501c-42bf-a629-7f2c0845c1ae",
   "metadata": {},
   "outputs": [
    {
     "data": {
      "text/plain": [
       "'t'"
      ]
     },
     "execution_count": 21,
     "metadata": {},
     "output_type": "execute_result"
    }
   ],
   "source": [
    "docs[1][0]"
   ]
  },
  {
   "cell_type": "code",
   "execution_count": 39,
   "id": "f724cac4-aef3-41eb-82e5-5d3472c453ce",
   "metadata": {},
   "outputs": [],
   "source": [
    "docs_list=[]\n",
    "for i in docs:\n",
    "    for j in i.split(' '):\n",
    "        docs_list.append(j)\n",
    "    \n",
    "    "
   ]
  },
  {
   "cell_type": "code",
   "execution_count": 42,
   "id": "329ea914-a94e-4a7f-bfc9-396f0b34ac29",
   "metadata": {},
   "outputs": [
    {
     "data": {
      "text/plain": [
       "17"
      ]
     },
     "execution_count": 42,
     "metadata": {},
     "output_type": "execute_result"
    }
   ],
   "source": [
    "len(set(docs_list))"
   ]
  },
  {
   "cell_type": "code",
   "execution_count": 44,
   "id": "129b2dfb-33b7-40f6-8b33-44d08fc9a8f9",
   "metadata": {},
   "outputs": [],
   "source": [
    "voca=set(' '.join(docs).split())"
   ]
  },
  {
   "cell_type": "code",
   "execution_count": 47,
   "id": "d83b513e-b647-49dd-a3d6-bca54a3baa2c",
   "metadata": {},
   "outputs": [
    {
     "data": {
      "text/plain": [
       "{'a',\n",
       " 'and',\n",
       " 'are',\n",
       " 'cat',\n",
       " 'cow',\n",
       " 'hat',\n",
       " 'in',\n",
       " 'jumped',\n",
       " 'meowed',\n",
       " 'mooed',\n",
       " 'moon',\n",
       " 'not',\n",
       " 'over',\n",
       " 'said',\n",
       " 'the',\n",
       " 'to',\n",
       " 'you'}"
      ]
     },
     "execution_count": 47,
     "metadata": {},
     "output_type": "execute_result"
    }
   ],
   "source": [
    "voca"
   ]
  },
  {
   "cell_type": "code",
   "execution_count": 48,
   "id": "a19a1ac9-9f82-45a6-9307-6fbd6e1d061b",
   "metadata": {},
   "outputs": [],
   "source": [
    "common_words= set(['a','to','the','in','and','are'])"
   ]
  },
  {
   "cell_type": "code",
   "execution_count": 50,
   "id": "b8c5bcc1-901e-4e09-bab1-79c4c00e316c",
   "metadata": {},
   "outputs": [],
   "source": [
    "voca_m=voca-common_words"
   ]
  },
  {
   "cell_type": "code",
   "execution_count": 51,
   "id": "e9663703-bea8-4c6e-9b2d-e989caf8b910",
   "metadata": {},
   "outputs": [
    {
     "data": {
      "text/plain": [
       "{'cat',\n",
       " 'cow',\n",
       " 'hat',\n",
       " 'jumped',\n",
       " 'meowed',\n",
       " 'mooed',\n",
       " 'moon',\n",
       " 'not',\n",
       " 'over',\n",
       " 'said',\n",
       " 'you'}"
      ]
     },
     "execution_count": 51,
     "metadata": {},
     "output_type": "execute_result"
    }
   ],
   "source": [
    "voca_m"
   ]
  },
  {
   "cell_type": "code",
   "execution_count": 64,
   "id": "791a440c-2e5e-467c-ac98-220acdfe1476",
   "metadata": {},
   "outputs": [
    {
     "data": {
      "text/plain": [
       "True"
      ]
     },
     "execution_count": 64,
     "metadata": {},
     "output_type": "execute_result"
    }
   ],
   "source": [
    "'cat' in docs[0]"
   ]
  },
  {
   "cell_type": "code",
   "execution_count": 72,
   "id": "f68921b5-3e46-4833-abe4-c55fbe3cfe15",
   "metadata": {
    "tags": []
   },
   "outputs": [],
   "source": [
    "number=0\n",
    "sentence_dict={}\n",
    "docs_dict={}\n",
    "for i in docs:\n",
    "    docs_dict={}\n",
    "    for j in voca_m:\n",
    "        #print(j)\n",
    "        if j in i:\n",
    "            docs_dict[j]=True\n",
    "        else:\n",
    "            docs_dict[j]=False\n",
    "    sentence_dict[number]=docs_dict\n",
    "    number+=1\n",
    "        \n",
    "    "
   ]
  },
  {
   "cell_type": "code",
   "execution_count": 73,
   "id": "4144a25b-755d-4ef8-9956-9ff54c8aac32",
   "metadata": {
    "collapsed": true,
    "jupyter": {
     "outputs_hidden": true
    },
    "tags": []
   },
   "outputs": [
    {
     "data": {
      "text/plain": [
       "{0: {'moon': False,\n",
       "  'mooed': False,\n",
       "  'meowed': False,\n",
       "  'cow': False,\n",
       "  'said': False,\n",
       "  'not': False,\n",
       "  'hat': True,\n",
       "  'jumped': False,\n",
       "  'you': False,\n",
       "  'over': False,\n",
       "  'cat': True},\n",
       " 1: {'moon': True,\n",
       "  'mooed': False,\n",
       "  'meowed': False,\n",
       "  'cow': True,\n",
       "  'said': False,\n",
       "  'not': False,\n",
       "  'hat': False,\n",
       "  'jumped': True,\n",
       "  'you': False,\n",
       "  'over': True,\n",
       "  'cat': False},\n",
       " 2: {'moon': False,\n",
       "  'mooed': True,\n",
       "  'meowed': True,\n",
       "  'cow': True,\n",
       "  'said': False,\n",
       "  'not': False,\n",
       "  'hat': False,\n",
       "  'jumped': False,\n",
       "  'you': False,\n",
       "  'over': False,\n",
       "  'cat': True},\n",
       " 3: {'moon': False,\n",
       "  'mooed': False,\n",
       "  'meowed': False,\n",
       "  'cow': True,\n",
       "  'said': True,\n",
       "  'not': True,\n",
       "  'hat': False,\n",
       "  'jumped': False,\n",
       "  'you': True,\n",
       "  'over': False,\n",
       "  'cat': True}}"
      ]
     },
     "execution_count": 73,
     "metadata": {},
     "output_type": "execute_result"
    }
   ],
   "source": [
    "sentence_dict"
   ]
  },
  {
   "cell_type": "code",
   "execution_count": 76,
   "id": "bfaacc97-0016-417a-a876-9dfcec1e135d",
   "metadata": {},
   "outputs": [
    {
     "data": {
      "text/plain": [
       "['the cat in the hat',\n",
       " 'the cow jumped over the moon',\n",
       " 'the cat mooed and the cow meowed',\n",
       " 'the cat said to the cow cow you are not a cat']"
      ]
     },
     "execution_count": 76,
     "metadata": {},
     "output_type": "execute_result"
    }
   ],
   "source": [
    "[i for i in docs]"
   ]
  },
  {
   "cell_type": "code",
   "execution_count": 80,
   "id": "22c3b76b-9a23-4c5c-a1ec-e94071438336",
   "metadata": {},
   "outputs": [],
   "source": [
    "dict_list=[]\n",
    "for i in docs:\n",
    "    dic={}\n",
    "    for m in voca_m:\n",
    "        dic[m]=m in i\n",
    "    dict_list.append(dic)"
   ]
  },
  {
   "cell_type": "code",
   "execution_count": 81,
   "id": "2317d72e-ae91-4a95-a7c9-379efb12adba",
   "metadata": {
    "collapsed": true,
    "jupyter": {
     "outputs_hidden": true
    },
    "tags": []
   },
   "outputs": [
    {
     "data": {
      "text/plain": [
       "[{'moon': False,\n",
       "  'mooed': False,\n",
       "  'meowed': False,\n",
       "  'cow': False,\n",
       "  'said': False,\n",
       "  'not': False,\n",
       "  'hat': True,\n",
       "  'jumped': False,\n",
       "  'you': False,\n",
       "  'over': False,\n",
       "  'cat': True},\n",
       " {'moon': True,\n",
       "  'mooed': False,\n",
       "  'meowed': False,\n",
       "  'cow': True,\n",
       "  'said': False,\n",
       "  'not': False,\n",
       "  'hat': False,\n",
       "  'jumped': True,\n",
       "  'you': False,\n",
       "  'over': True,\n",
       "  'cat': False},\n",
       " {'moon': False,\n",
       "  'mooed': True,\n",
       "  'meowed': True,\n",
       "  'cow': True,\n",
       "  'said': False,\n",
       "  'not': False,\n",
       "  'hat': False,\n",
       "  'jumped': False,\n",
       "  'you': False,\n",
       "  'over': False,\n",
       "  'cat': True},\n",
       " {'moon': False,\n",
       "  'mooed': False,\n",
       "  'meowed': False,\n",
       "  'cow': True,\n",
       "  'said': True,\n",
       "  'not': True,\n",
       "  'hat': False,\n",
       "  'jumped': False,\n",
       "  'you': True,\n",
       "  'over': False,\n",
       "  'cat': True}]"
      ]
     },
     "execution_count": 81,
     "metadata": {},
     "output_type": "execute_result"
    }
   ],
   "source": [
    "dict_list"
   ]
  },
  {
   "cell_type": "code",
   "execution_count": 100,
   "id": "1c0762b7-2a08-486c-bb00-81c48835c56f",
   "metadata": {},
   "outputs": [],
   "source": [
    "doc_contains=[ { v: (v in d) for v in voca_m} for d in docs]"
   ]
  },
  {
   "cell_type": "code",
   "execution_count": 101,
   "id": "578085fa-b908-4b25-bac6-dbb801586822",
   "metadata": {},
   "outputs": [],
   "source": [
    "doc_count_contains=[ { v: (d.count(v)) for v in voca_m} for d in docs]"
   ]
  },
  {
   "cell_type": "code",
   "execution_count": 102,
   "id": "e05fcd9f-50fc-4956-b023-d27ff2cdfd18",
   "metadata": {
    "collapsed": true,
    "jupyter": {
     "outputs_hidden": true
    },
    "tags": []
   },
   "outputs": [
    {
     "data": {
      "text/plain": [
       "[{'moon': 0,\n",
       "  'mooed': 0,\n",
       "  'meowed': 0,\n",
       "  'cow': 0,\n",
       "  'said': 0,\n",
       "  'not': 0,\n",
       "  'hat': 1,\n",
       "  'jumped': 0,\n",
       "  'you': 0,\n",
       "  'over': 0,\n",
       "  'cat': 1},\n",
       " {'moon': 1,\n",
       "  'mooed': 0,\n",
       "  'meowed': 0,\n",
       "  'cow': 1,\n",
       "  'said': 0,\n",
       "  'not': 0,\n",
       "  'hat': 0,\n",
       "  'jumped': 1,\n",
       "  'you': 0,\n",
       "  'over': 1,\n",
       "  'cat': 0},\n",
       " {'moon': 0,\n",
       "  'mooed': 1,\n",
       "  'meowed': 1,\n",
       "  'cow': 1,\n",
       "  'said': 0,\n",
       "  'not': 0,\n",
       "  'hat': 0,\n",
       "  'jumped': 0,\n",
       "  'you': 0,\n",
       "  'over': 0,\n",
       "  'cat': 1},\n",
       " {'moon': 0,\n",
       "  'mooed': 0,\n",
       "  'meowed': 0,\n",
       "  'cow': 2,\n",
       "  'said': 1,\n",
       "  'not': 1,\n",
       "  'hat': 0,\n",
       "  'jumped': 0,\n",
       "  'you': 1,\n",
       "  'over': 0,\n",
       "  'cat': 2}]"
      ]
     },
     "execution_count": 102,
     "metadata": {},
     "output_type": "execute_result"
    }
   ],
   "source": [
    "doc_count_contains"
   ]
  },
  {
   "cell_type": "code",
   "execution_count": 84,
   "id": "18a6937a-6e7e-4868-8009-de1e64527aa5",
   "metadata": {},
   "outputs": [],
   "source": [
    "import pandas as pd"
   ]
  },
  {
   "cell_type": "code",
   "execution_count": 107,
   "id": "23d1078e-7792-4e05-bc01-ccec76cd60d4",
   "metadata": {},
   "outputs": [
    {
     "data": {
      "text/html": [
       "<div>\n",
       "<style scoped>\n",
       "    .dataframe tbody tr th:only-of-type {\n",
       "        vertical-align: middle;\n",
       "    }\n",
       "\n",
       "    .dataframe tbody tr th {\n",
       "        vertical-align: top;\n",
       "    }\n",
       "\n",
       "    .dataframe thead th {\n",
       "        text-align: right;\n",
       "    }\n",
       "</style>\n",
       "<table border=\"1\" class=\"dataframe\">\n",
       "  <thead>\n",
       "    <tr style=\"text-align: right;\">\n",
       "      <th></th>\n",
       "      <th>moon</th>\n",
       "      <th>mooed</th>\n",
       "      <th>meowed</th>\n",
       "      <th>cow</th>\n",
       "      <th>said</th>\n",
       "      <th>not</th>\n",
       "      <th>hat</th>\n",
       "      <th>jumped</th>\n",
       "      <th>you</th>\n",
       "      <th>over</th>\n",
       "      <th>cat</th>\n",
       "    </tr>\n",
       "  </thead>\n",
       "  <tbody>\n",
       "    <tr>\n",
       "      <th>0</th>\n",
       "      <td>False</td>\n",
       "      <td>False</td>\n",
       "      <td>False</td>\n",
       "      <td>False</td>\n",
       "      <td>False</td>\n",
       "      <td>False</td>\n",
       "      <td>True</td>\n",
       "      <td>False</td>\n",
       "      <td>False</td>\n",
       "      <td>False</td>\n",
       "      <td>True</td>\n",
       "    </tr>\n",
       "    <tr>\n",
       "      <th>1</th>\n",
       "      <td>True</td>\n",
       "      <td>False</td>\n",
       "      <td>False</td>\n",
       "      <td>True</td>\n",
       "      <td>False</td>\n",
       "      <td>False</td>\n",
       "      <td>False</td>\n",
       "      <td>True</td>\n",
       "      <td>False</td>\n",
       "      <td>True</td>\n",
       "      <td>False</td>\n",
       "    </tr>\n",
       "    <tr>\n",
       "      <th>2</th>\n",
       "      <td>False</td>\n",
       "      <td>True</td>\n",
       "      <td>True</td>\n",
       "      <td>True</td>\n",
       "      <td>False</td>\n",
       "      <td>False</td>\n",
       "      <td>False</td>\n",
       "      <td>False</td>\n",
       "      <td>False</td>\n",
       "      <td>False</td>\n",
       "      <td>True</td>\n",
       "    </tr>\n",
       "    <tr>\n",
       "      <th>3</th>\n",
       "      <td>False</td>\n",
       "      <td>False</td>\n",
       "      <td>False</td>\n",
       "      <td>True</td>\n",
       "      <td>True</td>\n",
       "      <td>True</td>\n",
       "      <td>False</td>\n",
       "      <td>False</td>\n",
       "      <td>True</td>\n",
       "      <td>False</td>\n",
       "      <td>True</td>\n",
       "    </tr>\n",
       "  </tbody>\n",
       "</table>\n",
       "</div>"
      ],
      "text/plain": [
       "    moon  mooed  meowed    cow   said    not    hat  jumped    you   over    cat\n",
       "0  False  False   False  False  False  False   True   False  False  False   True\n",
       "1   True  False   False   True  False  False  False    True  False   True  False\n",
       "2  False   True    True   True  False  False  False   False  False  False   True\n",
       "3  False  False   False   True   True   True  False   False   True  False   True"
      ]
     },
     "execution_count": 107,
     "metadata": {},
     "output_type": "execute_result"
    }
   ],
   "source": [
    "dcs=pd.DataFrame(doc_contains)\n",
    "dcs"
   ]
  },
  {
   "cell_type": "code",
   "execution_count": 105,
   "id": "0d49dfd5-1450-4b90-8322-5dc702fa6652",
   "metadata": {},
   "outputs": [],
   "source": [
    "dcs =dcs.sort_index(axis=1)"
   ]
  },
  {
   "cell_type": "code",
   "execution_count": 103,
   "id": "d85f2658-bbc5-44be-88af-ae007461f801",
   "metadata": {},
   "outputs": [],
   "source": [
    "# 개수 구하기"
   ]
  },
  {
   "cell_type": "code",
   "execution_count": 96,
   "id": "5b25e17a-9ef6-43dd-9edb-6bae2df433e6",
   "metadata": {},
   "outputs": [],
   "source": [
    "dict_count_list=[]\n",
    "for i in docs:\n",
    "    dic={}\n",
    "    for m in voca_m:\n",
    "        dic[m]=i.count(m)\n",
    "    dict_count_list.append(dic)"
   ]
  },
  {
   "cell_type": "code",
   "execution_count": 97,
   "id": "36784599-3cc5-425e-8827-9cc3e9bab9e7",
   "metadata": {
    "collapsed": true,
    "jupyter": {
     "outputs_hidden": true
    },
    "tags": []
   },
   "outputs": [
    {
     "data": {
      "text/plain": [
       "[{'moon': 0,\n",
       "  'mooed': 0,\n",
       "  'meowed': 0,\n",
       "  'cow': 0,\n",
       "  'said': 0,\n",
       "  'not': 0,\n",
       "  'hat': 1,\n",
       "  'jumped': 0,\n",
       "  'you': 0,\n",
       "  'over': 0,\n",
       "  'cat': 1},\n",
       " {'moon': 1,\n",
       "  'mooed': 0,\n",
       "  'meowed': 0,\n",
       "  'cow': 1,\n",
       "  'said': 0,\n",
       "  'not': 0,\n",
       "  'hat': 0,\n",
       "  'jumped': 1,\n",
       "  'you': 0,\n",
       "  'over': 1,\n",
       "  'cat': 0},\n",
       " {'moon': 0,\n",
       "  'mooed': 1,\n",
       "  'meowed': 1,\n",
       "  'cow': 1,\n",
       "  'said': 0,\n",
       "  'not': 0,\n",
       "  'hat': 0,\n",
       "  'jumped': 0,\n",
       "  'you': 0,\n",
       "  'over': 0,\n",
       "  'cat': 1},\n",
       " {'moon': 0,\n",
       "  'mooed': 0,\n",
       "  'meowed': 0,\n",
       "  'cow': 2,\n",
       "  'said': 1,\n",
       "  'not': 1,\n",
       "  'hat': 0,\n",
       "  'jumped': 0,\n",
       "  'you': 1,\n",
       "  'over': 0,\n",
       "  'cat': 2}]"
      ]
     },
     "execution_count": 97,
     "metadata": {},
     "output_type": "execute_result"
    }
   ],
   "source": [
    "dict_count_list"
   ]
  },
  {
   "cell_type": "code",
   "execution_count": 122,
   "id": "1018f551-ba7e-40fe-aa12-448830c8947c",
   "metadata": {},
   "outputs": [],
   "source": [
    "wcs=pd.DataFrame(dict_count_list)"
   ]
  },
  {
   "cell_type": "code",
   "execution_count": 123,
   "id": "2936aa63-2a6f-49bb-bef4-193ab85403d0",
   "metadata": {},
   "outputs": [
    {
     "data": {
      "text/html": [
       "<div>\n",
       "<style scoped>\n",
       "    .dataframe tbody tr th:only-of-type {\n",
       "        vertical-align: middle;\n",
       "    }\n",
       "\n",
       "    .dataframe tbody tr th {\n",
       "        vertical-align: top;\n",
       "    }\n",
       "\n",
       "    .dataframe thead th {\n",
       "        text-align: right;\n",
       "    }\n",
       "</style>\n",
       "<table border=\"1\" class=\"dataframe\">\n",
       "  <thead>\n",
       "    <tr style=\"text-align: right;\">\n",
       "      <th></th>\n",
       "      <th>moon</th>\n",
       "      <th>mooed</th>\n",
       "      <th>meowed</th>\n",
       "      <th>cow</th>\n",
       "      <th>said</th>\n",
       "      <th>not</th>\n",
       "      <th>hat</th>\n",
       "      <th>jumped</th>\n",
       "      <th>you</th>\n",
       "      <th>over</th>\n",
       "      <th>cat</th>\n",
       "    </tr>\n",
       "  </thead>\n",
       "  <tbody>\n",
       "    <tr>\n",
       "      <th>0</th>\n",
       "      <td>0</td>\n",
       "      <td>0</td>\n",
       "      <td>0</td>\n",
       "      <td>0</td>\n",
       "      <td>0</td>\n",
       "      <td>0</td>\n",
       "      <td>1</td>\n",
       "      <td>0</td>\n",
       "      <td>0</td>\n",
       "      <td>0</td>\n",
       "      <td>1</td>\n",
       "    </tr>\n",
       "    <tr>\n",
       "      <th>1</th>\n",
       "      <td>1</td>\n",
       "      <td>0</td>\n",
       "      <td>0</td>\n",
       "      <td>1</td>\n",
       "      <td>0</td>\n",
       "      <td>0</td>\n",
       "      <td>0</td>\n",
       "      <td>1</td>\n",
       "      <td>0</td>\n",
       "      <td>1</td>\n",
       "      <td>0</td>\n",
       "    </tr>\n",
       "    <tr>\n",
       "      <th>2</th>\n",
       "      <td>0</td>\n",
       "      <td>1</td>\n",
       "      <td>1</td>\n",
       "      <td>1</td>\n",
       "      <td>0</td>\n",
       "      <td>0</td>\n",
       "      <td>0</td>\n",
       "      <td>0</td>\n",
       "      <td>0</td>\n",
       "      <td>0</td>\n",
       "      <td>1</td>\n",
       "    </tr>\n",
       "    <tr>\n",
       "      <th>3</th>\n",
       "      <td>0</td>\n",
       "      <td>0</td>\n",
       "      <td>0</td>\n",
       "      <td>2</td>\n",
       "      <td>1</td>\n",
       "      <td>1</td>\n",
       "      <td>0</td>\n",
       "      <td>0</td>\n",
       "      <td>1</td>\n",
       "      <td>0</td>\n",
       "      <td>2</td>\n",
       "    </tr>\n",
       "  </tbody>\n",
       "</table>\n",
       "</div>"
      ],
      "text/plain": [
       "   moon  mooed  meowed  cow  said  not  hat  jumped  you  over  cat\n",
       "0     0      0       0    0     0    0    1       0    0     0    1\n",
       "1     1      0       0    1     0    0    0       1    0     1    0\n",
       "2     0      1       1    1     0    0    0       0    0     0    1\n",
       "3     0      0       0    2     1    1    0       0    1     0    2"
      ]
     },
     "execution_count": 123,
     "metadata": {},
     "output_type": "execute_result"
    }
   ],
   "source": [
    "wcs"
   ]
  },
  {
   "cell_type": "code",
   "execution_count": 92,
   "id": "1e21db93-7dbd-4bc5-b59c-3adece355fef",
   "metadata": {},
   "outputs": [],
   "source": [
    "from sklearn.feature_extraction.text import CountVectorizer #개수 몇 개인지 세어주는 라이브러리 위에 것과 동일"
   ]
  },
  {
   "cell_type": "code",
   "execution_count": 89,
   "id": "600d7304-7c19-49c6-9a29-1689cee5c5b6",
   "metadata": {},
   "outputs": [],
   "source": [
    "sparse=CountVectorizer(stop_words='english').fit_transform(docs)"
   ]
  },
  {
   "cell_type": "code",
   "execution_count": 90,
   "id": "c1cd411a-bcda-44da-a358-fdf34e4e24c7",
   "metadata": {},
   "outputs": [
    {
     "data": {
      "text/plain": [
       "matrix([[1, 0, 1, 0, 0, 0, 0, 0],\n",
       "        [0, 1, 0, 1, 0, 0, 1, 0],\n",
       "        [1, 1, 0, 0, 1, 1, 0, 0],\n",
       "        [2, 2, 0, 0, 0, 0, 0, 1]], dtype=int64)"
      ]
     },
     "execution_count": 90,
     "metadata": {},
     "output_type": "execute_result"
    }
   ],
   "source": [
    "sparse.todense()"
   ]
  },
  {
   "cell_type": "code",
   "execution_count": 109,
   "id": "9c8be76b-198b-413e-b3f8-e330803270ab",
   "metadata": {},
   "outputs": [
    {
     "data": {
      "text/plain": [
       "moon      1\n",
       "mooed     1\n",
       "meowed    1\n",
       "cow       3\n",
       "said      1\n",
       "not       1\n",
       "hat       1\n",
       "jumped    1\n",
       "you       1\n",
       "over      1\n",
       "cat       3\n",
       "dtype: int64"
      ]
     },
     "execution_count": 109,
     "metadata": {},
     "output_type": "execute_result"
    }
   ],
   "source": [
    "dcs.sum(axis=0)"
   ]
  },
  {
   "cell_type": "code",
   "execution_count": 112,
   "id": "ce6c9259-bae8-45b2-a86c-d19127a1ed66",
   "metadata": {},
   "outputs": [],
   "source": [
    "# 빈도 수"
   ]
  },
  {
   "cell_type": "code",
   "execution_count": 111,
   "id": "85189d46-fc97-4334-8386-3147486ee590",
   "metadata": {},
   "outputs": [
    {
     "data": {
      "text/html": [
       "<div>\n",
       "<style scoped>\n",
       "    .dataframe tbody tr th:only-of-type {\n",
       "        vertical-align: middle;\n",
       "    }\n",
       "\n",
       "    .dataframe tbody tr th {\n",
       "        vertical-align: top;\n",
       "    }\n",
       "\n",
       "    .dataframe thead th {\n",
       "        text-align: right;\n",
       "    }\n",
       "</style>\n",
       "<table border=\"1\" class=\"dataframe\">\n",
       "  <thead>\n",
       "    <tr style=\"text-align: right;\">\n",
       "      <th></th>\n",
       "      <th>moon</th>\n",
       "      <th>mooed</th>\n",
       "      <th>meowed</th>\n",
       "      <th>cow</th>\n",
       "      <th>said</th>\n",
       "      <th>not</th>\n",
       "      <th>hat</th>\n",
       "      <th>jumped</th>\n",
       "      <th>you</th>\n",
       "      <th>over</th>\n",
       "      <th>cat</th>\n",
       "    </tr>\n",
       "  </thead>\n",
       "  <tbody>\n",
       "    <tr>\n",
       "      <th>0</th>\n",
       "      <td>1</td>\n",
       "      <td>1</td>\n",
       "      <td>1</td>\n",
       "      <td>3</td>\n",
       "      <td>1</td>\n",
       "      <td>1</td>\n",
       "      <td>1</td>\n",
       "      <td>1</td>\n",
       "      <td>1</td>\n",
       "      <td>1</td>\n",
       "      <td>3</td>\n",
       "    </tr>\n",
       "  </tbody>\n",
       "</table>\n",
       "</div>"
      ],
      "text/plain": [
       "   moon  mooed  meowed  cow  said  not  hat  jumped  you  over  cat\n",
       "0     1      1       1    3     1    1    1       1    1     1    3"
      ]
     },
     "execution_count": 111,
     "metadata": {},
     "output_type": "execute_result"
    }
   ],
   "source": [
    "doc_freq=pd.DataFrame(dcs.sum(axis=0)).T\n",
    "doc_freq"
   ]
  },
  {
   "cell_type": "code",
   "execution_count": 114,
   "id": "199950d4-f1e1-4b04-808a-a71f4ab84093",
   "metadata": {},
   "outputs": [],
   "source": [
    "# TF/IDF(inver Document Frequency)\n",
    "# DF(Document Frequency) -> 특정단어가 등장한 문서의 수 숫자가 클수록 많이 등장한다."
   ]
  },
  {
   "cell_type": "code",
   "execution_count": null,
   "id": "8937dc78-7073-4eba-af2d-2373edac51b7",
   "metadata": {},
   "outputs": [],
   "source": [
    "#TF(Term Frequency) -> 특정 문서에서 특정 단어의 등장 횟수"
   ]
  },
  {
   "cell_type": "code",
   "execution_count": 115,
   "id": "12d02d30-2ab2-450b-bc3e-c6b0bb6ec319",
   "metadata": {},
   "outputs": [],
   "source": [
    "import numpy as np"
   ]
  },
  {
   "cell_type": "code",
   "execution_count": 118,
   "id": "b3c8a648-c7fb-4e4f-a5ce-ec663cb57beb",
   "metadata": {},
   "outputs": [],
   "source": [
    "pd.options.display.float_format='{:.2f}'.format"
   ]
  },
  {
   "cell_type": "code",
   "execution_count": 119,
   "id": "12d4679a-c127-453f-a1cd-1856811c9f85",
   "metadata": {},
   "outputs": [],
   "source": [
    "idf= np.log(len(docs)/doc_freq)"
   ]
  },
  {
   "cell_type": "code",
   "execution_count": 121,
   "id": "bdac524f-73ef-4086-bdcc-1692b48cf4a0",
   "metadata": {},
   "outputs": [
    {
     "data": {
      "text/html": [
       "<div>\n",
       "<style scoped>\n",
       "    .dataframe tbody tr th:only-of-type {\n",
       "        vertical-align: middle;\n",
       "    }\n",
       "\n",
       "    .dataframe tbody tr th {\n",
       "        vertical-align: top;\n",
       "    }\n",
       "\n",
       "    .dataframe thead th {\n",
       "        text-align: right;\n",
       "    }\n",
       "</style>\n",
       "<table border=\"1\" class=\"dataframe\">\n",
       "  <thead>\n",
       "    <tr style=\"text-align: right;\">\n",
       "      <th></th>\n",
       "      <th>moon</th>\n",
       "      <th>mooed</th>\n",
       "      <th>meowed</th>\n",
       "      <th>cow</th>\n",
       "      <th>said</th>\n",
       "      <th>not</th>\n",
       "      <th>hat</th>\n",
       "      <th>jumped</th>\n",
       "      <th>you</th>\n",
       "      <th>over</th>\n",
       "      <th>cat</th>\n",
       "    </tr>\n",
       "  </thead>\n",
       "  <tbody>\n",
       "    <tr>\n",
       "      <th>0</th>\n",
       "      <td>1.39</td>\n",
       "      <td>1.39</td>\n",
       "      <td>1.39</td>\n",
       "      <td>0.29</td>\n",
       "      <td>1.39</td>\n",
       "      <td>1.39</td>\n",
       "      <td>1.39</td>\n",
       "      <td>1.39</td>\n",
       "      <td>1.39</td>\n",
       "      <td>1.39</td>\n",
       "      <td>0.29</td>\n",
       "    </tr>\n",
       "  </tbody>\n",
       "</table>\n",
       "</div>"
      ],
      "text/plain": [
       "   moon  mooed  meowed  cow  said  not  hat  jumped  you  over  cat\n",
       "0  1.39   1.39    1.39 0.29  1.39 1.39 1.39    1.39 1.39  1.39 0.29"
      ]
     },
     "execution_count": 121,
     "metadata": {},
     "output_type": "execute_result"
    }
   ],
   "source": [
    "idf# 숫자가 낮을수록 많이 등장했다"
   ]
  },
  {
   "cell_type": "code",
   "execution_count": 126,
   "id": "89c5c627-2e7e-47f0-ab6a-0fdcf192bfec",
   "metadata": {},
   "outputs": [
    {
     "data": {
      "text/html": [
       "<div>\n",
       "<style scoped>\n",
       "    .dataframe tbody tr th:only-of-type {\n",
       "        vertical-align: middle;\n",
       "    }\n",
       "\n",
       "    .dataframe tbody tr th {\n",
       "        vertical-align: top;\n",
       "    }\n",
       "\n",
       "    .dataframe thead th {\n",
       "        text-align: right;\n",
       "    }\n",
       "</style>\n",
       "<table border=\"1\" class=\"dataframe\">\n",
       "  <thead>\n",
       "    <tr style=\"text-align: right;\">\n",
       "      <th></th>\n",
       "      <th>moon</th>\n",
       "      <th>mooed</th>\n",
       "      <th>meowed</th>\n",
       "      <th>cow</th>\n",
       "      <th>said</th>\n",
       "      <th>not</th>\n",
       "      <th>hat</th>\n",
       "      <th>jumped</th>\n",
       "      <th>you</th>\n",
       "      <th>over</th>\n",
       "      <th>cat</th>\n",
       "    </tr>\n",
       "  </thead>\n",
       "  <tbody>\n",
       "    <tr>\n",
       "      <th>0</th>\n",
       "      <td>0.00</td>\n",
       "      <td>0.00</td>\n",
       "      <td>0.00</td>\n",
       "      <td>0.00</td>\n",
       "      <td>0.00</td>\n",
       "      <td>0.00</td>\n",
       "      <td>1.39</td>\n",
       "      <td>0.00</td>\n",
       "      <td>0.00</td>\n",
       "      <td>0.00</td>\n",
       "      <td>0.29</td>\n",
       "    </tr>\n",
       "    <tr>\n",
       "      <th>1</th>\n",
       "      <td>1.39</td>\n",
       "      <td>0.00</td>\n",
       "      <td>0.00</td>\n",
       "      <td>0.29</td>\n",
       "      <td>0.00</td>\n",
       "      <td>0.00</td>\n",
       "      <td>0.00</td>\n",
       "      <td>1.39</td>\n",
       "      <td>0.00</td>\n",
       "      <td>1.39</td>\n",
       "      <td>0.00</td>\n",
       "    </tr>\n",
       "    <tr>\n",
       "      <th>2</th>\n",
       "      <td>0.00</td>\n",
       "      <td>1.39</td>\n",
       "      <td>1.39</td>\n",
       "      <td>0.29</td>\n",
       "      <td>0.00</td>\n",
       "      <td>0.00</td>\n",
       "      <td>0.00</td>\n",
       "      <td>0.00</td>\n",
       "      <td>0.00</td>\n",
       "      <td>0.00</td>\n",
       "      <td>0.29</td>\n",
       "    </tr>\n",
       "    <tr>\n",
       "      <th>3</th>\n",
       "      <td>0.00</td>\n",
       "      <td>0.00</td>\n",
       "      <td>0.00</td>\n",
       "      <td>0.58</td>\n",
       "      <td>1.39</td>\n",
       "      <td>1.39</td>\n",
       "      <td>0.00</td>\n",
       "      <td>0.00</td>\n",
       "      <td>1.39</td>\n",
       "      <td>0.00</td>\n",
       "      <td>0.58</td>\n",
       "    </tr>\n",
       "  </tbody>\n",
       "</table>\n",
       "</div>"
      ],
      "text/plain": [
       "   moon  mooed  meowed  cow  said  not  hat  jumped  you  over  cat\n",
       "0  0.00   0.00    0.00 0.00  0.00 0.00 1.39    0.00 0.00  0.00 0.29\n",
       "1  1.39   0.00    0.00 0.29  0.00 0.00 0.00    1.39 0.00  1.39 0.00\n",
       "2  0.00   1.39    1.39 0.29  0.00 0.00 0.00    0.00 0.00  0.00 0.29\n",
       "3  0.00   0.00    0.00 0.58  1.39 1.39 0.00    0.00 1.39  0.00 0.58"
      ]
     },
     "execution_count": 126,
     "metadata": {},
     "output_type": "execute_result"
    }
   ],
   "source": [
    "tf_idf=wcs*idf.iloc[0]\n",
    "tf_idf"
   ]
  },
  {
   "cell_type": "code",
   "execution_count": 127,
   "id": "761759c7-f43e-4203-96dd-0d6394f7e781",
   "metadata": {},
   "outputs": [],
   "source": [
    "from sklearn.preprocessing import Normalizer"
   ]
  },
  {
   "cell_type": "code",
   "execution_count": 128,
   "id": "1144ad77-8864-4318-983f-a648b83e5f81",
   "metadata": {},
   "outputs": [
    {
     "data": {
      "text/plain": [
       "array([[0.        , 0.        , 0.        , 0.        , 0.        ,\n",
       "        0.        , 0.82814449, 0.        , 0.        , 0.        ,\n",
       "        0.17185551],\n",
       "       [0.31176747, 0.        , 0.        , 0.0646976 , 0.        ,\n",
       "        0.        , 0.        , 0.31176747, 0.        , 0.31176747,\n",
       "        0.        ],\n",
       "       [0.        , 0.41407225, 0.41407225, 0.08592775, 0.        ,\n",
       "        0.        , 0.        , 0.        , 0.        , 0.        ,\n",
       "        0.08592775],\n",
       "       [0.        , 0.        , 0.        , 0.10836276, 0.26109149,\n",
       "        0.26109149, 0.        , 0.        , 0.26109149, 0.        ,\n",
       "        0.10836276]])"
      ]
     },
     "execution_count": 128,
     "metadata": {},
     "output_type": "execute_result"
    }
   ],
   "source": [
    "Normalizer(norm='l1').fit_transform(tf_idf)"
   ]
  },
  {
   "cell_type": "code",
   "execution_count": 129,
   "id": "7cb61599-e99f-4b60-98fd-ecd7a218f72c",
   "metadata": {},
   "outputs": [],
   "source": [
    "from sklearn.feature_extraction.text import TfidfVectorizer"
   ]
  },
  {
   "cell_type": "code",
   "execution_count": 133,
   "id": "724f36b1-ac56-4283-a7dc-12665aece568",
   "metadata": {},
   "outputs": [],
   "source": [
    "vectorizer=TfidfVectorizer(norm='l1', stop_words='english')"
   ]
  },
  {
   "cell_type": "code",
   "execution_count": 130,
   "id": "c5b3454d-bcb5-49ea-96ce-a912e82a5ef2",
   "metadata": {},
   "outputs": [],
   "source": [
    "sparse=TfidfVectorizer(norm='l1', stop_words='english').fit_transform(docs)"
   ]
  },
  {
   "cell_type": "code",
   "execution_count": 134,
   "id": "1512200e-2e10-465a-9dba-7a3105ee4c4e",
   "metadata": {},
   "outputs": [],
   "source": [
    "spars=vectorizer.fit_transform(docs)"
   ]
  },
  {
   "cell_type": "code",
   "execution_count": 132,
   "id": "5955ce4a-f6d1-4197-b16b-d07ee31522d2",
   "metadata": {},
   "outputs": [
    {
     "data": {
      "text/plain": [
       "matrix([[0.38960636, 0.        , 0.61039364, 0.        , 0.        ,\n",
       "         0.        , 0.        , 0.        ],\n",
       "        [0.        , 0.24193237, 0.        , 0.37903381, 0.        ,\n",
       "         0.        , 0.37903381, 0.        ],\n",
       "        [0.19480318, 0.19480318, 0.        , 0.        , 0.30519682,\n",
       "         0.30519682, 0.        , 0.        ],\n",
       "        [0.35927972, 0.35927972, 0.        , 0.        , 0.        ,\n",
       "         0.        , 0.        , 0.28144056]])"
      ]
     },
     "execution_count": 132,
     "metadata": {},
     "output_type": "execute_result"
    }
   ],
   "source": [
    "sparse.todense()"
   ]
  },
  {
   "cell_type": "code",
   "execution_count": 147,
   "id": "f63da2e3-9ac3-4177-ac47-beb0afdb041b",
   "metadata": {},
   "outputs": [
    {
     "data": {
      "text/plain": [
       "array(['cat', 'cow', 'hat', 'jumped', 'meowed', 'mooed', 'moon', 'said'],\n",
       "      dtype=object)"
      ]
     },
     "execution_count": 147,
     "metadata": {},
     "output_type": "execute_result"
    }
   ],
   "source": [
    "vectorizer.get_feature_names_out()"
   ]
  },
  {
   "cell_type": "code",
   "execution_count": 146,
   "id": "6bdc74be-3d79-4365-a37e-94f13532f189",
   "metadata": {},
   "outputs": [
    {
     "data": {
      "text/plain": [
       "<4x8 sparse matrix of type '<class 'numpy.float64'>'\n",
       "\twith 12 stored elements in Compressed Sparse Row format>"
      ]
     },
     "execution_count": 146,
     "metadata": {},
     "output_type": "execute_result"
    }
   ],
   "source": [
    "spars."
   ]
  },
  {
   "cell_type": "code",
   "execution_count": null,
   "id": "2fcc0296-908b-4f40-be06-6fac7658db1f",
   "metadata": {},
   "outputs": [],
   "source": []
  }
 ],
 "metadata": {
  "kernelspec": {
   "display_name": "Python 3 (ipykernel)",
   "language": "python",
   "name": "python3"
  },
  "language_info": {
   "codemirror_mode": {
    "name": "ipython",
    "version": 3
   },
   "file_extension": ".py",
   "mimetype": "text/x-python",
   "name": "python",
   "nbconvert_exporter": "python",
   "pygments_lexer": "ipython3",
   "version": "3.9.13"
  }
 },
 "nbformat": 4,
 "nbformat_minor": 5
}
