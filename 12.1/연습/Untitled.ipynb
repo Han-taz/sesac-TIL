{
 "cells": [
  {
   "cell_type": "code",
   "execution_count": 1,
   "id": "8472698b-c270-471a-8423-9d61f0051758",
   "metadata": {},
   "outputs": [],
   "source": [
    "docs=[\"the cat in the hat\",\n",
    "      \"the cow jumped over the moon\",\n",
    "      \"the cat mooed and the cow meowed\",\n",
    "      \"the cat said to the cow cow you are not a cat\"]"
   ]
  },
  {
   "cell_type": "code",
   "execution_count": 2,
   "id": "0b00e475-0fd0-4f08-860c-3ef853262a64",
   "metadata": {},
   "outputs": [
    {
     "name": "stdout",
     "output_type": "stream",
     "text": [
      "the cat in the hat\n",
      "['the', 'cat', 'in', 'the', 'hat']\n",
      "the cow jumped over the moon\n",
      "['the', 'cow', 'jumped', 'over', 'the', 'moon']\n",
      "the cat mooed and the cow meowed\n",
      "['the', 'cat', 'mooed', 'and', 'the', 'cow', 'meowed']\n",
      "the cat said to the cow cow you are not a cat\n",
      "['the', 'cat', 'said', 'to', 'the', 'cow', 'cow', 'you', 'are', 'not', 'a', 'cat']\n"
     ]
    }
   ],
   "source": [
    "voca_list=[]\n",
    "for i in docs:\n",
    "    print(i)\n",
    "    print(i.split(' '))\n",
    "    for j in i.split(' '):\n",
    "        voca_list.append(j)\n",
    "    "
   ]
  },
  {
   "cell_type": "code",
   "execution_count": 3,
   "id": "fe9d2a3a-f519-4373-aafd-743261177590",
   "metadata": {},
   "outputs": [
    {
     "data": {
      "text/plain": [
       "{'a',\n",
       " 'and',\n",
       " 'are',\n",
       " 'cat',\n",
       " 'cow',\n",
       " 'hat',\n",
       " 'in',\n",
       " 'jumped',\n",
       " 'meowed',\n",
       " 'mooed',\n",
       " 'moon',\n",
       " 'not',\n",
       " 'over',\n",
       " 'said',\n",
       " 'the',\n",
       " 'to',\n",
       " 'you'}"
      ]
     },
     "execution_count": 3,
     "metadata": {},
     "output_type": "execute_result"
    }
   ],
   "source": [
    "set(voca_list)"
   ]
  },
  {
   "cell_type": "code",
   "execution_count": 4,
   "id": "d0f84278-788a-47d0-9d57-9047abc68241",
   "metadata": {},
   "outputs": [],
   "source": [
    "voca=set(' '.join(docs).split(' '))"
   ]
  },
  {
   "cell_type": "code",
   "execution_count": 5,
   "id": "46cfd095-f9b5-43ec-bf62-3b4b3fec4d62",
   "metadata": {},
   "outputs": [],
   "source": [
    "common_words= set(['a','to','the','in','and','are'])"
   ]
  },
  {
   "cell_type": "code",
   "execution_count": 6,
   "id": "538be987-b463-4741-886e-32df4dbfb5b9",
   "metadata": {},
   "outputs": [
    {
     "data": {
      "text/plain": [
       "{'cat',\n",
       " 'cow',\n",
       " 'hat',\n",
       " 'jumped',\n",
       " 'meowed',\n",
       " 'mooed',\n",
       " 'moon',\n",
       " 'not',\n",
       " 'over',\n",
       " 'said',\n",
       " 'you'}"
      ]
     },
     "execution_count": 6,
     "metadata": {},
     "output_type": "execute_result"
    }
   ],
   "source": [
    "voca_m = voca-common_words\n",
    "voca_m"
   ]
  },
  {
   "cell_type": "code",
   "execution_count": 7,
   "id": "b1313620-f9c0-4ff1-8820-2c507fe1cd39",
   "metadata": {},
   "outputs": [],
   "source": [
    "#True False 찾기"
   ]
  },
  {
   "cell_type": "code",
   "execution_count": 8,
   "id": "b1b748ff-b5eb-4d0b-80aa-9ffdb5d75583",
   "metadata": {},
   "outputs": [],
   "source": [
    "number=0\n",
    "sentence_dict={}\n",
    "for doc in docs:\n",
    "    docs_dict={}\n",
    "    for voca in voca_m:\n",
    "        if voca in doc:\n",
    "            docs_dict[voca]=True\n",
    "        else:\n",
    "            docs_dict[voca]=False\n",
    "    sentence_dict[number]=docs_dict\n",
    "    number+=1"
   ]
  },
  {
   "cell_type": "code",
   "execution_count": 9,
   "id": "6095a96e-8866-4fde-b5a7-d89ff6a0ba70",
   "metadata": {},
   "outputs": [
    {
     "data": {
      "text/plain": [
       "{0: {'meowed': False,\n",
       "  'cow': False,\n",
       "  'moon': False,\n",
       "  'mooed': False,\n",
       "  'cat': True,\n",
       "  'not': False,\n",
       "  'you': False,\n",
       "  'jumped': False,\n",
       "  'hat': True,\n",
       "  'said': False,\n",
       "  'over': False},\n",
       " 1: {'meowed': False,\n",
       "  'cow': True,\n",
       "  'moon': True,\n",
       "  'mooed': False,\n",
       "  'cat': False,\n",
       "  'not': False,\n",
       "  'you': False,\n",
       "  'jumped': True,\n",
       "  'hat': False,\n",
       "  'said': False,\n",
       "  'over': True},\n",
       " 2: {'meowed': True,\n",
       "  'cow': True,\n",
       "  'moon': False,\n",
       "  'mooed': True,\n",
       "  'cat': True,\n",
       "  'not': False,\n",
       "  'you': False,\n",
       "  'jumped': False,\n",
       "  'hat': False,\n",
       "  'said': False,\n",
       "  'over': False},\n",
       " 3: {'meowed': False,\n",
       "  'cow': True,\n",
       "  'moon': False,\n",
       "  'mooed': False,\n",
       "  'cat': True,\n",
       "  'not': True,\n",
       "  'you': True,\n",
       "  'jumped': False,\n",
       "  'hat': False,\n",
       "  'said': True,\n",
       "  'over': False}}"
      ]
     },
     "execution_count": 9,
     "metadata": {},
     "output_type": "execute_result"
    }
   ],
   "source": [
    "sentence_dict"
   ]
  },
  {
   "cell_type": "code",
   "execution_count": 10,
   "id": "7f29b499-9b84-49e9-81ff-0fea917a3661",
   "metadata": {},
   "outputs": [],
   "source": [
    "dict_list=[]\n",
    "for i in docs:\n",
    "    dic={}\n",
    "    for m in voca_m:\n",
    "        dic[m]=m in i\n",
    "    dict_list.append(dic)"
   ]
  },
  {
   "cell_type": "code",
   "execution_count": 11,
   "id": "ea236aab-aee8-474d-832c-87012c605884",
   "metadata": {
    "tags": []
   },
   "outputs": [
    {
     "data": {
      "text/plain": [
       "[{'meowed': False,\n",
       "  'cow': False,\n",
       "  'moon': False,\n",
       "  'mooed': False,\n",
       "  'cat': True,\n",
       "  'not': False,\n",
       "  'you': False,\n",
       "  'jumped': False,\n",
       "  'hat': True,\n",
       "  'said': False,\n",
       "  'over': False},\n",
       " {'meowed': False,\n",
       "  'cow': True,\n",
       "  'moon': True,\n",
       "  'mooed': False,\n",
       "  'cat': False,\n",
       "  'not': False,\n",
       "  'you': False,\n",
       "  'jumped': True,\n",
       "  'hat': False,\n",
       "  'said': False,\n",
       "  'over': True},\n",
       " {'meowed': True,\n",
       "  'cow': True,\n",
       "  'moon': False,\n",
       "  'mooed': True,\n",
       "  'cat': True,\n",
       "  'not': False,\n",
       "  'you': False,\n",
       "  'jumped': False,\n",
       "  'hat': False,\n",
       "  'said': False,\n",
       "  'over': False},\n",
       " {'meowed': False,\n",
       "  'cow': True,\n",
       "  'moon': False,\n",
       "  'mooed': False,\n",
       "  'cat': True,\n",
       "  'not': True,\n",
       "  'you': True,\n",
       "  'jumped': False,\n",
       "  'hat': False,\n",
       "  'said': True,\n",
       "  'over': False}]"
      ]
     },
     "execution_count": 11,
     "metadata": {},
     "output_type": "execute_result"
    }
   ],
   "source": [
    "dict_list"
   ]
  },
  {
   "cell_type": "code",
   "execution_count": 12,
   "id": "3b15d79e-4df7-481f-9bb5-f5106bf65732",
   "metadata": {
    "tags": []
   },
   "outputs": [
    {
     "data": {
      "text/plain": [
       "[{'meowed': 0,\n",
       "  'cow': 0,\n",
       "  'moon': 0,\n",
       "  'mooed': 0,\n",
       "  'cat': 1,\n",
       "  'not': 0,\n",
       "  'you': 0,\n",
       "  'jumped': 0,\n",
       "  'hat': 1,\n",
       "  'said': 0,\n",
       "  'over': 0},\n",
       " {'meowed': 0,\n",
       "  'cow': 1,\n",
       "  'moon': 1,\n",
       "  'mooed': 0,\n",
       "  'cat': 0,\n",
       "  'not': 0,\n",
       "  'you': 0,\n",
       "  'jumped': 1,\n",
       "  'hat': 0,\n",
       "  'said': 0,\n",
       "  'over': 1},\n",
       " {'meowed': 1,\n",
       "  'cow': 1,\n",
       "  'moon': 0,\n",
       "  'mooed': 1,\n",
       "  'cat': 1,\n",
       "  'not': 0,\n",
       "  'you': 0,\n",
       "  'jumped': 0,\n",
       "  'hat': 0,\n",
       "  'said': 0,\n",
       "  'over': 0},\n",
       " {'meowed': 0,\n",
       "  'cow': 2,\n",
       "  'moon': 0,\n",
       "  'mooed': 0,\n",
       "  'cat': 2,\n",
       "  'not': 1,\n",
       "  'you': 1,\n",
       "  'jumped': 0,\n",
       "  'hat': 0,\n",
       "  'said': 1,\n",
       "  'over': 0}]"
      ]
     },
     "execution_count": 12,
     "metadata": {},
     "output_type": "execute_result"
    }
   ],
   "source": [
    "[{v: (d.count(v)) for v in voca_m} for d in docs]"
   ]
  },
  {
   "cell_type": "code",
   "execution_count": 13,
   "id": "09641f61-0af5-48bf-8914-37937a7aab68",
   "metadata": {},
   "outputs": [],
   "source": [
    "dict_count_list=[]\n",
    "for i in docs:\n",
    "    temp_dict={}\n",
    "    for j in voca_m:\n",
    "        temp_dict[j]=i.count(j)\n",
    "    dict_count_list.append(temp_dict)"
   ]
  },
  {
   "cell_type": "code",
   "execution_count": 14,
   "id": "c67c5ef4-f5d9-4ed8-9d23-445e008a0661",
   "metadata": {
    "tags": []
   },
   "outputs": [
    {
     "data": {
      "text/plain": [
       "[{'meowed': 0,\n",
       "  'cow': 0,\n",
       "  'moon': 0,\n",
       "  'mooed': 0,\n",
       "  'cat': 1,\n",
       "  'not': 0,\n",
       "  'you': 0,\n",
       "  'jumped': 0,\n",
       "  'hat': 1,\n",
       "  'said': 0,\n",
       "  'over': 0},\n",
       " {'meowed': 0,\n",
       "  'cow': 1,\n",
       "  'moon': 1,\n",
       "  'mooed': 0,\n",
       "  'cat': 0,\n",
       "  'not': 0,\n",
       "  'you': 0,\n",
       "  'jumped': 1,\n",
       "  'hat': 0,\n",
       "  'said': 0,\n",
       "  'over': 1},\n",
       " {'meowed': 1,\n",
       "  'cow': 1,\n",
       "  'moon': 0,\n",
       "  'mooed': 1,\n",
       "  'cat': 1,\n",
       "  'not': 0,\n",
       "  'you': 0,\n",
       "  'jumped': 0,\n",
       "  'hat': 0,\n",
       "  'said': 0,\n",
       "  'over': 0},\n",
       " {'meowed': 0,\n",
       "  'cow': 2,\n",
       "  'moon': 0,\n",
       "  'mooed': 0,\n",
       "  'cat': 2,\n",
       "  'not': 1,\n",
       "  'you': 1,\n",
       "  'jumped': 0,\n",
       "  'hat': 0,\n",
       "  'said': 1,\n",
       "  'over': 0}]"
      ]
     },
     "execution_count": 14,
     "metadata": {},
     "output_type": "execute_result"
    }
   ],
   "source": [
    "dict_count_list"
   ]
  },
  {
   "cell_type": "code",
   "execution_count": 15,
   "id": "6dffbcaf-1dfb-498f-b57c-81e1cdb69305",
   "metadata": {},
   "outputs": [],
   "source": [
    "from sklearn.preprocessing import Normalizer"
   ]
  },
  {
   "cell_type": "code",
   "execution_count": null,
   "id": "ed98ab01-0e38-4592-bfb1-5cfbcca56750",
   "metadata": {},
   "outputs": [],
   "source": []
  },
  {
   "cell_type": "code",
   "execution_count": 16,
   "id": "c1459a3a-f72f-4978-a041-b55344981faa",
   "metadata": {},
   "outputs": [],
   "source": [
    "from sklearn.feature_extraction.text import TfidfVectorizer"
   ]
  },
  {
   "cell_type": "code",
   "execution_count": 17,
   "id": "4920f024-b2b9-4335-89f2-805c51529ebc",
   "metadata": {},
   "outputs": [],
   "source": [
    "vectorize=TfidfVectorizer(norm='l1',stop_words='english')"
   ]
  },
  {
   "cell_type": "code",
   "execution_count": 18,
   "id": "76d7bbbb-8f09-4320-8cfa-227cc55b8c0d",
   "metadata": {},
   "outputs": [],
   "source": [
    "vector_2=TfidfVectorizer(norm='l1',stop_words='english').fit_transform(docs)"
   ]
  },
  {
   "cell_type": "code",
   "execution_count": 19,
   "id": "30995f5d-ebbf-4b39-ba26-dd468bef2d73",
   "metadata": {},
   "outputs": [
    {
     "data": {
      "text/plain": [
       "matrix([[0.38960636, 0.        , 0.61039364, 0.        , 0.        ,\n",
       "         0.        , 0.        , 0.        ],\n",
       "        [0.        , 0.24193237, 0.        , 0.37903381, 0.        ,\n",
       "         0.        , 0.37903381, 0.        ],\n",
       "        [0.19480318, 0.19480318, 0.        , 0.        , 0.30519682,\n",
       "         0.30519682, 0.        , 0.        ],\n",
       "        [0.35927972, 0.35927972, 0.        , 0.        , 0.        ,\n",
       "         0.        , 0.        , 0.28144056]])"
      ]
     },
     "execution_count": 19,
     "metadata": {},
     "output_type": "execute_result"
    }
   ],
   "source": [
    "vector_2.todense()"
   ]
  },
  {
   "cell_type": "code",
   "execution_count": 20,
   "id": "d3998856-3363-4d1f-ab19-77808dcb0c6a",
   "metadata": {},
   "outputs": [],
   "source": [
    "sparse=vectorize.fit_transform(docs)"
   ]
  },
  {
   "cell_type": "code",
   "execution_count": 21,
   "id": "68d4e0ff-5b21-4297-9ccc-58835e8b482a",
   "metadata": {
    "tags": []
   },
   "outputs": [
    {
     "data": {
      "text/plain": [
       "array(['cat', 'cow', 'hat', 'jumped', 'meowed', 'mooed', 'moon', 'said'],\n",
       "      dtype=object)"
      ]
     },
     "execution_count": 21,
     "metadata": {},
     "output_type": "execute_result"
    }
   ],
   "source": [
    "vectorize.get_feature_names_out()"
   ]
  },
  {
   "cell_type": "markdown",
   "id": "4a7abd49-d4af-4e38-bbb9-775ac1805520",
   "metadata": {},
   "source": [
    "---------------------------"
   ]
  },
  {
   "cell_type": "code",
   "execution_count": 27,
   "id": "9d6b7dfb-b8fb-4df9-9d98-af92d36bff52",
   "metadata": {},
   "outputs": [],
   "source": [
    "from sklearn.feature_extraction.text import TfidfVectorizer"
   ]
  },
  {
   "cell_type": "code",
   "execution_count": 28,
   "id": "cb2f4c65-e0c3-4100-894e-b9d4e47a6964",
   "metadata": {},
   "outputs": [],
   "source": [
    "vectorizer=TfidfVectorizer(norm='l1', stop_words='english')"
   ]
  },
  {
   "cell_type": "code",
   "execution_count": 29,
   "id": "2b890689-966e-40d0-a217-560dcfb33372",
   "metadata": {},
   "outputs": [],
   "source": [
    "sparse=TfidfVectorizer(norm='l1', stop_words='english').fit_transform(docs)"
   ]
  },
  {
   "cell_type": "code",
   "execution_count": 30,
   "id": "d0a7159e-fc4e-4fd7-bab6-6660c280ccb6",
   "metadata": {},
   "outputs": [],
   "source": [
    "spars=vectorizer.fit_transform(docs)"
   ]
  },
  {
   "cell_type": "code",
   "execution_count": 31,
   "id": "48b90be3-6fb2-4317-93bf-7bc849bfcb7c",
   "metadata": {},
   "outputs": [
    {
     "data": {
      "text/plain": [
       "matrix([[0.38960636, 0.        , 0.61039364, 0.        , 0.        ,\n",
       "         0.        , 0.        , 0.        ],\n",
       "        [0.        , 0.24193237, 0.        , 0.37903381, 0.        ,\n",
       "         0.        , 0.37903381, 0.        ],\n",
       "        [0.19480318, 0.19480318, 0.        , 0.        , 0.30519682,\n",
       "         0.30519682, 0.        , 0.        ],\n",
       "        [0.35927972, 0.35927972, 0.        , 0.        , 0.        ,\n",
       "         0.        , 0.        , 0.28144056]])"
      ]
     },
     "execution_count": 31,
     "metadata": {},
     "output_type": "execute_result"
    }
   ],
   "source": [
    "sparse.todense()"
   ]
  },
  {
   "cell_type": "code",
   "execution_count": 32,
   "id": "b05b649a-9700-454c-8d12-ce01e2d7ea41",
   "metadata": {},
   "outputs": [
    {
     "data": {
      "text/plain": [
       "array(['cat', 'cow', 'hat', 'jumped', 'meowed', 'mooed', 'moon', 'said'],\n",
       "      dtype=object)"
      ]
     },
     "execution_count": 32,
     "metadata": {},
     "output_type": "execute_result"
    }
   ],
   "source": [
    "vectorizer.get_feature_names_out()"
   ]
  },
  {
   "cell_type": "code",
   "execution_count": null,
   "id": "18296c1d-50c4-4ee0-9fe7-5333b6981ddd",
   "metadata": {},
   "outputs": [],
   "source": []
  },
  {
   "cell_type": "code",
   "execution_count": null,
   "id": "0232695b-43dd-4807-bef5-e774d0126b13",
   "metadata": {},
   "outputs": [],
   "source": []
  }
 ],
 "metadata": {
  "kernelspec": {
   "display_name": "Python 3 (ipykernel)",
   "language": "python",
   "name": "python3"
  },
  "language_info": {
   "codemirror_mode": {
    "name": "ipython",
    "version": 3
   },
   "file_extension": ".py",
   "mimetype": "text/x-python",
   "name": "python",
   "nbconvert_exporter": "python",
   "pygments_lexer": "ipython3",
   "version": "3.9.13"
  }
 },
 "nbformat": 4,
 "nbformat_minor": 5
}
