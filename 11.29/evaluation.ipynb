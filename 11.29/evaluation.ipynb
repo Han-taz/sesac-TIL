{
 "cells": [
  {
   "cell_type": "code",
   "execution_count": 1,
   "id": "8dfdbebb-595d-4299-b407-6b2eef41b83c",
   "metadata": {},
   "outputs": [],
   "source": [
    "import pandas as pd\n",
    "from sklearn import datasets\n",
    "from sklearn.model_selection import train_test_split\n",
    "from sklearn.neighbors import KNeighborsRegressor"
   ]
  },
  {
   "cell_type": "code",
   "execution_count": 2,
   "id": "0ab70ddb-574e-431c-ba32-e03e723a2e99",
   "metadata": {},
   "outputs": [],
   "source": [
    "diabets = datasets.load_diabetes()"
   ]
  },
  {
   "cell_type": "code",
   "execution_count": 3,
   "id": "51c92e0e-acb5-4fbf-92b7-62560fb42af1",
   "metadata": {},
   "outputs": [],
   "source": [
    "x_train,x_test,y_train,y_test=train_test_split(diabets.data,diabets.target,test_size=0.25,random_state=42)"
   ]
  },
  {
   "cell_type": "code",
   "execution_count": 4,
   "id": "0d9a58aa-58f9-41aa-8b0c-0747311a4ca5",
   "metadata": {},
   "outputs": [],
   "source": [
    "model=KNeighborsRegressor(n_neighbors=10)"
   ]
  },
  {
   "cell_type": "code",
   "execution_count": 5,
   "id": "2fe8b722-d6fb-4615-a84a-12b9996131e9",
   "metadata": {},
   "outputs": [],
   "source": [
    "from sklearn.model_selection import cross_val_score # Kfold cross validation"
   ]
  },
  {
   "cell_type": "code",
   "execution_count": 6,
   "id": "210de926-0674-48ec-a4bf-b1be72296156",
   "metadata": {},
   "outputs": [],
   "source": [
    "X=diabets.data\n",
    "Y=diabets.target"
   ]
  },
  {
   "cell_type": "code",
   "execution_count": 7,
   "id": "a239575d-2538-400c-8785-dcc66bf160c8",
   "metadata": {},
   "outputs": [
    {
     "data": {
      "text/plain": [
       "array([-3206.7541573 , -3426.43134831, -3587.94215909, -3039.49443182,\n",
       "       -3282.60159091])"
      ]
     },
     "execution_count": 7,
     "metadata": {},
     "output_type": "execute_result"
    }
   ],
   "source": [
    "cross_val_score(model,X,Y,cv=5,scoring=\"neg_mean_squared_error\") # 에러를 정수로 만들어서 사용할 수 있게끔 neg를 사용 |스코어는 높은 값일수록 좋고 에러는 작은 값일수록 좋기에 -를 붙여서 가장 작은 값을 갸쟝 크게 만들어서 스코어에 입력 "
   ]
  },
  {
   "cell_type": "markdown",
   "id": "5e80af9c-0bcc-45b4-a4d0-e3cb3785120d",
   "metadata": {},
   "source": [
    "--------"
   ]
  },
  {
   "cell_type": "markdown",
   "id": "8ca2ccbe-6857-4dd2-8eab-cbdd91105ccf",
   "metadata": {},
   "source": [
    "# Classifier"
   ]
  },
  {
   "cell_type": "code",
   "execution_count": 8,
   "id": "76666446-bd46-461c-be15-149b6064e5a0",
   "metadata": {},
   "outputs": [],
   "source": [
    "from sklearn.neighbors import KNeighborsClassifier"
   ]
  },
  {
   "cell_type": "code",
   "execution_count": 9,
   "id": "599e7b5b-a14a-428f-9707-ca69afff80a2",
   "metadata": {},
   "outputs": [],
   "source": [
    "iris= datasets.load_iris()"
   ]
  },
  {
   "cell_type": "code",
   "execution_count": 10,
   "id": "309b0e7b-4c0a-42ba-8657-d9babd0dea5a",
   "metadata": {},
   "outputs": [],
   "source": [
    "model1=KNeighborsClassifier()"
   ]
  },
  {
   "cell_type": "code",
   "execution_count": 11,
   "id": "3817cda5-972b-499d-b8df-9a59733f33a0",
   "metadata": {},
   "outputs": [
    {
     "data": {
      "text/plain": [
       "array([0.96666667, 1.        , 0.93333333, 0.96666667, 1.        ])"
      ]
     },
     "execution_count": 11,
     "metadata": {},
     "output_type": "execute_result"
    }
   ],
   "source": [
    "cross_val_score(model1,iris.data,iris.target,cv=5)"
   ]
  },
  {
   "cell_type": "code",
   "execution_count": 12,
   "id": "a3ea941f-e11f-44d1-99d8-3d33c5a504d9",
   "metadata": {},
   "outputs": [
    {
     "data": {
      "text/plain": [
       "array([0.96658312, 1.        , 0.93265993, 0.96658312, 1.        ])"
      ]
     },
     "execution_count": 12,
     "metadata": {},
     "output_type": "execute_result"
    }
   ],
   "source": [
    "cross_val_score(model1,iris.data,iris.target,cv=5,scoring='f1_macro') #f1은 바이너리라 안 됨!!!!!!"
   ]
  },
  {
   "cell_type": "markdown",
   "id": "1df0fece-cad2-4970-adfc-d8835466614e",
   "metadata": {},
   "source": [
    "---"
   ]
  },
  {
   "cell_type": "code",
   "execution_count": 13,
   "id": "c5650f41-78e5-4a6f-94d5-a06434134026",
   "metadata": {},
   "outputs": [],
   "source": [
    "from sklearn.model_selection import KFold\n",
    "import numpy as np"
   ]
  },
  {
   "cell_type": "code",
   "execution_count": 14,
   "id": "98158129-4985-4c58-93bb-29bf3fa51dc3",
   "metadata": {},
   "outputs": [],
   "source": [
    "X=np.array([['N','Y'],['Y','Y'],['N','Y'],['Y','Y'],['Y','Y'],['Y','Y']])"
   ]
  },
  {
   "cell_type": "code",
   "execution_count": 15,
   "id": "ca5b9fd0-56b0-4f52-90ac-7663b83ae51f",
   "metadata": {},
   "outputs": [],
   "source": [
    "Y=np.array(['cat','dog','cat','dog','dog','dog'])"
   ]
  },
  {
   "cell_type": "code",
   "execution_count": 16,
   "id": "2837257a-f747-4dfe-bc3c-e197b737a693",
   "metadata": {},
   "outputs": [
    {
     "data": {
      "text/plain": [
       "array([['N', 'Y'],\n",
       "       ['Y', 'Y'],\n",
       "       ['N', 'Y'],\n",
       "       ['Y', 'Y'],\n",
       "       ['Y', 'Y'],\n",
       "       ['Y', 'Y']], dtype='<U1')"
      ]
     },
     "execution_count": 16,
     "metadata": {},
     "output_type": "execute_result"
    }
   ],
   "source": [
    "X"
   ]
  },
  {
   "cell_type": "code",
   "execution_count": 17,
   "id": "abf95261-b51f-4995-9baa-5ec0fb3ff12c",
   "metadata": {},
   "outputs": [
    {
     "data": {
      "text/plain": [
       "array(['cat', 'dog', 'cat', 'dog', 'dog', 'dog'], dtype='<U3')"
      ]
     },
     "execution_count": 17,
     "metadata": {},
     "output_type": "execute_result"
    }
   ],
   "source": [
    "Y"
   ]
  },
  {
   "cell_type": "code",
   "execution_count": 18,
   "id": "8c25c393-d66d-476a-8dc4-efb23b5423ba",
   "metadata": {},
   "outputs": [],
   "source": [
    "kf=KFold(2)"
   ]
  },
  {
   "cell_type": "code",
   "execution_count": 19,
   "id": "404f4e3d-0de8-4b41-8871-74f0aa30bdcd",
   "metadata": {},
   "outputs": [
    {
     "data": {
      "text/plain": [
       "[(array([3, 4, 5]), array([0, 1, 2])), (array([0, 1, 2]), array([3, 4, 5]))]"
      ]
     },
     "execution_count": 19,
     "metadata": {},
     "output_type": "execute_result"
    }
   ],
   "source": [
    "list(kf.split(X))"
   ]
  },
  {
   "cell_type": "code",
   "execution_count": 20,
   "id": "6726d506-e61d-4a67-8958-c681a2d15672",
   "metadata": {},
   "outputs": [
    {
     "name": "stdout",
     "output_type": "stream",
     "text": [
      "Train [3 4 5]\n",
      "[['Y' 'Y']\n",
      " ['Y' 'Y']\n",
      " ['Y' 'Y']] / ['dog' 'dog' 'dog']\n",
      "Test [0 1 2]\n",
      "[['N' 'Y']\n",
      " ['Y' 'Y']\n",
      " ['N' 'Y']] / ['cat' 'dog' 'cat']\n",
      "------------------------------\n",
      "Train [0 1 2]\n",
      "[['N' 'Y']\n",
      " ['Y' 'Y']\n",
      " ['N' 'Y']] / ['cat' 'dog' 'cat']\n",
      "Test [3 4 5]\n",
      "[['Y' 'Y']\n",
      " ['Y' 'Y']\n",
      " ['Y' 'Y']] / ['dog' 'dog' 'dog']\n",
      "------------------------------\n"
     ]
    }
   ],
   "source": [
    "for train_index, test_index in kf.split(X): ## ['dog' 'dog' 'dog']학습시켜서 ['cat' 'dog' 'cat']을 분류 할 수 없다. cat은 학습시키지 못했기 때문에\n",
    "    x_train,x_test= X[train_index],X[test_index]\n",
    "    y_train,y_test= Y[train_index],Y[test_index]\n",
    "    print('Train',train_index)\n",
    "    print(x_train, '/', y_train)\n",
    "    print('Test',test_index)\n",
    "    print(x_test,'/',y_test)\n",
    "    print('-'*30)"
   ]
  },
  {
   "cell_type": "code",
   "execution_count": 21,
   "id": "847b0b53-b91e-4f78-864b-53d49ac6b205",
   "metadata": {},
   "outputs": [],
   "source": [
    "#Stratified=층화추출\n",
    "from sklearn.model_selection import StratifiedKFold # 셀 20번에서 했던 실수를 방지하기 위해  stratify=y를 했던 것 처럼 비율을 정해서 데이터를 학습시킬 수 있다."
   ]
  },
  {
   "cell_type": "code",
   "execution_count": 22,
   "id": "ec29a7c5-da47-461b-97f3-664911e445c8",
   "metadata": {},
   "outputs": [],
   "source": [
    "skf=StratifiedKFold(2)"
   ]
  },
  {
   "cell_type": "code",
   "execution_count": 23,
   "id": "441ef173-aba3-4b83-ad1a-76ba9187ada5",
   "metadata": {},
   "outputs": [
    {
     "name": "stdout",
     "output_type": "stream",
     "text": [
      "Train [2 4 5]\n",
      "[['N' 'Y']\n",
      " ['Y' 'Y']\n",
      " ['Y' 'Y']] / ['cat' 'dog' 'dog']\n",
      "Test [0 1 3]\n",
      "[['N' 'Y']\n",
      " ['Y' 'Y']\n",
      " ['Y' 'Y']] / ['cat' 'dog' 'dog']\n",
      "------------------------------\n",
      "Train [0 1 3]\n",
      "[['N' 'Y']\n",
      " ['Y' 'Y']\n",
      " ['Y' 'Y']] / ['cat' 'dog' 'dog']\n",
      "Test [2 4 5]\n",
      "[['N' 'Y']\n",
      " ['Y' 'Y']\n",
      " ['Y' 'Y']] / ['cat' 'dog' 'dog']\n",
      "------------------------------\n"
     ]
    }
   ],
   "source": [
    "for train_index, test_index in skf.split(X,Y):\n",
    "    x_train,x_test= X[train_index],X[test_index]\n",
    "    y_train,y_test= Y[train_index],Y[test_index]\n",
    "    print('Train',train_index)\n",
    "    print(x_train, '/', y_train)\n",
    "    print('Test',test_index)\n",
    "    print(x_test,'/',y_test)\n",
    "    print('-'*30)"
   ]
  },
  {
   "cell_type": "markdown",
   "id": "cf005ad6-130e-494f-9d44-9897de9ab4a7",
   "metadata": {},
   "source": [
    "---"
   ]
  },
  {
   "cell_type": "markdown",
   "id": "93a3156c-61d4-4ca8-a20c-b5fe3efe4501",
   "metadata": {},
   "source": [
    "### LinearRegression(mean_squared_error)"
   ]
  },
  {
   "cell_type": "code",
   "execution_count": 24,
   "id": "71f08e7e-bc7e-44b4-a3e1-e241862ea474",
   "metadata": {},
   "outputs": [],
   "source": [
    "from sklearn import datasets\n",
    "from sklearn.model_selection import train_test_split\n",
    "from sklearn.linear_model import LinearRegression\n",
    "from sklearn.metrics import mean_squared_error #에러의 값을 제곱하여 작은 에러의 값을 크게 본다."
   ]
  },
  {
   "cell_type": "code",
   "execution_count": 25,
   "id": "12204581-15c2-4bee-aebf-263300c3e23e",
   "metadata": {},
   "outputs": [],
   "source": [
    "lr= LinearRegression()"
   ]
  },
  {
   "cell_type": "code",
   "execution_count": 26,
   "id": "f94aa3f3-8db3-4b36-804d-03f2f768a6e4",
   "metadata": {},
   "outputs": [],
   "source": [
    "diabets=datasets.load_diabetes()"
   ]
  },
  {
   "cell_type": "code",
   "execution_count": 27,
   "id": "ed957439-1ac5-435b-a774-486343847653",
   "metadata": {
    "collapsed": true,
    "jupyter": {
     "outputs_hidden": true
    },
    "tags": []
   },
   "outputs": [
    {
     "data": {
      "text/plain": [
       "{'data': array([[ 0.03807591,  0.05068012,  0.06169621, ..., -0.00259226,\n",
       "          0.01990842, -0.01764613],\n",
       "        [-0.00188202, -0.04464164, -0.05147406, ..., -0.03949338,\n",
       "         -0.06832974, -0.09220405],\n",
       "        [ 0.08529891,  0.05068012,  0.04445121, ..., -0.00259226,\n",
       "          0.00286377, -0.02593034],\n",
       "        ...,\n",
       "        [ 0.04170844,  0.05068012, -0.01590626, ..., -0.01107952,\n",
       "         -0.04687948,  0.01549073],\n",
       "        [-0.04547248, -0.04464164,  0.03906215, ...,  0.02655962,\n",
       "          0.04452837, -0.02593034],\n",
       "        [-0.04547248, -0.04464164, -0.0730303 , ..., -0.03949338,\n",
       "         -0.00421986,  0.00306441]]),\n",
       " 'target': array([151.,  75., 141., 206., 135.,  97., 138.,  63., 110., 310., 101.,\n",
       "         69., 179., 185., 118., 171., 166., 144.,  97., 168.,  68.,  49.,\n",
       "         68., 245., 184., 202., 137.,  85., 131., 283., 129.,  59., 341.,\n",
       "         87.,  65., 102., 265., 276., 252.,  90., 100.,  55.,  61.,  92.,\n",
       "        259.,  53., 190., 142.,  75., 142., 155., 225.,  59., 104., 182.,\n",
       "        128.,  52.,  37., 170., 170.,  61., 144.,  52., 128.,  71., 163.,\n",
       "        150.,  97., 160., 178.,  48., 270., 202., 111.,  85.,  42., 170.,\n",
       "        200., 252., 113., 143.,  51.,  52., 210.,  65., 141.,  55., 134.,\n",
       "         42., 111.,  98., 164.,  48.,  96.,  90., 162., 150., 279.,  92.,\n",
       "         83., 128., 102., 302., 198.,  95.,  53., 134., 144., 232.,  81.,\n",
       "        104.,  59., 246., 297., 258., 229., 275., 281., 179., 200., 200.,\n",
       "        173., 180.,  84., 121., 161.,  99., 109., 115., 268., 274., 158.,\n",
       "        107.,  83., 103., 272.,  85., 280., 336., 281., 118., 317., 235.,\n",
       "         60., 174., 259., 178., 128.,  96., 126., 288.,  88., 292.,  71.,\n",
       "        197., 186.,  25.,  84.,  96., 195.,  53., 217., 172., 131., 214.,\n",
       "         59.,  70., 220., 268., 152.,  47.,  74., 295., 101., 151., 127.,\n",
       "        237., 225.,  81., 151., 107.,  64., 138., 185., 265., 101., 137.,\n",
       "        143., 141.,  79., 292., 178.,  91., 116.,  86., 122.,  72., 129.,\n",
       "        142.,  90., 158.,  39., 196., 222., 277.,  99., 196., 202., 155.,\n",
       "         77., 191.,  70.,  73.,  49.,  65., 263., 248., 296., 214., 185.,\n",
       "         78.,  93., 252., 150.,  77., 208.,  77., 108., 160.,  53., 220.,\n",
       "        154., 259.,  90., 246., 124.,  67.,  72., 257., 262., 275., 177.,\n",
       "         71.,  47., 187., 125.,  78.,  51., 258., 215., 303., 243.,  91.,\n",
       "        150., 310., 153., 346.,  63.,  89.,  50.,  39., 103., 308., 116.,\n",
       "        145.,  74.,  45., 115., 264.,  87., 202., 127., 182., 241.,  66.,\n",
       "         94., 283.,  64., 102., 200., 265.,  94., 230., 181., 156., 233.,\n",
       "         60., 219.,  80.,  68., 332., 248.,  84., 200.,  55.,  85.,  89.,\n",
       "         31., 129.,  83., 275.,  65., 198., 236., 253., 124.,  44., 172.,\n",
       "        114., 142., 109., 180., 144., 163., 147.,  97., 220., 190., 109.,\n",
       "        191., 122., 230., 242., 248., 249., 192., 131., 237.,  78., 135.,\n",
       "        244., 199., 270., 164.,  72.,  96., 306.,  91., 214.,  95., 216.,\n",
       "        263., 178., 113., 200., 139., 139.,  88., 148.,  88., 243.,  71.,\n",
       "         77., 109., 272.,  60.,  54., 221.,  90., 311., 281., 182., 321.,\n",
       "         58., 262., 206., 233., 242., 123., 167.,  63., 197.,  71., 168.,\n",
       "        140., 217., 121., 235., 245.,  40.,  52., 104., 132.,  88.,  69.,\n",
       "        219.,  72., 201., 110.,  51., 277.,  63., 118.,  69., 273., 258.,\n",
       "         43., 198., 242., 232., 175.,  93., 168., 275., 293., 281.,  72.,\n",
       "        140., 189., 181., 209., 136., 261., 113., 131., 174., 257.,  55.,\n",
       "         84.,  42., 146., 212., 233.,  91., 111., 152., 120.,  67., 310.,\n",
       "         94., 183.,  66., 173.,  72.,  49.,  64.,  48., 178., 104., 132.,\n",
       "        220.,  57.]),\n",
       " 'frame': None,\n",
       " 'DESCR': '.. _diabetes_dataset:\\n\\nDiabetes dataset\\n----------------\\n\\nTen baseline variables, age, sex, body mass index, average blood\\npressure, and six blood serum measurements were obtained for each of n =\\n442 diabetes patients, as well as the response of interest, a\\nquantitative measure of disease progression one year after baseline.\\n\\n**Data Set Characteristics:**\\n\\n  :Number of Instances: 442\\n\\n  :Number of Attributes: First 10 columns are numeric predictive values\\n\\n  :Target: Column 11 is a quantitative measure of disease progression one year after baseline\\n\\n  :Attribute Information:\\n      - age     age in years\\n      - sex\\n      - bmi     body mass index\\n      - bp      average blood pressure\\n      - s1      tc, total serum cholesterol\\n      - s2      ldl, low-density lipoproteins\\n      - s3      hdl, high-density lipoproteins\\n      - s4      tch, total cholesterol / HDL\\n      - s5      ltg, possibly log of serum triglycerides level\\n      - s6      glu, blood sugar level\\n\\nNote: Each of these 10 feature variables have been mean centered and scaled by the standard deviation times `n_samples` (i.e. the sum of squares of each column totals 1).\\n\\nSource URL:\\nhttps://www4.stat.ncsu.edu/~boos/var.select/diabetes.html\\n\\nFor more information see:\\nBradley Efron, Trevor Hastie, Iain Johnstone and Robert Tibshirani (2004) \"Least Angle Regression,\" Annals of Statistics (with discussion), 407-499.\\n(https://web.stanford.edu/~hastie/Papers/LARS/LeastAngle_2002.pdf)',\n",
       " 'feature_names': ['age',\n",
       "  'sex',\n",
       "  'bmi',\n",
       "  'bp',\n",
       "  's1',\n",
       "  's2',\n",
       "  's3',\n",
       "  's4',\n",
       "  's5',\n",
       "  's6'],\n",
       " 'data_filename': 'diabetes_data.csv.gz',\n",
       " 'target_filename': 'diabetes_target.csv.gz',\n",
       " 'data_module': 'sklearn.datasets.data'}"
      ]
     },
     "execution_count": 27,
     "metadata": {},
     "output_type": "execute_result"
    }
   ],
   "source": [
    "diabets"
   ]
  },
  {
   "cell_type": "code",
   "execution_count": 28,
   "id": "e8102817-cb3e-4583-aa75-690be36731e7",
   "metadata": {},
   "outputs": [],
   "source": [
    "scores=[]\n",
    "for _ in range(10):# _변수 지정을 안 하고 for문 돌리기 \n",
    "    x_train,x_test,y_train,y_test=train_test_split(diabets.data,diabets.target,test_size=0.25)\n",
    "    lr.fit(x_train,y_train)\n",
    "    pred=lr.predict(x_test)\n",
    "    score=mean_squared_error(y_test,pred)\n",
    "    scores.append(score)"
   ]
  },
  {
   "cell_type": "code",
   "execution_count": 29,
   "id": "0eee8ef8-559f-4c0f-8b26-c632c6bf1a0f",
   "metadata": {},
   "outputs": [
    {
     "data": {
      "text/plain": [
       "[3322.238219713057,\n",
       " 2697.1276487876107,\n",
       " 3329.475618139716,\n",
       " 3308.257591137799,\n",
       " 2706.9720421196157,\n",
       " 3002.0531849303234,\n",
       " 3250.4836827134727,\n",
       " 3100.6004144812805,\n",
       " 3067.140445762527,\n",
       " 3029.7607983385374]"
      ]
     },
     "execution_count": 29,
     "metadata": {},
     "output_type": "execute_result"
    }
   ],
   "source": [
    "scores"
   ]
  },
  {
   "cell_type": "code",
   "execution_count": 79,
   "id": "7fbaa232-ce19-45ac-a276-f983722b876c",
   "metadata": {},
   "outputs": [
    {
     "name": "stderr",
     "output_type": "stream",
     "text": [
      "C:\\Users\\user\\AppData\\Local\\Temp\\ipykernel_8936\\3214759307.py:1: RuntimeWarning: invalid value encountered in sqrt\n",
      "  df=pd.DataFrame({'RMSE' : np.sqrt(scores)}) # RMSE는 mse의 루트를 씌운 값\n"
     ]
    }
   ],
   "source": [
    "df=pd.DataFrame({'RMSE' : np.sqrt(scores)}) # RMSE는 mse의 루트를 씌운 값(sqrt는 루트)"
   ]
  },
  {
   "cell_type": "code",
   "execution_count": 31,
   "id": "25dd9501-f349-4522-b6c1-0d64871e6a6b",
   "metadata": {},
   "outputs": [
    {
     "data": {
      "text/html": [
       "<div>\n",
       "<style scoped>\n",
       "    .dataframe tbody tr th:only-of-type {\n",
       "        vertical-align: middle;\n",
       "    }\n",
       "\n",
       "    .dataframe tbody tr th {\n",
       "        vertical-align: top;\n",
       "    }\n",
       "\n",
       "    .dataframe thead th {\n",
       "        text-align: right;\n",
       "    }\n",
       "</style>\n",
       "<table border=\"1\" class=\"dataframe\">\n",
       "  <thead>\n",
       "    <tr style=\"text-align: right;\">\n",
       "      <th></th>\n",
       "      <th>0</th>\n",
       "      <th>1</th>\n",
       "      <th>2</th>\n",
       "      <th>3</th>\n",
       "      <th>4</th>\n",
       "      <th>5</th>\n",
       "      <th>6</th>\n",
       "      <th>7</th>\n",
       "      <th>8</th>\n",
       "      <th>9</th>\n",
       "    </tr>\n",
       "  </thead>\n",
       "  <tbody>\n",
       "    <tr>\n",
       "      <th>RMSE</th>\n",
       "      <td>57.63886</td>\n",
       "      <td>51.933878</td>\n",
       "      <td>57.701608</td>\n",
       "      <td>57.517455</td>\n",
       "      <td>52.028569</td>\n",
       "      <td>54.790995</td>\n",
       "      <td>57.013013</td>\n",
       "      <td>55.683035</td>\n",
       "      <td>55.38177</td>\n",
       "      <td>55.043263</td>\n",
       "    </tr>\n",
       "  </tbody>\n",
       "</table>\n",
       "</div>"
      ],
      "text/plain": [
       "             0          1          2          3          4          5  \\\n",
       "RMSE  57.63886  51.933878  57.701608  57.517455  52.028569  54.790995   \n",
       "\n",
       "              6          7         8          9  \n",
       "RMSE  57.013013  55.683035  55.38177  55.043263  "
      ]
     },
     "execution_count": 31,
     "metadata": {},
     "output_type": "execute_result"
    }
   ],
   "source": [
    "df.T"
   ]
  },
  {
   "cell_type": "code",
   "execution_count": 32,
   "id": "59af1115-503c-409d-99c9-f1595dcd906b",
   "metadata": {},
   "outputs": [],
   "source": [
    "import seaborn as sns"
   ]
  },
  {
   "cell_type": "code",
   "execution_count": 33,
   "id": "64328e79-ec94-4cec-b67b-64864c3f360b",
   "metadata": {},
   "outputs": [
    {
     "data": {
      "image/png": "[encoded data removed]",
      "text/plain": [
       "<Figure size 432x288 with 1 Axes>"
      ]
     },
     "metadata": {
      "needs_background": "light"
     },
     "output_type": "display_data"
    }
   ],
   "source": [
    "swarm=sns.swarmplot(y='RMSE',data=df)# 데이터가 분산되어 있어서 모아줘야 한다."
   ]
  },
  {
   "cell_type": "code",
   "execution_count": 34,
   "id": "0b5d7f2a-88f3-4be8-bd22-74371622a09f",
   "metadata": {},
   "outputs": [],
   "source": [
    "from sklearn.preprocessing import MinMaxScaler"
   ]
  },
  {
   "cell_type": "code",
   "execution_count": 35,
   "id": "04541af1-0fd9-4fd0-a33a-6bd20053043d",
   "metadata": {},
   "outputs": [],
   "source": [
    "scaler=MinMaxScaler()"
   ]
  },
  {
   "cell_type": "code",
   "execution_count": 36,
   "id": "7de36f09-ff8d-4eed-8240-8a003840a5df",
   "metadata": {},
   "outputs": [],
   "source": [
    "X=scaler.fit_transform(diabets.data)"
   ]
  },
  {
   "cell_type": "code",
   "execution_count": 37,
   "id": "8cf1b9b6-03a8-4d6d-ab93-1b189443b20e",
   "metadata": {},
   "outputs": [],
   "source": [
    "scores=[]\n",
    "for _ in range(10):\n",
    "    x_train,x_test,y_train,y_test=train_test_split(X,diabets.target,test_size=0.25)\n",
    "    lr.fit(x_train,y_train)\n",
    "    pred=lr.predict(x_test)\n",
    "    score=mean_squared_error(y_test,pred)\n",
    "    scores.append(score)"
   ]
  },
  {
   "cell_type": "code",
   "execution_count": 38,
   "id": "4fc5655f-8dbd-4c85-a4e5-b7521143575a",
   "metadata": {},
   "outputs": [],
   "source": [
    "df2=pd.DataFrame({'RMSE' : np.sqrt(scores)})"
   ]
  },
  {
   "cell_type": "code",
   "execution_count": 39,
   "id": "d27443eb-dc59-4663-939c-9718ceb295b2",
   "metadata": {},
   "outputs": [
    {
     "data": {
      "image/png": "[encoded data removed]",
      "text/plain": [
       "<Figure size 432x288 with 1 Axes>"
      ]
     },
     "metadata": {
      "needs_background": "light"
     },
     "output_type": "display_data"
    }
   ],
   "source": [
    "swarm=sns.swarmplot(y='RMSE',data=df2)## scaler 사용해도 소용은 없었다."
   ]
  },
  {
   "cell_type": "code",
   "execution_count": 40,
   "id": "c4792531-92fa-4861-9195-c733e8168cda",
   "metadata": {},
   "outputs": [],
   "source": [
    "def tts_fit_score(model,X,Y,evaluation, size=0.25):\n",
    "    x_train,x_test,y_train,y_test=train_test_split(X,Y,test_size=size)\n",
    "    \n",
    "    model.fit(x_train,y_train)\n",
    "    \n",
    "    pred = lr.predict(x_test)\n",
    "    \n",
    "    score = evaluation(y_test,pred)\n",
    "    return score"
   ]
  },
  {
   "cell_type": "code",
   "execution_count": 41,
   "id": "abe863d8-2f41-4793-9be2-e0611f5ed412",
   "metadata": {},
   "outputs": [],
   "source": [
    "lr = LinearRegression()\n",
    "diabets = datasets.load_diabetes()"
   ]
  },
  {
   "cell_type": "code",
   "execution_count": 42,
   "id": "67d40cbf-5fe7-45e9-ae10-76af4337d4fa",
   "metadata": {},
   "outputs": [],
   "source": [
    "scores=[tts_fit_score(lr,diabets.data,diabets.target,mean_squared_error) for _ in range(10)]  #리스트 컴프리헨션"
   ]
  },
  {
   "cell_type": "code",
   "execution_count": 43,
   "id": "cbe365d1-296a-4daf-a3f3-f14248781086",
   "metadata": {},
   "outputs": [
    {
     "data": {
      "text/plain": [
       "[3237.29412057169,\n",
       " 2722.241794152424,\n",
       " 3369.0652730516067,\n",
       " 3039.425474928749,\n",
       " 3143.960918391313,\n",
       " 2895.370511169686,\n",
       " 3483.391797438219,\n",
       " 3189.2837052489945,\n",
       " 3269.6750482871576,\n",
       " 2951.2019359724186]"
      ]
     },
     "execution_count": 43,
     "metadata": {},
     "output_type": "execute_result"
    }
   ],
   "source": [
    "scores"
   ]
  },
  {
   "cell_type": "markdown",
   "id": "0c53f003-2792-4c5a-a1fb-3d587f8390aa",
   "metadata": {},
   "source": [
    "----------"
   ]
  },
  {
   "cell_type": "markdown",
   "id": "ea725446-3b26-467c-b5b4-2241c09c5748",
   "metadata": {},
   "source": [
    "### "
   ]
  },
  {
   "cell_type": "markdown",
   "id": "f6c7f26a-be4d-451f-b0a8-d6c126c74cd4",
   "metadata": {},
   "source": [
    "### Shuffle (KFold와 비교)"
   ]
  },
  {
   "cell_type": "code",
   "execution_count": 44,
   "id": "fc753131-9144-44a3-a293-86b830b87a5e",
   "metadata": {},
   "outputs": [],
   "source": [
    "from sklearn.model_selection import ShuffleSplit"
   ]
  },
  {
   "cell_type": "code",
   "execution_count": 45,
   "id": "8261cb44-6e38-41c9-9b7a-0d7f66fcbcfb",
   "metadata": {},
   "outputs": [],
   "source": [
    "ss=ShuffleSplit(test_size=0.25,n_splits=10)"
   ]
  },
  {
   "cell_type": "code",
   "execution_count": 46,
   "id": "98b2d0a7-079b-4ea6-bdf0-d59b257f2308",
   "metadata": {},
   "outputs": [],
   "source": [
    "lr=LinearRegression()\n",
    "diabets=datasets.load_diabetes()"
   ]
  },
  {
   "cell_type": "code",
   "execution_count": 47,
   "id": "3a6fcd52-19ef-49f3-bfe1-cd6929b422d9",
   "metadata": {},
   "outputs": [],
   "source": [
    "scores=cross_val_score(lr,diabets.data,diabets.target,cv=ss, scoring=\"neg_mean_squared_error\") #ShuffleSplit\n",
    "# KFold [cross_val_score(model,X,Y,cv=5,scoring=\"neg_mean_squared_error\") # 에러를 정수로 만들어서 사용할 수 있게끔 neg를 사용 ]와 비교하여 잘 이해해 두기"
   ]
  },
  {
   "cell_type": "code",
   "execution_count": 48,
   "id": "dff5dcb3-3a00-4083-b735-7b917da18955",
   "metadata": {},
   "outputs": [
    {
     "data": {
      "text/plain": [
       "array([-3135.88726321, -2942.01470444, -2983.0900088 , -3122.67566423,\n",
       "       -2646.14808786, -2519.88155834, -3034.4129667 , -3077.25780072,\n",
       "       -3001.17445334, -2367.43715168])"
      ]
     },
     "execution_count": 48,
     "metadata": {},
     "output_type": "execute_result"
    }
   ],
   "source": [
    "scores"
   ]
  },
  {
   "cell_type": "code",
   "execution_count": 49,
   "id": "a9407f00-2c99-477b-a80f-0b7a5a9a3eb2",
   "metadata": {},
   "outputs": [],
   "source": [
    "df3=pd.DataFrame({'RMSE' : np.sqrt(-scores)}) #scoores값이 음수이니까 -를 붙여서 -제거"
   ]
  },
  {
   "cell_type": "code",
   "execution_count": 50,
   "id": "2821ad3e-b4ba-49b1-9d1a-b68cea55f77d",
   "metadata": {},
   "outputs": [
    {
     "data": {
      "text/html": [
       "<div>\n",
       "<style scoped>\n",
       "    .dataframe tbody tr th:only-of-type {\n",
       "        vertical-align: middle;\n",
       "    }\n",
       "\n",
       "    .dataframe tbody tr th {\n",
       "        vertical-align: top;\n",
       "    }\n",
       "\n",
       "    .dataframe thead th {\n",
       "        text-align: right;\n",
       "    }\n",
       "</style>\n",
       "<table border=\"1\" class=\"dataframe\">\n",
       "  <thead>\n",
       "    <tr style=\"text-align: right;\">\n",
       "      <th></th>\n",
       "      <th>0</th>\n",
       "      <th>1</th>\n",
       "      <th>2</th>\n",
       "      <th>3</th>\n",
       "      <th>4</th>\n",
       "      <th>5</th>\n",
       "      <th>6</th>\n",
       "      <th>7</th>\n",
       "      <th>8</th>\n",
       "      <th>9</th>\n",
       "    </tr>\n",
       "  </thead>\n",
       "  <tbody>\n",
       "    <tr>\n",
       "      <th>RMSE</th>\n",
       "      <td>55.998993</td>\n",
       "      <td>54.240342</td>\n",
       "      <td>54.617671</td>\n",
       "      <td>55.880906</td>\n",
       "      <td>51.440724</td>\n",
       "      <td>50.198422</td>\n",
       "      <td>55.085506</td>\n",
       "      <td>55.473037</td>\n",
       "      <td>54.782976</td>\n",
       "      <td>48.656317</td>\n",
       "    </tr>\n",
       "  </tbody>\n",
       "</table>\n",
       "</div>"
      ],
      "text/plain": [
       "              0          1          2          3          4          5  \\\n",
       "RMSE  55.998993  54.240342  54.617671  55.880906  51.440724  50.198422   \n",
       "\n",
       "              6          7          8          9  \n",
       "RMSE  55.085506  55.473037  54.782976  48.656317  "
      ]
     },
     "execution_count": 50,
     "metadata": {},
     "output_type": "execute_result"
    }
   ],
   "source": [
    "df3.T"
   ]
  },
  {
   "cell_type": "code",
   "execution_count": 51,
   "id": "05290309-a309-42e8-a58a-80d07a2af3b2",
   "metadata": {},
   "outputs": [
    {
     "data": {
      "image/png": "[encoded data removed]",
      "text/plain": [
       "<Figure size 432x288 with 1 Axes>"
      ]
     },
     "metadata": {
      "needs_background": "light"
     },
     "output_type": "display_data"
    }
   ],
   "source": [
    "swarm=sns.swarmplot(y='RMSE',data=df3)"
   ]
  },
  {
   "cell_type": "markdown",
   "id": "1d18b8e9-9c84-4b0e-ae1a-9e312de437d6",
   "metadata": {},
   "source": [
    "------------"
   ]
  },
  {
   "cell_type": "markdown",
   "id": "2da79797-9b6e-4d4a-989d-59503a5530e5",
   "metadata": {},
   "source": [
    "### 차원을 높여서(직선에서 곡선으로)  \n",
    "#### WHY 1차원 1차 함수 그래프로는 데이터를 원하는 대로 나누기 어렵기 때문에"
   ]
  },
  {
   "cell_type": "code",
   "execution_count": 52,
   "id": "b1b647ee-6a18-4cfe-af05-c11122794043",
   "metadata": {},
   "outputs": [],
   "source": [
    "from sklearn.preprocessing import PolynomialFeatures\n",
    "from sklearn.linear_model import LogisticRegression\n",
    "from sklearn.pipeline import make_pipeline\n",
    "import numpy as np"
   ]
  },
  {
   "cell_type": "code",
   "execution_count": 80,
   "id": "4e2af554-3a33-4ae2-87e3-10fc12408a4d",
   "metadata": {},
   "outputs": [],
   "source": [
    "np.random.seed(1) #랜덤값 고정"
   ]
  },
  {
   "cell_type": "code",
   "execution_count": 82,
   "id": "9f9acbf7-f501-4ccd-be51-c21522e6e476",
   "metadata": {
    "collapsed": true,
    "jupyter": {
     "outputs_hidden": true
    },
    "tags": []
   },
   "outputs": [
    {
     "data": {
      "text/plain": [
       "array([[1.83262067e-01],\n",
       "       [9.30916317e-01],\n",
       "       [4.40154621e-01],\n",
       "       [3.86505569e-01],\n",
       "       [1.31666383e-02],\n",
       "       [9.01529852e-01],\n",
       "       [2.02420928e-01],\n",
       "       [3.34534546e-01],\n",
       "       [1.66575650e-01],\n",
       "       [5.61817894e-02],\n",
       "       [8.16094558e-01],\n",
       "       [3.29108153e-01],\n",
       "       [8.23877727e-06],\n",
       "       [3.80867844e-01],\n",
       "       [1.06696892e-01],\n",
       "       [2.77790243e-01],\n",
       "       [7.84893403e-01],\n",
       "       [1.27641681e-01],\n",
       "       [8.25436120e-01],\n",
       "       [3.88577834e-01],\n",
       "       [2.50311725e-04],\n",
       "       [8.63853571e-01],\n",
       "       [4.77338551e-01],\n",
       "       [9.94652868e-01],\n",
       "       [2.97012508e-02],\n",
       "       [1.88062138e-02],\n",
       "       [8.69734298e-01],\n",
       "       [4.85555550e-01],\n",
       "       [4.35602280e-03],\n",
       "       [5.70724424e-01],\n",
       "       [5.68329308e-01],\n",
       "       [8.51974293e-01],\n",
       "       [5.06267482e-01],\n",
       "       [1.54432720e-02],\n",
       "       [3.95219721e-04],\n",
       "       [6.87015833e-04],\n",
       "       [8.01257264e-04],\n",
       "       [6.06198898e-02],\n",
       "       [7.39648073e-01],\n",
       "       [2.90338916e-01]])"
      ]
     },
     "execution_count": 82,
     "metadata": {},
     "output_type": "execute_result"
    }
   ],
   "source": [
    "X=np.random.rand(40,1)**2\n",
    "Y=(10-1/(X.ravel()+0.1)) + np.random.randn(40) #0.1을 더한 이유는 X.raver()이 0이 되면 0이 나오는 것을 방지하기 위해\n",
    "X"
   ]
  },
  {
   "cell_type": "code",
   "execution_count": 55,
   "id": "35981003-e771-4f31-918d-784f7a971897",
   "metadata": {},
   "outputs": [],
   "source": [
    "import matplotlib.pyplot as plt"
   ]
  },
  {
   "cell_type": "code",
   "execution_count": 56,
   "id": "f2763649-c0cc-4d32-840d-b70ede02c2b7",
   "metadata": {},
   "outputs": [
    {
     "data": {
      "text/plain": [
       "<matplotlib.collections.PathCollection at 0x1b40c9e3610>"
      ]
     },
     "execution_count": 56,
     "metadata": {},
     "output_type": "execute_result"
    },
    {
     "data": {
      "image/png": "[encoded data removed]",
      "text/plain": [
       "<Figure size 360x360 with 1 Axes>"
      ]
     },
     "metadata": {
      "needs_background": "light"
     },
     "output_type": "display_data"
    }
   ],
   "source": [
    "fig = plt.figure(figsize=(5,5))\n",
    "ax= fig.add_subplot()\n",
    "ax.scatter(X.ravel(),Y,s=15)"
   ]
  },
  {
   "cell_type": "code",
   "execution_count": 57,
   "id": "13cdff9d-17e4-471d-875d-3834ac47818f",
   "metadata": {
    "tags": []
   },
   "outputs": [
    {
     "data": {
      "text/plain": [
       "array([-0.1])"
      ]
     },
     "execution_count": 57,
     "metadata": {},
     "output_type": "execute_result"
    }
   ],
   "source": [
    "X_test=np.linspace(-0.1,1.1,500).reshape(-1,1)\n",
    "X_test[0]"
   ]
  },
  {
   "cell_type": "code",
   "execution_count": 58,
   "id": "8d71663c-c837-48e5-ab99-4272f3a1a02c",
   "metadata": {},
   "outputs": [],
   "source": [
    "poly=PolynomialFeatures(2)#2차원 n차원"
   ]
  },
  {
   "cell_type": "code",
   "execution_count": 59,
   "id": "becac8d4-6db9-4894-90ff-fc3b854a4923",
   "metadata": {},
   "outputs": [],
   "source": [
    "X_poly=poly.fit_transform(X)# 차원을 높여준다.,x,x**2\n",
    "X_test_poly=poly.transform(X_test)"
   ]
  },
  {
   "cell_type": "code",
   "execution_count": 60,
   "id": "86422ea7-1414-41bd-9f02-40dd33946426",
   "metadata": {},
   "outputs": [],
   "source": [
    "lr=LinearRegression()"
   ]
  },
  {
   "cell_type": "code",
   "execution_count": 61,
   "id": "5184b00e-a6cd-42a8-a99c-907e4ac96152",
   "metadata": {},
   "outputs": [
    {
     "data": {
      "text/plain": [
       "LinearRegression()"
      ]
     },
     "execution_count": 61,
     "metadata": {},
     "output_type": "execute_result"
    }
   ],
   "source": [
    "lr.fit(X_poly,Y)"
   ]
  },
  {
   "cell_type": "code",
   "execution_count": 62,
   "id": "28fe7e93-032b-4754-98aa-25902e7a3be4",
   "metadata": {},
   "outputs": [],
   "source": [
    "Y_test=lr.predict(X_test_poly)"
   ]
  },
  {
   "cell_type": "code",
   "execution_count": 63,
   "id": "0033590b-e8d5-435d-8c21-ca33264c541e",
   "metadata": {
    "collapsed": true,
    "jupyter": {
     "outputs_hidden": true
    },
    "tags": []
   },
   "outputs": [
    {
     "data": {
      "text/plain": [
       "array([-1.34013187, -1.2698606 , -1.19981531, -1.12999599, -1.06040263,\n",
       "       -0.99103525, -0.92189383, -0.85297838, -0.78428891, -0.7158254 ,\n",
       "       -0.64758786, -0.57957629, -0.51179069, -0.44423105, -0.37689739,\n",
       "       -0.3097897 , -0.24290797, -0.17625222, -0.10982243, -0.04361861,\n",
       "        0.02235923,  0.08811111,  0.15363702,  0.21893696,  0.28401093,\n",
       "        0.34885894,  0.41348097,  0.47787703,  0.54204713,  0.60599125,\n",
       "        0.66970941,  0.7332016 ,  0.79646781,  0.85950806,  0.92232234,\n",
       "        0.98491065,  1.04727299,  1.10940937,  1.17131977,  1.2330042 ,\n",
       "        1.29446267,  1.35569516,  1.41670169,  1.47748225,  1.53803683,\n",
       "        1.59836545,  1.6584681 ,  1.71834478,  1.77799549,  1.83742023,\n",
       "        1.89661901,  1.95559181,  2.01433865,  2.07285951,  2.13115441,\n",
       "        2.18922333,  2.24706629,  2.30468328,  2.3620743 ,  2.41923935,\n",
       "        2.47617843,  2.53289154,  2.58937868,  2.64563986,  2.70167506,\n",
       "        2.7574843 ,  2.81306756,  2.86842486,  2.92355619,  2.97846155,\n",
       "        3.03314094,  3.08759436,  3.14182181,  3.19582329,  3.2495988 ,\n",
       "        3.30314835,  3.35647192,  3.40956952,  3.46244116,  3.51508683,\n",
       "        3.56750652,  3.61970025,  3.67166801,  3.7234098 ,  3.77492562,\n",
       "        3.82621548,  3.87727936,  3.92811727,  3.97872922,  4.02911519,\n",
       "        4.0792752 ,  4.12920923,  4.1789173 ,  4.2283994 ,  4.27765553,\n",
       "        4.32668569,  4.37548988,  4.4240681 ,  4.47242035,  4.52054664,\n",
       "        4.56844695,  4.6161213 ,  4.66356967,  4.71079208,  4.75778852,\n",
       "        4.80455898,  4.85110348,  4.89742201,  4.94351457,  4.98938117,\n",
       "        5.03502179,  5.08043644,  5.12562513,  5.17058784,  5.21532459,\n",
       "        5.25983536,  5.30412017,  5.34817901,  5.39201188,  5.43561878,\n",
       "        5.47899971,  5.52215467,  5.56508366,  5.60778668,  5.65026374,\n",
       "        5.69251482,  5.73453994,  5.77633909,  5.81791226,  5.85925947,\n",
       "        5.90038071,  5.94127598,  5.98194528,  6.02238861,  6.06260597,\n",
       "        6.10259737,  6.14236279,  6.18190225,  6.22121573,  6.26030325,\n",
       "        6.2991648 ,  6.33780037,  6.37620998,  6.41439362,  6.45235129,\n",
       "        6.49008299,  6.52758873,  6.56486849,  6.60192228,  6.63875011,\n",
       "        6.67535196,  6.71172785,  6.74787777,  6.78380172,  6.8194997 ,\n",
       "        6.8549717 ,  6.89021775,  6.92523782,  6.96003192,  6.99460005,\n",
       "        7.02894222,  7.06305841,  7.09694864,  7.13061289,  7.16405118,\n",
       "        7.1972635 ,  7.23024985,  7.26301023,  7.29554464,  7.32785308,\n",
       "        7.35993555,  7.39179205,  7.42342259,  7.45482715,  7.48600575,\n",
       "        7.51695837,  7.54768503,  7.57818572,  7.60846044,  7.63850919,\n",
       "        7.66833197,  7.69792878,  7.72729962,  7.75644449,  7.7853634 ,\n",
       "        7.81405633,  7.8425233 ,  7.87076429,  7.89877932,  7.92656838,\n",
       "        7.95413147,  7.98146859,  8.00857974,  8.03546492,  8.06212413,\n",
       "        8.08855737,  8.11476465,  8.14074595,  8.16650129,  8.19203065,\n",
       "        8.21733405,  8.24241148,  8.26726293,  8.29188842,  8.31628794,\n",
       "        8.3404615 ,  8.36440908,  8.38813069,  8.41162633,  8.43489601,\n",
       "        8.45793971,  8.48075745,  8.50334922,  8.52571501,  8.54785484,\n",
       "        8.5697687 ,  8.59145659,  8.61291851,  8.63415447,  8.65516445,\n",
       "        8.67594846,  8.69650651,  8.71683858,  8.73694469,  8.75682482,\n",
       "        8.77647899,  8.79590719,  8.81510942,  8.83408568,  8.85283597,\n",
       "        8.87136029,  8.88965864,  8.90773103,  8.92557744,  8.94319789,\n",
       "        8.96059236,  8.97776087,  8.99470341,  9.01141998,  9.02791058,\n",
       "        9.04417521,  9.06021387,  9.07602656,  9.09161328,  9.10697403,\n",
       "        9.12210882,  9.13701763,  9.15170048,  9.16615736,  9.18038826,\n",
       "        9.1943932 ,  9.20817217,  9.22172517,  9.2350522 ,  9.24815326,\n",
       "        9.26102836,  9.27367748,  9.28610063,  9.29829782,  9.31026903,\n",
       "        9.32201428,  9.33353356,  9.34482687,  9.35589421,  9.36673558,\n",
       "        9.37735098,  9.38774041,  9.39790387,  9.40784136,  9.41755289,\n",
       "        9.42703844,  9.43629803,  9.44533165,  9.45413929,  9.46272097,\n",
       "        9.47107668,  9.47920642,  9.48711019,  9.49478799,  9.50223983,\n",
       "        9.50946569,  9.51646558,  9.52323951,  9.52978746,  9.53610945,\n",
       "        9.54220547,  9.54807552,  9.55371959,  9.5591377 ,  9.56432984,\n",
       "        9.56929602,  9.57403622,  9.57855045,  9.58283872,  9.58690101,\n",
       "        9.59073734,  9.59434769,  9.59773208,  9.6008905 ,  9.60382295,\n",
       "        9.60652943,  9.60900994,  9.61126448,  9.61329305,  9.61509565,\n",
       "        9.61667229,  9.61802295,  9.61914765,  9.62004637,  9.62071913,\n",
       "        9.62116592,  9.62138674,  9.62138159,  9.62115047,  9.62069338,\n",
       "        9.62001032,  9.6191013 ,  9.6179663 ,  9.61660533,  9.6150184 ,\n",
       "        9.6132055 ,  9.61116662,  9.60890178,  9.60641097,  9.60369419,\n",
       "        9.60075144,  9.59758272,  9.59418803,  9.59056738,  9.58672075,\n",
       "        9.58264815,  9.57834959,  9.57382506,  9.56907455,  9.56409808,\n",
       "        9.55889564,  9.55346723,  9.54781285,  9.5419325 ,  9.53582618,\n",
       "        9.5294939 ,  9.52293564,  9.51615141,  9.50914122,  9.50190506,\n",
       "        9.49444292,  9.48675482,  9.47884075,  9.47070071,  9.4623347 ,\n",
       "        9.45374272,  9.44492477,  9.43588086,  9.42661097,  9.41711511,\n",
       "        9.40739329,  9.3974455 ,  9.38727173,  9.376872  ,  9.3662463 ,\n",
       "        9.35539463,  9.34431699,  9.33301338,  9.3214838 ,  9.30972825,\n",
       "        9.29774674,  9.28553925,  9.2731058 ,  9.26044637,  9.24756098,\n",
       "        9.23444962,  9.22111229,  9.20754899,  9.19375972,  9.17974448,\n",
       "        9.16550327,  9.15103609,  9.13634295,  9.12142383,  9.10627874,\n",
       "        9.09090769,  9.07531067,  9.05948768,  9.04343871,  9.02716378,\n",
       "        9.01066288,  8.99393601,  8.97698318,  8.95980437,  8.94239959,\n",
       "        8.92476885,  8.90691213,  8.88882945,  8.87052079,  8.85198617,\n",
       "        8.83322558,  8.81423902,  8.79502649,  8.77558799,  8.75592352,\n",
       "        8.73603309,  8.71591668,  8.6955743 ,  8.67500596,  8.65421164,\n",
       "        8.63319136,  8.61194511,  8.59047289,  8.5687747 ,  8.54685054,\n",
       "        8.52470041,  8.50232431,  8.47972224,  8.4568942 ,  8.4338402 ,\n",
       "        8.41056022,  8.38705428,  8.36332237,  8.33936448,  8.31518063,\n",
       "        8.29077081,  8.26613502,  8.24127326,  8.21618553,  8.19087184,\n",
       "        8.16533217,  8.13956653,  8.11357493,  8.08735735,  8.06091381,\n",
       "        8.0342443 ,  8.00734882,  7.98022736,  7.95287994,  7.92530656,\n",
       "        7.8975072 ,  7.86948187,  7.84123057,  7.81275331,  7.78405007,\n",
       "        7.75512087,  7.72596569,  7.69658455,  7.66697744,  7.63714436,\n",
       "        7.60708531,  7.57680029,  7.5462893 ,  7.51555234,  7.48458942,\n",
       "        7.45340052,  7.42198565,  7.39034482,  7.35847802,  7.32638524,\n",
       "        7.2940665 ,  7.26152179,  7.22875111,  7.19575446,  7.16253184,\n",
       "        7.12908325,  7.0954087 ,  7.06150817,  7.02738168,  6.99302921,\n",
       "        6.95845078,  6.92364638,  6.888616  ,  6.85335966,  6.81787735,\n",
       "        6.78216907,  6.74623482,  6.71007461,  6.67368842,  6.63707626,\n",
       "        6.60023814,  6.56317404,  6.52588398,  6.48836795,  6.45062595,\n",
       "        6.41265797,  6.37446403,  6.33604412,  6.29739825,  6.2585264 ,\n",
       "        6.21942858,  6.18010479,  6.14055504,  6.10077931,  6.06077762,\n",
       "        6.02054996,  5.98009633,  5.93941672,  5.89851115,  5.85737961,\n",
       "        5.81602211,  5.77443863,  5.73262918,  5.69059376,  5.64833238])"
      ]
     },
     "execution_count": 63,
     "metadata": {},
     "output_type": "execute_result"
    }
   ],
   "source": [
    "Y_test"
   ]
  },
  {
   "cell_type": "code",
   "execution_count": 64,
   "id": "0ed46499-cf9d-4074-8d66-121070b69d78",
   "metadata": {},
   "outputs": [
    {
     "data": {
      "text/plain": [
       "<matplotlib.legend.Legend at 0x1b40ca228b0>"
      ]
     },
     "execution_count": 64,
     "metadata": {},
     "output_type": "execute_result"
    },
    {
     "data": {
      "image/png": "[encoded data removed]",
      "text/plain": [
       "<Figure size 720x720 with 1 Axes>"
      ]
     },
     "metadata": {
      "needs_background": "light"
     },
     "output_type": "display_data"
    }
   ],
   "source": [
    "fig= plt.figure(figsize=(10,10))\n",
    "ax= fig.add_subplot(2,2,2)\n",
    "ax.scatter(X.ravel(),Y,s=15)\n",
    "ax.plot(X_test.ravel(),Y_test, label='degree=2')\n",
    "ax.set_xlim(-0.1,1.0)\n",
    "ax.set_ylim(-2,12)\n",
    "ax.legend(loc='best')"
   ]
  },
  {
   "cell_type": "markdown",
   "id": "17694f10-28b0-4878-a8ed-536bf8d06312",
   "metadata": {},
   "source": [
    "### 최적의 degree를 찾아라 (너무 높은 degree는 과적합 너무 낮은 degree는 학습이 안 됨)"
   ]
  },
  {
   "cell_type": "code",
   "execution_count": 65,
   "id": "ea030257-b30a-4182-ac8c-d23d1d1442d9",
   "metadata": {},
   "outputs": [
    {
     "data": {
      "image/png": "[encoded data removed]",
      "text/plain": [
       "<Figure size 864x720 with 4 Axes>"
      ]
     },
     "metadata": {
      "needs_background": "light"
     },
     "output_type": "display_data"
    }
   ],
   "source": [
    "fig=plt.figure(figsize=(12,10))\n",
    "X_test=np.linspace(-0.1,1.1,500).reshape(-1,1)\n",
    "for i , degree in enumerate([1,3,6,10],start=1):\n",
    "    Y_test=make_pipeline(PolynomialFeatures(degree),LinearRegression()).fit(X,Y).predict(X_test)# fit_transform 할 필요없이 한 번에 처리하기 \n",
    "    \n",
    "    ax= fig.add_subplot(2,2,i)\n",
    "    ax.scatter(X.ravel(),Y,s=15)\n",
    "    ax.plot(X_test.ravel(),Y_test, label='degree=2'+str(degree))\n",
    "    ax.set_xlim(-0.1,1.0)\n",
    "    ax.set_ylim(-2,12)"
   ]
  },
  {
   "cell_type": "code",
   "execution_count": 84,
   "id": "ce2cfdd5-3366-44ce-9f19-5fb09a4d8dca",
   "metadata": {
    "collapsed": true,
    "jupyter": {
     "outputs_hidden": true
    },
    "tags": []
   },
   "outputs": [
    {
     "data": {
      "text/plain": [
       "array([[-1.00000000e-01],\n",
       "       [-9.75951904e-02],\n",
       "       [-9.51903808e-02],\n",
       "       [-9.27855711e-02],\n",
       "       [-9.03807615e-02],\n",
       "       [-8.79759519e-02],\n",
       "       [-8.55711423e-02],\n",
       "       [-8.31663327e-02],\n",
       "       [-8.07615230e-02],\n",
       "       [-7.83567134e-02],\n",
       "       [-7.59519038e-02],\n",
       "       [-7.35470942e-02],\n",
       "       [-7.11422846e-02],\n",
       "       [-6.87374749e-02],\n",
       "       [-6.63326653e-02],\n",
       "       [-6.39278557e-02],\n",
       "       [-6.15230461e-02],\n",
       "       [-5.91182365e-02],\n",
       "       [-5.67134269e-02],\n",
       "       [-5.43086172e-02],\n",
       "       [-5.19038076e-02],\n",
       "       [-4.94989980e-02],\n",
       "       [-4.70941884e-02],\n",
       "       [-4.46893788e-02],\n",
       "       [-4.22845691e-02],\n",
       "       [-3.98797595e-02],\n",
       "       [-3.74749499e-02],\n",
       "       [-3.50701403e-02],\n",
       "       [-3.26653307e-02],\n",
       "       [-3.02605210e-02],\n",
       "       [-2.78557114e-02],\n",
       "       [-2.54509018e-02],\n",
       "       [-2.30460922e-02],\n",
       "       [-2.06412826e-02],\n",
       "       [-1.82364729e-02],\n",
       "       [-1.58316633e-02],\n",
       "       [-1.34268537e-02],\n",
       "       [-1.10220441e-02],\n",
       "       [-8.61723447e-03],\n",
       "       [-6.21242485e-03],\n",
       "       [-3.80761523e-03],\n",
       "       [-1.40280561e-03],\n",
       "       [ 1.00200401e-03],\n",
       "       [ 3.40681363e-03],\n",
       "       [ 5.81162325e-03],\n",
       "       [ 8.21643287e-03],\n",
       "       [ 1.06212425e-02],\n",
       "       [ 1.30260521e-02],\n",
       "       [ 1.54308617e-02],\n",
       "       [ 1.78356713e-02],\n",
       "       [ 2.02404810e-02],\n",
       "       [ 2.26452906e-02],\n",
       "       [ 2.50501002e-02],\n",
       "       [ 2.74549098e-02],\n",
       "       [ 2.98597194e-02],\n",
       "       [ 3.22645291e-02],\n",
       "       [ 3.46693387e-02],\n",
       "       [ 3.70741483e-02],\n",
       "       [ 3.94789579e-02],\n",
       "       [ 4.18837675e-02],\n",
       "       [ 4.42885772e-02],\n",
       "       [ 4.66933868e-02],\n",
       "       [ 4.90981964e-02],\n",
       "       [ 5.15030060e-02],\n",
       "       [ 5.39078156e-02],\n",
       "       [ 5.63126253e-02],\n",
       "       [ 5.87174349e-02],\n",
       "       [ 6.11222445e-02],\n",
       "       [ 6.35270541e-02],\n",
       "       [ 6.59318637e-02],\n",
       "       [ 6.83366733e-02],\n",
       "       [ 7.07414830e-02],\n",
       "       [ 7.31462926e-02],\n",
       "       [ 7.55511022e-02],\n",
       "       [ 7.79559118e-02],\n",
       "       [ 8.03607214e-02],\n",
       "       [ 8.27655311e-02],\n",
       "       [ 8.51703407e-02],\n",
       "       [ 8.75751503e-02],\n",
       "       [ 8.99799599e-02],\n",
       "       [ 9.23847695e-02],\n",
       "       [ 9.47895792e-02],\n",
       "       [ 9.71943888e-02],\n",
       "       [ 9.95991984e-02],\n",
       "       [ 1.02004008e-01],\n",
       "       [ 1.04408818e-01],\n",
       "       [ 1.06813627e-01],\n",
       "       [ 1.09218437e-01],\n",
       "       [ 1.11623246e-01],\n",
       "       [ 1.14028056e-01],\n",
       "       [ 1.16432866e-01],\n",
       "       [ 1.18837675e-01],\n",
       "       [ 1.21242485e-01],\n",
       "       [ 1.23647295e-01],\n",
       "       [ 1.26052104e-01],\n",
       "       [ 1.28456914e-01],\n",
       "       [ 1.30861723e-01],\n",
       "       [ 1.33266533e-01],\n",
       "       [ 1.35671343e-01],\n",
       "       [ 1.38076152e-01],\n",
       "       [ 1.40480962e-01],\n",
       "       [ 1.42885772e-01],\n",
       "       [ 1.45290581e-01],\n",
       "       [ 1.47695391e-01],\n",
       "       [ 1.50100200e-01],\n",
       "       [ 1.52505010e-01],\n",
       "       [ 1.54909820e-01],\n",
       "       [ 1.57314629e-01],\n",
       "       [ 1.59719439e-01],\n",
       "       [ 1.62124248e-01],\n",
       "       [ 1.64529058e-01],\n",
       "       [ 1.66933868e-01],\n",
       "       [ 1.69338677e-01],\n",
       "       [ 1.71743487e-01],\n",
       "       [ 1.74148297e-01],\n",
       "       [ 1.76553106e-01],\n",
       "       [ 1.78957916e-01],\n",
       "       [ 1.81362725e-01],\n",
       "       [ 1.83767535e-01],\n",
       "       [ 1.86172345e-01],\n",
       "       [ 1.88577154e-01],\n",
       "       [ 1.90981964e-01],\n",
       "       [ 1.93386774e-01],\n",
       "       [ 1.95791583e-01],\n",
       "       [ 1.98196393e-01],\n",
       "       [ 2.00601202e-01],\n",
       "       [ 2.03006012e-01],\n",
       "       [ 2.05410822e-01],\n",
       "       [ 2.07815631e-01],\n",
       "       [ 2.10220441e-01],\n",
       "       [ 2.12625251e-01],\n",
       "       [ 2.15030060e-01],\n",
       "       [ 2.17434870e-01],\n",
       "       [ 2.19839679e-01],\n",
       "       [ 2.22244489e-01],\n",
       "       [ 2.24649299e-01],\n",
       "       [ 2.27054108e-01],\n",
       "       [ 2.29458918e-01],\n",
       "       [ 2.31863727e-01],\n",
       "       [ 2.34268537e-01],\n",
       "       [ 2.36673347e-01],\n",
       "       [ 2.39078156e-01],\n",
       "       [ 2.41482966e-01],\n",
       "       [ 2.43887776e-01],\n",
       "       [ 2.46292585e-01],\n",
       "       [ 2.48697395e-01],\n",
       "       [ 2.51102204e-01],\n",
       "       [ 2.53507014e-01],\n",
       "       [ 2.55911824e-01],\n",
       "       [ 2.58316633e-01],\n",
       "       [ 2.60721443e-01],\n",
       "       [ 2.63126253e-01],\n",
       "       [ 2.65531062e-01],\n",
       "       [ 2.67935872e-01],\n",
       "       [ 2.70340681e-01],\n",
       "       [ 2.72745491e-01],\n",
       "       [ 2.75150301e-01],\n",
       "       [ 2.77555110e-01],\n",
       "       [ 2.79959920e-01],\n",
       "       [ 2.82364729e-01],\n",
       "       [ 2.84769539e-01],\n",
       "       [ 2.87174349e-01],\n",
       "       [ 2.89579158e-01],\n",
       "       [ 2.91983968e-01],\n",
       "       [ 2.94388778e-01],\n",
       "       [ 2.96793587e-01],\n",
       "       [ 2.99198397e-01],\n",
       "       [ 3.01603206e-01],\n",
       "       [ 3.04008016e-01],\n",
       "       [ 3.06412826e-01],\n",
       "       [ 3.08817635e-01],\n",
       "       [ 3.11222445e-01],\n",
       "       [ 3.13627255e-01],\n",
       "       [ 3.16032064e-01],\n",
       "       [ 3.18436874e-01],\n",
       "       [ 3.20841683e-01],\n",
       "       [ 3.23246493e-01],\n",
       "       [ 3.25651303e-01],\n",
       "       [ 3.28056112e-01],\n",
       "       [ 3.30460922e-01],\n",
       "       [ 3.32865731e-01],\n",
       "       [ 3.35270541e-01],\n",
       "       [ 3.37675351e-01],\n",
       "       [ 3.40080160e-01],\n",
       "       [ 3.42484970e-01],\n",
       "       [ 3.44889780e-01],\n",
       "       [ 3.47294589e-01],\n",
       "       [ 3.49699399e-01],\n",
       "       [ 3.52104208e-01],\n",
       "       [ 3.54509018e-01],\n",
       "       [ 3.56913828e-01],\n",
       "       [ 3.59318637e-01],\n",
       "       [ 3.61723447e-01],\n",
       "       [ 3.64128257e-01],\n",
       "       [ 3.66533066e-01],\n",
       "       [ 3.68937876e-01],\n",
       "       [ 3.71342685e-01],\n",
       "       [ 3.73747495e-01],\n",
       "       [ 3.76152305e-01],\n",
       "       [ 3.78557114e-01],\n",
       "       [ 3.80961924e-01],\n",
       "       [ 3.83366733e-01],\n",
       "       [ 3.85771543e-01],\n",
       "       [ 3.88176353e-01],\n",
       "       [ 3.90581162e-01],\n",
       "       [ 3.92985972e-01],\n",
       "       [ 3.95390782e-01],\n",
       "       [ 3.97795591e-01],\n",
       "       [ 4.00200401e-01],\n",
       "       [ 4.02605210e-01],\n",
       "       [ 4.05010020e-01],\n",
       "       [ 4.07414830e-01],\n",
       "       [ 4.09819639e-01],\n",
       "       [ 4.12224449e-01],\n",
       "       [ 4.14629259e-01],\n",
       "       [ 4.17034068e-01],\n",
       "       [ 4.19438878e-01],\n",
       "       [ 4.21843687e-01],\n",
       "       [ 4.24248497e-01],\n",
       "       [ 4.26653307e-01],\n",
       "       [ 4.29058116e-01],\n",
       "       [ 4.31462926e-01],\n",
       "       [ 4.33867735e-01],\n",
       "       [ 4.36272545e-01],\n",
       "       [ 4.38677355e-01],\n",
       "       [ 4.41082164e-01],\n",
       "       [ 4.43486974e-01],\n",
       "       [ 4.45891784e-01],\n",
       "       [ 4.48296593e-01],\n",
       "       [ 4.50701403e-01],\n",
       "       [ 4.53106212e-01],\n",
       "       [ 4.55511022e-01],\n",
       "       [ 4.57915832e-01],\n",
       "       [ 4.60320641e-01],\n",
       "       [ 4.62725451e-01],\n",
       "       [ 4.65130261e-01],\n",
       "       [ 4.67535070e-01],\n",
       "       [ 4.69939880e-01],\n",
       "       [ 4.72344689e-01],\n",
       "       [ 4.74749499e-01],\n",
       "       [ 4.77154309e-01],\n",
       "       [ 4.79559118e-01],\n",
       "       [ 4.81963928e-01],\n",
       "       [ 4.84368737e-01],\n",
       "       [ 4.86773547e-01],\n",
       "       [ 4.89178357e-01],\n",
       "       [ 4.91583166e-01],\n",
       "       [ 4.93987976e-01],\n",
       "       [ 4.96392786e-01],\n",
       "       [ 4.98797595e-01],\n",
       "       [ 5.01202405e-01],\n",
       "       [ 5.03607214e-01],\n",
       "       [ 5.06012024e-01],\n",
       "       [ 5.08416834e-01],\n",
       "       [ 5.10821643e-01],\n",
       "       [ 5.13226453e-01],\n",
       "       [ 5.15631263e-01],\n",
       "       [ 5.18036072e-01],\n",
       "       [ 5.20440882e-01],\n",
       "       [ 5.22845691e-01],\n",
       "       [ 5.25250501e-01],\n",
       "       [ 5.27655311e-01],\n",
       "       [ 5.30060120e-01],\n",
       "       [ 5.32464930e-01],\n",
       "       [ 5.34869739e-01],\n",
       "       [ 5.37274549e-01],\n",
       "       [ 5.39679359e-01],\n",
       "       [ 5.42084168e-01],\n",
       "       [ 5.44488978e-01],\n",
       "       [ 5.46893788e-01],\n",
       "       [ 5.49298597e-01],\n",
       "       [ 5.51703407e-01],\n",
       "       [ 5.54108216e-01],\n",
       "       [ 5.56513026e-01],\n",
       "       [ 5.58917836e-01],\n",
       "       [ 5.61322645e-01],\n",
       "       [ 5.63727455e-01],\n",
       "       [ 5.66132265e-01],\n",
       "       [ 5.68537074e-01],\n",
       "       [ 5.70941884e-01],\n",
       "       [ 5.73346693e-01],\n",
       "       [ 5.75751503e-01],\n",
       "       [ 5.78156313e-01],\n",
       "       [ 5.80561122e-01],\n",
       "       [ 5.82965932e-01],\n",
       "       [ 5.85370741e-01],\n",
       "       [ 5.87775551e-01],\n",
       "       [ 5.90180361e-01],\n",
       "       [ 5.92585170e-01],\n",
       "       [ 5.94989980e-01],\n",
       "       [ 5.97394790e-01],\n",
       "       [ 5.99799599e-01],\n",
       "       [ 6.02204409e-01],\n",
       "       [ 6.04609218e-01],\n",
       "       [ 6.07014028e-01],\n",
       "       [ 6.09418838e-01],\n",
       "       [ 6.11823647e-01],\n",
       "       [ 6.14228457e-01],\n",
       "       [ 6.16633267e-01],\n",
       "       [ 6.19038076e-01],\n",
       "       [ 6.21442886e-01],\n",
       "       [ 6.23847695e-01],\n",
       "       [ 6.26252505e-01],\n",
       "       [ 6.28657315e-01],\n",
       "       [ 6.31062124e-01],\n",
       "       [ 6.33466934e-01],\n",
       "       [ 6.35871743e-01],\n",
       "       [ 6.38276553e-01],\n",
       "       [ 6.40681363e-01],\n",
       "       [ 6.43086172e-01],\n",
       "       [ 6.45490982e-01],\n",
       "       [ 6.47895792e-01],\n",
       "       [ 6.50300601e-01],\n",
       "       [ 6.52705411e-01],\n",
       "       [ 6.55110220e-01],\n",
       "       [ 6.57515030e-01],\n",
       "       [ 6.59919840e-01],\n",
       "       [ 6.62324649e-01],\n",
       "       [ 6.64729459e-01],\n",
       "       [ 6.67134269e-01],\n",
       "       [ 6.69539078e-01],\n",
       "       [ 6.71943888e-01],\n",
       "       [ 6.74348697e-01],\n",
       "       [ 6.76753507e-01],\n",
       "       [ 6.79158317e-01],\n",
       "       [ 6.81563126e-01],\n",
       "       [ 6.83967936e-01],\n",
       "       [ 6.86372745e-01],\n",
       "       [ 6.88777555e-01],\n",
       "       [ 6.91182365e-01],\n",
       "       [ 6.93587174e-01],\n",
       "       [ 6.95991984e-01],\n",
       "       [ 6.98396794e-01],\n",
       "       [ 7.00801603e-01],\n",
       "       [ 7.03206413e-01],\n",
       "       [ 7.05611222e-01],\n",
       "       [ 7.08016032e-01],\n",
       "       [ 7.10420842e-01],\n",
       "       [ 7.12825651e-01],\n",
       "       [ 7.15230461e-01],\n",
       "       [ 7.17635271e-01],\n",
       "       [ 7.20040080e-01],\n",
       "       [ 7.22444890e-01],\n",
       "       [ 7.24849699e-01],\n",
       "       [ 7.27254509e-01],\n",
       "       [ 7.29659319e-01],\n",
       "       [ 7.32064128e-01],\n",
       "       [ 7.34468938e-01],\n",
       "       [ 7.36873747e-01],\n",
       "       [ 7.39278557e-01],\n",
       "       [ 7.41683367e-01],\n",
       "       [ 7.44088176e-01],\n",
       "       [ 7.46492986e-01],\n",
       "       [ 7.48897796e-01],\n",
       "       [ 7.51302605e-01],\n",
       "       [ 7.53707415e-01],\n",
       "       [ 7.56112224e-01],\n",
       "       [ 7.58517034e-01],\n",
       "       [ 7.60921844e-01],\n",
       "       [ 7.63326653e-01],\n",
       "       [ 7.65731463e-01],\n",
       "       [ 7.68136273e-01],\n",
       "       [ 7.70541082e-01],\n",
       "       [ 7.72945892e-01],\n",
       "       [ 7.75350701e-01],\n",
       "       [ 7.77755511e-01],\n",
       "       [ 7.80160321e-01],\n",
       "       [ 7.82565130e-01],\n",
       "       [ 7.84969940e-01],\n",
       "       [ 7.87374749e-01],\n",
       "       [ 7.89779559e-01],\n",
       "       [ 7.92184369e-01],\n",
       "       [ 7.94589178e-01],\n",
       "       [ 7.96993988e-01],\n",
       "       [ 7.99398798e-01],\n",
       "       [ 8.01803607e-01],\n",
       "       [ 8.04208417e-01],\n",
       "       [ 8.06613226e-01],\n",
       "       [ 8.09018036e-01],\n",
       "       [ 8.11422846e-01],\n",
       "       [ 8.13827655e-01],\n",
       "       [ 8.16232465e-01],\n",
       "       [ 8.18637275e-01],\n",
       "       [ 8.21042084e-01],\n",
       "       [ 8.23446894e-01],\n",
       "       [ 8.25851703e-01],\n",
       "       [ 8.28256513e-01],\n",
       "       [ 8.30661323e-01],\n",
       "       [ 8.33066132e-01],\n",
       "       [ 8.35470942e-01],\n",
       "       [ 8.37875752e-01],\n",
       "       [ 8.40280561e-01],\n",
       "       [ 8.42685371e-01],\n",
       "       [ 8.45090180e-01],\n",
       "       [ 8.47494990e-01],\n",
       "       [ 8.49899800e-01],\n",
       "       [ 8.52304609e-01],\n",
       "       [ 8.54709419e-01],\n",
       "       [ 8.57114228e-01],\n",
       "       [ 8.59519038e-01],\n",
       "       [ 8.61923848e-01],\n",
       "       [ 8.64328657e-01],\n",
       "       [ 8.66733467e-01],\n",
       "       [ 8.69138277e-01],\n",
       "       [ 8.71543086e-01],\n",
       "       [ 8.73947896e-01],\n",
       "       [ 8.76352705e-01],\n",
       "       [ 8.78757515e-01],\n",
       "       [ 8.81162325e-01],\n",
       "       [ 8.83567134e-01],\n",
       "       [ 8.85971944e-01],\n",
       "       [ 8.88376754e-01],\n",
       "       [ 8.90781563e-01],\n",
       "       [ 8.93186373e-01],\n",
       "       [ 8.95591182e-01],\n",
       "       [ 8.97995992e-01],\n",
       "       [ 9.00400802e-01],\n",
       "       [ 9.02805611e-01],\n",
       "       [ 9.05210421e-01],\n",
       "       [ 9.07615230e-01],\n",
       "       [ 9.10020040e-01],\n",
       "       [ 9.12424850e-01],\n",
       "       [ 9.14829659e-01],\n",
       "       [ 9.17234469e-01],\n",
       "       [ 9.19639279e-01],\n",
       "       [ 9.22044088e-01],\n",
       "       [ 9.24448898e-01],\n",
       "       [ 9.26853707e-01],\n",
       "       [ 9.29258517e-01],\n",
       "       [ 9.31663327e-01],\n",
       "       [ 9.34068136e-01],\n",
       "       [ 9.36472946e-01],\n",
       "       [ 9.38877756e-01],\n",
       "       [ 9.41282565e-01],\n",
       "       [ 9.43687375e-01],\n",
       "       [ 9.46092184e-01],\n",
       "       [ 9.48496994e-01],\n",
       "       [ 9.50901804e-01],\n",
       "       [ 9.53306613e-01],\n",
       "       [ 9.55711423e-01],\n",
       "       [ 9.58116232e-01],\n",
       "       [ 9.60521042e-01],\n",
       "       [ 9.62925852e-01],\n",
       "       [ 9.65330661e-01],\n",
       "       [ 9.67735471e-01],\n",
       "       [ 9.70140281e-01],\n",
       "       [ 9.72545090e-01],\n",
       "       [ 9.74949900e-01],\n",
       "       [ 9.77354709e-01],\n",
       "       [ 9.79759519e-01],\n",
       "       [ 9.82164329e-01],\n",
       "       [ 9.84569138e-01],\n",
       "       [ 9.86973948e-01],\n",
       "       [ 9.89378758e-01],\n",
       "       [ 9.91783567e-01],\n",
       "       [ 9.94188377e-01],\n",
       "       [ 9.96593186e-01],\n",
       "       [ 9.98997996e-01],\n",
       "       [ 1.00140281e+00],\n",
       "       [ 1.00380762e+00],\n",
       "       [ 1.00621242e+00],\n",
       "       [ 1.00861723e+00],\n",
       "       [ 1.01102204e+00],\n",
       "       [ 1.01342685e+00],\n",
       "       [ 1.01583166e+00],\n",
       "       [ 1.01823647e+00],\n",
       "       [ 1.02064128e+00],\n",
       "       [ 1.02304609e+00],\n",
       "       [ 1.02545090e+00],\n",
       "       [ 1.02785571e+00],\n",
       "       [ 1.03026052e+00],\n",
       "       [ 1.03266533e+00],\n",
       "       [ 1.03507014e+00],\n",
       "       [ 1.03747495e+00],\n",
       "       [ 1.03987976e+00],\n",
       "       [ 1.04228457e+00],\n",
       "       [ 1.04468938e+00],\n",
       "       [ 1.04709419e+00],\n",
       "       [ 1.04949900e+00],\n",
       "       [ 1.05190381e+00],\n",
       "       [ 1.05430862e+00],\n",
       "       [ 1.05671343e+00],\n",
       "       [ 1.05911824e+00],\n",
       "       [ 1.06152305e+00],\n",
       "       [ 1.06392786e+00],\n",
       "       [ 1.06633267e+00],\n",
       "       [ 1.06873747e+00],\n",
       "       [ 1.07114228e+00],\n",
       "       [ 1.07354709e+00],\n",
       "       [ 1.07595190e+00],\n",
       "       [ 1.07835671e+00],\n",
       "       [ 1.08076152e+00],\n",
       "       [ 1.08316633e+00],\n",
       "       [ 1.08557114e+00],\n",
       "       [ 1.08797595e+00],\n",
       "       [ 1.09038076e+00],\n",
       "       [ 1.09278557e+00],\n",
       "       [ 1.09519038e+00],\n",
       "       [ 1.09759519e+00],\n",
       "       [ 1.10000000e+00]])"
      ]
     },
     "execution_count": 84,
     "metadata": {},
     "output_type": "execute_result"
    }
   ],
   "source": [
    "np.linspace(-0.1,1.1,500).reshape(-1,1)"
   ]
  },
  {
   "cell_type": "code",
   "execution_count": 89,
   "id": "f1a22211-158d-4f3d-8717-9b01c0dd8bb2",
   "metadata": {},
   "outputs": [
    {
     "data": {
      "text/plain": [
       "array([1, 5, 9])"
      ]
     },
     "execution_count": 89,
     "metadata": {},
     "output_type": "execute_result"
    }
   ],
   "source": [
    "np.arange(1,10,4) # 이거 나도 이해 못 했어ㅜㅜ"
   ]
  },
  {
   "cell_type": "code",
   "execution_count": 87,
   "id": "ee5bf754-546e-4103-a39d-7c71537399a1",
   "metadata": {},
   "outputs": [
    {
     "data": {
      "text/plain": [
       "array([[ 1.],\n",
       "       [ 4.],\n",
       "       [ 7.],\n",
       "       [10.]])"
      ]
     },
     "execution_count": 88,
     "metadata": {},
     "output_type": "execute_result"
    }
   ],
   "source": [
    "np.linspace(1,10,4)"
   ]
  },
  {
   "cell_type": "code",
   "execution_count": 66,
   "id": "c63aea11-615f-40ec-8d66-d34a95426eb2",
   "metadata": {},
   "outputs": [],
   "source": [
    "from sklearn.model_selection import validation_curve"
   ]
  },
  {
   "cell_type": "code",
   "execution_count": 67,
   "id": "ddf999f5-d69f-48d9-a63c-8c378cb243a5",
   "metadata": {},
   "outputs": [],
   "source": [
    "degree=np.arange(0,21)"
   ]
  },
  {
   "cell_type": "code",
   "execution_count": 68,
   "id": "d915f8d4-efbb-40b3-8717-83085502d8c5",
   "metadata": {},
   "outputs": [
    {
     "data": {
      "text/plain": [
       "array([ 0,  1,  2,  3,  4,  5,  6,  7,  8,  9, 10, 11, 12, 13, 14, 15, 16,\n",
       "       17, 18, 19, 20])"
      ]
     },
     "execution_count": 68,
     "metadata": {},
     "output_type": "execute_result"
    }
   ],
   "source": [
    "degree"
   ]
  },
  {
   "cell_type": "code",
   "execution_count": 69,
   "id": "86751b16-e847-4751-85a0-fdff21003caa",
   "metadata": {},
   "outputs": [],
   "source": [
    "model = make_pipeline(PolynomialFeatures(),LinearRegression())"
   ]
  },
  {
   "cell_type": "code",
   "execution_count": 70,
   "id": "96dd59a2-b7ac-49f6-9715-eb8c28cae02c",
   "metadata": {
    "tags": []
   },
   "outputs": [],
   "source": [
    "train_score,test_score = validation_curve(model,X,Y,param_name='polynomialfeatures__degree',param_range=degree,cv=7)"
   ]
  },
  {
   "cell_type": "code",
   "execution_count": 71,
   "id": "b93de148-e940-45db-aca6-2ee8d1668a53",
   "metadata": {
    "collapsed": true,
    "jupyter": {
     "outputs_hidden": true
    },
    "tags": []
   },
   "outputs": [
    {
     "data": {
      "text/plain": [
       "array([[0.        , 0.        , 0.        , 0.        , 0.        ,\n",
       "        0.        , 0.        ],\n",
       "       [0.72060505, 0.73235327, 0.71615237, 0.75517775, 0.6979951 ,\n",
       "        0.74351307, 0.71104367],\n",
       "       [0.8966661 , 0.89427274, 0.88460403, 0.90482859, 0.87685741,\n",
       "        0.90106431, 0.90420325],\n",
       "       [0.92830604, 0.93586649, 0.93273606, 0.95501615, 0.91919623,\n",
       "        0.92673491, 0.9402878 ],\n",
       "       [0.9386132 , 0.94947024, 0.94775706, 0.9632512 , 0.93425141,\n",
       "        0.94148127, 0.94641559],\n",
       "       [0.94121068, 0.94988755, 0.94891078, 0.9637873 , 0.93481636,\n",
       "        0.94464031, 0.94706837],\n",
       "       [0.94280027, 0.95011515, 0.95028793, 0.96555698, 0.93622172,\n",
       "        0.94504929, 0.94928043],\n",
       "       [0.94465044, 0.95166164, 0.95034312, 0.96584535, 0.93731514,\n",
       "        0.94571392, 0.95274503],\n",
       "       [0.94465097, 0.95169173, 0.95126473, 0.96709791, 0.93735454,\n",
       "        0.9484231 , 0.95274521],\n",
       "       [0.94935834, 0.9537075 , 0.95317786, 0.96799601, 0.93964532,\n",
       "        0.9490145 , 0.9527462 ],\n",
       "       [0.94936121, 0.95532262, 0.95403569, 0.97143334, 0.94283046,\n",
       "        0.95302621, 0.95316414],\n",
       "       [0.95004308, 0.95545384, 0.95410179, 0.97176131, 0.94606336,\n",
       "        0.95487769, 0.95317637],\n",
       "       [0.95800395, 0.95952176, 0.95867405, 0.97180582, 0.94724875,\n",
       "        0.95489589, 0.95812976],\n",
       "       [0.96018866, 0.960872  , 0.9604493 , 0.9761954 , 0.94796879,\n",
       "        0.95489902, 0.96158139],\n",
       "       [0.96062421, 0.96155007, 0.96186498, 0.97706   , 0.94977215,\n",
       "        0.95582416, 0.96158537],\n",
       "       [0.9618062 , 0.96211504, 0.96199219, 0.97734911, 0.95020002,\n",
       "        0.95586154, 0.96163618],\n",
       "       [0.96182216, 0.96288239, 0.96295942, 0.97858439, 0.95024067,\n",
       "        0.95608857, 0.96170853],\n",
       "       [0.96184622, 0.96412667, 0.97046506, 0.97865438, 0.95024302,\n",
       "        0.95647154, 0.96181987],\n",
       "       [0.96186251, 0.96687087, 0.9731115 , 0.98070647, 0.95894667,\n",
       "        0.95647738, 0.96850448],\n",
       "       [0.9665684 , 0.96784028, 0.9734629 , 0.98096699, 0.9599226 ,\n",
       "        0.95962208, 0.96889167],\n",
       "       [0.96779683, 0.96766164, 0.97365303, 0.98187286, 0.96352655,\n",
       "        0.95993886, 0.96905814]])"
      ]
     },
     "execution_count": 71,
     "metadata": {},
     "output_type": "execute_result"
    }
   ],
   "source": [
    "train_score"
   ]
  },
  {
   "cell_type": "code",
   "execution_count": 72,
   "id": "16e78ce0-aef8-4886-b6e5-6e827610fd7c",
   "metadata": {},
   "outputs": [
    {
     "data": {
      "text/plain": [
       "<matplotlib.legend.Legend at 0x1b40c8fd580>"
      ]
     },
     "execution_count": 72,
     "metadata": {},
     "output_type": "execute_result"
    },
    {
     "data": {
      "image/png": "[encoded data removed]",
      "text/plain": [
       "<Figure size 576x360 with 1 Axes>"
      ]
     },
     "metadata": {
      "needs_background": "light"
     },
     "output_type": "display_data"
    }
   ],
   "source": [
    "plt.figure(figsize=(8,5))\n",
    "plt.plot(degree,np.median(train_score,1),\"b-\",label=\"training score\")\n",
    "plt.plot(degree,np.median(test_score,1),\"r-\",label=\"validation score\")\n",
    "plt.ylim(0,1)\n",
    "plt.xlabel('degree')\n",
    "plt.ylabel('score')\n",
    "plt.legend(loc=\"best\")\n",
    "# [튜닝] :파라미터를 깎아서 스코어 높이는 것 ->가장 좋은 degree는 3이라고 유추가능"
   ]
  },
  {
   "cell_type": "code",
   "execution_count": null,
   "id": "421caead-f281-42ff-ac9a-d44607754b47",
   "metadata": {},
   "outputs": [],
   "source": []
  },
  {
   "cell_type": "code",
   "execution_count": 73,
   "id": "5d400b3a-b6b1-46f0-8607-1eeac756cc3b",
   "metadata": {},
   "outputs": [],
   "source": [
    "model2 = make_pipeline(PolynomialFeatures(3),LinearRegression())"
   ]
  },
  {
   "cell_type": "code",
   "execution_count": 74,
   "id": "8c359aa2-fa83-4669-9f1f-ec4732d029b8",
   "metadata": {},
   "outputs": [],
   "source": [
    "train_score2,test_score2 = validation_curve(model,X,Y,param_name='polynomialfeatures__degree',param_range=degree,cv=7)"
   ]
  },
  {
   "cell_type": "markdown",
   "id": "4fbeeece-a05c-408a-b873-c17a580e8833",
   "metadata": {},
   "source": [
    "----"
   ]
  },
  {
   "cell_type": "markdown",
   "id": "01528345-7009-4e90-9836-f3519b533d78",
   "metadata": {},
   "source": [
    "### 최적의 test_size찾기"
   ]
  },
  {
   "cell_type": "code",
   "execution_count": 75,
   "id": "f6e7cfd2-2477-4744-81ce-9a47fa2a0f23",
   "metadata": {},
   "outputs": [],
   "source": [
    "from sklearn.model_selection import learning_curve"
   ]
  },
  {
   "cell_type": "code",
   "execution_count": 76,
   "id": "cc538b92-bb58-46db-ad1d-56f5f680fc77",
   "metadata": {},
   "outputs": [],
   "source": [
    "# X=np.random.rand(40,1)**2\n",
    "# Y=(10-1/(X.ravel()+0.1)) + np.random.randn(40)\n",
    "# Y"
   ]
  },
  {
   "cell_type": "code",
   "execution_count": 77,
   "id": "8a7fb513-f796-4397-8c6a-e65407cd317d",
   "metadata": {},
   "outputs": [
    {
     "data": {
      "image/png": "[encoded data removed]",
      "text/plain": [
       "<Figure size 1152x432 with 2 Axes>"
      ]
     },
     "metadata": {
      "needs_background": "light"
     },
     "output_type": "display_data"
    }
   ],
   "source": [
    "fig, ax = plt.subplots(1,2,figsize=(16,6))\n",
    "for i, degree in enumerate([3,9]):\n",
    "    model = make_pipeline(PolynomialFeatures(degree),LinearRegression())\n",
    "    n, train_lc, test_lc = learning_curve(model, X, Y, cv=7, train_sizes= np.linspace(0.1,1,25))\n",
    "    ax[i].plot(n,np.mean(train_lc,1),\"b-\",label=\"training score\")\n",
    "    ax[i].plot(n,np.mean(test_lc,1),\"r-\",label=\"validation score\")\n",
    "    ax[i].hlines(np.mean([train_lc[-1], test_lc[-1]]), n[0], n[-1], color='gray',linestyle='dashed')\n",
    "    ax[i].set(xlim=(n[0], n[-1]), ylim=(0,1), xlabel=\"training size\", ylabel=\"score\")\n",
    "    ax[i].set_title(\"degree={}\".format(degree), size=20)\n",
    "    ax[i].legend(loc=\"best\")\n",
    "                 "
   ]
  },
  {
   "cell_type": "code",
   "execution_count": null,
   "id": "4164cbfc-6bd8-40cc-9fc4-ee2c6f1eb44c",
   "metadata": {},
   "outputs": [],
   "source": []
  }
 ],
 "metadata": {
  "kernelspec": {
   "display_name": "Python 3 (ipykernel)",
   "language": "python",
   "name": "python3"
  },
  "language_info": {
   "codemirror_mode": {
    "name": "ipython",
    "version": 3
   },
   "file_extension": ".py",
   "mimetype": "text/x-python",
   "name": "python",
   "nbconvert_exporter": "python",
   "pygments_lexer": "ipython3",
   "version": "3.9.13"
  }
 },
 "nbformat": 4,
 "nbformat_minor": 5
}
