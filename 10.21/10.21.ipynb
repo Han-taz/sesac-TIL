{
 "cells": [
  {
   "cell_type": "code",
   "execution_count": null,
   "id": "0a140ec4-a4d1-46f8-894e-82314bae4510",
   "metadata": {},
   "outputs": [],
   "source": [
    "\n"
   ]
  },
  {
   "cell_type": "code",
   "execution_count": 1,
   "id": "40195afc-61cb-47b9-9f45-8539ab218c60",
   "metadata": {},
   "outputs": [],
   "source": [
    "text = '''A\t.-\tN\t-.\n",
    "B\t-...\tO\t---\n",
    "C\t-.-.\tP\t.--.\n",
    "D\t-..\tQ\t--.-\n",
    "E\t.\tR\t.-.\n",
    "F\t..-.\tS\t...\n",
    "G\t--.\tT\t-\n",
    "H\t....\tU\t..-\n",
    "I\t..\tV\t...-\n",
    "J\t.---\tW\t.--\n",
    "K\t-.-\tX\t-..-\n",
    "L\t.-..\tY\t-.--\n",
    "M\t--\tZ\t--..'''"
   ]
  },
  {
   "cell_type": "code",
   "execution_count": 3,
   "id": "7f4cffc0-3a13-4a79-8cb9-5f03d01fc910",
   "metadata": {
    "tags": []
   },
   "outputs": [
    {
     "data": {
      "text/plain": [
       "['A',\n",
       " '.-',\n",
       " 'N',\n",
       " '-.',\n",
       " 'B',\n",
       " '-...',\n",
       " 'O',\n",
       " '---',\n",
       " 'C',\n",
       " '-.-.',\n",
       " 'P',\n",
       " '.--.',\n",
       " 'D',\n",
       " '-..',\n",
       " 'Q',\n",
       " '--.-',\n",
       " 'E',\n",
       " '.',\n",
       " 'R',\n",
       " '.-.',\n",
       " 'F',\n",
       " '..-.',\n",
       " 'S',\n",
       " '...',\n",
       " 'G',\n",
       " '--.',\n",
       " 'T',\n",
       " '-',\n",
       " 'H',\n",
       " '....',\n",
       " 'U',\n",
       " '..-',\n",
       " 'I',\n",
       " '..',\n",
       " 'V',\n",
       " '...-',\n",
       " 'J',\n",
       " '.---',\n",
       " 'W',\n",
       " '.--',\n",
       " 'K',\n",
       " '-.-',\n",
       " 'X',\n",
       " '-..-',\n",
       " 'L',\n",
       " '.-..',\n",
       " 'Y',\n",
       " '-.--',\n",
       " 'M',\n",
       " '--',\n",
       " 'Z',\n",
       " '--..']"
      ]
     },
     "execution_count": 3,
     "metadata": {},
     "output_type": "execute_result"
    }
   ],
   "source": [
    "text.split()"
   ]
  },
  {
   "cell_type": "code",
   "execution_count": 92,
   "id": "b927c283-77ce-44f0-85f8-1f315618599a",
   "metadata": {
    "tags": []
   },
   "outputs": [],
   "source": [
    "text_1=text.split()"
   ]
  },
  {
   "cell_type": "code",
   "execution_count": 93,
   "id": "22fee72a-c1c0-42a5-8302-176ece411bfe",
   "metadata": {},
   "outputs": [
    {
     "data": {
      "text/plain": [
       "'A'"
      ]
     },
     "execution_count": 93,
     "metadata": {},
     "output_type": "execute_result"
    }
   ],
   "source": [
    "text_1[0]"
   ]
  },
  {
   "cell_type": "code",
   "execution_count": 79,
   "id": "b1ad37fc-6315-4508-9534-4e1f89e15983",
   "metadata": {
    "collapsed": true,
    "jupyter": {
     "outputs_hidden": true
    },
    "tags": []
   },
   "outputs": [
    {
     "data": {
      "text/plain": [
       "['A',\n",
       " '.-',\n",
       " 'N',\n",
       " '-.',\n",
       " 'B',\n",
       " '-...',\n",
       " 'O',\n",
       " '---',\n",
       " 'C',\n",
       " '-.-.',\n",
       " 'P',\n",
       " '.--.',\n",
       " 'D',\n",
       " '-..',\n",
       " 'Q',\n",
       " '--.-',\n",
       " 'E',\n",
       " '.',\n",
       " 'R',\n",
       " '.-.',\n",
       " 'F',\n",
       " '..-.',\n",
       " 'S',\n",
       " '...',\n",
       " 'G',\n",
       " '--.',\n",
       " 'T',\n",
       " '-',\n",
       " 'H',\n",
       " '....',\n",
       " 'U',\n",
       " '..-',\n",
       " 'I',\n",
       " '..',\n",
       " 'V',\n",
       " '...-',\n",
       " 'J',\n",
       " '.---',\n",
       " 'W',\n",
       " '.--',\n",
       " 'K',\n",
       " '-.-',\n",
       " 'X',\n",
       " '-..-',\n",
       " 'L',\n",
       " '.-..',\n",
       " 'Y',\n",
       " '-.--',\n",
       " 'M',\n",
       " '--',\n",
       " 'Z',\n",
       " '--..']"
      ]
     },
     "execution_count": 79,
     "metadata": {},
     "output_type": "execute_result"
    }
   ],
   "source": [
    "text_1"
   ]
  },
  {
   "cell_type": "code",
   "execution_count": 117,
   "id": "92f0d87e-f2c5-4eac-9a62-3763ad1ddcac",
   "metadata": {},
   "outputs": [],
   "source": [
    "mos_dict={'A':\n",
    " '.-',\n",
    " 'N':\n",
    " '-.',\n",
    " 'B':\n",
    " '-...',\n",
    " 'O':\n",
    " '---',\n",
    " 'C':\n",
    " '-.-.',\n",
    " 'P':\n",
    " '.--.',\n",
    " 'D':\n",
    " '-..',\n",
    " 'Q':\n",
    " '--.-',\n",
    " 'E':\n",
    " '.',\n",
    " 'R':\n",
    " '.-.',\n",
    " 'F':\n",
    " '..-.',\n",
    " 'S':\n",
    " '...',\n",
    " 'G':\n",
    " '--.',\n",
    " 'T':\n",
    " '-',\n",
    " 'H':\n",
    " '....',\n",
    " 'U':\n",
    " '..-',\n",
    " 'I':\n",
    " '..',\n",
    " 'V':\n",
    " '...-',\n",
    " 'J':\n",
    " '.---',\n",
    " 'W':\n",
    " '.--',\n",
    " 'K':\n",
    " '-.-',\n",
    " 'X':\n",
    " '-..-',\n",
    " 'L':\n",
    " '.-..',\n",
    " 'Y':\n",
    " '-.--',\n",
    " 'M':\n",
    " '--',\n",
    " 'Z':\n",
    " '--..'}"
   ]
  },
  {
   "cell_type": "code",
   "execution_count": 118,
   "id": "07af75ce-6815-4a2f-8c31-76d79c23cda7",
   "metadata": {
    "tags": []
   },
   "outputs": [
    {
     "ename": "KeyError",
     "evalue": "'....'",
     "output_type": "error",
     "traceback": [
      "\u001b[1;31m---------------------------------------------------------------------------\u001b[0m",
      "\u001b[1;31mKeyError\u001b[0m                                  Traceback (most recent call last)",
      "Input \u001b[1;32mIn [118]\u001b[0m, in \u001b[0;36m<cell line: 2>\u001b[1;34m()\u001b[0m\n\u001b[0;32m      4\u001b[0m         inter \u001b[38;5;241m.\u001b[39mappend(\u001b[38;5;124m'\u001b[39m\u001b[38;5;124m \u001b[39m\u001b[38;5;124m'\u001b[39m)\n\u001b[0;32m      5\u001b[0m     \u001b[38;5;28;01melse\u001b[39;00m:\n\u001b[1;32m----> 6\u001b[0m         text_1\u001b[38;5;241m.\u001b[39mappend(\u001b[43mmos_dict\u001b[49m\u001b[43m[\u001b[49m\u001b[43mm\u001b[49m\u001b[43m]\u001b[49m)\n\u001b[0;32m      7\u001b[0m \u001b[38;5;28mprint\u001b[39m(\u001b[38;5;124m'\u001b[39m\u001b[38;5;124m \u001b[39m\u001b[38;5;124m'\u001b[39m\u001b[38;5;241m.\u001b[39m join(unmos))\n",
      "\u001b[1;31mKeyError\u001b[0m: '....'"
     ]
    }
   ],
   "source": [
    "unmos=[]\n",
    "for m in mos.split(' '):\n",
    "    if m == ' ':\n",
    "        inter .append(' ')\n",
    "    else:\n",
    "        text_1.append(mos_dict[m])\n",
    "print(' '. join(unmos))"
   ]
  },
  {
   "cell_type": "code",
   "execution_count": 84,
   "id": "72db36a7-3965-48a0-9ee4-38a1c558e46e",
   "metadata": {},
   "outputs": [],
   "source": [
    "unmose=[]\n",
    "for m in text_1.split(' '):\n",
    "    if m ==' ':\n",
    "        inter.append(' ')\n",
    "       \n",
    "    else:\n",
    "        text_1.append(mos_dict[m])\n",
    "print(''.join(unmos))\n",
    "        "
   ]
  },
  {
   "cell_type": "code",
   "execution_count": 119,
   "id": "70b34430-a9d2-4a0d-8b13-169f58535ee6",
   "metadata": {},
   "outputs": [],
   "source": [
    "text = '''A\t.-\tN\t-.\n",
    "B\t-...\tO\t---\n",
    "C\t-.-.\tP\t.--.\n",
    "D\t-..\tQ\t--.-\n",
    "E\t.\tR\t.-.\n",
    "F\t..-.\tS\t...\n",
    "G\t--.\tT\t-\n",
    "H\t....\tU\t..-\n",
    "I\t..\tV\t...-\n",
    "J\t.---\tW\t.--\n",
    "K\t-.-\tX\t-..-\n",
    "L\t.-..\tY\t-.--\n",
    "M\t--\tZ\t--..'''"
   ]
  },
  {
   "cell_type": "code",
   "execution_count": 127,
   "id": "33d28a48-c2f2-4335-bac7-ce61f841e72f",
   "metadata": {},
   "outputs": [],
   "source": [
    "mos_dict={}\n",
    "text_1=text.split()\n",
    "for i in range(0,len(text_1),2):\n",
    "    key=text_1[i]\n",
    "    value=text_1[i+1]\n",
    "    text_1[i+1]=value\n",
    "    "
   ]
  },
  {
   "cell_type": "code",
   "execution_count": 126,
   "id": "7202b411-9f82-4f79-8101-90a585c0cf2f",
   "metadata": {},
   "outputs": [
    {
     "ename": "NameError",
     "evalue": "name 't' is not defined",
     "output_type": "error",
     "traceback": [
      "\u001b[1;31m---------------------------------------------------------------------------\u001b[0m",
      "\u001b[1;31mNameError\u001b[0m                                 Traceback (most recent call last)",
      "Input \u001b[1;32mIn [126]\u001b[0m, in \u001b[0;36m<cell line: 2>\u001b[1;34m()\u001b[0m\n\u001b[0;32m      1\u001b[0m plan\u001b[38;5;241m=\u001b[39m\u001b[38;5;124m'\u001b[39m\u001b[38;5;124m'\u001b[39m\n\u001b[1;32m----> 2\u001b[0m \u001b[38;5;28;01mfor\u001b[39;00m i \u001b[38;5;129;01min\u001b[39;00m \u001b[43mt\u001b[49m:\n\u001b[0;32m      3\u001b[0m     \u001b[38;5;28;01mif\u001b[39;00m i\u001b[38;5;241m==\u001b[39m \u001b[38;5;124m'\u001b[39m\u001b[38;5;124m \u001b[39m\u001b[38;5;124m'\u001b[39m:\n\u001b[0;32m      4\u001b[0m         plain\u001b[38;5;241m+\u001b[39m\u001b[38;5;241m=\u001b[39m \u001b[38;5;124m'\u001b[39m\u001b[38;5;124m \u001b[39m\u001b[38;5;124m'\u001b[39m\n",
      "\u001b[1;31mNameError\u001b[0m: name 't' is not defined"
     ]
    }
   ],
   "source": [
    "plan=''\n",
    "for i in t:\n",
    "    if i== ' ':\n",
    "        plain+= ' '\n",
    "    else:\n",
    "        plain +=mos_dict[i]\n",
    "    plain +=' '\n",
    "print(plain.rstrip())"
   ]
  },
  {
   "cell_type": "code",
   "execution_count": 128,
   "id": "dd0dd6d5-acbf-4e77-b1c1-4f3601af3e8d",
   "metadata": {},
   "outputs": [],
   "source": [
    "import pandas"
   ]
  },
  {
   "cell_type": "code",
   "execution_count": null,
   "id": "9726584d-c1b1-47d1-93ef-a866cb0c85de",
   "metadata": {},
   "outputs": [],
   "source": []
  }
 ],
 "metadata": {
  "kernelspec": {
   "display_name": "Python 3 (ipykernel)",
   "language": "python",
   "name": "python3"
  },
  "language_info": {
   "codemirror_mode": {
    "name": "ipython",
    "version": 3
   },
   "file_extension": ".py",
   "mimetype": "text/x-python",
   "name": "python",
   "nbconvert_exporter": "python",
   "pygments_lexer": "ipython3",
   "version": "3.9.12"
  }
 },
 "nbformat": 4,
 "nbformat_minor": 5
}
