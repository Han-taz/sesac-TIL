{
 "cells": [
  {
   "cell_type": "code",
   "execution_count": 1,
   "id": "95973e43-b7fa-4d57-b0ee-b4bd6e591277",
   "metadata": {},
   "outputs": [],
   "source": [
    "####pip install emoji emoji 패키지 설치하는 법"
   ]
  },
  {
   "cell_type": "code",
   "execution_count": 2,
   "id": "ee1a67ba-cdfb-433f-a27d-b86968d2aa30",
   "metadata": {},
   "outputs": [],
   "source": [
    "import emoji"
   ]
  },
  {
   "cell_type": "code",
   "execution_count": 3,
   "id": "5c046aea-caba-4e7d-bc2d-e879a564e53c",
   "metadata": {},
   "outputs": [
    {
     "name": "stdout",
     "output_type": "stream",
     "text": [
      "Python is fun ❤️\n"
     ]
    }
   ],
   "source": [
    " print(emoji.emojize(\"Python is fun :red_heart:\", variant=\"emoji_type\"))"
   ]
  },
  {
   "cell_type": "code",
   "execution_count": 4,
   "id": "3c7aa8d9-8346-44b9-80fe-b2972b3f055c",
   "metadata": {},
   "outputs": [],
   "source": [
    "from emoji import emojize #### emojiz 함수를 . 안찍고 바로 사용하는 법"
   ]
  },
  {
   "cell_type": "code",
   "execution_count": 5,
   "id": "7d691007-bfed-4b10-bd16-dbbde9f65646",
   "metadata": {},
   "outputs": [
    {
     "data": {
      "text/plain": [
       "'Python is fun ❤️'"
      ]
     },
     "execution_count": 5,
     "metadata": {},
     "output_type": "execute_result"
    }
   ],
   "source": [
    "emojize(\"Python is fun :red_heart:\", variant=\"emoji_type\")"
   ]
  },
  {
   "cell_type": "code",
   "execution_count": 6,
   "id": "7e57f59f-93a3-4a34-8e1d-e8616fce1aca",
   "metadata": {},
   "outputs": [],
   "source": [
    "####pip install pydataset"
   ]
  },
  {
   "cell_type": "code",
   "execution_count": 133,
   "id": "be419311-ce08-4cf1-8e57-cfeec8f071bc",
   "metadata": {},
   "outputs": [],
   "source": [
    "import pydataset as pds"
   ]
  },
  {
   "cell_type": "code",
   "execution_count": 134,
   "id": "51aa9373-e6dd-4dde-8493-4199da284a4d",
   "metadata": {},
   "outputs": [
    {
     "data": {
      "text/html": [
       "<div>\n",
       "<style scoped>\n",
       "    .dataframe tbody tr th:only-of-type {\n",
       "        vertical-align: middle;\n",
       "    }\n",
       "\n",
       "    .dataframe tbody tr th {\n",
       "        vertical-align: top;\n",
       "    }\n",
       "\n",
       "    .dataframe thead th {\n",
       "        text-align: right;\n",
       "    }\n",
       "</style>\n",
       "<table border=\"1\" class=\"dataframe\">\n",
       "  <thead>\n",
       "    <tr style=\"text-align: right;\">\n",
       "      <th></th>\n",
       "      <th>dataset_id</th>\n",
       "      <th>title</th>\n",
       "    </tr>\n",
       "  </thead>\n",
       "  <tbody>\n",
       "    <tr>\n",
       "      <th>0</th>\n",
       "      <td>AirPassengers</td>\n",
       "      <td>Monthly Airline Passenger Numbers 1949-1960</td>\n",
       "    </tr>\n",
       "    <tr>\n",
       "      <th>1</th>\n",
       "      <td>BJsales</td>\n",
       "      <td>Sales Data with Leading Indicator</td>\n",
       "    </tr>\n",
       "    <tr>\n",
       "      <th>2</th>\n",
       "      <td>BOD</td>\n",
       "      <td>Biochemical Oxygen Demand</td>\n",
       "    </tr>\n",
       "    <tr>\n",
       "      <th>3</th>\n",
       "      <td>Formaldehyde</td>\n",
       "      <td>Determination of Formaldehyde</td>\n",
       "    </tr>\n",
       "    <tr>\n",
       "      <th>4</th>\n",
       "      <td>HairEyeColor</td>\n",
       "      <td>Hair and Eye Color of Statistics Students</td>\n",
       "    </tr>\n",
       "    <tr>\n",
       "      <th>...</th>\n",
       "      <td>...</td>\n",
       "      <td>...</td>\n",
       "    </tr>\n",
       "    <tr>\n",
       "      <th>752</th>\n",
       "      <td>VerbAgg</td>\n",
       "      <td>Verbal Aggression item responses</td>\n",
       "    </tr>\n",
       "    <tr>\n",
       "      <th>753</th>\n",
       "      <td>cake</td>\n",
       "      <td>Breakage Angle of Chocolate Cakes</td>\n",
       "    </tr>\n",
       "    <tr>\n",
       "      <th>754</th>\n",
       "      <td>cbpp</td>\n",
       "      <td>Contagious bovine pleuropneumonia</td>\n",
       "    </tr>\n",
       "    <tr>\n",
       "      <th>755</th>\n",
       "      <td>grouseticks</td>\n",
       "      <td>Data on red grouse ticks from Elston et al. 2001</td>\n",
       "    </tr>\n",
       "    <tr>\n",
       "      <th>756</th>\n",
       "      <td>sleepstudy</td>\n",
       "      <td>Reaction times in a sleep deprivation study</td>\n",
       "    </tr>\n",
       "  </tbody>\n",
       "</table>\n",
       "<p>757 rows × 2 columns</p>\n",
       "</div>"
      ],
      "text/plain": [
       "        dataset_id                                             title\n",
       "0    AirPassengers       Monthly Airline Passenger Numbers 1949-1960\n",
       "1          BJsales                 Sales Data with Leading Indicator\n",
       "2              BOD                         Biochemical Oxygen Demand\n",
       "3     Formaldehyde                     Determination of Formaldehyde\n",
       "4     HairEyeColor         Hair and Eye Color of Statistics Students\n",
       "..             ...                                               ...\n",
       "752        VerbAgg                  Verbal Aggression item responses\n",
       "753           cake                 Breakage Angle of Chocolate Cakes\n",
       "754           cbpp                 Contagious bovine pleuropneumonia\n",
       "755    grouseticks  Data on red grouse ticks from Elston et al. 2001\n",
       "756     sleepstudy       Reaction times in a sleep deprivation study\n",
       "\n",
       "[757 rows x 2 columns]"
      ]
     },
     "execution_count": 134,
     "metadata": {},
     "output_type": "execute_result"
    }
   ],
   "source": [
    "pds.data()"
   ]
  },
  {
   "cell_type": "code",
   "execution_count": 135,
   "id": "a97c384c-24ea-4768-8794-7888468ee6af",
   "metadata": {},
   "outputs": [],
   "source": [
    "data=pds.data()"
   ]
  },
  {
   "cell_type": "code",
   "execution_count": 136,
   "id": "eee85e06-e328-4e5e-8a79-c41abb062a84",
   "metadata": {},
   "outputs": [
    {
     "data": {
      "text/html": [
       "<div>\n",
       "<style scoped>\n",
       "    .dataframe tbody tr th:only-of-type {\n",
       "        vertical-align: middle;\n",
       "    }\n",
       "\n",
       "    .dataframe tbody tr th {\n",
       "        vertical-align: top;\n",
       "    }\n",
       "\n",
       "    .dataframe thead th {\n",
       "        text-align: right;\n",
       "    }\n",
       "</style>\n",
       "<table border=\"1\" class=\"dataframe\">\n",
       "  <thead>\n",
       "    <tr style=\"text-align: right;\">\n",
       "      <th></th>\n",
       "      <th>dataset_id</th>\n",
       "      <th>title</th>\n",
       "    </tr>\n",
       "  </thead>\n",
       "  <tbody>\n",
       "    <tr>\n",
       "      <th>0</th>\n",
       "      <td>AirPassengers</td>\n",
       "      <td>Monthly Airline Passenger Numbers 1949-1960</td>\n",
       "    </tr>\n",
       "    <tr>\n",
       "      <th>1</th>\n",
       "      <td>BJsales</td>\n",
       "      <td>Sales Data with Leading Indicator</td>\n",
       "    </tr>\n",
       "    <tr>\n",
       "      <th>2</th>\n",
       "      <td>BOD</td>\n",
       "      <td>Biochemical Oxygen Demand</td>\n",
       "    </tr>\n",
       "    <tr>\n",
       "      <th>3</th>\n",
       "      <td>Formaldehyde</td>\n",
       "      <td>Determination of Formaldehyde</td>\n",
       "    </tr>\n",
       "    <tr>\n",
       "      <th>4</th>\n",
       "      <td>HairEyeColor</td>\n",
       "      <td>Hair and Eye Color of Statistics Students</td>\n",
       "    </tr>\n",
       "    <tr>\n",
       "      <th>...</th>\n",
       "      <td>...</td>\n",
       "      <td>...</td>\n",
       "    </tr>\n",
       "    <tr>\n",
       "      <th>752</th>\n",
       "      <td>VerbAgg</td>\n",
       "      <td>Verbal Aggression item responses</td>\n",
       "    </tr>\n",
       "    <tr>\n",
       "      <th>753</th>\n",
       "      <td>cake</td>\n",
       "      <td>Breakage Angle of Chocolate Cakes</td>\n",
       "    </tr>\n",
       "    <tr>\n",
       "      <th>754</th>\n",
       "      <td>cbpp</td>\n",
       "      <td>Contagious bovine pleuropneumonia</td>\n",
       "    </tr>\n",
       "    <tr>\n",
       "      <th>755</th>\n",
       "      <td>grouseticks</td>\n",
       "      <td>Data on red grouse ticks from Elston et al. 2001</td>\n",
       "    </tr>\n",
       "    <tr>\n",
       "      <th>756</th>\n",
       "      <td>sleepstudy</td>\n",
       "      <td>Reaction times in a sleep deprivation study</td>\n",
       "    </tr>\n",
       "  </tbody>\n",
       "</table>\n",
       "<p>757 rows × 2 columns</p>\n",
       "</div>"
      ],
      "text/plain": [
       "        dataset_id                                             title\n",
       "0    AirPassengers       Monthly Airline Passenger Numbers 1949-1960\n",
       "1          BJsales                 Sales Data with Leading Indicator\n",
       "2              BOD                         Biochemical Oxygen Demand\n",
       "3     Formaldehyde                     Determination of Formaldehyde\n",
       "4     HairEyeColor         Hair and Eye Color of Statistics Students\n",
       "..             ...                                               ...\n",
       "752        VerbAgg                  Verbal Aggression item responses\n",
       "753           cake                 Breakage Angle of Chocolate Cakes\n",
       "754           cbpp                 Contagious bovine pleuropneumonia\n",
       "755    grouseticks  Data on red grouse ticks from Elston et al. 2001\n",
       "756     sleepstudy       Reaction times in a sleep deprivation study\n",
       "\n",
       "[757 rows x 2 columns]"
      ]
     },
     "execution_count": 136,
     "metadata": {},
     "output_type": "execute_result"
    }
   ],
   "source": [
    "data"
   ]
  },
  {
   "cell_type": "code",
   "execution_count": 137,
   "id": "781c9871-0a9b-439e-8b65-1fa3c7915bac",
   "metadata": {},
   "outputs": [
    {
     "data": {
      "text/html": [
       "<div>\n",
       "<style scoped>\n",
       "    .dataframe tbody tr th:only-of-type {\n",
       "        vertical-align: middle;\n",
       "    }\n",
       "\n",
       "    .dataframe tbody tr th {\n",
       "        vertical-align: top;\n",
       "    }\n",
       "\n",
       "    .dataframe thead th {\n",
       "        text-align: right;\n",
       "    }\n",
       "</style>\n",
       "<table border=\"1\" class=\"dataframe\">\n",
       "  <thead>\n",
       "    <tr style=\"text-align: right;\">\n",
       "      <th></th>\n",
       "      <th>dataset_id</th>\n",
       "      <th>title</th>\n",
       "    </tr>\n",
       "  </thead>\n",
       "  <tbody>\n",
       "    <tr>\n",
       "      <th>47</th>\n",
       "      <td>mtcars</td>\n",
       "      <td>Motor Trend Car Road Tests</td>\n",
       "    </tr>\n",
       "  </tbody>\n",
       "</table>\n",
       "</div>"
      ],
      "text/plain": [
       "   dataset_id                       title\n",
       "47     mtcars  Motor Trend Car Road Tests"
      ]
     },
     "execution_count": 137,
     "metadata": {},
     "output_type": "execute_result"
    }
   ],
   "source": [
    "data[data['dataset_id']=='mtcars']"
   ]
  },
  {
   "cell_type": "code",
   "execution_count": 138,
   "id": "2c919d5b-6cae-4218-921f-79847374b3ad",
   "metadata": {},
   "outputs": [],
   "source": [
    "df=pds.data('mtcars')"
   ]
  },
  {
   "cell_type": "code",
   "execution_count": 139,
   "id": "1c71a9fb-b2bc-477e-96d0-2fede72a542a",
   "metadata": {
    "tags": []
   },
   "outputs": [
    {
     "data": {
      "text/html": [
       "<div>\n",
       "<style scoped>\n",
       "    .dataframe tbody tr th:only-of-type {\n",
       "        vertical-align: middle;\n",
       "    }\n",
       "\n",
       "    .dataframe tbody tr th {\n",
       "        vertical-align: top;\n",
       "    }\n",
       "\n",
       "    .dataframe thead th {\n",
       "        text-align: right;\n",
       "    }\n",
       "</style>\n",
       "<table border=\"1\" class=\"dataframe\">\n",
       "  <thead>\n",
       "    <tr style=\"text-align: right;\">\n",
       "      <th></th>\n",
       "      <th>mpg</th>\n",
       "      <th>cyl</th>\n",
       "      <th>disp</th>\n",
       "      <th>hp</th>\n",
       "      <th>drat</th>\n",
       "      <th>wt</th>\n",
       "      <th>qsec</th>\n",
       "      <th>vs</th>\n",
       "      <th>am</th>\n",
       "      <th>gear</th>\n",
       "      <th>carb</th>\n",
       "    </tr>\n",
       "  </thead>\n",
       "  <tbody>\n",
       "    <tr>\n",
       "      <th>Mazda RX4</th>\n",
       "      <td>21.0</td>\n",
       "      <td>6</td>\n",
       "      <td>160.0</td>\n",
       "      <td>110</td>\n",
       "      <td>3.90</td>\n",
       "      <td>2.620</td>\n",
       "      <td>16.46</td>\n",
       "      <td>0</td>\n",
       "      <td>1</td>\n",
       "      <td>4</td>\n",
       "      <td>4</td>\n",
       "    </tr>\n",
       "    <tr>\n",
       "      <th>Mazda RX4 Wag</th>\n",
       "      <td>21.0</td>\n",
       "      <td>6</td>\n",
       "      <td>160.0</td>\n",
       "      <td>110</td>\n",
       "      <td>3.90</td>\n",
       "      <td>2.875</td>\n",
       "      <td>17.02</td>\n",
       "      <td>0</td>\n",
       "      <td>1</td>\n",
       "      <td>4</td>\n",
       "      <td>4</td>\n",
       "    </tr>\n",
       "    <tr>\n",
       "      <th>Datsun 710</th>\n",
       "      <td>22.8</td>\n",
       "      <td>4</td>\n",
       "      <td>108.0</td>\n",
       "      <td>93</td>\n",
       "      <td>3.85</td>\n",
       "      <td>2.320</td>\n",
       "      <td>18.61</td>\n",
       "      <td>1</td>\n",
       "      <td>1</td>\n",
       "      <td>4</td>\n",
       "      <td>1</td>\n",
       "    </tr>\n",
       "    <tr>\n",
       "      <th>Hornet 4 Drive</th>\n",
       "      <td>21.4</td>\n",
       "      <td>6</td>\n",
       "      <td>258.0</td>\n",
       "      <td>110</td>\n",
       "      <td>3.08</td>\n",
       "      <td>3.215</td>\n",
       "      <td>19.44</td>\n",
       "      <td>1</td>\n",
       "      <td>0</td>\n",
       "      <td>3</td>\n",
       "      <td>1</td>\n",
       "    </tr>\n",
       "    <tr>\n",
       "      <th>Hornet Sportabout</th>\n",
       "      <td>18.7</td>\n",
       "      <td>8</td>\n",
       "      <td>360.0</td>\n",
       "      <td>175</td>\n",
       "      <td>3.15</td>\n",
       "      <td>3.440</td>\n",
       "      <td>17.02</td>\n",
       "      <td>0</td>\n",
       "      <td>0</td>\n",
       "      <td>3</td>\n",
       "      <td>2</td>\n",
       "    </tr>\n",
       "    <tr>\n",
       "      <th>Valiant</th>\n",
       "      <td>18.1</td>\n",
       "      <td>6</td>\n",
       "      <td>225.0</td>\n",
       "      <td>105</td>\n",
       "      <td>2.76</td>\n",
       "      <td>3.460</td>\n",
       "      <td>20.22</td>\n",
       "      <td>1</td>\n",
       "      <td>0</td>\n",
       "      <td>3</td>\n",
       "      <td>1</td>\n",
       "    </tr>\n",
       "    <tr>\n",
       "      <th>Duster 360</th>\n",
       "      <td>14.3</td>\n",
       "      <td>8</td>\n",
       "      <td>360.0</td>\n",
       "      <td>245</td>\n",
       "      <td>3.21</td>\n",
       "      <td>3.570</td>\n",
       "      <td>15.84</td>\n",
       "      <td>0</td>\n",
       "      <td>0</td>\n",
       "      <td>3</td>\n",
       "      <td>4</td>\n",
       "    </tr>\n",
       "    <tr>\n",
       "      <th>Merc 240D</th>\n",
       "      <td>24.4</td>\n",
       "      <td>4</td>\n",
       "      <td>146.7</td>\n",
       "      <td>62</td>\n",
       "      <td>3.69</td>\n",
       "      <td>3.190</td>\n",
       "      <td>20.00</td>\n",
       "      <td>1</td>\n",
       "      <td>0</td>\n",
       "      <td>4</td>\n",
       "      <td>2</td>\n",
       "    </tr>\n",
       "    <tr>\n",
       "      <th>Merc 230</th>\n",
       "      <td>22.8</td>\n",
       "      <td>4</td>\n",
       "      <td>140.8</td>\n",
       "      <td>95</td>\n",
       "      <td>3.92</td>\n",
       "      <td>3.150</td>\n",
       "      <td>22.90</td>\n",
       "      <td>1</td>\n",
       "      <td>0</td>\n",
       "      <td>4</td>\n",
       "      <td>2</td>\n",
       "    </tr>\n",
       "    <tr>\n",
       "      <th>Merc 280</th>\n",
       "      <td>19.2</td>\n",
       "      <td>6</td>\n",
       "      <td>167.6</td>\n",
       "      <td>123</td>\n",
       "      <td>3.92</td>\n",
       "      <td>3.440</td>\n",
       "      <td>18.30</td>\n",
       "      <td>1</td>\n",
       "      <td>0</td>\n",
       "      <td>4</td>\n",
       "      <td>4</td>\n",
       "    </tr>\n",
       "    <tr>\n",
       "      <th>Merc 280C</th>\n",
       "      <td>17.8</td>\n",
       "      <td>6</td>\n",
       "      <td>167.6</td>\n",
       "      <td>123</td>\n",
       "      <td>3.92</td>\n",
       "      <td>3.440</td>\n",
       "      <td>18.90</td>\n",
       "      <td>1</td>\n",
       "      <td>0</td>\n",
       "      <td>4</td>\n",
       "      <td>4</td>\n",
       "    </tr>\n",
       "    <tr>\n",
       "      <th>Merc 450SE</th>\n",
       "      <td>16.4</td>\n",
       "      <td>8</td>\n",
       "      <td>275.8</td>\n",
       "      <td>180</td>\n",
       "      <td>3.07</td>\n",
       "      <td>4.070</td>\n",
       "      <td>17.40</td>\n",
       "      <td>0</td>\n",
       "      <td>0</td>\n",
       "      <td>3</td>\n",
       "      <td>3</td>\n",
       "    </tr>\n",
       "    <tr>\n",
       "      <th>Merc 450SL</th>\n",
       "      <td>17.3</td>\n",
       "      <td>8</td>\n",
       "      <td>275.8</td>\n",
       "      <td>180</td>\n",
       "      <td>3.07</td>\n",
       "      <td>3.730</td>\n",
       "      <td>17.60</td>\n",
       "      <td>0</td>\n",
       "      <td>0</td>\n",
       "      <td>3</td>\n",
       "      <td>3</td>\n",
       "    </tr>\n",
       "    <tr>\n",
       "      <th>Merc 450SLC</th>\n",
       "      <td>15.2</td>\n",
       "      <td>8</td>\n",
       "      <td>275.8</td>\n",
       "      <td>180</td>\n",
       "      <td>3.07</td>\n",
       "      <td>3.780</td>\n",
       "      <td>18.00</td>\n",
       "      <td>0</td>\n",
       "      <td>0</td>\n",
       "      <td>3</td>\n",
       "      <td>3</td>\n",
       "    </tr>\n",
       "    <tr>\n",
       "      <th>Cadillac Fleetwood</th>\n",
       "      <td>10.4</td>\n",
       "      <td>8</td>\n",
       "      <td>472.0</td>\n",
       "      <td>205</td>\n",
       "      <td>2.93</td>\n",
       "      <td>5.250</td>\n",
       "      <td>17.98</td>\n",
       "      <td>0</td>\n",
       "      <td>0</td>\n",
       "      <td>3</td>\n",
       "      <td>4</td>\n",
       "    </tr>\n",
       "    <tr>\n",
       "      <th>Lincoln Continental</th>\n",
       "      <td>10.4</td>\n",
       "      <td>8</td>\n",
       "      <td>460.0</td>\n",
       "      <td>215</td>\n",
       "      <td>3.00</td>\n",
       "      <td>5.424</td>\n",
       "      <td>17.82</td>\n",
       "      <td>0</td>\n",
       "      <td>0</td>\n",
       "      <td>3</td>\n",
       "      <td>4</td>\n",
       "    </tr>\n",
       "    <tr>\n",
       "      <th>Chrysler Imperial</th>\n",
       "      <td>14.7</td>\n",
       "      <td>8</td>\n",
       "      <td>440.0</td>\n",
       "      <td>230</td>\n",
       "      <td>3.23</td>\n",
       "      <td>5.345</td>\n",
       "      <td>17.42</td>\n",
       "      <td>0</td>\n",
       "      <td>0</td>\n",
       "      <td>3</td>\n",
       "      <td>4</td>\n",
       "    </tr>\n",
       "    <tr>\n",
       "      <th>Fiat 128</th>\n",
       "      <td>32.4</td>\n",
       "      <td>4</td>\n",
       "      <td>78.7</td>\n",
       "      <td>66</td>\n",
       "      <td>4.08</td>\n",
       "      <td>2.200</td>\n",
       "      <td>19.47</td>\n",
       "      <td>1</td>\n",
       "      <td>1</td>\n",
       "      <td>4</td>\n",
       "      <td>1</td>\n",
       "    </tr>\n",
       "    <tr>\n",
       "      <th>Honda Civic</th>\n",
       "      <td>30.4</td>\n",
       "      <td>4</td>\n",
       "      <td>75.7</td>\n",
       "      <td>52</td>\n",
       "      <td>4.93</td>\n",
       "      <td>1.615</td>\n",
       "      <td>18.52</td>\n",
       "      <td>1</td>\n",
       "      <td>1</td>\n",
       "      <td>4</td>\n",
       "      <td>2</td>\n",
       "    </tr>\n",
       "    <tr>\n",
       "      <th>Toyota Corolla</th>\n",
       "      <td>33.9</td>\n",
       "      <td>4</td>\n",
       "      <td>71.1</td>\n",
       "      <td>65</td>\n",
       "      <td>4.22</td>\n",
       "      <td>1.835</td>\n",
       "      <td>19.90</td>\n",
       "      <td>1</td>\n",
       "      <td>1</td>\n",
       "      <td>4</td>\n",
       "      <td>1</td>\n",
       "    </tr>\n",
       "    <tr>\n",
       "      <th>Toyota Corona</th>\n",
       "      <td>21.5</td>\n",
       "      <td>4</td>\n",
       "      <td>120.1</td>\n",
       "      <td>97</td>\n",
       "      <td>3.70</td>\n",
       "      <td>2.465</td>\n",
       "      <td>20.01</td>\n",
       "      <td>1</td>\n",
       "      <td>0</td>\n",
       "      <td>3</td>\n",
       "      <td>1</td>\n",
       "    </tr>\n",
       "    <tr>\n",
       "      <th>Dodge Challenger</th>\n",
       "      <td>15.5</td>\n",
       "      <td>8</td>\n",
       "      <td>318.0</td>\n",
       "      <td>150</td>\n",
       "      <td>2.76</td>\n",
       "      <td>3.520</td>\n",
       "      <td>16.87</td>\n",
       "      <td>0</td>\n",
       "      <td>0</td>\n",
       "      <td>3</td>\n",
       "      <td>2</td>\n",
       "    </tr>\n",
       "    <tr>\n",
       "      <th>AMC Javelin</th>\n",
       "      <td>15.2</td>\n",
       "      <td>8</td>\n",
       "      <td>304.0</td>\n",
       "      <td>150</td>\n",
       "      <td>3.15</td>\n",
       "      <td>3.435</td>\n",
       "      <td>17.30</td>\n",
       "      <td>0</td>\n",
       "      <td>0</td>\n",
       "      <td>3</td>\n",
       "      <td>2</td>\n",
       "    </tr>\n",
       "    <tr>\n",
       "      <th>Camaro Z28</th>\n",
       "      <td>13.3</td>\n",
       "      <td>8</td>\n",
       "      <td>350.0</td>\n",
       "      <td>245</td>\n",
       "      <td>3.73</td>\n",
       "      <td>3.840</td>\n",
       "      <td>15.41</td>\n",
       "      <td>0</td>\n",
       "      <td>0</td>\n",
       "      <td>3</td>\n",
       "      <td>4</td>\n",
       "    </tr>\n",
       "    <tr>\n",
       "      <th>Pontiac Firebird</th>\n",
       "      <td>19.2</td>\n",
       "      <td>8</td>\n",
       "      <td>400.0</td>\n",
       "      <td>175</td>\n",
       "      <td>3.08</td>\n",
       "      <td>3.845</td>\n",
       "      <td>17.05</td>\n",
       "      <td>0</td>\n",
       "      <td>0</td>\n",
       "      <td>3</td>\n",
       "      <td>2</td>\n",
       "    </tr>\n",
       "    <tr>\n",
       "      <th>Fiat X1-9</th>\n",
       "      <td>27.3</td>\n",
       "      <td>4</td>\n",
       "      <td>79.0</td>\n",
       "      <td>66</td>\n",
       "      <td>4.08</td>\n",
       "      <td>1.935</td>\n",
       "      <td>18.90</td>\n",
       "      <td>1</td>\n",
       "      <td>1</td>\n",
       "      <td>4</td>\n",
       "      <td>1</td>\n",
       "    </tr>\n",
       "    <tr>\n",
       "      <th>Porsche 914-2</th>\n",
       "      <td>26.0</td>\n",
       "      <td>4</td>\n",
       "      <td>120.3</td>\n",
       "      <td>91</td>\n",
       "      <td>4.43</td>\n",
       "      <td>2.140</td>\n",
       "      <td>16.70</td>\n",
       "      <td>0</td>\n",
       "      <td>1</td>\n",
       "      <td>5</td>\n",
       "      <td>2</td>\n",
       "    </tr>\n",
       "    <tr>\n",
       "      <th>Lotus Europa</th>\n",
       "      <td>30.4</td>\n",
       "      <td>4</td>\n",
       "      <td>95.1</td>\n",
       "      <td>113</td>\n",
       "      <td>3.77</td>\n",
       "      <td>1.513</td>\n",
       "      <td>16.90</td>\n",
       "      <td>1</td>\n",
       "      <td>1</td>\n",
       "      <td>5</td>\n",
       "      <td>2</td>\n",
       "    </tr>\n",
       "    <tr>\n",
       "      <th>Ford Pantera L</th>\n",
       "      <td>15.8</td>\n",
       "      <td>8</td>\n",
       "      <td>351.0</td>\n",
       "      <td>264</td>\n",
       "      <td>4.22</td>\n",
       "      <td>3.170</td>\n",
       "      <td>14.50</td>\n",
       "      <td>0</td>\n",
       "      <td>1</td>\n",
       "      <td>5</td>\n",
       "      <td>4</td>\n",
       "    </tr>\n",
       "    <tr>\n",
       "      <th>Ferrari Dino</th>\n",
       "      <td>19.7</td>\n",
       "      <td>6</td>\n",
       "      <td>145.0</td>\n",
       "      <td>175</td>\n",
       "      <td>3.62</td>\n",
       "      <td>2.770</td>\n",
       "      <td>15.50</td>\n",
       "      <td>0</td>\n",
       "      <td>1</td>\n",
       "      <td>5</td>\n",
       "      <td>6</td>\n",
       "    </tr>\n",
       "    <tr>\n",
       "      <th>Maserati Bora</th>\n",
       "      <td>15.0</td>\n",
       "      <td>8</td>\n",
       "      <td>301.0</td>\n",
       "      <td>335</td>\n",
       "      <td>3.54</td>\n",
       "      <td>3.570</td>\n",
       "      <td>14.60</td>\n",
       "      <td>0</td>\n",
       "      <td>1</td>\n",
       "      <td>5</td>\n",
       "      <td>8</td>\n",
       "    </tr>\n",
       "    <tr>\n",
       "      <th>Volvo 142E</th>\n",
       "      <td>21.4</td>\n",
       "      <td>4</td>\n",
       "      <td>121.0</td>\n",
       "      <td>109</td>\n",
       "      <td>4.11</td>\n",
       "      <td>2.780</td>\n",
       "      <td>18.60</td>\n",
       "      <td>1</td>\n",
       "      <td>1</td>\n",
       "      <td>4</td>\n",
       "      <td>2</td>\n",
       "    </tr>\n",
       "  </tbody>\n",
       "</table>\n",
       "</div>"
      ],
      "text/plain": [
       "                      mpg  cyl   disp   hp  drat     wt   qsec  vs  am  gear  \\\n",
       "Mazda RX4            21.0    6  160.0  110  3.90  2.620  16.46   0   1     4   \n",
       "Mazda RX4 Wag        21.0    6  160.0  110  3.90  2.875  17.02   0   1     4   \n",
       "Datsun 710           22.8    4  108.0   93  3.85  2.320  18.61   1   1     4   \n",
       "Hornet 4 Drive       21.4    6  258.0  110  3.08  3.215  19.44   1   0     3   \n",
       "Hornet Sportabout    18.7    8  360.0  175  3.15  3.440  17.02   0   0     3   \n",
       "Valiant              18.1    6  225.0  105  2.76  3.460  20.22   1   0     3   \n",
       "Duster 360           14.3    8  360.0  245  3.21  3.570  15.84   0   0     3   \n",
       "Merc 240D            24.4    4  146.7   62  3.69  3.190  20.00   1   0     4   \n",
       "Merc 230             22.8    4  140.8   95  3.92  3.150  22.90   1   0     4   \n",
       "Merc 280             19.2    6  167.6  123  3.92  3.440  18.30   1   0     4   \n",
       "Merc 280C            17.8    6  167.6  123  3.92  3.440  18.90   1   0     4   \n",
       "Merc 450SE           16.4    8  275.8  180  3.07  4.070  17.40   0   0     3   \n",
       "Merc 450SL           17.3    8  275.8  180  3.07  3.730  17.60   0   0     3   \n",
       "Merc 450SLC          15.2    8  275.8  180  3.07  3.780  18.00   0   0     3   \n",
       "Cadillac Fleetwood   10.4    8  472.0  205  2.93  5.250  17.98   0   0     3   \n",
       "Lincoln Continental  10.4    8  460.0  215  3.00  5.424  17.82   0   0     3   \n",
       "Chrysler Imperial    14.7    8  440.0  230  3.23  5.345  17.42   0   0     3   \n",
       "Fiat 128             32.4    4   78.7   66  4.08  2.200  19.47   1   1     4   \n",
       "Honda Civic          30.4    4   75.7   52  4.93  1.615  18.52   1   1     4   \n",
       "Toyota Corolla       33.9    4   71.1   65  4.22  1.835  19.90   1   1     4   \n",
       "Toyota Corona        21.5    4  120.1   97  3.70  2.465  20.01   1   0     3   \n",
       "Dodge Challenger     15.5    8  318.0  150  2.76  3.520  16.87   0   0     3   \n",
       "AMC Javelin          15.2    8  304.0  150  3.15  3.435  17.30   0   0     3   \n",
       "Camaro Z28           13.3    8  350.0  245  3.73  3.840  15.41   0   0     3   \n",
       "Pontiac Firebird     19.2    8  400.0  175  3.08  3.845  17.05   0   0     3   \n",
       "Fiat X1-9            27.3    4   79.0   66  4.08  1.935  18.90   1   1     4   \n",
       "Porsche 914-2        26.0    4  120.3   91  4.43  2.140  16.70   0   1     5   \n",
       "Lotus Europa         30.4    4   95.1  113  3.77  1.513  16.90   1   1     5   \n",
       "Ford Pantera L       15.8    8  351.0  264  4.22  3.170  14.50   0   1     5   \n",
       "Ferrari Dino         19.7    6  145.0  175  3.62  2.770  15.50   0   1     5   \n",
       "Maserati Bora        15.0    8  301.0  335  3.54  3.570  14.60   0   1     5   \n",
       "Volvo 142E           21.4    4  121.0  109  4.11  2.780  18.60   1   1     4   \n",
       "\n",
       "                     carb  \n",
       "Mazda RX4               4  \n",
       "Mazda RX4 Wag           4  \n",
       "Datsun 710              1  \n",
       "Hornet 4 Drive          1  \n",
       "Hornet Sportabout       2  \n",
       "Valiant                 1  \n",
       "Duster 360              4  \n",
       "Merc 240D               2  \n",
       "Merc 230                2  \n",
       "Merc 280                4  \n",
       "Merc 280C               4  \n",
       "Merc 450SE              3  \n",
       "Merc 450SL              3  \n",
       "Merc 450SLC             3  \n",
       "Cadillac Fleetwood      4  \n",
       "Lincoln Continental     4  \n",
       "Chrysler Imperial       4  \n",
       "Fiat 128                1  \n",
       "Honda Civic             2  \n",
       "Toyota Corolla          1  \n",
       "Toyota Corona           1  \n",
       "Dodge Challenger        2  \n",
       "AMC Javelin             2  \n",
       "Camaro Z28              4  \n",
       "Pontiac Firebird        2  \n",
       "Fiat X1-9               1  \n",
       "Porsche 914-2           2  \n",
       "Lotus Europa            2  \n",
       "Ford Pantera L          4  \n",
       "Ferrari Dino            6  \n",
       "Maserati Bora           8  \n",
       "Volvo 142E              2  "
      ]
     },
     "execution_count": 139,
     "metadata": {},
     "output_type": "execute_result"
    }
   ],
   "source": [
    "df"
   ]
  },
  {
   "cell_type": "code",
   "execution_count": 140,
   "id": "a0a89a56-4523-4759-a031-fb07fea87266",
   "metadata": {},
   "outputs": [
    {
     "data": {
      "text/plain": [
       "(32, 11)"
      ]
     },
     "execution_count": 140,
     "metadata": {},
     "output_type": "execute_result"
    }
   ],
   "source": [
    "df.shape"
   ]
  },
  {
   "cell_type": "code",
   "execution_count": 141,
   "id": "1dda0af6-59b6-499e-8098-d1f9d4922b93",
   "metadata": {},
   "outputs": [
    {
     "data": {
      "text/plain": [
       "0    19\n",
       "1    13\n",
       "Name: am, dtype: int64"
      ]
     },
     "execution_count": 141,
     "metadata": {},
     "output_type": "execute_result"
    }
   ],
   "source": [
    "df['am'].value_counts()"
   ]
  },
  {
   "cell_type": "code",
   "execution_count": 142,
   "id": "fd3c3c3d-3523-4434-b353-47427dacd97e",
   "metadata": {},
   "outputs": [
    {
     "data": {
      "text/html": [
       "<div>\n",
       "<style scoped>\n",
       "    .dataframe tbody tr th:only-of-type {\n",
       "        vertical-align: middle;\n",
       "    }\n",
       "\n",
       "    .dataframe tbody tr th {\n",
       "        vertical-align: top;\n",
       "    }\n",
       "\n",
       "    .dataframe thead th {\n",
       "        text-align: right;\n",
       "    }\n",
       "</style>\n",
       "<table border=\"1\" class=\"dataframe\">\n",
       "  <thead>\n",
       "    <tr style=\"text-align: right;\">\n",
       "      <th></th>\n",
       "      <th>mpg</th>\n",
       "      <th>cyl</th>\n",
       "      <th>disp</th>\n",
       "      <th>hp</th>\n",
       "      <th>drat</th>\n",
       "      <th>wt</th>\n",
       "      <th>qsec</th>\n",
       "      <th>vs</th>\n",
       "      <th>am</th>\n",
       "      <th>gear</th>\n",
       "      <th>carb</th>\n",
       "    </tr>\n",
       "  </thead>\n",
       "  <tbody>\n",
       "    <tr>\n",
       "      <th>Mazda RX4</th>\n",
       "      <td>21.0</td>\n",
       "      <td>6</td>\n",
       "      <td>160.0</td>\n",
       "      <td>110</td>\n",
       "      <td>3.9</td>\n",
       "      <td>2.62</td>\n",
       "      <td>16.46</td>\n",
       "      <td>0</td>\n",
       "      <td>1</td>\n",
       "      <td>4</td>\n",
       "      <td>4</td>\n",
       "    </tr>\n",
       "  </tbody>\n",
       "</table>\n",
       "</div>"
      ],
      "text/plain": [
       "            mpg  cyl   disp   hp  drat    wt   qsec  vs  am  gear  carb\n",
       "Mazda RX4  21.0    6  160.0  110   3.9  2.62  16.46   0   1     4     4"
      ]
     },
     "execution_count": 142,
     "metadata": {},
     "output_type": "execute_result"
    }
   ],
   "source": [
    "df.head(1)"
   ]
  },
  {
   "cell_type": "code",
   "execution_count": 143,
   "id": "994e64c0-f0e2-4bdb-bd9c-a51ebb471175",
   "metadata": {},
   "outputs": [
    {
     "name": "stdout",
     "output_type": "stream",
     "text": [
      "<class 'pandas.core.frame.DataFrame'>\n",
      "Index: 32 entries, Mazda RX4 to Volvo 142E\n",
      "Data columns (total 11 columns):\n",
      " #   Column  Non-Null Count  Dtype  \n",
      "---  ------  --------------  -----  \n",
      " 0   mpg     32 non-null     float64\n",
      " 1   cyl     32 non-null     int64  \n",
      " 2   disp    32 non-null     float64\n",
      " 3   hp      32 non-null     int64  \n",
      " 4   drat    32 non-null     float64\n",
      " 5   wt      32 non-null     float64\n",
      " 6   qsec    32 non-null     float64\n",
      " 7   vs      32 non-null     int64  \n",
      " 8   am      32 non-null     int64  \n",
      " 9   gear    32 non-null     int64  \n",
      " 10  carb    32 non-null     int64  \n",
      "dtypes: float64(5), int64(6)\n",
      "memory usage: 3.0+ KB\n"
     ]
    }
   ],
   "source": [
    "df.info()"
   ]
  },
  {
   "cell_type": "code",
   "execution_count": 144,
   "id": "19184473-54d5-4b02-865c-2ddad9605723",
   "metadata": {},
   "outputs": [
    {
     "data": {
      "text/plain": [
       "4"
      ]
     },
     "execution_count": 144,
     "metadata": {},
     "output_type": "execute_result"
    }
   ],
   "source": [
    "len(df[(df['am']==0)&(df['gear']==4)])"
   ]
  },
  {
   "cell_type": "code",
   "execution_count": 127,
   "id": "8543e033-9cf5-41f2-bdc0-339bb654deb1",
   "metadata": {
    "tags": []
   },
   "outputs": [
    {
     "data": {
      "text/html": [
       "<div>\n",
       "<style scoped>\n",
       "    .dataframe tbody tr th:only-of-type {\n",
       "        vertical-align: middle;\n",
       "    }\n",
       "\n",
       "    .dataframe tbody tr th {\n",
       "        vertical-align: top;\n",
       "    }\n",
       "\n",
       "    .dataframe thead th {\n",
       "        text-align: right;\n",
       "    }\n",
       "</style>\n",
       "<table border=\"1\" class=\"dataframe\">\n",
       "  <thead>\n",
       "    <tr style=\"text-align: right;\">\n",
       "      <th></th>\n",
       "      <th>mpg</th>\n",
       "      <th>cyl</th>\n",
       "      <th>disp</th>\n",
       "      <th>hp</th>\n",
       "      <th>drat</th>\n",
       "      <th>wt</th>\n",
       "      <th>qsec</th>\n",
       "      <th>vs</th>\n",
       "      <th>am</th>\n",
       "      <th>gear</th>\n",
       "      <th>carb</th>\n",
       "    </tr>\n",
       "  </thead>\n",
       "  <tbody>\n",
       "    <tr>\n",
       "      <th>Ford Pantera L</th>\n",
       "      <td>15.8</td>\n",
       "      <td>8</td>\n",
       "      <td>351.0</td>\n",
       "      <td>264</td>\n",
       "      <td>4.22</td>\n",
       "      <td>3.17</td>\n",
       "      <td>14.5</td>\n",
       "      <td>0</td>\n",
       "      <td>1</td>\n",
       "      <td>5</td>\n",
       "      <td>4</td>\n",
       "    </tr>\n",
       "    <tr>\n",
       "      <th>Ferrari Dino</th>\n",
       "      <td>19.7</td>\n",
       "      <td>6</td>\n",
       "      <td>145.0</td>\n",
       "      <td>175</td>\n",
       "      <td>3.62</td>\n",
       "      <td>2.77</td>\n",
       "      <td>15.5</td>\n",
       "      <td>0</td>\n",
       "      <td>1</td>\n",
       "      <td>5</td>\n",
       "      <td>6</td>\n",
       "    </tr>\n",
       "    <tr>\n",
       "      <th>Maserati Bora</th>\n",
       "      <td>15.0</td>\n",
       "      <td>8</td>\n",
       "      <td>301.0</td>\n",
       "      <td>335</td>\n",
       "      <td>3.54</td>\n",
       "      <td>3.57</td>\n",
       "      <td>14.6</td>\n",
       "      <td>0</td>\n",
       "      <td>1</td>\n",
       "      <td>5</td>\n",
       "      <td>8</td>\n",
       "    </tr>\n",
       "  </tbody>\n",
       "</table>\n",
       "</div>"
      ],
      "text/plain": [
       "                 mpg  cyl   disp   hp  drat    wt  qsec  vs  am  gear  carb\n",
       "Ford Pantera L  15.8    8  351.0  264  4.22  3.17  14.5   0   1     5     4\n",
       "Ferrari Dino    19.7    6  145.0  175  3.62  2.77  15.5   0   1     5     6\n",
       "Maserati Bora   15.0    8  301.0  335  3.54  3.57  14.6   0   1     5     8"
      ]
     },
     "execution_count": 127,
     "metadata": {},
     "output_type": "execute_result"
    }
   ],
   "source": [
    "df[(df['gear']>4) & (df['vs']==0) & (df['hp']>100)]"
   ]
  },
  {
   "cell_type": "code",
   "execution_count": 128,
   "id": "99b3c434-2737-4a12-99ec-ebd55b97bf6b",
   "metadata": {},
   "outputs": [
    {
     "data": {
      "text/plain": [
       "3"
      ]
     },
     "execution_count": 128,
     "metadata": {},
     "output_type": "execute_result"
    }
   ],
   "source": [
    "len(df[(df['gear']>4) & (df['vs']==0) & (df['hp']>100)])# 변속기어가 수가 4이상 엔진형식이 v타입이면서 마력이 100이상인 차"
   ]
  },
  {
   "cell_type": "code",
   "execution_count": 129,
   "id": "f507e390-76d9-46fe-a1ba-e5168da01adb",
   "metadata": {
    "tags": []
   },
   "outputs": [
    {
     "data": {
      "text/html": [
       "<div>\n",
       "<style scoped>\n",
       "    .dataframe tbody tr th:only-of-type {\n",
       "        vertical-align: middle;\n",
       "    }\n",
       "\n",
       "    .dataframe tbody tr th {\n",
       "        vertical-align: top;\n",
       "    }\n",
       "\n",
       "    .dataframe thead th {\n",
       "        text-align: right;\n",
       "    }\n",
       "</style>\n",
       "<table border=\"1\" class=\"dataframe\">\n",
       "  <thead>\n",
       "    <tr style=\"text-align: right;\">\n",
       "      <th></th>\n",
       "      <th>mpg</th>\n",
       "      <th>cyl</th>\n",
       "      <th>disp</th>\n",
       "      <th>hp</th>\n",
       "      <th>drat</th>\n",
       "      <th>wt</th>\n",
       "      <th>qsec</th>\n",
       "      <th>vs</th>\n",
       "      <th>am</th>\n",
       "      <th>gear</th>\n",
       "      <th>carb</th>\n",
       "    </tr>\n",
       "  </thead>\n",
       "  <tbody>\n",
       "    <tr>\n",
       "      <th>Mazda RX4</th>\n",
       "      <td>21.0</td>\n",
       "      <td>6</td>\n",
       "      <td>160.0</td>\n",
       "      <td>110</td>\n",
       "      <td>3.90</td>\n",
       "      <td>2.620</td>\n",
       "      <td>16.46</td>\n",
       "      <td>0</td>\n",
       "      <td>1</td>\n",
       "      <td>4</td>\n",
       "      <td>4</td>\n",
       "    </tr>\n",
       "    <tr>\n",
       "      <th>Mazda RX4 Wag</th>\n",
       "      <td>21.0</td>\n",
       "      <td>6</td>\n",
       "      <td>160.0</td>\n",
       "      <td>110</td>\n",
       "      <td>3.90</td>\n",
       "      <td>2.875</td>\n",
       "      <td>17.02</td>\n",
       "      <td>0</td>\n",
       "      <td>1</td>\n",
       "      <td>4</td>\n",
       "      <td>4</td>\n",
       "    </tr>\n",
       "    <tr>\n",
       "      <th>Datsun 710</th>\n",
       "      <td>22.8</td>\n",
       "      <td>4</td>\n",
       "      <td>108.0</td>\n",
       "      <td>93</td>\n",
       "      <td>3.85</td>\n",
       "      <td>2.320</td>\n",
       "      <td>18.61</td>\n",
       "      <td>1</td>\n",
       "      <td>1</td>\n",
       "      <td>4</td>\n",
       "      <td>1</td>\n",
       "    </tr>\n",
       "    <tr>\n",
       "      <th>Merc 240D</th>\n",
       "      <td>24.4</td>\n",
       "      <td>4</td>\n",
       "      <td>146.7</td>\n",
       "      <td>62</td>\n",
       "      <td>3.69</td>\n",
       "      <td>3.190</td>\n",
       "      <td>20.00</td>\n",
       "      <td>1</td>\n",
       "      <td>0</td>\n",
       "      <td>4</td>\n",
       "      <td>2</td>\n",
       "    </tr>\n",
       "    <tr>\n",
       "      <th>Merc 230</th>\n",
       "      <td>22.8</td>\n",
       "      <td>4</td>\n",
       "      <td>140.8</td>\n",
       "      <td>95</td>\n",
       "      <td>3.92</td>\n",
       "      <td>3.150</td>\n",
       "      <td>22.90</td>\n",
       "      <td>1</td>\n",
       "      <td>0</td>\n",
       "      <td>4</td>\n",
       "      <td>2</td>\n",
       "    </tr>\n",
       "    <tr>\n",
       "      <th>Merc 280</th>\n",
       "      <td>19.2</td>\n",
       "      <td>6</td>\n",
       "      <td>167.6</td>\n",
       "      <td>123</td>\n",
       "      <td>3.92</td>\n",
       "      <td>3.440</td>\n",
       "      <td>18.30</td>\n",
       "      <td>1</td>\n",
       "      <td>0</td>\n",
       "      <td>4</td>\n",
       "      <td>4</td>\n",
       "    </tr>\n",
       "    <tr>\n",
       "      <th>Merc 280C</th>\n",
       "      <td>17.8</td>\n",
       "      <td>6</td>\n",
       "      <td>167.6</td>\n",
       "      <td>123</td>\n",
       "      <td>3.92</td>\n",
       "      <td>3.440</td>\n",
       "      <td>18.90</td>\n",
       "      <td>1</td>\n",
       "      <td>0</td>\n",
       "      <td>4</td>\n",
       "      <td>4</td>\n",
       "    </tr>\n",
       "    <tr>\n",
       "      <th>Fiat 128</th>\n",
       "      <td>32.4</td>\n",
       "      <td>4</td>\n",
       "      <td>78.7</td>\n",
       "      <td>66</td>\n",
       "      <td>4.08</td>\n",
       "      <td>2.200</td>\n",
       "      <td>19.47</td>\n",
       "      <td>1</td>\n",
       "      <td>1</td>\n",
       "      <td>4</td>\n",
       "      <td>1</td>\n",
       "    </tr>\n",
       "    <tr>\n",
       "      <th>Honda Civic</th>\n",
       "      <td>30.4</td>\n",
       "      <td>4</td>\n",
       "      <td>75.7</td>\n",
       "      <td>52</td>\n",
       "      <td>4.93</td>\n",
       "      <td>1.615</td>\n",
       "      <td>18.52</td>\n",
       "      <td>1</td>\n",
       "      <td>1</td>\n",
       "      <td>4</td>\n",
       "      <td>2</td>\n",
       "    </tr>\n",
       "    <tr>\n",
       "      <th>Toyota Corolla</th>\n",
       "      <td>33.9</td>\n",
       "      <td>4</td>\n",
       "      <td>71.1</td>\n",
       "      <td>65</td>\n",
       "      <td>4.22</td>\n",
       "      <td>1.835</td>\n",
       "      <td>19.90</td>\n",
       "      <td>1</td>\n",
       "      <td>1</td>\n",
       "      <td>4</td>\n",
       "      <td>1</td>\n",
       "    </tr>\n",
       "    <tr>\n",
       "      <th>Toyota Corona</th>\n",
       "      <td>21.5</td>\n",
       "      <td>4</td>\n",
       "      <td>120.1</td>\n",
       "      <td>97</td>\n",
       "      <td>3.70</td>\n",
       "      <td>2.465</td>\n",
       "      <td>20.01</td>\n",
       "      <td>1</td>\n",
       "      <td>0</td>\n",
       "      <td>3</td>\n",
       "      <td>1</td>\n",
       "    </tr>\n",
       "    <tr>\n",
       "      <th>Fiat X1-9</th>\n",
       "      <td>27.3</td>\n",
       "      <td>4</td>\n",
       "      <td>79.0</td>\n",
       "      <td>66</td>\n",
       "      <td>4.08</td>\n",
       "      <td>1.935</td>\n",
       "      <td>18.90</td>\n",
       "      <td>1</td>\n",
       "      <td>1</td>\n",
       "      <td>4</td>\n",
       "      <td>1</td>\n",
       "    </tr>\n",
       "    <tr>\n",
       "      <th>Porsche 914-2</th>\n",
       "      <td>26.0</td>\n",
       "      <td>4</td>\n",
       "      <td>120.3</td>\n",
       "      <td>91</td>\n",
       "      <td>4.43</td>\n",
       "      <td>2.140</td>\n",
       "      <td>16.70</td>\n",
       "      <td>0</td>\n",
       "      <td>1</td>\n",
       "      <td>5</td>\n",
       "      <td>2</td>\n",
       "    </tr>\n",
       "    <tr>\n",
       "      <th>Lotus Europa</th>\n",
       "      <td>30.4</td>\n",
       "      <td>4</td>\n",
       "      <td>95.1</td>\n",
       "      <td>113</td>\n",
       "      <td>3.77</td>\n",
       "      <td>1.513</td>\n",
       "      <td>16.90</td>\n",
       "      <td>1</td>\n",
       "      <td>1</td>\n",
       "      <td>5</td>\n",
       "      <td>2</td>\n",
       "    </tr>\n",
       "    <tr>\n",
       "      <th>Ferrari Dino</th>\n",
       "      <td>19.7</td>\n",
       "      <td>6</td>\n",
       "      <td>145.0</td>\n",
       "      <td>175</td>\n",
       "      <td>3.62</td>\n",
       "      <td>2.770</td>\n",
       "      <td>15.50</td>\n",
       "      <td>0</td>\n",
       "      <td>1</td>\n",
       "      <td>5</td>\n",
       "      <td>6</td>\n",
       "    </tr>\n",
       "    <tr>\n",
       "      <th>Volvo 142E</th>\n",
       "      <td>21.4</td>\n",
       "      <td>4</td>\n",
       "      <td>121.0</td>\n",
       "      <td>109</td>\n",
       "      <td>4.11</td>\n",
       "      <td>2.780</td>\n",
       "      <td>18.60</td>\n",
       "      <td>1</td>\n",
       "      <td>1</td>\n",
       "      <td>4</td>\n",
       "      <td>2</td>\n",
       "    </tr>\n",
       "  </tbody>\n",
       "</table>\n",
       "</div>"
      ],
      "text/plain": [
       "                 mpg  cyl   disp   hp  drat     wt   qsec  vs  am  gear  carb\n",
       "Mazda RX4       21.0    6  160.0  110  3.90  2.620  16.46   0   1     4     4\n",
       "Mazda RX4 Wag   21.0    6  160.0  110  3.90  2.875  17.02   0   1     4     4\n",
       "Datsun 710      22.8    4  108.0   93  3.85  2.320  18.61   1   1     4     1\n",
       "Merc 240D       24.4    4  146.7   62  3.69  3.190  20.00   1   0     4     2\n",
       "Merc 230        22.8    4  140.8   95  3.92  3.150  22.90   1   0     4     2\n",
       "Merc 280        19.2    6  167.6  123  3.92  3.440  18.30   1   0     4     4\n",
       "Merc 280C       17.8    6  167.6  123  3.92  3.440  18.90   1   0     4     4\n",
       "Fiat 128        32.4    4   78.7   66  4.08  2.200  19.47   1   1     4     1\n",
       "Honda Civic     30.4    4   75.7   52  4.93  1.615  18.52   1   1     4     2\n",
       "Toyota Corolla  33.9    4   71.1   65  4.22  1.835  19.90   1   1     4     1\n",
       "Toyota Corona   21.5    4  120.1   97  3.70  2.465  20.01   1   0     3     1\n",
       "Fiat X1-9       27.3    4   79.0   66  4.08  1.935  18.90   1   1     4     1\n",
       "Porsche 914-2   26.0    4  120.3   91  4.43  2.140  16.70   0   1     5     2\n",
       "Lotus Europa    30.4    4   95.1  113  3.77  1.513  16.90   1   1     5     2\n",
       "Ferrari Dino    19.7    6  145.0  175  3.62  2.770  15.50   0   1     5     6\n",
       "Volvo 142E      21.4    4  121.0  109  4.11  2.780  18.60   1   1     4     2"
      ]
     },
     "execution_count": 129,
     "metadata": {},
     "output_type": "execute_result"
    }
   ],
   "source": [
    "df[(df['mpg']>=16) & (df['disp']<200) & (df['wt']<3.5)]#마일 당 갤런이 16이상 배기량이 200이하 차체중량이 3.5이하"
   ]
  },
  {
   "cell_type": "code",
   "execution_count": 130,
   "id": "a9181c6a-102e-4a28-999b-97d16a1b5cf3",
   "metadata": {},
   "outputs": [
    {
     "data": {
      "text/plain": [
       "16"
      ]
     },
     "execution_count": 130,
     "metadata": {},
     "output_type": "execute_result"
    }
   ],
   "source": [
    "len(df[(df['mpg']>=16) & (df['disp']<200) & (df['wt']<3.5)])"
   ]
  },
  {
   "cell_type": "code",
   "execution_count": null,
   "id": "743d6c3c-42d8-435e-9d6e-e312edb134ea",
   "metadata": {},
   "outputs": [],
   "source": [
    "import pandas as pd"
   ]
  },
  {
   "cell_type": "code",
   "execution_count": null,
   "id": "2b67d1b4-3c39-4b7c-8a3e-5a5d444c4bbb",
   "metadata": {},
   "outputs": [],
   "source": [
    "df=pd.DataFrame({'name':['김지훈','이유진','박동현','김민지'],\n",
    "                 'english':[90,80,60,70],\n",
    "                 'math':[50,60,100,20]})"
   ]
  },
  {
   "cell_type": "code",
   "execution_count": null,
   "id": "01bd9d27-2f21-4b58-84a9-8f679bfc2c30",
   "metadata": {},
   "outputs": [],
   "source": [
    "df['english'].sum()"
   ]
  },
  {
   "cell_type": "code",
   "execution_count": null,
   "id": "c7717339-c3d1-476f-ac54-2d107927168c",
   "metadata": {},
   "outputs": [],
   "source": [
    "df['math'].mean()"
   ]
  },
  {
   "cell_type": "code",
   "execution_count": null,
   "id": "44381033-b218-41e7-95fd-e6c8a2011871",
   "metadata": {},
   "outputs": [],
   "source": [
    "df.rename({'name':'이름'},axis=1)"
   ]
  },
  {
   "cell_type": "code",
   "execution_count": null,
   "id": "820540c9-f1ed-42db-94c1-df9088087fec",
   "metadata": {},
   "outputs": [],
   "source": [
    "df2=df"
   ]
  },
  {
   "cell_type": "code",
   "execution_count": null,
   "id": "4b7e2305-c26f-45c1-94d4-c4403292a989",
   "metadata": {},
   "outputs": [],
   "source": [
    "df=df.rename({'이름':'name'},axis=1)"
   ]
  },
  {
   "cell_type": "code",
   "execution_count": null,
   "id": "bcb1d759-9a0d-4394-9592-18ce92f2e2ea",
   "metadata": {},
   "outputs": [],
   "source": [
    "df2"
   ]
  },
  {
   "cell_type": "code",
   "execution_count": null,
   "id": "cbc9b5c2-6b27-4d91-9aa8-e37504b78409",
   "metadata": {},
   "outputs": [],
   "source": [
    "df3=df.copy()"
   ]
  },
  {
   "cell_type": "code",
   "execution_count": null,
   "id": "d60d22fc-021a-454b-ac23-33193c8d8757",
   "metadata": {},
   "outputs": [],
   "source": [
    "df['name']='예진'"
   ]
  },
  {
   "cell_type": "code",
   "execution_count": null,
   "id": "9d771e3d-1655-44e3-a90c-93b80af5bd94",
   "metadata": {},
   "outputs": [],
   "source": [
    "df3"
   ]
  },
  {
   "cell_type": "markdown",
   "id": "553e91e1-3b0c-4557-a8a5-1b54832689c6",
   "metadata": {},
   "source": [
    "# df 원본\n",
    "# df2 그냥 변수명 복사/얕은 복사(shallow copy)\n",
    "# df3 copy()/깊은 복사(deep copy)"
   ]
  },
  {
   "cell_type": "code",
   "execution_count": 78,
   "id": "ddf0da62-7d92-41c9-a541-7b8d53b27a54",
   "metadata": {},
   "outputs": [
    {
     "data": {
      "text/plain": [
       "2288199455408"
      ]
     },
     "execution_count": 78,
     "metadata": {},
     "output_type": "execute_result"
    }
   ],
   "source": [
    "id(df)"
   ]
  },
  {
   "cell_type": "code",
   "execution_count": 79,
   "id": "db9d5c7e-a461-4d93-8f4c-9d77133a3644",
   "metadata": {},
   "outputs": [
    {
     "ename": "NameError",
     "evalue": "name 'df2' is not defined",
     "output_type": "error",
     "traceback": [
      "\u001b[1;31m---------------------------------------------------------------------------\u001b[0m",
      "\u001b[1;31mNameError\u001b[0m                                 Traceback (most recent call last)",
      "Input \u001b[1;32mIn [79]\u001b[0m, in \u001b[0;36m<cell line: 1>\u001b[1;34m()\u001b[0m\n\u001b[1;32m----> 1\u001b[0m \u001b[38;5;28mid\u001b[39m(\u001b[43mdf2\u001b[49m)\n",
      "\u001b[1;31mNameError\u001b[0m: name 'df2' is not defined"
     ]
    }
   ],
   "source": [
    "id(df2)"
   ]
  },
  {
   "cell_type": "code",
   "execution_count": 80,
   "id": "cb85433d-d510-469a-becc-235d515f933c",
   "metadata": {},
   "outputs": [
    {
     "ename": "NameError",
     "evalue": "name 'df3' is not defined",
     "output_type": "error",
     "traceback": [
      "\u001b[1;31m---------------------------------------------------------------------------\u001b[0m",
      "\u001b[1;31mNameError\u001b[0m                                 Traceback (most recent call last)",
      "Input \u001b[1;32mIn [80]\u001b[0m, in \u001b[0;36m<cell line: 1>\u001b[1;34m()\u001b[0m\n\u001b[1;32m----> 1\u001b[0m \u001b[38;5;28mid\u001b[39m(\u001b[43mdf3\u001b[49m)\n",
      "\u001b[1;31mNameError\u001b[0m: name 'df3' is not defined"
     ]
    }
   ],
   "source": [
    "id(df3)"
   ]
  },
  {
   "cell_type": "code",
   "execution_count": 81,
   "id": "8b211b96-748f-498c-a798-5692fb91ccb1",
   "metadata": {},
   "outputs": [],
   "source": [
    "df=pd.DataFrame({'var1' : [4, 3, 8],\n",
    "                 'var2' : [2, 6, 11]})"
   ]
  },
  {
   "cell_type": "code",
   "execution_count": 82,
   "id": "02781473-7777-4038-8cda-cfd61ba1e9e6",
   "metadata": {},
   "outputs": [
    {
     "data": {
      "text/html": [
       "<div>\n",
       "<style scoped>\n",
       "    .dataframe tbody tr th:only-of-type {\n",
       "        vertical-align: middle;\n",
       "    }\n",
       "\n",
       "    .dataframe tbody tr th {\n",
       "        vertical-align: top;\n",
       "    }\n",
       "\n",
       "    .dataframe thead th {\n",
       "        text-align: right;\n",
       "    }\n",
       "</style>\n",
       "<table border=\"1\" class=\"dataframe\">\n",
       "  <thead>\n",
       "    <tr style=\"text-align: right;\">\n",
       "      <th></th>\n",
       "      <th>var1</th>\n",
       "      <th>var2</th>\n",
       "    </tr>\n",
       "  </thead>\n",
       "  <tbody>\n",
       "    <tr>\n",
       "      <th>0</th>\n",
       "      <td>4</td>\n",
       "      <td>2</td>\n",
       "    </tr>\n",
       "    <tr>\n",
       "      <th>1</th>\n",
       "      <td>3</td>\n",
       "      <td>6</td>\n",
       "    </tr>\n",
       "    <tr>\n",
       "      <th>2</th>\n",
       "      <td>8</td>\n",
       "      <td>11</td>\n",
       "    </tr>\n",
       "  </tbody>\n",
       "</table>\n",
       "</div>"
      ],
      "text/plain": [
       "   var1  var2\n",
       "0     4     2\n",
       "1     3     6\n",
       "2     8    11"
      ]
     },
     "execution_count": 82,
     "metadata": {},
     "output_type": "execute_result"
    }
   ],
   "source": [
    "df"
   ]
  },
  {
   "cell_type": "code",
   "execution_count": 83,
   "id": "a03c2038-ba0d-42c7-ba10-6a02c6e1f5de",
   "metadata": {},
   "outputs": [],
   "source": [
    "df['var1_sum']=df['var1']+df['var2']"
   ]
  },
  {
   "cell_type": "code",
   "execution_count": 84,
   "id": "14c37643-4685-4e7b-a0ad-d448c2b23fa0",
   "metadata": {},
   "outputs": [
    {
     "data": {
      "text/plain": [
       "0     6\n",
       "1     9\n",
       "2    19\n",
       "Name: var1_sum, dtype: int64"
      ]
     },
     "execution_count": 84,
     "metadata": {},
     "output_type": "execute_result"
    }
   ],
   "source": [
    "df['var1_sum']"
   ]
  },
  {
   "cell_type": "code",
   "execution_count": 85,
   "id": "2521d1fc-7837-428b-bb4a-0202d04d8eeb",
   "metadata": {},
   "outputs": [],
   "source": [
    "df['var1_mean']=(df['var1']+df['var2'])/2"
   ]
  },
  {
   "cell_type": "code",
   "execution_count": 86,
   "id": "fa5988a1-5370-4580-9b4e-5adab4ee5f9c",
   "metadata": {},
   "outputs": [],
   "source": [
    "df['var1_mean']=(df['var1']+df['var2'])/2"
   ]
  },
  {
   "cell_type": "code",
   "execution_count": 87,
   "id": "c156d754-3d54-47eb-b826-3f3c3b53cf87",
   "metadata": {},
   "outputs": [
    {
     "data": {
      "text/plain": [
       "0    3.0\n",
       "1    4.5\n",
       "2    9.5\n",
       "Name: var1_mean, dtype: float64"
      ]
     },
     "execution_count": 87,
     "metadata": {},
     "output_type": "execute_result"
    }
   ],
   "source": [
    "df['var1_mean']"
   ]
  },
  {
   "cell_type": "code",
   "execution_count": 88,
   "id": "ba794708-2745-424d-9436-5eeed80d7c10",
   "metadata": {},
   "outputs": [
    {
     "data": {
      "text/plain": [
       "0     2\n",
       "1     6\n",
       "2    11\n",
       "Name: var2, dtype: int64"
      ]
     },
     "execution_count": 88,
     "metadata": {},
     "output_type": "execute_result"
    }
   ],
   "source": [
    "df['var2']"
   ]
  },
  {
   "cell_type": "code",
   "execution_count": 89,
   "id": "72d48b30-befd-4c7d-988d-11397ae383ae",
   "metadata": {},
   "outputs": [],
   "source": [
    "import pydataset as pds"
   ]
  },
  {
   "cell_type": "code",
   "execution_count": 90,
   "id": "1eec3d5c-8a18-454c-bf7c-304bcaaea9d0",
   "metadata": {},
   "outputs": [
    {
     "name": "stdout",
     "output_type": "stream",
     "text": [
      "mpg\n",
      "\n",
      "PyDataset Documentation (adopted from R Documentation. The displayed examples are in R)\n",
      "\n",
      "## Fuel economy data from 1999 and 2008 for 38 popular models of car\n",
      "\n",
      "### Description\n",
      "\n",
      "This dataset contains a subset of the fuel economy data that the EPA makes\n",
      "available on http://fueleconomy.gov. It contains only models which had a new\n",
      "release every year between 1999 and 2008 - this was used as a proxy for the\n",
      "popularity of the car.\n",
      "\n",
      "### Usage\n",
      "\n",
      "    data(mpg)\n",
      "\n",
      "### Format\n",
      "\n",
      "A data frame with 234 rows and 11 variables\n",
      "\n",
      "### Details\n",
      "\n",
      "  * manufacturer. \n",
      "\n",
      "  * model. \n",
      "\n",
      "  * displ. engine displacement, in litres \n",
      "\n",
      "  * year. \n",
      "\n",
      "  * cyl. number of cylinders \n",
      "\n",
      "  * trans. type of transmission \n",
      "\n",
      "  * drv. f = front-wheel drive, r = rear wheel drive, 4 = 4wd \n",
      "\n",
      "  * cty. city miles per gallon \n",
      "\n",
      "  * hwy. highway miles per gallon \n",
      "\n",
      "  * fl. \n",
      "\n",
      "  * class. \n",
      "\n",
      "\n"
     ]
    }
   ],
   "source": [
    "mpg=pds.data('mpg', show_doc=True)"
   ]
  },
  {
   "cell_type": "code",
   "execution_count": 91,
   "id": "15407d90-ca80-4c00-a794-8d938ccf384d",
   "metadata": {},
   "outputs": [],
   "source": [
    "mpg=pds.data('mpg')"
   ]
  },
  {
   "cell_type": "code",
   "execution_count": 92,
   "id": "cd9453f8-0270-4cbb-bfe9-0255112191d1",
   "metadata": {},
   "outputs": [],
   "source": [
    "mpg['total']=(mpg['cty']+mpg['hwy'])/2"
   ]
  },
  {
   "cell_type": "code",
   "execution_count": 93,
   "id": "a2411ff9-568c-45de-bf35-b719352d9eb6",
   "metadata": {},
   "outputs": [
    {
     "data": {
      "text/html": [
       "<div>\n",
       "<style scoped>\n",
       "    .dataframe tbody tr th:only-of-type {\n",
       "        vertical-align: middle;\n",
       "    }\n",
       "\n",
       "    .dataframe tbody tr th {\n",
       "        vertical-align: top;\n",
       "    }\n",
       "\n",
       "    .dataframe thead th {\n",
       "        text-align: right;\n",
       "    }\n",
       "</style>\n",
       "<table border=\"1\" class=\"dataframe\">\n",
       "  <thead>\n",
       "    <tr style=\"text-align: right;\">\n",
       "      <th></th>\n",
       "      <th>manufacturer</th>\n",
       "      <th>model</th>\n",
       "      <th>displ</th>\n",
       "      <th>year</th>\n",
       "      <th>cyl</th>\n",
       "      <th>trans</th>\n",
       "      <th>drv</th>\n",
       "      <th>cty</th>\n",
       "      <th>hwy</th>\n",
       "      <th>fl</th>\n",
       "      <th>class</th>\n",
       "      <th>total</th>\n",
       "    </tr>\n",
       "  </thead>\n",
       "  <tbody>\n",
       "    <tr>\n",
       "      <th>1</th>\n",
       "      <td>audi</td>\n",
       "      <td>a4</td>\n",
       "      <td>1.8</td>\n",
       "      <td>1999</td>\n",
       "      <td>4</td>\n",
       "      <td>auto(l5)</td>\n",
       "      <td>f</td>\n",
       "      <td>18</td>\n",
       "      <td>29</td>\n",
       "      <td>p</td>\n",
       "      <td>compact</td>\n",
       "      <td>23.5</td>\n",
       "    </tr>\n",
       "    <tr>\n",
       "      <th>2</th>\n",
       "      <td>audi</td>\n",
       "      <td>a4</td>\n",
       "      <td>1.8</td>\n",
       "      <td>1999</td>\n",
       "      <td>4</td>\n",
       "      <td>manual(m5)</td>\n",
       "      <td>f</td>\n",
       "      <td>21</td>\n",
       "      <td>29</td>\n",
       "      <td>p</td>\n",
       "      <td>compact</td>\n",
       "      <td>25.0</td>\n",
       "    </tr>\n",
       "    <tr>\n",
       "      <th>3</th>\n",
       "      <td>audi</td>\n",
       "      <td>a4</td>\n",
       "      <td>2.0</td>\n",
       "      <td>2008</td>\n",
       "      <td>4</td>\n",
       "      <td>manual(m6)</td>\n",
       "      <td>f</td>\n",
       "      <td>20</td>\n",
       "      <td>31</td>\n",
       "      <td>p</td>\n",
       "      <td>compact</td>\n",
       "      <td>25.5</td>\n",
       "    </tr>\n",
       "    <tr>\n",
       "      <th>4</th>\n",
       "      <td>audi</td>\n",
       "      <td>a4</td>\n",
       "      <td>2.0</td>\n",
       "      <td>2008</td>\n",
       "      <td>4</td>\n",
       "      <td>auto(av)</td>\n",
       "      <td>f</td>\n",
       "      <td>21</td>\n",
       "      <td>30</td>\n",
       "      <td>p</td>\n",
       "      <td>compact</td>\n",
       "      <td>25.5</td>\n",
       "    </tr>\n",
       "    <tr>\n",
       "      <th>5</th>\n",
       "      <td>audi</td>\n",
       "      <td>a4</td>\n",
       "      <td>2.8</td>\n",
       "      <td>1999</td>\n",
       "      <td>6</td>\n",
       "      <td>auto(l5)</td>\n",
       "      <td>f</td>\n",
       "      <td>16</td>\n",
       "      <td>26</td>\n",
       "      <td>p</td>\n",
       "      <td>compact</td>\n",
       "      <td>21.0</td>\n",
       "    </tr>\n",
       "    <tr>\n",
       "      <th>...</th>\n",
       "      <td>...</td>\n",
       "      <td>...</td>\n",
       "      <td>...</td>\n",
       "      <td>...</td>\n",
       "      <td>...</td>\n",
       "      <td>...</td>\n",
       "      <td>...</td>\n",
       "      <td>...</td>\n",
       "      <td>...</td>\n",
       "      <td>...</td>\n",
       "      <td>...</td>\n",
       "      <td>...</td>\n",
       "    </tr>\n",
       "    <tr>\n",
       "      <th>230</th>\n",
       "      <td>volkswagen</td>\n",
       "      <td>passat</td>\n",
       "      <td>2.0</td>\n",
       "      <td>2008</td>\n",
       "      <td>4</td>\n",
       "      <td>auto(s6)</td>\n",
       "      <td>f</td>\n",
       "      <td>19</td>\n",
       "      <td>28</td>\n",
       "      <td>p</td>\n",
       "      <td>midsize</td>\n",
       "      <td>23.5</td>\n",
       "    </tr>\n",
       "    <tr>\n",
       "      <th>231</th>\n",
       "      <td>volkswagen</td>\n",
       "      <td>passat</td>\n",
       "      <td>2.0</td>\n",
       "      <td>2008</td>\n",
       "      <td>4</td>\n",
       "      <td>manual(m6)</td>\n",
       "      <td>f</td>\n",
       "      <td>21</td>\n",
       "      <td>29</td>\n",
       "      <td>p</td>\n",
       "      <td>midsize</td>\n",
       "      <td>25.0</td>\n",
       "    </tr>\n",
       "    <tr>\n",
       "      <th>232</th>\n",
       "      <td>volkswagen</td>\n",
       "      <td>passat</td>\n",
       "      <td>2.8</td>\n",
       "      <td>1999</td>\n",
       "      <td>6</td>\n",
       "      <td>auto(l5)</td>\n",
       "      <td>f</td>\n",
       "      <td>16</td>\n",
       "      <td>26</td>\n",
       "      <td>p</td>\n",
       "      <td>midsize</td>\n",
       "      <td>21.0</td>\n",
       "    </tr>\n",
       "    <tr>\n",
       "      <th>233</th>\n",
       "      <td>volkswagen</td>\n",
       "      <td>passat</td>\n",
       "      <td>2.8</td>\n",
       "      <td>1999</td>\n",
       "      <td>6</td>\n",
       "      <td>manual(m5)</td>\n",
       "      <td>f</td>\n",
       "      <td>18</td>\n",
       "      <td>26</td>\n",
       "      <td>p</td>\n",
       "      <td>midsize</td>\n",
       "      <td>22.0</td>\n",
       "    </tr>\n",
       "    <tr>\n",
       "      <th>234</th>\n",
       "      <td>volkswagen</td>\n",
       "      <td>passat</td>\n",
       "      <td>3.6</td>\n",
       "      <td>2008</td>\n",
       "      <td>6</td>\n",
       "      <td>auto(s6)</td>\n",
       "      <td>f</td>\n",
       "      <td>17</td>\n",
       "      <td>26</td>\n",
       "      <td>p</td>\n",
       "      <td>midsize</td>\n",
       "      <td>21.5</td>\n",
       "    </tr>\n",
       "  </tbody>\n",
       "</table>\n",
       "<p>234 rows × 12 columns</p>\n",
       "</div>"
      ],
      "text/plain": [
       "    manufacturer   model  displ  year  cyl       trans drv  cty  hwy fl  \\\n",
       "1           audi      a4    1.8  1999    4    auto(l5)   f   18   29  p   \n",
       "2           audi      a4    1.8  1999    4  manual(m5)   f   21   29  p   \n",
       "3           audi      a4    2.0  2008    4  manual(m6)   f   20   31  p   \n",
       "4           audi      a4    2.0  2008    4    auto(av)   f   21   30  p   \n",
       "5           audi      a4    2.8  1999    6    auto(l5)   f   16   26  p   \n",
       "..           ...     ...    ...   ...  ...         ...  ..  ...  ... ..   \n",
       "230   volkswagen  passat    2.0  2008    4    auto(s6)   f   19   28  p   \n",
       "231   volkswagen  passat    2.0  2008    4  manual(m6)   f   21   29  p   \n",
       "232   volkswagen  passat    2.8  1999    6    auto(l5)   f   16   26  p   \n",
       "233   volkswagen  passat    2.8  1999    6  manual(m5)   f   18   26  p   \n",
       "234   volkswagen  passat    3.6  2008    6    auto(s6)   f   17   26  p   \n",
       "\n",
       "       class  total  \n",
       "1    compact   23.5  \n",
       "2    compact   25.0  \n",
       "3    compact   25.5  \n",
       "4    compact   25.5  \n",
       "5    compact   21.0  \n",
       "..       ...    ...  \n",
       "230  midsize   23.5  \n",
       "231  midsize   25.0  \n",
       "232  midsize   21.0  \n",
       "233  midsize   22.0  \n",
       "234  midsize   21.5  \n",
       "\n",
       "[234 rows x 12 columns]"
      ]
     },
     "execution_count": 93,
     "metadata": {},
     "output_type": "execute_result"
    }
   ],
   "source": [
    "mpg"
   ]
  },
  {
   "cell_type": "code",
   "execution_count": 94,
   "id": "21870ffa-78ce-4d77-aeea-425d40bab4d8",
   "metadata": {},
   "outputs": [
    {
     "data": {
      "text/plain": [
       "20.14957264957265"
      ]
     },
     "execution_count": 94,
     "metadata": {},
     "output_type": "execute_result"
    }
   ],
   "source": [
    "mpg['total'].mean()"
   ]
  },
  {
   "cell_type": "code",
   "execution_count": 95,
   "id": "139a4673-aebd-4ff5-84bc-45a8d0db7542",
   "metadata": {},
   "outputs": [
    {
     "data": {
      "text/plain": [
       "123"
      ]
     },
     "execution_count": 95,
     "metadata": {},
     "output_type": "execute_result"
    }
   ],
   "source": [
    "len(mpg[mpg['total']>20])"
   ]
  },
  {
   "cell_type": "code",
   "execution_count": 96,
   "id": "4a336d08-41ff-4dd5-be34-2a38f2c35311",
   "metadata": {},
   "outputs": [],
   "source": [
    "def isPass(t):###시리즈에 값을 추가\n",
    "    if t>20:\n",
    "        return 'PASS'\n",
    "    else:\n",
    "        return \"Fail\""
   ]
  },
  {
   "cell_type": "code",
   "execution_count": 97,
   "id": "7bcbc4c6-0174-46f5-b2a2-e2a22eadb276",
   "metadata": {},
   "outputs": [],
   "source": [
    "mpg['test']=mpg['total'].apply(isPass)"
   ]
  },
  {
   "cell_type": "code",
   "execution_count": 98,
   "id": "c580ea02-5aa7-4c9e-ba7f-3ca3d7ec38b6",
   "metadata": {},
   "outputs": [
    {
     "data": {
      "text/plain": [
       "PASS    123\n",
       "Fail    111\n",
       "Name: test, dtype: int64"
      ]
     },
     "execution_count": 98,
     "metadata": {},
     "output_type": "execute_result"
    }
   ],
   "source": [
    "mpg['test'].value_counts()"
   ]
  },
  {
   "cell_type": "code",
   "execution_count": 99,
   "id": "d103d391-8734-49ef-a372-8d356daccc8b",
   "metadata": {
    "tags": []
   },
   "outputs": [
    {
     "data": {
      "text/html": [
       "<div>\n",
       "<style scoped>\n",
       "    .dataframe tbody tr th:only-of-type {\n",
       "        vertical-align: middle;\n",
       "    }\n",
       "\n",
       "    .dataframe tbody tr th {\n",
       "        vertical-align: top;\n",
       "    }\n",
       "\n",
       "    .dataframe thead th {\n",
       "        text-align: right;\n",
       "    }\n",
       "</style>\n",
       "<table border=\"1\" class=\"dataframe\">\n",
       "  <thead>\n",
       "    <tr style=\"text-align: right;\">\n",
       "      <th></th>\n",
       "      <th>manufacturer</th>\n",
       "      <th>model</th>\n",
       "      <th>displ</th>\n",
       "      <th>year</th>\n",
       "      <th>cyl</th>\n",
       "      <th>trans</th>\n",
       "      <th>drv</th>\n",
       "      <th>cty</th>\n",
       "      <th>hwy</th>\n",
       "      <th>fl</th>\n",
       "      <th>class</th>\n",
       "      <th>total</th>\n",
       "      <th>test</th>\n",
       "    </tr>\n",
       "  </thead>\n",
       "  <tbody>\n",
       "    <tr>\n",
       "      <th>1</th>\n",
       "      <td>audi</td>\n",
       "      <td>a4</td>\n",
       "      <td>1.8</td>\n",
       "      <td>1999</td>\n",
       "      <td>4</td>\n",
       "      <td>auto(l5)</td>\n",
       "      <td>f</td>\n",
       "      <td>18</td>\n",
       "      <td>29</td>\n",
       "      <td>p</td>\n",
       "      <td>compact</td>\n",
       "      <td>23.5</td>\n",
       "      <td>PASS</td>\n",
       "    </tr>\n",
       "    <tr>\n",
       "      <th>2</th>\n",
       "      <td>audi</td>\n",
       "      <td>a4</td>\n",
       "      <td>1.8</td>\n",
       "      <td>1999</td>\n",
       "      <td>4</td>\n",
       "      <td>manual(m5)</td>\n",
       "      <td>f</td>\n",
       "      <td>21</td>\n",
       "      <td>29</td>\n",
       "      <td>p</td>\n",
       "      <td>compact</td>\n",
       "      <td>25.0</td>\n",
       "      <td>PASS</td>\n",
       "    </tr>\n",
       "    <tr>\n",
       "      <th>3</th>\n",
       "      <td>audi</td>\n",
       "      <td>a4</td>\n",
       "      <td>2.0</td>\n",
       "      <td>2008</td>\n",
       "      <td>4</td>\n",
       "      <td>manual(m6)</td>\n",
       "      <td>f</td>\n",
       "      <td>20</td>\n",
       "      <td>31</td>\n",
       "      <td>p</td>\n",
       "      <td>compact</td>\n",
       "      <td>25.5</td>\n",
       "      <td>PASS</td>\n",
       "    </tr>\n",
       "    <tr>\n",
       "      <th>4</th>\n",
       "      <td>audi</td>\n",
       "      <td>a4</td>\n",
       "      <td>2.0</td>\n",
       "      <td>2008</td>\n",
       "      <td>4</td>\n",
       "      <td>auto(av)</td>\n",
       "      <td>f</td>\n",
       "      <td>21</td>\n",
       "      <td>30</td>\n",
       "      <td>p</td>\n",
       "      <td>compact</td>\n",
       "      <td>25.5</td>\n",
       "      <td>PASS</td>\n",
       "    </tr>\n",
       "    <tr>\n",
       "      <th>5</th>\n",
       "      <td>audi</td>\n",
       "      <td>a4</td>\n",
       "      <td>2.8</td>\n",
       "      <td>1999</td>\n",
       "      <td>6</td>\n",
       "      <td>auto(l5)</td>\n",
       "      <td>f</td>\n",
       "      <td>16</td>\n",
       "      <td>26</td>\n",
       "      <td>p</td>\n",
       "      <td>compact</td>\n",
       "      <td>21.0</td>\n",
       "      <td>PASS</td>\n",
       "    </tr>\n",
       "    <tr>\n",
       "      <th>...</th>\n",
       "      <td>...</td>\n",
       "      <td>...</td>\n",
       "      <td>...</td>\n",
       "      <td>...</td>\n",
       "      <td>...</td>\n",
       "      <td>...</td>\n",
       "      <td>...</td>\n",
       "      <td>...</td>\n",
       "      <td>...</td>\n",
       "      <td>...</td>\n",
       "      <td>...</td>\n",
       "      <td>...</td>\n",
       "      <td>...</td>\n",
       "    </tr>\n",
       "    <tr>\n",
       "      <th>230</th>\n",
       "      <td>volkswagen</td>\n",
       "      <td>passat</td>\n",
       "      <td>2.0</td>\n",
       "      <td>2008</td>\n",
       "      <td>4</td>\n",
       "      <td>auto(s6)</td>\n",
       "      <td>f</td>\n",
       "      <td>19</td>\n",
       "      <td>28</td>\n",
       "      <td>p</td>\n",
       "      <td>midsize</td>\n",
       "      <td>23.5</td>\n",
       "      <td>PASS</td>\n",
       "    </tr>\n",
       "    <tr>\n",
       "      <th>231</th>\n",
       "      <td>volkswagen</td>\n",
       "      <td>passat</td>\n",
       "      <td>2.0</td>\n",
       "      <td>2008</td>\n",
       "      <td>4</td>\n",
       "      <td>manual(m6)</td>\n",
       "      <td>f</td>\n",
       "      <td>21</td>\n",
       "      <td>29</td>\n",
       "      <td>p</td>\n",
       "      <td>midsize</td>\n",
       "      <td>25.0</td>\n",
       "      <td>PASS</td>\n",
       "    </tr>\n",
       "    <tr>\n",
       "      <th>232</th>\n",
       "      <td>volkswagen</td>\n",
       "      <td>passat</td>\n",
       "      <td>2.8</td>\n",
       "      <td>1999</td>\n",
       "      <td>6</td>\n",
       "      <td>auto(l5)</td>\n",
       "      <td>f</td>\n",
       "      <td>16</td>\n",
       "      <td>26</td>\n",
       "      <td>p</td>\n",
       "      <td>midsize</td>\n",
       "      <td>21.0</td>\n",
       "      <td>PASS</td>\n",
       "    </tr>\n",
       "    <tr>\n",
       "      <th>233</th>\n",
       "      <td>volkswagen</td>\n",
       "      <td>passat</td>\n",
       "      <td>2.8</td>\n",
       "      <td>1999</td>\n",
       "      <td>6</td>\n",
       "      <td>manual(m5)</td>\n",
       "      <td>f</td>\n",
       "      <td>18</td>\n",
       "      <td>26</td>\n",
       "      <td>p</td>\n",
       "      <td>midsize</td>\n",
       "      <td>22.0</td>\n",
       "      <td>PASS</td>\n",
       "    </tr>\n",
       "    <tr>\n",
       "      <th>234</th>\n",
       "      <td>volkswagen</td>\n",
       "      <td>passat</td>\n",
       "      <td>3.6</td>\n",
       "      <td>2008</td>\n",
       "      <td>6</td>\n",
       "      <td>auto(s6)</td>\n",
       "      <td>f</td>\n",
       "      <td>17</td>\n",
       "      <td>26</td>\n",
       "      <td>p</td>\n",
       "      <td>midsize</td>\n",
       "      <td>21.5</td>\n",
       "      <td>PASS</td>\n",
       "    </tr>\n",
       "  </tbody>\n",
       "</table>\n",
       "<p>234 rows × 13 columns</p>\n",
       "</div>"
      ],
      "text/plain": [
       "    manufacturer   model  displ  year  cyl       trans drv  cty  hwy fl  \\\n",
       "1           audi      a4    1.8  1999    4    auto(l5)   f   18   29  p   \n",
       "2           audi      a4    1.8  1999    4  manual(m5)   f   21   29  p   \n",
       "3           audi      a4    2.0  2008    4  manual(m6)   f   20   31  p   \n",
       "4           audi      a4    2.0  2008    4    auto(av)   f   21   30  p   \n",
       "5           audi      a4    2.8  1999    6    auto(l5)   f   16   26  p   \n",
       "..           ...     ...    ...   ...  ...         ...  ..  ...  ... ..   \n",
       "230   volkswagen  passat    2.0  2008    4    auto(s6)   f   19   28  p   \n",
       "231   volkswagen  passat    2.0  2008    4  manual(m6)   f   21   29  p   \n",
       "232   volkswagen  passat    2.8  1999    6    auto(l5)   f   16   26  p   \n",
       "233   volkswagen  passat    2.8  1999    6  manual(m5)   f   18   26  p   \n",
       "234   volkswagen  passat    3.6  2008    6    auto(s6)   f   17   26  p   \n",
       "\n",
       "       class  total  test  \n",
       "1    compact   23.5  PASS  \n",
       "2    compact   25.0  PASS  \n",
       "3    compact   25.5  PASS  \n",
       "4    compact   25.5  PASS  \n",
       "5    compact   21.0  PASS  \n",
       "..       ...    ...   ...  \n",
       "230  midsize   23.5  PASS  \n",
       "231  midsize   25.0  PASS  \n",
       "232  midsize   21.0  PASS  \n",
       "233  midsize   22.0  PASS  \n",
       "234  midsize   21.5  PASS  \n",
       "\n",
       "[234 rows x 13 columns]"
      ]
     },
     "execution_count": 99,
     "metadata": {},
     "output_type": "execute_result"
    }
   ],
   "source": [
    "mpg"
   ]
  },
  {
   "cell_type": "markdown",
   "id": "155db616-75b8-4cf4-8945-70df0ea04428",
   "metadata": {},
   "source": [
    " ###  \n",
    "      mpg['total']>=30 'A'  \n",
    "      mpg['total']>=20 'B'\n",
    "      else 'C'\n",
    "      emg['grade']"
   ]
  },
  {
   "cell_type": "code",
   "execution_count": null,
   "id": "640be4c8-d498-4ca7-bc5c-3dfdf2552bc3",
   "metadata": {},
   "outputs": [],
   "source": [
    "def GR(t):\n",
    "    if t>=30:\n",
    "        return \"A\"\n",
    "    elif t>=20:\n",
    "        return \"B\"\n",
    "    else:\n",
    "        return \"C\""
   ]
  },
  {
   "cell_type": "code",
   "execution_count": null,
   "id": "224d7223-3cb5-49ca-97aa-0a2524560977",
   "metadata": {},
   "outputs": [],
   "source": [
    "mpg['grade']=mpg['total'].apply(GR)"
   ]
  },
  {
   "cell_type": "code",
   "execution_count": null,
   "id": "f1a5075d-e378-4b03-a012-3fc02efe5c6d",
   "metadata": {},
   "outputs": [],
   "source": [
    "mpg['grade'].value_counts().sort_index()"
   ]
  },
  {
   "cell_type": "code",
   "execution_count": null,
   "id": "6d00c059-e00b-4ec0-aaf4-47acdbbf6d03",
   "metadata": {},
   "outputs": [],
   "source": [
    "mpg['grade'].info"
   ]
  },
  {
   "cell_type": "code",
   "execution_count": null,
   "id": "813eaf29-66b7-4113-80c9-fbd8c1d0d3af",
   "metadata": {},
   "outputs": [],
   "source": [
    "len(mpg[mpg['total']>=30])"
   ]
  },
  {
   "cell_type": "code",
   "execution_count": null,
   "id": "6a793f66-9553-44fe-819a-17a78eb4f83d",
   "metadata": {},
   "outputs": [],
   "source": [
    "len(mpg[mpg['total']>=20])"
   ]
  },
  {
   "cell_type": "code",
   "execution_count": null,
   "id": "2c6e374e-1380-41b5-b293-ed3cce2db91b",
   "metadata": {},
   "outputs": [],
   "source": [
    "len(mpg[mpg['total']<20])"
   ]
  },
  {
   "cell_type": "code",
   "execution_count": null,
   "id": "4eadb9f5-a435-491c-89ef-ba0c562e2478",
   "metadata": {},
   "outputs": [],
   "source": [
    "import numpy as np"
   ]
  },
  {
   "cell_type": "code",
   "execution_count": null,
   "id": "8cda0999-97d4-49f8-9c1d-a0115e17ce5f",
   "metadata": {},
   "outputs": [],
   "source": [
    "###"
   ]
  },
  {
   "cell_type": "code",
   "execution_count": null,
   "id": "cf840b28-ddb6-4443-8a0f-03ab797a1f01",
   "metadata": {},
   "outputs": [],
   "source": [
    "mpg['test2']=np.where(mpg['total']>20,'PASS', 'FAIL')"
   ]
  },
  {
   "cell_type": "code",
   "execution_count": null,
   "id": "af29e36d-3ce3-43b6-91f5-5b72e8b493a3",
   "metadata": {},
   "outputs": [],
   "source": [
    "mpg['grade2']=np.where(mpg['total']>30,'A',\n",
    "              np.where(mpg['total']>=20, 'B',\n",
    "              np.where(mpg['total']>10,'C','D')))"
   ]
  },
  {
   "cell_type": "code",
   "execution_count": null,
   "id": "2dd803de-7a47-478f-9e7c-f62f55731e1f",
   "metadata": {},
   "outputs": [],
   "source": [
    "mpg['test']"
   ]
  },
  {
   "cell_type": "code",
   "execution_count": null,
   "id": "0ba0784f-8853-4585-a174-17ce3abe90b4",
   "metadata": {},
   "outputs": [],
   "source": [
    "mpg['grade2']"
   ]
  },
  {
   "cell_type": "code",
   "execution_count": null,
   "id": "e90c61d8-7858-450e-a7b0-5936f2240c2a",
   "metadata": {},
   "outputs": [],
   "source": [
    "mpg['grade2'].value_counts()"
   ]
  },
  {
   "cell_type": "code",
   "execution_count": null,
   "id": "44e0ba1a-d917-40a3-8d1c-889fb3649beb",
   "metadata": {},
   "outputs": [],
   "source": [
    "#### np.where(시리즈 조건문 ,"
   ]
  },
  {
   "cell_type": "code",
   "execution_count": null,
   "id": "aaf8aeea-f6c5-46f6-8c28-c8b304363a9d",
   "metadata": {},
   "outputs": [],
   "source": [
    "mpg['grade3']=np.where(mpg['total']>=30,'A',\n",
    "              np.where(mpg['total']>=20,'B','C'))"
   ]
  },
  {
   "cell_type": "code",
   "execution_count": null,
   "id": "93e010a1-23bc-4d9c-9f45-a2f69f999b47",
   "metadata": {},
   "outputs": [],
   "source": [
    "mpg['grade3']"
   ]
  },
  {
   "cell_type": "code",
   "execution_count": null,
   "id": "bb1df87e-5efa-498b-a76a-ebf2a9952526",
   "metadata": {},
   "outputs": [],
   "source": [
    "mpg['grade3'].value_counts().sort_values()"
   ]
  },
  {
   "cell_type": "code",
   "execution_count": null,
   "id": "17f162a4-ad81-4fd2-a843-9b6aded8c88a",
   "metadata": {},
   "outputs": [],
   "source": [
    "mpg['eco']=np.where(mpg['displ']<=1.5,'좋음',\n",
    "           np.where(mpg['displ']>2.0,'나쁨','C'))"
   ]
  },
  {
   "cell_type": "code",
   "execution_count": null,
   "id": "3f37b67f-0118-40da-809b-6bc2f55cdeac",
   "metadata": {},
   "outputs": [],
   "source": [
    "mpg['eco'].value_counts()"
   ]
  },
  {
   "cell_type": "code",
   "execution_count": null,
   "id": "f64ba034-cd43-4b0a-84a9-2689b5170345",
   "metadata": {},
   "outputs": [],
   "source": [
    "len(mpg[mpg['displ']<=1.5])"
   ]
  },
  {
   "cell_type": "markdown",
   "id": "38f89348-324e-4cdb-9c8e-6cf8ddf5c760",
   "metadata": {},
   "source": [
    " ###   class-> compact, subcompact, 2seater->small /large"
   ]
  },
  {
   "cell_type": "code",
   "execution_count": null,
   "id": "9fca9498-8c41-4c31-b149-c1c780b4f4fc",
   "metadata": {},
   "outputs": [],
   "source": [
    "def SZ(t):\n",
    "    if (t == 'compact') or (t == 'subcompact') or t == ('2seater'):\n",
    "        print( \"SMALL\")\n",
    "    else:\n",
    "        print( \"LARGE\")\n",
    "        "
   ]
  },
  {
   "cell_type": "code",
   "execution_count": null,
   "id": "842f6328-f459-439a-8d9a-d14a98f4ad6f",
   "metadata": {},
   "outputs": [],
   "source": [
    "def SZ1(t):\n",
    "    if t in ['compact','subcompact','2seater']:\n",
    "        return 'SMALL'\n",
    "    else:\n",
    "        return \"LARGE\""
   ]
  },
  {
   "cell_type": "code",
   "execution_count": null,
   "id": "e820e5f8-7a89-4218-957f-2f4581ebf75b",
   "metadata": {},
   "outputs": [],
   "source": [
    "mpg['class'].apply(SZ1)"
   ]
  },
  {
   "cell_type": "code",
   "execution_count": null,
   "id": "aeac3714-2244-4753-9437-6c2319554a2e",
   "metadata": {},
   "outputs": [],
   "source": [
    "siz_1=mpg['class'].apply(SZ1)"
   ]
  },
  {
   "cell_type": "code",
   "execution_count": null,
   "id": "c073b7c4-8b15-4fbf-b255-db6a8b8aa640",
   "metadata": {},
   "outputs": [],
   "source": [
    "siz_1.value_counts()"
   ]
  },
  {
   "cell_type": "code",
   "execution_count": null,
   "id": "2bbbe49c-08e6-41aa-be3b-874a2207f1e5",
   "metadata": {},
   "outputs": [],
   "source": [
    "mpg['size2']=np.where(mpg['class'].isin(['compact','subcompact','2seater']),'SMALL','LARGE')\n",
    "                  "
   ]
  },
  {
   "cell_type": "code",
   "execution_count": null,
   "id": "c2c955bb-ad63-4504-93eb-627be6a1f42f",
   "metadata": {},
   "outputs": [],
   "source": [
    "mpg['size2'].value_counts()"
   ]
  },
  {
   "cell_type": "code",
   "execution_count": null,
   "id": "b5e9248e-8deb-4a74-a324-dbca57eb4958",
   "metadata": {},
   "outputs": [],
   "source": [
    "len(mpg[mpg['class'].isin(['compact','subcompact','2seater'])])"
   ]
  },
  {
   "cell_type": "code",
   "execution_count": null,
   "id": "278637de-e688-4ee5-b273-f5e71b396d84",
   "metadata": {
    "tags": []
   },
   "outputs": [],
   "source": [
    "mpg['size3']=np.where(mpg['class']=='compact'\n",
    "                    "
   ]
  },
  {
   "cell_type": "code",
   "execution_count": 22,
   "id": "1858908f-2dce-45e4-95da-0cf0a96c30e0",
   "metadata": {},
   "outputs": [],
   "source": [
    "import pandas as pd"
   ]
  },
  {
   "cell_type": "code",
   "execution_count": 56,
   "id": "f62261c1-b543-46e1-be36-e12b4540c610",
   "metadata": {},
   "outputs": [],
   "source": [
    "data_1=pd.read_csv('midwest.csv')"
   ]
  },
  {
   "cell_type": "code",
   "execution_count": 57,
   "id": "978645c2-29ca-43eb-bd71-223a2a3dc600",
   "metadata": {},
   "outputs": [],
   "source": [
    "a = 1"
   ]
  },
  {
   "cell_type": "code",
   "execution_count": 58,
   "id": "2cd7e951-81c7-48f5-bd8a-d84ac51d678e",
   "metadata": {},
   "outputs": [],
   "source": [
    "a = 3\n",
    "a = 2"
   ]
  },
  {
   "cell_type": "code",
   "execution_count": 59,
   "id": "708c15b6-732c-45b9-a4ac-6ffcce83900c",
   "metadata": {},
   "outputs": [
    {
     "data": {
      "text/plain": [
       "2"
      ]
     },
     "execution_count": 59,
     "metadata": {},
     "output_type": "execute_result"
    }
   ],
   "source": [
    "a"
   ]
  },
  {
   "cell_type": "code",
   "execution_count": 60,
   "id": "72b76fa3-005c-4143-a3fb-a84899a0b293",
   "metadata": {
    "tags": []
   },
   "outputs": [
    {
     "data": {
      "text/html": [
       "<div>\n",
       "<style scoped>\n",
       "    .dataframe tbody tr th:only-of-type {\n",
       "        vertical-align: middle;\n",
       "    }\n",
       "\n",
       "    .dataframe tbody tr th {\n",
       "        vertical-align: top;\n",
       "    }\n",
       "\n",
       "    .dataframe thead th {\n",
       "        text-align: right;\n",
       "    }\n",
       "</style>\n",
       "<table border=\"1\" class=\"dataframe\">\n",
       "  <thead>\n",
       "    <tr style=\"text-align: right;\">\n",
       "      <th></th>\n",
       "      <th>PID</th>\n",
       "      <th>county</th>\n",
       "      <th>state</th>\n",
       "      <th>area</th>\n",
       "      <th>poptotal</th>\n",
       "      <th>popdensity</th>\n",
       "      <th>popwhite</th>\n",
       "      <th>popblack</th>\n",
       "      <th>popamerindian</th>\n",
       "      <th>popasian</th>\n",
       "      <th>...</th>\n",
       "      <th>percollege</th>\n",
       "      <th>percprof</th>\n",
       "      <th>poppovertyknown</th>\n",
       "      <th>percpovertyknown</th>\n",
       "      <th>percbelowpoverty</th>\n",
       "      <th>percchildbelowpovert</th>\n",
       "      <th>percadultpoverty</th>\n",
       "      <th>percelderlypoverty</th>\n",
       "      <th>inmetro</th>\n",
       "      <th>category</th>\n",
       "    </tr>\n",
       "  </thead>\n",
       "  <tbody>\n",
       "    <tr>\n",
       "      <th>0</th>\n",
       "      <td>561</td>\n",
       "      <td>ADAMS</td>\n",
       "      <td>IL</td>\n",
       "      <td>0.052</td>\n",
       "      <td>66090</td>\n",
       "      <td>1270.961540</td>\n",
       "      <td>63917</td>\n",
       "      <td>1702</td>\n",
       "      <td>98</td>\n",
       "      <td>249</td>\n",
       "      <td>...</td>\n",
       "      <td>19.631392</td>\n",
       "      <td>4.355859</td>\n",
       "      <td>63628</td>\n",
       "      <td>96.274777</td>\n",
       "      <td>13.151443</td>\n",
       "      <td>18.011717</td>\n",
       "      <td>11.009776</td>\n",
       "      <td>12.443812</td>\n",
       "      <td>0</td>\n",
       "      <td>AAR</td>\n",
       "    </tr>\n",
       "    <tr>\n",
       "      <th>1</th>\n",
       "      <td>562</td>\n",
       "      <td>ALEXANDER</td>\n",
       "      <td>IL</td>\n",
       "      <td>0.014</td>\n",
       "      <td>10626</td>\n",
       "      <td>759.000000</td>\n",
       "      <td>7054</td>\n",
       "      <td>3496</td>\n",
       "      <td>19</td>\n",
       "      <td>48</td>\n",
       "      <td>...</td>\n",
       "      <td>11.243308</td>\n",
       "      <td>2.870315</td>\n",
       "      <td>10529</td>\n",
       "      <td>99.087145</td>\n",
       "      <td>32.244278</td>\n",
       "      <td>45.826514</td>\n",
       "      <td>27.385647</td>\n",
       "      <td>25.228976</td>\n",
       "      <td>0</td>\n",
       "      <td>LHR</td>\n",
       "    </tr>\n",
       "    <tr>\n",
       "      <th>2</th>\n",
       "      <td>563</td>\n",
       "      <td>BOND</td>\n",
       "      <td>IL</td>\n",
       "      <td>0.022</td>\n",
       "      <td>14991</td>\n",
       "      <td>681.409091</td>\n",
       "      <td>14477</td>\n",
       "      <td>429</td>\n",
       "      <td>35</td>\n",
       "      <td>16</td>\n",
       "      <td>...</td>\n",
       "      <td>17.033819</td>\n",
       "      <td>4.488572</td>\n",
       "      <td>14235</td>\n",
       "      <td>94.956974</td>\n",
       "      <td>12.068844</td>\n",
       "      <td>14.036061</td>\n",
       "      <td>10.852090</td>\n",
       "      <td>12.697410</td>\n",
       "      <td>0</td>\n",
       "      <td>AAR</td>\n",
       "    </tr>\n",
       "    <tr>\n",
       "      <th>3</th>\n",
       "      <td>564</td>\n",
       "      <td>BOONE</td>\n",
       "      <td>IL</td>\n",
       "      <td>0.017</td>\n",
       "      <td>30806</td>\n",
       "      <td>1812.117650</td>\n",
       "      <td>29344</td>\n",
       "      <td>127</td>\n",
       "      <td>46</td>\n",
       "      <td>150</td>\n",
       "      <td>...</td>\n",
       "      <td>17.278954</td>\n",
       "      <td>4.197800</td>\n",
       "      <td>30337</td>\n",
       "      <td>98.477569</td>\n",
       "      <td>7.209019</td>\n",
       "      <td>11.179536</td>\n",
       "      <td>5.536013</td>\n",
       "      <td>6.217047</td>\n",
       "      <td>1</td>\n",
       "      <td>ALU</td>\n",
       "    </tr>\n",
       "    <tr>\n",
       "      <th>4</th>\n",
       "      <td>565</td>\n",
       "      <td>BROWN</td>\n",
       "      <td>IL</td>\n",
       "      <td>0.018</td>\n",
       "      <td>5836</td>\n",
       "      <td>324.222222</td>\n",
       "      <td>5264</td>\n",
       "      <td>547</td>\n",
       "      <td>14</td>\n",
       "      <td>5</td>\n",
       "      <td>...</td>\n",
       "      <td>14.475999</td>\n",
       "      <td>3.367680</td>\n",
       "      <td>4815</td>\n",
       "      <td>82.505140</td>\n",
       "      <td>13.520249</td>\n",
       "      <td>13.022889</td>\n",
       "      <td>11.143211</td>\n",
       "      <td>19.200000</td>\n",
       "      <td>0</td>\n",
       "      <td>AAR</td>\n",
       "    </tr>\n",
       "    <tr>\n",
       "      <th>...</th>\n",
       "      <td>...</td>\n",
       "      <td>...</td>\n",
       "      <td>...</td>\n",
       "      <td>...</td>\n",
       "      <td>...</td>\n",
       "      <td>...</td>\n",
       "      <td>...</td>\n",
       "      <td>...</td>\n",
       "      <td>...</td>\n",
       "      <td>...</td>\n",
       "      <td>...</td>\n",
       "      <td>...</td>\n",
       "      <td>...</td>\n",
       "      <td>...</td>\n",
       "      <td>...</td>\n",
       "      <td>...</td>\n",
       "      <td>...</td>\n",
       "      <td>...</td>\n",
       "      <td>...</td>\n",
       "      <td>...</td>\n",
       "      <td>...</td>\n",
       "    </tr>\n",
       "    <tr>\n",
       "      <th>432</th>\n",
       "      <td>3048</td>\n",
       "      <td>WAUKESHA</td>\n",
       "      <td>WI</td>\n",
       "      <td>0.034</td>\n",
       "      <td>304715</td>\n",
       "      <td>8962.205880</td>\n",
       "      <td>298313</td>\n",
       "      <td>1096</td>\n",
       "      <td>672</td>\n",
       "      <td>2699</td>\n",
       "      <td>...</td>\n",
       "      <td>35.396784</td>\n",
       "      <td>7.667090</td>\n",
       "      <td>299802</td>\n",
       "      <td>98.387674</td>\n",
       "      <td>3.121060</td>\n",
       "      <td>3.785820</td>\n",
       "      <td>2.590061</td>\n",
       "      <td>4.085479</td>\n",
       "      <td>1</td>\n",
       "      <td>HLU</td>\n",
       "    </tr>\n",
       "    <tr>\n",
       "      <th>433</th>\n",
       "      <td>3049</td>\n",
       "      <td>WAUPACA</td>\n",
       "      <td>WI</td>\n",
       "      <td>0.045</td>\n",
       "      <td>46104</td>\n",
       "      <td>1024.533330</td>\n",
       "      <td>45695</td>\n",
       "      <td>22</td>\n",
       "      <td>125</td>\n",
       "      <td>92</td>\n",
       "      <td>...</td>\n",
       "      <td>16.549869</td>\n",
       "      <td>3.138596</td>\n",
       "      <td>44412</td>\n",
       "      <td>96.330036</td>\n",
       "      <td>8.488697</td>\n",
       "      <td>10.071411</td>\n",
       "      <td>6.953799</td>\n",
       "      <td>10.338641</td>\n",
       "      <td>0</td>\n",
       "      <td>AAR</td>\n",
       "    </tr>\n",
       "    <tr>\n",
       "      <th>434</th>\n",
       "      <td>3050</td>\n",
       "      <td>WAUSHARA</td>\n",
       "      <td>WI</td>\n",
       "      <td>0.037</td>\n",
       "      <td>19385</td>\n",
       "      <td>523.918919</td>\n",
       "      <td>19094</td>\n",
       "      <td>29</td>\n",
       "      <td>70</td>\n",
       "      <td>43</td>\n",
       "      <td>...</td>\n",
       "      <td>15.064584</td>\n",
       "      <td>2.620907</td>\n",
       "      <td>19163</td>\n",
       "      <td>98.854785</td>\n",
       "      <td>13.786985</td>\n",
       "      <td>20.050708</td>\n",
       "      <td>11.695784</td>\n",
       "      <td>11.804558</td>\n",
       "      <td>0</td>\n",
       "      <td>AAR</td>\n",
       "    </tr>\n",
       "    <tr>\n",
       "      <th>435</th>\n",
       "      <td>3051</td>\n",
       "      <td>WINNEBAGO</td>\n",
       "      <td>WI</td>\n",
       "      <td>0.035</td>\n",
       "      <td>140320</td>\n",
       "      <td>4009.142860</td>\n",
       "      <td>136822</td>\n",
       "      <td>697</td>\n",
       "      <td>685</td>\n",
       "      <td>1728</td>\n",
       "      <td>...</td>\n",
       "      <td>24.995504</td>\n",
       "      <td>5.659847</td>\n",
       "      <td>133950</td>\n",
       "      <td>95.460376</td>\n",
       "      <td>8.804031</td>\n",
       "      <td>10.592031</td>\n",
       "      <td>8.660587</td>\n",
       "      <td>6.661094</td>\n",
       "      <td>1</td>\n",
       "      <td>HAU</td>\n",
       "    </tr>\n",
       "    <tr>\n",
       "      <th>436</th>\n",
       "      <td>3052</td>\n",
       "      <td>WOOD</td>\n",
       "      <td>WI</td>\n",
       "      <td>0.048</td>\n",
       "      <td>73605</td>\n",
       "      <td>1533.437500</td>\n",
       "      <td>72157</td>\n",
       "      <td>90</td>\n",
       "      <td>481</td>\n",
       "      <td>722</td>\n",
       "      <td>...</td>\n",
       "      <td>21.666382</td>\n",
       "      <td>4.583725</td>\n",
       "      <td>72685</td>\n",
       "      <td>98.750085</td>\n",
       "      <td>8.525831</td>\n",
       "      <td>11.162997</td>\n",
       "      <td>7.375656</td>\n",
       "      <td>7.882918</td>\n",
       "      <td>0</td>\n",
       "      <td>AAR</td>\n",
       "    </tr>\n",
       "  </tbody>\n",
       "</table>\n",
       "<p>437 rows × 28 columns</p>\n",
       "</div>"
      ],
      "text/plain": [
       "      PID     county state   area  poptotal   popdensity  popwhite  popblack  \\\n",
       "0     561      ADAMS    IL  0.052     66090  1270.961540     63917      1702   \n",
       "1     562  ALEXANDER    IL  0.014     10626   759.000000      7054      3496   \n",
       "2     563       BOND    IL  0.022     14991   681.409091     14477       429   \n",
       "3     564      BOONE    IL  0.017     30806  1812.117650     29344       127   \n",
       "4     565      BROWN    IL  0.018      5836   324.222222      5264       547   \n",
       "..    ...        ...   ...    ...       ...          ...       ...       ...   \n",
       "432  3048   WAUKESHA    WI  0.034    304715  8962.205880    298313      1096   \n",
       "433  3049    WAUPACA    WI  0.045     46104  1024.533330     45695        22   \n",
       "434  3050   WAUSHARA    WI  0.037     19385   523.918919     19094        29   \n",
       "435  3051  WINNEBAGO    WI  0.035    140320  4009.142860    136822       697   \n",
       "436  3052       WOOD    WI  0.048     73605  1533.437500     72157        90   \n",
       "\n",
       "     popamerindian  popasian  ...  percollege  percprof  poppovertyknown  \\\n",
       "0               98       249  ...   19.631392  4.355859            63628   \n",
       "1               19        48  ...   11.243308  2.870315            10529   \n",
       "2               35        16  ...   17.033819  4.488572            14235   \n",
       "3               46       150  ...   17.278954  4.197800            30337   \n",
       "4               14         5  ...   14.475999  3.367680             4815   \n",
       "..             ...       ...  ...         ...       ...              ...   \n",
       "432            672      2699  ...   35.396784  7.667090           299802   \n",
       "433            125        92  ...   16.549869  3.138596            44412   \n",
       "434             70        43  ...   15.064584  2.620907            19163   \n",
       "435            685      1728  ...   24.995504  5.659847           133950   \n",
       "436            481       722  ...   21.666382  4.583725            72685   \n",
       "\n",
       "     percpovertyknown  percbelowpoverty  percchildbelowpovert  \\\n",
       "0           96.274777         13.151443             18.011717   \n",
       "1           99.087145         32.244278             45.826514   \n",
       "2           94.956974         12.068844             14.036061   \n",
       "3           98.477569          7.209019             11.179536   \n",
       "4           82.505140         13.520249             13.022889   \n",
       "..                ...               ...                   ...   \n",
       "432         98.387674          3.121060              3.785820   \n",
       "433         96.330036          8.488697             10.071411   \n",
       "434         98.854785         13.786985             20.050708   \n",
       "435         95.460376          8.804031             10.592031   \n",
       "436         98.750085          8.525831             11.162997   \n",
       "\n",
       "     percadultpoverty  percelderlypoverty  inmetro  category  \n",
       "0           11.009776           12.443812        0       AAR  \n",
       "1           27.385647           25.228976        0       LHR  \n",
       "2           10.852090           12.697410        0       AAR  \n",
       "3            5.536013            6.217047        1       ALU  \n",
       "4           11.143211           19.200000        0       AAR  \n",
       "..                ...                 ...      ...       ...  \n",
       "432          2.590061            4.085479        1       HLU  \n",
       "433          6.953799           10.338641        0       AAR  \n",
       "434         11.695784           11.804558        0       AAR  \n",
       "435          8.660587            6.661094        1       HAU  \n",
       "436          7.375656            7.882918        0       AAR  \n",
       "\n",
       "[437 rows x 28 columns]"
      ]
     },
     "execution_count": 60,
     "metadata": {},
     "output_type": "execute_result"
    }
   ],
   "source": [
    "pd.DataFrame(data_1)"
   ]
  },
  {
   "cell_type": "code",
   "execution_count": 61,
   "id": "542b857d-6adf-4245-9e5c-8aa628cfbac7",
   "metadata": {},
   "outputs": [],
   "source": [
    "Data_1=data_1.rename({'poptotal':'total','popasian':'asian'}, axis=1,inplace=True)\n",
    "Data_1=data_1.rename({'poptotal':'total','popasian':'asian'}, axis=1)\n"
   ]
  },
  {
   "cell_type": "code",
   "execution_count": 62,
   "id": "e6542511-96be-4ef3-abc6-927b0069c356",
   "metadata": {
    "tags": []
   },
   "outputs": [
    {
     "name": "stdout",
     "output_type": "stream",
     "text": [
      "<class 'pandas.core.frame.DataFrame'>\n",
      "RangeIndex: 437 entries, 0 to 436\n",
      "Data columns (total 28 columns):\n",
      " #   Column                Non-Null Count  Dtype  \n",
      "---  ------                --------------  -----  \n",
      " 0   PID                   437 non-null    int64  \n",
      " 1   county                437 non-null    object \n",
      " 2   state                 437 non-null    object \n",
      " 3   area                  437 non-null    float64\n",
      " 4   total                 437 non-null    int64  \n",
      " 5   popdensity            437 non-null    float64\n",
      " 6   popwhite              437 non-null    int64  \n",
      " 7   popblack              437 non-null    int64  \n",
      " 8   popamerindian         437 non-null    int64  \n",
      " 9   asian                 437 non-null    int64  \n",
      " 10  popother              437 non-null    int64  \n",
      " 11  percwhite             437 non-null    float64\n",
      " 12  percblack             437 non-null    float64\n",
      " 13  percamerindan         437 non-null    float64\n",
      " 14  percasian             437 non-null    float64\n",
      " 15  percother             437 non-null    float64\n",
      " 16  popadults             437 non-null    int64  \n",
      " 17  perchsd               437 non-null    float64\n",
      " 18  percollege            437 non-null    float64\n",
      " 19  percprof              437 non-null    float64\n",
      " 20  poppovertyknown       437 non-null    int64  \n",
      " 21  percpovertyknown      437 non-null    float64\n",
      " 22  percbelowpoverty      437 non-null    float64\n",
      " 23  percchildbelowpovert  437 non-null    float64\n",
      " 24  percadultpoverty      437 non-null    float64\n",
      " 25  percelderlypoverty    437 non-null    float64\n",
      " 26  inmetro               437 non-null    int64  \n",
      " 27  category              437 non-null    object \n",
      "dtypes: float64(15), int64(10), object(3)\n",
      "memory usage: 95.7+ KB\n"
     ]
    }
   ],
   "source": [
    "Data_1.info()"
   ]
  },
  {
   "cell_type": "code",
   "execution_count": 64,
   "id": "2a4a9bab-6ad2-4767-979f-c958aa3cb9a3",
   "metadata": {},
   "outputs": [],
   "source": [
    "Data_1['percent']=(Data_1['asian']/Data_1['total'])*100"
   ]
  },
  {
   "cell_type": "code",
   "execution_count": 65,
   "id": "c3e802ed-80e9-4d9e-b35d-b8cff0d89684",
   "metadata": {},
   "outputs": [
    {
     "data": {
      "text/plain": [
       "0       66090\n",
       "1       10626\n",
       "2       14991\n",
       "3       30806\n",
       "4        5836\n",
       "        ...  \n",
       "432    304715\n",
       "433     46104\n",
       "434     19385\n",
       "435    140320\n",
       "436     73605\n",
       "Name: total, Length: 437, dtype: int64"
      ]
     },
     "execution_count": 65,
     "metadata": {},
     "output_type": "execute_result"
    }
   ],
   "source": [
    "Data_1['total']"
   ]
  },
  {
   "cell_type": "code",
   "execution_count": 66,
   "id": "3c7222de-cebf-458d-9579-87e5c1204ffb",
   "metadata": {},
   "outputs": [
    {
     "data": {
      "text/plain": [
       "0.48724618343573406"
      ]
     },
     "execution_count": 66,
     "metadata": {},
     "output_type": "execute_result"
    }
   ],
   "source": [
    "Data_1['percent'].mean()"
   ]
  },
  {
   "cell_type": "code",
   "execution_count": 74,
   "id": "bf74551a-f77b-482a-8255-a461f3309df7",
   "metadata": {},
   "outputs": [],
   "source": [
    "import numpy as np"
   ]
  },
  {
   "cell_type": "code",
   "execution_count": 75,
   "id": "7dc88e30-b1ef-46be-8b4a-cfc3ecf35644",
   "metadata": {},
   "outputs": [],
   "source": [
    "Data_1['size']=np.where(Data_1['percent']>Data_1['percent'].mean(),'LARGE','small')"
   ]
  },
  {
   "cell_type": "code",
   "execution_count": 76,
   "id": "223f2a39-c893-472e-9e33-a41b8a3d1ce2",
   "metadata": {},
   "outputs": [
    {
     "data": {
      "text/plain": [
       "0      small\n",
       "1      small\n",
       "2      small\n",
       "3      small\n",
       "4      small\n",
       "       ...  \n",
       "432    LARGE\n",
       "433    small\n",
       "434    small\n",
       "435    LARGE\n",
       "436    LARGE\n",
       "Name: size, Length: 437, dtype: object"
      ]
     },
     "execution_count": 76,
     "metadata": {},
     "output_type": "execute_result"
    }
   ],
   "source": [
    "Data_1['size']"
   ]
  },
  {
   "cell_type": "code",
   "execution_count": 67,
   "id": "cb9a7820-b980-44c3-8168-2edb8e1930a8",
   "metadata": {},
   "outputs": [],
   "source": [
    "def issize(percent,mean):\n",
    "    if percent> mean:\n",
    "        return 'LARGE'\n",
    "    return 'SMALL'\n"
   ]
  },
  {
   "cell_type": "code",
   "execution_count": 69,
   "id": "5546259b-9859-4652-b008-a18232e4b12a",
   "metadata": {},
   "outputs": [
    {
     "data": {
      "text/plain": [
       "0      SMALL\n",
       "1      SMALL\n",
       "2      SMALL\n",
       "3      SMALL\n",
       "4      SMALL\n",
       "       ...  \n",
       "432    LARGE\n",
       "433    SMALL\n",
       "434    SMALL\n",
       "435    LARGE\n",
       "436    LARGE\n",
       "Name: percent, Length: 437, dtype: object"
      ]
     },
     "execution_count": 69,
     "metadata": {},
     "output_type": "execute_result"
    }
   ],
   "source": [
    "Data_1['percent'].apply(issize, args=[Data_1['percent'].mean()])"
   ]
  },
  {
   "cell_type": "code",
   "execution_count": 70,
   "id": "6b8db1b9-addb-49b0-af10-37409b563de4",
   "metadata": {},
   "outputs": [],
   "source": [
    "Data_2=Data_1['percent'].apply(issize, args=[Data_1['percent'].mean()])"
   ]
  },
  {
   "cell_type": "code",
   "execution_count": 72,
   "id": "6d610b04-6d74-4d9c-9f1d-3543daec3b40",
   "metadata": {},
   "outputs": [
    {
     "data": {
      "text/plain": [
       "SMALL    318\n",
       "LARGE    119\n",
       "Name: percent, dtype: int64"
      ]
     },
     "execution_count": 72,
     "metadata": {},
     "output_type": "execute_result"
    }
   ],
   "source": [
    "Data_2.value_counts()"
   ]
  },
  {
   "cell_type": "code",
   "execution_count": null,
   "id": "c8c05ffe-e849-4e83-9a70-4a43690f8440",
   "metadata": {},
   "outputs": [],
   "source": [
    ",'asian_per'"
   ]
  }
 ],
 "metadata": {
  "kernelspec": {
   "display_name": "Python 3 (ipykernel)",
   "language": "python",
   "name": "python3"
  },
  "language_info": {
   "codemirror_mode": {
    "name": "ipython",
    "version": 3
   },
   "file_extension": ".py",
   "mimetype": "text/x-python",
   "name": "python",
   "nbconvert_exporter": "python",
   "pygments_lexer": "ipython3",
   "version": "3.9.12"
  }
 },
 "nbformat": 4,
 "nbformat_minor": 5
}
