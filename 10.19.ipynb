{
 "cells": [
  {
   "cell_type": "markdown",
   "id": "159d3229-d777-42fe-8b9e-076125b130bb",
   "metadata": {},
   "source": [
    "### For문"
   ]
  },
  {
   "cell_type": "code",
   "execution_count": 1,
   "id": "0a32b464-d350-4969-960b-0e4c7cf583d4",
   "metadata": {},
   "outputs": [
    {
     "data": {
      "text/plain": [
       "range(1, 10)"
      ]
     },
     "execution_count": 1,
     "metadata": {},
     "output_type": "execute_result"
    }
   ],
   "source": [
    "range(1, 10)##10은 빠진다!"
   ]
  },
  {
   "cell_type": "code",
   "execution_count": 2,
   "id": "65510031-b1be-42fe-bed7-96ed13f70d50",
   "metadata": {},
   "outputs": [
    {
     "data": {
      "text/plain": [
       "[1, 2, 3, 4, 5, 6, 7, 8, 9]"
      ]
     },
     "execution_count": 2,
     "metadata": {},
     "output_type": "execute_result"
    }
   ],
   "source": [
    "list(range(1, 10))"
   ]
  },
  {
   "cell_type": "code",
   "execution_count": 3,
   "id": "aa874e33-fc41-4ad8-b43a-ae9c1995cb55",
   "metadata": {},
   "outputs": [
    {
     "data": {
      "text/plain": [
       "[1, 2, 3, 4, 5, 6, 7, 8, 9, 10]"
      ]
     },
     "execution_count": 3,
     "metadata": {},
     "output_type": "execute_result"
    }
   ],
   "source": [
    "list(range(1,11))"
   ]
  },
  {
   "cell_type": "code",
   "execution_count": 4,
   "id": "bd8f0dc7-e457-4e53-b458-512b213a21ea",
   "metadata": {},
   "outputs": [
    {
     "data": {
      "text/plain": [
       "[1, 3, 5, 7, 9]"
      ]
     },
     "execution_count": 4,
     "metadata": {},
     "output_type": "execute_result"
    }
   ],
   "source": [
    "list(range(1,11,2))"
   ]
  },
  {
   "cell_type": "code",
   "execution_count": 5,
   "id": "889b6374-eff2-4d04-83a5-09c8e1ac0dfe",
   "metadata": {},
   "outputs": [
    {
     "data": {
      "text/plain": [
       "[0, 1, 2, 3, 4, 5, 6, 7, 8, 9]"
      ]
     },
     "execution_count": 5,
     "metadata": {},
     "output_type": "execute_result"
    }
   ],
   "source": [
    "list(range(10))##0부터 시작해서 10개를 출력한다\"\n"
   ]
  },
  {
   "cell_type": "code",
   "execution_count": 2,
   "id": "1d1c8d4a-471d-43b9-801f-7a9e6089037c",
   "metadata": {},
   "outputs": [
    {
     "name": "stdout",
     "output_type": "stream",
     "text": [
      "0\n",
      "1\n",
      "2\n",
      "3\n"
     ]
    }
   ],
   "source": [
    "for i in [0,1,2,3]:##반복문\n",
    "    print(i)"
   ]
  },
  {
   "cell_type": "code",
   "execution_count": 3,
   "id": "cdaab2ec-c16a-4b14-972f-897d17723ee8",
   "metadata": {},
   "outputs": [
    {
     "name": "stdout",
     "output_type": "stream",
     "text": [
      "0\n",
      "1\n",
      "2\n",
      "3\n"
     ]
    }
   ],
   "source": [
    "for i in range(4):##range 이용도 가능\n",
    "    print(i)"
   ]
  },
  {
   "cell_type": "code",
   "execution_count": 4,
   "id": "6a99eb3e-8d6d-4b68-a4a7-9c2bf4e61fa4",
   "metadata": {},
   "outputs": [
    {
     "name": "stdout",
     "output_type": "stream",
     "text": [
      "1\n",
      "2\n",
      "3\n",
      "4\n"
     ]
    }
   ],
   "source": [
    "for i in (1,2,3,4):##튜플도 가능\n",
    "    print(i)"
   ]
  },
  {
   "cell_type": "code",
   "execution_count": 5,
   "id": "d86c079c-a322-44cc-9ed9-a80e3727e58d",
   "metadata": {},
   "outputs": [
    {
     "name": "stdout",
     "output_type": "stream",
     "text": [
      "a\n",
      "b\n",
      "c\n",
      "d\n",
      "e\n"
     ]
    }
   ],
   "source": [
    "for i in 'abcde': ##문자열도 가능\n",
    "    print(i)"
   ]
  },
  {
   "cell_type": "code",
   "execution_count": 6,
   "id": "e84140ac-71e0-42f7-9591-9e50f8830cc8",
   "metadata": {},
   "outputs": [],
   "source": [
    "gender_list=[0,0,1,1,1]"
   ]
  },
  {
   "cell_type": "code",
   "execution_count": 7,
   "id": "dcc51c62-a584-4f26-b80a-a16a77df3032",
   "metadata": {},
   "outputs": [
    {
     "name": "stdout",
     "output_type": "stream",
     "text": [
      "0\n",
      "남성\n",
      "0\n",
      "남성\n",
      "1\n",
      "여성\n",
      "1\n",
      "여성\n",
      "1\n",
      "여성\n"
     ]
    }
   ],
   "source": [
    "\n",
    "for gender in gender_list:\n",
    "    print(gender)\n",
    "    if gender==0:\n",
    "        print('남성')\n",
    "    else:\n",
    "        print('여성') \n"
   ]
  },
  {
   "cell_type": "code",
   "execution_count": 8,
   "id": "555e90ff-128d-4e58-b3a2-5f222529e454",
   "metadata": {},
   "outputs": [],
   "source": [
    "if i==0:\n",
    "    print('남성')\n",
    "elif i==1:\n",
    "    print('여성')"
   ]
  },
  {
   "cell_type": "code",
   "execution_count": 9,
   "id": "cfb4fa0d-8df5-4dfe-b653-2618db040055",
   "metadata": {},
   "outputs": [
    {
     "name": "stdout",
     "output_type": "stream",
     "text": [
      "1\n"
     ]
    }
   ],
   "source": [
    "print(gender)"
   ]
  },
  {
   "cell_type": "code",
   "execution_count": 10,
   "id": "54a34e0c-4aec-4f9a-9968-fa5fc585d5d9",
   "metadata": {},
   "outputs": [
    {
     "name": "stdout",
     "output_type": "stream",
     "text": [
      "1 남자\n",
      "2 남자\n",
      "3 여자\n",
      "4 여자\n",
      "5 여자\n"
     ]
    }
   ],
   "source": [
    "n=0\n",
    "for gender in gender_list:\n",
    "    n= n+1\n",
    "    if gender==0:\n",
    "        print(n,'남자')\n",
    "    else:\n",
    "        print(n,'여자')\n"
   ]
  },
  {
   "cell_type": "code",
   "execution_count": 11,
   "id": "25475a0e-a6cd-48df-b7ee-97b1b0593268",
   "metadata": {},
   "outputs": [
    {
     "data": {
      "text/plain": [
       "[(0, 4), (1, 5), (2, 6)]"
      ]
     },
     "execution_count": 11,
     "metadata": {},
     "output_type": "execute_result"
    }
   ],
   "source": [
    "list(enumerate([4,5,6]))"
   ]
  },
  {
   "cell_type": "code",
   "execution_count": 17,
   "id": "8e7333e8-80b9-41e9-9469-21346c8b822c",
   "metadata": {},
   "outputs": [
    {
     "name": "stdout",
     "output_type": "stream",
     "text": [
      "0 4\n",
      "1 5\n",
      "2 6\n"
     ]
    }
   ],
   "source": [
    "for i,j in enumerate([4,5,6]):\n",
    "    print(i,j)"
   ]
  },
  {
   "cell_type": "code",
   "execution_count": 13,
   "id": "612a70a3-f9c8-44d7-a414-ebaeea14dc86",
   "metadata": {},
   "outputs": [
    {
     "name": "stdout",
     "output_type": "stream",
     "text": [
      "1 남자\n",
      "2 남자\n",
      "3 여자\n",
      "4 여자\n",
      "5 여자\n"
     ]
    }
   ],
   "source": [
    "\n",
    "for num,gender in enumerate(gender_list):\n",
    "    \n",
    "    if gender==0:\n",
    "        print(num+1,'남자')\n",
    "    else:\n",
    "        print(num+1,'여자')"
   ]
  },
  {
   "cell_type": "code",
   "execution_count": 14,
   "id": "ebb91383-7c19-47e3-bf55-03b4d4ced966",
   "metadata": {},
   "outputs": [
    {
     "data": {
      "text/plain": [
       "[(0, 0), (1, 0), (2, 1), (3, 1), (4, 1)]"
      ]
     },
     "execution_count": 14,
     "metadata": {},
     "output_type": "execute_result"
    }
   ],
   "source": [
    "list(enumerate(gender_list))"
   ]
  },
  {
   "cell_type": "code",
   "execution_count": 15,
   "id": "d318cd61-cb8d-4899-8dc9-152eda8550eb",
   "metadata": {},
   "outputs": [],
   "source": [
    "##1부터 100까지의 합\n",
    "#ret=ret +i\n",
    "#ret += i"
   ]
  },
  {
   "cell_type": "code",
   "execution_count": 16,
   "id": "35c6d2d5-6e98-4b2a-a9c6-650bd23481a4",
   "metadata": {},
   "outputs": [
    {
     "name": "stdout",
     "output_type": "stream",
     "text": [
      "5050\n"
     ]
    }
   ],
   "source": [
    "ret=0\n",
    "for i in range(1,101):\n",
    "    ret += i\n",
    "print(ret)"
   ]
  },
  {
   "cell_type": "code",
   "execution_count": 21,
   "id": "a249e747-163b-4c48-a076-ac8b7e1dcd15",
   "metadata": {},
   "outputs": [],
   "source": []
  },
  {
   "cell_type": "code",
   "execution_count": 306,
   "id": "2ed7cb90-be5c-473b-80e9-560493d202ea",
   "metadata": {},
   "outputs": [
    {
     "name": "stdout",
     "output_type": "stream",
     "text": [
      "짝수: 2550 홀수: 2500\n"
     ]
    }
   ],
   "source": [
    "###1부터 100까지 짝수의 합, 홀수의 합\n",
    "odd=0\n",
    "even=0\n",
    "for i in range(1,101):\n",
    "    if i%2==0:\n",
    "        even+=i\n",
    "    else:\n",
    "        odd+=i\n",
    "            \n",
    "print('짝수:',even,'홀수:',odd)"
   ]
  },
  {
   "attachments": {},
   "cell_type": "markdown",
   "id": "eadf47c7",
   "metadata": {},
   "source": [
    "# 별 찍기"
   ]
  },
  {
   "cell_type": "code",
   "execution_count": 25,
   "id": "d1755e53-1bbf-4806-b5e9-352bb8dac7fd",
   "metadata": {},
   "outputs": [
    {
     "name": "stdout",
     "output_type": "stream",
     "text": [
      "*\n",
      "**\n",
      "***\n",
      "****\n",
      "*****\n"
     ]
    }
   ],
   "source": [
    "star = 0\n",
    "for ii in range(1,6) :\n",
    "    star += 1\n",
    "    print('*' * star)"
   ]
  },
  {
   "cell_type": "code",
   "execution_count": 4,
   "id": "599a7a0a",
   "metadata": {},
   "outputs": [
    {
     "name": "stdout",
     "output_type": "stream",
     "text": [
      "*********\n",
      "********\n",
      "*******\n",
      "******\n",
      "*****\n",
      "****\n",
      "***\n",
      "**\n",
      "*\n",
      "\n"
     ]
    }
   ],
   "source": [
    "byul = 10\n",
    "for i in range(1,11):\n",
    "    byul -= 1\n",
    "    print('*' * byul)"
   ]
  },
  {
   "cell_type": "code",
   "execution_count": 13,
   "id": "2acfc709-4967-485a-9011-4c0987dec8e2",
   "metadata": {},
   "outputs": [
    {
     "name": "stdout",
     "output_type": "stream",
     "text": [
      "*\n",
      "**\n",
      "***\n",
      "****\n",
      "*****\n"
     ]
    }
   ],
   "source": [
    "for i in range(1,6):\n",
    "    print('*'*i)"
   ]
  },
  {
   "cell_type": "code",
   "execution_count": 22,
   "id": "e14a70fe",
   "metadata": {},
   "outputs": [
    {
     "name": "stdout",
     "output_type": "stream",
     "text": [
      "***********\n",
      "**********\n",
      "*********\n",
      "********\n",
      "*******\n",
      "******\n",
      "*****\n",
      "****\n",
      "***\n",
      "**\n",
      "*\n"
     ]
    }
   ],
   "source": [
    "for i in range(11,0,-1):\n",
    "    print('*'*i)"
   ]
  },
  {
   "cell_type": "code",
   "execution_count": 24,
   "id": "34c2ba3d",
   "metadata": {},
   "outputs": [
    {
     "name": "stdout",
     "output_type": "stream",
     "text": [
      "  **********\n",
      "----------\n",
      "   *********\n",
      "----------\n",
      "    ********\n",
      "----------\n",
      "     *******\n",
      "----------\n",
      "      ******\n",
      "----------\n",
      "       *****\n",
      "----------\n",
      "        ****\n",
      "----------\n",
      "         ***\n",
      "----------\n",
      "          **\n",
      "----------\n",
      "           *\n",
      "----------\n"
     ]
    }
   ],
   "source": [
    "for i in range(1,11):\n",
    "    print((\" \"*i),(\"*\"*(11-i)))\n",
    "    print(\"-\"*10)"
   ]
  },
  {
   "cell_type": "code",
   "execution_count": 12,
   "id": "a8a73eed-718d-47ce-9efd-e46c76fbedd4",
   "metadata": {},
   "outputs": [
    {
     "name": "stdout",
     "output_type": "stream",
     "text": [
      "********\n",
      " *******\n",
      "  ******\n",
      "   *****\n",
      "    ****\n",
      "     ***\n",
      "      **\n",
      "       *\n"
     ]
    }
   ],
   "source": [
    "for i in range(8):\n",
    "    print((\" \"*i) + (\"*\"*(8-i)))"
   ]
  },
  {
   "cell_type": "code",
   "execution_count": 47,
   "id": "5c3a491f-34f9-40e3-abf7-fdd8221c5216",
   "metadata": {},
   "outputs": [
    {
     "name": "stdout",
     "output_type": "stream",
     "text": [
      "*****\n",
      "****\n",
      "***\n",
      "**\n",
      "*\n"
     ]
    }
   ],
   "source": [
    "for i in range(5,0,-1):\n",
    "    print('*'*i)"
   ]
  },
  {
   "cell_type": "code",
   "execution_count": 52,
   "id": "f8811e2d-7791-42fa-90a6-242854f252ec",
   "metadata": {},
   "outputs": [
    {
     "name": "stdout",
     "output_type": "stream",
     "text": [
      "*****\n",
      "****\n",
      "***\n",
      "**\n",
      "*\n"
     ]
    }
   ],
   "source": [
    "for i in range(5,0,-1):\n",
    "    print('*'*i)"
   ]
  },
  {
   "cell_type": "code",
   "execution_count": 6,
   "id": "d8c6f3b4-5dfe-4dc3-bcb1-dca54e6c0889",
   "metadata": {},
   "outputs": [
    {
     "name": "stdout",
     "output_type": "stream",
     "text": [
      "0    *\n",
      "1   ***\n",
      "2  *****\n",
      "3 *******\n"
     ]
    }
   ],
   "source": [
    "for i in range(4):\n",
    "    print(i,(3-i)*' '+((2*i)+1)*'*')"
   ]
  },
  {
   "cell_type": "code",
   "execution_count": 29,
   "id": "aec80ba9",
   "metadata": {},
   "outputs": [
    {
     "name": "stdout",
     "output_type": "stream",
     "text": [
      "            *\n",
      "           ***\n",
      "          *****\n",
      "         *******\n",
      "        *********\n",
      "       ***********\n",
      "      *************\n",
      "     ***************\n",
      "    *****************\n",
      "   *******************\n",
      "  *********************\n"
     ]
    }
   ],
   "source": [
    "for i in range(11):\n",
    "    print((\" \"*(11-i)),\"*\"*((2*i)+1))"
   ]
  },
  {
   "cell_type": "code",
   "execution_count": 59,
   "id": "6be6f82d-39c3-4023-8afe-2c74ea9abfaa",
   "metadata": {},
   "outputs": [
    {
     "name": "stdout",
     "output_type": "stream",
     "text": [
      "1 *\n",
      "3 ***\n",
      "5 *****\n",
      "7 *******\n"
     ]
    }
   ],
   "source": [
    "for i in range(1,8,2):\n",
    "    print(i,'*'*i)"
   ]
  },
  {
   "cell_type": "code",
   "execution_count": 60,
   "id": "99ad0c24-7de4-4d64-99b8-c998ac7cd169",
   "metadata": {},
   "outputs": [],
   "source": [
    "##이중for문"
   ]
  },
  {
   "cell_type": "code",
   "execution_count": 64,
   "id": "29195357-4369-4b6b-a6e8-130388863141",
   "metadata": {},
   "outputs": [
    {
     "name": "stdout",
     "output_type": "stream",
     "text": [
      "2* 1 = 2\n",
      "2* 2 = 4\n",
      "2* 3 = 6\n",
      "2* 4 = 8\n",
      "2* 5 = 10\n",
      "2* 6 = 12\n",
      "2* 7 = 14\n",
      "2* 8 = 16\n",
      "2* 9 = 18\n"
     ]
    }
   ],
   "source": [
    "for i in range(1,10):\n",
    "    print('2*',i,'=',2*i)"
   ]
  },
  {
   "cell_type": "code",
   "execution_count": 72,
   "id": "2793374b-f027-43c5-9d74-7b8690f681a9",
   "metadata": {},
   "outputs": [
    {
     "name": "stdout",
     "output_type": "stream",
     "text": [
      "2 = 2\n",
      "2 = 4\n",
      "2 = 6\n",
      "2 = 8\n",
      "2 = 10\n",
      "2 = 12\n",
      "2 = 14\n",
      "2 = 16\n",
      "2 = 18\n",
      "3 = 3\n",
      "3 = 6\n",
      "3 = 9\n",
      "3 = 12\n",
      "3 = 15\n",
      "3 = 18\n",
      "3 = 21\n",
      "3 = 24\n",
      "3 = 27\n",
      "4 = 4\n",
      "4 = 8\n",
      "4 = 12\n",
      "4 = 16\n",
      "4 = 20\n",
      "4 = 24\n",
      "4 = 28\n",
      "4 = 32\n",
      "4 = 36\n",
      "5 = 5\n",
      "5 = 10\n",
      "5 = 15\n",
      "5 = 20\n",
      "5 = 25\n",
      "5 = 30\n",
      "5 = 35\n",
      "5 = 40\n",
      "5 = 45\n",
      "6 = 6\n",
      "6 = 12\n",
      "6 = 18\n",
      "6 = 24\n",
      "6 = 30\n",
      "6 = 36\n",
      "6 = 42\n",
      "6 = 48\n",
      "6 = 54\n",
      "7 = 7\n",
      "7 = 14\n",
      "7 = 21\n",
      "7 = 28\n",
      "7 = 35\n",
      "7 = 42\n",
      "7 = 49\n",
      "7 = 56\n",
      "7 = 63\n",
      "8 = 8\n",
      "8 = 16\n",
      "8 = 24\n",
      "8 = 32\n",
      "8 = 40\n",
      "8 = 48\n",
      "8 = 56\n",
      "8 = 64\n",
      "8 = 72\n",
      "9 = 9\n",
      "9 = 18\n",
      "9 = 27\n",
      "9 = 36\n",
      "9 = 45\n",
      "9 = 54\n",
      "9 = 63\n",
      "9 = 72\n",
      "9 = 81\n"
     ]
    }
   ],
   "source": [
    "for i in range(2,10):\n",
    "    for j in range(1,10):\n",
    "        print(i,'=',i*j)\n",
    "    "
   ]
  },
  {
   "cell_type": "markdown",
   "id": "9addaab4-f627-47e8-88e7-ce7f2ef37fb7",
   "metadata": {},
   "source": [
    "### QUIZ\n",
    "1. for문을 이용하여 recevied_list에서 allowed_list에 존재하는 않는 목록을 뽑아 spam_mail 이라는 리스트를 만드는 코드를 구현\n",
    "received_list = ['tom', 'jenny', 'kyle', 'young', 'tami']\n",
    "allowed_list = ['kyle', 'tami', 'jason']\n",
    "2. for문을 이용하여 word_list에서 단어가 7글자 이상이면 모두 대문자로, 7글자 미만이면 모두 소문자로 출력하는 코드를 구현\n",
    "word_list = ['culture','symbol','effect','experience','affair']\n",
    "3. 구구단 3단 중 결과가 홀수인 결과만 출력하는 코드를 구현\n",
    "4. 다음 2차원 리스트의 모든 요소를 출력하는 코드를 구현\n",
    "matrix=[[1,2,3],[4,5,6],[7,8,9],[10,11,12]]"
   ]
  },
  {
   "cell_type": "code",
   "execution_count": 78,
   "id": "e794e9aa-a3d8-4445-87d0-0aece4657823",
   "metadata": {},
   "outputs": [],
   "source": [
    "received_list = ['tom', 'jenny', 'kyle', 'young', 'tami']\n",
    "allowed_list = ['kyle', 'tami', 'jason']\n",
    "\n",
    "spam_list=[]\n",
    "\n",
    "for name in received_list:\n",
    "    #print(name)\n",
    "    if name not in allowed_list:\n",
    "            #print(name)\n",
    "            spam_list.append(name)\n",
    "    \n",
    "    \n",
    "    "
   ]
  },
  {
   "cell_type": "code",
   "execution_count": 79,
   "id": "64032a4f-2762-44cc-b412-e49139e4dae8",
   "metadata": {},
   "outputs": [
    {
     "data": {
      "text/plain": [
       "['tom', 'jenny', 'young']"
      ]
     },
     "execution_count": 79,
     "metadata": {},
     "output_type": "execute_result"
    }
   ],
   "source": [
    "spam_list"
   ]
  },
  {
   "cell_type": "code",
   "execution_count": 80,
   "id": "2952ec06-2f27-4112-b924-0fbd3ff77573",
   "metadata": {},
   "outputs": [],
   "source": [
    "spam_list=[]\n",
    "for name in received_list:\n",
    "    if name not in allowed_list:\n",
    "        spam_list.append(name)"
   ]
  },
  {
   "cell_type": "code",
   "execution_count": 81,
   "id": "23e3ec98-730d-42c4-a331-7742437cc947",
   "metadata": {},
   "outputs": [
    {
     "data": {
      "text/plain": [
       "['tom', 'jenny', 'young']"
      ]
     },
     "execution_count": 81,
     "metadata": {},
     "output_type": "execute_result"
    }
   ],
   "source": [
    "spam_list"
   ]
  },
  {
   "cell_type": "code",
   "execution_count": 95,
   "id": "b83666f2-8c25-41b0-a020-d0fba61eeb8c",
   "metadata": {},
   "outputs": [
    {
     "name": "stdout",
     "output_type": "stream",
     "text": [
      "CULTURE\n",
      "symbol\n",
      "effect\n",
      "EXPERIENCE\n",
      "affair\n"
     ]
    }
   ],
   "source": [
    "word_list = ['culture','symbol','effect','experience','affair']\n",
    "for word in word_list:\n",
    "    if len(word)>=7:\n",
    "        print(word.upper())\n",
    "    else:\n",
    "        print(word.lower())\n"
   ]
  },
  {
   "cell_type": "code",
   "execution_count": 308,
   "id": "28c5dc93-026c-4862-9782-0e384b05cbe8",
   "metadata": {},
   "outputs": [],
   "source": [
    "num:3\n",
    "for i in range(3,10):\n",
    "    if(num*i%2 ==1):\n",
    "        print(num,'*',i,'=',num*i)\n"
   ]
  },
  {
   "cell_type": "code",
   "execution_count": 98,
   "id": "431bd7c4-d952-40f6-8ef8-c3f6fb2a038e",
   "metadata": {},
   "outputs": [
    {
     "name": "stdout",
     "output_type": "stream",
     "text": [
      "1 2 3 4 5 6 7 8 9 10 11 12 "
     ]
    }
   ],
   "source": [
    "matrix=[[1,2,3],[4,5,6],[7,8,9],[10,11,12]]\n",
    "\n",
    "for m in matrix:\n",
    "    for i in m:\n",
    "        print(i,end =' ')"
   ]
  },
  {
   "cell_type": "markdown",
   "id": "1e995f64-66e3-4b33-89c1-00adec90d964",
   "metadata": {},
   "source": [
    "### while 쓰지말자"
   ]
  },
  {
   "cell_type": "markdown",
   "id": "4bbdd8ed-e0f1-42d6-874f-af08d3b0abd1",
   "metadata": {},
   "source": [
    "if 조건문:  \n",
    "    행동"
   ]
  },
  {
   "cell_type": "markdown",
   "id": "8b10bed6-093c-47f7-90ae-722993edfd21",
   "metadata": {},
   "source": [
    "while 조건문:  \n",
    "    행동"
   ]
  },
  {
   "cell_type": "code",
   "execution_count": 104,
   "id": "e29e3181-fa9f-41f5-9061-d2a41a7fe5e3",
   "metadata": {},
   "outputs": [
    {
     "name": "stdout",
     "output_type": "stream",
     "text": [
      "count는 0 입니다\n",
      "count는 1 입니다\n",
      "count는 2 입니다\n",
      "count는 3 입니다\n",
      "count는 4 입니다\n"
     ]
    }
   ],
   "source": [
    "count=0\n",
    "while count < 5:\n",
    "    print('count는', count, '입니다')\n",
    "    count += 1"
   ]
  },
  {
   "cell_type": "markdown",
   "id": "d48ad7da-a943-4d5d-b8c3-b28a70fb332b",
   "metadata": {},
   "source": [
    "### random"
   ]
  },
  {
   "cell_type": "code",
   "execution_count": 105,
   "id": "b0aa5b8f-4c3d-45b7-b661-aba32072394b",
   "metadata": {},
   "outputs": [],
   "source": [
    "import random"
   ]
  },
  {
   "cell_type": "code",
   "execution_count": 113,
   "id": "eaad51dc-9f3d-4476-8047-65bac6afa1c2",
   "metadata": {},
   "outputs": [
    {
     "data": {
      "text/plain": [
       "93"
      ]
     },
     "execution_count": 113,
     "metadata": {},
     "output_type": "execute_result"
    }
   ],
   "source": [
    "random.randint(1,100)"
   ]
  },
  {
   "cell_type": "code",
   "execution_count": 114,
   "id": "febaa027-2d98-4c0e-8664-d42fdfa102b4",
   "metadata": {},
   "outputs": [],
   "source": [
    "random.seed(1)"
   ]
  },
  {
   "cell_type": "code",
   "execution_count": 309,
   "id": "914bf8ff-1d88-4b3f-9674-fab0baa75165",
   "metadata": {},
   "outputs": [],
   "source": [
    "random_list=[]\n",
    "random.randint(1,1000)\n",
    "for _ in range(100):#_는 안쓰는 변수로 사용할 때 이용\n",
    "\n",
    "    random_list.append(random.randint(1,1000))\n",
    "    "
   ]
  },
  {
   "cell_type": "code",
   "execution_count": 310,
   "id": "e88dc878-6ddc-47cc-a489-43e280a1cacc",
   "metadata": {},
   "outputs": [
    {
     "data": {
      "text/plain": [
       "[925,\n",
       " 364,\n",
       " 206,\n",
       " 846,\n",
       " 703,\n",
       " 991,\n",
       " 163,\n",
       " 420,\n",
       " 83,\n",
       " 363,\n",
       " 119,\n",
       " 433,\n",
       " 462,\n",
       " 852,\n",
       " 342,\n",
       " 515,\n",
       " 945,\n",
       " 105,\n",
       " 11,\n",
       " 927,\n",
       " 677,\n",
       " 58,\n",
       " 152,\n",
       " 418,\n",
       " 786,\n",
       " 929,\n",
       " 615,\n",
       " 731,\n",
       " 217,\n",
       " 207,\n",
       " 70,\n",
       " 889,\n",
       " 686,\n",
       " 925,\n",
       " 165,\n",
       " 467,\n",
       " 910,\n",
       " 527,\n",
       " 25,\n",
       " 335,\n",
       " 717,\n",
       " 824,\n",
       " 633,\n",
       " 302,\n",
       " 675,\n",
       " 318,\n",
       " 808,\n",
       " 158,\n",
       " 464,\n",
       " 54,\n",
       " 45,\n",
       " 296,\n",
       " 164,\n",
       " 783,\n",
       " 25,\n",
       " 639,\n",
       " 324,\n",
       " 25,\n",
       " 865,\n",
       " 152,\n",
       " 259,\n",
       " 110,\n",
       " 240,\n",
       " 263,\n",
       " 804,\n",
       " 670,\n",
       " 993,\n",
       " 950,\n",
       " 870,\n",
       " 586,\n",
       " 507,\n",
       " 512,\n",
       " 197,\n",
       " 945,\n",
       " 80,\n",
       " 135,\n",
       " 293,\n",
       " 921,\n",
       " 31,\n",
       " 659,\n",
       " 864,\n",
       " 242,\n",
       " 162,\n",
       " 787,\n",
       " 696,\n",
       " 180,\n",
       " 250,\n",
       " 607,\n",
       " 632,\n",
       " 472,\n",
       " 945,\n",
       " 111,\n",
       " 4,\n",
       " 960,\n",
       " 836,\n",
       " 201,\n",
       " 582,\n",
       " 375,\n",
       " 668,\n",
       " 653]"
      ]
     },
     "execution_count": 310,
     "metadata": {},
     "output_type": "execute_result"
    }
   ],
   "source": [
    "random_list"
   ]
  },
  {
   "cell_type": "code",
   "execution_count": 314,
   "id": "19eef54c-bf4d-416d-a631-556adb089d58",
   "metadata": {},
   "outputs": [],
   "source": [
    "max_n=random_list[0]\n"
   ]
  },
  {
   "cell_type": "code",
   "execution_count": 315,
   "id": "9931c459-f5cf-46b2-8761-dc191f1190c4",
   "metadata": {},
   "outputs": [
    {
     "data": {
      "text/plain": [
       "925"
      ]
     },
     "execution_count": 315,
     "metadata": {},
     "output_type": "execute_result"
    }
   ],
   "source": [
    "max_n"
   ]
  },
  {
   "cell_type": "code",
   "execution_count": 311,
   "id": "9667878d-d6f6-411f-a5ad-213d7c867d07",
   "metadata": {},
   "outputs": [
    {
     "name": "stdout",
     "output_type": "stream",
     "text": [
      "996\n"
     ]
    }
   ],
   "source": [
    "\n",
    "for i in random_list:\n",
    "    if max_n<i:\n",
    "        max_n=i\n",
    "print(max_n)"
   ]
  },
  {
   "cell_type": "code",
   "execution_count": 185,
   "id": "8ca3adfc-f591-4faf-bda4-324c32f2e87d",
   "metadata": {},
   "outputs": [],
   "source": [
    "min_n=random_list[-1]"
   ]
  },
  {
   "cell_type": "code",
   "execution_count": 187,
   "id": "a75e810f-9d98-4f3a-af3f-7b7713c442ff",
   "metadata": {},
   "outputs": [
    {
     "name": "stdout",
     "output_type": "stream",
     "text": [
      "5\n"
     ]
    }
   ],
   "source": [
    "for i in random_list:\n",
    "    if min_n>i:\n",
    "        min_n=i\n",
    "print(min_n)"
   ]
  },
  {
   "cell_type": "code",
   "execution_count": 164,
   "id": "30f06ad1-19e3-4522-aabc-e1e215201fbd",
   "metadata": {},
   "outputs": [],
   "source": [
    "lotto= list(range(1,46))"
   ]
  },
  {
   "cell_type": "code",
   "execution_count": 8,
   "id": "37df4e2d-168e-4c97-9936-06f80f189a0a",
   "metadata": {},
   "outputs": [
    {
     "data": {
      "text/plain": [
       "[1, 3, 5, 7, 9]"
      ]
     },
     "execution_count": 8,
     "metadata": {},
     "output_type": "execute_result"
    }
   ],
   "source": [
    "list(range(1,11,2))"
   ]
  },
  {
   "cell_type": "code",
   "execution_count": 165,
   "id": "e7c39827-602d-4537-9043-4b517e76f4f3",
   "metadata": {},
   "outputs": [],
   "source": [
    "random.shuffle(lotto)"
   ]
  },
  {
   "cell_type": "code",
   "execution_count": 177,
   "id": "7fd4d3cd-0bfb-405a-bf12-486066a4219b",
   "metadata": {},
   "outputs": [
    {
     "name": "stdout",
     "output_type": "stream",
     "text": [
      "[26, 39, 12, 31, 5, 16]\n",
      "[19, 21, 32, 17, 35, 22]\n",
      "[21, 35, 39, 41, 12, 28]\n",
      "[18, 34, 11, 26, 1, 35]\n",
      "[4, 39, 18, 20, 15, 16]\n",
      "[2, 13, 36, 14, 3, 34]\n",
      "[37, 14, 40, 20, 44, 28]\n",
      "[21, 25, 24, 18, 30, 15]\n",
      "[4, 27, 2, 42, 14, 20]\n",
      "[19, 20, 38, 34, 6, 31]\n"
     ]
    }
   ],
   "source": [
    "for _ in range(10):\n",
    "    random.shuffle(lotto)\n",
    "    print(lotto[:6])\n",
    "    "
   ]
  },
  {
   "cell_type": "code",
   "execution_count": 196,
   "id": "69c0889c-af28-4d39-8eb0-ee451e4b8ede",
   "metadata": {},
   "outputs": [],
   "source": [
    "##함수"
   ]
  },
  {
   "cell_type": "code",
   "execution_count": 200,
   "id": "8caf8a2d-1376-4aff-b6f5-d35542e96c36",
   "metadata": {},
   "outputs": [],
   "source": [
    "def test():\n",
    "    print('test 함수입니다.')"
   ]
  },
  {
   "cell_type": "code",
   "execution_count": 201,
   "id": "3d02b983-750b-4a31-a0aa-4009bbbb23bd",
   "metadata": {},
   "outputs": [
    {
     "name": "stdout",
     "output_type": "stream",
     "text": [
      "test 함수입니다.\n"
     ]
    }
   ],
   "source": [
    "test()"
   ]
  },
  {
   "cell_type": "code",
   "execution_count": 218,
   "id": "2f45e0fd-5c5d-428b-b28a-20f793a8d8c2",
   "metadata": {},
   "outputs": [],
   "source": [
    "def max_user(l):\n",
    "    max_n=l[0]\n",
    "    \n",
    "    for n in l:\n",
    "        if max_n<n:\n",
    "            max_n=n\n",
    "    return(max_n)"
   ]
  },
  {
   "cell_type": "code",
   "execution_count": 221,
   "id": "a900e72e-566e-45f0-8608-b46bce7b9f60",
   "metadata": {},
   "outputs": [],
   "source": [
    "max_num=max_user([1,2,4,5])"
   ]
  },
  {
   "cell_type": "code",
   "execution_count": 222,
   "id": "5cb1226c-b6ca-4e4c-862a-e978f866d1cd",
   "metadata": {},
   "outputs": [
    {
     "data": {
      "text/plain": [
       "5"
      ]
     },
     "execution_count": 222,
     "metadata": {},
     "output_type": "execute_result"
    }
   ],
   "source": [
    "max_num"
   ]
  },
  {
   "cell_type": "code",
   "execution_count": 8,
   "id": "ec2c6fee-0466-4094-bac6-ee9bbf91d6df",
   "metadata": {},
   "outputs": [
    {
     "data": {
      "text/plain": [
       "[1, 3, 5, 7, 9]"
      ]
     },
     "execution_count": 8,
     "metadata": {},
     "output_type": "execute_result"
    }
   ],
   "source": [
    "list(range(1,11,2))"
   ]
  },
  {
   "cell_type": "code",
   "execution_count": 205,
   "id": "3ae11e21-b2e3-4805-a77b-d96cd4fc2b68",
   "metadata": {},
   "outputs": [],
   "source": [
    "##매개변수, return"
   ]
  },
  {
   "cell_type": "code",
   "execution_count": 208,
   "id": "ff04b999-583c-42ce-91fc-a26a8b7543f2",
   "metadata": {},
   "outputs": [],
   "source": [
    "def test(a,b):\n",
    "    print('함수입니다')\n",
    "    print(a,b)"
   ]
  },
  {
   "cell_type": "code",
   "execution_count": 209,
   "id": "009965ec-2c3b-4ed6-b989-2ff9f79bc7f5",
   "metadata": {},
   "outputs": [
    {
     "name": "stdout",
     "output_type": "stream",
     "text": [
      "함수입니다\n",
      "1 2\n"
     ]
    }
   ],
   "source": [
    "test(1,2)"
   ]
  },
  {
   "cell_type": "code",
   "execution_count": 211,
   "id": "11a33194-6313-4f72-86fc-81e7c446a2ae",
   "metadata": {},
   "outputs": [],
   "source": [
    "def test():\n",
    "    print('sdss')\n",
    "    print()"
   ]
  },
  {
   "cell_type": "code",
   "execution_count": 212,
   "id": "610e57fb-73dc-4b3a-9869-49b306746d18",
   "metadata": {},
   "outputs": [
    {
     "name": "stdout",
     "output_type": "stream",
     "text": [
      "sdss\n",
      "\n"
     ]
    }
   ],
   "source": [
    "test()"
   ]
  },
  {
   "cell_type": "code",
   "execution_count": 223,
   "id": "69144901-0b9c-48a2-aa99-bd25f1b524f5",
   "metadata": {},
   "outputs": [],
   "source": [
    "### 매개변수x return x"
   ]
  },
  {
   "cell_type": "code",
   "execution_count": 224,
   "id": "7e37201b-856b-4824-ad34-c8addb42186d",
   "metadata": {},
   "outputs": [],
   "source": [
    "def test():\n",
    "    print('test')"
   ]
  },
  {
   "cell_type": "code",
   "execution_count": 225,
   "id": "f79c7b30-286d-4807-8ff8-555d6a5e1153",
   "metadata": {},
   "outputs": [],
   "source": [
    "# 매개변수o, return x"
   ]
  },
  {
   "cell_type": "code",
   "execution_count": 226,
   "id": "6cf236c4-053e-417d-93c1-0847003be295",
   "metadata": {},
   "outputs": [],
   "source": [
    "def test2(a):\n",
    "    print(a)"
   ]
  },
  {
   "cell_type": "code",
   "execution_count": 227,
   "id": "bbaa99b9-01f9-45a8-b3c9-b9ce7128e9d7",
   "metadata": {},
   "outputs": [],
   "source": [
    "# 매개변수x, return o"
   ]
  },
  {
   "cell_type": "code",
   "execution_count": 231,
   "id": "7e7c8bd6-30a2-46b3-bfff-2cab04d124b9",
   "metadata": {},
   "outputs": [],
   "source": [
    "def test3():\n",
    "    return 1+2"
   ]
  },
  {
   "cell_type": "code",
   "execution_count": 232,
   "id": "02fe1272-5243-4fbf-b603-dc888f06c89d",
   "metadata": {},
   "outputs": [
    {
     "data": {
      "text/plain": [
       "3"
      ]
     },
     "execution_count": 232,
     "metadata": {},
     "output_type": "execute_result"
    }
   ],
   "source": [
    "test3()"
   ]
  },
  {
   "cell_type": "code",
   "execution_count": 233,
   "id": "e55a9c92-76bc-452e-ae4e-5b6cf8c22658",
   "metadata": {},
   "outputs": [],
   "source": [
    "# 매개변수o, return o"
   ]
  },
  {
   "cell_type": "code",
   "execution_count": 236,
   "id": "bec2417c-94e6-4247-81f0-a7a7d509a1e7",
   "metadata": {},
   "outputs": [],
   "source": [
    "def test4(a,b):\n",
    "    return a+b"
   ]
  },
  {
   "cell_type": "code",
   "execution_count": 237,
   "id": "13df821d-7b80-4f09-b037-b87f5d0035dd",
   "metadata": {},
   "outputs": [
    {
     "data": {
      "text/plain": [
       "3"
      ]
     },
     "execution_count": 237,
     "metadata": {},
     "output_type": "execute_result"
    }
   ],
   "source": [
    "test4(1,2)"
   ]
  },
  {
   "cell_type": "code",
   "execution_count": 239,
   "id": "fb5baf12-358a-4ef4-98f8-7c1d7b0db1af",
   "metadata": {},
   "outputs": [
    {
     "data": {
      "text/plain": [
       "3"
      ]
     },
     "execution_count": 239,
     "metadata": {},
     "output_type": "execute_result"
    }
   ],
   "source": [
    "test4(b=1,a=2)"
   ]
  },
  {
   "cell_type": "code",
   "execution_count": 240,
   "id": "5cf4154e-3fb8-499f-8394-c8a2ddafafab",
   "metadata": {},
   "outputs": [],
   "source": [
    "def test5(a,b=1):\n",
    "    return a+b"
   ]
  },
  {
   "cell_type": "code",
   "execution_count": 241,
   "id": "f848b7bf-73e6-4789-b961-b1fa17b80c65",
   "metadata": {},
   "outputs": [
    {
     "data": {
      "text/plain": [
       "3"
      ]
     },
     "execution_count": 241,
     "metadata": {},
     "output_type": "execute_result"
    }
   ],
   "source": [
    "test5(2)"
   ]
  },
  {
   "cell_type": "code",
   "execution_count": 243,
   "id": "e905bd31-bd23-427f-bc2c-78dcb0abd819",
   "metadata": {},
   "outputs": [
    {
     "data": {
      "text/plain": [
       "6"
      ]
     },
     "execution_count": 243,
     "metadata": {},
     "output_type": "execute_result"
    }
   ],
   "source": [
    "test5(1,5)"
   ]
  },
  {
   "cell_type": "code",
   "execution_count": 244,
   "id": "93534137-e345-4055-a96d-1ee286d45825",
   "metadata": {},
   "outputs": [],
   "source": [
    "l=[1,2,3,4,5]"
   ]
  },
  {
   "cell_type": "code",
   "execution_count": 245,
   "id": "0d3dc0fb-93b5-4445-9e15-a9eea5ea2906",
   "metadata": {},
   "outputs": [],
   "source": [
    "l.sort()"
   ]
  },
  {
   "cell_type": "code",
   "execution_count": 263,
   "id": "32150387-69c1-4e2d-b07a-ec75a7188b34",
   "metadata": {},
   "outputs": [],
   "source": [
    "def hojin(*args):\n",
    "    print(args)"
   ]
  },
  {
   "cell_type": "code",
   "execution_count": 264,
   "id": "a532d7ea-41b5-4ff5-9137-d83b305e3eaa",
   "metadata": {},
   "outputs": [
    {
     "name": "stdout",
     "output_type": "stream",
     "text": [
      "(1, 2, 3, 4)\n"
     ]
    }
   ],
   "source": [
    "hojin(1,2,3,4)"
   ]
  },
  {
   "cell_type": "code",
   "execution_count": 256,
   "id": "3471ad77-57ae-45fd-81ed-ccf44c3bcaa0",
   "metadata": {},
   "outputs": [],
   "source": [
    "def hojin(*args):\n",
    "    for i in args:\n",
    "        print(i)"
   ]
  },
  {
   "cell_type": "code",
   "execution_count": 257,
   "id": "f8aeeda5-1370-465c-9dd7-44b91e986272",
   "metadata": {},
   "outputs": [
    {
     "name": "stdout",
     "output_type": "stream",
     "text": [
      "1\n",
      "2\n"
     ]
    }
   ],
   "source": [
    "hojin(1,2)"
   ]
  },
  {
   "cell_type": "code",
   "execution_count": 1,
   "id": "17d3b9f4-a8b1-4185-93ff-5cb64874b478",
   "metadata": {},
   "outputs": [],
   "source": [
    "def hojin1(*args):\n",
    "    ret=0\n",
    "    for i in args:\n",
    "        ret+=i\n",
    "        print(ret)"
   ]
  },
  {
   "cell_type": "code",
   "execution_count": null,
   "id": "1c6e03ed-9c84-41b3-8aff-b5f2d35e8abe",
   "metadata": {},
   "outputs": [],
   "source": []
  },
  {
   "cell_type": "code",
   "execution_count": 8,
   "id": "a093c492-b048-4fbc-911d-b76e970244e9",
   "metadata": {},
   "outputs": [
    {
     "data": {
      "text/plain": [
       "[1, 3, 5, 7, 9]"
      ]
     },
     "execution_count": 8,
     "metadata": {},
     "output_type": "execute_result"
    }
   ],
   "source": [
    "list(range(1,11,2))"
   ]
  },
  {
   "cell_type": "markdown",
   "id": "8509f6f3-16cf-434f-896a-cea973dca8ae",
   "metadata": {},
   "source": [
    "##  QUIZ  \n",
    "계산기 - 인자 2개/ 1개는 +,*/ 1개는 값(몇 개가 들어올지 모른다)  \n",
    "def calc(oper,*args):  \n",
    "return"
   ]
  },
  {
   "cell_type": "code",
   "execution_count": 336,
   "id": "bb69ffd3-c821-416a-8f17-d33d9903a8a5",
   "metadata": {},
   "outputs": [],
   "source": [
    "def calc(oper,*args):\n",
    "    if len(args) != 0:\n",
    "        if oper=='+':\n",
    "            i=0\n",
    "            for a in args:\n",
    "                i += a\n",
    "\n",
    "        elif oper=='*':\n",
    "            i=1\n",
    "            for a in args:\n",
    "                i *= a\n",
    "\n",
    "        return i\n",
    "    raise Exception(\"입력 오류 \")"
   ]
  },
  {
   "cell_type": "code",
   "execution_count": 352,
   "id": "d9c5fa4b-9423-4c2c-9d4f-9f342f6311c8",
   "metadata": {},
   "outputs": [],
   "source": [
    "def calc(a,*b):\n",
    "    if a=='+':\n",
    "        i=0\n",
    "        for a in b:\n",
    "            i+=a\n",
    "    elif a=='*':\n",
    "        i=1\n",
    "        for a in b: \n",
    "            i*=a \n",
    "    elif a == '/':\n",
    "        i=1\n",
    "        for a in b:\n",
    "            i/=a\n",
    "    elif a == '-':\n",
    "        i=0\n",
    "        for a in b:\n",
    "            i-=a\n",
    "    return i  "
   ]
  },
  {
   "cell_type": "code",
   "execution_count": 353,
   "id": "9120f751-4f83-401f-b0c3-cdd7246b70be",
   "metadata": {},
   "outputs": [
    {
     "name": "stdout",
     "output_type": "stream",
     "text": [
      "5\n"
     ]
    },
    {
     "ename": "TypeError",
     "evalue": "unsupported operand type(s) for %: 'NoneType' and 'int'",
     "output_type": "error",
     "traceback": [
      "\u001b[1;31m---------------------------------------------------------------------------\u001b[0m",
      "\u001b[1;31mTypeError\u001b[0m                                 Traceback (most recent call last)",
      "Input \u001b[1;32mIn [353]\u001b[0m, in \u001b[0;36m<cell line: 1>\u001b[1;34m()\u001b[0m\n\u001b[0;32m      1\u001b[0m \u001b[38;5;28;01mfor\u001b[39;00m i \u001b[38;5;129;01min\u001b[39;00m \u001b[38;5;28mrange\u001b[39m(\u001b[38;5;241m1\u001b[39m,\u001b[38;5;241m10\u001b[39m):\n\u001b[1;32m----> 2\u001b[0m     \u001b[38;5;28;43mprint\u001b[39;49m\u001b[43m(\u001b[49m\u001b[38;5;241;43m5\u001b[39;49m\u001b[38;5;241;43m*\u001b[39;49m\u001b[43mi\u001b[49m\u001b[43m)\u001b[49m\u001b[38;5;241;43m%\u001b[39;49m\u001b[38;5;241;43m2\u001b[39;49m\u001b[38;5;241m==\u001b[39m\u001b[38;5;241m1\u001b[39m\n",
      "\u001b[1;31mTypeError\u001b[0m: unsupported operand type(s) for %: 'NoneType' and 'int'"
     ]
    }
   ],
   "source": [
    "for i in range(1,10):\n",
    "    print(5*i)%2==1"
   ]
  },
  {
   "cell_type": "code",
   "execution_count": 354,
   "id": "9962d1e9-1271-4b36-ac87-e3a02c8c5a94",
   "metadata": {},
   "outputs": [
    {
     "data": {
      "text/plain": [
       "10"
      ]
     },
     "execution_count": 354,
     "metadata": {},
     "output_type": "execute_result"
    }
   ],
   "source": [
    "calc('+',4,2,3,1)"
   ]
  },
  {
   "cell_type": "code",
   "execution_count": 355,
   "id": "42157b5b-d6ca-4e11-aa6a-57b9d78ab429",
   "metadata": {},
   "outputs": [
    {
     "data": {
      "text/plain": [
       "-5"
      ]
     },
     "execution_count": 355,
     "metadata": {},
     "output_type": "execute_result"
    }
   ],
   "source": [
    "calc('-',1,4)"
   ]
  },
  {
   "cell_type": "code",
   "execution_count": 304,
   "id": "d67cbbd9-b6d5-403c-bd72-d0d4d2cf8560",
   "metadata": {},
   "outputs": [
    {
     "name": "stdout",
     "output_type": "stream",
     "text": [
      "입력해주세요\n"
     ]
    }
   ],
   "source": [
    "calc('*',)"
   ]
  },
  {
   "cell_type": "code",
   "execution_count": 349,
   "id": "719347e6-a021-4df1-98ca-6d8996bb8af3",
   "metadata": {},
   "outputs": [],
   "source": [
    "def calc(c,*d):\n",
    "    if c=='+':\n",
    "        i=0\n",
    "        for e in d:\n",
    "            i+=e\n",
    "    elif c=='*':\n",
    "        i=1\n",
    "        for e in d:\n",
    "            i*=e\n",
    "    return i"
   ]
  },
  {
   "cell_type": "code",
   "execution_count": 350,
   "id": "3238c45a-8336-4878-a8a1-f64671ce085c",
   "metadata": {},
   "outputs": [
    {
     "data": {
      "text/plain": [
       "59"
      ]
     },
     "execution_count": 350,
     "metadata": {},
     "output_type": "execute_result"
    }
   ],
   "source": [
    "calc('+',2,3,54)"
   ]
  },
  {
   "cell_type": "code",
   "execution_count": 291,
   "id": "d5654cce-11a6-4f48-92db-470f7fc30741",
   "metadata": {},
   "outputs": [],
   "source": [
    "def test(oper, *args) :\n",
    "    print(oper, args)"
   ]
  },
  {
   "cell_type": "code",
   "execution_count": 292,
   "id": "6d802891-903c-41dc-b085-a4815947f93c",
   "metadata": {},
   "outputs": [
    {
     "name": "stdout",
     "output_type": "stream",
     "text": [
      "+ (1, 2)\n"
     ]
    }
   ],
   "source": [
    "test('+', 1, 2)"
   ]
  },
  {
   "cell_type": "code",
   "execution_count": 293,
   "id": "466eec3f-fc99-4673-83a2-a987bdd5452e",
   "metadata": {},
   "outputs": [
    {
     "name": "stdout",
     "output_type": "stream",
     "text": [
      "+ (1, 2, 3, 4)\n"
     ]
    }
   ],
   "source": [
    "test('+', 1, 2,3,4)"
   ]
  },
  {
   "cell_type": "code",
   "execution_count": null,
   "id": "76cb6e86-a216-47af-8f85-3945cc21ae1e",
   "metadata": {},
   "outputs": [],
   "source": [
    "def calc(oper,*args):\n",
    "    if oper== '+':\n",
    "        i=0\n",
    "        for n in args:\n",
    "            i=i+n\n",
    "        return(i)\n",
    "    elif oper== '*':\n",
    "        i=1\n",
    "        for n in args:\n",
    "            i=i*n\n",
    "        return i\n",
    "    else:\n",
    "        print('sssss')"
   ]
  }
 ],
 "metadata": {
  "kernelspec": {
   "display_name": "Python 3",
   "language": "python",
   "name": "python3"
  },
  "language_info": {
   "codemirror_mode": {
    "name": "ipython",
    "version": 3
   },
   "file_extension": ".py",
   "mimetype": "text/x-python",
   "name": "python",
   "nbconvert_exporter": "python",
   "pygments_lexer": "ipython3",
   "version": "3.10.10"
  },
  "vscode": {
   "interpreter": {
    "hash": "d1a1120d6b703f94660d8a0a86efaeba37d220648474f25f942e1d3645fcdcb7"
   }
  }
 },
 "nbformat": 4,
 "nbformat_minor": 5
}
