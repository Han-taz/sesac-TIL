{
 "cells": [
  {
   "cell_type": "code",
   "execution_count": 1,
   "id": "fd7c96ce-3f9c-4f42-ac76-45fb2523d5d9",
   "metadata": {},
   "outputs": [],
   "source": [
    "import pandas as pd\n",
    "import matplotlib.pyplot as plt\n",
    "from sklearn.linear_model import LinearRegression"
   ]
  },
  {
   "cell_type": "code",
   "execution_count": 2,
   "id": "654b15d2-b658-4084-bd53-8b8d186b141c",
   "metadata": {},
   "outputs": [],
   "source": [
    "data=pd.read_csv('C:/Users/user/Desktop/python/aaa/weight-height.csv')"
   ]
  },
  {
   "cell_type": "code",
   "execution_count": 4,
   "id": "a828a842-81e6-4ad1-9abd-d8cdd6dea967",
   "metadata": {},
   "outputs": [
    {
     "data": {
      "text/html": [
       "<div>\n",
       "<style scoped>\n",
       "    .dataframe tbody tr th:only-of-type {\n",
       "        vertical-align: middle;\n",
       "    }\n",
       "\n",
       "    .dataframe tbody tr th {\n",
       "        vertical-align: top;\n",
       "    }\n",
       "\n",
       "    .dataframe thead th {\n",
       "        text-align: right;\n",
       "    }\n",
       "</style>\n",
       "<table border=\"1\" class=\"dataframe\">\n",
       "  <thead>\n",
       "    <tr style=\"text-align: right;\">\n",
       "      <th></th>\n",
       "      <th>Gender</th>\n",
       "      <th>Height</th>\n",
       "      <th>Weight</th>\n",
       "    </tr>\n",
       "  </thead>\n",
       "  <tbody>\n",
       "    <tr>\n",
       "      <th>0</th>\n",
       "      <td>Male</td>\n",
       "      <td>73.847017</td>\n",
       "      <td>241.893563</td>\n",
       "    </tr>\n",
       "    <tr>\n",
       "      <th>1</th>\n",
       "      <td>Male</td>\n",
       "      <td>68.781904</td>\n",
       "      <td>162.310473</td>\n",
       "    </tr>\n",
       "    <tr>\n",
       "      <th>2</th>\n",
       "      <td>Male</td>\n",
       "      <td>74.110105</td>\n",
       "      <td>212.740856</td>\n",
       "    </tr>\n",
       "    <tr>\n",
       "      <th>3</th>\n",
       "      <td>Male</td>\n",
       "      <td>71.730978</td>\n",
       "      <td>220.042470</td>\n",
       "    </tr>\n",
       "    <tr>\n",
       "      <th>4</th>\n",
       "      <td>Male</td>\n",
       "      <td>69.881796</td>\n",
       "      <td>206.349801</td>\n",
       "    </tr>\n",
       "  </tbody>\n",
       "</table>\n",
       "</div>"
      ],
      "text/plain": [
       "  Gender     Height      Weight\n",
       "0   Male  73.847017  241.893563\n",
       "1   Male  68.781904  162.310473\n",
       "2   Male  74.110105  212.740856\n",
       "3   Male  71.730978  220.042470\n",
       "4   Male  69.881796  206.349801"
      ]
     },
     "execution_count": 4,
     "metadata": {},
     "output_type": "execute_result"
    }
   ],
   "source": [
    "data.head()"
   ]
  },
  {
   "cell_type": "code",
   "execution_count": null,
   "id": "b9c3344a-573c-4d19-8d59-410d59d68c3d",
   "metadata": {},
   "outputs": [],
   "source": []
  },
  {
   "cell_type": "code",
   "execution_count": 3,
   "id": "c8ece1d3-8ad6-4c6a-9337-a69f3be84b67",
   "metadata": {
    "collapsed": true,
    "jupyter": {
     "outputs_hidden": true
    },
    "tags": []
   },
   "outputs": [
    {
     "name": "stdout",
     "output_type": "stream",
     "text": [
      " C 드라이브의 볼륨: BOOTCAMP\n",
      " 볼륨 일련 번호: 0246-9FF7\n",
      "\n",
      " C:\\Users\\user\\Desktop\\python\\file 디렉터리\n",
      "\n",
      "2022-11-08  오후 02:00    <DIR>          .\n",
      "2022-11-08  오후 02:00    <DIR>          ..\n",
      "2022-11-08  오후 02:00    <DIR>          .ipynb_checkpoints\n",
      "2022-11-07  오후 05:34            15,781 221107_word자동작업.ipynb\n",
      "2022-11-07  오후 04:48               425 data.csv\n",
      "2022-10-27  오전 09:40         2,745,852 ecommerse.csv\n",
      "2022-11-03  오후 09:52            20,699 elevInfo.csv\n",
      "2022-11-03  오후 04:24            12,110 elevInspect.csv\n",
      "2022-11-01  오전 11:03               459 Hitter2022.csv\n",
      "2022-10-25  오후 03:33           227,972 HR-Employee-Attrition.csv\n",
      "2022-10-26  오후 02:52            95,344 midwest.csv\n",
      "2022-10-20  오후 01:09                57 mod1.py\n",
      "2022-11-03  오후 05:10            34,660 ppt3.pptx\n",
      "2022-10-31  오후 12:59             2,840 result.csv\n",
      "2022-10-31  오후 01:06        89,766,929 sales.csv\n",
      "2022-10-31  오후 01:04       201,378,710 sales_data.csv\n",
      "2022-10-31  오후 04:02       158,598,651 sales_pre.csv\n",
      "2022-10-31  오후 09:29        89,766,929 sales1.csv\n",
      "2022-10-27  오후 07:24                45 score.csv\n",
      "2022-11-03  오후 04:47            31,935 test.pptx\n",
      "              17개 파일         542,699,398 바이트\n",
      "               3개 디렉터리  157,104,513,024 바이트 남음\n"
     ]
    }
   ],
   "source": [
    "ls"
   ]
  },
  {
   "cell_type": "code",
   "execution_count": null,
   "id": "00e7f902-c470-4088-a46c-fe44d5eaa343",
   "metadata": {},
   "outputs": [],
   "source": [
    "cd C:\\Users\\user\\Desktop\\python\\file"
   ]
  },
  {
   "cell_type": "code",
   "execution_count": 5,
   "id": "939977c3-73a2-4982-b98a-3a09adeca513",
   "metadata": {},
   "outputs": [
    {
     "data": {
      "text/plain": [
       "(10000, 3)"
      ]
     },
     "execution_count": 5,
     "metadata": {},
     "output_type": "execute_result"
    }
   ],
   "source": [
    "data.shape"
   ]
  },
  {
   "cell_type": "code",
   "execution_count": 6,
   "id": "09d34482-c50b-4e80-8ccd-d03d3dbb83c9",
   "metadata": {},
   "outputs": [
    {
     "data": {
      "text/plain": [
       "<bound method DataFrame.info of       Gender     Height      Weight\n",
       "0       Male  73.847017  241.893563\n",
       "1       Male  68.781904  162.310473\n",
       "2       Male  74.110105  212.740856\n",
       "3       Male  71.730978  220.042470\n",
       "4       Male  69.881796  206.349801\n",
       "...      ...        ...         ...\n",
       "9995  Female  66.172652  136.777454\n",
       "9996  Female  67.067155  170.867906\n",
       "9997  Female  63.867992  128.475319\n",
       "9998  Female  69.034243  163.852461\n",
       "9999  Female  61.944246  113.649103\n",
       "\n",
       "[10000 rows x 3 columns]>"
      ]
     },
     "execution_count": 6,
     "metadata": {},
     "output_type": "execute_result"
    }
   ],
   "source": [
    "data.info"
   ]
  },
  {
   "cell_type": "code",
   "execution_count": 7,
   "id": "8fda5bdd-1ef8-447c-a280-22c66242c6e8",
   "metadata": {},
   "outputs": [],
   "source": [
    "#x height 100개\n",
    "#y whight 100개"
   ]
  },
  {
   "cell_type": "code",
   "execution_count": 22,
   "id": "2e9f6333-2649-4958-9368-9a7210b057ea",
   "metadata": {},
   "outputs": [],
   "source": [
    "x=data['Height'][:100]"
   ]
  },
  {
   "cell_type": "code",
   "execution_count": 23,
   "id": "1378f5d0-1652-485e-b7c1-1931789f8022",
   "metadata": {},
   "outputs": [],
   "source": [
    "y=data['Weight'][:100]"
   ]
  },
  {
   "cell_type": "code",
   "execution_count": 18,
   "id": "5195759f-ac64-44a2-9d75-cebbca1776be",
   "metadata": {},
   "outputs": [
    {
     "data": {
      "text/html": [
       "<div>\n",
       "<style scoped>\n",
       "    .dataframe tbody tr th:only-of-type {\n",
       "        vertical-align: middle;\n",
       "    }\n",
       "\n",
       "    .dataframe tbody tr th {\n",
       "        vertical-align: top;\n",
       "    }\n",
       "\n",
       "    .dataframe thead th {\n",
       "        text-align: right;\n",
       "    }\n",
       "</style>\n",
       "<table border=\"1\" class=\"dataframe\">\n",
       "  <thead>\n",
       "    <tr style=\"text-align: right;\">\n",
       "      <th></th>\n",
       "      <th>Gender</th>\n",
       "      <th>Height</th>\n",
       "      <th>Weight</th>\n",
       "      <th>x</th>\n",
       "      <th>y</th>\n",
       "    </tr>\n",
       "  </thead>\n",
       "  <tbody>\n",
       "    <tr>\n",
       "      <th>0</th>\n",
       "      <td>Male</td>\n",
       "      <td>73.847017</td>\n",
       "      <td>241.893563</td>\n",
       "      <td>73.847017</td>\n",
       "      <td>241.893563</td>\n",
       "    </tr>\n",
       "    <tr>\n",
       "      <th>1</th>\n",
       "      <td>Male</td>\n",
       "      <td>68.781904</td>\n",
       "      <td>162.310473</td>\n",
       "      <td>68.781904</td>\n",
       "      <td>162.310473</td>\n",
       "    </tr>\n",
       "    <tr>\n",
       "      <th>2</th>\n",
       "      <td>Male</td>\n",
       "      <td>74.110105</td>\n",
       "      <td>212.740856</td>\n",
       "      <td>74.110105</td>\n",
       "      <td>212.740856</td>\n",
       "    </tr>\n",
       "    <tr>\n",
       "      <th>3</th>\n",
       "      <td>Male</td>\n",
       "      <td>71.730978</td>\n",
       "      <td>220.042470</td>\n",
       "      <td>71.730978</td>\n",
       "      <td>220.042470</td>\n",
       "    </tr>\n",
       "    <tr>\n",
       "      <th>4</th>\n",
       "      <td>Male</td>\n",
       "      <td>69.881796</td>\n",
       "      <td>206.349801</td>\n",
       "      <td>69.881796</td>\n",
       "      <td>206.349801</td>\n",
       "    </tr>\n",
       "    <tr>\n",
       "      <th>...</th>\n",
       "      <td>...</td>\n",
       "      <td>...</td>\n",
       "      <td>...</td>\n",
       "      <td>...</td>\n",
       "      <td>...</td>\n",
       "    </tr>\n",
       "    <tr>\n",
       "      <th>9995</th>\n",
       "      <td>Female</td>\n",
       "      <td>66.172652</td>\n",
       "      <td>136.777454</td>\n",
       "      <td>NaN</td>\n",
       "      <td>NaN</td>\n",
       "    </tr>\n",
       "    <tr>\n",
       "      <th>9996</th>\n",
       "      <td>Female</td>\n",
       "      <td>67.067155</td>\n",
       "      <td>170.867906</td>\n",
       "      <td>NaN</td>\n",
       "      <td>NaN</td>\n",
       "    </tr>\n",
       "    <tr>\n",
       "      <th>9997</th>\n",
       "      <td>Female</td>\n",
       "      <td>63.867992</td>\n",
       "      <td>128.475319</td>\n",
       "      <td>NaN</td>\n",
       "      <td>NaN</td>\n",
       "    </tr>\n",
       "    <tr>\n",
       "      <th>9998</th>\n",
       "      <td>Female</td>\n",
       "      <td>69.034243</td>\n",
       "      <td>163.852461</td>\n",
       "      <td>NaN</td>\n",
       "      <td>NaN</td>\n",
       "    </tr>\n",
       "    <tr>\n",
       "      <th>9999</th>\n",
       "      <td>Female</td>\n",
       "      <td>61.944246</td>\n",
       "      <td>113.649103</td>\n",
       "      <td>NaN</td>\n",
       "      <td>NaN</td>\n",
       "    </tr>\n",
       "  </tbody>\n",
       "</table>\n",
       "<p>10000 rows × 5 columns</p>\n",
       "</div>"
      ],
      "text/plain": [
       "      Gender     Height      Weight          x           y\n",
       "0       Male  73.847017  241.893563  73.847017  241.893563\n",
       "1       Male  68.781904  162.310473  68.781904  162.310473\n",
       "2       Male  74.110105  212.740856  74.110105  212.740856\n",
       "3       Male  71.730978  220.042470  71.730978  220.042470\n",
       "4       Male  69.881796  206.349801  69.881796  206.349801\n",
       "...      ...        ...         ...        ...         ...\n",
       "9995  Female  66.172652  136.777454        NaN         NaN\n",
       "9996  Female  67.067155  170.867906        NaN         NaN\n",
       "9997  Female  63.867992  128.475319        NaN         NaN\n",
       "9998  Female  69.034243  163.852461        NaN         NaN\n",
       "9999  Female  61.944246  113.649103        NaN         NaN\n",
       "\n",
       "[10000 rows x 5 columns]"
      ]
     },
     "execution_count": 18,
     "metadata": {},
     "output_type": "execute_result"
    }
   ],
   "source": [
    "data"
   ]
  },
  {
   "cell_type": "code",
   "execution_count": 30,
   "id": "bdc618ed-ae35-4d3c-a2d8-b9bc9a60feb9",
   "metadata": {},
   "outputs": [
    {
     "data": {
      "image/png": "[encoded data removed]",
      "text/plain": [
       "<Figure size 432x288 with 1 Axes>"
      ]
     },
     "metadata": {
      "needs_background": "light"
     },
     "output_type": "display_data"
    }
   ],
   "source": [
    "plt.plot(x,y,'yo');"
   ]
  },
  {
   "cell_type": "code",
   "execution_count": 31,
   "id": "6962f8d2-e2d2-4408-95ed-f5e295e9fb81",
   "metadata": {},
   "outputs": [],
   "source": [
    "model=LinearRegression()"
   ]
  },
  {
   "cell_type": "code",
   "execution_count": 33,
   "id": "62091031-78c9-4a21-a95a-e162a357d9c4",
   "metadata": {},
   "outputs": [
    {
     "data": {
      "text/plain": [
       "LinearRegression()"
      ]
     },
     "execution_count": 33,
     "metadata": {},
     "output_type": "execute_result"
    }
   ],
   "source": [
    "model.fit(x.values.reshape(-1,1),y)"
   ]
  },
  {
   "cell_type": "code",
   "execution_count": 34,
   "id": "68a9fad1-c8fc-4920-a6d7-8f39b9b460b9",
   "metadata": {},
   "outputs": [
    {
     "data": {
      "text/plain": [
       "array([250.91631239])"
      ]
     },
     "execution_count": 34,
     "metadata": {},
     "output_type": "execute_result"
    }
   ],
   "source": [
    "model.predict([[80]])#### 대괄호 2개 넣기"
   ]
  },
  {
   "cell_type": "code",
   "execution_count": 35,
   "id": "19942e0c-f828-434d-8115-e2452b5749be",
   "metadata": {},
   "outputs": [
    {
     "data": {
      "text/plain": [
       "array([5.85146979])"
      ]
     },
     "execution_count": 35,
     "metadata": {},
     "output_type": "execute_result"
    }
   ],
   "source": [
    "model.coef_"
   ]
  },
  {
   "cell_type": "code",
   "execution_count": 37,
   "id": "01fd0712-ecfa-4470-b858-14c05ee70c57",
   "metadata": {},
   "outputs": [
    {
     "data": {
      "text/plain": [
       "-217.20127044144004"
      ]
     },
     "execution_count": 37,
     "metadata": {},
     "output_type": "execute_result"
    }
   ],
   "source": [
    "model.intercept_"
   ]
  },
  {
   "cell_type": "code",
   "execution_count": 38,
   "id": "5bef83b0-5a6d-41f6-bfa1-0758e0c2f581",
   "metadata": {},
   "outputs": [
    {
     "data": {
      "text/plain": [
       "array([250.91631239])"
      ]
     },
     "execution_count": 38,
     "metadata": {},
     "output_type": "execute_result"
    }
   ],
   "source": [
    "80*model.coef_ + model.intercept_ # wx+b "
   ]
  },
  {
   "cell_type": "code",
   "execution_count": 40,
   "id": "1b3c6cc3-a9c0-49b0-b493-c5f4f9d382fb",
   "metadata": {},
   "outputs": [],
   "source": [
    "prediction= model.predict(x.values.reshape(-1,1))"
   ]
  },
  {
   "cell_type": "code",
   "execution_count": 41,
   "id": "05913029-24e4-405f-b8b5-bfa9be61d458",
   "metadata": {},
   "outputs": [
    {
     "data": {
      "text/plain": [
       "[<matplotlib.lines.Line2D at 0x26c7a42ab80>]"
      ]
     },
     "execution_count": 41,
     "metadata": {},
     "output_type": "execute_result"
    },
    {
     "data": {
      "image/png": "[encoded data removed]",
      "text/plain": [
       "<Figure size 432x288 with 1 Axes>"
      ]
     },
     "metadata": {
      "needs_background": "light"
     },
     "output_type": "display_data"
    }
   ],
   "source": [
    "plt.plot(x,y,'o')\n",
    "plt.plot(x,prediction)"
   ]
  },
  {
   "cell_type": "markdown",
   "id": "aa84df64-032e-46d8-88f5-654fa46d0797",
   "metadata": {},
   "source": [
    "###  boston House Price"
   ]
  },
  {
   "cell_type": "code",
   "execution_count": null,
   "id": "b3aafb10-b137-4892-9222-7ed3a18828a1",
   "metadata": {},
   "outputs": [],
   "source": []
  }
 ],
 "metadata": {
  "kernelspec": {
   "display_name": "Python 3 (ipykernel)",
   "language": "python",
   "name": "python3"
  },
  "language_info": {
   "codemirror_mode": {
    "name": "ipython",
    "version": 3
   },
   "file_extension": ".py",
   "mimetype": "text/x-python",
   "name": "python",
   "nbconvert_exporter": "python",
   "pygments_lexer": "ipython3",
   "version": "3.9.12"
  }
 },
 "nbformat": 4,
 "nbformat_minor": 5
}
