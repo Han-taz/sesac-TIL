{
 "cells": [
  {
   "cell_type": "code",
   "execution_count": 1,
   "id": "0a0e5daa-761f-4685-9b82-122c8b939659",
   "metadata": {},
   "outputs": [],
   "source": [
    "import pandas as pd\n",
    "import sklearn.datasets\n",
    "from sklearn.model_selection import train_test_split\n",
    "from sklearn.linear_model import LinearRegression\n",
    "from sklearn.metrics import mean_absolute_error"
   ]
  },
  {
   "cell_type": "code",
   "execution_count": 2,
   "id": "042bb0c5-f3b0-4964-adcc-8b84f5d090c8",
   "metadata": {
    "collapsed": true,
    "jupyter": {
     "outputs_hidden": true
    },
    "tags": []
   },
   "outputs": [
    {
     "name": "stderr",
     "output_type": "stream",
     "text": [
      "C:\\Users\\user\\anaconda3\\lib\\site-packages\\sklearn\\utils\\deprecation.py:87: FutureWarning: Function load_boston is deprecated; `load_boston` is deprecated in 1.0 and will be removed in 1.2.\n",
      "\n",
      "    The Boston housing prices dataset has an ethical problem. You can refer to\n",
      "    the documentation of this function for further details.\n",
      "\n",
      "    The scikit-learn maintainers therefore strongly discourage the use of this\n",
      "    dataset unless the purpose of the code is to study and educate about\n",
      "    ethical issues in data science and machine learning.\n",
      "\n",
      "    In this special case, you can fetch the dataset from the original\n",
      "    source::\n",
      "\n",
      "        import pandas as pd\n",
      "        import numpy as np\n",
      "\n",
      "\n",
      "        data_url = \"http://lib.stat.cmu.edu/datasets/boston\"\n",
      "        raw_df = pd.read_csv(data_url, sep=\"\\s+\", skiprows=22, header=None)\n",
      "        data = np.hstack([raw_df.values[::2, :], raw_df.values[1::2, :2]])\n",
      "        target = raw_df.values[1::2, 2]\n",
      "\n",
      "    Alternative datasets include the California housing dataset (i.e.\n",
      "    :func:`~sklearn.datasets.fetch_california_housing`) and the Ames housing\n",
      "    dataset. You can load the datasets as follows::\n",
      "\n",
      "        from sklearn.datasets import fetch_california_housing\n",
      "        housing = fetch_california_housing()\n",
      "\n",
      "    for the California housing dataset and::\n",
      "\n",
      "        from sklearn.datasets import fetch_openml\n",
      "        housing = fetch_openml(name=\"house_prices\", as_frame=True)\n",
      "\n",
      "    for the Ames housing dataset.\n",
      "    \n",
      "  warnings.warn(msg, category=FutureWarning)\n"
     ]
    }
   ],
   "source": [
    "dataset=sklearn.datasets.load_boston()"
   ]
  },
  {
   "cell_type": "code",
   "execution_count": 3,
   "id": "88431d0a-c4ba-42df-bac5-886abeb98f85",
   "metadata": {},
   "outputs": [],
   "source": [
    "data=pd.DataFrame(dataset.data, columns=dataset.feature_names)"
   ]
  },
  {
   "cell_type": "code",
   "execution_count": 4,
   "id": "67d490e1-26b6-41ac-96cc-599def1596a5",
   "metadata": {},
   "outputs": [],
   "source": [
    "data['Price']=dataset.target"
   ]
  },
  {
   "cell_type": "code",
   "execution_count": 5,
   "id": "533edf14-882e-4e7b-a8df-85279dba6dee",
   "metadata": {},
   "outputs": [
    {
     "data": {
      "text/html": [
       "<div>\n",
       "<style scoped>\n",
       "    .dataframe tbody tr th:only-of-type {\n",
       "        vertical-align: middle;\n",
       "    }\n",
       "\n",
       "    .dataframe tbody tr th {\n",
       "        vertical-align: top;\n",
       "    }\n",
       "\n",
       "    .dataframe thead th {\n",
       "        text-align: right;\n",
       "    }\n",
       "</style>\n",
       "<table border=\"1\" class=\"dataframe\">\n",
       "  <thead>\n",
       "    <tr style=\"text-align: right;\">\n",
       "      <th></th>\n",
       "      <th>CRIM</th>\n",
       "      <th>ZN</th>\n",
       "      <th>INDUS</th>\n",
       "      <th>CHAS</th>\n",
       "      <th>NOX</th>\n",
       "      <th>RM</th>\n",
       "      <th>AGE</th>\n",
       "      <th>DIS</th>\n",
       "      <th>RAD</th>\n",
       "      <th>TAX</th>\n",
       "      <th>PTRATIO</th>\n",
       "      <th>B</th>\n",
       "      <th>LSTAT</th>\n",
       "      <th>Price</th>\n",
       "    </tr>\n",
       "  </thead>\n",
       "  <tbody>\n",
       "    <tr>\n",
       "      <th>0</th>\n",
       "      <td>0.00632</td>\n",
       "      <td>18.0</td>\n",
       "      <td>2.31</td>\n",
       "      <td>0.0</td>\n",
       "      <td>0.538</td>\n",
       "      <td>6.575</td>\n",
       "      <td>65.2</td>\n",
       "      <td>4.0900</td>\n",
       "      <td>1.0</td>\n",
       "      <td>296.0</td>\n",
       "      <td>15.3</td>\n",
       "      <td>396.90</td>\n",
       "      <td>4.98</td>\n",
       "      <td>24.0</td>\n",
       "    </tr>\n",
       "    <tr>\n",
       "      <th>1</th>\n",
       "      <td>0.02731</td>\n",
       "      <td>0.0</td>\n",
       "      <td>7.07</td>\n",
       "      <td>0.0</td>\n",
       "      <td>0.469</td>\n",
       "      <td>6.421</td>\n",
       "      <td>78.9</td>\n",
       "      <td>4.9671</td>\n",
       "      <td>2.0</td>\n",
       "      <td>242.0</td>\n",
       "      <td>17.8</td>\n",
       "      <td>396.90</td>\n",
       "      <td>9.14</td>\n",
       "      <td>21.6</td>\n",
       "    </tr>\n",
       "    <tr>\n",
       "      <th>2</th>\n",
       "      <td>0.02729</td>\n",
       "      <td>0.0</td>\n",
       "      <td>7.07</td>\n",
       "      <td>0.0</td>\n",
       "      <td>0.469</td>\n",
       "      <td>7.185</td>\n",
       "      <td>61.1</td>\n",
       "      <td>4.9671</td>\n",
       "      <td>2.0</td>\n",
       "      <td>242.0</td>\n",
       "      <td>17.8</td>\n",
       "      <td>392.83</td>\n",
       "      <td>4.03</td>\n",
       "      <td>34.7</td>\n",
       "    </tr>\n",
       "    <tr>\n",
       "      <th>3</th>\n",
       "      <td>0.03237</td>\n",
       "      <td>0.0</td>\n",
       "      <td>2.18</td>\n",
       "      <td>0.0</td>\n",
       "      <td>0.458</td>\n",
       "      <td>6.998</td>\n",
       "      <td>45.8</td>\n",
       "      <td>6.0622</td>\n",
       "      <td>3.0</td>\n",
       "      <td>222.0</td>\n",
       "      <td>18.7</td>\n",
       "      <td>394.63</td>\n",
       "      <td>2.94</td>\n",
       "      <td>33.4</td>\n",
       "    </tr>\n",
       "    <tr>\n",
       "      <th>4</th>\n",
       "      <td>0.06905</td>\n",
       "      <td>0.0</td>\n",
       "      <td>2.18</td>\n",
       "      <td>0.0</td>\n",
       "      <td>0.458</td>\n",
       "      <td>7.147</td>\n",
       "      <td>54.2</td>\n",
       "      <td>6.0622</td>\n",
       "      <td>3.0</td>\n",
       "      <td>222.0</td>\n",
       "      <td>18.7</td>\n",
       "      <td>396.90</td>\n",
       "      <td>5.33</td>\n",
       "      <td>36.2</td>\n",
       "    </tr>\n",
       "    <tr>\n",
       "      <th>...</th>\n",
       "      <td>...</td>\n",
       "      <td>...</td>\n",
       "      <td>...</td>\n",
       "      <td>...</td>\n",
       "      <td>...</td>\n",
       "      <td>...</td>\n",
       "      <td>...</td>\n",
       "      <td>...</td>\n",
       "      <td>...</td>\n",
       "      <td>...</td>\n",
       "      <td>...</td>\n",
       "      <td>...</td>\n",
       "      <td>...</td>\n",
       "      <td>...</td>\n",
       "    </tr>\n",
       "    <tr>\n",
       "      <th>501</th>\n",
       "      <td>0.06263</td>\n",
       "      <td>0.0</td>\n",
       "      <td>11.93</td>\n",
       "      <td>0.0</td>\n",
       "      <td>0.573</td>\n",
       "      <td>6.593</td>\n",
       "      <td>69.1</td>\n",
       "      <td>2.4786</td>\n",
       "      <td>1.0</td>\n",
       "      <td>273.0</td>\n",
       "      <td>21.0</td>\n",
       "      <td>391.99</td>\n",
       "      <td>9.67</td>\n",
       "      <td>22.4</td>\n",
       "    </tr>\n",
       "    <tr>\n",
       "      <th>502</th>\n",
       "      <td>0.04527</td>\n",
       "      <td>0.0</td>\n",
       "      <td>11.93</td>\n",
       "      <td>0.0</td>\n",
       "      <td>0.573</td>\n",
       "      <td>6.120</td>\n",
       "      <td>76.7</td>\n",
       "      <td>2.2875</td>\n",
       "      <td>1.0</td>\n",
       "      <td>273.0</td>\n",
       "      <td>21.0</td>\n",
       "      <td>396.90</td>\n",
       "      <td>9.08</td>\n",
       "      <td>20.6</td>\n",
       "    </tr>\n",
       "    <tr>\n",
       "      <th>503</th>\n",
       "      <td>0.06076</td>\n",
       "      <td>0.0</td>\n",
       "      <td>11.93</td>\n",
       "      <td>0.0</td>\n",
       "      <td>0.573</td>\n",
       "      <td>6.976</td>\n",
       "      <td>91.0</td>\n",
       "      <td>2.1675</td>\n",
       "      <td>1.0</td>\n",
       "      <td>273.0</td>\n",
       "      <td>21.0</td>\n",
       "      <td>396.90</td>\n",
       "      <td>5.64</td>\n",
       "      <td>23.9</td>\n",
       "    </tr>\n",
       "    <tr>\n",
       "      <th>504</th>\n",
       "      <td>0.10959</td>\n",
       "      <td>0.0</td>\n",
       "      <td>11.93</td>\n",
       "      <td>0.0</td>\n",
       "      <td>0.573</td>\n",
       "      <td>6.794</td>\n",
       "      <td>89.3</td>\n",
       "      <td>2.3889</td>\n",
       "      <td>1.0</td>\n",
       "      <td>273.0</td>\n",
       "      <td>21.0</td>\n",
       "      <td>393.45</td>\n",
       "      <td>6.48</td>\n",
       "      <td>22.0</td>\n",
       "    </tr>\n",
       "    <tr>\n",
       "      <th>505</th>\n",
       "      <td>0.04741</td>\n",
       "      <td>0.0</td>\n",
       "      <td>11.93</td>\n",
       "      <td>0.0</td>\n",
       "      <td>0.573</td>\n",
       "      <td>6.030</td>\n",
       "      <td>80.8</td>\n",
       "      <td>2.5050</td>\n",
       "      <td>1.0</td>\n",
       "      <td>273.0</td>\n",
       "      <td>21.0</td>\n",
       "      <td>396.90</td>\n",
       "      <td>7.88</td>\n",
       "      <td>11.9</td>\n",
       "    </tr>\n",
       "  </tbody>\n",
       "</table>\n",
       "<p>506 rows × 14 columns</p>\n",
       "</div>"
      ],
      "text/plain": [
       "        CRIM    ZN  INDUS  CHAS    NOX     RM   AGE     DIS  RAD    TAX  \\\n",
       "0    0.00632  18.0   2.31   0.0  0.538  6.575  65.2  4.0900  1.0  296.0   \n",
       "1    0.02731   0.0   7.07   0.0  0.469  6.421  78.9  4.9671  2.0  242.0   \n",
       "2    0.02729   0.0   7.07   0.0  0.469  7.185  61.1  4.9671  2.0  242.0   \n",
       "3    0.03237   0.0   2.18   0.0  0.458  6.998  45.8  6.0622  3.0  222.0   \n",
       "4    0.06905   0.0   2.18   0.0  0.458  7.147  54.2  6.0622  3.0  222.0   \n",
       "..       ...   ...    ...   ...    ...    ...   ...     ...  ...    ...   \n",
       "501  0.06263   0.0  11.93   0.0  0.573  6.593  69.1  2.4786  1.0  273.0   \n",
       "502  0.04527   0.0  11.93   0.0  0.573  6.120  76.7  2.2875  1.0  273.0   \n",
       "503  0.06076   0.0  11.93   0.0  0.573  6.976  91.0  2.1675  1.0  273.0   \n",
       "504  0.10959   0.0  11.93   0.0  0.573  6.794  89.3  2.3889  1.0  273.0   \n",
       "505  0.04741   0.0  11.93   0.0  0.573  6.030  80.8  2.5050  1.0  273.0   \n",
       "\n",
       "     PTRATIO       B  LSTAT  Price  \n",
       "0       15.3  396.90   4.98   24.0  \n",
       "1       17.8  396.90   9.14   21.6  \n",
       "2       17.8  392.83   4.03   34.7  \n",
       "3       18.7  394.63   2.94   33.4  \n",
       "4       18.7  396.90   5.33   36.2  \n",
       "..       ...     ...    ...    ...  \n",
       "501     21.0  391.99   9.67   22.4  \n",
       "502     21.0  396.90   9.08   20.6  \n",
       "503     21.0  396.90   5.64   23.9  \n",
       "504     21.0  393.45   6.48   22.0  \n",
       "505     21.0  396.90   7.88   11.9  \n",
       "\n",
       "[506 rows x 14 columns]"
      ]
     },
     "execution_count": 5,
     "metadata": {},
     "output_type": "execute_result"
    }
   ],
   "source": [
    "data"
   ]
  },
  {
   "cell_type": "code",
   "execution_count": 6,
   "id": "6998183a-0a72-4365-9f33-19b6bbefa088",
   "metadata": {},
   "outputs": [
    {
     "data": {
      "text/plain": [
       "353    187.0\n",
       "123    188.0\n",
       "122    188.0\n",
       "126    188.0\n",
       "125    188.0\n",
       "       ...  \n",
       "492    711.0\n",
       "491    711.0\n",
       "490    711.0\n",
       "489    711.0\n",
       "488    711.0\n",
       "Name: TAX, Length: 506, dtype: float64"
      ]
     },
     "execution_count": 6,
     "metadata": {},
     "output_type": "execute_result"
    }
   ],
   "source": [
    "data['TAX'].sort_values()"
   ]
  },
  {
   "cell_type": "code",
   "execution_count": 7,
   "id": "c93264c4-cc31-4d7e-9df6-576291cf812e",
   "metadata": {},
   "outputs": [
    {
     "data": {
      "text/plain": [
       "0      0.00632\n",
       "1      0.02731\n",
       "2      0.02729\n",
       "3      0.03237\n",
       "4      0.06905\n",
       "        ...   \n",
       "501    0.06263\n",
       "502    0.04527\n",
       "503    0.06076\n",
       "504    0.10959\n",
       "505    0.04741\n",
       "Name: CRIM, Length: 506, dtype: float64"
      ]
     },
     "execution_count": 7,
     "metadata": {},
     "output_type": "execute_result"
    }
   ],
   "source": [
    "data['CRIM']"
   ]
  },
  {
   "cell_type": "code",
   "execution_count": 8,
   "id": "62c2f03d-720e-43a7-916c-068dd6d2d853",
   "metadata": {},
   "outputs": [
    {
     "data": {
      "text/plain": [
       "TAX\n",
       "187.0    0.01709\n",
       "188.0    0.09849\n",
       "193.0    0.06738\n",
       "198.0    0.01501\n",
       "216.0    0.03705\n",
       "          ...   \n",
       "432.0    0.14231\n",
       "437.0    0.35233\n",
       "469.0    0.01360\n",
       "666.0    9.08499\n",
       "711.0    0.15086\n",
       "Name: CRIM, Length: 66, dtype: float64"
      ]
     },
     "execution_count": 8,
     "metadata": {},
     "output_type": "execute_result"
    }
   ],
   "source": [
    "data.groupby('TAX')['CRIM'].median()"
   ]
  },
  {
   "cell_type": "code",
   "execution_count": 9,
   "id": "a1bbad89-dd5f-4436-b6ae-7553a381edb7",
   "metadata": {},
   "outputs": [
    {
     "data": {
      "text/plain": [
       "450      0.32\n",
       "423      2.52\n",
       "410      2.60\n",
       "457      3.50\n",
       "424      3.65\n",
       "        ...  \n",
       "321    396.90\n",
       "322    396.90\n",
       "324    396.90\n",
       "295    396.90\n",
       "505    396.90\n",
       "Name: B, Length: 506, dtype: float64"
      ]
     },
     "execution_count": 9,
     "metadata": {},
     "output_type": "execute_result"
    }
   ],
   "source": [
    "data['B'].sort_values()"
   ]
  },
  {
   "cell_type": "code",
   "execution_count": 10,
   "id": "cca8e9df-e32d-4c82-a014-6ec636c68e92",
   "metadata": {},
   "outputs": [
    {
     "data": {
      "text/plain": [
       "B\n",
       "394.72     0.01001\n",
       "394.74     0.01301\n",
       "395.93     0.01311\n",
       "394.23     0.01381\n",
       "392.90     0.01432\n",
       "            ...   \n",
       "329.46    41.52920\n",
       "88.27     45.74610\n",
       "2.60      51.13580\n",
       "384.97    67.92080\n",
       "16.45     73.53410\n",
       "Name: CRIM, Length: 357, dtype: float64"
      ]
     },
     "execution_count": 10,
     "metadata": {},
     "output_type": "execute_result"
    }
   ],
   "source": [
    "data.groupby('B')['CRIM'].median().sort_values()"
   ]
  },
  {
   "cell_type": "code",
   "execution_count": 11,
   "id": "14f23c73-70ab-4bde-8b40-ec5d1ea31e18",
   "metadata": {
    "tags": []
   },
   "outputs": [
    {
     "data": {
      "text/plain": [
       "PTRATIO\n",
       "15.3    0.009060\n",
       "15.5    0.013010\n",
       "21.1    0.013600\n",
       "14.4    0.013810\n",
       "15.1    0.014320\n",
       "13.6    0.015010\n",
       "17.0    0.017435\n",
       "15.6    0.018130\n",
       "15.9    0.020180\n",
       "17.3    0.020550\n",
       "18.2    0.035390\n",
       "19.0    0.038860\n",
       "12.6    0.040110\n",
       "16.1    0.043790\n",
       "18.8    0.046375\n",
       "14.9    0.049170\n",
       "16.9    0.050230\n",
       "16.8    0.051705\n",
       "18.3    0.053015\n",
       "18.5    0.054615\n",
       "14.8    0.055610\n",
       "16.4    0.059160\n",
       "17.6    0.061270\n",
       "22.0    0.074800\n",
       "18.7    0.078960\n",
       "16.0    0.082650\n",
       "17.8    0.083080\n",
       "16.6    0.083455\n",
       "15.2    0.093780\n",
       "18.0    0.115040\n",
       "19.7    0.118385\n",
       "18.9    0.128160\n",
       "20.9    0.139600\n",
       "20.1    0.150860\n",
       "17.9    0.159360\n",
       "19.1    0.169020\n",
       "19.2    0.173310\n",
       "18.6    0.198020\n",
       "19.6    0.262475\n",
       "18.4    0.293825\n",
       "21.2    0.352330\n",
       "17.4    0.444845\n",
       "13.0    0.594940\n",
       "21.0    0.802710\n",
       "14.7    1.921980\n",
       "20.2    8.568445\n",
       "Name: CRIM, dtype: float64"
      ]
     },
     "execution_count": 11,
     "metadata": {},
     "output_type": "execute_result"
    }
   ],
   "source": [
    "data.groupby('PTRATIO')['CRIM'].median().sort_values()"
   ]
  },
  {
   "cell_type": "code",
   "execution_count": 12,
   "id": "11581b96-123d-494b-9857-a60c1b531aff",
   "metadata": {},
   "outputs": [
    {
     "data": {
      "text/plain": [
       "array([ 1.,  2.,  3.,  5.,  4.,  8.,  6.,  7., 24.])"
      ]
     },
     "execution_count": 12,
     "metadata": {},
     "output_type": "execute_result"
    }
   ],
   "source": [
    "data['RAD'].unique()"
   ]
  },
  {
   "cell_type": "code",
   "execution_count": 13,
   "id": "c7e3f44c-1af7-4b3e-a7bf-8c08d735d9a6",
   "metadata": {},
   "outputs": [
    {
     "data": {
      "text/plain": [
       "AGE\n",
       "31.5     1.0\n",
       "44.4     1.0\n",
       "49.3     1.0\n",
       "20.8     1.0\n",
       "19.1     1.0\n",
       "        ... \n",
       "53.2    24.0\n",
       "90.7    24.0\n",
       "96.4    24.0\n",
       "64.7    24.0\n",
       "75.0    24.0\n",
       "Name: RAD, Length: 356, dtype: float64"
      ]
     },
     "execution_count": 13,
     "metadata": {},
     "output_type": "execute_result"
    }
   ],
   "source": [
    "data.groupby('AGE')['RAD'].mean().sort_values()"
   ]
  },
  {
   "cell_type": "code",
   "execution_count": 14,
   "id": "11a17d67-d84b-4546-8aeb-91987a19724b",
   "metadata": {},
   "outputs": [
    {
     "data": {
      "text/plain": [
       "array([0., 1.])"
      ]
     },
     "execution_count": 14,
     "metadata": {},
     "output_type": "execute_result"
    }
   ],
   "source": [
    "data['CHAS'].unique()"
   ]
  },
  {
   "cell_type": "code",
   "execution_count": 15,
   "id": "3799ff37-03e7-4a04-8d2f-590909747614",
   "metadata": {},
   "outputs": [
    {
     "data": {
      "text/plain": [
       "0.25651"
      ]
     },
     "execution_count": 15,
     "metadata": {},
     "output_type": "execute_result"
    }
   ],
   "source": [
    "data['CRIM'].median()"
   ]
  },
  {
   "cell_type": "code",
   "execution_count": 16,
   "id": "4eccf235-4839-46c9-a1d0-1352b50ad776",
   "metadata": {},
   "outputs": [
    {
     "data": {
      "text/plain": [
       "3.6135235573122535"
      ]
     },
     "execution_count": 16,
     "metadata": {},
     "output_type": "execute_result"
    }
   ],
   "source": [
    "data['CRIM'].mean()"
   ]
  },
  {
   "cell_type": "code",
   "execution_count": 17,
   "id": "0cac47a1-49a6-4edb-a609-cdc08ce8872b",
   "metadata": {},
   "outputs": [
    {
     "data": {
      "text/plain": [
       "<bound method NDFrame._add_numeric_operations.<locals>.min of 0      0.00632\n",
       "1      0.02731\n",
       "2      0.02729\n",
       "3      0.03237\n",
       "4      0.06905\n",
       "        ...   \n",
       "501    0.06263\n",
       "502    0.04527\n",
       "503    0.06076\n",
       "504    0.10959\n",
       "505    0.04741\n",
       "Name: CRIM, Length: 506, dtype: float64>"
      ]
     },
     "execution_count": 17,
     "metadata": {},
     "output_type": "execute_result"
    }
   ],
   "source": [
    "data['CRIM'].min"
   ]
  },
  {
   "cell_type": "code",
   "execution_count": 24,
   "id": "fa3d7ba1-02ce-456f-bf80-5c80fe7f33e8",
   "metadata": {
    "tags": []
   },
   "outputs": [
    {
     "name": "stderr",
     "output_type": "stream",
     "text": [
      "C:\\Users\\user\\AppData\\Local\\Temp\\ipykernel_7036\\1321123858.py:1: FutureWarning: In a future version of pandas all arguments of DataFrame.drop except for the argument 'labels' will be keyword-only.\n",
      "  x=data.drop('Price',\"AGE\",axis=1)\n"
     ]
    },
    {
     "ename": "TypeError",
     "evalue": "drop() got multiple values for argument 'axis'",
     "output_type": "error",
     "traceback": [
      "\u001b[1;31m---------------------------------------------------------------------------\u001b[0m",
      "\u001b[1;31mTypeError\u001b[0m                                 Traceback (most recent call last)",
      "Input \u001b[1;32mIn [24]\u001b[0m, in \u001b[0;36m<cell line: 1>\u001b[1;34m()\u001b[0m\n\u001b[1;32m----> 1\u001b[0m x\u001b[38;5;241m=\u001b[39m\u001b[43mdata\u001b[49m\u001b[38;5;241;43m.\u001b[39;49m\u001b[43mdrop\u001b[49m\u001b[43m(\u001b[49m\u001b[38;5;124;43m'\u001b[39;49m\u001b[38;5;124;43mPrice\u001b[39;49m\u001b[38;5;124;43m'\u001b[39;49m\u001b[43m,\u001b[49m\u001b[38;5;124;43m\"\u001b[39;49m\u001b[38;5;124;43mAGE\u001b[39;49m\u001b[38;5;124;43m\"\u001b[39;49m\u001b[43m,\u001b[49m\u001b[43maxis\u001b[49m\u001b[38;5;241;43m=\u001b[39;49m\u001b[38;5;241;43m1\u001b[39;49m\u001b[43m)\u001b[49m\n\u001b[0;32m      2\u001b[0m y\u001b[38;5;241m=\u001b[39mdata[\u001b[38;5;124m'\u001b[39m\u001b[38;5;124mPrice\u001b[39m\u001b[38;5;124m'\u001b[39m]\n",
      "File \u001b[1;32m~\\anaconda3\\lib\\site-packages\\pandas\\util\\_decorators.py:311\u001b[0m, in \u001b[0;36mdeprecate_nonkeyword_arguments.<locals>.decorate.<locals>.wrapper\u001b[1;34m(*args, **kwargs)\u001b[0m\n\u001b[0;32m    305\u001b[0m \u001b[38;5;28;01mif\u001b[39;00m \u001b[38;5;28mlen\u001b[39m(args) \u001b[38;5;241m>\u001b[39m num_allow_args:\n\u001b[0;32m    306\u001b[0m     warnings\u001b[38;5;241m.\u001b[39mwarn(\n\u001b[0;32m    307\u001b[0m         msg\u001b[38;5;241m.\u001b[39mformat(arguments\u001b[38;5;241m=\u001b[39marguments),\n\u001b[0;32m    308\u001b[0m         \u001b[38;5;167;01mFutureWarning\u001b[39;00m,\n\u001b[0;32m    309\u001b[0m         stacklevel\u001b[38;5;241m=\u001b[39mstacklevel,\n\u001b[0;32m    310\u001b[0m     )\n\u001b[1;32m--> 311\u001b[0m \u001b[38;5;28;01mreturn\u001b[39;00m func(\u001b[38;5;241m*\u001b[39margs, \u001b[38;5;241m*\u001b[39m\u001b[38;5;241m*\u001b[39mkwargs)\n",
      "\u001b[1;31mTypeError\u001b[0m: drop() got multiple values for argument 'axis'"
     ]
    }
   ],
   "source": [
    "x=data.drop('Price',axis=1)\n",
    "y=data['Price']"
   ]
  },
  {
   "cell_type": "code",
   "execution_count": null,
   "id": "a3434013-7eef-411f-bf15-7e3772cd478a",
   "metadata": {},
   "outputs": [],
   "source": [
    "x_train, x_test, y_train, y_test=train_test_split(x,y,test_size=0.2, random_state=0)"
   ]
  },
  {
   "cell_type": "code",
   "execution_count": 25,
   "id": "c53a7571-a757-4d6a-8cce-881e198cce2b",
   "metadata": {},
   "outputs": [],
   "source": [
    "model= LinearRegression()"
   ]
  },
  {
   "cell_type": "code",
   "execution_count": 26,
   "id": "59c3659c-63c3-4792-9d22-297929d6f9a4",
   "metadata": {
    "tags": []
   },
   "outputs": [
    {
     "data": {
      "text/plain": [
       "LinearRegression()"
      ]
     },
     "execution_count": 26,
     "metadata": {},
     "output_type": "execute_result"
    }
   ],
   "source": [
    "model.fit(x_train,y_train)"
   ]
  },
  {
   "cell_type": "code",
   "execution_count": 27,
   "id": "152d3f90-99a5-4089-974c-001fe643dfb4",
   "metadata": {},
   "outputs": [],
   "source": [
    "pre_train=model.predict(x_train)"
   ]
  },
  {
   "cell_type": "code",
   "execution_count": 28,
   "id": "3c8b8062-9b72-48a6-a54b-6dcca6e06984",
   "metadata": {
    "tags": []
   },
   "outputs": [
    {
     "data": {
      "text/plain": [
       "3.10315639657944"
      ]
     },
     "execution_count": 28,
     "metadata": {},
     "output_type": "execute_result"
    }
   ],
   "source": [
    "mean_absolute_error(pre_train,y_train)"
   ]
  },
  {
   "cell_type": "code",
   "execution_count": 35,
   "id": "4070583a-c5a0-491d-a786-3ab2303a36f4",
   "metadata": {},
   "outputs": [],
   "source": [
    "import seaborn as sns\n",
    "import matplotlib.pyplot as plt"
   ]
  },
  {
   "cell_type": "code",
   "execution_count": 36,
   "id": "7591a0d1-4fa8-422a-b2b6-bd70625385ec",
   "metadata": {},
   "outputs": [],
   "source": [
    "corr=data.corr().round(2)"
   ]
  },
  {
   "cell_type": "code",
   "execution_count": 38,
   "id": "e5a57645-3b53-4638-b795-357723b93a5e",
   "metadata": {
    "tags": []
   },
   "outputs": [
    {
     "data": {
      "text/plain": [
       "<AxesSubplot:>"
      ]
     },
     "execution_count": 38,
     "metadata": {},
     "output_type": "execute_result"
    },
    {
     "data": {
      "image/png": "[encoded data removed]",
      "text/plain": [
       "<Figure size 720x720 with 2 Axes>"
      ]
     },
     "metadata": {
      "needs_background": "light"
     },
     "output_type": "display_data"
    }
   ],
   "source": [
    "plt.figure(figsize=(10,10))\n",
    "sns.heatmap(corr, annot=True)### 0.8이상은 빼준다"
   ]
  },
  {
   "cell_type": "code",
   "execution_count": 39,
   "id": "9706a785-f27e-4a7b-893c-24cd92294f17",
   "metadata": {},
   "outputs": [],
   "source": [
    "from sklearn.ensemble import GradientBoostingRegressor"
   ]
  },
  {
   "cell_type": "code",
   "execution_count": 40,
   "id": "51e7d002-26dd-4ba3-8ea1-ddb35c0a4565",
   "metadata": {},
   "outputs": [
    {
     "data": {
      "text/plain": [
       "GradientBoostingRegressor()"
      ]
     },
     "execution_count": 40,
     "metadata": {},
     "output_type": "execute_result"
    }
   ],
   "source": [
    "model2=GradientBoostingRegressor()\n",
    "model2.fit(x_train,y_train)"
   ]
  },
  {
   "cell_type": "code",
   "execution_count": 41,
   "id": "6d427816-09b4-4d05-b0da-08f3f212aa20",
   "metadata": {},
   "outputs": [],
   "source": [
    "pre_train=model2.predict(x_train)"
   ]
  },
  {
   "cell_type": "code",
   "execution_count": 53,
   "id": "f1d300c0-fea8-41bc-807d-a3225cdaf490",
   "metadata": {
    "collapsed": true,
    "jupyter": {
     "outputs_hidden": true
    },
    "tags": []
   },
   "outputs": [
    {
     "data": {
      "text/plain": [
       "array([28.67702326, 20.99384205, 24.56520905, 21.74908643,  9.29750698,\n",
       "       19.76788889, 20.32309607, 23.95564547, 39.70507689, 14.63289214,\n",
       "       22.42895526, 19.55944813, 17.13544373, 22.01555965,  8.47569872,\n",
       "       20.47925141, 10.69037906, 49.24844522, 31.13121457, 11.23120128,\n",
       "       19.10262427, 21.36962493, 20.65163007, 19.32027927, 33.97773218,\n",
       "       17.85094514, 20.35791638, 33.55453601, 14.02830125,  9.35948566,\n",
       "       14.22832395, 19.89535799,  9.20780135, 34.59189043, 22.20147329,\n",
       "       14.05742132, 26.47923956,  8.16403519, 11.60595557, 21.83846397,\n",
       "       37.92042933, 24.75817276, 24.73590542, 16.57272012, 33.89014746,\n",
       "       35.23571433, 10.38727541,  8.49865131, 25.46396504, 27.64293045,\n",
       "       13.93512681, 24.86022071, 17.32231365, 24.01825193, 19.37623815,\n",
       "       16.01237171, 19.2462116 , 13.59808006,  8.66202367, 18.29995373,\n",
       "       35.90199893, 31.68963749, 32.80612519, 21.00405971, 22.50983539,\n",
       "       24.06077744, 23.89185378, 12.49907347, 28.97200311, 13.75997948,\n",
       "       18.67060147, 26.52511234, 21.13249504, 11.23106117, 18.5215483 ,\n",
       "       18.6252465 , 27.03695095, 21.24252921, 15.34564573, 11.35147788,\n",
       "       19.51644724, 21.50454653, 17.85563779, 26.08748508, 24.42010381,\n",
       "       25.67474566, 47.80463638, 14.64467262, 10.13617825, 31.63023469,\n",
       "       29.70980276, 18.94842879, 45.7236768 , 25.31883986, 24.04116078,\n",
       "       20.57024537, 23.63521242, 45.66654078, 22.98344892, 19.65148572,\n",
       "       42.81379091, 33.93787458, 15.15024068, 24.86862862, 21.11771919,\n",
       "       23.92367641, 21.37743383, 21.89956589, 26.22009657, 25.85837835,\n",
       "       11.77510859, 20.26044782, 20.38497555, 10.42160131, 13.67069114,\n",
       "       25.33302028, 14.60209141, 34.4017294 , 14.96817373, 20.97406963,\n",
       "       16.70628454, 15.70813509, 20.96064469, 21.17687513, 13.17258448,\n",
       "       21.50748522, 24.65882469, 19.92936323, 14.16973929, 23.20734946,\n",
       "       22.00695302, 30.80289175, 22.09671829, 23.05005953, 14.91119656,\n",
       "       21.87494119, 35.66512458, 18.64250517, 23.5325492 , 23.73142546,\n",
       "       20.23186101, 16.58746133, 34.24265173, 24.65373511, 33.60576926,\n",
       "       16.7480076 , 31.57633418, 13.9793253 , 16.41956355, 12.68633537,\n",
       "       13.98560427, 41.60335715, 17.07847698, 14.97909707, 27.47417727,\n",
       "       21.96964485, 17.09152239, 32.57192521, 25.07315914, 23.6004478 ,\n",
       "       20.84886191, 23.91376991, 20.97790139, 10.73439537, 20.06587946,\n",
       "       26.01197105, 17.97295146, 13.35025266, 27.36993909, 15.04078246,\n",
       "       16.34692957, 27.70393401, 14.59500334, 19.97848013, 11.23120128,\n",
       "       13.24168484, 21.51244108, 20.07460551, 19.57175002, 22.59836597,\n",
       "       20.92435007, 24.41455869, 11.448675  , 34.89884253, 21.86859893,\n",
       "       49.06044646, 28.27609734, 31.57361778, 21.66970806, 15.84018562,\n",
       "       22.52921147, 25.95660251, 15.87918854, 23.7600057 , 50.30163772,\n",
       "       19.80627484,  7.7596396 , 35.09416627, 31.74904242, 20.4586768 ,\n",
       "       21.86781957, 17.43506728, 22.37822086, 20.43861398, 23.78463357,\n",
       "        7.0045788 , 20.07715715, 44.76903177, 48.96198362, 23.29613586,\n",
       "       25.14606162, 20.54049695, 20.89639137, 15.46427895, 17.53560529,\n",
       "       22.19119186, 26.31432728, 18.66581402, 12.81714143, 16.38990944,\n",
       "       32.806129  , 34.94633805, 20.47537296, 18.76043893, 22.13786958,\n",
       "        6.24755987, 22.15670859, 20.85676358, 14.44325904, 18.77928763,\n",
       "       21.29103789, 26.4569431 , 22.10213084, 40.04859438, 12.37592851,\n",
       "       34.71610405, 30.67174358, 20.74819033, 45.19968159, 20.52857434,\n",
       "       21.83540532, 25.62204252, 11.19502679, 21.11795148, 32.1308918 ,\n",
       "       22.05607546, 16.85230424, 37.81455016, 16.49782211, 26.92759612,\n",
       "       29.21050776, 35.8432353 , 20.7950814 , 16.48669629, 21.41765303,\n",
       "       29.86015367, 21.2494259 , 18.3283891 , 22.7173045 , 28.18900776,\n",
       "       21.63627016, 20.10151123, 18.81030472, 12.01635783,  9.70282244,\n",
       "       14.84782404, 17.9459719 , 26.69565132, 22.60780751, 11.30742605,\n",
       "       20.00035982, 29.82419007, 14.19545605, 24.7635678 , 14.93640235,\n",
       "       25.35729406, 23.47924037, 48.48857624, 17.38419865, 43.91198846,\n",
       "       26.44534956, 35.24516417, 21.14374627, 28.91720603, 49.03842784,\n",
       "       43.14202419, 20.91569174, 20.49015886, 27.19743371, 18.33075708,\n",
       "       23.05342453, 20.61738991, 28.30317502, 16.21752081, 32.39892071,\n",
       "       12.83849425, 11.06494326, 20.35551307, 34.6658558 , 31.50150537,\n",
       "       15.6315303 , 15.52303432, 21.86184772, 40.94059935, 16.93763054,\n",
       "       20.2674906 , 13.25654415, 24.13111973, 46.79789126, 23.68863307,\n",
       "       48.75966748, 23.18105627, 21.08513309, 15.39311611, 10.39831048,\n",
       "       17.80064114, 16.29329286,  9.69855976, 22.58905343, 23.90098494,\n",
       "       47.91982083, 20.97765254, 21.36378567, 34.81292848, 31.78867149,\n",
       "        8.4330411 , 23.60544094, 50.37701842, 12.05070686, 16.84456335,\n",
       "       24.67862543, 18.18764917, 10.10365233, 18.73078833, 36.22751252,\n",
       "       13.27072315, 21.68381222, 11.44786602, 21.56575339, 14.46957917,\n",
       "       14.60373036, 16.82527702, 31.39264614, 18.65347843, 31.42114054,\n",
       "       48.02763828, 50.24868584, 19.92817696, 17.90119564, 43.33415483,\n",
       "       17.27384849, 13.07421696, 15.30401105, 28.27324247, 17.30637891,\n",
       "       14.13206151, 23.49299681, 12.3966251 ,  5.51706217, 20.18614145,\n",
       "       15.64535979, 22.66664176,  9.0261739 , 24.62090564, 33.35782584,\n",
       "       20.34160828, 15.23584867, 14.81098674, 21.4729793 , 30.93810973,\n",
       "       24.58498959, 21.33310984, 18.97021506,  7.97063156, 22.8085537 ,\n",
       "       22.90835292, 22.32388061, 15.23346169, 23.85661332, 18.86729406,\n",
       "        9.05302041, 22.50436441, 19.5941679 , 29.35762365, 30.82739576,\n",
       "       22.45998672, 13.38900446, 25.96440153, 20.93477661, 24.21395333,\n",
       "       22.66387119, 27.66327546, 21.63810106, 32.09791174, 19.2105134 ,\n",
       "       19.24042044, 20.68850189, 48.75839259, 25.49978628, 18.63536933,\n",
       "       36.23135967, 20.38174534, 18.11907762, 20.6806434 ])"
      ]
     },
     "execution_count": 53,
     "metadata": {},
     "output_type": "execute_result"
    }
   ],
   "source": [
    "pre_train"
   ]
  },
  {
   "cell_type": "code",
   "execution_count": 42,
   "id": "393e59f7-2e22-4e5c-b7a9-e7c9e671f098",
   "metadata": {},
   "outputs": [
    {
     "data": {
      "text/plain": [
       "0.9772584284948597"
      ]
     },
     "execution_count": 42,
     "metadata": {},
     "output_type": "execute_result"
    }
   ],
   "source": [
    "mean_absolute_error(pre_train,y_train)"
   ]
  },
  {
   "cell_type": "code",
   "execution_count": 43,
   "id": "d337d359-ffff-4c9a-92d1-2c7bfc5cd292",
   "metadata": {},
   "outputs": [],
   "source": [
    "pre_test=model2.predict(x_test)"
   ]
  },
  {
   "cell_type": "code",
   "execution_count": 44,
   "id": "68c32abc-0cad-4062-b71c-5007acb7ad97",
   "metadata": {},
   "outputs": [
    {
     "data": {
      "text/plain": [
       "2.6775741262897275"
      ]
     },
     "execution_count": 44,
     "metadata": {},
     "output_type": "execute_result"
    }
   ],
   "source": [
    "mean_absolute_error(pre_test,y_test)"
   ]
  },
  {
   "cell_type": "code",
   "execution_count": null,
   "id": "e3604d78-60cb-4389-ad27-5cb78f81a145",
   "metadata": {},
   "outputs": [],
   "source": []
  },
  {
   "cell_type": "code",
   "execution_count": 48,
   "id": "b358bb44-0ee6-4e18-b180-8fcd464cdf5e",
   "metadata": {},
   "outputs": [
    {
     "data": {
      "text/plain": [
       "<matplotlib.collections.PathCollection at 0x1b0c1378970>"
      ]
     },
     "execution_count": 48,
     "metadata": {},
     "output_type": "execute_result"
    },
    {
     "data": {
      "image/png": "[encoded data removed]",
      "text/plain": [
       "<Figure size 432x288 with 1 Axes>"
      ]
     },
     "metadata": {
      "needs_background": "light"
     },
     "output_type": "display_data"
    }
   ],
   "source": [
    "plt.scatter(pre_test,y_test)"
   ]
  },
  {
   "cell_type": "code",
   "execution_count": 49,
   "id": "b89819d3-c29f-4756-8dd5-75081c8b7ab7",
   "metadata": {},
   "outputs": [
    {
     "data": {
      "text/plain": [
       "<matplotlib.collections.PathCollection at 0x1b0c13c4130>"
      ]
     },
     "execution_count": 49,
     "metadata": {},
     "output_type": "execute_result"
    },
    {
     "data": {
      "image/png": "[encoded data removed]",
      "text/plain": [
       "<Figure size 432x288 with 1 Axes>"
      ]
     },
     "metadata": {
      "needs_background": "light"
     },
     "output_type": "display_data"
    }
   ],
   "source": [
    "plt.scatter(pre_train,y_train)"
   ]
  },
  {
   "cell_type": "code",
   "execution_count": 51,
   "id": "e0d887be-f856-4616-a64e-9ac5e9913b3d",
   "metadata": {},
   "outputs": [],
   "source": [
    "real=x_train.iloc[0].values.reshape(1,-1)"
   ]
  },
  {
   "cell_type": "code",
   "execution_count": 52,
   "id": "a5fb80b5-fce8-4404-ae89-6be7d280d2b9",
   "metadata": {},
   "outputs": [
    {
     "name": "stderr",
     "output_type": "stream",
     "text": [
      "C:\\Users\\user\\anaconda3\\lib\\site-packages\\sklearn\\base.py:450: UserWarning: X does not have valid feature names, but GradientBoostingRegressor was fitted with feature names\n",
      "  warnings.warn(\n"
     ]
    },
    {
     "data": {
      "text/plain": [
       "array([28.67702326])"
      ]
     },
     "execution_count": 52,
     "metadata": {},
     "output_type": "execute_result"
    }
   ],
   "source": [
    "model2.predict(real)"
   ]
  },
  {
   "cell_type": "code",
   "execution_count": null,
   "id": "7607a759-a9aa-43ca-b197-308ffa09ee0d",
   "metadata": {},
   "outputs": [],
   "source": []
  }
 ],
 "metadata": {
  "kernelspec": {
   "display_name": "Python 3 (ipykernel)",
   "language": "python",
   "name": "python3"
  },
  "language_info": {
   "codemirror_mode": {
    "name": "ipython",
    "version": 3
   },
   "file_extension": ".py",
   "mimetype": "text/x-python",
   "name": "python",
   "nbconvert_exporter": "python",
   "pygments_lexer": "ipython3",
   "version": "3.9.12"
  }
 },
 "nbformat": 4,
 "nbformat_minor": 5
}
